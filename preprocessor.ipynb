{
 "cells": [
  {
   "cell_type": "code",
   "execution_count": 1,
   "metadata": {},
   "outputs": [],
   "source": [
    "import pandas as pd"
   ]
  },
  {
   "cell_type": "code",
   "execution_count": 2,
   "metadata": {},
   "outputs": [],
   "source": [
    "minerals = [\"Manganese\", \"Lithium\", \"Cobalt\", \"Nickel\"]\n",
    "path = \"./data/SPGlobal_MetalsAndMiningProperties-Combined-Dec-2024.xlsx\"\n",
    "with pd.ExcelWriter(path) as writer:\n",
    "    for mineral in minerals:\n",
    "        df = pd.read_excel(f\"SPGlobal_MetalsAndMiningProperties-{mineral}_13-Dec-2024.xls\", header=11)\n",
    "        df.replace({' ': pd.NA, 'NA': pd.NA}, inplace=True)\n",
    "        df.columns = df.columns.str.replace(r'[\\u00b2\\u00b3\\u00b9]', '', regex=True)\n",
    "        df.dropna(subset=\"Primary Reserves and Resources\", inplace = True)\n",
    "        \n",
    "        df.to_excel(writer, sheet_name=mineral, index=False)"
   ]
  }
 ],
 "metadata": {
  "kernelspec": {
   "display_name": "Python 3",
   "language": "python",
   "name": "python3"
  },
  "language_info": {
   "codemirror_mode": {
    "name": "ipython",
    "version": 3
   },
   "file_extension": ".py",
   "mimetype": "text/x-python",
   "name": "python",
   "nbconvert_exporter": "python",
   "pygments_lexer": "ipython3",
   "version": "3.12.4"
  }
 },
 "nbformat": 4,
 "nbformat_minor": 2
}

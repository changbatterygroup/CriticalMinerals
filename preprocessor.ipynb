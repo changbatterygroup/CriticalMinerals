{
 "cells": [
  {
   "cell_type": "code",
   "execution_count": 56,
   "metadata": {},
   "outputs": [],
   "source": [
    "\n",
    "import pandas as pd\n",
    "import os\n",
    "import re"
   ]
  },
  {
   "cell_type": "code",
   "execution_count": null,
   "metadata": {},
   "outputs": [
    {
     "data": {
      "text/plain": [
       "['SPGlobal_MetalsAndMiningProperties-Cobalt_13-Dec-2024.xls',\n",
       " 'SPGlobal_MetalsAndMiningProperties-Lanthanides_17-Mar-2025.xls',\n",
       " 'SPGlobal_MetalsAndMiningProperties-Lithium_13-Dec-2024.xls',\n",
       " 'SPGlobal_MetalsAndMiningProperties-Manganese_13-Dec-2024.xls',\n",
       " 'SPGlobal_MetalsAndMiningProperties-Nickel_13-Dec-2024.xls']"
      ]
     },
     "execution_count": 48,
     "metadata": {},
     "output_type": "execute_result"
    }
   ],
   "source": [
    "\n",
    "curr = os.listdir()\n",
    "paths = map(lambda x: re.search(r\"_\\d{1,2}-\\w{3}-\\d{4}.xls\", x), curr)\n",
    "raw_data = filter(lambda x: x[1] is not None,enumerate(paths))\n",
    "raw_data_indexes = map(lambda x: x[0], raw_data)\n",
    "raw_data_paths = list(map(lambda x: os.listdir()[x], raw_data_indexes))\n",
    "raw_data_paths"
   ]
  },
  {
   "cell_type": "code",
   "execution_count": 57,
   "metadata": {},
   "outputs": [],
   "source": [
    "minerals = list(map(lambda x: re.sub(\"[-_]\", \"\", re.search(r\"-\\w+_\", x).group(0)), raw_data_paths))\n",
    "path = \"./data/SPGlobal_MetalsAndMiningProperties-Combined-Dec-2024.xlsx\"\n",
    "with pd.ExcelWriter(path) as writer:\n",
    "    for mineral, path in zip(minerals, raw_data_paths):\n",
    "        df = pd.read_excel(path, header=11)\n",
    "        df.replace({' ': pd.NA, 'NA': pd.NA}, inplace=True)\n",
    "        df.columns = df.columns.str.replace(r'[\\u00b2\\u00b3\\u00b9]', '', regex=True)\n",
    "        df.dropna(subset=\"Primary Reserves and Resources\", inplace = True)\n",
    "        \n",
    "        df.to_excel(writer, sheet_name=mineral, index=False)"
   ]
  }
 ],
 "metadata": {
  "kernelspec": {
   "display_name": "Python 3",
   "language": "python",
   "name": "python3"
  },
  "language_info": {
   "codemirror_mode": {
    "name": "ipython",
    "version": 3
   },
   "file_extension": ".py",
   "mimetype": "text/x-python",
   "name": "python",
   "nbconvert_exporter": "python",
   "pygments_lexer": "ipython3",
   "version": "3.12.4"
  }
 },
 "nbformat": 4,
 "nbformat_minor": 2
}

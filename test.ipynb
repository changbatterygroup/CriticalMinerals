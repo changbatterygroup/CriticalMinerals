{
 "cells": [
  {
   "cell_type": "code",
   "execution_count": 1,
   "metadata": {},
   "outputs": [
    {
     "data": {
      "text/plain": [
       "<Response [403]>"
      ]
     },
     "execution_count": 1,
     "metadata": {},
     "output_type": "execute_result"
    }
   ],
   "source": [
    "import requests\n",
    "\n",
    "url = \"https://drexel0.sharepoint.com/:x:/r/sites/ChangLab/Shared%20Documents/General/Group/Data/Gigafactory%20and%20Mining%20Data/SPGlobal_MetalsAndMiningProperties-Combined-Dec-2024.xlsx?d=w5f13853f2ff744ca8d824eecbca8f245&csf=1&web=1&e=ICjBVN\"\n",
    "\n",
    "\n",
    "requests.get(url, allow_redirects=True)\n"
   ]
  }
 ],
 "metadata": {
  "kernelspec": {
   "display_name": "Python 3",
   "language": "python",
   "name": "python3"
  },
  "language_info": {
   "codemirror_mode": {
    "name": "ipython",
    "version": 3
   },
   "file_extension": ".py",
   "mimetype": "text/x-python",
   "name": "python",
   "nbconvert_exporter": "python",
   "pygments_lexer": "ipython3",
   "version": "3.12.4"
  }
 },
 "nbformat": 4,
 "nbformat_minor": 2
}

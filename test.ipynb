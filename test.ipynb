{
 "cells": [
  {
   "cell_type": "code",
   "execution_count": 72,
   "metadata": {},
   "outputs": [],
   "source": [
    "\n",
    "import pandas as pd\n",
    "\n"
   ]
  },
  {
   "cell_type": "code",
   "execution_count": 73,
   "metadata": {},
   "outputs": [],
   "source": [
    "df = pd.read_parquet('Assets/CombinedMiningData.parquet')\n",
    "df = df.groupby([\"Reserves & Resources As Of Date\", \"Primary Mineral\"], as_index = False)[\"Primary Reserves and Resources\"] \\\n",
    "        .agg(\"sum\")\n",
    "\n",
    "\n",
    "e = 'Cobalt'\n",
    "df_cobalt = df[df['Primary Mineral'] == e]\n",
    "df_cobalt.set_index('Reserves & Resources As Of Date', inplace=True)\n",
    "\n"
   ]
  },
  {
   "cell_type": "code",
   "execution_count": 74,
   "metadata": {},
   "outputs": [
    {
     "name": "stderr",
     "output_type": "stream",
     "text": [
      "/var/folders/n3/kkhdszw97tl8hc30cbvg04140000gn/T/ipykernel_12758/4248180102.py:8: FutureWarning: DataFrame.interpolate with object dtype is deprecated and will raise in a future version. Call obj.infer_objects(copy=False) before interpolating instead.\n",
      "  .interpolate(method='linear', limit_direction='both')\n"
     ]
    },
    {
     "data": {
      "application/vnd.microsoft.datawrangler.viewer.v0+json": {
       "columns": [
        {
         "name": "Reserves & Resources As Of Date",
         "rawType": "datetime64[ns]",
         "type": "datetime"
        },
        {
         "name": "Primary Mineral",
         "rawType": "object",
         "type": "string"
        },
        {
         "name": "Primary Reserves and Resources",
         "rawType": "float64",
         "type": "float"
        }
       ],
       "ref": "9b964494-7423-4844-af28-105b3ad42622",
       "rows": [
        [
         "2010-02-28 00:00:00",
         "Cobalt",
         "920.0"
        ],
        [
         "2010-03-31 00:00:00",
         "Cobalt",
         "9795.0"
        ],
        [
         "2010-04-30 00:00:00",
         "Cobalt",
         "18670.0"
        ],
        [
         "2010-05-31 00:00:00",
         "Cobalt",
         "9608.0"
        ],
        [
         "2010-06-30 00:00:00",
         "Cobalt",
         "546.0"
        ],
        [
         "2010-07-31 00:00:00",
         "Cobalt",
         "883.4"
        ],
        [
         "2010-08-31 00:00:00",
         "Cobalt",
         "1220.8"
        ],
        [
         "2010-09-30 00:00:00",
         "Cobalt",
         "1558.1999999999998"
        ],
        [
         "2010-10-31 00:00:00",
         "Cobalt",
         "1895.6"
        ],
        [
         "2010-11-30 00:00:00",
         "Cobalt",
         "2233.0"
        ],
        [
         "2010-12-31 00:00:00",
         "Cobalt",
         "1969.3333333333333"
        ],
        [
         "2011-01-31 00:00:00",
         "Cobalt",
         "1705.6666666666665"
        ],
        [
         "2011-02-28 00:00:00",
         "Cobalt",
         "1442.0"
        ],
        [
         "2011-03-31 00:00:00",
         "Cobalt",
         "1178.3333333333333"
        ],
        [
         "2011-04-30 00:00:00",
         "Cobalt",
         "914.6666666666665"
        ],
        [
         "2011-05-31 00:00:00",
         "Cobalt",
         "651.0"
        ],
        [
         "2011-06-30 00:00:00",
         "Cobalt",
         "4370.9"
        ],
        [
         "2011-07-31 00:00:00",
         "Cobalt",
         "8090.8"
        ],
        [
         "2011-08-31 00:00:00",
         "Cobalt",
         "11810.7"
        ],
        [
         "2011-09-30 00:00:00",
         "Cobalt",
         "15530.6"
        ],
        [
         "2011-10-31 00:00:00",
         "Cobalt",
         "19250.5"
        ],
        [
         "2011-11-30 00:00:00",
         "Cobalt",
         "22970.4"
        ],
        [
         "2011-12-31 00:00:00",
         "Cobalt",
         "26690.3"
        ],
        [
         "2012-01-31 00:00:00",
         "Cobalt",
         "30410.2"
        ],
        [
         "2012-02-29 00:00:00",
         "Cobalt",
         "34130.1"
        ],
        [
         "2012-03-31 00:00:00",
         "Cobalt",
         "37850.0"
        ],
        [
         "2012-04-30 00:00:00",
         "Cobalt",
         "74020.0"
        ],
        [
         "2012-05-31 00:00:00",
         "Cobalt",
         "110190.0"
        ],
        [
         "2012-06-30 00:00:00",
         "Cobalt",
         "146360.0"
        ],
        [
         "2012-07-31 00:00:00",
         "Cobalt",
         "26400.0"
        ],
        [
         "2012-08-31 00:00:00",
         "Cobalt",
         "27821.5"
        ],
        [
         "2012-09-30 00:00:00",
         "Cobalt",
         "29243.0"
        ],
        [
         "2012-10-31 00:00:00",
         "Cobalt",
         "20471.5"
        ],
        [
         "2012-11-30 00:00:00",
         "Cobalt",
         "11700.0"
        ],
        [
         "2012-12-31 00:00:00",
         "Cobalt",
         "94673.0"
        ],
        [
         "2013-01-31 00:00:00",
         "Cobalt",
         "56336.5"
        ],
        [
         "2013-02-28 00:00:00",
         "Cobalt",
         "18000.0"
        ],
        [
         "2013-03-31 00:00:00",
         "Cobalt",
         "21283.333333333332"
        ],
        [
         "2013-04-30 00:00:00",
         "Cobalt",
         "24566.666666666668"
        ],
        [
         "2013-05-31 00:00:00",
         "Cobalt",
         "27850.0"
        ],
        [
         "2013-06-30 00:00:00",
         "Cobalt",
         "31133.333333333336"
        ],
        [
         "2013-07-31 00:00:00",
         "Cobalt",
         "34416.66666666667"
        ],
        [
         "2013-08-31 00:00:00",
         "Cobalt",
         "37700.0"
        ],
        [
         "2013-09-30 00:00:00",
         "Cobalt",
         "19982.0"
        ],
        [
         "2013-10-31 00:00:00",
         "Cobalt",
         "2264.0"
        ],
        [
         "2013-11-30 00:00:00",
         "Cobalt",
         "192902.0"
        ],
        [
         "2013-12-31 00:00:00",
         "Cobalt",
         "383540.0"
        ],
        [
         "2014-01-31 00:00:00",
         "Cobalt",
         "306217.25"
        ],
        [
         "2014-02-28 00:00:00",
         "Cobalt",
         "228894.5"
        ],
        [
         "2014-03-31 00:00:00",
         "Cobalt",
         "151571.75"
        ]
       ],
       "shape": {
        "columns": 2,
        "rows": 179
       }
      },
      "text/html": [
       "<div>\n",
       "<style scoped>\n",
       "    .dataframe tbody tr th:only-of-type {\n",
       "        vertical-align: middle;\n",
       "    }\n",
       "\n",
       "    .dataframe tbody tr th {\n",
       "        vertical-align: top;\n",
       "    }\n",
       "\n",
       "    .dataframe thead th {\n",
       "        text-align: right;\n",
       "    }\n",
       "</style>\n",
       "<table border=\"1\" class=\"dataframe\">\n",
       "  <thead>\n",
       "    <tr style=\"text-align: right;\">\n",
       "      <th></th>\n",
       "      <th>Primary Mineral</th>\n",
       "      <th>Primary Reserves and Resources</th>\n",
       "    </tr>\n",
       "    <tr>\n",
       "      <th>Reserves &amp; Resources As Of Date</th>\n",
       "      <th></th>\n",
       "      <th></th>\n",
       "    </tr>\n",
       "  </thead>\n",
       "  <tbody>\n",
       "    <tr>\n",
       "      <th>2010-02-28</th>\n",
       "      <td>Cobalt</td>\n",
       "      <td>920.0</td>\n",
       "    </tr>\n",
       "    <tr>\n",
       "      <th>2010-03-31</th>\n",
       "      <td>Cobalt</td>\n",
       "      <td>9795.0</td>\n",
       "    </tr>\n",
       "    <tr>\n",
       "      <th>2010-04-30</th>\n",
       "      <td>Cobalt</td>\n",
       "      <td>18670.0</td>\n",
       "    </tr>\n",
       "    <tr>\n",
       "      <th>2010-05-31</th>\n",
       "      <td>Cobalt</td>\n",
       "      <td>9608.0</td>\n",
       "    </tr>\n",
       "    <tr>\n",
       "      <th>2010-06-30</th>\n",
       "      <td>Cobalt</td>\n",
       "      <td>546.0</td>\n",
       "    </tr>\n",
       "    <tr>\n",
       "      <th>...</th>\n",
       "      <td>...</td>\n",
       "      <td>...</td>\n",
       "    </tr>\n",
       "    <tr>\n",
       "      <th>2024-08-31</th>\n",
       "      <td>Cobalt</td>\n",
       "      <td>316353.0</td>\n",
       "    </tr>\n",
       "    <tr>\n",
       "      <th>2024-09-30</th>\n",
       "      <td>Cobalt</td>\n",
       "      <td>52000.0</td>\n",
       "    </tr>\n",
       "    <tr>\n",
       "      <th>2024-10-31</th>\n",
       "      <td>Cobalt</td>\n",
       "      <td>1449.0</td>\n",
       "    </tr>\n",
       "    <tr>\n",
       "      <th>2024-11-30</th>\n",
       "      <td>Cobalt</td>\n",
       "      <td>3524.5</td>\n",
       "    </tr>\n",
       "    <tr>\n",
       "      <th>2024-12-31</th>\n",
       "      <td>Cobalt</td>\n",
       "      <td>5600.0</td>\n",
       "    </tr>\n",
       "  </tbody>\n",
       "</table>\n",
       "<p>179 rows × 2 columns</p>\n",
       "</div>"
      ],
      "text/plain": [
       "                                Primary Mineral  \\\n",
       "Reserves & Resources As Of Date                   \n",
       "2010-02-28                               Cobalt   \n",
       "2010-03-31                               Cobalt   \n",
       "2010-04-30                               Cobalt   \n",
       "2010-05-31                               Cobalt   \n",
       "2010-06-30                               Cobalt   \n",
       "...                                         ...   \n",
       "2024-08-31                               Cobalt   \n",
       "2024-09-30                               Cobalt   \n",
       "2024-10-31                               Cobalt   \n",
       "2024-11-30                               Cobalt   \n",
       "2024-12-31                               Cobalt   \n",
       "\n",
       "                                 Primary Reserves and Resources  \n",
       "Reserves & Resources As Of Date                                  \n",
       "2010-02-28                                                920.0  \n",
       "2010-03-31                                               9795.0  \n",
       "2010-04-30                                              18670.0  \n",
       "2010-05-31                                               9608.0  \n",
       "2010-06-30                                                546.0  \n",
       "...                                                         ...  \n",
       "2024-08-31                                             316353.0  \n",
       "2024-09-30                                              52000.0  \n",
       "2024-10-31                                               1449.0  \n",
       "2024-11-30                                               3524.5  \n",
       "2024-12-31                                               5600.0  \n",
       "\n",
       "[179 rows x 2 columns]"
      ]
     },
     "execution_count": 74,
     "metadata": {},
     "output_type": "execute_result"
    }
   ],
   "source": [
    "data = (df_cobalt.resample('ME')\n",
    " \n",
    " .agg({'Primary Mineral': 'first','Primary Reserves and Resources': 'sum'})\n",
    " \n",
    " .replace(0, None)\n",
    " .fillna({'Primary Mineral': e})\n",
    " .infer_objects(copy=False)\n",
    " .interpolate(method='linear', limit_direction='both')\n",
    ")\n",
    "\n",
    "data"
   ]
  },
  {
   "cell_type": "code",
   "execution_count": 75,
   "metadata": {},
   "outputs": [
    {
     "data": {
      "image/png": "[encoded data removed]",
      "text/plain": [
       "<Figure size 640x480 with 1 Axes>"
      ]
     },
     "metadata": {},
     "output_type": "display_data"
    }
   ],
   "source": [
    "import statsmodels.api as sm\n",
    "import matplotlib.pyplot as plt\n",
    "\n",
    "\n",
    "f = sm.tsa.ExponentialSmoothing(data[\"Primary Reserves and Resources\"], trend='additive', seasonal='multiplicative') \\\n",
    "        .fit(optimized=False, smoothing_level=1, smoothing_trend=0.3, smoothing_seasonal=0.1)\n",
    "\n",
    "plt.plot(data[\"Primary Reserves and Resources\"], label='Original Data')\n",
    "# plt.plot(f.fittedvalues)\n",
    "# plt.plot(f.forecast(12*3), label='Forecast', linestyle='--')\n",
    "plt.show()"
   ]
  }
 ],
 "metadata": {
  "kernelspec": {
   "display_name": ".venv",
   "language": "python",
   "name": "python3"
  },
  "language_info": {
   "codemirror_mode": {
    "name": "ipython",
    "version": 3
   },
   "file_extension": ".py",
   "mimetype": "text/x-python",
   "name": "python",
   "nbconvert_exporter": "python",
   "pygments_lexer": "ipython3",
   "version": "3.11.5"
  }
 },
 "nbformat": 4,
 "nbformat_minor": 2
}

{
 "cells": [
  {
   "cell_type": "code",
   "execution_count": 1,
   "id": "9c40546e-fc94-46f1-8061-c1e43b080e1e",
   "metadata": {},
   "outputs": [],
   "source": [
    "import pandas as pd\n",
    "import matplotlib.pyplot as plt\n",
    "import numpy as np"
   ]
  },
  {
   "cell_type": "code",
   "execution_count": 2,
   "id": "575c26f1-2f66-4d6b-9179-74c9d1670f17",
   "metadata": {},
   "outputs": [],
   "source": [
    "minerals = [\"Manganese\", \"Lithium\", \"Cobalt\", \"Nickel\"]"
   ]
  },
  {
   "cell_type": "code",
   "execution_count": 3,
   "id": "d1ea7220-eaa4-46c1-bd0b-c9bc8a76ebad",
   "metadata": {},
   "outputs": [],
   "source": [
    "top_reserves_by_mineral = pd.read_csv(\"ReservesByMineral.csv\")\n",
    "reserves_totals = top_reserves_by_mineral.groupby('Mineral', as_index=False)[\"Aggregate Reserves & Resources (tonnes)\"].agg('sum')"
   ]
  },
  {
   "cell_type": "code",
   "execution_count": 4,
   "id": "e69b0628-135e-49f3-a72d-91329b815a69",
   "metadata": {},
   "outputs": [
    {
     "data": {
      "image/png": "[encoded data removed]",
      "text/plain": [
       "<Figure size 640x480 with 1 Axes>"
      ]
     },
     "metadata": {},
     "output_type": "display_data"
    }
   ],
   "source": [
    "plt.figure()\n",
    "plt.barh(y = reserves_totals['Mineral'], width = reserves_totals[\"Aggregate Reserves & Resources (tonnes)\"])\n",
    "plt.title(\"Aggregate Reserves (Based on top 10 countries)\")\n",
    "plt.xlabel(\"Total Reserves\")\n",
    "plt.ylabel(\"Mineral\")\n",
    "plt.show()"
   ]
  },
  {
   "cell_type": "code",
   "execution_count": 155,
   "id": "6c7902cf-278c-4a6a-9d97-703592d1891b",
   "metadata": {},
   "outputs": [
    {
     "data": {
      "text/plain": [
       "Index(['Metals & Mining Properties', 'Unnamed: 1', 'Unnamed: 2', 'Unnamed: 3',\n",
       "       'Unnamed: 4', 'Unnamed: 5', 'Unnamed: 6', 'Unnamed: 7', 'Unnamed: 8',\n",
       "       'Unnamed: 9', 'Unnamed: 10', 'Unnamed: 11'],\n",
       "      dtype='object')"
      ]
     },
     "execution_count": 155,
     "metadata": {},
     "output_type": "execute_result"
    }
   ],
   "source": [
    "data.columns"
   ]
  },
  {
   "cell_type": "code",
   "execution_count": 163,
   "id": "13cbfa42-2c62-477f-af9a-53b6ebe7fa67",
   "metadata": {
    "scrolled": true
   },
   "outputs": [
    {
     "name": "stdout",
     "output_type": "stream",
     "text": [
      "Read Manganese\n",
      "Read Lithium\n",
      "Read Cobalt\n",
      "Read Nickel\n"
     ]
    }
   ],
   "source": [
    "import re\n",
    "combined = None\n",
    "for i, mineral in enumerate(minerals):\n",
    "    \n",
    "    data = pd.read_excel(\"SPGlobal_MetalsAndMiningProperties-Nov-2024.xls\", sheet_name = mineral, header=1)\n",
    "    print(f\"Read {mineral}\")\n",
    "\n",
    "    data.dropna(subset=\"Primary Reserves and Resources\", inplace = True)\n",
    "    data[\"Reserves & Resources As Of Date\"] = pd.to_datetime(data[\"Reserves & Resources As Of Date\"])\n",
    "    data[\"Primary Mineral\"] = mineral\n",
    "    \n",
    "    if i == 0:\n",
    "        combined = data\n",
    "        continue\n",
    "    \n",
    "    combined = pd.concat([combined, data], ignore_index=True)\n",
    "    \n",
    "    "
   ]
  },
  {
   "cell_type": "code",
   "execution_count": 165,
   "id": "a4ec933d-6456-4205-a752-349980bca7d0",
   "metadata": {},
   "outputs": [],
   "source": [
    "import plotly.express as px"
   ]
  },
  {
   "cell_type": "code",
   "execution_count": 166,
   "id": "0fbfffe3-9b63-4d3f-be21-38f001f97ebc",
   "metadata": {},
   "outputs": [
    {
     "data": {
      "application/vnd.plotly.v1+json": {
       "config": {
        "plotlyServerURL": "https://plot.ly"
       },
       "data": [
        {
         "hovertemplate": "Primary Mineral=Lithium<br>Reserves & Resources As Of Date=%{x}<br>Primary Reserves and Resources=%{y}<extra></extra>",
         "legendgroup": "",
         "line": {
          "color": "#636efa",
          "dash": "solid"
         },
         "marker": {
          "symbol": "circle"
         },
         "mode": "lines",
         "name": "",
         "orientation": "v",
         "showlegend": false,
         "type": "scatter",
         "x": [
          "2020-04-02T00:00:00",
          "2020-06-22T00:00:00",
          "2021-06-04T00:00:00",
          "2021-08-20T00:00:00",
          "2021-09-09T00:00:00",
          "2021-09-20T00:00:00",
          "2021-10-30T00:00:00",
          "2021-11-30T00:00:00",
          "2021-12-14T00:00:00",
          "2021-12-21T00:00:00",
          "2021-12-31T00:00:00",
          "2022-02-21T00:00:00",
          "2022-06-17T00:00:00",
          "2022-07-01T00:00:00",
          "2022-07-31T00:00:00",
          "2022-10-06T00:00:00",
          "2022-10-12T00:00:00",
          "2022-11-02T00:00:00",
          "2022-12-15T00:00:00",
          "2022-12-20T00:00:00",
          "2022-12-30T00:00:00",
          "2022-12-31T00:00:00",
          "2023-01-23T00:00:00",
          "2023-02-02T00:00:00",
          "2023-02-06T00:00:00",
          "2023-02-16T00:00:00",
          "2023-02-27T00:00:00",
          "2023-02-28T00:00:00",
          "2023-03-09T00:00:00",
          "2023-03-27T00:00:00",
          "2023-04-01T00:00:00",
          "2023-04-30T00:00:00",
          "2023-05-02T00:00:00",
          "2023-05-05T00:00:00",
          "2023-05-18T00:00:00",
          "2023-05-31T00:00:00",
          "2023-06-12T00:00:00",
          "2023-06-30T00:00:00",
          "2023-07-12T00:00:00",
          "2023-07-17T00:00:00",
          "2023-08-01T00:00:00",
          "2023-08-03T00:00:00",
          "2023-08-06T00:00:00",
          "2023-08-07T00:00:00",
          "2023-08-14T00:00:00",
          "2023-08-18T00:00:00",
          "2023-08-23T00:00:00",
          "2023-08-24T00:00:00",
          "2023-09-05T00:00:00",
          "2023-09-18T00:00:00",
          "2023-09-29T00:00:00",
          "2023-09-30T00:00:00",
          "2023-10-01T00:00:00",
          "2023-10-16T00:00:00",
          "2023-10-17T00:00:00",
          "2023-10-25T00:00:00",
          "2023-10-31T00:00:00",
          "2023-11-01T00:00:00",
          "2023-11-02T00:00:00",
          "2023-11-14T00:00:00",
          "2023-11-17T00:00:00",
          "2023-11-22T00:00:00",
          "2023-12-13T00:00:00",
          "2023-12-18T00:00:00",
          "2023-12-19T00:00:00",
          "2023-12-21T00:00:00",
          "2023-12-27T00:00:00",
          "2023-12-31T00:00:00",
          "2024-01-01T00:00:00",
          "2024-01-04T00:00:00",
          "2024-01-15T00:00:00",
          "2024-01-22T00:00:00",
          "2024-01-29T00:00:00",
          "2024-01-31T00:00:00",
          "2024-02-20T00:00:00",
          "2024-02-22T00:00:00",
          "2024-03-13T00:00:00",
          "2024-03-26T00:00:00",
          "2024-03-31T00:00:00",
          "2024-04-18T00:00:00",
          "2024-04-19T00:00:00",
          "2024-04-29T00:00:00",
          "2024-05-08T00:00:00",
          "2024-05-15T00:00:00",
          "2024-05-23T00:00:00",
          "2024-05-27T00:00:00",
          "2024-05-28T00:00:00",
          "2024-05-30T00:00:00",
          "2024-05-31T00:00:00",
          "2024-06-05T00:00:00",
          "2024-06-12T00:00:00",
          "2024-06-20T00:00:00",
          "2024-06-24T00:00:00",
          "2024-06-28T00:00:00",
          "2024-06-30T00:00:00",
          "2024-07-09T00:00:00",
          "2024-07-30T00:00:00",
          "2024-08-20T00:00:00",
          "2024-08-21T00:00:00",
          "2024-08-27T00:00:00",
          "2024-09-01T00:00:00",
          "2024-09-24T00:00:00",
          "2024-10-01T00:00:00",
          "2024-10-14T00:00:00",
          "2024-10-22T00:00:00"
         ],
         "xaxis": "x3",
         "y": [
          241200,
          276900,
          3282000,
          8358700,
          228000,
          2990000,
          775200,
          777560,
          475000,
          1167000,
          2477990,
          7328560,
          846000,
          129000,
          135300,
          4300000,
          3080,
          7700000,
          180000,
          129000,
          680000,
          29585613,
          4280,
          59833,
          587000,
          37294,
          8686000,
          881052,
          2700,
          172600,
          124000,
          4704682,
          448328,
          86000,
          2591900,
          3900,
          293400,
          20208337,
          90896,
          2742746,
          299000,
          85680,
          119000,
          175000,
          105280,
          1874000,
          71700,
          371416,
          640000,
          185000,
          11217188,
          988361,
          93482,
          607600,
          173000,
          1419706,
          4309684,
          555895,
          66500,
          337300,
          105006,
          4300580,
          2545000,
          308000,
          58000,
          933909,
          246000,
          27437968,
          6108480,
          150800,
          3159955,
          13490000,
          13400,
          880000,
          766310,
          2477800,
          122368,
          3180000,
          2514000,
          843000,
          2978888,
          2697332,
          1069000,
          1762248,
          1028180,
          432280,
          892840,
          948900,
          3690000,
          1076200,
          514000,
          6936846,
          8774405,
          180000,
          7342900,
          1900000,
          455000,
          2500,
          1970000,
          2118300,
          75700,
          4460000,
          506000,
          131627,
          1337000
         ],
         "yaxis": "y3"
        },
        {
         "hovertemplate": "Primary Mineral=Cobalt<br>Reserves & Resources As Of Date=%{x}<br>Primary Reserves and Resources=%{y}<extra></extra>",
         "legendgroup": "",
         "line": {
          "color": "#636efa",
          "dash": "solid"
         },
         "marker": {
          "symbol": "circle"
         },
         "mode": "lines",
         "name": "",
         "orientation": "v",
         "showlegend": false,
         "type": "scatter",
         "x": [
          "2020-04-22T00:00:00",
          "2020-05-28T00:00:00",
          "2020-06-05T00:00:00",
          "2020-06-30T00:00:00",
          "2020-09-27T00:00:00",
          "2020-11-17T00:00:00",
          "2020-11-30T00:00:00",
          "2020-12-31T00:00:00",
          "2021-03-31T00:00:00",
          "2021-06-30T00:00:00",
          "2021-07-01T00:00:00",
          "2021-09-14T00:00:00",
          "2021-09-30T00:00:00",
          "2021-10-07T00:00:00",
          "2021-10-30T00:00:00",
          "2021-11-09T00:00:00",
          "2021-12-13T00:00:00",
          "2021-12-31T00:00:00",
          "2022-01-01T00:00:00",
          "2022-01-28T00:00:00",
          "2022-01-31T00:00:00",
          "2022-02-14T00:00:00",
          "2022-03-02T00:00:00",
          "2022-04-25T00:00:00",
          "2022-05-17T00:00:00",
          "2022-05-25T00:00:00",
          "2022-05-31T00:00:00",
          "2022-06-01T00:00:00",
          "2022-06-13T00:00:00",
          "2022-07-06T00:00:00",
          "2022-07-19T00:00:00",
          "2022-08-10T00:00:00",
          "2022-08-20T00:00:00",
          "2022-08-26T00:00:00",
          "2022-09-01T00:00:00",
          "2022-09-11T00:00:00",
          "2022-09-20T00:00:00",
          "2022-10-10T00:00:00",
          "2022-10-13T00:00:00",
          "2022-10-21T00:00:00",
          "2022-10-31T00:00:00",
          "2022-11-18T00:00:00",
          "2022-12-05T00:00:00",
          "2022-12-12T00:00:00",
          "2022-12-16T00:00:00",
          "2022-12-31T00:00:00",
          "2023-01-20T00:00:00",
          "2023-01-23T00:00:00",
          "2023-01-27T00:00:00",
          "2023-01-31T00:00:00",
          "2023-02-02T00:00:00",
          "2023-02-27T00:00:00",
          "2023-03-01T00:00:00",
          "2023-03-07T00:00:00",
          "2023-03-08T00:00:00",
          "2023-03-15T00:00:00",
          "2023-03-21T00:00:00",
          "2023-03-30T00:00:00",
          "2023-04-05T00:00:00",
          "2023-04-26T00:00:00",
          "2023-05-04T00:00:00",
          "2023-05-07T00:00:00",
          "2023-05-31T00:00:00",
          "2023-06-07T00:00:00",
          "2023-06-09T00:00:00",
          "2023-06-27T00:00:00",
          "2023-06-30T00:00:00",
          "2023-07-05T00:00:00",
          "2023-07-19T00:00:00",
          "2023-07-25T00:00:00",
          "2023-08-07T00:00:00",
          "2023-08-12T00:00:00",
          "2023-08-31T00:00:00",
          "2023-09-01T00:00:00",
          "2023-09-22T00:00:00",
          "2023-10-02T00:00:00",
          "2023-10-16T00:00:00",
          "2023-10-24T00:00:00",
          "2023-10-26T00:00:00",
          "2023-11-20T00:00:00",
          "2023-11-26T00:00:00",
          "2023-11-30T00:00:00",
          "2023-12-23T00:00:00",
          "2023-12-31T00:00:00",
          "2024-01-19T00:00:00",
          "2024-01-29T00:00:00",
          "2024-02-01T00:00:00",
          "2024-02-12T00:00:00",
          "2024-02-26T00:00:00",
          "2024-03-02T00:00:00",
          "2024-03-05T00:00:00",
          "2024-03-11T00:00:00",
          "2024-03-21T00:00:00",
          "2024-03-24T00:00:00",
          "2024-03-30T00:00:00",
          "2024-03-31T00:00:00",
          "2024-04-01T00:00:00",
          "2024-04-04T00:00:00",
          "2024-04-14T00:00:00",
          "2024-04-15T00:00:00",
          "2024-04-23T00:00:00",
          "2024-06-11T00:00:00",
          "2024-06-28T00:00:00",
          "2024-06-30T00:00:00",
          "2024-07-16T00:00:00",
          "2024-07-17T00:00:00",
          "2024-07-25T00:00:00",
          "2024-08-05T00:00:00",
          "2024-08-26T00:00:00",
          "2024-08-28T00:00:00",
          "2024-09-05T00:00:00",
          "2024-09-17T00:00:00",
          "2024-09-23T00:00:00",
          "2024-10-01T00:00:00"
         ],
         "xaxis": "x4",
         "y": [
          11803,
          83,
          20200,
          26700,
          168000,
          3506,
          300000,
          3107400,
          597,
          42844,
          257000,
          3719,
          5300,
          8550,
          13400,
          1463,
          2646,
          4536,
          263800,
          19800,
          2183,
          381,
          2132,
          6123,
          66000,
          8300,
          4417,
          109456,
          46400,
          544,
          2200,
          631,
          3500,
          5172,
          82,
          270000,
          300,
          5974,
          8000,
          6759,
          1707,
          1800,
          4060,
          3115,
          400,
          545105,
          41322,
          3100,
          9268,
          2052,
          1640,
          6700,
          5960,
          5658,
          660,
          82800,
          7711,
          2337,
          90,
          40500,
          2982,
          782,
          29500,
          4844,
          108239,
          1889,
          66292,
          311000,
          79469,
          342,
          30,
          783,
          552200,
          14000,
          345000,
          26600,
          50,
          65200,
          14400,
          23000,
          3700,
          137733,
          1905200,
          10387849,
          5268,
          2913,
          5299,
          285763,
          32800,
          1560,
          37700,
          40000,
          19051,
          897,
          3300,
          30549,
          182600,
          5840,
          135000,
          9890,
          95900,
          1468,
          33011,
          21200,
          4444,
          46600,
          53977,
          36600,
          174000,
          105753,
          1730,
          13000,
          52000,
          1449
         ],
         "yaxis": "y4"
        },
        {
         "hovertemplate": "Primary Mineral=Nickel<br>Reserves & Resources As Of Date=%{x}<br>Primary Reserves and Resources=%{y}<extra></extra>",
         "legendgroup": "",
         "line": {
          "color": "#636efa",
          "dash": "solid"
         },
         "marker": {
          "symbol": "circle"
         },
         "mode": "lines",
         "name": "",
         "orientation": "v",
         "showlegend": false,
         "type": "scatter",
         "x": [
          "2020-04-22T00:00:00",
          "2020-05-28T00:00:00",
          "2020-09-27T00:00:00",
          "2020-10-27T00:00:00",
          "2020-11-17T00:00:00",
          "2020-11-30T00:00:00",
          "2020-12-31T00:00:00",
          "2021-06-30T00:00:00",
          "2021-09-14T00:00:00",
          "2021-09-30T00:00:00",
          "2021-10-07T00:00:00",
          "2021-10-30T00:00:00",
          "2021-11-09T00:00:00",
          "2021-12-13T00:00:00",
          "2021-12-16T00:00:00",
          "2021-12-31T00:00:00",
          "2022-01-03T00:00:00",
          "2022-01-26T00:00:00",
          "2022-01-28T00:00:00",
          "2022-01-31T00:00:00",
          "2022-03-02T00:00:00",
          "2022-04-25T00:00:00",
          "2022-05-17T00:00:00",
          "2022-05-25T00:00:00",
          "2022-05-31T00:00:00",
          "2022-06-01T00:00:00",
          "2022-06-07T00:00:00",
          "2022-06-13T00:00:00",
          "2022-06-30T00:00:00",
          "2022-07-06T00:00:00",
          "2022-07-19T00:00:00",
          "2022-08-10T00:00:00",
          "2022-08-15T00:00:00",
          "2022-09-01T00:00:00",
          "2022-09-11T00:00:00",
          "2022-09-12T00:00:00",
          "2022-09-20T00:00:00",
          "2022-10-10T00:00:00",
          "2022-10-21T00:00:00",
          "2022-10-24T00:00:00",
          "2022-10-28T00:00:00",
          "2022-10-31T00:00:00",
          "2022-11-14T00:00:00",
          "2022-12-12T00:00:00",
          "2022-12-16T00:00:00",
          "2022-12-31T00:00:00",
          "2023-01-13T00:00:00",
          "2023-01-20T00:00:00",
          "2023-01-23T00:00:00",
          "2023-01-31T00:00:00",
          "2023-02-02T00:00:00",
          "2023-02-27T00:00:00",
          "2023-03-01T00:00:00",
          "2023-03-07T00:00:00",
          "2023-03-15T00:00:00",
          "2023-03-30T00:00:00",
          "2023-03-31T00:00:00",
          "2023-04-13T00:00:00",
          "2023-04-26T00:00:00",
          "2023-05-01T00:00:00",
          "2023-05-31T00:00:00",
          "2023-06-07T00:00:00",
          "2023-06-09T00:00:00",
          "2023-06-30T00:00:00",
          "2023-07-05T00:00:00",
          "2023-07-19T00:00:00",
          "2023-08-07T00:00:00",
          "2023-08-12T00:00:00",
          "2023-08-31T00:00:00",
          "2023-09-01T00:00:00",
          "2023-09-06T00:00:00",
          "2023-09-22T00:00:00",
          "2023-10-02T00:00:00",
          "2023-10-15T00:00:00",
          "2023-10-16T00:00:00",
          "2023-10-22T00:00:00",
          "2023-10-24T00:00:00",
          "2023-10-26T00:00:00",
          "2023-11-20T00:00:00",
          "2023-11-26T00:00:00",
          "2023-11-30T00:00:00",
          "2023-12-31T00:00:00",
          "2024-01-01T00:00:00",
          "2024-01-08T00:00:00",
          "2024-01-19T00:00:00",
          "2024-01-29T00:00:00",
          "2024-02-12T00:00:00",
          "2024-02-16T00:00:00",
          "2024-02-26T00:00:00",
          "2024-03-02T00:00:00",
          "2024-03-05T00:00:00",
          "2024-03-11T00:00:00",
          "2024-03-18T00:00:00",
          "2024-03-21T00:00:00",
          "2024-03-24T00:00:00",
          "2024-03-30T00:00:00",
          "2024-03-31T00:00:00",
          "2024-04-01T00:00:00",
          "2024-04-14T00:00:00",
          "2024-04-15T00:00:00",
          "2024-04-23T00:00:00",
          "2024-06-11T00:00:00",
          "2024-06-30T00:00:00",
          "2024-07-16T00:00:00",
          "2024-07-17T00:00:00",
          "2024-08-05T00:00:00",
          "2024-08-26T00:00:00",
          "2024-08-28T00:00:00",
          "2024-08-31T00:00:00",
          "2024-09-05T00:00:00",
          "2024-09-23T00:00:00",
          "2024-10-01T00:00:00"
         ],
         "xaxis": "x",
         "y": [
          144378,
          15,
          935000,
          360000,
          80331,
          3879920,
          21561000,
          795391,
          31706,
          116800,
          185448,
          485800,
          68900,
          50439,
          334878,
          1193080,
          70000,
          2666214,
          1093000,
          31809,
          15286,
          110223,
          891000,
          28000,
          76611,
          2726000,
          1341800,
          394300,
          200000,
          48398,
          11900,
          20995,
          134100,
          3625,
          3700000,
          907,
          5700,
          217724,
          254000,
          58000,
          56000,
          1435,
          61726,
          102527,
          7200,
          8271700,
          195884,
          476725,
          66400,
          115719,
          27400,
          168400,
          154900,
          24031,
          41200,
          84240,
          127000,
          6000,
          283000,
          38600,
          570000,
          222191,
          2435240,
          1284960,
          5079000,
          1435029,
          2200,
          16577,
          9761600,
          216900,
          4548000,
          5702000,
          157500,
          1080000,
          2370,
          194179,
          971000,
          185000,
          90000,
          59100,
          1824964,
          64279690,
          58990000,
          35000,
          67005,
          190335,
          3675002,
          30029,
          50700,
          23100,
          614200,
          862800,
          391885,
          334751,
          34876,
          49700,
          40700,
          2640800,
          3429000,
          283800,
          965000,
          113600,
          12844273,
          7101,
          1087200,
          1204400,
          2321000,
          1697505,
          737700,
          6000,
          561000,
          54505
         ],
         "yaxis": "y"
        },
        {
         "hovertemplate": "Primary Mineral=Manganese<br>Reserves & Resources As Of Date=%{x}<br>Primary Reserves and Resources=%{y}<extra></extra>",
         "legendgroup": "",
         "line": {
          "color": "#636efa",
          "dash": "solid"
         },
         "marker": {
          "symbol": "circle"
         },
         "mode": "lines",
         "name": "",
         "orientation": "v",
         "showlegend": false,
         "type": "scatter",
         "x": [
          "2020-12-31T00:00:00",
          "2021-01-04T00:00:00",
          "2021-12-01T00:00:00",
          "2022-05-12T00:00:00",
          "2022-07-14T00:00:00",
          "2022-12-31T00:00:00",
          "2023-03-23T00:00:00",
          "2023-05-03T00:00:00",
          "2023-06-30T00:00:00",
          "2023-07-13T00:00:00",
          "2023-11-30T00:00:00",
          "2023-12-12T00:00:00",
          "2023-12-31T00:00:00",
          "2024-01-01T00:00:00",
          "2024-03-31T00:00:00",
          "2024-06-30T00:00:00"
         ],
         "xaxis": "x2",
         "y": [
          180660000,
          7650000,
          57500000,
          62860000,
          26960000,
          6860000,
          176650000,
          30264753,
          752840000,
          14700000,
          1200000,
          312000000,
          104860800,
          416000000,
          107750000,
          1099901624
         ],
         "yaxis": "y2"
        }
       ],
       "layout": {
        "annotations": [
         {
          "font": {},
          "showarrow": false,
          "text": "Primary Mineral=Nickel",
          "x": 0.245,
          "xanchor": "center",
          "xref": "paper",
          "y": 0.4,
          "yanchor": "bottom",
          "yref": "paper"
         },
         {
          "font": {},
          "showarrow": false,
          "text": "Primary Mineral=Manganese",
          "x": 0.755,
          "xanchor": "center",
          "xref": "paper",
          "y": 0.4,
          "yanchor": "bottom",
          "yref": "paper"
         },
         {
          "font": {},
          "showarrow": false,
          "text": "Primary Mineral=Lithium",
          "x": 0.245,
          "xanchor": "center",
          "xref": "paper",
          "y": 1,
          "yanchor": "bottom",
          "yref": "paper"
         },
         {
          "font": {},
          "showarrow": false,
          "text": "Primary Mineral=Cobalt",
          "x": 0.755,
          "xanchor": "center",
          "xref": "paper",
          "y": 1,
          "yanchor": "bottom",
          "yref": "paper"
         }
        ],
        "height": 600,
        "legend": {
         "tracegroupgap": 0
        },
        "margin": {
         "t": 60
        },
        "template": {
         "data": {
          "bar": [
           {
            "error_x": {
             "color": "#2a3f5f"
            },
            "error_y": {
             "color": "#2a3f5f"
            },
            "marker": {
             "line": {
              "color": "#E5ECF6",
              "width": 0.5
             },
             "pattern": {
              "fillmode": "overlay",
              "size": 10,
              "solidity": 0.2
             }
            },
            "type": "bar"
           }
          ],
          "barpolar": [
           {
            "marker": {
             "line": {
              "color": "#E5ECF6",
              "width": 0.5
             },
             "pattern": {
              "fillmode": "overlay",
              "size": 10,
              "solidity": 0.2
             }
            },
            "type": "barpolar"
           }
          ],
          "carpet": [
           {
            "aaxis": {
             "endlinecolor": "#2a3f5f",
             "gridcolor": "white",
             "linecolor": "white",
             "minorgridcolor": "white",
             "startlinecolor": "#2a3f5f"
            },
            "baxis": {
             "endlinecolor": "#2a3f5f",
             "gridcolor": "white",
             "linecolor": "white",
             "minorgridcolor": "white",
             "startlinecolor": "#2a3f5f"
            },
            "type": "carpet"
           }
          ],
          "choropleth": [
           {
            "colorbar": {
             "outlinewidth": 0,
             "ticks": ""
            },
            "type": "choropleth"
           }
          ],
          "contour": [
           {
            "colorbar": {
             "outlinewidth": 0,
             "ticks": ""
            },
            "colorscale": [
             [
              0,
              "#0d0887"
             ],
             [
              0.1111111111111111,
              "#46039f"
             ],
             [
              0.2222222222222222,
              "#7201a8"
             ],
             [
              0.3333333333333333,
              "#9c179e"
             ],
             [
              0.4444444444444444,
              "#bd3786"
             ],
             [
              0.5555555555555556,
              "#d8576b"
             ],
             [
              0.6666666666666666,
              "#ed7953"
             ],
             [
              0.7777777777777778,
              "#fb9f3a"
             ],
             [
              0.8888888888888888,
              "#fdca26"
             ],
             [
              1,
              "#f0f921"
             ]
            ],
            "type": "contour"
           }
          ],
          "contourcarpet": [
           {
            "colorbar": {
             "outlinewidth": 0,
             "ticks": ""
            },
            "type": "contourcarpet"
           }
          ],
          "heatmap": [
           {
            "colorbar": {
             "outlinewidth": 0,
             "ticks": ""
            },
            "colorscale": [
             [
              0,
              "#0d0887"
             ],
             [
              0.1111111111111111,
              "#46039f"
             ],
             [
              0.2222222222222222,
              "#7201a8"
             ],
             [
              0.3333333333333333,
              "#9c179e"
             ],
             [
              0.4444444444444444,
              "#bd3786"
             ],
             [
              0.5555555555555556,
              "#d8576b"
             ],
             [
              0.6666666666666666,
              "#ed7953"
             ],
             [
              0.7777777777777778,
              "#fb9f3a"
             ],
             [
              0.8888888888888888,
              "#fdca26"
             ],
             [
              1,
              "#f0f921"
             ]
            ],
            "type": "heatmap"
           }
          ],
          "heatmapgl": [
           {
            "colorbar": {
             "outlinewidth": 0,
             "ticks": ""
            },
            "colorscale": [
             [
              0,
              "#0d0887"
             ],
             [
              0.1111111111111111,
              "#46039f"
             ],
             [
              0.2222222222222222,
              "#7201a8"
             ],
             [
              0.3333333333333333,
              "#9c179e"
             ],
             [
              0.4444444444444444,
              "#bd3786"
             ],
             [
              0.5555555555555556,
              "#d8576b"
             ],
             [
              0.6666666666666666,
              "#ed7953"
             ],
             [
              0.7777777777777778,
              "#fb9f3a"
             ],
             [
              0.8888888888888888,
              "#fdca26"
             ],
             [
              1,
              "#f0f921"
             ]
            ],
            "type": "heatmapgl"
           }
          ],
          "histogram": [
           {
            "marker": {
             "pattern": {
              "fillmode": "overlay",
              "size": 10,
              "solidity": 0.2
             }
            },
            "type": "histogram"
           }
          ],
          "histogram2d": [
           {
            "colorbar": {
             "outlinewidth": 0,
             "ticks": ""
            },
            "colorscale": [
             [
              0,
              "#0d0887"
             ],
             [
              0.1111111111111111,
              "#46039f"
             ],
             [
              0.2222222222222222,
              "#7201a8"
             ],
             [
              0.3333333333333333,
              "#9c179e"
             ],
             [
              0.4444444444444444,
              "#bd3786"
             ],
             [
              0.5555555555555556,
              "#d8576b"
             ],
             [
              0.6666666666666666,
              "#ed7953"
             ],
             [
              0.7777777777777778,
              "#fb9f3a"
             ],
             [
              0.8888888888888888,
              "#fdca26"
             ],
             [
              1,
              "#f0f921"
             ]
            ],
            "type": "histogram2d"
           }
          ],
          "histogram2dcontour": [
           {
            "colorbar": {
             "outlinewidth": 0,
             "ticks": ""
            },
            "colorscale": [
             [
              0,
              "#0d0887"
             ],
             [
              0.1111111111111111,
              "#46039f"
             ],
             [
              0.2222222222222222,
              "#7201a8"
             ],
             [
              0.3333333333333333,
              "#9c179e"
             ],
             [
              0.4444444444444444,
              "#bd3786"
             ],
             [
              0.5555555555555556,
              "#d8576b"
             ],
             [
              0.6666666666666666,
              "#ed7953"
             ],
             [
              0.7777777777777778,
              "#fb9f3a"
             ],
             [
              0.8888888888888888,
              "#fdca26"
             ],
             [
              1,
              "#f0f921"
             ]
            ],
            "type": "histogram2dcontour"
           }
          ],
          "mesh3d": [
           {
            "colorbar": {
             "outlinewidth": 0,
             "ticks": ""
            },
            "type": "mesh3d"
           }
          ],
          "parcoords": [
           {
            "line": {
             "colorbar": {
              "outlinewidth": 0,
              "ticks": ""
             }
            },
            "type": "parcoords"
           }
          ],
          "pie": [
           {
            "automargin": true,
            "type": "pie"
           }
          ],
          "scatter": [
           {
            "fillpattern": {
             "fillmode": "overlay",
             "size": 10,
             "solidity": 0.2
            },
            "type": "scatter"
           }
          ],
          "scatter3d": [
           {
            "line": {
             "colorbar": {
              "outlinewidth": 0,
              "ticks": ""
             }
            },
            "marker": {
             "colorbar": {
              "outlinewidth": 0,
              "ticks": ""
             }
            },
            "type": "scatter3d"
           }
          ],
          "scattercarpet": [
           {
            "marker": {
             "colorbar": {
              "outlinewidth": 0,
              "ticks": ""
             }
            },
            "type": "scattercarpet"
           }
          ],
          "scattergeo": [
           {
            "marker": {
             "colorbar": {
              "outlinewidth": 0,
              "ticks": ""
             }
            },
            "type": "scattergeo"
           }
          ],
          "scattergl": [
           {
            "marker": {
             "colorbar": {
              "outlinewidth": 0,
              "ticks": ""
             }
            },
            "type": "scattergl"
           }
          ],
          "scattermapbox": [
           {
            "marker": {
             "colorbar": {
              "outlinewidth": 0,
              "ticks": ""
             }
            },
            "type": "scattermapbox"
           }
          ],
          "scatterpolar": [
           {
            "marker": {
             "colorbar": {
              "outlinewidth": 0,
              "ticks": ""
             }
            },
            "type": "scatterpolar"
           }
          ],
          "scatterpolargl": [
           {
            "marker": {
             "colorbar": {
              "outlinewidth": 0,
              "ticks": ""
             }
            },
            "type": "scatterpolargl"
           }
          ],
          "scatterternary": [
           {
            "marker": {
             "colorbar": {
              "outlinewidth": 0,
              "ticks": ""
             }
            },
            "type": "scatterternary"
           }
          ],
          "surface": [
           {
            "colorbar": {
             "outlinewidth": 0,
             "ticks": ""
            },
            "colorscale": [
             [
              0,
              "#0d0887"
             ],
             [
              0.1111111111111111,
              "#46039f"
             ],
             [
              0.2222222222222222,
              "#7201a8"
             ],
             [
              0.3333333333333333,
              "#9c179e"
             ],
             [
              0.4444444444444444,
              "#bd3786"
             ],
             [
              0.5555555555555556,
              "#d8576b"
             ],
             [
              0.6666666666666666,
              "#ed7953"
             ],
             [
              0.7777777777777778,
              "#fb9f3a"
             ],
             [
              0.8888888888888888,
              "#fdca26"
             ],
             [
              1,
              "#f0f921"
             ]
            ],
            "type": "surface"
           }
          ],
          "table": [
           {
            "cells": {
             "fill": {
              "color": "#EBF0F8"
             },
             "line": {
              "color": "white"
             }
            },
            "header": {
             "fill": {
              "color": "#C8D4E3"
             },
             "line": {
              "color": "white"
             }
            },
            "type": "table"
           }
          ]
         },
         "layout": {
          "annotationdefaults": {
           "arrowcolor": "#2a3f5f",
           "arrowhead": 0,
           "arrowwidth": 1
          },
          "autotypenumbers": "strict",
          "coloraxis": {
           "colorbar": {
            "outlinewidth": 0,
            "ticks": ""
           }
          },
          "colorscale": {
           "diverging": [
            [
             0,
             "#8e0152"
            ],
            [
             0.1,
             "#c51b7d"
            ],
            [
             0.2,
             "#de77ae"
            ],
            [
             0.3,
             "#f1b6da"
            ],
            [
             0.4,
             "#fde0ef"
            ],
            [
             0.5,
             "#f7f7f7"
            ],
            [
             0.6,
             "#e6f5d0"
            ],
            [
             0.7,
             "#b8e186"
            ],
            [
             0.8,
             "#7fbc41"
            ],
            [
             0.9,
             "#4d9221"
            ],
            [
             1,
             "#276419"
            ]
           ],
           "sequential": [
            [
             0,
             "#0d0887"
            ],
            [
             0.1111111111111111,
             "#46039f"
            ],
            [
             0.2222222222222222,
             "#7201a8"
            ],
            [
             0.3333333333333333,
             "#9c179e"
            ],
            [
             0.4444444444444444,
             "#bd3786"
            ],
            [
             0.5555555555555556,
             "#d8576b"
            ],
            [
             0.6666666666666666,
             "#ed7953"
            ],
            [
             0.7777777777777778,
             "#fb9f3a"
            ],
            [
             0.8888888888888888,
             "#fdca26"
            ],
            [
             1,
             "#f0f921"
            ]
           ],
           "sequentialminus": [
            [
             0,
             "#0d0887"
            ],
            [
             0.1111111111111111,
             "#46039f"
            ],
            [
             0.2222222222222222,
             "#7201a8"
            ],
            [
             0.3333333333333333,
             "#9c179e"
            ],
            [
             0.4444444444444444,
             "#bd3786"
            ],
            [
             0.5555555555555556,
             "#d8576b"
            ],
            [
             0.6666666666666666,
             "#ed7953"
            ],
            [
             0.7777777777777778,
             "#fb9f3a"
            ],
            [
             0.8888888888888888,
             "#fdca26"
            ],
            [
             1,
             "#f0f921"
            ]
           ]
          },
          "colorway": [
           "#636efa",
           "#EF553B",
           "#00cc96",
           "#ab63fa",
           "#FFA15A",
           "#19d3f3",
           "#FF6692",
           "#B6E880",
           "#FF97FF",
           "#FECB52"
          ],
          "font": {
           "color": "#2a3f5f"
          },
          "geo": {
           "bgcolor": "white",
           "lakecolor": "white",
           "landcolor": "#E5ECF6",
           "showlakes": true,
           "showland": true,
           "subunitcolor": "white"
          },
          "hoverlabel": {
           "align": "left"
          },
          "hovermode": "closest",
          "mapbox": {
           "style": "light"
          },
          "paper_bgcolor": "white",
          "plot_bgcolor": "#E5ECF6",
          "polar": {
           "angularaxis": {
            "gridcolor": "white",
            "linecolor": "white",
            "ticks": ""
           },
           "bgcolor": "#E5ECF6",
           "radialaxis": {
            "gridcolor": "white",
            "linecolor": "white",
            "ticks": ""
           }
          },
          "scene": {
           "xaxis": {
            "backgroundcolor": "#E5ECF6",
            "gridcolor": "white",
            "gridwidth": 2,
            "linecolor": "white",
            "showbackground": true,
            "ticks": "",
            "zerolinecolor": "white"
           },
           "yaxis": {
            "backgroundcolor": "#E5ECF6",
            "gridcolor": "white",
            "gridwidth": 2,
            "linecolor": "white",
            "showbackground": true,
            "ticks": "",
            "zerolinecolor": "white"
           },
           "zaxis": {
            "backgroundcolor": "#E5ECF6",
            "gridcolor": "white",
            "gridwidth": 2,
            "linecolor": "white",
            "showbackground": true,
            "ticks": "",
            "zerolinecolor": "white"
           }
          },
          "shapedefaults": {
           "line": {
            "color": "#2a3f5f"
           }
          },
          "ternary": {
           "aaxis": {
            "gridcolor": "white",
            "linecolor": "white",
            "ticks": ""
           },
           "baxis": {
            "gridcolor": "white",
            "linecolor": "white",
            "ticks": ""
           },
           "bgcolor": "#E5ECF6",
           "caxis": {
            "gridcolor": "white",
            "linecolor": "white",
            "ticks": ""
           }
          },
          "title": {
           "x": 0.05
          },
          "xaxis": {
           "automargin": true,
           "gridcolor": "white",
           "linecolor": "white",
           "ticks": "",
           "title": {
            "standoff": 15
           },
           "zerolinecolor": "white",
           "zerolinewidth": 2
          },
          "yaxis": {
           "automargin": true,
           "gridcolor": "white",
           "linecolor": "white",
           "ticks": "",
           "title": {
            "standoff": 15
           },
           "zerolinecolor": "white",
           "zerolinewidth": 2
          }
         }
        },
        "title": {
         "text": "Total Reserves over time"
        },
        "width": 1000,
        "xaxis": {
         "anchor": "y",
         "autorange": true,
         "domain": [
          0,
          0.49
         ],
         "range": [
          "2020-04-02",
          "2024-10-22"
         ],
         "title": {
          "text": "Date"
         },
         "type": "date"
        },
        "xaxis2": {
         "anchor": "y2",
         "autorange": true,
         "domain": [
          0.51,
          1
         ],
         "matches": "x",
         "range": [
          "2020-04-02",
          "2024-10-22"
         ],
         "title": {
          "text": "Date"
         },
         "type": "date"
        },
        "xaxis3": {
         "anchor": "y3",
         "autorange": true,
         "domain": [
          0,
          0.49
         ],
         "matches": "x",
         "range": [
          "2020-04-02",
          "2024-10-22"
         ],
         "showticklabels": false,
         "title": {
          "text": "Date"
         },
         "type": "date"
        },
        "xaxis4": {
         "anchor": "y4",
         "autorange": true,
         "domain": [
          0.51,
          1
         ],
         "matches": "x",
         "range": [
          "2020-04-02",
          "2024-10-22"
         ],
         "showticklabels": false,
         "title": {
          "text": "Date"
         },
         "type": "date"
        },
        "yaxis": {
         "anchor": "x",
         "autorange": true,
         "domain": [
          0,
          0.4
         ],
         "range": [
          0.7391322265986981,
          9.478312875738357
         ],
         "title": {},
         "type": "log"
        },
        "yaxis2": {
         "anchor": "x2",
         "autorange": true,
         "domain": [
          0,
          0.4
         ],
         "matches": "y",
         "range": [
          0.7391322265986981,
          9.478312875738357
         ],
         "showticklabels": false,
         "type": "log"
        },
        "yaxis3": {
         "anchor": "x3",
         "autorange": true,
         "domain": [
          0.6000000000000001,
          1
         ],
         "matches": "y",
         "range": [
          0.7391322265986981,
          9.478312875738357
         ],
         "title": {},
         "type": "log"
        },
        "yaxis4": {
         "anchor": "x4",
         "autorange": true,
         "domain": [
          0.6000000000000001,
          1
         ],
         "matches": "y",
         "range": [
          0.7391322265986981,
          9.478312875738357
         ],
         "showticklabels": false,
         "type": "log"
        }
       }
      },
      "image/png": "[encoded data removed]",
      "text/html": [
       "<div>                            <div id=\"e436bbeb-0ea8-4913-a3b1-ff65a2379395\" class=\"plotly-graph-div\" style=\"height:600px; width:1000px;\"></div>            <script type=\"text/javascript\">                require([\"plotly\"], function(Plotly) {                    window.PLOTLYENV=window.PLOTLYENV || {};                                    if (document.getElementById(\"e436bbeb-0ea8-4913-a3b1-ff65a2379395\")) {                    Plotly.newPlot(                        \"e436bbeb-0ea8-4913-a3b1-ff65a2379395\",                        [{\"hovertemplate\":\"Primary Mineral=Lithium\\u003cbr\\u003eReserves & Resources As Of Date=%{x}\\u003cbr\\u003ePrimary Reserves and Resources=%{y}\\u003cextra\\u003e\\u003c\\u002fextra\\u003e\",\"legendgroup\":\"\",\"line\":{\"color\":\"#636efa\",\"dash\":\"solid\"},\"marker\":{\"symbol\":\"circle\"},\"mode\":\"lines\",\"name\":\"\",\"orientation\":\"v\",\"showlegend\":false,\"x\":[\"2020-04-02T00:00:00\",\"2020-06-22T00:00:00\",\"2021-06-04T00:00:00\",\"2021-08-20T00:00:00\",\"2021-09-09T00:00:00\",\"2021-09-20T00:00:00\",\"2021-10-30T00:00:00\",\"2021-11-30T00:00:00\",\"2021-12-14T00:00:00\",\"2021-12-21T00:00:00\",\"2021-12-31T00:00:00\",\"2022-02-21T00:00:00\",\"2022-06-17T00:00:00\",\"2022-07-01T00:00:00\",\"2022-07-31T00:00:00\",\"2022-10-06T00:00:00\",\"2022-10-12T00:00:00\",\"2022-11-02T00:00:00\",\"2022-12-15T00:00:00\",\"2022-12-20T00:00:00\",\"2022-12-30T00:00:00\",\"2022-12-31T00:00:00\",\"2023-01-23T00:00:00\",\"2023-02-02T00:00:00\",\"2023-02-06T00:00:00\",\"2023-02-16T00:00:00\",\"2023-02-27T00:00:00\",\"2023-02-28T00:00:00\",\"2023-03-09T00:00:00\",\"2023-03-27T00:00:00\",\"2023-04-01T00:00:00\",\"2023-04-30T00:00:00\",\"2023-05-02T00:00:00\",\"2023-05-05T00:00:00\",\"2023-05-18T00:00:00\",\"2023-05-31T00:00:00\",\"2023-06-12T00:00:00\",\"2023-06-30T00:00:00\",\"2023-07-12T00:00:00\",\"2023-07-17T00:00:00\",\"2023-08-01T00:00:00\",\"2023-08-03T00:00:00\",\"2023-08-06T00:00:00\",\"2023-08-07T00:00:00\",\"2023-08-14T00:00:00\",\"2023-08-18T00:00:00\",\"2023-08-23T00:00:00\",\"2023-08-24T00:00:00\",\"2023-09-05T00:00:00\",\"2023-09-18T00:00:00\",\"2023-09-29T00:00:00\",\"2023-09-30T00:00:00\",\"2023-10-01T00:00:00\",\"2023-10-16T00:00:00\",\"2023-10-17T00:00:00\",\"2023-10-25T00:00:00\",\"2023-10-31T00:00:00\",\"2023-11-01T00:00:00\",\"2023-11-02T00:00:00\",\"2023-11-14T00:00:00\",\"2023-11-17T00:00:00\",\"2023-11-22T00:00:00\",\"2023-12-13T00:00:00\",\"2023-12-18T00:00:00\",\"2023-12-19T00:00:00\",\"2023-12-21T00:00:00\",\"2023-12-27T00:00:00\",\"2023-12-31T00:00:00\",\"2024-01-01T00:00:00\",\"2024-01-04T00:00:00\",\"2024-01-15T00:00:00\",\"2024-01-22T00:00:00\",\"2024-01-29T00:00:00\",\"2024-01-31T00:00:00\",\"2024-02-20T00:00:00\",\"2024-02-22T00:00:00\",\"2024-03-13T00:00:00\",\"2024-03-26T00:00:00\",\"2024-03-31T00:00:00\",\"2024-04-18T00:00:00\",\"2024-04-19T00:00:00\",\"2024-04-29T00:00:00\",\"2024-05-08T00:00:00\",\"2024-05-15T00:00:00\",\"2024-05-23T00:00:00\",\"2024-05-27T00:00:00\",\"2024-05-28T00:00:00\",\"2024-05-30T00:00:00\",\"2024-05-31T00:00:00\",\"2024-06-05T00:00:00\",\"2024-06-12T00:00:00\",\"2024-06-20T00:00:00\",\"2024-06-24T00:00:00\",\"2024-06-28T00:00:00\",\"2024-06-30T00:00:00\",\"2024-07-09T00:00:00\",\"2024-07-30T00:00:00\",\"2024-08-20T00:00:00\",\"2024-08-21T00:00:00\",\"2024-08-27T00:00:00\",\"2024-09-01T00:00:00\",\"2024-09-24T00:00:00\",\"2024-10-01T00:00:00\",\"2024-10-14T00:00:00\",\"2024-10-22T00:00:00\"],\"xaxis\":\"x3\",\"y\":[241200.0,276900.0,3282000.0,8358700.0,228000.0,2990000.0,775200.0,777560.0,475000.0,1167000.0,2477990.0,7328560.0,846000.0,129000.0,135300.0,4300000.0,3080.0,7700000.0,180000.0,129000.0,680000.0,29585613.0,4280.0,59833.0,587000.0,37294.0,8686000.0,881052.0,2700.0,172600.0,124000.0,4704682.0,448328.0,86000.0,2591900.0,3900.0,293400.0,20208337.0,90896.0,2742746.0,299000.0,85680.0,119000.0,175000.0,105280.0,1874000.0,71700.0,371416.0,640000.0,185000.0,11217188.0,988361.0,93482.0,607600.0,173000.0,1419706.0,4309684.0,555895.0,66500.0,337300.0,105006.0,4300580.0,2545000.0,308000.0,58000.0,933909.0,246000.0,27437968.0,6108480.0,150800.0,3159955.0,13490000.0,13400.0,880000.0,766310.0,2477800.0,122368.0,3180000.0,2514000.0,843000.0,2978888.0,2697332.0,1069000.0,1762248.0,1028180.0,432280.0,892840.0,948900.0,3690000.0,1076200.0,514000.0,6936846.0,8774405.0,180000.0,7342900.0,1900000.0,455000.0,2500.0,1970000.0,2118300.0,75700.0,4460000.0,506000.0,131627.0,1337000.0],\"yaxis\":\"y3\",\"type\":\"scatter\"},{\"hovertemplate\":\"Primary Mineral=Cobalt\\u003cbr\\u003eReserves & Resources As Of Date=%{x}\\u003cbr\\u003ePrimary Reserves and Resources=%{y}\\u003cextra\\u003e\\u003c\\u002fextra\\u003e\",\"legendgroup\":\"\",\"line\":{\"color\":\"#636efa\",\"dash\":\"solid\"},\"marker\":{\"symbol\":\"circle\"},\"mode\":\"lines\",\"name\":\"\",\"orientation\":\"v\",\"showlegend\":false,\"x\":[\"2020-04-22T00:00:00\",\"2020-05-28T00:00:00\",\"2020-06-05T00:00:00\",\"2020-06-30T00:00:00\",\"2020-09-27T00:00:00\",\"2020-11-17T00:00:00\",\"2020-11-30T00:00:00\",\"2020-12-31T00:00:00\",\"2021-03-31T00:00:00\",\"2021-06-30T00:00:00\",\"2021-07-01T00:00:00\",\"2021-09-14T00:00:00\",\"2021-09-30T00:00:00\",\"2021-10-07T00:00:00\",\"2021-10-30T00:00:00\",\"2021-11-09T00:00:00\",\"2021-12-13T00:00:00\",\"2021-12-31T00:00:00\",\"2022-01-01T00:00:00\",\"2022-01-28T00:00:00\",\"2022-01-31T00:00:00\",\"2022-02-14T00:00:00\",\"2022-03-02T00:00:00\",\"2022-04-25T00:00:00\",\"2022-05-17T00:00:00\",\"2022-05-25T00:00:00\",\"2022-05-31T00:00:00\",\"2022-06-01T00:00:00\",\"2022-06-13T00:00:00\",\"2022-07-06T00:00:00\",\"2022-07-19T00:00:00\",\"2022-08-10T00:00:00\",\"2022-08-20T00:00:00\",\"2022-08-26T00:00:00\",\"2022-09-01T00:00:00\",\"2022-09-11T00:00:00\",\"2022-09-20T00:00:00\",\"2022-10-10T00:00:00\",\"2022-10-13T00:00:00\",\"2022-10-21T00:00:00\",\"2022-10-31T00:00:00\",\"2022-11-18T00:00:00\",\"2022-12-05T00:00:00\",\"2022-12-12T00:00:00\",\"2022-12-16T00:00:00\",\"2022-12-31T00:00:00\",\"2023-01-20T00:00:00\",\"2023-01-23T00:00:00\",\"2023-01-27T00:00:00\",\"2023-01-31T00:00:00\",\"2023-02-02T00:00:00\",\"2023-02-27T00:00:00\",\"2023-03-01T00:00:00\",\"2023-03-07T00:00:00\",\"2023-03-08T00:00:00\",\"2023-03-15T00:00:00\",\"2023-03-21T00:00:00\",\"2023-03-30T00:00:00\",\"2023-04-05T00:00:00\",\"2023-04-26T00:00:00\",\"2023-05-04T00:00:00\",\"2023-05-07T00:00:00\",\"2023-05-31T00:00:00\",\"2023-06-07T00:00:00\",\"2023-06-09T00:00:00\",\"2023-06-27T00:00:00\",\"2023-06-30T00:00:00\",\"2023-07-05T00:00:00\",\"2023-07-19T00:00:00\",\"2023-07-25T00:00:00\",\"2023-08-07T00:00:00\",\"2023-08-12T00:00:00\",\"2023-08-31T00:00:00\",\"2023-09-01T00:00:00\",\"2023-09-22T00:00:00\",\"2023-10-02T00:00:00\",\"2023-10-16T00:00:00\",\"2023-10-24T00:00:00\",\"2023-10-26T00:00:00\",\"2023-11-20T00:00:00\",\"2023-11-26T00:00:00\",\"2023-11-30T00:00:00\",\"2023-12-23T00:00:00\",\"2023-12-31T00:00:00\",\"2024-01-19T00:00:00\",\"2024-01-29T00:00:00\",\"2024-02-01T00:00:00\",\"2024-02-12T00:00:00\",\"2024-02-26T00:00:00\",\"2024-03-02T00:00:00\",\"2024-03-05T00:00:00\",\"2024-03-11T00:00:00\",\"2024-03-21T00:00:00\",\"2024-03-24T00:00:00\",\"2024-03-30T00:00:00\",\"2024-03-31T00:00:00\",\"2024-04-01T00:00:00\",\"2024-04-04T00:00:00\",\"2024-04-14T00:00:00\",\"2024-04-15T00:00:00\",\"2024-04-23T00:00:00\",\"2024-06-11T00:00:00\",\"2024-06-28T00:00:00\",\"2024-06-30T00:00:00\",\"2024-07-16T00:00:00\",\"2024-07-17T00:00:00\",\"2024-07-25T00:00:00\",\"2024-08-05T00:00:00\",\"2024-08-26T00:00:00\",\"2024-08-28T00:00:00\",\"2024-09-05T00:00:00\",\"2024-09-17T00:00:00\",\"2024-09-23T00:00:00\",\"2024-10-01T00:00:00\"],\"xaxis\":\"x4\",\"y\":[11803.0,83.0,20200.0,26700.0,168000.0,3506.0,300000.0,3107400.0,597.0,42844.0,257000.0,3719.0,5300.0,8550.0,13400.0,1463.0,2646.0,4536.0,263800.0,19800.0,2183.0,381.0,2132.0,6123.0,66000.0,8300.0,4417.0,109456.0,46400.0,544.0,2200.0,631.0,3500.0,5172.0,82.0,270000.0,300.0,5974.0,8000.0,6759.0,1707.0,1800.0,4060.0,3115.0,400.0,545105.0,41322.0,3100.0,9268.0,2052.0,1640.0,6700.0,5960.0,5658.0,660.0,82800.0,7711.0,2337.0,90.0,40500.0,2982.0,782.0,29500.0,4844.0,108239.0,1889.0,66292.0,311000.0,79469.0,342.0,30.0,783.0,552200.0,14000.0,345000.0,26600.0,50.0,65200.0,14400.0,23000.0,3700.0,137733.0,1905200.0,10387849.0,5268.0,2913.0,5299.0,285763.0,32800.0,1560.0,37700.0,40000.0,19051.0,897.0,3300.0,30549.0,182600.0,5840.0,135000.0,9890.0,95900.0,1468.0,33011.0,21200.0,4444.0,46600.0,53977.0,36600.0,174000.0,105753.0,1730.0,13000.0,52000.0,1449.0],\"yaxis\":\"y4\",\"type\":\"scatter\"},{\"hovertemplate\":\"Primary Mineral=Nickel\\u003cbr\\u003eReserves & Resources As Of Date=%{x}\\u003cbr\\u003ePrimary Reserves and Resources=%{y}\\u003cextra\\u003e\\u003c\\u002fextra\\u003e\",\"legendgroup\":\"\",\"line\":{\"color\":\"#636efa\",\"dash\":\"solid\"},\"marker\":{\"symbol\":\"circle\"},\"mode\":\"lines\",\"name\":\"\",\"orientation\":\"v\",\"showlegend\":false,\"x\":[\"2020-04-22T00:00:00\",\"2020-05-28T00:00:00\",\"2020-09-27T00:00:00\",\"2020-10-27T00:00:00\",\"2020-11-17T00:00:00\",\"2020-11-30T00:00:00\",\"2020-12-31T00:00:00\",\"2021-06-30T00:00:00\",\"2021-09-14T00:00:00\",\"2021-09-30T00:00:00\",\"2021-10-07T00:00:00\",\"2021-10-30T00:00:00\",\"2021-11-09T00:00:00\",\"2021-12-13T00:00:00\",\"2021-12-16T00:00:00\",\"2021-12-31T00:00:00\",\"2022-01-03T00:00:00\",\"2022-01-26T00:00:00\",\"2022-01-28T00:00:00\",\"2022-01-31T00:00:00\",\"2022-03-02T00:00:00\",\"2022-04-25T00:00:00\",\"2022-05-17T00:00:00\",\"2022-05-25T00:00:00\",\"2022-05-31T00:00:00\",\"2022-06-01T00:00:00\",\"2022-06-07T00:00:00\",\"2022-06-13T00:00:00\",\"2022-06-30T00:00:00\",\"2022-07-06T00:00:00\",\"2022-07-19T00:00:00\",\"2022-08-10T00:00:00\",\"2022-08-15T00:00:00\",\"2022-09-01T00:00:00\",\"2022-09-11T00:00:00\",\"2022-09-12T00:00:00\",\"2022-09-20T00:00:00\",\"2022-10-10T00:00:00\",\"2022-10-21T00:00:00\",\"2022-10-24T00:00:00\",\"2022-10-28T00:00:00\",\"2022-10-31T00:00:00\",\"2022-11-14T00:00:00\",\"2022-12-12T00:00:00\",\"2022-12-16T00:00:00\",\"2022-12-31T00:00:00\",\"2023-01-13T00:00:00\",\"2023-01-20T00:00:00\",\"2023-01-23T00:00:00\",\"2023-01-31T00:00:00\",\"2023-02-02T00:00:00\",\"2023-02-27T00:00:00\",\"2023-03-01T00:00:00\",\"2023-03-07T00:00:00\",\"2023-03-15T00:00:00\",\"2023-03-30T00:00:00\",\"2023-03-31T00:00:00\",\"2023-04-13T00:00:00\",\"2023-04-26T00:00:00\",\"2023-05-01T00:00:00\",\"2023-05-31T00:00:00\",\"2023-06-07T00:00:00\",\"2023-06-09T00:00:00\",\"2023-06-30T00:00:00\",\"2023-07-05T00:00:00\",\"2023-07-19T00:00:00\",\"2023-08-07T00:00:00\",\"2023-08-12T00:00:00\",\"2023-08-31T00:00:00\",\"2023-09-01T00:00:00\",\"2023-09-06T00:00:00\",\"2023-09-22T00:00:00\",\"2023-10-02T00:00:00\",\"2023-10-15T00:00:00\",\"2023-10-16T00:00:00\",\"2023-10-22T00:00:00\",\"2023-10-24T00:00:00\",\"2023-10-26T00:00:00\",\"2023-11-20T00:00:00\",\"2023-11-26T00:00:00\",\"2023-11-30T00:00:00\",\"2023-12-31T00:00:00\",\"2024-01-01T00:00:00\",\"2024-01-08T00:00:00\",\"2024-01-19T00:00:00\",\"2024-01-29T00:00:00\",\"2024-02-12T00:00:00\",\"2024-02-16T00:00:00\",\"2024-02-26T00:00:00\",\"2024-03-02T00:00:00\",\"2024-03-05T00:00:00\",\"2024-03-11T00:00:00\",\"2024-03-18T00:00:00\",\"2024-03-21T00:00:00\",\"2024-03-24T00:00:00\",\"2024-03-30T00:00:00\",\"2024-03-31T00:00:00\",\"2024-04-01T00:00:00\",\"2024-04-14T00:00:00\",\"2024-04-15T00:00:00\",\"2024-04-23T00:00:00\",\"2024-06-11T00:00:00\",\"2024-06-30T00:00:00\",\"2024-07-16T00:00:00\",\"2024-07-17T00:00:00\",\"2024-08-05T00:00:00\",\"2024-08-26T00:00:00\",\"2024-08-28T00:00:00\",\"2024-08-31T00:00:00\",\"2024-09-05T00:00:00\",\"2024-09-23T00:00:00\",\"2024-10-01T00:00:00\"],\"xaxis\":\"x\",\"y\":[144378.0,15.0,935000.0,360000.0,80331.0,3879920.0,21561000.0,795391.0,31706.0,116800.0,185448.0,485800.0,68900.0,50439.0,334878.0,1193080.0,70000.0,2666214.0,1093000.0,31809.0,15286.0,110223.0,891000.0,28000.0,76611.0,2726000.0,1341800.0,394300.0,200000.0,48398.0,11900.0,20995.0,134100.0,3625.0,3700000.0,907.0,5700.0,217724.0,254000.0,58000.0,56000.0,1435.0,61726.0,102527.0,7200.0,8271700.0,195884.0,476725.0,66400.0,115719.0,27400.0,168400.0,154900.0,24031.0,41200.0,84240.0,127000.0,6000.0,283000.0,38600.0,570000.0,222191.0,2435240.0,1284960.0,5079000.0,1435029.0,2200.0,16577.0,9761600.0,216900.0,4548000.0,5702000.0,157500.0,1080000.0,2370.0,194179.0,971000.0,185000.0,90000.0,59100.0,1824964.0,64279690.0,58990000.0,35000.0,67005.0,190335.0,3675002.0,30029.0,50700.0,23100.0,614200.0,862800.0,391885.0,334751.0,34876.0,49700.0,40700.0,2640800.0,3429000.0,283800.0,965000.0,113600.0,12844273.0,7101.0,1087200.0,1204400.0,2321000.0,1697505.0,737700.0,6000.0,561000.0,54505.0],\"yaxis\":\"y\",\"type\":\"scatter\"},{\"hovertemplate\":\"Primary Mineral=Manganese\\u003cbr\\u003eReserves & Resources As Of Date=%{x}\\u003cbr\\u003ePrimary Reserves and Resources=%{y}\\u003cextra\\u003e\\u003c\\u002fextra\\u003e\",\"legendgroup\":\"\",\"line\":{\"color\":\"#636efa\",\"dash\":\"solid\"},\"marker\":{\"symbol\":\"circle\"},\"mode\":\"lines\",\"name\":\"\",\"orientation\":\"v\",\"showlegend\":false,\"x\":[\"2020-12-31T00:00:00\",\"2021-01-04T00:00:00\",\"2021-12-01T00:00:00\",\"2022-05-12T00:00:00\",\"2022-07-14T00:00:00\",\"2022-12-31T00:00:00\",\"2023-03-23T00:00:00\",\"2023-05-03T00:00:00\",\"2023-06-30T00:00:00\",\"2023-07-13T00:00:00\",\"2023-11-30T00:00:00\",\"2023-12-12T00:00:00\",\"2023-12-31T00:00:00\",\"2024-01-01T00:00:00\",\"2024-03-31T00:00:00\",\"2024-06-30T00:00:00\"],\"xaxis\":\"x2\",\"y\":[180660000.0,7650000.0,57500000.0,62860000.0,26960000.0,6860000.0,176650000.0,30264753.0,752840000.0,14700000.0,1200000.0,312000000.0,104860800.0,416000000.0,107750000.0,1099901624.0],\"yaxis\":\"y2\",\"type\":\"scatter\"}],                        {\"template\":{\"data\":{\"histogram2dcontour\":[{\"type\":\"histogram2dcontour\",\"colorbar\":{\"outlinewidth\":0,\"ticks\":\"\"},\"colorscale\":[[0.0,\"#0d0887\"],[0.1111111111111111,\"#46039f\"],[0.2222222222222222,\"#7201a8\"],[0.3333333333333333,\"#9c179e\"],[0.4444444444444444,\"#bd3786\"],[0.5555555555555556,\"#d8576b\"],[0.6666666666666666,\"#ed7953\"],[0.7777777777777778,\"#fb9f3a\"],[0.8888888888888888,\"#fdca26\"],[1.0,\"#f0f921\"]]}],\"choropleth\":[{\"type\":\"choropleth\",\"colorbar\":{\"outlinewidth\":0,\"ticks\":\"\"}}],\"histogram2d\":[{\"type\":\"histogram2d\",\"colorbar\":{\"outlinewidth\":0,\"ticks\":\"\"},\"colorscale\":[[0.0,\"#0d0887\"],[0.1111111111111111,\"#46039f\"],[0.2222222222222222,\"#7201a8\"],[0.3333333333333333,\"#9c179e\"],[0.4444444444444444,\"#bd3786\"],[0.5555555555555556,\"#d8576b\"],[0.6666666666666666,\"#ed7953\"],[0.7777777777777778,\"#fb9f3a\"],[0.8888888888888888,\"#fdca26\"],[1.0,\"#f0f921\"]]}],\"heatmap\":[{\"type\":\"heatmap\",\"colorbar\":{\"outlinewidth\":0,\"ticks\":\"\"},\"colorscale\":[[0.0,\"#0d0887\"],[0.1111111111111111,\"#46039f\"],[0.2222222222222222,\"#7201a8\"],[0.3333333333333333,\"#9c179e\"],[0.4444444444444444,\"#bd3786\"],[0.5555555555555556,\"#d8576b\"],[0.6666666666666666,\"#ed7953\"],[0.7777777777777778,\"#fb9f3a\"],[0.8888888888888888,\"#fdca26\"],[1.0,\"#f0f921\"]]}],\"heatmapgl\":[{\"type\":\"heatmapgl\",\"colorbar\":{\"outlinewidth\":0,\"ticks\":\"\"},\"colorscale\":[[0.0,\"#0d0887\"],[0.1111111111111111,\"#46039f\"],[0.2222222222222222,\"#7201a8\"],[0.3333333333333333,\"#9c179e\"],[0.4444444444444444,\"#bd3786\"],[0.5555555555555556,\"#d8576b\"],[0.6666666666666666,\"#ed7953\"],[0.7777777777777778,\"#fb9f3a\"],[0.8888888888888888,\"#fdca26\"],[1.0,\"#f0f921\"]]}],\"contourcarpet\":[{\"type\":\"contourcarpet\",\"colorbar\":{\"outlinewidth\":0,\"ticks\":\"\"}}],\"contour\":[{\"type\":\"contour\",\"colorbar\":{\"outlinewidth\":0,\"ticks\":\"\"},\"colorscale\":[[0.0,\"#0d0887\"],[0.1111111111111111,\"#46039f\"],[0.2222222222222222,\"#7201a8\"],[0.3333333333333333,\"#9c179e\"],[0.4444444444444444,\"#bd3786\"],[0.5555555555555556,\"#d8576b\"],[0.6666666666666666,\"#ed7953\"],[0.7777777777777778,\"#fb9f3a\"],[0.8888888888888888,\"#fdca26\"],[1.0,\"#f0f921\"]]}],\"surface\":[{\"type\":\"surface\",\"colorbar\":{\"outlinewidth\":0,\"ticks\":\"\"},\"colorscale\":[[0.0,\"#0d0887\"],[0.1111111111111111,\"#46039f\"],[0.2222222222222222,\"#7201a8\"],[0.3333333333333333,\"#9c179e\"],[0.4444444444444444,\"#bd3786\"],[0.5555555555555556,\"#d8576b\"],[0.6666666666666666,\"#ed7953\"],[0.7777777777777778,\"#fb9f3a\"],[0.8888888888888888,\"#fdca26\"],[1.0,\"#f0f921\"]]}],\"mesh3d\":[{\"type\":\"mesh3d\",\"colorbar\":{\"outlinewidth\":0,\"ticks\":\"\"}}],\"scatter\":[{\"fillpattern\":{\"fillmode\":\"overlay\",\"size\":10,\"solidity\":0.2},\"type\":\"scatter\"}],\"parcoords\":[{\"type\":\"parcoords\",\"line\":{\"colorbar\":{\"outlinewidth\":0,\"ticks\":\"\"}}}],\"scatterpolargl\":[{\"type\":\"scatterpolargl\",\"marker\":{\"colorbar\":{\"outlinewidth\":0,\"ticks\":\"\"}}}],\"bar\":[{\"error_x\":{\"color\":\"#2a3f5f\"},\"error_y\":{\"color\":\"#2a3f5f\"},\"marker\":{\"line\":{\"color\":\"#E5ECF6\",\"width\":0.5},\"pattern\":{\"fillmode\":\"overlay\",\"size\":10,\"solidity\":0.2}},\"type\":\"bar\"}],\"scattergeo\":[{\"type\":\"scattergeo\",\"marker\":{\"colorbar\":{\"outlinewidth\":0,\"ticks\":\"\"}}}],\"scatterpolar\":[{\"type\":\"scatterpolar\",\"marker\":{\"colorbar\":{\"outlinewidth\":0,\"ticks\":\"\"}}}],\"histogram\":[{\"marker\":{\"pattern\":{\"fillmode\":\"overlay\",\"size\":10,\"solidity\":0.2}},\"type\":\"histogram\"}],\"scattergl\":[{\"type\":\"scattergl\",\"marker\":{\"colorbar\":{\"outlinewidth\":0,\"ticks\":\"\"}}}],\"scatter3d\":[{\"type\":\"scatter3d\",\"line\":{\"colorbar\":{\"outlinewidth\":0,\"ticks\":\"\"}},\"marker\":{\"colorbar\":{\"outlinewidth\":0,\"ticks\":\"\"}}}],\"scattermapbox\":[{\"type\":\"scattermapbox\",\"marker\":{\"colorbar\":{\"outlinewidth\":0,\"ticks\":\"\"}}}],\"scatterternary\":[{\"type\":\"scatterternary\",\"marker\":{\"colorbar\":{\"outlinewidth\":0,\"ticks\":\"\"}}}],\"scattercarpet\":[{\"type\":\"scattercarpet\",\"marker\":{\"colorbar\":{\"outlinewidth\":0,\"ticks\":\"\"}}}],\"carpet\":[{\"aaxis\":{\"endlinecolor\":\"#2a3f5f\",\"gridcolor\":\"white\",\"linecolor\":\"white\",\"minorgridcolor\":\"white\",\"startlinecolor\":\"#2a3f5f\"},\"baxis\":{\"endlinecolor\":\"#2a3f5f\",\"gridcolor\":\"white\",\"linecolor\":\"white\",\"minorgridcolor\":\"white\",\"startlinecolor\":\"#2a3f5f\"},\"type\":\"carpet\"}],\"table\":[{\"cells\":{\"fill\":{\"color\":\"#EBF0F8\"},\"line\":{\"color\":\"white\"}},\"header\":{\"fill\":{\"color\":\"#C8D4E3\"},\"line\":{\"color\":\"white\"}},\"type\":\"table\"}],\"barpolar\":[{\"marker\":{\"line\":{\"color\":\"#E5ECF6\",\"width\":0.5},\"pattern\":{\"fillmode\":\"overlay\",\"size\":10,\"solidity\":0.2}},\"type\":\"barpolar\"}],\"pie\":[{\"automargin\":true,\"type\":\"pie\"}]},\"layout\":{\"autotypenumbers\":\"strict\",\"colorway\":[\"#636efa\",\"#EF553B\",\"#00cc96\",\"#ab63fa\",\"#FFA15A\",\"#19d3f3\",\"#FF6692\",\"#B6E880\",\"#FF97FF\",\"#FECB52\"],\"font\":{\"color\":\"#2a3f5f\"},\"hovermode\":\"closest\",\"hoverlabel\":{\"align\":\"left\"},\"paper_bgcolor\":\"white\",\"plot_bgcolor\":\"#E5ECF6\",\"polar\":{\"bgcolor\":\"#E5ECF6\",\"angularaxis\":{\"gridcolor\":\"white\",\"linecolor\":\"white\",\"ticks\":\"\"},\"radialaxis\":{\"gridcolor\":\"white\",\"linecolor\":\"white\",\"ticks\":\"\"}},\"ternary\":{\"bgcolor\":\"#E5ECF6\",\"aaxis\":{\"gridcolor\":\"white\",\"linecolor\":\"white\",\"ticks\":\"\"},\"baxis\":{\"gridcolor\":\"white\",\"linecolor\":\"white\",\"ticks\":\"\"},\"caxis\":{\"gridcolor\":\"white\",\"linecolor\":\"white\",\"ticks\":\"\"}},\"coloraxis\":{\"colorbar\":{\"outlinewidth\":0,\"ticks\":\"\"}},\"colorscale\":{\"sequential\":[[0.0,\"#0d0887\"],[0.1111111111111111,\"#46039f\"],[0.2222222222222222,\"#7201a8\"],[0.3333333333333333,\"#9c179e\"],[0.4444444444444444,\"#bd3786\"],[0.5555555555555556,\"#d8576b\"],[0.6666666666666666,\"#ed7953\"],[0.7777777777777778,\"#fb9f3a\"],[0.8888888888888888,\"#fdca26\"],[1.0,\"#f0f921\"]],\"sequentialminus\":[[0.0,\"#0d0887\"],[0.1111111111111111,\"#46039f\"],[0.2222222222222222,\"#7201a8\"],[0.3333333333333333,\"#9c179e\"],[0.4444444444444444,\"#bd3786\"],[0.5555555555555556,\"#d8576b\"],[0.6666666666666666,\"#ed7953\"],[0.7777777777777778,\"#fb9f3a\"],[0.8888888888888888,\"#fdca26\"],[1.0,\"#f0f921\"]],\"diverging\":[[0,\"#8e0152\"],[0.1,\"#c51b7d\"],[0.2,\"#de77ae\"],[0.3,\"#f1b6da\"],[0.4,\"#fde0ef\"],[0.5,\"#f7f7f7\"],[0.6,\"#e6f5d0\"],[0.7,\"#b8e186\"],[0.8,\"#7fbc41\"],[0.9,\"#4d9221\"],[1,\"#276419\"]]},\"xaxis\":{\"gridcolor\":\"white\",\"linecolor\":\"white\",\"ticks\":\"\",\"title\":{\"standoff\":15},\"zerolinecolor\":\"white\",\"automargin\":true,\"zerolinewidth\":2},\"yaxis\":{\"gridcolor\":\"white\",\"linecolor\":\"white\",\"ticks\":\"\",\"title\":{\"standoff\":15},\"zerolinecolor\":\"white\",\"automargin\":true,\"zerolinewidth\":2},\"scene\":{\"xaxis\":{\"backgroundcolor\":\"#E5ECF6\",\"gridcolor\":\"white\",\"linecolor\":\"white\",\"showbackground\":true,\"ticks\":\"\",\"zerolinecolor\":\"white\",\"gridwidth\":2},\"yaxis\":{\"backgroundcolor\":\"#E5ECF6\",\"gridcolor\":\"white\",\"linecolor\":\"white\",\"showbackground\":true,\"ticks\":\"\",\"zerolinecolor\":\"white\",\"gridwidth\":2},\"zaxis\":{\"backgroundcolor\":\"#E5ECF6\",\"gridcolor\":\"white\",\"linecolor\":\"white\",\"showbackground\":true,\"ticks\":\"\",\"zerolinecolor\":\"white\",\"gridwidth\":2}},\"shapedefaults\":{\"line\":{\"color\":\"#2a3f5f\"}},\"annotationdefaults\":{\"arrowcolor\":\"#2a3f5f\",\"arrowhead\":0,\"arrowwidth\":1},\"geo\":{\"bgcolor\":\"white\",\"landcolor\":\"#E5ECF6\",\"subunitcolor\":\"white\",\"showland\":true,\"showlakes\":true,\"lakecolor\":\"white\"},\"title\":{\"x\":0.05},\"mapbox\":{\"style\":\"light\"}}},\"xaxis\":{\"anchor\":\"y\",\"domain\":[0.0,0.49],\"title\":{\"text\":\"Date\"}},\"yaxis\":{\"anchor\":\"x\",\"domain\":[0.0,0.4],\"title\":{},\"type\":\"log\"},\"xaxis2\":{\"anchor\":\"y2\",\"domain\":[0.51,1.0],\"matches\":\"x\",\"title\":{\"text\":\"Date\"}},\"yaxis2\":{\"anchor\":\"x2\",\"domain\":[0.0,0.4],\"matches\":\"y\",\"showticklabels\":false,\"type\":\"log\"},\"xaxis3\":{\"anchor\":\"y3\",\"domain\":[0.0,0.49],\"matches\":\"x\",\"showticklabels\":false,\"title\":{\"text\":\"Date\"}},\"yaxis3\":{\"anchor\":\"x3\",\"domain\":[0.6000000000000001,1.0],\"matches\":\"y\",\"title\":{},\"type\":\"log\"},\"xaxis4\":{\"anchor\":\"y4\",\"domain\":[0.51,1.0],\"matches\":\"x\",\"showticklabels\":false,\"title\":{\"text\":\"Date\"}},\"yaxis4\":{\"anchor\":\"x4\",\"domain\":[0.6000000000000001,1.0],\"matches\":\"y\",\"showticklabels\":false,\"type\":\"log\"},\"annotations\":[{\"font\":{},\"showarrow\":false,\"text\":\"Primary Mineral=Nickel\",\"x\":0.245,\"xanchor\":\"center\",\"xref\":\"paper\",\"y\":0.4,\"yanchor\":\"bottom\",\"yref\":\"paper\"},{\"font\":{},\"showarrow\":false,\"text\":\"Primary Mineral=Manganese\",\"x\":0.755,\"xanchor\":\"center\",\"xref\":\"paper\",\"y\":0.4,\"yanchor\":\"bottom\",\"yref\":\"paper\"},{\"font\":{},\"showarrow\":false,\"text\":\"Primary Mineral=Lithium\",\"x\":0.245,\"xanchor\":\"center\",\"xref\":\"paper\",\"y\":1.0,\"yanchor\":\"bottom\",\"yref\":\"paper\"},{\"font\":{},\"showarrow\":false,\"text\":\"Primary Mineral=Cobalt\",\"x\":0.755,\"xanchor\":\"center\",\"xref\":\"paper\",\"y\":1.0,\"yanchor\":\"bottom\",\"yref\":\"paper\"}],\"legend\":{\"tracegroupgap\":0},\"margin\":{\"t\":60},\"title\":{\"text\":\"Total Reserves over time\"},\"height\":600,\"width\":1000},                        {\"responsive\": true}                    ).then(function(){\n",
       "                            \n",
       "var gd = document.getElementById('e436bbeb-0ea8-4913-a3b1-ff65a2379395');\n",
       "var x = new MutationObserver(function (mutations, observer) {{\n",
       "        var display = window.getComputedStyle(gd).display;\n",
       "        if (!display || display === 'none') {{\n",
       "            console.log([gd, 'removed!']);\n",
       "            Plotly.purge(gd);\n",
       "            observer.disconnect();\n",
       "        }}\n",
       "}});\n",
       "\n",
       "// Listen for the removal of the full notebook cells\n",
       "var notebookContainer = gd.closest('#notebook-container');\n",
       "if (notebookContainer) {{\n",
       "    x.observe(notebookContainer, {childList: true});\n",
       "}}\n",
       "\n",
       "// Listen for the clearing of the current output cell\n",
       "var outputEl = gd.closest('.output');\n",
       "if (outputEl) {{\n",
       "    x.observe(outputEl, {childList: true});\n",
       "}}\n",
       "\n",
       "                        })                };                });            </script>        </div>"
      ]
     },
     "metadata": {},
     "output_type": "display_data"
    }
   ],
   "source": [
    "reserves_over_time = combined \\\n",
    "        .groupby([\"Reserves & Resources As Of Date\", \"Primary Mineral\"], as_index = False)[\"Primary Reserves and Resources\"] \\\n",
    "        .agg(\"sum\")\n",
    "\n",
    "\n",
    "fig = px.line(reserves_over_time, x=\"Reserves & Resources As Of Date\", facet_col = \"Primary Mineral\", \n",
    "        y=\"Primary Reserves and Resources\", log_y = True, facet_col_wrap=2, facet_row_spacing=0.2)\n",
    "\n",
    "fig.update_xaxes(title_text=\"Date\")\n",
    "fig.update_layout(title = \"Total Reserves over time\", height = 600, width = 1000)\n",
    "fig.update_yaxes(title_text=None)\n",
    "fig.show()"
   ]
  },
  {
   "cell_type": "code",
   "execution_count": 167,
   "id": "3e37898e-c873-4163-9c4c-ab7a42bea5ff",
   "metadata": {},
   "outputs": [],
   "source": [
    "def get_breakdown_by_mine(df, year):\n",
    "    reserves_from_year = df[df[\"Reserves & Resources As Of Date\"].dt.year == year].copy()\n",
    "    reserves_from_year[\"Property ID\"] = reserves_from_year[\"Property ID\"].astype(str)\n",
    "    \n",
    "    fig = px.bar(\n",
    "        reserves_from_year.sort_values('Primary Mineral'),\n",
    "        y=\"Primary Mineral\",\n",
    "        x=\"Primary Reserves and Resources\",\n",
    "        color=\"Property ID\",\n",
    "        title=f\"Primary Resources and Reserves per Mine in {year}\",\n",
    "        barmode=\"stack\",  # Use \"stack\" for a stacked bar chart\n",
    "        log_x = True\n",
    "    )\n",
    "    \n",
    "    fig.update_layout(\n",
    "        xaxis_title=\"Primary Reserves and Resources (tonnes)\",\n",
    "        xaxis_tickangle=45\n",
    "    )\n",
    "    return fig\n",
    "    "
   ]
  },
  {
   "cell_type": "code",
   "execution_count": 168,
   "id": "07109591-479d-46c1-9cb5-df457dc7d7e8",
   "metadata": {},
   "outputs": [
    {
     "data": {
      "application/vnd.plotly.v1+json": {
       "config": {
        "plotlyServerURL": "https://plot.ly"
       },
       "data": [
        {
         "alignmentgroup": "True",
         "hovertemplate": "Property ID=34100<br>Primary Reserves and Resources=%{x}<br>Primary Mineral=%{y}<extra></extra>",
         "legendgroup": "34100",
         "marker": {
          "color": "#636efa",
          "pattern": {
           "shape": ""
          }
         },
         "name": "34100",
         "offsetgroup": "34100",
         "orientation": "h",
         "showlegend": true,
         "textposition": "auto",
         "type": "bar",
         "x": [
          20200
         ],
         "xaxis": "x",
         "y": [
          "Cobalt"
         ],
         "yaxis": "y"
        },
        {
         "alignmentgroup": "True",
         "hovertemplate": "Property ID=39280<br>Primary Reserves and Resources=%{x}<br>Primary Mineral=%{y}<extra></extra>",
         "legendgroup": "39280",
         "marker": {
          "color": "#EF553B",
          "pattern": {
           "shape": ""
          }
         },
         "name": "39280",
         "offsetgroup": "39280",
         "orientation": "h",
         "showlegend": true,
         "textposition": "auto",
         "type": "bar",
         "x": [
          83,
          15
         ],
         "xaxis": "x",
         "y": [
          "Cobalt",
          "Nickel"
         ],
         "yaxis": "y"
        },
        {
         "alignmentgroup": "True",
         "hovertemplate": "Property ID=34360<br>Primary Reserves and Resources=%{x}<br>Primary Mineral=%{y}<extra></extra>",
         "legendgroup": "34360",
         "marker": {
          "color": "#00cc96",
          "pattern": {
           "shape": ""
          }
         },
         "name": "34360",
         "offsetgroup": "34360",
         "orientation": "h",
         "showlegend": true,
         "textposition": "auto",
         "type": "bar",
         "x": [
          3506,
          80331
         ],
         "xaxis": "x",
         "y": [
          "Cobalt",
          "Nickel"
         ],
         "yaxis": "y"
        },
        {
         "alignmentgroup": "True",
         "hovertemplate": "Property ID=29601<br>Primary Reserves and Resources=%{x}<br>Primary Mineral=%{y}<extra></extra>",
         "legendgroup": "29601",
         "marker": {
          "color": "#ab63fa",
          "pattern": {
           "shape": ""
          }
         },
         "name": "29601",
         "offsetgroup": "29601",
         "orientation": "h",
         "showlegend": true,
         "textposition": "auto",
         "type": "bar",
         "x": [
          11803,
          144378
         ],
         "xaxis": "x",
         "y": [
          "Cobalt",
          "Nickel"
         ],
         "yaxis": "y"
        },
        {
         "alignmentgroup": "True",
         "hovertemplate": "Property ID=88690<br>Primary Reserves and Resources=%{x}<br>Primary Mineral=%{y}<extra></extra>",
         "legendgroup": "88690",
         "marker": {
          "color": "#FFA15A",
          "pattern": {
           "shape": ""
          }
         },
         "name": "88690",
         "offsetgroup": "88690",
         "orientation": "h",
         "showlegend": true,
         "textposition": "auto",
         "type": "bar",
         "x": [
          1565400,
          11512000
         ],
         "xaxis": "x",
         "y": [
          "Cobalt",
          "Nickel"
         ],
         "yaxis": "y"
        },
        {
         "alignmentgroup": "True",
         "hovertemplate": "Property ID=88695<br>Primary Reserves and Resources=%{x}<br>Primary Mineral=%{y}<extra></extra>",
         "legendgroup": "88695",
         "marker": {
          "color": "#19d3f3",
          "pattern": {
           "shape": ""
          }
         },
         "name": "88695",
         "offsetgroup": "88695",
         "orientation": "h",
         "showlegend": true,
         "textposition": "auto",
         "type": "bar",
         "x": [
          1542000,
          9954000
         ],
         "xaxis": "x",
         "y": [
          "Cobalt",
          "Nickel"
         ],
         "yaxis": "y"
        },
        {
         "alignmentgroup": "True",
         "hovertemplate": "Property ID=35352<br>Primary Reserves and Resources=%{x}<br>Primary Mineral=%{y}<extra></extra>",
         "legendgroup": "35352",
         "marker": {
          "color": "#FF6692",
          "pattern": {
           "shape": ""
          }
         },
         "name": "35352",
         "offsetgroup": "35352",
         "orientation": "h",
         "showlegend": true,
         "textposition": "auto",
         "type": "bar",
         "x": [
          300000,
          3879920
         ],
         "xaxis": "x",
         "y": [
          "Cobalt",
          "Nickel"
         ],
         "yaxis": "y"
        },
        {
         "alignmentgroup": "True",
         "hovertemplate": "Property ID=28851<br>Primary Reserves and Resources=%{x}<br>Primary Mineral=%{y}<extra></extra>",
         "legendgroup": "28851",
         "marker": {
          "color": "#B6E880",
          "pattern": {
           "shape": ""
          }
         },
         "name": "28851",
         "offsetgroup": "28851",
         "orientation": "h",
         "showlegend": true,
         "textposition": "auto",
         "type": "bar",
         "x": [
          168000,
          935000
         ],
         "xaxis": "x",
         "y": [
          "Cobalt",
          "Nickel"
         ],
         "yaxis": "y"
        },
        {
         "alignmentgroup": "True",
         "hovertemplate": "Property ID=30884<br>Primary Reserves and Resources=%{x}<br>Primary Mineral=%{y}<extra></extra>",
         "legendgroup": "30884",
         "marker": {
          "color": "#FF97FF",
          "pattern": {
           "shape": ""
          }
         },
         "name": "30884",
         "offsetgroup": "30884",
         "orientation": "h",
         "showlegend": true,
         "textposition": "auto",
         "type": "bar",
         "x": [
          26700
         ],
         "xaxis": "x",
         "y": [
          "Cobalt"
         ],
         "yaxis": "y"
        },
        {
         "alignmentgroup": "True",
         "hovertemplate": "Property ID=92117<br>Primary Reserves and Resources=%{x}<br>Primary Mineral=%{y}<extra></extra>",
         "legendgroup": "92117",
         "marker": {
          "color": "#FECB52",
          "pattern": {
           "shape": ""
          }
         },
         "name": "92117",
         "offsetgroup": "92117",
         "orientation": "h",
         "showlegend": true,
         "textposition": "auto",
         "type": "bar",
         "x": [
          276900
         ],
         "xaxis": "x",
         "y": [
          "Lithium"
         ],
         "yaxis": "y"
        },
        {
         "alignmentgroup": "True",
         "hovertemplate": "Property ID=81849<br>Primary Reserves and Resources=%{x}<br>Primary Mineral=%{y}<extra></extra>",
         "legendgroup": "81849",
         "marker": {
          "color": "#636efa",
          "pattern": {
           "shape": ""
          }
         },
         "name": "81849",
         "offsetgroup": "81849",
         "orientation": "h",
         "showlegend": true,
         "textposition": "auto",
         "type": "bar",
         "x": [
          241200
         ],
         "xaxis": "x",
         "y": [
          "Lithium"
         ],
         "yaxis": "y"
        },
        {
         "alignmentgroup": "True",
         "hovertemplate": "Property ID=85871<br>Primary Reserves and Resources=%{x}<br>Primary Mineral=%{y}<extra></extra>",
         "legendgroup": "85871",
         "marker": {
          "color": "#EF553B",
          "pattern": {
           "shape": ""
          }
         },
         "name": "85871",
         "offsetgroup": "85871",
         "orientation": "h",
         "showlegend": true,
         "textposition": "auto",
         "type": "bar",
         "x": [
          100000000
         ],
         "xaxis": "x",
         "y": [
          "Manganese"
         ],
         "yaxis": "y"
        },
        {
         "alignmentgroup": "True",
         "hovertemplate": "Property ID=56047<br>Primary Reserves and Resources=%{x}<br>Primary Mineral=%{y}<extra></extra>",
         "legendgroup": "56047",
         "marker": {
          "color": "#00cc96",
          "pattern": {
           "shape": ""
          }
         },
         "name": "56047",
         "offsetgroup": "56047",
         "orientation": "h",
         "showlegend": true,
         "textposition": "auto",
         "type": "bar",
         "x": [
          8200000
         ],
         "xaxis": "x",
         "y": [
          "Manganese"
         ],
         "yaxis": "y"
        },
        {
         "alignmentgroup": "True",
         "hovertemplate": "Property ID=54228<br>Primary Reserves and Resources=%{x}<br>Primary Mineral=%{y}<extra></extra>",
         "legendgroup": "54228",
         "marker": {
          "color": "#ab63fa",
          "pattern": {
           "shape": ""
          }
         },
         "name": "54228",
         "offsetgroup": "54228",
         "orientation": "h",
         "showlegend": true,
         "textposition": "auto",
         "type": "bar",
         "x": [
          13000000
         ],
         "xaxis": "x",
         "y": [
          "Manganese"
         ],
         "yaxis": "y"
        },
        {
         "alignmentgroup": "True",
         "hovertemplate": "Property ID=85867<br>Primary Reserves and Resources=%{x}<br>Primary Mineral=%{y}<extra></extra>",
         "legendgroup": "85867",
         "marker": {
          "color": "#FFA15A",
          "pattern": {
           "shape": ""
          }
         },
         "name": "85867",
         "offsetgroup": "85867",
         "orientation": "h",
         "showlegend": true,
         "textposition": "auto",
         "type": "bar",
         "x": [
          59460000
         ],
         "xaxis": "x",
         "y": [
          "Manganese"
         ],
         "yaxis": "y"
        },
        {
         "alignmentgroup": "True",
         "hovertemplate": "Property ID=54930<br>Primary Reserves and Resources=%{x}<br>Primary Mineral=%{y}<extra></extra>",
         "legendgroup": "54930",
         "marker": {
          "color": "#19d3f3",
          "pattern": {
           "shape": ""
          }
         },
         "name": "54930",
         "offsetgroup": "54930",
         "orientation": "h",
         "showlegend": true,
         "textposition": "auto",
         "type": "bar",
         "x": [
          360000
         ],
         "xaxis": "x",
         "y": [
          "Nickel"
         ],
         "yaxis": "y"
        },
        {
         "alignmentgroup": "True",
         "hovertemplate": "Property ID=27143<br>Primary Reserves and Resources=%{x}<br>Primary Mineral=%{y}<extra></extra>",
         "legendgroup": "27143",
         "marker": {
          "color": "#FF6692",
          "pattern": {
           "shape": ""
          }
         },
         "name": "27143",
         "offsetgroup": "27143",
         "orientation": "h",
         "showlegend": true,
         "textposition": "auto",
         "type": "bar",
         "x": [
          95000
         ],
         "xaxis": "x",
         "y": [
          "Nickel"
         ],
         "yaxis": "y"
        }
       ],
       "layout": {
        "autosize": true,
        "barmode": "stack",
        "legend": {
         "title": {
          "text": "Property ID"
         },
         "tracegroupgap": 0
        },
        "template": {
         "data": {
          "bar": [
           {
            "error_x": {
             "color": "#2a3f5f"
            },
            "error_y": {
             "color": "#2a3f5f"
            },
            "marker": {
             "line": {
              "color": "#E5ECF6",
              "width": 0.5
             },
             "pattern": {
              "fillmode": "overlay",
              "size": 10,
              "solidity": 0.2
             }
            },
            "type": "bar"
           }
          ],
          "barpolar": [
           {
            "marker": {
             "line": {
              "color": "#E5ECF6",
              "width": 0.5
             },
             "pattern": {
              "fillmode": "overlay",
              "size": 10,
              "solidity": 0.2
             }
            },
            "type": "barpolar"
           }
          ],
          "carpet": [
           {
            "aaxis": {
             "endlinecolor": "#2a3f5f",
             "gridcolor": "white",
             "linecolor": "white",
             "minorgridcolor": "white",
             "startlinecolor": "#2a3f5f"
            },
            "baxis": {
             "endlinecolor": "#2a3f5f",
             "gridcolor": "white",
             "linecolor": "white",
             "minorgridcolor": "white",
             "startlinecolor": "#2a3f5f"
            },
            "type": "carpet"
           }
          ],
          "choropleth": [
           {
            "colorbar": {
             "outlinewidth": 0,
             "ticks": ""
            },
            "type": "choropleth"
           }
          ],
          "contour": [
           {
            "colorbar": {
             "outlinewidth": 0,
             "ticks": ""
            },
            "colorscale": [
             [
              0,
              "#0d0887"
             ],
             [
              0.1111111111111111,
              "#46039f"
             ],
             [
              0.2222222222222222,
              "#7201a8"
             ],
             [
              0.3333333333333333,
              "#9c179e"
             ],
             [
              0.4444444444444444,
              "#bd3786"
             ],
             [
              0.5555555555555556,
              "#d8576b"
             ],
             [
              0.6666666666666666,
              "#ed7953"
             ],
             [
              0.7777777777777778,
              "#fb9f3a"
             ],
             [
              0.8888888888888888,
              "#fdca26"
             ],
             [
              1,
              "#f0f921"
             ]
            ],
            "type": "contour"
           }
          ],
          "contourcarpet": [
           {
            "colorbar": {
             "outlinewidth": 0,
             "ticks": ""
            },
            "type": "contourcarpet"
           }
          ],
          "heatmap": [
           {
            "colorbar": {
             "outlinewidth": 0,
             "ticks": ""
            },
            "colorscale": [
             [
              0,
              "#0d0887"
             ],
             [
              0.1111111111111111,
              "#46039f"
             ],
             [
              0.2222222222222222,
              "#7201a8"
             ],
             [
              0.3333333333333333,
              "#9c179e"
             ],
             [
              0.4444444444444444,
              "#bd3786"
             ],
             [
              0.5555555555555556,
              "#d8576b"
             ],
             [
              0.6666666666666666,
              "#ed7953"
             ],
             [
              0.7777777777777778,
              "#fb9f3a"
             ],
             [
              0.8888888888888888,
              "#fdca26"
             ],
             [
              1,
              "#f0f921"
             ]
            ],
            "type": "heatmap"
           }
          ],
          "heatmapgl": [
           {
            "colorbar": {
             "outlinewidth": 0,
             "ticks": ""
            },
            "colorscale": [
             [
              0,
              "#0d0887"
             ],
             [
              0.1111111111111111,
              "#46039f"
             ],
             [
              0.2222222222222222,
              "#7201a8"
             ],
             [
              0.3333333333333333,
              "#9c179e"
             ],
             [
              0.4444444444444444,
              "#bd3786"
             ],
             [
              0.5555555555555556,
              "#d8576b"
             ],
             [
              0.6666666666666666,
              "#ed7953"
             ],
             [
              0.7777777777777778,
              "#fb9f3a"
             ],
             [
              0.8888888888888888,
              "#fdca26"
             ],
             [
              1,
              "#f0f921"
             ]
            ],
            "type": "heatmapgl"
           }
          ],
          "histogram": [
           {
            "marker": {
             "pattern": {
              "fillmode": "overlay",
              "size": 10,
              "solidity": 0.2
             }
            },
            "type": "histogram"
           }
          ],
          "histogram2d": [
           {
            "colorbar": {
             "outlinewidth": 0,
             "ticks": ""
            },
            "colorscale": [
             [
              0,
              "#0d0887"
             ],
             [
              0.1111111111111111,
              "#46039f"
             ],
             [
              0.2222222222222222,
              "#7201a8"
             ],
             [
              0.3333333333333333,
              "#9c179e"
             ],
             [
              0.4444444444444444,
              "#bd3786"
             ],
             [
              0.5555555555555556,
              "#d8576b"
             ],
             [
              0.6666666666666666,
              "#ed7953"
             ],
             [
              0.7777777777777778,
              "#fb9f3a"
             ],
             [
              0.8888888888888888,
              "#fdca26"
             ],
             [
              1,
              "#f0f921"
             ]
            ],
            "type": "histogram2d"
           }
          ],
          "histogram2dcontour": [
           {
            "colorbar": {
             "outlinewidth": 0,
             "ticks": ""
            },
            "colorscale": [
             [
              0,
              "#0d0887"
             ],
             [
              0.1111111111111111,
              "#46039f"
             ],
             [
              0.2222222222222222,
              "#7201a8"
             ],
             [
              0.3333333333333333,
              "#9c179e"
             ],
             [
              0.4444444444444444,
              "#bd3786"
             ],
             [
              0.5555555555555556,
              "#d8576b"
             ],
             [
              0.6666666666666666,
              "#ed7953"
             ],
             [
              0.7777777777777778,
              "#fb9f3a"
             ],
             [
              0.8888888888888888,
              "#fdca26"
             ],
             [
              1,
              "#f0f921"
             ]
            ],
            "type": "histogram2dcontour"
           }
          ],
          "mesh3d": [
           {
            "colorbar": {
             "outlinewidth": 0,
             "ticks": ""
            },
            "type": "mesh3d"
           }
          ],
          "parcoords": [
           {
            "line": {
             "colorbar": {
              "outlinewidth": 0,
              "ticks": ""
             }
            },
            "type": "parcoords"
           }
          ],
          "pie": [
           {
            "automargin": true,
            "type": "pie"
           }
          ],
          "scatter": [
           {
            "fillpattern": {
             "fillmode": "overlay",
             "size": 10,
             "solidity": 0.2
            },
            "type": "scatter"
           }
          ],
          "scatter3d": [
           {
            "line": {
             "colorbar": {
              "outlinewidth": 0,
              "ticks": ""
             }
            },
            "marker": {
             "colorbar": {
              "outlinewidth": 0,
              "ticks": ""
             }
            },
            "type": "scatter3d"
           }
          ],
          "scattercarpet": [
           {
            "marker": {
             "colorbar": {
              "outlinewidth": 0,
              "ticks": ""
             }
            },
            "type": "scattercarpet"
           }
          ],
          "scattergeo": [
           {
            "marker": {
             "colorbar": {
              "outlinewidth": 0,
              "ticks": ""
             }
            },
            "type": "scattergeo"
           }
          ],
          "scattergl": [
           {
            "marker": {
             "colorbar": {
              "outlinewidth": 0,
              "ticks": ""
             }
            },
            "type": "scattergl"
           }
          ],
          "scattermapbox": [
           {
            "marker": {
             "colorbar": {
              "outlinewidth": 0,
              "ticks": ""
             }
            },
            "type": "scattermapbox"
           }
          ],
          "scatterpolar": [
           {
            "marker": {
             "colorbar": {
              "outlinewidth": 0,
              "ticks": ""
             }
            },
            "type": "scatterpolar"
           }
          ],
          "scatterpolargl": [
           {
            "marker": {
             "colorbar": {
              "outlinewidth": 0,
              "ticks": ""
             }
            },
            "type": "scatterpolargl"
           }
          ],
          "scatterternary": [
           {
            "marker": {
             "colorbar": {
              "outlinewidth": 0,
              "ticks": ""
             }
            },
            "type": "scatterternary"
           }
          ],
          "surface": [
           {
            "colorbar": {
             "outlinewidth": 0,
             "ticks": ""
            },
            "colorscale": [
             [
              0,
              "#0d0887"
             ],
             [
              0.1111111111111111,
              "#46039f"
             ],
             [
              0.2222222222222222,
              "#7201a8"
             ],
             [
              0.3333333333333333,
              "#9c179e"
             ],
             [
              0.4444444444444444,
              "#bd3786"
             ],
             [
              0.5555555555555556,
              "#d8576b"
             ],
             [
              0.6666666666666666,
              "#ed7953"
             ],
             [
              0.7777777777777778,
              "#fb9f3a"
             ],
             [
              0.8888888888888888,
              "#fdca26"
             ],
             [
              1,
              "#f0f921"
             ]
            ],
            "type": "surface"
           }
          ],
          "table": [
           {
            "cells": {
             "fill": {
              "color": "#EBF0F8"
             },
             "line": {
              "color": "white"
             }
            },
            "header": {
             "fill": {
              "color": "#C8D4E3"
             },
             "line": {
              "color": "white"
             }
            },
            "type": "table"
           }
          ]
         },
         "layout": {
          "annotationdefaults": {
           "arrowcolor": "#2a3f5f",
           "arrowhead": 0,
           "arrowwidth": 1
          },
          "autotypenumbers": "strict",
          "coloraxis": {
           "colorbar": {
            "outlinewidth": 0,
            "ticks": ""
           }
          },
          "colorscale": {
           "diverging": [
            [
             0,
             "#8e0152"
            ],
            [
             0.1,
             "#c51b7d"
            ],
            [
             0.2,
             "#de77ae"
            ],
            [
             0.3,
             "#f1b6da"
            ],
            [
             0.4,
             "#fde0ef"
            ],
            [
             0.5,
             "#f7f7f7"
            ],
            [
             0.6,
             "#e6f5d0"
            ],
            [
             0.7,
             "#b8e186"
            ],
            [
             0.8,
             "#7fbc41"
            ],
            [
             0.9,
             "#4d9221"
            ],
            [
             1,
             "#276419"
            ]
           ],
           "sequential": [
            [
             0,
             "#0d0887"
            ],
            [
             0.1111111111111111,
             "#46039f"
            ],
            [
             0.2222222222222222,
             "#7201a8"
            ],
            [
             0.3333333333333333,
             "#9c179e"
            ],
            [
             0.4444444444444444,
             "#bd3786"
            ],
            [
             0.5555555555555556,
             "#d8576b"
            ],
            [
             0.6666666666666666,
             "#ed7953"
            ],
            [
             0.7777777777777778,
             "#fb9f3a"
            ],
            [
             0.8888888888888888,
             "#fdca26"
            ],
            [
             1,
             "#f0f921"
            ]
           ],
           "sequentialminus": [
            [
             0,
             "#0d0887"
            ],
            [
             0.1111111111111111,
             "#46039f"
            ],
            [
             0.2222222222222222,
             "#7201a8"
            ],
            [
             0.3333333333333333,
             "#9c179e"
            ],
            [
             0.4444444444444444,
             "#bd3786"
            ],
            [
             0.5555555555555556,
             "#d8576b"
            ],
            [
             0.6666666666666666,
             "#ed7953"
            ],
            [
             0.7777777777777778,
             "#fb9f3a"
            ],
            [
             0.8888888888888888,
             "#fdca26"
            ],
            [
             1,
             "#f0f921"
            ]
           ]
          },
          "colorway": [
           "#636efa",
           "#EF553B",
           "#00cc96",
           "#ab63fa",
           "#FFA15A",
           "#19d3f3",
           "#FF6692",
           "#B6E880",
           "#FF97FF",
           "#FECB52"
          ],
          "font": {
           "color": "#2a3f5f"
          },
          "geo": {
           "bgcolor": "white",
           "lakecolor": "white",
           "landcolor": "#E5ECF6",
           "showlakes": true,
           "showland": true,
           "subunitcolor": "white"
          },
          "hoverlabel": {
           "align": "left"
          },
          "hovermode": "closest",
          "mapbox": {
           "style": "light"
          },
          "paper_bgcolor": "white",
          "plot_bgcolor": "#E5ECF6",
          "polar": {
           "angularaxis": {
            "gridcolor": "white",
            "linecolor": "white",
            "ticks": ""
           },
           "bgcolor": "#E5ECF6",
           "radialaxis": {
            "gridcolor": "white",
            "linecolor": "white",
            "ticks": ""
           }
          },
          "scene": {
           "xaxis": {
            "backgroundcolor": "#E5ECF6",
            "gridcolor": "white",
            "gridwidth": 2,
            "linecolor": "white",
            "showbackground": true,
            "ticks": "",
            "zerolinecolor": "white"
           },
           "yaxis": {
            "backgroundcolor": "#E5ECF6",
            "gridcolor": "white",
            "gridwidth": 2,
            "linecolor": "white",
            "showbackground": true,
            "ticks": "",
            "zerolinecolor": "white"
           },
           "zaxis": {
            "backgroundcolor": "#E5ECF6",
            "gridcolor": "white",
            "gridwidth": 2,
            "linecolor": "white",
            "showbackground": true,
            "ticks": "",
            "zerolinecolor": "white"
           }
          },
          "shapedefaults": {
           "line": {
            "color": "#2a3f5f"
           }
          },
          "ternary": {
           "aaxis": {
            "gridcolor": "white",
            "linecolor": "white",
            "ticks": ""
           },
           "baxis": {
            "gridcolor": "white",
            "linecolor": "white",
            "ticks": ""
           },
           "bgcolor": "#E5ECF6",
           "caxis": {
            "gridcolor": "white",
            "linecolor": "white",
            "ticks": ""
           }
          },
          "title": {
           "x": 0.05
          },
          "xaxis": {
           "automargin": true,
           "gridcolor": "white",
           "linecolor": "white",
           "ticks": "",
           "title": {
            "standoff": 15
           },
           "zerolinecolor": "white",
           "zerolinewidth": 2
          },
          "yaxis": {
           "automargin": true,
           "gridcolor": "white",
           "linecolor": "white",
           "ticks": "",
           "title": {
            "standoff": 15
           },
           "zerolinecolor": "white",
           "zerolinewidth": 2
          }
         }
        },
        "title": {
         "text": "Primary Resources and Reserves per Mine in 2020"
        },
        "xaxis": {
         "anchor": "y",
         "autorange": true,
         "domain": [
          0,
          1
         ],
         "range": [
          0.7827151064534189,
          8.650238158498663
         ],
         "tickangle": 45,
         "title": {
          "text": "Primary Reserves and Resources (tonnes)"
         },
         "type": "log"
        },
        "yaxis": {
         "anchor": "x",
         "autorange": true,
         "domain": [
          0,
          1
         ],
         "range": [
          -0.5,
          3.5
         ],
         "title": {
          "text": "Primary Mineral"
         },
         "type": "category"
        }
       }
      },
      "image/png": "[encoded data removed]",
      "text/html": [
       "<div>                            <div id=\"ee9603f5-2d07-48e2-a6f2-94d37542ee1a\" class=\"plotly-graph-div\" style=\"height:525px; width:100%;\"></div>            <script type=\"text/javascript\">                require([\"plotly\"], function(Plotly) {                    window.PLOTLYENV=window.PLOTLYENV || {};                                    if (document.getElementById(\"ee9603f5-2d07-48e2-a6f2-94d37542ee1a\")) {                    Plotly.newPlot(                        \"ee9603f5-2d07-48e2-a6f2-94d37542ee1a\",                        [{\"alignmentgroup\":\"True\",\"hovertemplate\":\"Property ID=34100\\u003cbr\\u003ePrimary Reserves and Resources=%{x}\\u003cbr\\u003ePrimary Mineral=%{y}\\u003cextra\\u003e\\u003c\\u002fextra\\u003e\",\"legendgroup\":\"34100\",\"marker\":{\"color\":\"#636efa\",\"pattern\":{\"shape\":\"\"}},\"name\":\"34100\",\"offsetgroup\":\"34100\",\"orientation\":\"h\",\"showlegend\":true,\"textposition\":\"auto\",\"x\":[20200.0],\"xaxis\":\"x\",\"y\":[\"Cobalt\"],\"yaxis\":\"y\",\"type\":\"bar\"},{\"alignmentgroup\":\"True\",\"hovertemplate\":\"Property ID=39280\\u003cbr\\u003ePrimary Reserves and Resources=%{x}\\u003cbr\\u003ePrimary Mineral=%{y}\\u003cextra\\u003e\\u003c\\u002fextra\\u003e\",\"legendgroup\":\"39280\",\"marker\":{\"color\":\"#EF553B\",\"pattern\":{\"shape\":\"\"}},\"name\":\"39280\",\"offsetgroup\":\"39280\",\"orientation\":\"h\",\"showlegend\":true,\"textposition\":\"auto\",\"x\":[83.0,15.0],\"xaxis\":\"x\",\"y\":[\"Cobalt\",\"Nickel\"],\"yaxis\":\"y\",\"type\":\"bar\"},{\"alignmentgroup\":\"True\",\"hovertemplate\":\"Property ID=34360\\u003cbr\\u003ePrimary Reserves and Resources=%{x}\\u003cbr\\u003ePrimary Mineral=%{y}\\u003cextra\\u003e\\u003c\\u002fextra\\u003e\",\"legendgroup\":\"34360\",\"marker\":{\"color\":\"#00cc96\",\"pattern\":{\"shape\":\"\"}},\"name\":\"34360\",\"offsetgroup\":\"34360\",\"orientation\":\"h\",\"showlegend\":true,\"textposition\":\"auto\",\"x\":[3506.0,80331.0],\"xaxis\":\"x\",\"y\":[\"Cobalt\",\"Nickel\"],\"yaxis\":\"y\",\"type\":\"bar\"},{\"alignmentgroup\":\"True\",\"hovertemplate\":\"Property ID=29601\\u003cbr\\u003ePrimary Reserves and Resources=%{x}\\u003cbr\\u003ePrimary Mineral=%{y}\\u003cextra\\u003e\\u003c\\u002fextra\\u003e\",\"legendgroup\":\"29601\",\"marker\":{\"color\":\"#ab63fa\",\"pattern\":{\"shape\":\"\"}},\"name\":\"29601\",\"offsetgroup\":\"29601\",\"orientation\":\"h\",\"showlegend\":true,\"textposition\":\"auto\",\"x\":[11803.0,144378.0],\"xaxis\":\"x\",\"y\":[\"Cobalt\",\"Nickel\"],\"yaxis\":\"y\",\"type\":\"bar\"},{\"alignmentgroup\":\"True\",\"hovertemplate\":\"Property ID=88690\\u003cbr\\u003ePrimary Reserves and Resources=%{x}\\u003cbr\\u003ePrimary Mineral=%{y}\\u003cextra\\u003e\\u003c\\u002fextra\\u003e\",\"legendgroup\":\"88690\",\"marker\":{\"color\":\"#FFA15A\",\"pattern\":{\"shape\":\"\"}},\"name\":\"88690\",\"offsetgroup\":\"88690\",\"orientation\":\"h\",\"showlegend\":true,\"textposition\":\"auto\",\"x\":[1565400.0,11512000.0],\"xaxis\":\"x\",\"y\":[\"Cobalt\",\"Nickel\"],\"yaxis\":\"y\",\"type\":\"bar\"},{\"alignmentgroup\":\"True\",\"hovertemplate\":\"Property ID=88695\\u003cbr\\u003ePrimary Reserves and Resources=%{x}\\u003cbr\\u003ePrimary Mineral=%{y}\\u003cextra\\u003e\\u003c\\u002fextra\\u003e\",\"legendgroup\":\"88695\",\"marker\":{\"color\":\"#19d3f3\",\"pattern\":{\"shape\":\"\"}},\"name\":\"88695\",\"offsetgroup\":\"88695\",\"orientation\":\"h\",\"showlegend\":true,\"textposition\":\"auto\",\"x\":[1542000.0,9954000.0],\"xaxis\":\"x\",\"y\":[\"Cobalt\",\"Nickel\"],\"yaxis\":\"y\",\"type\":\"bar\"},{\"alignmentgroup\":\"True\",\"hovertemplate\":\"Property ID=35352\\u003cbr\\u003ePrimary Reserves and Resources=%{x}\\u003cbr\\u003ePrimary Mineral=%{y}\\u003cextra\\u003e\\u003c\\u002fextra\\u003e\",\"legendgroup\":\"35352\",\"marker\":{\"color\":\"#FF6692\",\"pattern\":{\"shape\":\"\"}},\"name\":\"35352\",\"offsetgroup\":\"35352\",\"orientation\":\"h\",\"showlegend\":true,\"textposition\":\"auto\",\"x\":[300000.0,3879920.0],\"xaxis\":\"x\",\"y\":[\"Cobalt\",\"Nickel\"],\"yaxis\":\"y\",\"type\":\"bar\"},{\"alignmentgroup\":\"True\",\"hovertemplate\":\"Property ID=28851\\u003cbr\\u003ePrimary Reserves and Resources=%{x}\\u003cbr\\u003ePrimary Mineral=%{y}\\u003cextra\\u003e\\u003c\\u002fextra\\u003e\",\"legendgroup\":\"28851\",\"marker\":{\"color\":\"#B6E880\",\"pattern\":{\"shape\":\"\"}},\"name\":\"28851\",\"offsetgroup\":\"28851\",\"orientation\":\"h\",\"showlegend\":true,\"textposition\":\"auto\",\"x\":[168000.0,935000.0],\"xaxis\":\"x\",\"y\":[\"Cobalt\",\"Nickel\"],\"yaxis\":\"y\",\"type\":\"bar\"},{\"alignmentgroup\":\"True\",\"hovertemplate\":\"Property ID=30884\\u003cbr\\u003ePrimary Reserves and Resources=%{x}\\u003cbr\\u003ePrimary Mineral=%{y}\\u003cextra\\u003e\\u003c\\u002fextra\\u003e\",\"legendgroup\":\"30884\",\"marker\":{\"color\":\"#FF97FF\",\"pattern\":{\"shape\":\"\"}},\"name\":\"30884\",\"offsetgroup\":\"30884\",\"orientation\":\"h\",\"showlegend\":true,\"textposition\":\"auto\",\"x\":[26700.0],\"xaxis\":\"x\",\"y\":[\"Cobalt\"],\"yaxis\":\"y\",\"type\":\"bar\"},{\"alignmentgroup\":\"True\",\"hovertemplate\":\"Property ID=92117\\u003cbr\\u003ePrimary Reserves and Resources=%{x}\\u003cbr\\u003ePrimary Mineral=%{y}\\u003cextra\\u003e\\u003c\\u002fextra\\u003e\",\"legendgroup\":\"92117\",\"marker\":{\"color\":\"#FECB52\",\"pattern\":{\"shape\":\"\"}},\"name\":\"92117\",\"offsetgroup\":\"92117\",\"orientation\":\"h\",\"showlegend\":true,\"textposition\":\"auto\",\"x\":[276900.0],\"xaxis\":\"x\",\"y\":[\"Lithium\"],\"yaxis\":\"y\",\"type\":\"bar\"},{\"alignmentgroup\":\"True\",\"hovertemplate\":\"Property ID=81849\\u003cbr\\u003ePrimary Reserves and Resources=%{x}\\u003cbr\\u003ePrimary Mineral=%{y}\\u003cextra\\u003e\\u003c\\u002fextra\\u003e\",\"legendgroup\":\"81849\",\"marker\":{\"color\":\"#636efa\",\"pattern\":{\"shape\":\"\"}},\"name\":\"81849\",\"offsetgroup\":\"81849\",\"orientation\":\"h\",\"showlegend\":true,\"textposition\":\"auto\",\"x\":[241200.0],\"xaxis\":\"x\",\"y\":[\"Lithium\"],\"yaxis\":\"y\",\"type\":\"bar\"},{\"alignmentgroup\":\"True\",\"hovertemplate\":\"Property ID=85871\\u003cbr\\u003ePrimary Reserves and Resources=%{x}\\u003cbr\\u003ePrimary Mineral=%{y}\\u003cextra\\u003e\\u003c\\u002fextra\\u003e\",\"legendgroup\":\"85871\",\"marker\":{\"color\":\"#EF553B\",\"pattern\":{\"shape\":\"\"}},\"name\":\"85871\",\"offsetgroup\":\"85871\",\"orientation\":\"h\",\"showlegend\":true,\"textposition\":\"auto\",\"x\":[100000000.0],\"xaxis\":\"x\",\"y\":[\"Manganese\"],\"yaxis\":\"y\",\"type\":\"bar\"},{\"alignmentgroup\":\"True\",\"hovertemplate\":\"Property ID=56047\\u003cbr\\u003ePrimary Reserves and Resources=%{x}\\u003cbr\\u003ePrimary Mineral=%{y}\\u003cextra\\u003e\\u003c\\u002fextra\\u003e\",\"legendgroup\":\"56047\",\"marker\":{\"color\":\"#00cc96\",\"pattern\":{\"shape\":\"\"}},\"name\":\"56047\",\"offsetgroup\":\"56047\",\"orientation\":\"h\",\"showlegend\":true,\"textposition\":\"auto\",\"x\":[8200000.0],\"xaxis\":\"x\",\"y\":[\"Manganese\"],\"yaxis\":\"y\",\"type\":\"bar\"},{\"alignmentgroup\":\"True\",\"hovertemplate\":\"Property ID=54228\\u003cbr\\u003ePrimary Reserves and Resources=%{x}\\u003cbr\\u003ePrimary Mineral=%{y}\\u003cextra\\u003e\\u003c\\u002fextra\\u003e\",\"legendgroup\":\"54228\",\"marker\":{\"color\":\"#ab63fa\",\"pattern\":{\"shape\":\"\"}},\"name\":\"54228\",\"offsetgroup\":\"54228\",\"orientation\":\"h\",\"showlegend\":true,\"textposition\":\"auto\",\"x\":[13000000.0],\"xaxis\":\"x\",\"y\":[\"Manganese\"],\"yaxis\":\"y\",\"type\":\"bar\"},{\"alignmentgroup\":\"True\",\"hovertemplate\":\"Property ID=85867\\u003cbr\\u003ePrimary Reserves and Resources=%{x}\\u003cbr\\u003ePrimary Mineral=%{y}\\u003cextra\\u003e\\u003c\\u002fextra\\u003e\",\"legendgroup\":\"85867\",\"marker\":{\"color\":\"#FFA15A\",\"pattern\":{\"shape\":\"\"}},\"name\":\"85867\",\"offsetgroup\":\"85867\",\"orientation\":\"h\",\"showlegend\":true,\"textposition\":\"auto\",\"x\":[59460000.0],\"xaxis\":\"x\",\"y\":[\"Manganese\"],\"yaxis\":\"y\",\"type\":\"bar\"},{\"alignmentgroup\":\"True\",\"hovertemplate\":\"Property ID=54930\\u003cbr\\u003ePrimary Reserves and Resources=%{x}\\u003cbr\\u003ePrimary Mineral=%{y}\\u003cextra\\u003e\\u003c\\u002fextra\\u003e\",\"legendgroup\":\"54930\",\"marker\":{\"color\":\"#19d3f3\",\"pattern\":{\"shape\":\"\"}},\"name\":\"54930\",\"offsetgroup\":\"54930\",\"orientation\":\"h\",\"showlegend\":true,\"textposition\":\"auto\",\"x\":[360000.0],\"xaxis\":\"x\",\"y\":[\"Nickel\"],\"yaxis\":\"y\",\"type\":\"bar\"},{\"alignmentgroup\":\"True\",\"hovertemplate\":\"Property ID=27143\\u003cbr\\u003ePrimary Reserves and Resources=%{x}\\u003cbr\\u003ePrimary Mineral=%{y}\\u003cextra\\u003e\\u003c\\u002fextra\\u003e\",\"legendgroup\":\"27143\",\"marker\":{\"color\":\"#FF6692\",\"pattern\":{\"shape\":\"\"}},\"name\":\"27143\",\"offsetgroup\":\"27143\",\"orientation\":\"h\",\"showlegend\":true,\"textposition\":\"auto\",\"x\":[95000.0],\"xaxis\":\"x\",\"y\":[\"Nickel\"],\"yaxis\":\"y\",\"type\":\"bar\"}],                        {\"template\":{\"data\":{\"histogram2dcontour\":[{\"type\":\"histogram2dcontour\",\"colorbar\":{\"outlinewidth\":0,\"ticks\":\"\"},\"colorscale\":[[0.0,\"#0d0887\"],[0.1111111111111111,\"#46039f\"],[0.2222222222222222,\"#7201a8\"],[0.3333333333333333,\"#9c179e\"],[0.4444444444444444,\"#bd3786\"],[0.5555555555555556,\"#d8576b\"],[0.6666666666666666,\"#ed7953\"],[0.7777777777777778,\"#fb9f3a\"],[0.8888888888888888,\"#fdca26\"],[1.0,\"#f0f921\"]]}],\"choropleth\":[{\"type\":\"choropleth\",\"colorbar\":{\"outlinewidth\":0,\"ticks\":\"\"}}],\"histogram2d\":[{\"type\":\"histogram2d\",\"colorbar\":{\"outlinewidth\":0,\"ticks\":\"\"},\"colorscale\":[[0.0,\"#0d0887\"],[0.1111111111111111,\"#46039f\"],[0.2222222222222222,\"#7201a8\"],[0.3333333333333333,\"#9c179e\"],[0.4444444444444444,\"#bd3786\"],[0.5555555555555556,\"#d8576b\"],[0.6666666666666666,\"#ed7953\"],[0.7777777777777778,\"#fb9f3a\"],[0.8888888888888888,\"#fdca26\"],[1.0,\"#f0f921\"]]}],\"heatmap\":[{\"type\":\"heatmap\",\"colorbar\":{\"outlinewidth\":0,\"ticks\":\"\"},\"colorscale\":[[0.0,\"#0d0887\"],[0.1111111111111111,\"#46039f\"],[0.2222222222222222,\"#7201a8\"],[0.3333333333333333,\"#9c179e\"],[0.4444444444444444,\"#bd3786\"],[0.5555555555555556,\"#d8576b\"],[0.6666666666666666,\"#ed7953\"],[0.7777777777777778,\"#fb9f3a\"],[0.8888888888888888,\"#fdca26\"],[1.0,\"#f0f921\"]]}],\"heatmapgl\":[{\"type\":\"heatmapgl\",\"colorbar\":{\"outlinewidth\":0,\"ticks\":\"\"},\"colorscale\":[[0.0,\"#0d0887\"],[0.1111111111111111,\"#46039f\"],[0.2222222222222222,\"#7201a8\"],[0.3333333333333333,\"#9c179e\"],[0.4444444444444444,\"#bd3786\"],[0.5555555555555556,\"#d8576b\"],[0.6666666666666666,\"#ed7953\"],[0.7777777777777778,\"#fb9f3a\"],[0.8888888888888888,\"#fdca26\"],[1.0,\"#f0f921\"]]}],\"contourcarpet\":[{\"type\":\"contourcarpet\",\"colorbar\":{\"outlinewidth\":0,\"ticks\":\"\"}}],\"contour\":[{\"type\":\"contour\",\"colorbar\":{\"outlinewidth\":0,\"ticks\":\"\"},\"colorscale\":[[0.0,\"#0d0887\"],[0.1111111111111111,\"#46039f\"],[0.2222222222222222,\"#7201a8\"],[0.3333333333333333,\"#9c179e\"],[0.4444444444444444,\"#bd3786\"],[0.5555555555555556,\"#d8576b\"],[0.6666666666666666,\"#ed7953\"],[0.7777777777777778,\"#fb9f3a\"],[0.8888888888888888,\"#fdca26\"],[1.0,\"#f0f921\"]]}],\"surface\":[{\"type\":\"surface\",\"colorbar\":{\"outlinewidth\":0,\"ticks\":\"\"},\"colorscale\":[[0.0,\"#0d0887\"],[0.1111111111111111,\"#46039f\"],[0.2222222222222222,\"#7201a8\"],[0.3333333333333333,\"#9c179e\"],[0.4444444444444444,\"#bd3786\"],[0.5555555555555556,\"#d8576b\"],[0.6666666666666666,\"#ed7953\"],[0.7777777777777778,\"#fb9f3a\"],[0.8888888888888888,\"#fdca26\"],[1.0,\"#f0f921\"]]}],\"mesh3d\":[{\"type\":\"mesh3d\",\"colorbar\":{\"outlinewidth\":0,\"ticks\":\"\"}}],\"scatter\":[{\"fillpattern\":{\"fillmode\":\"overlay\",\"size\":10,\"solidity\":0.2},\"type\":\"scatter\"}],\"parcoords\":[{\"type\":\"parcoords\",\"line\":{\"colorbar\":{\"outlinewidth\":0,\"ticks\":\"\"}}}],\"scatterpolargl\":[{\"type\":\"scatterpolargl\",\"marker\":{\"colorbar\":{\"outlinewidth\":0,\"ticks\":\"\"}}}],\"bar\":[{\"error_x\":{\"color\":\"#2a3f5f\"},\"error_y\":{\"color\":\"#2a3f5f\"},\"marker\":{\"line\":{\"color\":\"#E5ECF6\",\"width\":0.5},\"pattern\":{\"fillmode\":\"overlay\",\"size\":10,\"solidity\":0.2}},\"type\":\"bar\"}],\"scattergeo\":[{\"type\":\"scattergeo\",\"marker\":{\"colorbar\":{\"outlinewidth\":0,\"ticks\":\"\"}}}],\"scatterpolar\":[{\"type\":\"scatterpolar\",\"marker\":{\"colorbar\":{\"outlinewidth\":0,\"ticks\":\"\"}}}],\"histogram\":[{\"marker\":{\"pattern\":{\"fillmode\":\"overlay\",\"size\":10,\"solidity\":0.2}},\"type\":\"histogram\"}],\"scattergl\":[{\"type\":\"scattergl\",\"marker\":{\"colorbar\":{\"outlinewidth\":0,\"ticks\":\"\"}}}],\"scatter3d\":[{\"type\":\"scatter3d\",\"line\":{\"colorbar\":{\"outlinewidth\":0,\"ticks\":\"\"}},\"marker\":{\"colorbar\":{\"outlinewidth\":0,\"ticks\":\"\"}}}],\"scattermapbox\":[{\"type\":\"scattermapbox\",\"marker\":{\"colorbar\":{\"outlinewidth\":0,\"ticks\":\"\"}}}],\"scatterternary\":[{\"type\":\"scatterternary\",\"marker\":{\"colorbar\":{\"outlinewidth\":0,\"ticks\":\"\"}}}],\"scattercarpet\":[{\"type\":\"scattercarpet\",\"marker\":{\"colorbar\":{\"outlinewidth\":0,\"ticks\":\"\"}}}],\"carpet\":[{\"aaxis\":{\"endlinecolor\":\"#2a3f5f\",\"gridcolor\":\"white\",\"linecolor\":\"white\",\"minorgridcolor\":\"white\",\"startlinecolor\":\"#2a3f5f\"},\"baxis\":{\"endlinecolor\":\"#2a3f5f\",\"gridcolor\":\"white\",\"linecolor\":\"white\",\"minorgridcolor\":\"white\",\"startlinecolor\":\"#2a3f5f\"},\"type\":\"carpet\"}],\"table\":[{\"cells\":{\"fill\":{\"color\":\"#EBF0F8\"},\"line\":{\"color\":\"white\"}},\"header\":{\"fill\":{\"color\":\"#C8D4E3\"},\"line\":{\"color\":\"white\"}},\"type\":\"table\"}],\"barpolar\":[{\"marker\":{\"line\":{\"color\":\"#E5ECF6\",\"width\":0.5},\"pattern\":{\"fillmode\":\"overlay\",\"size\":10,\"solidity\":0.2}},\"type\":\"barpolar\"}],\"pie\":[{\"automargin\":true,\"type\":\"pie\"}]},\"layout\":{\"autotypenumbers\":\"strict\",\"colorway\":[\"#636efa\",\"#EF553B\",\"#00cc96\",\"#ab63fa\",\"#FFA15A\",\"#19d3f3\",\"#FF6692\",\"#B6E880\",\"#FF97FF\",\"#FECB52\"],\"font\":{\"color\":\"#2a3f5f\"},\"hovermode\":\"closest\",\"hoverlabel\":{\"align\":\"left\"},\"paper_bgcolor\":\"white\",\"plot_bgcolor\":\"#E5ECF6\",\"polar\":{\"bgcolor\":\"#E5ECF6\",\"angularaxis\":{\"gridcolor\":\"white\",\"linecolor\":\"white\",\"ticks\":\"\"},\"radialaxis\":{\"gridcolor\":\"white\",\"linecolor\":\"white\",\"ticks\":\"\"}},\"ternary\":{\"bgcolor\":\"#E5ECF6\",\"aaxis\":{\"gridcolor\":\"white\",\"linecolor\":\"white\",\"ticks\":\"\"},\"baxis\":{\"gridcolor\":\"white\",\"linecolor\":\"white\",\"ticks\":\"\"},\"caxis\":{\"gridcolor\":\"white\",\"linecolor\":\"white\",\"ticks\":\"\"}},\"coloraxis\":{\"colorbar\":{\"outlinewidth\":0,\"ticks\":\"\"}},\"colorscale\":{\"sequential\":[[0.0,\"#0d0887\"],[0.1111111111111111,\"#46039f\"],[0.2222222222222222,\"#7201a8\"],[0.3333333333333333,\"#9c179e\"],[0.4444444444444444,\"#bd3786\"],[0.5555555555555556,\"#d8576b\"],[0.6666666666666666,\"#ed7953\"],[0.7777777777777778,\"#fb9f3a\"],[0.8888888888888888,\"#fdca26\"],[1.0,\"#f0f921\"]],\"sequentialminus\":[[0.0,\"#0d0887\"],[0.1111111111111111,\"#46039f\"],[0.2222222222222222,\"#7201a8\"],[0.3333333333333333,\"#9c179e\"],[0.4444444444444444,\"#bd3786\"],[0.5555555555555556,\"#d8576b\"],[0.6666666666666666,\"#ed7953\"],[0.7777777777777778,\"#fb9f3a\"],[0.8888888888888888,\"#fdca26\"],[1.0,\"#f0f921\"]],\"diverging\":[[0,\"#8e0152\"],[0.1,\"#c51b7d\"],[0.2,\"#de77ae\"],[0.3,\"#f1b6da\"],[0.4,\"#fde0ef\"],[0.5,\"#f7f7f7\"],[0.6,\"#e6f5d0\"],[0.7,\"#b8e186\"],[0.8,\"#7fbc41\"],[0.9,\"#4d9221\"],[1,\"#276419\"]]},\"xaxis\":{\"gridcolor\":\"white\",\"linecolor\":\"white\",\"ticks\":\"\",\"title\":{\"standoff\":15},\"zerolinecolor\":\"white\",\"automargin\":true,\"zerolinewidth\":2},\"yaxis\":{\"gridcolor\":\"white\",\"linecolor\":\"white\",\"ticks\":\"\",\"title\":{\"standoff\":15},\"zerolinecolor\":\"white\",\"automargin\":true,\"zerolinewidth\":2},\"scene\":{\"xaxis\":{\"backgroundcolor\":\"#E5ECF6\",\"gridcolor\":\"white\",\"linecolor\":\"white\",\"showbackground\":true,\"ticks\":\"\",\"zerolinecolor\":\"white\",\"gridwidth\":2},\"yaxis\":{\"backgroundcolor\":\"#E5ECF6\",\"gridcolor\":\"white\",\"linecolor\":\"white\",\"showbackground\":true,\"ticks\":\"\",\"zerolinecolor\":\"white\",\"gridwidth\":2},\"zaxis\":{\"backgroundcolor\":\"#E5ECF6\",\"gridcolor\":\"white\",\"linecolor\":\"white\",\"showbackground\":true,\"ticks\":\"\",\"zerolinecolor\":\"white\",\"gridwidth\":2}},\"shapedefaults\":{\"line\":{\"color\":\"#2a3f5f\"}},\"annotationdefaults\":{\"arrowcolor\":\"#2a3f5f\",\"arrowhead\":0,\"arrowwidth\":1},\"geo\":{\"bgcolor\":\"white\",\"landcolor\":\"#E5ECF6\",\"subunitcolor\":\"white\",\"showland\":true,\"showlakes\":true,\"lakecolor\":\"white\"},\"title\":{\"x\":0.05},\"mapbox\":{\"style\":\"light\"}}},\"xaxis\":{\"anchor\":\"y\",\"domain\":[0.0,1.0],\"title\":{\"text\":\"Primary Reserves and Resources (tonnes)\"},\"type\":\"log\",\"tickangle\":45},\"yaxis\":{\"anchor\":\"x\",\"domain\":[0.0,1.0],\"title\":{\"text\":\"Primary Mineral\"}},\"legend\":{\"title\":{\"text\":\"Property ID\"},\"tracegroupgap\":0},\"title\":{\"text\":\"Primary Resources and Reserves per Mine in 2020\"},\"barmode\":\"stack\"},                        {\"responsive\": true}                    ).then(function(){\n",
       "                            \n",
       "var gd = document.getElementById('ee9603f5-2d07-48e2-a6f2-94d37542ee1a');\n",
       "var x = new MutationObserver(function (mutations, observer) {{\n",
       "        var display = window.getComputedStyle(gd).display;\n",
       "        if (!display || display === 'none') {{\n",
       "            console.log([gd, 'removed!']);\n",
       "            Plotly.purge(gd);\n",
       "            observer.disconnect();\n",
       "        }}\n",
       "}});\n",
       "\n",
       "// Listen for the removal of the full notebook cells\n",
       "var notebookContainer = gd.closest('#notebook-container');\n",
       "if (notebookContainer) {{\n",
       "    x.observe(notebookContainer, {childList: true});\n",
       "}}\n",
       "\n",
       "// Listen for the clearing of the current output cell\n",
       "var outputEl = gd.closest('.output');\n",
       "if (outputEl) {{\n",
       "    x.observe(outputEl, {childList: true});\n",
       "}}\n",
       "\n",
       "                        })                };                });            </script>        </div>"
      ]
     },
     "metadata": {},
     "output_type": "display_data"
    }
   ],
   "source": [
    "get_breakdown_by_mine(combined, 2020)\n"
   ]
  },
  {
   "cell_type": "code",
   "execution_count": 170,
   "id": "0b150a53-9abf-4aab-a913-946db140e3b6",
   "metadata": {},
   "outputs": [
    {
     "data": {
      "application/vnd.plotly.v1+json": {
       "config": {
        "plotlyServerURL": "https://plot.ly"
       },
       "data": [
        {
         "alignmentgroup": "True",
         "hovertemplate": "Property ID=83052<br>Primary Reserves and Resources=%{x}<br>Primary Mineral=%{y}<extra></extra>",
         "legendgroup": "83052",
         "marker": {
          "color": "#636efa",
          "pattern": {
           "shape": ""
          }
         },
         "name": "83052",
         "offsetgroup": "83052",
         "orientation": "h",
         "showlegend": true,
         "textposition": "auto",
         "type": "bar",
         "x": [
          2132,
          15286
         ],
         "xaxis": "x",
         "y": [
          "Cobalt",
          "Nickel"
         ],
         "yaxis": "y"
        },
        {
         "alignmentgroup": "True",
         "hovertemplate": "Property ID=33832<br>Primary Reserves and Resources=%{x}<br>Primary Mineral=%{y}<extra></extra>",
         "legendgroup": "33832",
         "marker": {
          "color": "#EF553B",
          "pattern": {
           "shape": ""
          }
         },
         "name": "33832",
         "offsetgroup": "33832",
         "orientation": "h",
         "showlegend": true,
         "textposition": "auto",
         "type": "bar",
         "x": [
          35900,
          914300
         ],
         "xaxis": "x",
         "y": [
          "Cobalt",
          "Nickel"
         ],
         "yaxis": "y"
        },
        {
         "alignmentgroup": "True",
         "hovertemplate": "Property ID=28652<br>Primary Reserves and Resources=%{x}<br>Primary Mineral=%{y}<extra></extra>",
         "legendgroup": "28652",
         "marker": {
          "color": "#00cc96",
          "pattern": {
           "shape": ""
          }
         },
         "name": "28652",
         "offsetgroup": "28652",
         "orientation": "h",
         "showlegend": true,
         "textposition": "auto",
         "type": "bar",
         "x": [
          24000
         ],
         "xaxis": "x",
         "y": [
          "Cobalt"
         ],
         "yaxis": "y"
        },
        {
         "alignmentgroup": "True",
         "hovertemplate": "Property ID=80993<br>Primary Reserves and Resources=%{x}<br>Primary Mineral=%{y}<extra></extra>",
         "legendgroup": "80993",
         "marker": {
          "color": "#ab63fa",
          "pattern": {
           "shape": ""
          }
         },
         "name": "80993",
         "offsetgroup": "80993",
         "orientation": "h",
         "showlegend": true,
         "textposition": "auto",
         "type": "bar",
         "x": [
          21556
         ],
         "xaxis": "x",
         "y": [
          "Cobalt"
         ],
         "yaxis": "y"
        },
        {
         "alignmentgroup": "True",
         "hovertemplate": "Property ID=36715<br>Primary Reserves and Resources=%{x}<br>Primary Mineral=%{y}<extra></extra>",
         "legendgroup": "36715",
         "marker": {
          "color": "#FFA15A",
          "pattern": {
           "shape": ""
          }
         },
         "name": "36715",
         "offsetgroup": "36715",
         "orientation": "h",
         "showlegend": true,
         "textposition": "auto",
         "type": "bar",
         "x": [
          19800,
          1093000
         ],
         "xaxis": "x",
         "y": [
          "Cobalt",
          "Nickel"
         ],
         "yaxis": "y"
        },
        {
         "alignmentgroup": "True",
         "hovertemplate": "Property ID=91671<br>Primary Reserves and Resources=%{x}<br>Primary Mineral=%{y}<extra></extra>",
         "legendgroup": "91671",
         "marker": {
          "color": "#19d3f3",
          "pattern": {
           "shape": ""
          }
         },
         "name": "91671",
         "offsetgroup": "91671",
         "orientation": "h",
         "showlegend": true,
         "textposition": "auto",
         "type": "bar",
         "x": [
          13600,
          173000
         ],
         "xaxis": "x",
         "y": [
          "Cobalt",
          "Nickel"
         ],
         "yaxis": "y"
        },
        {
         "alignmentgroup": "True",
         "hovertemplate": "Property ID=67348<br>Primary Reserves and Resources=%{x}<br>Primary Mineral=%{y}<extra></extra>",
         "legendgroup": "67348",
         "marker": {
          "color": "#FF6692",
          "pattern": {
           "shape": ""
          }
         },
         "name": "67348",
         "offsetgroup": "67348",
         "orientation": "h",
         "showlegend": true,
         "textposition": "auto",
         "type": "bar",
         "x": [
          8300,
          28000
         ],
         "xaxis": "x",
         "y": [
          "Cobalt",
          "Nickel"
         ],
         "yaxis": "y"
        },
        {
         "alignmentgroup": "True",
         "hovertemplate": "Property ID=32190<br>Primary Reserves and Resources=%{x}<br>Primary Mineral=%{y}<extra></extra>",
         "legendgroup": "32190",
         "marker": {
          "color": "#B6E880",
          "pattern": {
           "shape": ""
          }
         },
         "name": "32190",
         "offsetgroup": "32190",
         "orientation": "h",
         "showlegend": true,
         "textposition": "auto",
         "type": "bar",
         "x": [
          8000
         ],
         "xaxis": "x",
         "y": [
          "Cobalt"
         ],
         "yaxis": "y"
        },
        {
         "alignmentgroup": "True",
         "hovertemplate": "Property ID=31689<br>Primary Reserves and Resources=%{x}<br>Primary Mineral=%{y}<extra></extra>",
         "legendgroup": "31689",
         "marker": {
          "color": "#FF97FF",
          "pattern": {
           "shape": ""
          }
         },
         "name": "31689",
         "offsetgroup": "31689",
         "orientation": "h",
         "showlegend": true,
         "textposition": "auto",
         "type": "bar",
         "x": [
          6759,
          254000
         ],
         "xaxis": "x",
         "y": [
          "Cobalt",
          "Nickel"
         ],
         "yaxis": "y"
        },
        {
         "alignmentgroup": "True",
         "hovertemplate": "Property ID=37020<br>Primary Reserves and Resources=%{x}<br>Primary Mineral=%{y}<extra></extra>",
         "legendgroup": "37020",
         "marker": {
          "color": "#FECB52",
          "pattern": {
           "shape": ""
          }
         },
         "name": "37020",
         "offsetgroup": "37020",
         "orientation": "h",
         "showlegend": true,
         "textposition": "auto",
         "type": "bar",
         "x": [
          6123,
          110223
         ],
         "xaxis": "x",
         "y": [
          "Cobalt",
          "Nickel"
         ],
         "yaxis": "y"
        },
        {
         "alignmentgroup": "True",
         "hovertemplate": "Property ID=36221<br>Primary Reserves and Resources=%{x}<br>Primary Mineral=%{y}<extra></extra>",
         "legendgroup": "36221",
         "marker": {
          "color": "#636efa",
          "pattern": {
           "shape": ""
          }
         },
         "name": "36221",
         "offsetgroup": "36221",
         "orientation": "h",
         "showlegend": true,
         "textposition": "auto",
         "type": "bar",
         "x": [
          5974,
          217724
         ],
         "xaxis": "x",
         "y": [
          "Cobalt",
          "Nickel"
         ],
         "yaxis": "y"
        },
        {
         "alignmentgroup": "True",
         "hovertemplate": "Property ID=30900<br>Primary Reserves and Resources=%{x}<br>Primary Mineral=%{y}<extra></extra>",
         "legendgroup": "30900",
         "marker": {
          "color": "#EF553B",
          "pattern": {
           "shape": ""
          }
         },
         "name": "30900",
         "offsetgroup": "30900",
         "orientation": "h",
         "showlegend": true,
         "textposition": "auto",
         "type": "bar",
         "x": [
          46400,
          394300
         ],
         "xaxis": "x",
         "y": [
          "Cobalt",
          "Nickel"
         ],
         "yaxis": "y"
        },
        {
         "alignmentgroup": "True",
         "hovertemplate": "Property ID=38046<br>Primary Reserves and Resources=%{x}<br>Primary Mineral=%{y}<extra></extra>",
         "legendgroup": "38046",
         "marker": {
          "color": "#00cc96",
          "pattern": {
           "shape": ""
          }
         },
         "name": "38046",
         "offsetgroup": "38046",
         "orientation": "h",
         "showlegend": true,
         "textposition": "auto",
         "type": "bar",
         "x": [
          5172
         ],
         "xaxis": "x",
         "y": [
          "Cobalt"
         ],
         "yaxis": "y"
        },
        {
         "alignmentgroup": "True",
         "hovertemplate": "Property ID=34448<br>Primary Reserves and Resources=%{x}<br>Primary Mineral=%{y}<extra></extra>",
         "legendgroup": "34448",
         "marker": {
          "color": "#ab63fa",
          "pattern": {
           "shape": ""
          }
         },
         "name": "34448",
         "offsetgroup": "34448",
         "orientation": "h",
         "showlegend": true,
         "textposition": "auto",
         "type": "bar",
         "x": [
          4060
         ],
         "xaxis": "x",
         "y": [
          "Cobalt"
         ],
         "yaxis": "y"
        },
        {
         "alignmentgroup": "True",
         "hovertemplate": "Property ID=63332<br>Primary Reserves and Resources=%{x}<br>Primary Mineral=%{y}<extra></extra>",
         "legendgroup": "63332",
         "marker": {
          "color": "#FFA15A",
          "pattern": {
           "shape": ""
          }
         },
         "name": "63332",
         "offsetgroup": "63332",
         "orientation": "h",
         "showlegend": true,
         "textposition": "auto",
         "type": "bar",
         "x": [
          3500
         ],
         "xaxis": "x",
         "y": [
          "Cobalt"
         ],
         "yaxis": "y"
        },
        {
         "alignmentgroup": "True",
         "hovertemplate": "Property ID=29079<br>Primary Reserves and Resources=%{x}<br>Primary Mineral=%{y}<extra></extra>",
         "legendgroup": "29079",
         "marker": {
          "color": "#19d3f3",
          "pattern": {
           "shape": ""
          }
         },
         "name": "29079",
         "offsetgroup": "29079",
         "orientation": "h",
         "showlegend": true,
         "textposition": "auto",
         "type": "bar",
         "x": [
          3115,
          102527
         ],
         "xaxis": "x",
         "y": [
          "Cobalt",
          "Nickel"
         ],
         "yaxis": "y"
        },
        {
         "alignmentgroup": "True",
         "hovertemplate": "Property ID=50174<br>Primary Reserves and Resources=%{x}<br>Primary Mineral=%{y}<extra></extra>",
         "legendgroup": "50174",
         "marker": {
          "color": "#FF6692",
          "pattern": {
           "shape": ""
          }
         },
         "name": "50174",
         "offsetgroup": "50174",
         "orientation": "h",
         "showlegend": true,
         "textposition": "auto",
         "type": "bar",
         "x": [
          2405
         ],
         "xaxis": "x",
         "y": [
          "Cobalt"
         ],
         "yaxis": "y"
        },
        {
         "alignmentgroup": "True",
         "hovertemplate": "Property ID=32004<br>Primary Reserves and Resources=%{x}<br>Primary Mineral=%{y}<extra></extra>",
         "legendgroup": "32004",
         "marker": {
          "color": "#B6E880",
          "pattern": {
           "shape": ""
          }
         },
         "name": "32004",
         "offsetgroup": "32004",
         "orientation": "h",
         "showlegend": true,
         "textposition": "auto",
         "type": "bar",
         "x": [
          2200,
          11900
         ],
         "xaxis": "x",
         "y": [
          "Cobalt",
          "Nickel"
         ],
         "yaxis": "y"
        },
        {
         "alignmentgroup": "True",
         "hovertemplate": "Property ID=31810<br>Primary Reserves and Resources=%{x}<br>Primary Mineral=%{y}<extra></extra>",
         "legendgroup": "31810",
         "marker": {
          "color": "#FF97FF",
          "pattern": {
           "shape": ""
          }
         },
         "name": "31810",
         "offsetgroup": "31810",
         "orientation": "h",
         "showlegend": true,
         "textposition": "auto",
         "type": "bar",
         "x": [
          2183,
          31809
         ],
         "xaxis": "x",
         "y": [
          "Cobalt",
          "Nickel"
         ],
         "yaxis": "y"
        },
        {
         "alignmentgroup": "True",
         "hovertemplate": "Property ID=29488<br>Primary Reserves and Resources=%{x}<br>Primary Mineral=%{y}<extra></extra>",
         "legendgroup": "29488",
         "marker": {
          "color": "#FECB52",
          "pattern": {
           "shape": ""
          }
         },
         "name": "29488",
         "offsetgroup": "29488",
         "orientation": "h",
         "showlegend": true,
         "textposition": "auto",
         "type": "bar",
         "x": [
          381
         ],
         "xaxis": "x",
         "y": [
          "Cobalt"
         ],
         "yaxis": "y"
        },
        {
         "alignmentgroup": "True",
         "hovertemplate": "Property ID=27069<br>Primary Reserves and Resources=%{x}<br>Primary Mineral=%{y}<extra></extra>",
         "legendgroup": "27069",
         "marker": {
          "color": "#636efa",
          "pattern": {
           "shape": ""
          }
         },
         "name": "27069",
         "offsetgroup": "27069",
         "orientation": "h",
         "showlegend": true,
         "textposition": "auto",
         "type": "bar",
         "x": [
          1800
         ],
         "xaxis": "x",
         "y": [
          "Cobalt"
         ],
         "yaxis": "y"
        },
        {
         "alignmentgroup": "True",
         "hovertemplate": "Property ID=34690<br>Primary Reserves and Resources=%{x}<br>Primary Mineral=%{y}<extra></extra>",
         "legendgroup": "34690",
         "marker": {
          "color": "#EF553B",
          "pattern": {
           "shape": ""
          }
         },
         "name": "34690",
         "offsetgroup": "34690",
         "orientation": "h",
         "showlegend": true,
         "textposition": "auto",
         "type": "bar",
         "x": [
          1707,
          1435
         ],
         "xaxis": "x",
         "y": [
          "Cobalt",
          "Nickel"
         ],
         "yaxis": "y"
        },
        {
         "alignmentgroup": "True",
         "hovertemplate": "Property ID=35268<br>Primary Reserves and Resources=%{x}<br>Primary Mineral=%{y}<extra></extra>",
         "legendgroup": "35268",
         "marker": {
          "color": "#00cc96",
          "pattern": {
           "shape": ""
          }
         },
         "name": "35268",
         "offsetgroup": "35268",
         "orientation": "h",
         "showlegend": true,
         "textposition": "auto",
         "type": "bar",
         "x": [
          631,
          20995
         ],
         "xaxis": "x",
         "y": [
          "Cobalt",
          "Nickel"
         ],
         "yaxis": "y"
        },
        {
         "alignmentgroup": "True",
         "hovertemplate": "Property ID=29658<br>Primary Reserves and Resources=%{x}<br>Primary Mineral=%{y}<extra></extra>",
         "legendgroup": "29658",
         "marker": {
          "color": "#ab63fa",
          "pattern": {
           "shape": ""
          }
         },
         "name": "29658",
         "offsetgroup": "29658",
         "orientation": "h",
         "showlegend": true,
         "textposition": "auto",
         "type": "bar",
         "x": [
          4417,
          76611
         ],
         "xaxis": "x",
         "y": [
          "Cobalt",
          "Nickel"
         ],
         "yaxis": "y"
        },
        {
         "alignmentgroup": "True",
         "hovertemplate": "Property ID=30976<br>Primary Reserves and Resources=%{x}<br>Primary Mineral=%{y}<extra></extra>",
         "legendgroup": "30976",
         "marker": {
          "color": "#FFA15A",
          "pattern": {
           "shape": ""
          }
         },
         "name": "30976",
         "offsetgroup": "30976",
         "orientation": "h",
         "showlegend": true,
         "textposition": "auto",
         "type": "bar",
         "x": [
          66000,
          891000
         ],
         "xaxis": "x",
         "y": [
          "Cobalt",
          "Nickel"
         ],
         "yaxis": "y"
        },
        {
         "alignmentgroup": "True",
         "hovertemplate": "Property ID=91505<br>Primary Reserves and Resources=%{x}<br>Primary Mineral=%{y}<extra></extra>",
         "legendgroup": "91505",
         "marker": {
          "color": "#19d3f3",
          "pattern": {
           "shape": ""
          }
         },
         "name": "91505",
         "offsetgroup": "91505",
         "orientation": "h",
         "showlegend": true,
         "textposition": "auto",
         "type": "bar",
         "x": [
          74300,
          763000
         ],
         "xaxis": "x",
         "y": [
          "Cobalt",
          "Nickel"
         ],
         "yaxis": "y"
        },
        {
         "alignmentgroup": "True",
         "hovertemplate": "Property ID=91942<br>Primary Reserves and Resources=%{x}<br>Primary Mineral=%{y}<extra></extra>",
         "legendgroup": "91942",
         "marker": {
          "color": "#FF6692",
          "pattern": {
           "shape": ""
          }
         },
         "name": "91942",
         "offsetgroup": "91942",
         "orientation": "h",
         "showlegend": true,
         "textposition": "auto",
         "type": "bar",
         "x": [
          120000
         ],
         "xaxis": "x",
         "y": [
          "Cobalt"
         ],
         "yaxis": "y"
        },
        {
         "alignmentgroup": "True",
         "hovertemplate": "Property ID=29849<br>Primary Reserves and Resources=%{x}<br>Primary Mineral=%{y}<extra></extra>",
         "legendgroup": "29849",
         "marker": {
          "color": "#B6E880",
          "pattern": {
           "shape": ""
          }
         },
         "name": "29849",
         "offsetgroup": "29849",
         "orientation": "h",
         "showlegend": true,
         "textposition": "auto",
         "type": "bar",
         "x": [
          82,
          3625
         ],
         "xaxis": "x",
         "y": [
          "Cobalt",
          "Nickel"
         ],
         "yaxis": "y"
        },
        {
         "alignmentgroup": "True",
         "hovertemplate": "Property ID=27443<br>Primary Reserves and Resources=%{x}<br>Primary Mineral=%{y}<extra></extra>",
         "legendgroup": "27443",
         "marker": {
          "color": "#FF97FF",
          "pattern": {
           "shape": ""
          }
         },
         "name": "27443",
         "offsetgroup": "27443",
         "orientation": "h",
         "showlegend": true,
         "textposition": "auto",
         "type": "bar",
         "x": [
          300,
          5700
         ],
         "xaxis": "x",
         "y": [
          "Cobalt",
          "Nickel"
         ],
         "yaxis": "y"
        },
        {
         "alignmentgroup": "True",
         "hovertemplate": "Property ID=33075<br>Primary Reserves and Resources=%{x}<br>Primary Mineral=%{y}<extra></extra>",
         "legendgroup": "33075",
         "marker": {
          "color": "#FECB52",
          "pattern": {
           "shape": ""
          }
         },
         "name": "33075",
         "offsetgroup": "33075",
         "orientation": "h",
         "showlegend": true,
         "textposition": "auto",
         "type": "bar",
         "x": [
          544,
          48398
         ],
         "xaxis": "x",
         "y": [
          "Cobalt",
          "Nickel"
         ],
         "yaxis": "y"
        },
        {
         "alignmentgroup": "True",
         "hovertemplate": "Property ID=88294<br>Primary Reserves and Resources=%{x}<br>Primary Mineral=%{y}<extra></extra>",
         "legendgroup": "88294",
         "marker": {
          "color": "#636efa",
          "pattern": {
           "shape": ""
          }
         },
         "name": "88294",
         "offsetgroup": "88294",
         "orientation": "h",
         "showlegend": true,
         "textposition": "auto",
         "type": "bar",
         "x": [
          400,
          7200
         ],
         "xaxis": "x",
         "y": [
          "Cobalt",
          "Nickel"
         ],
         "yaxis": "y"
        },
        {
         "alignmentgroup": "True",
         "hovertemplate": "Property ID=37465<br>Primary Reserves and Resources=%{x}<br>Primary Mineral=%{y}<extra></extra>",
         "legendgroup": "37465",
         "marker": {
          "color": "#EF553B",
          "pattern": {
           "shape": ""
          }
         },
         "name": "37465",
         "offsetgroup": "37465",
         "orientation": "h",
         "showlegend": true,
         "textposition": "auto",
         "type": "bar",
         "x": [
          132000
         ],
         "xaxis": "x",
         "y": [
          "Cobalt"
         ],
         "yaxis": "y"
        },
        {
         "alignmentgroup": "True",
         "hovertemplate": "Property ID=24927<br>Primary Reserves and Resources=%{x}<br>Primary Mineral=%{y}<extra></extra>",
         "legendgroup": "24927",
         "marker": {
          "color": "#00cc96",
          "pattern": {
           "shape": ""
          }
         },
         "name": "24927",
         "offsetgroup": "24927",
         "orientation": "h",
         "showlegend": true,
         "textposition": "auto",
         "type": "bar",
         "x": [
          230800,
          2834400
         ],
         "xaxis": "x",
         "y": [
          "Cobalt",
          "Nickel"
         ],
         "yaxis": "y"
        },
        {
         "alignmentgroup": "True",
         "hovertemplate": "Property ID=28269<br>Primary Reserves and Resources=%{x}<br>Primary Mineral=%{y}<extra></extra>",
         "legendgroup": "28269",
         "marker": {
          "color": "#ab63fa",
          "pattern": {
           "shape": ""
          }
         },
         "name": "28269",
         "offsetgroup": "28269",
         "orientation": "h",
         "showlegend": true,
         "textposition": "auto",
         "type": "bar",
         "x": [
          263800
         ],
         "xaxis": "x",
         "y": [
          "Cobalt"
         ],
         "yaxis": "y"
        },
        {
         "alignmentgroup": "True",
         "hovertemplate": "Property ID=81026<br>Primary Reserves and Resources=%{x}<br>Primary Mineral=%{y}<extra></extra>",
         "legendgroup": "81026",
         "marker": {
          "color": "#FFA15A",
          "pattern": {
           "shape": ""
          }
         },
         "name": "81026",
         "offsetgroup": "81026",
         "orientation": "h",
         "showlegend": true,
         "textposition": "auto",
         "type": "bar",
         "x": [
          270000,
          3700000
         ],
         "xaxis": "x",
         "y": [
          "Cobalt",
          "Nickel"
         ],
         "yaxis": "y"
        },
        {
         "alignmentgroup": "True",
         "hovertemplate": "Property ID=87822<br>Primary Reserves and Resources=%{x}<br>Primary Mineral=%{y}<extra></extra>",
         "legendgroup": "87822",
         "marker": {
          "color": "#19d3f3",
          "pattern": {
           "shape": ""
          }
         },
         "name": "87822",
         "offsetgroup": "87822",
         "orientation": "h",
         "showlegend": true,
         "textposition": "auto",
         "type": "bar",
         "x": [
          3080
         ],
         "xaxis": "x",
         "y": [
          "Lithium"
         ],
         "yaxis": "y"
        },
        {
         "alignmentgroup": "True",
         "hovertemplate": "Property ID=37384<br>Primary Reserves and Resources=%{x}<br>Primary Mineral=%{y}<extra></extra>",
         "legendgroup": "37384",
         "marker": {
          "color": "#FF6692",
          "pattern": {
           "shape": ""
          }
         },
         "name": "37384",
         "offsetgroup": "37384",
         "orientation": "h",
         "showlegend": true,
         "textposition": "auto",
         "type": "bar",
         "x": [
          24280000
         ],
         "xaxis": "x",
         "y": [
          "Lithium"
         ],
         "yaxis": "y"
        },
        {
         "alignmentgroup": "True",
         "hovertemplate": "Property ID=36750<br>Primary Reserves and Resources=%{x}<br>Primary Mineral=%{y}<extra></extra>",
         "legendgroup": "36750",
         "marker": {
          "color": "#B6E880",
          "pattern": {
           "shape": ""
          }
         },
         "name": "36750",
         "offsetgroup": "36750",
         "orientation": "h",
         "showlegend": true,
         "textposition": "auto",
         "type": "bar",
         "x": [
          7700000
         ],
         "xaxis": "x",
         "y": [
          "Lithium"
         ],
         "yaxis": "y"
        },
        {
         "alignmentgroup": "True",
         "hovertemplate": "Property ID=92140<br>Primary Reserves and Resources=%{x}<br>Primary Mineral=%{y}<extra></extra>",
         "legendgroup": "92140",
         "marker": {
          "color": "#FF97FF",
          "pattern": {
           "shape": ""
          }
         },
         "name": "92140",
         "offsetgroup": "92140",
         "orientation": "h",
         "showlegend": true,
         "textposition": "auto",
         "type": "bar",
         "x": [
          7328560
         ],
         "xaxis": "x",
         "y": [
          "Lithium"
         ],
         "yaxis": "y"
        },
        {
         "alignmentgroup": "True",
         "hovertemplate": "Property ID=83014<br>Primary Reserves and Resources=%{x}<br>Primary Mineral=%{y}<extra></extra>",
         "legendgroup": "83014",
         "marker": {
          "color": "#FECB52",
          "pattern": {
           "shape": ""
          }
         },
         "name": "83014",
         "offsetgroup": "83014",
         "orientation": "h",
         "showlegend": true,
         "textposition": "auto",
         "type": "bar",
         "x": [
          4300000
         ],
         "xaxis": "x",
         "y": [
          "Lithium"
         ],
         "yaxis": "y"
        },
        {
         "alignmentgroup": "True",
         "hovertemplate": "Property ID=36866<br>Primary Reserves and Resources=%{x}<br>Primary Mineral=%{y}<extra></extra>",
         "legendgroup": "36866",
         "marker": {
          "color": "#636efa",
          "pattern": {
           "shape": ""
          }
         },
         "name": "36866",
         "offsetgroup": "36866",
         "orientation": "h",
         "showlegend": true,
         "textposition": "auto",
         "type": "bar",
         "x": [
          2581000
         ],
         "xaxis": "x",
         "y": [
          "Lithium"
         ],
         "yaxis": "y"
        },
        {
         "alignmentgroup": "True",
         "hovertemplate": "Property ID=80026<br>Primary Reserves and Resources=%{x}<br>Primary Mineral=%{y}<extra></extra>",
         "legendgroup": "80026",
         "marker": {
          "color": "#EF553B",
          "pattern": {
           "shape": ""
          }
         },
         "name": "80026",
         "offsetgroup": "80026",
         "orientation": "h",
         "showlegend": true,
         "textposition": "auto",
         "type": "bar",
         "x": [
          846000
         ],
         "xaxis": "x",
         "y": [
          "Lithium"
         ],
         "yaxis": "y"
        },
        {
         "alignmentgroup": "True",
         "hovertemplate": "Property ID=37507<br>Primary Reserves and Resources=%{x}<br>Primary Mineral=%{y}<extra></extra>",
         "legendgroup": "37507",
         "marker": {
          "color": "#00cc96",
          "pattern": {
           "shape": ""
          }
         },
         "name": "37507",
         "offsetgroup": "37507",
         "orientation": "h",
         "showlegend": true,
         "textposition": "auto",
         "type": "bar",
         "x": [
          736000
         ],
         "xaxis": "x",
         "y": [
          "Lithium"
         ],
         "yaxis": "y"
        },
        {
         "alignmentgroup": "True",
         "hovertemplate": "Property ID=90708<br>Primary Reserves and Resources=%{x}<br>Primary Mineral=%{y}<extra></extra>",
         "legendgroup": "90708",
         "marker": {
          "color": "#ab63fa",
          "pattern": {
           "shape": ""
          }
         },
         "name": "90708",
         "offsetgroup": "90708",
         "orientation": "h",
         "showlegend": true,
         "textposition": "auto",
         "type": "bar",
         "x": [
          603813
         ],
         "xaxis": "x",
         "y": [
          "Lithium"
         ],
         "yaxis": "y"
        },
        {
         "alignmentgroup": "True",
         "hovertemplate": "Property ID=90710<br>Primary Reserves and Resources=%{x}<br>Primary Mineral=%{y}<extra></extra>",
         "legendgroup": "90710",
         "marker": {
          "color": "#FFA15A",
          "pattern": {
           "shape": ""
          }
         },
         "name": "90710",
         "offsetgroup": "90710",
         "orientation": "h",
         "showlegend": true,
         "textposition": "auto",
         "type": "bar",
         "x": [
          574000
         ],
         "xaxis": "x",
         "y": [
          "Lithium"
         ],
         "yaxis": "y"
        },
        {
         "alignmentgroup": "True",
         "hovertemplate": "Property ID=91065<br>Primary Reserves and Resources=%{x}<br>Primary Mineral=%{y}<extra></extra>",
         "legendgroup": "91065",
         "marker": {
          "color": "#19d3f3",
          "pattern": {
           "shape": ""
          }
         },
         "name": "91065",
         "offsetgroup": "91065",
         "orientation": "h",
         "showlegend": true,
         "textposition": "auto",
         "type": "bar",
         "x": [
          227800
         ],
         "xaxis": "x",
         "y": [
          "Lithium"
         ],
         "yaxis": "y"
        },
        {
         "alignmentgroup": "True",
         "hovertemplate": "Property ID=87489<br>Primary Reserves and Resources=%{x}<br>Primary Mineral=%{y}<extra></extra>",
         "legendgroup": "87489",
         "marker": {
          "color": "#FF6692",
          "pattern": {
           "shape": ""
          }
         },
         "name": "87489",
         "offsetgroup": "87489",
         "orientation": "h",
         "showlegend": true,
         "textposition": "auto",
         "type": "bar",
         "x": [
          180000
         ],
         "xaxis": "x",
         "y": [
          "Lithium"
         ],
         "yaxis": "y"
        },
        {
         "alignmentgroup": "True",
         "hovertemplate": "Property ID=39374<br>Primary Reserves and Resources=%{x}<br>Primary Mineral=%{y}<extra></extra>",
         "legendgroup": "39374",
         "marker": {
          "color": "#B6E880",
          "pattern": {
           "shape": ""
          }
         },
         "name": "39374",
         "offsetgroup": "39374",
         "orientation": "h",
         "showlegend": true,
         "textposition": "auto",
         "type": "bar",
         "x": [
          135300
         ],
         "xaxis": "x",
         "y": [
          "Lithium"
         ],
         "yaxis": "y"
        },
        {
         "alignmentgroup": "True",
         "hovertemplate": "Property ID=33967<br>Primary Reserves and Resources=%{x}<br>Primary Mineral=%{y}<extra></extra>",
         "legendgroup": "33967",
         "marker": {
          "color": "#FF97FF",
          "pattern": {
           "shape": ""
          }
         },
         "name": "33967",
         "offsetgroup": "33967",
         "orientation": "h",
         "showlegend": true,
         "textposition": "auto",
         "type": "bar",
         "x": [
          129000
         ],
         "xaxis": "x",
         "y": [
          "Lithium"
         ],
         "yaxis": "y"
        },
        {
         "alignmentgroup": "True",
         "hovertemplate": "Property ID=38460<br>Primary Reserves and Resources=%{x}<br>Primary Mineral=%{y}<extra></extra>",
         "legendgroup": "38460",
         "marker": {
          "color": "#FECB52",
          "pattern": {
           "shape": ""
          }
         },
         "name": "38460",
         "offsetgroup": "38460",
         "orientation": "h",
         "showlegend": true,
         "textposition": "auto",
         "type": "bar",
         "x": [
          129000
         ],
         "xaxis": "x",
         "y": [
          "Lithium"
         ],
         "yaxis": "y"
        },
        {
         "alignmentgroup": "True",
         "hovertemplate": "Property ID=91034<br>Primary Reserves and Resources=%{x}<br>Primary Mineral=%{y}<extra></extra>",
         "legendgroup": "91034",
         "marker": {
          "color": "#636efa",
          "pattern": {
           "shape": ""
          }
         },
         "name": "91034",
         "offsetgroup": "91034",
         "orientation": "h",
         "showlegend": true,
         "textposition": "auto",
         "type": "bar",
         "x": [
          680000
         ],
         "xaxis": "x",
         "y": [
          "Lithium"
         ],
         "yaxis": "y"
        },
        {
         "alignmentgroup": "True",
         "hovertemplate": "Property ID=91495<br>Primary Reserves and Resources=%{x}<br>Primary Mineral=%{y}<extra></extra>",
         "legendgroup": "91495",
         "marker": {
          "color": "#EF553B",
          "pattern": {
           "shape": ""
          }
         },
         "name": "91495",
         "offsetgroup": "91495",
         "orientation": "h",
         "showlegend": true,
         "textposition": "auto",
         "type": "bar",
         "x": [
          583000
         ],
         "xaxis": "x",
         "y": [
          "Lithium"
         ],
         "yaxis": "y"
        },
        {
         "alignmentgroup": "True",
         "hovertemplate": "Property ID=61022<br>Primary Reserves and Resources=%{x}<br>Primary Mineral=%{y}<extra></extra>",
         "legendgroup": "61022",
         "marker": {
          "color": "#00cc96",
          "pattern": {
           "shape": ""
          }
         },
         "name": "61022",
         "offsetgroup": "61022",
         "orientation": "h",
         "showlegend": true,
         "textposition": "auto",
         "type": "bar",
         "x": [
          62860000
         ],
         "xaxis": "x",
         "y": [
          "Manganese"
         ],
         "yaxis": "y"
        },
        {
         "alignmentgroup": "True",
         "hovertemplate": "Property ID=54423<br>Primary Reserves and Resources=%{x}<br>Primary Mineral=%{y}<extra></extra>",
         "legendgroup": "54423",
         "marker": {
          "color": "#ab63fa",
          "pattern": {
           "shape": ""
          }
         },
         "name": "54423",
         "offsetgroup": "54423",
         "orientation": "h",
         "showlegend": true,
         "textposition": "auto",
         "type": "bar",
         "x": [
          6860000
         ],
         "xaxis": "x",
         "y": [
          "Manganese"
         ],
         "yaxis": "y"
        },
        {
         "alignmentgroup": "True",
         "hovertemplate": "Property ID=81746<br>Primary Reserves and Resources=%{x}<br>Primary Mineral=%{y}<extra></extra>",
         "legendgroup": "81746",
         "marker": {
          "color": "#FFA15A",
          "pattern": {
           "shape": ""
          }
         },
         "name": "81746",
         "offsetgroup": "81746",
         "orientation": "h",
         "showlegend": true,
         "textposition": "auto",
         "type": "bar",
         "x": [
          26960000
         ],
         "xaxis": "x",
         "y": [
          "Manganese"
         ],
         "yaxis": "y"
        },
        {
         "alignmentgroup": "True",
         "hovertemplate": "Property ID=88353<br>Primary Reserves and Resources=%{x}<br>Primary Mineral=%{y}<extra></extra>",
         "legendgroup": "88353",
         "marker": {
          "color": "#19d3f3",
          "pattern": {
           "shape": ""
          }
         },
         "name": "88353",
         "offsetgroup": "88353",
         "orientation": "h",
         "showlegend": true,
         "textposition": "auto",
         "type": "bar",
         "x": [
          70000
         ],
         "xaxis": "x",
         "y": [
          "Nickel"
         ],
         "yaxis": "y"
        },
        {
         "alignmentgroup": "True",
         "hovertemplate": "Property ID=28308<br>Primary Reserves and Resources=%{x}<br>Primary Mineral=%{y}<extra></extra>",
         "legendgroup": "28308",
         "marker": {
          "color": "#FF6692",
          "pattern": {
           "shape": ""
          }
         },
         "name": "28308",
         "offsetgroup": "28308",
         "orientation": "h",
         "showlegend": true,
         "textposition": "auto",
         "type": "bar",
         "x": [
          61726
         ],
         "xaxis": "x",
         "y": [
          "Nickel"
         ],
         "yaxis": "y"
        },
        {
         "alignmentgroup": "True",
         "hovertemplate": "Property ID=32396<br>Primary Reserves and Resources=%{x}<br>Primary Mineral=%{y}<extra></extra>",
         "legendgroup": "32396",
         "marker": {
          "color": "#B6E880",
          "pattern": {
           "shape": ""
          }
         },
         "name": "32396",
         "offsetgroup": "32396",
         "orientation": "h",
         "showlegend": true,
         "textposition": "auto",
         "type": "bar",
         "x": [
          58000
         ],
         "xaxis": "x",
         "y": [
          "Nickel"
         ],
         "yaxis": "y"
        },
        {
         "alignmentgroup": "True",
         "hovertemplate": "Property ID=32779<br>Primary Reserves and Resources=%{x}<br>Primary Mineral=%{y}<extra></extra>",
         "legendgroup": "32779",
         "marker": {
          "color": "#FF97FF",
          "pattern": {
           "shape": ""
          }
         },
         "name": "32779",
         "offsetgroup": "32779",
         "orientation": "h",
         "showlegend": true,
         "textposition": "auto",
         "type": "bar",
         "x": [
          56500
         ],
         "xaxis": "x",
         "y": [
          "Nickel"
         ],
         "yaxis": "y"
        },
        {
         "alignmentgroup": "True",
         "hovertemplate": "Property ID=35378<br>Primary Reserves and Resources=%{x}<br>Primary Mineral=%{y}<extra></extra>",
         "legendgroup": "35378",
         "marker": {
          "color": "#FECB52",
          "pattern": {
           "shape": ""
          }
         },
         "name": "35378",
         "offsetgroup": "35378",
         "orientation": "h",
         "showlegend": true,
         "textposition": "auto",
         "type": "bar",
         "x": [
          56000
         ],
         "xaxis": "x",
         "y": [
          "Nickel"
         ],
         "yaxis": "y"
        },
        {
         "alignmentgroup": "True",
         "hovertemplate": "Property ID=32575<br>Primary Reserves and Resources=%{x}<br>Primary Mineral=%{y}<extra></extra>",
         "legendgroup": "32575",
         "marker": {
          "color": "#636efa",
          "pattern": {
           "shape": ""
          }
         },
         "name": "32575",
         "offsetgroup": "32575",
         "orientation": "h",
         "showlegend": true,
         "textposition": "auto",
         "type": "bar",
         "x": [
          42300
         ],
         "xaxis": "x",
         "y": [
          "Nickel"
         ],
         "yaxis": "y"
        },
        {
         "alignmentgroup": "True",
         "hovertemplate": "Property ID=31758<br>Primary Reserves and Resources=%{x}<br>Primary Mineral=%{y}<extra></extra>",
         "legendgroup": "31758",
         "marker": {
          "color": "#EF553B",
          "pattern": {
           "shape": ""
          }
         },
         "name": "31758",
         "offsetgroup": "31758",
         "orientation": "h",
         "showlegend": true,
         "textposition": "auto",
         "type": "bar",
         "x": [
          101200
         ],
         "xaxis": "x",
         "y": [
          "Nickel"
         ],
         "yaxis": "y"
        },
        {
         "alignmentgroup": "True",
         "hovertemplate": "Property ID=75613<br>Primary Reserves and Resources=%{x}<br>Primary Mineral=%{y}<extra></extra>",
         "legendgroup": "75613",
         "marker": {
          "color": "#00cc96",
          "pattern": {
           "shape": ""
          }
         },
         "name": "75613",
         "offsetgroup": "75613",
         "orientation": "h",
         "showlegend": true,
         "textposition": "auto",
         "type": "bar",
         "x": [
          134100
         ],
         "xaxis": "x",
         "y": [
          "Nickel"
         ],
         "yaxis": "y"
        },
        {
         "alignmentgroup": "True",
         "hovertemplate": "Property ID=31761<br>Primary Reserves and Resources=%{x}<br>Primary Mineral=%{y}<extra></extra>",
         "legendgroup": "31761",
         "marker": {
          "color": "#ab63fa",
          "pattern": {
           "shape": ""
          }
         },
         "name": "31761",
         "offsetgroup": "31761",
         "orientation": "h",
         "showlegend": true,
         "textposition": "auto",
         "type": "bar",
         "x": [
          3834000
         ],
         "xaxis": "x",
         "y": [
          "Nickel"
         ],
         "yaxis": "y"
        },
        {
         "alignmentgroup": "True",
         "hovertemplate": "Property ID=38500<br>Primary Reserves and Resources=%{x}<br>Primary Mineral=%{y}<extra></extra>",
         "legendgroup": "38500",
         "marker": {
          "color": "#FFA15A",
          "pattern": {
           "shape": ""
          }
         },
         "name": "38500",
         "offsetgroup": "38500",
         "orientation": "h",
         "showlegend": true,
         "textposition": "auto",
         "type": "bar",
         "x": [
          2666214
         ],
         "xaxis": "x",
         "y": [
          "Nickel"
         ],
         "yaxis": "y"
        },
        {
         "alignmentgroup": "True",
         "hovertemplate": "Property ID=91679<br>Primary Reserves and Resources=%{x}<br>Primary Mineral=%{y}<extra></extra>",
         "legendgroup": "91679",
         "marker": {
          "color": "#19d3f3",
          "pattern": {
           "shape": ""
          }
         },
         "name": "91679",
         "offsetgroup": "91679",
         "orientation": "h",
         "showlegend": true,
         "textposition": "auto",
         "type": "bar",
         "x": [
          1790000
         ],
         "xaxis": "x",
         "y": [
          "Nickel"
         ],
         "yaxis": "y"
        },
        {
         "alignmentgroup": "True",
         "hovertemplate": "Property ID=34218<br>Primary Reserves and Resources=%{x}<br>Primary Mineral=%{y}<extra></extra>",
         "legendgroup": "34218",
         "marker": {
          "color": "#FF6692",
          "pattern": {
           "shape": ""
          }
         },
         "name": "34218",
         "offsetgroup": "34218",
         "orientation": "h",
         "showlegend": true,
         "textposition": "auto",
         "type": "bar",
         "x": [
          1341800
         ],
         "xaxis": "x",
         "y": [
          "Nickel"
         ],
         "yaxis": "y"
        },
        {
         "alignmentgroup": "True",
         "hovertemplate": "Property ID=30849<br>Primary Reserves and Resources=%{x}<br>Primary Mineral=%{y}<extra></extra>",
         "legendgroup": "30849",
         "marker": {
          "color": "#B6E880",
          "pattern": {
           "shape": ""
          }
         },
         "name": "30849",
         "offsetgroup": "30849",
         "orientation": "h",
         "showlegend": true,
         "textposition": "auto",
         "type": "bar",
         "x": [
          471000
         ],
         "xaxis": "x",
         "y": [
          "Nickel"
         ],
         "yaxis": "y"
        },
        {
         "alignmentgroup": "True",
         "hovertemplate": "Property ID=84035<br>Primary Reserves and Resources=%{x}<br>Primary Mineral=%{y}<extra></extra>",
         "legendgroup": "84035",
         "marker": {
          "color": "#FF97FF",
          "pattern": {
           "shape": ""
          }
         },
         "name": "84035",
         "offsetgroup": "84035",
         "orientation": "h",
         "showlegend": true,
         "textposition": "auto",
         "type": "bar",
         "x": [
          218000
         ],
         "xaxis": "x",
         "y": [
          "Nickel"
         ],
         "yaxis": "y"
        },
        {
         "alignmentgroup": "True",
         "hovertemplate": "Property ID=84130<br>Primary Reserves and Resources=%{x}<br>Primary Mineral=%{y}<extra></extra>",
         "legendgroup": "84130",
         "marker": {
          "color": "#FECB52",
          "pattern": {
           "shape": ""
          }
         },
         "name": "84130",
         "offsetgroup": "84130",
         "orientation": "h",
         "showlegend": true,
         "textposition": "auto",
         "type": "bar",
         "x": [
          907
         ],
         "xaxis": "x",
         "y": [
          "Nickel"
         ],
         "yaxis": "y"
        }
       ],
       "layout": {
        "autosize": true,
        "barmode": "stack",
        "legend": {
         "title": {
          "text": "Property ID"
         },
         "tracegroupgap": 0
        },
        "template": {
         "data": {
          "bar": [
           {
            "error_x": {
             "color": "#2a3f5f"
            },
            "error_y": {
             "color": "#2a3f5f"
            },
            "marker": {
             "line": {
              "color": "#E5ECF6",
              "width": 0.5
             },
             "pattern": {
              "fillmode": "overlay",
              "size": 10,
              "solidity": 0.2
             }
            },
            "type": "bar"
           }
          ],
          "barpolar": [
           {
            "marker": {
             "line": {
              "color": "#E5ECF6",
              "width": 0.5
             },
             "pattern": {
              "fillmode": "overlay",
              "size": 10,
              "solidity": 0.2
             }
            },
            "type": "barpolar"
           }
          ],
          "carpet": [
           {
            "aaxis": {
             "endlinecolor": "#2a3f5f",
             "gridcolor": "white",
             "linecolor": "white",
             "minorgridcolor": "white",
             "startlinecolor": "#2a3f5f"
            },
            "baxis": {
             "endlinecolor": "#2a3f5f",
             "gridcolor": "white",
             "linecolor": "white",
             "minorgridcolor": "white",
             "startlinecolor": "#2a3f5f"
            },
            "type": "carpet"
           }
          ],
          "choropleth": [
           {
            "colorbar": {
             "outlinewidth": 0,
             "ticks": ""
            },
            "type": "choropleth"
           }
          ],
          "contour": [
           {
            "colorbar": {
             "outlinewidth": 0,
             "ticks": ""
            },
            "colorscale": [
             [
              0,
              "#0d0887"
             ],
             [
              0.1111111111111111,
              "#46039f"
             ],
             [
              0.2222222222222222,
              "#7201a8"
             ],
             [
              0.3333333333333333,
              "#9c179e"
             ],
             [
              0.4444444444444444,
              "#bd3786"
             ],
             [
              0.5555555555555556,
              "#d8576b"
             ],
             [
              0.6666666666666666,
              "#ed7953"
             ],
             [
              0.7777777777777778,
              "#fb9f3a"
             ],
             [
              0.8888888888888888,
              "#fdca26"
             ],
             [
              1,
              "#f0f921"
             ]
            ],
            "type": "contour"
           }
          ],
          "contourcarpet": [
           {
            "colorbar": {
             "outlinewidth": 0,
             "ticks": ""
            },
            "type": "contourcarpet"
           }
          ],
          "heatmap": [
           {
            "colorbar": {
             "outlinewidth": 0,
             "ticks": ""
            },
            "colorscale": [
             [
              0,
              "#0d0887"
             ],
             [
              0.1111111111111111,
              "#46039f"
             ],
             [
              0.2222222222222222,
              "#7201a8"
             ],
             [
              0.3333333333333333,
              "#9c179e"
             ],
             [
              0.4444444444444444,
              "#bd3786"
             ],
             [
              0.5555555555555556,
              "#d8576b"
             ],
             [
              0.6666666666666666,
              "#ed7953"
             ],
             [
              0.7777777777777778,
              "#fb9f3a"
             ],
             [
              0.8888888888888888,
              "#fdca26"
             ],
             [
              1,
              "#f0f921"
             ]
            ],
            "type": "heatmap"
           }
          ],
          "heatmapgl": [
           {
            "colorbar": {
             "outlinewidth": 0,
             "ticks": ""
            },
            "colorscale": [
             [
              0,
              "#0d0887"
             ],
             [
              0.1111111111111111,
              "#46039f"
             ],
             [
              0.2222222222222222,
              "#7201a8"
             ],
             [
              0.3333333333333333,
              "#9c179e"
             ],
             [
              0.4444444444444444,
              "#bd3786"
             ],
             [
              0.5555555555555556,
              "#d8576b"
             ],
             [
              0.6666666666666666,
              "#ed7953"
             ],
             [
              0.7777777777777778,
              "#fb9f3a"
             ],
             [
              0.8888888888888888,
              "#fdca26"
             ],
             [
              1,
              "#f0f921"
             ]
            ],
            "type": "heatmapgl"
           }
          ],
          "histogram": [
           {
            "marker": {
             "pattern": {
              "fillmode": "overlay",
              "size": 10,
              "solidity": 0.2
             }
            },
            "type": "histogram"
           }
          ],
          "histogram2d": [
           {
            "colorbar": {
             "outlinewidth": 0,
             "ticks": ""
            },
            "colorscale": [
             [
              0,
              "#0d0887"
             ],
             [
              0.1111111111111111,
              "#46039f"
             ],
             [
              0.2222222222222222,
              "#7201a8"
             ],
             [
              0.3333333333333333,
              "#9c179e"
             ],
             [
              0.4444444444444444,
              "#bd3786"
             ],
             [
              0.5555555555555556,
              "#d8576b"
             ],
             [
              0.6666666666666666,
              "#ed7953"
             ],
             [
              0.7777777777777778,
              "#fb9f3a"
             ],
             [
              0.8888888888888888,
              "#fdca26"
             ],
             [
              1,
              "#f0f921"
             ]
            ],
            "type": "histogram2d"
           }
          ],
          "histogram2dcontour": [
           {
            "colorbar": {
             "outlinewidth": 0,
             "ticks": ""
            },
            "colorscale": [
             [
              0,
              "#0d0887"
             ],
             [
              0.1111111111111111,
              "#46039f"
             ],
             [
              0.2222222222222222,
              "#7201a8"
             ],
             [
              0.3333333333333333,
              "#9c179e"
             ],
             [
              0.4444444444444444,
              "#bd3786"
             ],
             [
              0.5555555555555556,
              "#d8576b"
             ],
             [
              0.6666666666666666,
              "#ed7953"
             ],
             [
              0.7777777777777778,
              "#fb9f3a"
             ],
             [
              0.8888888888888888,
              "#fdca26"
             ],
             [
              1,
              "#f0f921"
             ]
            ],
            "type": "histogram2dcontour"
           }
          ],
          "mesh3d": [
           {
            "colorbar": {
             "outlinewidth": 0,
             "ticks": ""
            },
            "type": "mesh3d"
           }
          ],
          "parcoords": [
           {
            "line": {
             "colorbar": {
              "outlinewidth": 0,
              "ticks": ""
             }
            },
            "type": "parcoords"
           }
          ],
          "pie": [
           {
            "automargin": true,
            "type": "pie"
           }
          ],
          "scatter": [
           {
            "fillpattern": {
             "fillmode": "overlay",
             "size": 10,
             "solidity": 0.2
            },
            "type": "scatter"
           }
          ],
          "scatter3d": [
           {
            "line": {
             "colorbar": {
              "outlinewidth": 0,
              "ticks": ""
             }
            },
            "marker": {
             "colorbar": {
              "outlinewidth": 0,
              "ticks": ""
             }
            },
            "type": "scatter3d"
           }
          ],
          "scattercarpet": [
           {
            "marker": {
             "colorbar": {
              "outlinewidth": 0,
              "ticks": ""
             }
            },
            "type": "scattercarpet"
           }
          ],
          "scattergeo": [
           {
            "marker": {
             "colorbar": {
              "outlinewidth": 0,
              "ticks": ""
             }
            },
            "type": "scattergeo"
           }
          ],
          "scattergl": [
           {
            "marker": {
             "colorbar": {
              "outlinewidth": 0,
              "ticks": ""
             }
            },
            "type": "scattergl"
           }
          ],
          "scattermapbox": [
           {
            "marker": {
             "colorbar": {
              "outlinewidth": 0,
              "ticks": ""
             }
            },
            "type": "scattermapbox"
           }
          ],
          "scatterpolar": [
           {
            "marker": {
             "colorbar": {
              "outlinewidth": 0,
              "ticks": ""
             }
            },
            "type": "scatterpolar"
           }
          ],
          "scatterpolargl": [
           {
            "marker": {
             "colorbar": {
              "outlinewidth": 0,
              "ticks": ""
             }
            },
            "type": "scatterpolargl"
           }
          ],
          "scatterternary": [
           {
            "marker": {
             "colorbar": {
              "outlinewidth": 0,
              "ticks": ""
             }
            },
            "type": "scatterternary"
           }
          ],
          "surface": [
           {
            "colorbar": {
             "outlinewidth": 0,
             "ticks": ""
            },
            "colorscale": [
             [
              0,
              "#0d0887"
             ],
             [
              0.1111111111111111,
              "#46039f"
             ],
             [
              0.2222222222222222,
              "#7201a8"
             ],
             [
              0.3333333333333333,
              "#9c179e"
             ],
             [
              0.4444444444444444,
              "#bd3786"
             ],
             [
              0.5555555555555556,
              "#d8576b"
             ],
             [
              0.6666666666666666,
              "#ed7953"
             ],
             [
              0.7777777777777778,
              "#fb9f3a"
             ],
             [
              0.8888888888888888,
              "#fdca26"
             ],
             [
              1,
              "#f0f921"
             ]
            ],
            "type": "surface"
           }
          ],
          "table": [
           {
            "cells": {
             "fill": {
              "color": "#EBF0F8"
             },
             "line": {
              "color": "white"
             }
            },
            "header": {
             "fill": {
              "color": "#C8D4E3"
             },
             "line": {
              "color": "white"
             }
            },
            "type": "table"
           }
          ]
         },
         "layout": {
          "annotationdefaults": {
           "arrowcolor": "#2a3f5f",
           "arrowhead": 0,
           "arrowwidth": 1
          },
          "autotypenumbers": "strict",
          "coloraxis": {
           "colorbar": {
            "outlinewidth": 0,
            "ticks": ""
           }
          },
          "colorscale": {
           "diverging": [
            [
             0,
             "#8e0152"
            ],
            [
             0.1,
             "#c51b7d"
            ],
            [
             0.2,
             "#de77ae"
            ],
            [
             0.3,
             "#f1b6da"
            ],
            [
             0.4,
             "#fde0ef"
            ],
            [
             0.5,
             "#f7f7f7"
            ],
            [
             0.6,
             "#e6f5d0"
            ],
            [
             0.7,
             "#b8e186"
            ],
            [
             0.8,
             "#7fbc41"
            ],
            [
             0.9,
             "#4d9221"
            ],
            [
             1,
             "#276419"
            ]
           ],
           "sequential": [
            [
             0,
             "#0d0887"
            ],
            [
             0.1111111111111111,
             "#46039f"
            ],
            [
             0.2222222222222222,
             "#7201a8"
            ],
            [
             0.3333333333333333,
             "#9c179e"
            ],
            [
             0.4444444444444444,
             "#bd3786"
            ],
            [
             0.5555555555555556,
             "#d8576b"
            ],
            [
             0.6666666666666666,
             "#ed7953"
            ],
            [
             0.7777777777777778,
             "#fb9f3a"
            ],
            [
             0.8888888888888888,
             "#fdca26"
            ],
            [
             1,
             "#f0f921"
            ]
           ],
           "sequentialminus": [
            [
             0,
             "#0d0887"
            ],
            [
             0.1111111111111111,
             "#46039f"
            ],
            [
             0.2222222222222222,
             "#7201a8"
            ],
            [
             0.3333333333333333,
             "#9c179e"
            ],
            [
             0.4444444444444444,
             "#bd3786"
            ],
            [
             0.5555555555555556,
             "#d8576b"
            ],
            [
             0.6666666666666666,
             "#ed7953"
            ],
            [
             0.7777777777777778,
             "#fb9f3a"
            ],
            [
             0.8888888888888888,
             "#fdca26"
            ],
            [
             1,
             "#f0f921"
            ]
           ]
          },
          "colorway": [
           "#636efa",
           "#EF553B",
           "#00cc96",
           "#ab63fa",
           "#FFA15A",
           "#19d3f3",
           "#FF6692",
           "#B6E880",
           "#FF97FF",
           "#FECB52"
          ],
          "font": {
           "color": "#2a3f5f"
          },
          "geo": {
           "bgcolor": "white",
           "lakecolor": "white",
           "landcolor": "#E5ECF6",
           "showlakes": true,
           "showland": true,
           "subunitcolor": "white"
          },
          "hoverlabel": {
           "align": "left"
          },
          "hovermode": "closest",
          "mapbox": {
           "style": "light"
          },
          "paper_bgcolor": "white",
          "plot_bgcolor": "#E5ECF6",
          "polar": {
           "angularaxis": {
            "gridcolor": "white",
            "linecolor": "white",
            "ticks": ""
           },
           "bgcolor": "#E5ECF6",
           "radialaxis": {
            "gridcolor": "white",
            "linecolor": "white",
            "ticks": ""
           }
          },
          "scene": {
           "xaxis": {
            "backgroundcolor": "#E5ECF6",
            "gridcolor": "white",
            "gridwidth": 2,
            "linecolor": "white",
            "showbackground": true,
            "ticks": "",
            "zerolinecolor": "white"
           },
           "yaxis": {
            "backgroundcolor": "#E5ECF6",
            "gridcolor": "white",
            "gridwidth": 2,
            "linecolor": "white",
            "showbackground": true,
            "ticks": "",
            "zerolinecolor": "white"
           },
           "zaxis": {
            "backgroundcolor": "#E5ECF6",
            "gridcolor": "white",
            "gridwidth": 2,
            "linecolor": "white",
            "showbackground": true,
            "ticks": "",
            "zerolinecolor": "white"
           }
          },
          "shapedefaults": {
           "line": {
            "color": "#2a3f5f"
           }
          },
          "ternary": {
           "aaxis": {
            "gridcolor": "white",
            "linecolor": "white",
            "ticks": ""
           },
           "baxis": {
            "gridcolor": "white",
            "linecolor": "white",
            "ticks": ""
           },
           "bgcolor": "#E5ECF6",
           "caxis": {
            "gridcolor": "white",
            "linecolor": "white",
            "ticks": ""
           }
          },
          "title": {
           "x": 0.05
          },
          "xaxis": {
           "automargin": true,
           "gridcolor": "white",
           "linecolor": "white",
           "ticks": "",
           "title": {
            "standoff": 15
           },
           "zerolinecolor": "white",
           "zerolinewidth": 2
          },
          "yaxis": {
           "automargin": true,
           "gridcolor": "white",
           "linecolor": "white",
           "ticks": "",
           "title": {
            "standoff": 15
           },
           "zerolinecolor": "white",
           "zerolinewidth": 2
          }
         }
        },
        "title": {
         "text": "Primary Resources and Reserves per Mine in 2022"
        },
        "xaxis": {
         "anchor": "y",
         "autorange": true,
         "domain": [
          0,
          1
         ],
         "range": [
          3.0700900091666967,
          8.24403383292345
         ],
         "tickangle": 45,
         "title": {
          "text": "Primary Reserves and Resources (tonnes)"
         },
         "type": "log"
        },
        "yaxis": {
         "anchor": "x",
         "autorange": true,
         "domain": [
          0,
          1
         ],
         "range": [
          -0.5,
          3.5
         ],
         "title": {
          "text": "Primary Mineral"
         },
         "type": "category"
        }
       }
      },
      "image/png": "[encoded data removed]",
      "text/html": [
       "<div>                            <div id=\"62164c44-ff37-4e06-9623-77275999f826\" class=\"plotly-graph-div\" style=\"height:525px; width:100%;\"></div>            <script type=\"text/javascript\">                require([\"plotly\"], function(Plotly) {                    window.PLOTLYENV=window.PLOTLYENV || {};                                    if (document.getElementById(\"62164c44-ff37-4e06-9623-77275999f826\")) {                    Plotly.newPlot(                        \"62164c44-ff37-4e06-9623-77275999f826\",                        [{\"alignmentgroup\":\"True\",\"hovertemplate\":\"Property ID=83052\\u003cbr\\u003ePrimary Reserves and Resources=%{x}\\u003cbr\\u003ePrimary Mineral=%{y}\\u003cextra\\u003e\\u003c\\u002fextra\\u003e\",\"legendgroup\":\"83052\",\"marker\":{\"color\":\"#636efa\",\"pattern\":{\"shape\":\"\"}},\"name\":\"83052\",\"offsetgroup\":\"83052\",\"orientation\":\"h\",\"showlegend\":true,\"textposition\":\"auto\",\"x\":[2132.0,15286.0],\"xaxis\":\"x\",\"y\":[\"Cobalt\",\"Nickel\"],\"yaxis\":\"y\",\"type\":\"bar\"},{\"alignmentgroup\":\"True\",\"hovertemplate\":\"Property ID=33832\\u003cbr\\u003ePrimary Reserves and Resources=%{x}\\u003cbr\\u003ePrimary Mineral=%{y}\\u003cextra\\u003e\\u003c\\u002fextra\\u003e\",\"legendgroup\":\"33832\",\"marker\":{\"color\":\"#EF553B\",\"pattern\":{\"shape\":\"\"}},\"name\":\"33832\",\"offsetgroup\":\"33832\",\"orientation\":\"h\",\"showlegend\":true,\"textposition\":\"auto\",\"x\":[35900.0,914300.0],\"xaxis\":\"x\",\"y\":[\"Cobalt\",\"Nickel\"],\"yaxis\":\"y\",\"type\":\"bar\"},{\"alignmentgroup\":\"True\",\"hovertemplate\":\"Property ID=28652\\u003cbr\\u003ePrimary Reserves and Resources=%{x}\\u003cbr\\u003ePrimary Mineral=%{y}\\u003cextra\\u003e\\u003c\\u002fextra\\u003e\",\"legendgroup\":\"28652\",\"marker\":{\"color\":\"#00cc96\",\"pattern\":{\"shape\":\"\"}},\"name\":\"28652\",\"offsetgroup\":\"28652\",\"orientation\":\"h\",\"showlegend\":true,\"textposition\":\"auto\",\"x\":[24000.0],\"xaxis\":\"x\",\"y\":[\"Cobalt\"],\"yaxis\":\"y\",\"type\":\"bar\"},{\"alignmentgroup\":\"True\",\"hovertemplate\":\"Property ID=80993\\u003cbr\\u003ePrimary Reserves and Resources=%{x}\\u003cbr\\u003ePrimary Mineral=%{y}\\u003cextra\\u003e\\u003c\\u002fextra\\u003e\",\"legendgroup\":\"80993\",\"marker\":{\"color\":\"#ab63fa\",\"pattern\":{\"shape\":\"\"}},\"name\":\"80993\",\"offsetgroup\":\"80993\",\"orientation\":\"h\",\"showlegend\":true,\"textposition\":\"auto\",\"x\":[21556.0],\"xaxis\":\"x\",\"y\":[\"Cobalt\"],\"yaxis\":\"y\",\"type\":\"bar\"},{\"alignmentgroup\":\"True\",\"hovertemplate\":\"Property ID=36715\\u003cbr\\u003ePrimary Reserves and Resources=%{x}\\u003cbr\\u003ePrimary Mineral=%{y}\\u003cextra\\u003e\\u003c\\u002fextra\\u003e\",\"legendgroup\":\"36715\",\"marker\":{\"color\":\"#FFA15A\",\"pattern\":{\"shape\":\"\"}},\"name\":\"36715\",\"offsetgroup\":\"36715\",\"orientation\":\"h\",\"showlegend\":true,\"textposition\":\"auto\",\"x\":[19800.0,1093000.0],\"xaxis\":\"x\",\"y\":[\"Cobalt\",\"Nickel\"],\"yaxis\":\"y\",\"type\":\"bar\"},{\"alignmentgroup\":\"True\",\"hovertemplate\":\"Property ID=91671\\u003cbr\\u003ePrimary Reserves and Resources=%{x}\\u003cbr\\u003ePrimary Mineral=%{y}\\u003cextra\\u003e\\u003c\\u002fextra\\u003e\",\"legendgroup\":\"91671\",\"marker\":{\"color\":\"#19d3f3\",\"pattern\":{\"shape\":\"\"}},\"name\":\"91671\",\"offsetgroup\":\"91671\",\"orientation\":\"h\",\"showlegend\":true,\"textposition\":\"auto\",\"x\":[13600.0,173000.0],\"xaxis\":\"x\",\"y\":[\"Cobalt\",\"Nickel\"],\"yaxis\":\"y\",\"type\":\"bar\"},{\"alignmentgroup\":\"True\",\"hovertemplate\":\"Property ID=67348\\u003cbr\\u003ePrimary Reserves and Resources=%{x}\\u003cbr\\u003ePrimary Mineral=%{y}\\u003cextra\\u003e\\u003c\\u002fextra\\u003e\",\"legendgroup\":\"67348\",\"marker\":{\"color\":\"#FF6692\",\"pattern\":{\"shape\":\"\"}},\"name\":\"67348\",\"offsetgroup\":\"67348\",\"orientation\":\"h\",\"showlegend\":true,\"textposition\":\"auto\",\"x\":[8300.0,28000.0],\"xaxis\":\"x\",\"y\":[\"Cobalt\",\"Nickel\"],\"yaxis\":\"y\",\"type\":\"bar\"},{\"alignmentgroup\":\"True\",\"hovertemplate\":\"Property ID=32190\\u003cbr\\u003ePrimary Reserves and Resources=%{x}\\u003cbr\\u003ePrimary Mineral=%{y}\\u003cextra\\u003e\\u003c\\u002fextra\\u003e\",\"legendgroup\":\"32190\",\"marker\":{\"color\":\"#B6E880\",\"pattern\":{\"shape\":\"\"}},\"name\":\"32190\",\"offsetgroup\":\"32190\",\"orientation\":\"h\",\"showlegend\":true,\"textposition\":\"auto\",\"x\":[8000.0],\"xaxis\":\"x\",\"y\":[\"Cobalt\"],\"yaxis\":\"y\",\"type\":\"bar\"},{\"alignmentgroup\":\"True\",\"hovertemplate\":\"Property ID=31689\\u003cbr\\u003ePrimary Reserves and Resources=%{x}\\u003cbr\\u003ePrimary Mineral=%{y}\\u003cextra\\u003e\\u003c\\u002fextra\\u003e\",\"legendgroup\":\"31689\",\"marker\":{\"color\":\"#FF97FF\",\"pattern\":{\"shape\":\"\"}},\"name\":\"31689\",\"offsetgroup\":\"31689\",\"orientation\":\"h\",\"showlegend\":true,\"textposition\":\"auto\",\"x\":[6759.0,254000.0],\"xaxis\":\"x\",\"y\":[\"Cobalt\",\"Nickel\"],\"yaxis\":\"y\",\"type\":\"bar\"},{\"alignmentgroup\":\"True\",\"hovertemplate\":\"Property ID=37020\\u003cbr\\u003ePrimary Reserves and Resources=%{x}\\u003cbr\\u003ePrimary Mineral=%{y}\\u003cextra\\u003e\\u003c\\u002fextra\\u003e\",\"legendgroup\":\"37020\",\"marker\":{\"color\":\"#FECB52\",\"pattern\":{\"shape\":\"\"}},\"name\":\"37020\",\"offsetgroup\":\"37020\",\"orientation\":\"h\",\"showlegend\":true,\"textposition\":\"auto\",\"x\":[6123.0,110223.0],\"xaxis\":\"x\",\"y\":[\"Cobalt\",\"Nickel\"],\"yaxis\":\"y\",\"type\":\"bar\"},{\"alignmentgroup\":\"True\",\"hovertemplate\":\"Property ID=36221\\u003cbr\\u003ePrimary Reserves and Resources=%{x}\\u003cbr\\u003ePrimary Mineral=%{y}\\u003cextra\\u003e\\u003c\\u002fextra\\u003e\",\"legendgroup\":\"36221\",\"marker\":{\"color\":\"#636efa\",\"pattern\":{\"shape\":\"\"}},\"name\":\"36221\",\"offsetgroup\":\"36221\",\"orientation\":\"h\",\"showlegend\":true,\"textposition\":\"auto\",\"x\":[5974.0,217724.0],\"xaxis\":\"x\",\"y\":[\"Cobalt\",\"Nickel\"],\"yaxis\":\"y\",\"type\":\"bar\"},{\"alignmentgroup\":\"True\",\"hovertemplate\":\"Property ID=30900\\u003cbr\\u003ePrimary Reserves and Resources=%{x}\\u003cbr\\u003ePrimary Mineral=%{y}\\u003cextra\\u003e\\u003c\\u002fextra\\u003e\",\"legendgroup\":\"30900\",\"marker\":{\"color\":\"#EF553B\",\"pattern\":{\"shape\":\"\"}},\"name\":\"30900\",\"offsetgroup\":\"30900\",\"orientation\":\"h\",\"showlegend\":true,\"textposition\":\"auto\",\"x\":[46400.0,394300.0],\"xaxis\":\"x\",\"y\":[\"Cobalt\",\"Nickel\"],\"yaxis\":\"y\",\"type\":\"bar\"},{\"alignmentgroup\":\"True\",\"hovertemplate\":\"Property ID=38046\\u003cbr\\u003ePrimary Reserves and Resources=%{x}\\u003cbr\\u003ePrimary Mineral=%{y}\\u003cextra\\u003e\\u003c\\u002fextra\\u003e\",\"legendgroup\":\"38046\",\"marker\":{\"color\":\"#00cc96\",\"pattern\":{\"shape\":\"\"}},\"name\":\"38046\",\"offsetgroup\":\"38046\",\"orientation\":\"h\",\"showlegend\":true,\"textposition\":\"auto\",\"x\":[5172.0],\"xaxis\":\"x\",\"y\":[\"Cobalt\"],\"yaxis\":\"y\",\"type\":\"bar\"},{\"alignmentgroup\":\"True\",\"hovertemplate\":\"Property ID=34448\\u003cbr\\u003ePrimary Reserves and Resources=%{x}\\u003cbr\\u003ePrimary Mineral=%{y}\\u003cextra\\u003e\\u003c\\u002fextra\\u003e\",\"legendgroup\":\"34448\",\"marker\":{\"color\":\"#ab63fa\",\"pattern\":{\"shape\":\"\"}},\"name\":\"34448\",\"offsetgroup\":\"34448\",\"orientation\":\"h\",\"showlegend\":true,\"textposition\":\"auto\",\"x\":[4060.0],\"xaxis\":\"x\",\"y\":[\"Cobalt\"],\"yaxis\":\"y\",\"type\":\"bar\"},{\"alignmentgroup\":\"True\",\"hovertemplate\":\"Property ID=63332\\u003cbr\\u003ePrimary Reserves and Resources=%{x}\\u003cbr\\u003ePrimary Mineral=%{y}\\u003cextra\\u003e\\u003c\\u002fextra\\u003e\",\"legendgroup\":\"63332\",\"marker\":{\"color\":\"#FFA15A\",\"pattern\":{\"shape\":\"\"}},\"name\":\"63332\",\"offsetgroup\":\"63332\",\"orientation\":\"h\",\"showlegend\":true,\"textposition\":\"auto\",\"x\":[3500.0],\"xaxis\":\"x\",\"y\":[\"Cobalt\"],\"yaxis\":\"y\",\"type\":\"bar\"},{\"alignmentgroup\":\"True\",\"hovertemplate\":\"Property ID=29079\\u003cbr\\u003ePrimary Reserves and Resources=%{x}\\u003cbr\\u003ePrimary Mineral=%{y}\\u003cextra\\u003e\\u003c\\u002fextra\\u003e\",\"legendgroup\":\"29079\",\"marker\":{\"color\":\"#19d3f3\",\"pattern\":{\"shape\":\"\"}},\"name\":\"29079\",\"offsetgroup\":\"29079\",\"orientation\":\"h\",\"showlegend\":true,\"textposition\":\"auto\",\"x\":[3115.0,102527.0],\"xaxis\":\"x\",\"y\":[\"Cobalt\",\"Nickel\"],\"yaxis\":\"y\",\"type\":\"bar\"},{\"alignmentgroup\":\"True\",\"hovertemplate\":\"Property ID=50174\\u003cbr\\u003ePrimary Reserves and Resources=%{x}\\u003cbr\\u003ePrimary Mineral=%{y}\\u003cextra\\u003e\\u003c\\u002fextra\\u003e\",\"legendgroup\":\"50174\",\"marker\":{\"color\":\"#FF6692\",\"pattern\":{\"shape\":\"\"}},\"name\":\"50174\",\"offsetgroup\":\"50174\",\"orientation\":\"h\",\"showlegend\":true,\"textposition\":\"auto\",\"x\":[2405.0],\"xaxis\":\"x\",\"y\":[\"Cobalt\"],\"yaxis\":\"y\",\"type\":\"bar\"},{\"alignmentgroup\":\"True\",\"hovertemplate\":\"Property ID=32004\\u003cbr\\u003ePrimary Reserves and Resources=%{x}\\u003cbr\\u003ePrimary Mineral=%{y}\\u003cextra\\u003e\\u003c\\u002fextra\\u003e\",\"legendgroup\":\"32004\",\"marker\":{\"color\":\"#B6E880\",\"pattern\":{\"shape\":\"\"}},\"name\":\"32004\",\"offsetgroup\":\"32004\",\"orientation\":\"h\",\"showlegend\":true,\"textposition\":\"auto\",\"x\":[2200.0,11900.0],\"xaxis\":\"x\",\"y\":[\"Cobalt\",\"Nickel\"],\"yaxis\":\"y\",\"type\":\"bar\"},{\"alignmentgroup\":\"True\",\"hovertemplate\":\"Property ID=31810\\u003cbr\\u003ePrimary Reserves and Resources=%{x}\\u003cbr\\u003ePrimary Mineral=%{y}\\u003cextra\\u003e\\u003c\\u002fextra\\u003e\",\"legendgroup\":\"31810\",\"marker\":{\"color\":\"#FF97FF\",\"pattern\":{\"shape\":\"\"}},\"name\":\"31810\",\"offsetgroup\":\"31810\",\"orientation\":\"h\",\"showlegend\":true,\"textposition\":\"auto\",\"x\":[2183.0,31809.0],\"xaxis\":\"x\",\"y\":[\"Cobalt\",\"Nickel\"],\"yaxis\":\"y\",\"type\":\"bar\"},{\"alignmentgroup\":\"True\",\"hovertemplate\":\"Property ID=29488\\u003cbr\\u003ePrimary Reserves and Resources=%{x}\\u003cbr\\u003ePrimary Mineral=%{y}\\u003cextra\\u003e\\u003c\\u002fextra\\u003e\",\"legendgroup\":\"29488\",\"marker\":{\"color\":\"#FECB52\",\"pattern\":{\"shape\":\"\"}},\"name\":\"29488\",\"offsetgroup\":\"29488\",\"orientation\":\"h\",\"showlegend\":true,\"textposition\":\"auto\",\"x\":[381.0],\"xaxis\":\"x\",\"y\":[\"Cobalt\"],\"yaxis\":\"y\",\"type\":\"bar\"},{\"alignmentgroup\":\"True\",\"hovertemplate\":\"Property ID=27069\\u003cbr\\u003ePrimary Reserves and Resources=%{x}\\u003cbr\\u003ePrimary Mineral=%{y}\\u003cextra\\u003e\\u003c\\u002fextra\\u003e\",\"legendgroup\":\"27069\",\"marker\":{\"color\":\"#636efa\",\"pattern\":{\"shape\":\"\"}},\"name\":\"27069\",\"offsetgroup\":\"27069\",\"orientation\":\"h\",\"showlegend\":true,\"textposition\":\"auto\",\"x\":[1800.0],\"xaxis\":\"x\",\"y\":[\"Cobalt\"],\"yaxis\":\"y\",\"type\":\"bar\"},{\"alignmentgroup\":\"True\",\"hovertemplate\":\"Property ID=34690\\u003cbr\\u003ePrimary Reserves and Resources=%{x}\\u003cbr\\u003ePrimary Mineral=%{y}\\u003cextra\\u003e\\u003c\\u002fextra\\u003e\",\"legendgroup\":\"34690\",\"marker\":{\"color\":\"#EF553B\",\"pattern\":{\"shape\":\"\"}},\"name\":\"34690\",\"offsetgroup\":\"34690\",\"orientation\":\"h\",\"showlegend\":true,\"textposition\":\"auto\",\"x\":[1707.0,1435.0],\"xaxis\":\"x\",\"y\":[\"Cobalt\",\"Nickel\"],\"yaxis\":\"y\",\"type\":\"bar\"},{\"alignmentgroup\":\"True\",\"hovertemplate\":\"Property ID=35268\\u003cbr\\u003ePrimary Reserves and Resources=%{x}\\u003cbr\\u003ePrimary Mineral=%{y}\\u003cextra\\u003e\\u003c\\u002fextra\\u003e\",\"legendgroup\":\"35268\",\"marker\":{\"color\":\"#00cc96\",\"pattern\":{\"shape\":\"\"}},\"name\":\"35268\",\"offsetgroup\":\"35268\",\"orientation\":\"h\",\"showlegend\":true,\"textposition\":\"auto\",\"x\":[631.0,20995.0],\"xaxis\":\"x\",\"y\":[\"Cobalt\",\"Nickel\"],\"yaxis\":\"y\",\"type\":\"bar\"},{\"alignmentgroup\":\"True\",\"hovertemplate\":\"Property ID=29658\\u003cbr\\u003ePrimary Reserves and Resources=%{x}\\u003cbr\\u003ePrimary Mineral=%{y}\\u003cextra\\u003e\\u003c\\u002fextra\\u003e\",\"legendgroup\":\"29658\",\"marker\":{\"color\":\"#ab63fa\",\"pattern\":{\"shape\":\"\"}},\"name\":\"29658\",\"offsetgroup\":\"29658\",\"orientation\":\"h\",\"showlegend\":true,\"textposition\":\"auto\",\"x\":[4417.0,76611.0],\"xaxis\":\"x\",\"y\":[\"Cobalt\",\"Nickel\"],\"yaxis\":\"y\",\"type\":\"bar\"},{\"alignmentgroup\":\"True\",\"hovertemplate\":\"Property ID=30976\\u003cbr\\u003ePrimary Reserves and Resources=%{x}\\u003cbr\\u003ePrimary Mineral=%{y}\\u003cextra\\u003e\\u003c\\u002fextra\\u003e\",\"legendgroup\":\"30976\",\"marker\":{\"color\":\"#FFA15A\",\"pattern\":{\"shape\":\"\"}},\"name\":\"30976\",\"offsetgroup\":\"30976\",\"orientation\":\"h\",\"showlegend\":true,\"textposition\":\"auto\",\"x\":[66000.0,891000.0],\"xaxis\":\"x\",\"y\":[\"Cobalt\",\"Nickel\"],\"yaxis\":\"y\",\"type\":\"bar\"},{\"alignmentgroup\":\"True\",\"hovertemplate\":\"Property ID=91505\\u003cbr\\u003ePrimary Reserves and Resources=%{x}\\u003cbr\\u003ePrimary Mineral=%{y}\\u003cextra\\u003e\\u003c\\u002fextra\\u003e\",\"legendgroup\":\"91505\",\"marker\":{\"color\":\"#19d3f3\",\"pattern\":{\"shape\":\"\"}},\"name\":\"91505\",\"offsetgroup\":\"91505\",\"orientation\":\"h\",\"showlegend\":true,\"textposition\":\"auto\",\"x\":[74300.0,763000.0],\"xaxis\":\"x\",\"y\":[\"Cobalt\",\"Nickel\"],\"yaxis\":\"y\",\"type\":\"bar\"},{\"alignmentgroup\":\"True\",\"hovertemplate\":\"Property ID=91942\\u003cbr\\u003ePrimary Reserves and Resources=%{x}\\u003cbr\\u003ePrimary Mineral=%{y}\\u003cextra\\u003e\\u003c\\u002fextra\\u003e\",\"legendgroup\":\"91942\",\"marker\":{\"color\":\"#FF6692\",\"pattern\":{\"shape\":\"\"}},\"name\":\"91942\",\"offsetgroup\":\"91942\",\"orientation\":\"h\",\"showlegend\":true,\"textposition\":\"auto\",\"x\":[120000.0],\"xaxis\":\"x\",\"y\":[\"Cobalt\"],\"yaxis\":\"y\",\"type\":\"bar\"},{\"alignmentgroup\":\"True\",\"hovertemplate\":\"Property ID=29849\\u003cbr\\u003ePrimary Reserves and Resources=%{x}\\u003cbr\\u003ePrimary Mineral=%{y}\\u003cextra\\u003e\\u003c\\u002fextra\\u003e\",\"legendgroup\":\"29849\",\"marker\":{\"color\":\"#B6E880\",\"pattern\":{\"shape\":\"\"}},\"name\":\"29849\",\"offsetgroup\":\"29849\",\"orientation\":\"h\",\"showlegend\":true,\"textposition\":\"auto\",\"x\":[82.0,3625.0],\"xaxis\":\"x\",\"y\":[\"Cobalt\",\"Nickel\"],\"yaxis\":\"y\",\"type\":\"bar\"},{\"alignmentgroup\":\"True\",\"hovertemplate\":\"Property ID=27443\\u003cbr\\u003ePrimary Reserves and Resources=%{x}\\u003cbr\\u003ePrimary Mineral=%{y}\\u003cextra\\u003e\\u003c\\u002fextra\\u003e\",\"legendgroup\":\"27443\",\"marker\":{\"color\":\"#FF97FF\",\"pattern\":{\"shape\":\"\"}},\"name\":\"27443\",\"offsetgroup\":\"27443\",\"orientation\":\"h\",\"showlegend\":true,\"textposition\":\"auto\",\"x\":[300.0,5700.0],\"xaxis\":\"x\",\"y\":[\"Cobalt\",\"Nickel\"],\"yaxis\":\"y\",\"type\":\"bar\"},{\"alignmentgroup\":\"True\",\"hovertemplate\":\"Property ID=33075\\u003cbr\\u003ePrimary Reserves and Resources=%{x}\\u003cbr\\u003ePrimary Mineral=%{y}\\u003cextra\\u003e\\u003c\\u002fextra\\u003e\",\"legendgroup\":\"33075\",\"marker\":{\"color\":\"#FECB52\",\"pattern\":{\"shape\":\"\"}},\"name\":\"33075\",\"offsetgroup\":\"33075\",\"orientation\":\"h\",\"showlegend\":true,\"textposition\":\"auto\",\"x\":[544.0,48398.0],\"xaxis\":\"x\",\"y\":[\"Cobalt\",\"Nickel\"],\"yaxis\":\"y\",\"type\":\"bar\"},{\"alignmentgroup\":\"True\",\"hovertemplate\":\"Property ID=88294\\u003cbr\\u003ePrimary Reserves and Resources=%{x}\\u003cbr\\u003ePrimary Mineral=%{y}\\u003cextra\\u003e\\u003c\\u002fextra\\u003e\",\"legendgroup\":\"88294\",\"marker\":{\"color\":\"#636efa\",\"pattern\":{\"shape\":\"\"}},\"name\":\"88294\",\"offsetgroup\":\"88294\",\"orientation\":\"h\",\"showlegend\":true,\"textposition\":\"auto\",\"x\":[400.0,7200.0],\"xaxis\":\"x\",\"y\":[\"Cobalt\",\"Nickel\"],\"yaxis\":\"y\",\"type\":\"bar\"},{\"alignmentgroup\":\"True\",\"hovertemplate\":\"Property ID=37465\\u003cbr\\u003ePrimary Reserves and Resources=%{x}\\u003cbr\\u003ePrimary Mineral=%{y}\\u003cextra\\u003e\\u003c\\u002fextra\\u003e\",\"legendgroup\":\"37465\",\"marker\":{\"color\":\"#EF553B\",\"pattern\":{\"shape\":\"\"}},\"name\":\"37465\",\"offsetgroup\":\"37465\",\"orientation\":\"h\",\"showlegend\":true,\"textposition\":\"auto\",\"x\":[132000.0],\"xaxis\":\"x\",\"y\":[\"Cobalt\"],\"yaxis\":\"y\",\"type\":\"bar\"},{\"alignmentgroup\":\"True\",\"hovertemplate\":\"Property ID=24927\\u003cbr\\u003ePrimary Reserves and Resources=%{x}\\u003cbr\\u003ePrimary Mineral=%{y}\\u003cextra\\u003e\\u003c\\u002fextra\\u003e\",\"legendgroup\":\"24927\",\"marker\":{\"color\":\"#00cc96\",\"pattern\":{\"shape\":\"\"}},\"name\":\"24927\",\"offsetgroup\":\"24927\",\"orientation\":\"h\",\"showlegend\":true,\"textposition\":\"auto\",\"x\":[230800.0,2834400.0],\"xaxis\":\"x\",\"y\":[\"Cobalt\",\"Nickel\"],\"yaxis\":\"y\",\"type\":\"bar\"},{\"alignmentgroup\":\"True\",\"hovertemplate\":\"Property ID=28269\\u003cbr\\u003ePrimary Reserves and Resources=%{x}\\u003cbr\\u003ePrimary Mineral=%{y}\\u003cextra\\u003e\\u003c\\u002fextra\\u003e\",\"legendgroup\":\"28269\",\"marker\":{\"color\":\"#ab63fa\",\"pattern\":{\"shape\":\"\"}},\"name\":\"28269\",\"offsetgroup\":\"28269\",\"orientation\":\"h\",\"showlegend\":true,\"textposition\":\"auto\",\"x\":[263800.0],\"xaxis\":\"x\",\"y\":[\"Cobalt\"],\"yaxis\":\"y\",\"type\":\"bar\"},{\"alignmentgroup\":\"True\",\"hovertemplate\":\"Property ID=81026\\u003cbr\\u003ePrimary Reserves and Resources=%{x}\\u003cbr\\u003ePrimary Mineral=%{y}\\u003cextra\\u003e\\u003c\\u002fextra\\u003e\",\"legendgroup\":\"81026\",\"marker\":{\"color\":\"#FFA15A\",\"pattern\":{\"shape\":\"\"}},\"name\":\"81026\",\"offsetgroup\":\"81026\",\"orientation\":\"h\",\"showlegend\":true,\"textposition\":\"auto\",\"x\":[270000.0,3700000.0],\"xaxis\":\"x\",\"y\":[\"Cobalt\",\"Nickel\"],\"yaxis\":\"y\",\"type\":\"bar\"},{\"alignmentgroup\":\"True\",\"hovertemplate\":\"Property ID=87822\\u003cbr\\u003ePrimary Reserves and Resources=%{x}\\u003cbr\\u003ePrimary Mineral=%{y}\\u003cextra\\u003e\\u003c\\u002fextra\\u003e\",\"legendgroup\":\"87822\",\"marker\":{\"color\":\"#19d3f3\",\"pattern\":{\"shape\":\"\"}},\"name\":\"87822\",\"offsetgroup\":\"87822\",\"orientation\":\"h\",\"showlegend\":true,\"textposition\":\"auto\",\"x\":[3080.0],\"xaxis\":\"x\",\"y\":[\"Lithium\"],\"yaxis\":\"y\",\"type\":\"bar\"},{\"alignmentgroup\":\"True\",\"hovertemplate\":\"Property ID=37384\\u003cbr\\u003ePrimary Reserves and Resources=%{x}\\u003cbr\\u003ePrimary Mineral=%{y}\\u003cextra\\u003e\\u003c\\u002fextra\\u003e\",\"legendgroup\":\"37384\",\"marker\":{\"color\":\"#FF6692\",\"pattern\":{\"shape\":\"\"}},\"name\":\"37384\",\"offsetgroup\":\"37384\",\"orientation\":\"h\",\"showlegend\":true,\"textposition\":\"auto\",\"x\":[24280000.0],\"xaxis\":\"x\",\"y\":[\"Lithium\"],\"yaxis\":\"y\",\"type\":\"bar\"},{\"alignmentgroup\":\"True\",\"hovertemplate\":\"Property ID=36750\\u003cbr\\u003ePrimary Reserves and Resources=%{x}\\u003cbr\\u003ePrimary Mineral=%{y}\\u003cextra\\u003e\\u003c\\u002fextra\\u003e\",\"legendgroup\":\"36750\",\"marker\":{\"color\":\"#B6E880\",\"pattern\":{\"shape\":\"\"}},\"name\":\"36750\",\"offsetgroup\":\"36750\",\"orientation\":\"h\",\"showlegend\":true,\"textposition\":\"auto\",\"x\":[7700000.0],\"xaxis\":\"x\",\"y\":[\"Lithium\"],\"yaxis\":\"y\",\"type\":\"bar\"},{\"alignmentgroup\":\"True\",\"hovertemplate\":\"Property ID=92140\\u003cbr\\u003ePrimary Reserves and Resources=%{x}\\u003cbr\\u003ePrimary Mineral=%{y}\\u003cextra\\u003e\\u003c\\u002fextra\\u003e\",\"legendgroup\":\"92140\",\"marker\":{\"color\":\"#FF97FF\",\"pattern\":{\"shape\":\"\"}},\"name\":\"92140\",\"offsetgroup\":\"92140\",\"orientation\":\"h\",\"showlegend\":true,\"textposition\":\"auto\",\"x\":[7328560.0],\"xaxis\":\"x\",\"y\":[\"Lithium\"],\"yaxis\":\"y\",\"type\":\"bar\"},{\"alignmentgroup\":\"True\",\"hovertemplate\":\"Property ID=83014\\u003cbr\\u003ePrimary Reserves and Resources=%{x}\\u003cbr\\u003ePrimary Mineral=%{y}\\u003cextra\\u003e\\u003c\\u002fextra\\u003e\",\"legendgroup\":\"83014\",\"marker\":{\"color\":\"#FECB52\",\"pattern\":{\"shape\":\"\"}},\"name\":\"83014\",\"offsetgroup\":\"83014\",\"orientation\":\"h\",\"showlegend\":true,\"textposition\":\"auto\",\"x\":[4300000.0],\"xaxis\":\"x\",\"y\":[\"Lithium\"],\"yaxis\":\"y\",\"type\":\"bar\"},{\"alignmentgroup\":\"True\",\"hovertemplate\":\"Property ID=36866\\u003cbr\\u003ePrimary Reserves and Resources=%{x}\\u003cbr\\u003ePrimary Mineral=%{y}\\u003cextra\\u003e\\u003c\\u002fextra\\u003e\",\"legendgroup\":\"36866\",\"marker\":{\"color\":\"#636efa\",\"pattern\":{\"shape\":\"\"}},\"name\":\"36866\",\"offsetgroup\":\"36866\",\"orientation\":\"h\",\"showlegend\":true,\"textposition\":\"auto\",\"x\":[2581000.0],\"xaxis\":\"x\",\"y\":[\"Lithium\"],\"yaxis\":\"y\",\"type\":\"bar\"},{\"alignmentgroup\":\"True\",\"hovertemplate\":\"Property ID=80026\\u003cbr\\u003ePrimary Reserves and Resources=%{x}\\u003cbr\\u003ePrimary Mineral=%{y}\\u003cextra\\u003e\\u003c\\u002fextra\\u003e\",\"legendgroup\":\"80026\",\"marker\":{\"color\":\"#EF553B\",\"pattern\":{\"shape\":\"\"}},\"name\":\"80026\",\"offsetgroup\":\"80026\",\"orientation\":\"h\",\"showlegend\":true,\"textposition\":\"auto\",\"x\":[846000.0],\"xaxis\":\"x\",\"y\":[\"Lithium\"],\"yaxis\":\"y\",\"type\":\"bar\"},{\"alignmentgroup\":\"True\",\"hovertemplate\":\"Property ID=37507\\u003cbr\\u003ePrimary Reserves and Resources=%{x}\\u003cbr\\u003ePrimary Mineral=%{y}\\u003cextra\\u003e\\u003c\\u002fextra\\u003e\",\"legendgroup\":\"37507\",\"marker\":{\"color\":\"#00cc96\",\"pattern\":{\"shape\":\"\"}},\"name\":\"37507\",\"offsetgroup\":\"37507\",\"orientation\":\"h\",\"showlegend\":true,\"textposition\":\"auto\",\"x\":[736000.0],\"xaxis\":\"x\",\"y\":[\"Lithium\"],\"yaxis\":\"y\",\"type\":\"bar\"},{\"alignmentgroup\":\"True\",\"hovertemplate\":\"Property ID=90708\\u003cbr\\u003ePrimary Reserves and Resources=%{x}\\u003cbr\\u003ePrimary Mineral=%{y}\\u003cextra\\u003e\\u003c\\u002fextra\\u003e\",\"legendgroup\":\"90708\",\"marker\":{\"color\":\"#ab63fa\",\"pattern\":{\"shape\":\"\"}},\"name\":\"90708\",\"offsetgroup\":\"90708\",\"orientation\":\"h\",\"showlegend\":true,\"textposition\":\"auto\",\"x\":[603813.0],\"xaxis\":\"x\",\"y\":[\"Lithium\"],\"yaxis\":\"y\",\"type\":\"bar\"},{\"alignmentgroup\":\"True\",\"hovertemplate\":\"Property ID=90710\\u003cbr\\u003ePrimary Reserves and Resources=%{x}\\u003cbr\\u003ePrimary Mineral=%{y}\\u003cextra\\u003e\\u003c\\u002fextra\\u003e\",\"legendgroup\":\"90710\",\"marker\":{\"color\":\"#FFA15A\",\"pattern\":{\"shape\":\"\"}},\"name\":\"90710\",\"offsetgroup\":\"90710\",\"orientation\":\"h\",\"showlegend\":true,\"textposition\":\"auto\",\"x\":[574000.0],\"xaxis\":\"x\",\"y\":[\"Lithium\"],\"yaxis\":\"y\",\"type\":\"bar\"},{\"alignmentgroup\":\"True\",\"hovertemplate\":\"Property ID=91065\\u003cbr\\u003ePrimary Reserves and Resources=%{x}\\u003cbr\\u003ePrimary Mineral=%{y}\\u003cextra\\u003e\\u003c\\u002fextra\\u003e\",\"legendgroup\":\"91065\",\"marker\":{\"color\":\"#19d3f3\",\"pattern\":{\"shape\":\"\"}},\"name\":\"91065\",\"offsetgroup\":\"91065\",\"orientation\":\"h\",\"showlegend\":true,\"textposition\":\"auto\",\"x\":[227800.0],\"xaxis\":\"x\",\"y\":[\"Lithium\"],\"yaxis\":\"y\",\"type\":\"bar\"},{\"alignmentgroup\":\"True\",\"hovertemplate\":\"Property ID=87489\\u003cbr\\u003ePrimary Reserves and Resources=%{x}\\u003cbr\\u003ePrimary Mineral=%{y}\\u003cextra\\u003e\\u003c\\u002fextra\\u003e\",\"legendgroup\":\"87489\",\"marker\":{\"color\":\"#FF6692\",\"pattern\":{\"shape\":\"\"}},\"name\":\"87489\",\"offsetgroup\":\"87489\",\"orientation\":\"h\",\"showlegend\":true,\"textposition\":\"auto\",\"x\":[180000.0],\"xaxis\":\"x\",\"y\":[\"Lithium\"],\"yaxis\":\"y\",\"type\":\"bar\"},{\"alignmentgroup\":\"True\",\"hovertemplate\":\"Property ID=39374\\u003cbr\\u003ePrimary Reserves and Resources=%{x}\\u003cbr\\u003ePrimary Mineral=%{y}\\u003cextra\\u003e\\u003c\\u002fextra\\u003e\",\"legendgroup\":\"39374\",\"marker\":{\"color\":\"#B6E880\",\"pattern\":{\"shape\":\"\"}},\"name\":\"39374\",\"offsetgroup\":\"39374\",\"orientation\":\"h\",\"showlegend\":true,\"textposition\":\"auto\",\"x\":[135300.0],\"xaxis\":\"x\",\"y\":[\"Lithium\"],\"yaxis\":\"y\",\"type\":\"bar\"},{\"alignmentgroup\":\"True\",\"hovertemplate\":\"Property ID=33967\\u003cbr\\u003ePrimary Reserves and Resources=%{x}\\u003cbr\\u003ePrimary Mineral=%{y}\\u003cextra\\u003e\\u003c\\u002fextra\\u003e\",\"legendgroup\":\"33967\",\"marker\":{\"color\":\"#FF97FF\",\"pattern\":{\"shape\":\"\"}},\"name\":\"33967\",\"offsetgroup\":\"33967\",\"orientation\":\"h\",\"showlegend\":true,\"textposition\":\"auto\",\"x\":[129000.0],\"xaxis\":\"x\",\"y\":[\"Lithium\"],\"yaxis\":\"y\",\"type\":\"bar\"},{\"alignmentgroup\":\"True\",\"hovertemplate\":\"Property ID=38460\\u003cbr\\u003ePrimary Reserves and Resources=%{x}\\u003cbr\\u003ePrimary Mineral=%{y}\\u003cextra\\u003e\\u003c\\u002fextra\\u003e\",\"legendgroup\":\"38460\",\"marker\":{\"color\":\"#FECB52\",\"pattern\":{\"shape\":\"\"}},\"name\":\"38460\",\"offsetgroup\":\"38460\",\"orientation\":\"h\",\"showlegend\":true,\"textposition\":\"auto\",\"x\":[129000.0],\"xaxis\":\"x\",\"y\":[\"Lithium\"],\"yaxis\":\"y\",\"type\":\"bar\"},{\"alignmentgroup\":\"True\",\"hovertemplate\":\"Property ID=91034\\u003cbr\\u003ePrimary Reserves and Resources=%{x}\\u003cbr\\u003ePrimary Mineral=%{y}\\u003cextra\\u003e\\u003c\\u002fextra\\u003e\",\"legendgroup\":\"91034\",\"marker\":{\"color\":\"#636efa\",\"pattern\":{\"shape\":\"\"}},\"name\":\"91034\",\"offsetgroup\":\"91034\",\"orientation\":\"h\",\"showlegend\":true,\"textposition\":\"auto\",\"x\":[680000.0],\"xaxis\":\"x\",\"y\":[\"Lithium\"],\"yaxis\":\"y\",\"type\":\"bar\"},{\"alignmentgroup\":\"True\",\"hovertemplate\":\"Property ID=91495\\u003cbr\\u003ePrimary Reserves and Resources=%{x}\\u003cbr\\u003ePrimary Mineral=%{y}\\u003cextra\\u003e\\u003c\\u002fextra\\u003e\",\"legendgroup\":\"91495\",\"marker\":{\"color\":\"#EF553B\",\"pattern\":{\"shape\":\"\"}},\"name\":\"91495\",\"offsetgroup\":\"91495\",\"orientation\":\"h\",\"showlegend\":true,\"textposition\":\"auto\",\"x\":[583000.0],\"xaxis\":\"x\",\"y\":[\"Lithium\"],\"yaxis\":\"y\",\"type\":\"bar\"},{\"alignmentgroup\":\"True\",\"hovertemplate\":\"Property ID=61022\\u003cbr\\u003ePrimary Reserves and Resources=%{x}\\u003cbr\\u003ePrimary Mineral=%{y}\\u003cextra\\u003e\\u003c\\u002fextra\\u003e\",\"legendgroup\":\"61022\",\"marker\":{\"color\":\"#00cc96\",\"pattern\":{\"shape\":\"\"}},\"name\":\"61022\",\"offsetgroup\":\"61022\",\"orientation\":\"h\",\"showlegend\":true,\"textposition\":\"auto\",\"x\":[62860000.0],\"xaxis\":\"x\",\"y\":[\"Manganese\"],\"yaxis\":\"y\",\"type\":\"bar\"},{\"alignmentgroup\":\"True\",\"hovertemplate\":\"Property ID=54423\\u003cbr\\u003ePrimary Reserves and Resources=%{x}\\u003cbr\\u003ePrimary Mineral=%{y}\\u003cextra\\u003e\\u003c\\u002fextra\\u003e\",\"legendgroup\":\"54423\",\"marker\":{\"color\":\"#ab63fa\",\"pattern\":{\"shape\":\"\"}},\"name\":\"54423\",\"offsetgroup\":\"54423\",\"orientation\":\"h\",\"showlegend\":true,\"textposition\":\"auto\",\"x\":[6860000.0],\"xaxis\":\"x\",\"y\":[\"Manganese\"],\"yaxis\":\"y\",\"type\":\"bar\"},{\"alignmentgroup\":\"True\",\"hovertemplate\":\"Property ID=81746\\u003cbr\\u003ePrimary Reserves and Resources=%{x}\\u003cbr\\u003ePrimary Mineral=%{y}\\u003cextra\\u003e\\u003c\\u002fextra\\u003e\",\"legendgroup\":\"81746\",\"marker\":{\"color\":\"#FFA15A\",\"pattern\":{\"shape\":\"\"}},\"name\":\"81746\",\"offsetgroup\":\"81746\",\"orientation\":\"h\",\"showlegend\":true,\"textposition\":\"auto\",\"x\":[26960000.0],\"xaxis\":\"x\",\"y\":[\"Manganese\"],\"yaxis\":\"y\",\"type\":\"bar\"},{\"alignmentgroup\":\"True\",\"hovertemplate\":\"Property ID=88353\\u003cbr\\u003ePrimary Reserves and Resources=%{x}\\u003cbr\\u003ePrimary Mineral=%{y}\\u003cextra\\u003e\\u003c\\u002fextra\\u003e\",\"legendgroup\":\"88353\",\"marker\":{\"color\":\"#19d3f3\",\"pattern\":{\"shape\":\"\"}},\"name\":\"88353\",\"offsetgroup\":\"88353\",\"orientation\":\"h\",\"showlegend\":true,\"textposition\":\"auto\",\"x\":[70000.0],\"xaxis\":\"x\",\"y\":[\"Nickel\"],\"yaxis\":\"y\",\"type\":\"bar\"},{\"alignmentgroup\":\"True\",\"hovertemplate\":\"Property ID=28308\\u003cbr\\u003ePrimary Reserves and Resources=%{x}\\u003cbr\\u003ePrimary Mineral=%{y}\\u003cextra\\u003e\\u003c\\u002fextra\\u003e\",\"legendgroup\":\"28308\",\"marker\":{\"color\":\"#FF6692\",\"pattern\":{\"shape\":\"\"}},\"name\":\"28308\",\"offsetgroup\":\"28308\",\"orientation\":\"h\",\"showlegend\":true,\"textposition\":\"auto\",\"x\":[61726.0],\"xaxis\":\"x\",\"y\":[\"Nickel\"],\"yaxis\":\"y\",\"type\":\"bar\"},{\"alignmentgroup\":\"True\",\"hovertemplate\":\"Property ID=32396\\u003cbr\\u003ePrimary Reserves and Resources=%{x}\\u003cbr\\u003ePrimary Mineral=%{y}\\u003cextra\\u003e\\u003c\\u002fextra\\u003e\",\"legendgroup\":\"32396\",\"marker\":{\"color\":\"#B6E880\",\"pattern\":{\"shape\":\"\"}},\"name\":\"32396\",\"offsetgroup\":\"32396\",\"orientation\":\"h\",\"showlegend\":true,\"textposition\":\"auto\",\"x\":[58000.0],\"xaxis\":\"x\",\"y\":[\"Nickel\"],\"yaxis\":\"y\",\"type\":\"bar\"},{\"alignmentgroup\":\"True\",\"hovertemplate\":\"Property ID=32779\\u003cbr\\u003ePrimary Reserves and Resources=%{x}\\u003cbr\\u003ePrimary Mineral=%{y}\\u003cextra\\u003e\\u003c\\u002fextra\\u003e\",\"legendgroup\":\"32779\",\"marker\":{\"color\":\"#FF97FF\",\"pattern\":{\"shape\":\"\"}},\"name\":\"32779\",\"offsetgroup\":\"32779\",\"orientation\":\"h\",\"showlegend\":true,\"textposition\":\"auto\",\"x\":[56500.0],\"xaxis\":\"x\",\"y\":[\"Nickel\"],\"yaxis\":\"y\",\"type\":\"bar\"},{\"alignmentgroup\":\"True\",\"hovertemplate\":\"Property ID=35378\\u003cbr\\u003ePrimary Reserves and Resources=%{x}\\u003cbr\\u003ePrimary Mineral=%{y}\\u003cextra\\u003e\\u003c\\u002fextra\\u003e\",\"legendgroup\":\"35378\",\"marker\":{\"color\":\"#FECB52\",\"pattern\":{\"shape\":\"\"}},\"name\":\"35378\",\"offsetgroup\":\"35378\",\"orientation\":\"h\",\"showlegend\":true,\"textposition\":\"auto\",\"x\":[56000.0],\"xaxis\":\"x\",\"y\":[\"Nickel\"],\"yaxis\":\"y\",\"type\":\"bar\"},{\"alignmentgroup\":\"True\",\"hovertemplate\":\"Property ID=32575\\u003cbr\\u003ePrimary Reserves and Resources=%{x}\\u003cbr\\u003ePrimary Mineral=%{y}\\u003cextra\\u003e\\u003c\\u002fextra\\u003e\",\"legendgroup\":\"32575\",\"marker\":{\"color\":\"#636efa\",\"pattern\":{\"shape\":\"\"}},\"name\":\"32575\",\"offsetgroup\":\"32575\",\"orientation\":\"h\",\"showlegend\":true,\"textposition\":\"auto\",\"x\":[42300.0],\"xaxis\":\"x\",\"y\":[\"Nickel\"],\"yaxis\":\"y\",\"type\":\"bar\"},{\"alignmentgroup\":\"True\",\"hovertemplate\":\"Property ID=31758\\u003cbr\\u003ePrimary Reserves and Resources=%{x}\\u003cbr\\u003ePrimary Mineral=%{y}\\u003cextra\\u003e\\u003c\\u002fextra\\u003e\",\"legendgroup\":\"31758\",\"marker\":{\"color\":\"#EF553B\",\"pattern\":{\"shape\":\"\"}},\"name\":\"31758\",\"offsetgroup\":\"31758\",\"orientation\":\"h\",\"showlegend\":true,\"textposition\":\"auto\",\"x\":[101200.0],\"xaxis\":\"x\",\"y\":[\"Nickel\"],\"yaxis\":\"y\",\"type\":\"bar\"},{\"alignmentgroup\":\"True\",\"hovertemplate\":\"Property ID=75613\\u003cbr\\u003ePrimary Reserves and Resources=%{x}\\u003cbr\\u003ePrimary Mineral=%{y}\\u003cextra\\u003e\\u003c\\u002fextra\\u003e\",\"legendgroup\":\"75613\",\"marker\":{\"color\":\"#00cc96\",\"pattern\":{\"shape\":\"\"}},\"name\":\"75613\",\"offsetgroup\":\"75613\",\"orientation\":\"h\",\"showlegend\":true,\"textposition\":\"auto\",\"x\":[134100.0],\"xaxis\":\"x\",\"y\":[\"Nickel\"],\"yaxis\":\"y\",\"type\":\"bar\"},{\"alignmentgroup\":\"True\",\"hovertemplate\":\"Property ID=31761\\u003cbr\\u003ePrimary Reserves and Resources=%{x}\\u003cbr\\u003ePrimary Mineral=%{y}\\u003cextra\\u003e\\u003c\\u002fextra\\u003e\",\"legendgroup\":\"31761\",\"marker\":{\"color\":\"#ab63fa\",\"pattern\":{\"shape\":\"\"}},\"name\":\"31761\",\"offsetgroup\":\"31761\",\"orientation\":\"h\",\"showlegend\":true,\"textposition\":\"auto\",\"x\":[3834000.0],\"xaxis\":\"x\",\"y\":[\"Nickel\"],\"yaxis\":\"y\",\"type\":\"bar\"},{\"alignmentgroup\":\"True\",\"hovertemplate\":\"Property ID=38500\\u003cbr\\u003ePrimary Reserves and Resources=%{x}\\u003cbr\\u003ePrimary Mineral=%{y}\\u003cextra\\u003e\\u003c\\u002fextra\\u003e\",\"legendgroup\":\"38500\",\"marker\":{\"color\":\"#FFA15A\",\"pattern\":{\"shape\":\"\"}},\"name\":\"38500\",\"offsetgroup\":\"38500\",\"orientation\":\"h\",\"showlegend\":true,\"textposition\":\"auto\",\"x\":[2666214.0],\"xaxis\":\"x\",\"y\":[\"Nickel\"],\"yaxis\":\"y\",\"type\":\"bar\"},{\"alignmentgroup\":\"True\",\"hovertemplate\":\"Property ID=91679\\u003cbr\\u003ePrimary Reserves and Resources=%{x}\\u003cbr\\u003ePrimary Mineral=%{y}\\u003cextra\\u003e\\u003c\\u002fextra\\u003e\",\"legendgroup\":\"91679\",\"marker\":{\"color\":\"#19d3f3\",\"pattern\":{\"shape\":\"\"}},\"name\":\"91679\",\"offsetgroup\":\"91679\",\"orientation\":\"h\",\"showlegend\":true,\"textposition\":\"auto\",\"x\":[1790000.0],\"xaxis\":\"x\",\"y\":[\"Nickel\"],\"yaxis\":\"y\",\"type\":\"bar\"},{\"alignmentgroup\":\"True\",\"hovertemplate\":\"Property ID=34218\\u003cbr\\u003ePrimary Reserves and Resources=%{x}\\u003cbr\\u003ePrimary Mineral=%{y}\\u003cextra\\u003e\\u003c\\u002fextra\\u003e\",\"legendgroup\":\"34218\",\"marker\":{\"color\":\"#FF6692\",\"pattern\":{\"shape\":\"\"}},\"name\":\"34218\",\"offsetgroup\":\"34218\",\"orientation\":\"h\",\"showlegend\":true,\"textposition\":\"auto\",\"x\":[1341800.0],\"xaxis\":\"x\",\"y\":[\"Nickel\"],\"yaxis\":\"y\",\"type\":\"bar\"},{\"alignmentgroup\":\"True\",\"hovertemplate\":\"Property ID=30849\\u003cbr\\u003ePrimary Reserves and Resources=%{x}\\u003cbr\\u003ePrimary Mineral=%{y}\\u003cextra\\u003e\\u003c\\u002fextra\\u003e\",\"legendgroup\":\"30849\",\"marker\":{\"color\":\"#B6E880\",\"pattern\":{\"shape\":\"\"}},\"name\":\"30849\",\"offsetgroup\":\"30849\",\"orientation\":\"h\",\"showlegend\":true,\"textposition\":\"auto\",\"x\":[471000.0],\"xaxis\":\"x\",\"y\":[\"Nickel\"],\"yaxis\":\"y\",\"type\":\"bar\"},{\"alignmentgroup\":\"True\",\"hovertemplate\":\"Property ID=84035\\u003cbr\\u003ePrimary Reserves and Resources=%{x}\\u003cbr\\u003ePrimary Mineral=%{y}\\u003cextra\\u003e\\u003c\\u002fextra\\u003e\",\"legendgroup\":\"84035\",\"marker\":{\"color\":\"#FF97FF\",\"pattern\":{\"shape\":\"\"}},\"name\":\"84035\",\"offsetgroup\":\"84035\",\"orientation\":\"h\",\"showlegend\":true,\"textposition\":\"auto\",\"x\":[218000.0],\"xaxis\":\"x\",\"y\":[\"Nickel\"],\"yaxis\":\"y\",\"type\":\"bar\"},{\"alignmentgroup\":\"True\",\"hovertemplate\":\"Property ID=84130\\u003cbr\\u003ePrimary Reserves and Resources=%{x}\\u003cbr\\u003ePrimary Mineral=%{y}\\u003cextra\\u003e\\u003c\\u002fextra\\u003e\",\"legendgroup\":\"84130\",\"marker\":{\"color\":\"#FECB52\",\"pattern\":{\"shape\":\"\"}},\"name\":\"84130\",\"offsetgroup\":\"84130\",\"orientation\":\"h\",\"showlegend\":true,\"textposition\":\"auto\",\"x\":[907.0],\"xaxis\":\"x\",\"y\":[\"Nickel\"],\"yaxis\":\"y\",\"type\":\"bar\"}],                        {\"template\":{\"data\":{\"histogram2dcontour\":[{\"type\":\"histogram2dcontour\",\"colorbar\":{\"outlinewidth\":0,\"ticks\":\"\"},\"colorscale\":[[0.0,\"#0d0887\"],[0.1111111111111111,\"#46039f\"],[0.2222222222222222,\"#7201a8\"],[0.3333333333333333,\"#9c179e\"],[0.4444444444444444,\"#bd3786\"],[0.5555555555555556,\"#d8576b\"],[0.6666666666666666,\"#ed7953\"],[0.7777777777777778,\"#fb9f3a\"],[0.8888888888888888,\"#fdca26\"],[1.0,\"#f0f921\"]]}],\"choropleth\":[{\"type\":\"choropleth\",\"colorbar\":{\"outlinewidth\":0,\"ticks\":\"\"}}],\"histogram2d\":[{\"type\":\"histogram2d\",\"colorbar\":{\"outlinewidth\":0,\"ticks\":\"\"},\"colorscale\":[[0.0,\"#0d0887\"],[0.1111111111111111,\"#46039f\"],[0.2222222222222222,\"#7201a8\"],[0.3333333333333333,\"#9c179e\"],[0.4444444444444444,\"#bd3786\"],[0.5555555555555556,\"#d8576b\"],[0.6666666666666666,\"#ed7953\"],[0.7777777777777778,\"#fb9f3a\"],[0.8888888888888888,\"#fdca26\"],[1.0,\"#f0f921\"]]}],\"heatmap\":[{\"type\":\"heatmap\",\"colorbar\":{\"outlinewidth\":0,\"ticks\":\"\"},\"colorscale\":[[0.0,\"#0d0887\"],[0.1111111111111111,\"#46039f\"],[0.2222222222222222,\"#7201a8\"],[0.3333333333333333,\"#9c179e\"],[0.4444444444444444,\"#bd3786\"],[0.5555555555555556,\"#d8576b\"],[0.6666666666666666,\"#ed7953\"],[0.7777777777777778,\"#fb9f3a\"],[0.8888888888888888,\"#fdca26\"],[1.0,\"#f0f921\"]]}],\"heatmapgl\":[{\"type\":\"heatmapgl\",\"colorbar\":{\"outlinewidth\":0,\"ticks\":\"\"},\"colorscale\":[[0.0,\"#0d0887\"],[0.1111111111111111,\"#46039f\"],[0.2222222222222222,\"#7201a8\"],[0.3333333333333333,\"#9c179e\"],[0.4444444444444444,\"#bd3786\"],[0.5555555555555556,\"#d8576b\"],[0.6666666666666666,\"#ed7953\"],[0.7777777777777778,\"#fb9f3a\"],[0.8888888888888888,\"#fdca26\"],[1.0,\"#f0f921\"]]}],\"contourcarpet\":[{\"type\":\"contourcarpet\",\"colorbar\":{\"outlinewidth\":0,\"ticks\":\"\"}}],\"contour\":[{\"type\":\"contour\",\"colorbar\":{\"outlinewidth\":0,\"ticks\":\"\"},\"colorscale\":[[0.0,\"#0d0887\"],[0.1111111111111111,\"#46039f\"],[0.2222222222222222,\"#7201a8\"],[0.3333333333333333,\"#9c179e\"],[0.4444444444444444,\"#bd3786\"],[0.5555555555555556,\"#d8576b\"],[0.6666666666666666,\"#ed7953\"],[0.7777777777777778,\"#fb9f3a\"],[0.8888888888888888,\"#fdca26\"],[1.0,\"#f0f921\"]]}],\"surface\":[{\"type\":\"surface\",\"colorbar\":{\"outlinewidth\":0,\"ticks\":\"\"},\"colorscale\":[[0.0,\"#0d0887\"],[0.1111111111111111,\"#46039f\"],[0.2222222222222222,\"#7201a8\"],[0.3333333333333333,\"#9c179e\"],[0.4444444444444444,\"#bd3786\"],[0.5555555555555556,\"#d8576b\"],[0.6666666666666666,\"#ed7953\"],[0.7777777777777778,\"#fb9f3a\"],[0.8888888888888888,\"#fdca26\"],[1.0,\"#f0f921\"]]}],\"mesh3d\":[{\"type\":\"mesh3d\",\"colorbar\":{\"outlinewidth\":0,\"ticks\":\"\"}}],\"scatter\":[{\"fillpattern\":{\"fillmode\":\"overlay\",\"size\":10,\"solidity\":0.2},\"type\":\"scatter\"}],\"parcoords\":[{\"type\":\"parcoords\",\"line\":{\"colorbar\":{\"outlinewidth\":0,\"ticks\":\"\"}}}],\"scatterpolargl\":[{\"type\":\"scatterpolargl\",\"marker\":{\"colorbar\":{\"outlinewidth\":0,\"ticks\":\"\"}}}],\"bar\":[{\"error_x\":{\"color\":\"#2a3f5f\"},\"error_y\":{\"color\":\"#2a3f5f\"},\"marker\":{\"line\":{\"color\":\"#E5ECF6\",\"width\":0.5},\"pattern\":{\"fillmode\":\"overlay\",\"size\":10,\"solidity\":0.2}},\"type\":\"bar\"}],\"scattergeo\":[{\"type\":\"scattergeo\",\"marker\":{\"colorbar\":{\"outlinewidth\":0,\"ticks\":\"\"}}}],\"scatterpolar\":[{\"type\":\"scatterpolar\",\"marker\":{\"colorbar\":{\"outlinewidth\":0,\"ticks\":\"\"}}}],\"histogram\":[{\"marker\":{\"pattern\":{\"fillmode\":\"overlay\",\"size\":10,\"solidity\":0.2}},\"type\":\"histogram\"}],\"scattergl\":[{\"type\":\"scattergl\",\"marker\":{\"colorbar\":{\"outlinewidth\":0,\"ticks\":\"\"}}}],\"scatter3d\":[{\"type\":\"scatter3d\",\"line\":{\"colorbar\":{\"outlinewidth\":0,\"ticks\":\"\"}},\"marker\":{\"colorbar\":{\"outlinewidth\":0,\"ticks\":\"\"}}}],\"scattermapbox\":[{\"type\":\"scattermapbox\",\"marker\":{\"colorbar\":{\"outlinewidth\":0,\"ticks\":\"\"}}}],\"scatterternary\":[{\"type\":\"scatterternary\",\"marker\":{\"colorbar\":{\"outlinewidth\":0,\"ticks\":\"\"}}}],\"scattercarpet\":[{\"type\":\"scattercarpet\",\"marker\":{\"colorbar\":{\"outlinewidth\":0,\"ticks\":\"\"}}}],\"carpet\":[{\"aaxis\":{\"endlinecolor\":\"#2a3f5f\",\"gridcolor\":\"white\",\"linecolor\":\"white\",\"minorgridcolor\":\"white\",\"startlinecolor\":\"#2a3f5f\"},\"baxis\":{\"endlinecolor\":\"#2a3f5f\",\"gridcolor\":\"white\",\"linecolor\":\"white\",\"minorgridcolor\":\"white\",\"startlinecolor\":\"#2a3f5f\"},\"type\":\"carpet\"}],\"table\":[{\"cells\":{\"fill\":{\"color\":\"#EBF0F8\"},\"line\":{\"color\":\"white\"}},\"header\":{\"fill\":{\"color\":\"#C8D4E3\"},\"line\":{\"color\":\"white\"}},\"type\":\"table\"}],\"barpolar\":[{\"marker\":{\"line\":{\"color\":\"#E5ECF6\",\"width\":0.5},\"pattern\":{\"fillmode\":\"overlay\",\"size\":10,\"solidity\":0.2}},\"type\":\"barpolar\"}],\"pie\":[{\"automargin\":true,\"type\":\"pie\"}]},\"layout\":{\"autotypenumbers\":\"strict\",\"colorway\":[\"#636efa\",\"#EF553B\",\"#00cc96\",\"#ab63fa\",\"#FFA15A\",\"#19d3f3\",\"#FF6692\",\"#B6E880\",\"#FF97FF\",\"#FECB52\"],\"font\":{\"color\":\"#2a3f5f\"},\"hovermode\":\"closest\",\"hoverlabel\":{\"align\":\"left\"},\"paper_bgcolor\":\"white\",\"plot_bgcolor\":\"#E5ECF6\",\"polar\":{\"bgcolor\":\"#E5ECF6\",\"angularaxis\":{\"gridcolor\":\"white\",\"linecolor\":\"white\",\"ticks\":\"\"},\"radialaxis\":{\"gridcolor\":\"white\",\"linecolor\":\"white\",\"ticks\":\"\"}},\"ternary\":{\"bgcolor\":\"#E5ECF6\",\"aaxis\":{\"gridcolor\":\"white\",\"linecolor\":\"white\",\"ticks\":\"\"},\"baxis\":{\"gridcolor\":\"white\",\"linecolor\":\"white\",\"ticks\":\"\"},\"caxis\":{\"gridcolor\":\"white\",\"linecolor\":\"white\",\"ticks\":\"\"}},\"coloraxis\":{\"colorbar\":{\"outlinewidth\":0,\"ticks\":\"\"}},\"colorscale\":{\"sequential\":[[0.0,\"#0d0887\"],[0.1111111111111111,\"#46039f\"],[0.2222222222222222,\"#7201a8\"],[0.3333333333333333,\"#9c179e\"],[0.4444444444444444,\"#bd3786\"],[0.5555555555555556,\"#d8576b\"],[0.6666666666666666,\"#ed7953\"],[0.7777777777777778,\"#fb9f3a\"],[0.8888888888888888,\"#fdca26\"],[1.0,\"#f0f921\"]],\"sequentialminus\":[[0.0,\"#0d0887\"],[0.1111111111111111,\"#46039f\"],[0.2222222222222222,\"#7201a8\"],[0.3333333333333333,\"#9c179e\"],[0.4444444444444444,\"#bd3786\"],[0.5555555555555556,\"#d8576b\"],[0.6666666666666666,\"#ed7953\"],[0.7777777777777778,\"#fb9f3a\"],[0.8888888888888888,\"#fdca26\"],[1.0,\"#f0f921\"]],\"diverging\":[[0,\"#8e0152\"],[0.1,\"#c51b7d\"],[0.2,\"#de77ae\"],[0.3,\"#f1b6da\"],[0.4,\"#fde0ef\"],[0.5,\"#f7f7f7\"],[0.6,\"#e6f5d0\"],[0.7,\"#b8e186\"],[0.8,\"#7fbc41\"],[0.9,\"#4d9221\"],[1,\"#276419\"]]},\"xaxis\":{\"gridcolor\":\"white\",\"linecolor\":\"white\",\"ticks\":\"\",\"title\":{\"standoff\":15},\"zerolinecolor\":\"white\",\"automargin\":true,\"zerolinewidth\":2},\"yaxis\":{\"gridcolor\":\"white\",\"linecolor\":\"white\",\"ticks\":\"\",\"title\":{\"standoff\":15},\"zerolinecolor\":\"white\",\"automargin\":true,\"zerolinewidth\":2},\"scene\":{\"xaxis\":{\"backgroundcolor\":\"#E5ECF6\",\"gridcolor\":\"white\",\"linecolor\":\"white\",\"showbackground\":true,\"ticks\":\"\",\"zerolinecolor\":\"white\",\"gridwidth\":2},\"yaxis\":{\"backgroundcolor\":\"#E5ECF6\",\"gridcolor\":\"white\",\"linecolor\":\"white\",\"showbackground\":true,\"ticks\":\"\",\"zerolinecolor\":\"white\",\"gridwidth\":2},\"zaxis\":{\"backgroundcolor\":\"#E5ECF6\",\"gridcolor\":\"white\",\"linecolor\":\"white\",\"showbackground\":true,\"ticks\":\"\",\"zerolinecolor\":\"white\",\"gridwidth\":2}},\"shapedefaults\":{\"line\":{\"color\":\"#2a3f5f\"}},\"annotationdefaults\":{\"arrowcolor\":\"#2a3f5f\",\"arrowhead\":0,\"arrowwidth\":1},\"geo\":{\"bgcolor\":\"white\",\"landcolor\":\"#E5ECF6\",\"subunitcolor\":\"white\",\"showland\":true,\"showlakes\":true,\"lakecolor\":\"white\"},\"title\":{\"x\":0.05},\"mapbox\":{\"style\":\"light\"}}},\"xaxis\":{\"anchor\":\"y\",\"domain\":[0.0,1.0],\"title\":{\"text\":\"Primary Reserves and Resources (tonnes)\"},\"type\":\"log\",\"tickangle\":45},\"yaxis\":{\"anchor\":\"x\",\"domain\":[0.0,1.0],\"title\":{\"text\":\"Primary Mineral\"}},\"legend\":{\"title\":{\"text\":\"Property ID\"},\"tracegroupgap\":0},\"title\":{\"text\":\"Primary Resources and Reserves per Mine in 2022\"},\"barmode\":\"stack\"},                        {\"responsive\": true}                    ).then(function(){\n",
       "                            \n",
       "var gd = document.getElementById('62164c44-ff37-4e06-9623-77275999f826');\n",
       "var x = new MutationObserver(function (mutations, observer) {{\n",
       "        var display = window.getComputedStyle(gd).display;\n",
       "        if (!display || display === 'none') {{\n",
       "            console.log([gd, 'removed!']);\n",
       "            Plotly.purge(gd);\n",
       "            observer.disconnect();\n",
       "        }}\n",
       "}});\n",
       "\n",
       "// Listen for the removal of the full notebook cells\n",
       "var notebookContainer = gd.closest('#notebook-container');\n",
       "if (notebookContainer) {{\n",
       "    x.observe(notebookContainer, {childList: true});\n",
       "}}\n",
       "\n",
       "// Listen for the clearing of the current output cell\n",
       "var outputEl = gd.closest('.output');\n",
       "if (outputEl) {{\n",
       "    x.observe(outputEl, {childList: true});\n",
       "}}\n",
       "\n",
       "                        })                };                });            </script>        </div>"
      ]
     },
     "metadata": {},
     "output_type": "display_data"
    }
   ],
   "source": [
    "get_breakdown_by_mine(combined, 2022)"
   ]
  },
  {
   "cell_type": "code",
   "execution_count": null,
   "id": "8fa74290-2e50-493e-b1c9-7feb6af74435",
   "metadata": {},
   "outputs": [],
   "source": []
  }
 ],
 "metadata": {
  "kernelspec": {
   "display_name": "Python 3 (ipykernel)",
   "language": "python",
   "name": "python3"
  },
  "language_info": {
   "codemirror_mode": {
    "name": "ipython",
    "version": 3
   },
   "file_extension": ".py",
   "mimetype": "text/x-python",
   "name": "python",
   "nbconvert_exporter": "python",
   "pygments_lexer": "ipython3",
   "version": "3.12.4"
  }
 },
 "nbformat": 4,
 "nbformat_minor": 5
}

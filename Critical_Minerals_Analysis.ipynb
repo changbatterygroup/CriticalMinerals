{
 "cells": [
  {
   "cell_type": "code",
   "execution_count": 4,
   "id": "c0d29b5c-542d-4ac4-bd39-ae96483fd271",
   "metadata": {
    "id": "c0d29b5c-542d-4ac4-bd39-ae96483fd271"
   },
   "outputs": [],
   "source": [
    "import pandas as pd\n",
    "import matplotlib.pyplot as plt\n",
    "import numpy as np\n",
    "import plotly.graph_objects as go\n",
    "import plotly.express as px\n",
    "import os\n",
    "import xlwings as xw\n"
   ]
  },
  {
   "cell_type": "code",
   "execution_count": 5,
   "id": "d1ea7220-eaa4-46c1-bd0b-c9bc8a76ebad",
   "metadata": {
    "id": "d1ea7220-eaa4-46c1-bd0b-c9bc8a76ebad"
   },
   "outputs": [],
   "source": [
    "minerals = [\"Manganese\", \"Lithium\", \"Cobalt\", \"Nickel\"]\n",
    "data_directory = \"./data\" # Set this to your own directory\n",
    "\n",
    "\n",
    "top_reserves_by_mineral = pd.read_csv(os.path.join(data_directory, \"ReservesByMineral.csv\"))\n",
    "reserves_totals = top_reserves_by_mineral.groupby('Mineral', as_index=False)[\"Aggregate Reserves & Resources (tonnes)\"].agg('sum')"
   ]
  },
  {
   "cell_type": "code",
   "execution_count": 6,
   "id": "e69b0628-135e-49f3-a72d-91329b815a69",
   "metadata": {
    "colab": {
     "base_uri": "https://localhost:8080/",
     "height": 472
    },
    "id": "e69b0628-135e-49f3-a72d-91329b815a69",
    "outputId": "13cfb4f0-2d70-498a-e22d-19982b381a2f"
   },
   "outputs": [
    {
     "data": {
      "image/png": "[encoded data removed]",
      "text/plain": [
       "<Figure size 640x480 with 1 Axes>"
      ]
     },
     "metadata": {},
     "output_type": "display_data"
    }
   ],
   "source": [
    "plt.figure()\n",
    "plt.barh(y = reserves_totals['Mineral'], width = reserves_totals[\"Aggregate Reserves & Resources (tonnes)\"])\n",
    "plt.title(\"Aggregate Reserves (Based on top 10 countries)\")\n",
    "plt.xlabel(\"Total Reserves\")\n",
    "plt.ylabel(\"Mineral\")\n",
    "plt.show()"
   ]
  },
  {
   "cell_type": "code",
   "execution_count": 7,
   "id": "13cbfa42-2c62-477f-af9a-53b6ebe7fa67",
   "metadata": {
    "colab": {
     "base_uri": "https://localhost:8080/"
    },
    "id": "13cbfa42-2c62-477f-af9a-53b6ebe7fa67",
    "outputId": "a4b3973f-e2eb-40a0-f8c2-0b6219431fed",
    "scrolled": true
   },
   "outputs": [
    {
     "name": "stdout",
     "output_type": "stream",
     "text": [
      "Read Manganese\n",
      "Read Lithium\n",
      "Read Cobalt\n",
      "Read Nickel\n"
     ]
    }
   ],
   "source": [
    "\n",
    "combined = None\n",
    "\n",
    "mining_path = os.path.join(data_directory, \"SPGlobal_MetalsAndMiningProperties-Combined-Dec-2024.xlsx\")\n",
    "for i, mineral in enumerate(minerals):\n",
    "    data = pd.read_excel(mining_path, sheet_name = mineral)\n",
    "    print(f\"Read {mineral}\")\n",
    "\n",
    "    # data.dropna(subset=\"Primary Reserves and Resources\", inplace = True)\n",
    "    data[\"Reserves & Resources As Of Date\"] = pd.to_datetime(data[\"Reserves & Resources As Of Date\"])\n",
    "    data[\"Primary Mineral\"] = mineral\n",
    "    data[\"Year\"] = data[\"Reserves & Resources As Of Date\"].dt.year\n",
    "\n",
    "\n",
    "    if i == 0:\n",
    "        combined = data\n",
    "        continue\n",
    "\n",
    "    combined = pd.concat([combined, data], ignore_index=True)\n",
    "\n",
    "combined = combined.sort_values(by = \"Year\").query(\"`Activity Status` == 'Active'\")\n",
    "combined[\"Property ID\"] = combined[\"Property ID\"].astype(int)\n"
   ]
  },
  {
   "cell_type": "code",
   "execution_count": null,
   "id": "2c94ecf5",
   "metadata": {},
   "outputs": [],
   "source": []
  },
  {
   "cell_type": "code",
   "execution_count": 8,
   "id": "19f9c2ce",
   "metadata": {},
   "outputs": [
    {
     "data": {
      "application/vnd.microsoft.datawrangler.viewer.v0+json": {
       "columns": [
        {
         "name": "index",
         "rawType": "int64",
         "type": "integer"
        },
        {
         "name": "Property",
         "rawType": "object",
         "type": "string"
        },
        {
         "name": "Property ID",
         "rawType": "int64",
         "type": "integer"
        },
        {
         "name": "Owner(s)",
         "rawType": "object",
         "type": "unknown"
        },
        {
         "name": "Country/Region",
         "rawType": "object",
         "type": "string"
        },
        {
         "name": "Country/Region Risk Score & Outlook",
         "rawType": "object",
         "type": "unknown"
        },
        {
         "name": "Development Stage",
         "rawType": "object",
         "type": "string"
        },
        {
         "name": "Activity Status",
         "rawType": "object",
         "type": "string"
        },
        {
         "name": "Commodity(s)",
         "rawType": "object",
         "type": "string"
        },
        {
         "name": "Primary Reserves and Resources",
         "rawType": "int64",
         "type": "integer"
        },
        {
         "name": "Unit",
         "rawType": "object",
         "type": "string"
        },
        {
         "name": "Total In-Situ Value ($M)",
         "rawType": "float64",
         "type": "float"
        },
        {
         "name": "Reserves & Resources As Of Date",
         "rawType": "datetime64[ns]",
         "type": "datetime"
        },
        {
         "name": "Primary Mineral",
         "rawType": "object",
         "type": "string"
        },
        {
         "name": "Year",
         "rawType": "int32",
         "type": "integer"
        },
        {
         "name": "Latitude (degrees)",
         "rawType": "float64",
         "type": "float"
        },
        {
         "name": "Longitude (degrees)",
         "rawType": "float64",
         "type": "float"
        }
       ],
       "conversionMethod": "pd.DataFrame",
       "ref": "f42f7dc7-ec8b-430f-b7bd-6c54c85d96e3",
       "rows": [
        [
         "0",
         "Lithium Two",
         "79958",
         " New Age Metals Inc., Mineral Resources Ltd.",
         "Canada",
         "1.4 Moderate - No Change",
         "Target Outline",
         "Active",
         "Lithium, Caesium, Rubidium, Tantalum",
         "7600",
         "tonnes",
         "123.1808",
         "1947-12-31 00:00:00",
         "Lithium",
         "1947",
         "50.61363",
         "-95.46443"
        ],
        [
         "1",
         "Falcon West",
         "90157",
         "Grid Metals Corp.",
         "Canada",
         "1.4 Moderate - No Change",
         "Target Outline",
         "Active",
         "Lithium, Caesium, Tantalum, Rubidium",
         "4000",
         "tonnes",
         "64.832",
         "1955-12-31 00:00:00",
         "Lithium",
         "1955",
         "49.56729",
         "-95.68944"
        ],
        [
         "2",
         "Irgon",
         "79892",
         "QMC Quantum Minerals Corp",
         "Canada",
         "1.4 Moderate - No Change",
         "Target Outline",
         "Active",
         "Lithium, Tantalum",
         "16420",
         "tonnes",
         "266.13536",
         "1956-12-31 00:00:00",
         "Lithium",
         "1956",
         "50.6072",
         "-95.39696"
        ],
        [
         "3",
         "Chrome-Puddy",
         "89842",
         " Green Bridge Metals Corp., Pavey Ark Minerals Inc.",
         "Canada",
         "1.4 Moderate - No Change",
         "Exploration",
         "Active",
         "Nickel, Chromium, Copper, Cobalt, Platinum, Iron Ore, Palladium, Gold, Chromite",
         "73482",
         "tonnes",
         "1384.35794235251",
         "1966-12-31 00:00:00",
         "Nickel",
         "1966",
         "49.96907",
         "-89.52303"
        ],
        [
         "4",
         "Chrome-Puddy",
         "89842",
         " Green Bridge Metals Corp., Pavey Ark Minerals Inc.",
         "Canada",
         "1.4 Moderate - No Change",
         "Exploration",
         "Active",
         "Nickel, Chromium, Copper, Cobalt, Platinum, Iron Ore, Palladium, Gold, Chromite",
         "4627",
         "tonnes",
         "1384.35794235251",
         "1966-12-31 00:00:00",
         "Cobalt",
         "1966",
         "49.96907",
         "-89.52303"
        ],
        [
         "5",
         "Canalask",
         "26215",
         " GT Resources Inc., Victoria Gold Corp.",
         "Canada",
         "1.4 Moderate - No Change",
         "Target Outline",
         "Active",
         "Nickel, Copper, Platinum, Gold, Palladium",
         "5300",
         "tonnes",
         "87.4000592205729",
         "1968-12-31 00:00:00",
         "Nickel",
         "1968",
         "61.96667",
         "-140.5"
        ],
        [
         "6",
         "McBride",
         "80756",
         "Hastings Highlands Rsrc Ltd",
         "Canada",
         "1.4 Moderate - No Change",
         "Target Outline",
         "Active",
         "Nickel, Cobalt, Copper, Gold, Silver, Platinum, Palladium",
         "2450",
         "tonnes",
         "775.079351533184",
         "1971-12-31 00:00:00",
         "Cobalt",
         "1971",
         "44.8714",
         "-77.72421"
        ],
        [
         "7",
         "McBride",
         "80756",
         "Hastings Highlands Rsrc Ltd",
         "Canada",
         "1.4 Moderate - No Change",
         "Target Outline",
         "Active",
         "Nickel, Cobalt, Copper, Gold, Silver, Platinum, Palladium",
         "35561",
         "tonnes",
         "775.079351533184",
         "1971-12-31 00:00:00",
         "Nickel",
         "1971",
         "44.8714",
         "-77.72421"
        ],
        [
         "8",
         "Cyclops",
         "84443",
         "Bolt Metals Corp.",
         "Indonesia",
         "2.1 Elevated - No Change",
         "Target Outline",
         "Active",
         "Nickel, Cobalt, Iron Ore",
         "485000",
         "tonnes",
         "9527.32075277192",
         "1979-12-31 00:00:00",
         "Nickel",
         "1979",
         "-2.46688",
         "140.36829"
        ],
        [
         "9",
         "Bouvier",
         "59623",
         "Mining Equities Pty Ltd",
         "Canada",
         "1.4 Moderate - No Change",
         "Target Outline",
         "Active",
         "Lithium",
         "11431",
         "tonnes",
         "185.273648",
         "1979-12-31 00:00:00",
         "Lithium",
         "1979",
         "48.45182",
         "-78.09764"
        ],
        [
         "10",
         "Cyclops",
         "84443",
         "Bolt Metals Corp.",
         "Indonesia",
         "2.1 Elevated - No Change",
         "Target Outline",
         "Active",
         "Nickel, Cobalt, Iron Ore",
         "41000",
         "tonnes",
         "9527.32075277192",
         "1979-12-31 00:00:00",
         "Cobalt",
         "1979",
         "-2.46688",
         "140.36829"
        ],
        [
         "11",
         "Crean Hill 3",
         "91456",
         " SPC Nickel Corp, Vale S.A.",
         "Canada",
         "1.4 Moderate - No Change",
         "Target Outline",
         "Active",
         "Nickel, Copper",
         "72150",
         "tonnes",
         "1618.18065855032",
         "1989-12-31 00:00:00",
         "Nickel",
         "1989",
         "46.43776",
         "-81.31067"
        ],
        [
         "12",
         "Gochager Lake",
         "80201",
         " Fathom Nickel Inc., BioELife Corp.",
         "Canada",
         "1.4 Moderate - No Change",
         "Target Outline",
         "Active",
         "Cobalt, Copper, Nickel, Platinum, Palladium, Gold",
         "13010",
         "tonnes",
         "214.542409520689",
         "1990-12-31 00:00:00",
         "Nickel",
         "1990",
         "55.76232",
         "-104.94067"
        ],
        [
         "13",
         "Pomalaa East",
         "28852",
         "PT Vale Indonesia Tbk",
         "Indonesia",
         "2.1 Elevated - No Change",
         "Construction Started",
         "Active",
         "Nickel, Cobalt",
         "2690000",
         "tonnes",
         "44359.6526987436",
         "1993-12-31 00:00:00",
         "Nickel",
         "1993",
         "-4.22492",
         "121.68711"
        ],
        [
         "14",
         "Miriam",
         "29806",
         " Future Battery Minerals Ltd., Corazon Mining Ltd.",
         "Australia",
         "1.4 Moderate - No Change",
         "Target Outline",
         "Active",
         "Lithium, Nickel, Spodumene, Gold, Caesium, Tantalum, Tin",
         "3900",
         "tonnes",
         "64.3132511245725",
         "1996-06-21 00:00:00",
         "Nickel",
         "1996",
         "-31.05194",
         "121.10314"
        ],
        [
         "15",
         "Punta Gorda",
         "28013",
         "Cubaniquel",
         "Cuba",
         "3.0 High - No Change",
         "Operating",
         "Active",
         "Nickel, Cobalt",
         "341000",
         "tonnes",
         "80215.9877601116",
         "1999-12-31 00:00:00",
         "Cobalt",
         "1999",
         "20.62977",
         "-74.86241"
        ],
        [
         "16",
         "Punta Gorda",
         "28013",
         "Cubaniquel",
         "Cuba",
         "3.0 High - No Change",
         "Operating",
         "Active",
         "Nickel, Cobalt",
         "4093000",
         "tonnes",
         "80215.9877601116",
         "1999-12-31 00:00:00",
         "Nickel",
         "1999",
         "20.62977",
         "-74.86241"
        ],
        [
         "17",
         "Nonoc",
         "27118",
         "Philnico Mining & Indl Corp",
         "Philippines",
         "2.2 Elevated - No Change",
         "Feasibility",
         "Active",
         "Nickel, Cobalt, Iron Ore",
         "158000",
         "tonnes",
         "32014.8242352489",
         "2000-02-23 00:00:00",
         "Cobalt",
         "2000",
         "9.83278",
         "125.61056"
        ],
        [
         "18",
         "Nonoc",
         "27118",
         "Philnico Mining & Indl Corp",
         "Philippines",
         "2.2 Elevated - No Change",
         "Feasibility",
         "Active",
         "Nickel, Cobalt, Iron Ore",
         "1584000",
         "tonnes",
         "32014.8242352489",
         "2000-02-23 00:00:00",
         "Nickel",
         "2000",
         "9.83278",
         "125.61056"
        ],
        [
         "19",
         "Loveland",
         "84460",
         "Intl Explorers & Prospectors I",
         "Canada",
         "1.4 Moderate - No Change",
         "Target Outline",
         "Active",
         "Nickel, Cobalt, Copper, Palladium",
         "5262",
         "tonnes",
         "124.852742343792",
         "2002-03-31 00:00:00",
         "Nickel",
         "2002",
         "48.66136",
         "-81.62469"
        ],
        [
         "20",
         "Nkana Slag",
         "29191",
         " Private Interest, ZCCM Investments Holdings Plc",
         "Zambia",
         "2.6 High - No Change",
         "Limited Production",
         "Active",
         "Cobalt, Copper, Gold",
         "152000",
         "tonnes",
         "7644.22029409357",
         "2003-06-30 00:00:00",
         "Cobalt",
         "2003",
         "-12.83944",
         "28.21028"
        ],
        [
         "21",
         "Biankouma-Sipilou",
         "27512",
         "Nickel de l'Ouest de la Cote d",
         "Côte d'Ivoire",
         "2.1 Elevated - No Change",
         "Reserves Development",
         "Active",
         "Nickel, Cobalt",
         "285000",
         "tonnes",
         "73460.2303826231",
         "2005-09-09 00:00:00",
         "Cobalt",
         "2005",
         "7.86926",
         "-7.91147"
        ],
        [
         "22",
         "Morowali",
         "35538",
         "PT Vale Indonesia Tbk",
         "Indonesia",
         "2.1 Elevated - No Change",
         "Construction Started",
         "Active",
         "Nickel",
         "451000",
         "tonnes",
         "7437.25032235441",
         "2005-12-31 00:00:00",
         "Nickel",
         "2005",
         "-2.71",
         "121.955"
        ],
        [
         "23",
         "Biankouma-Sipilou",
         "27512",
         "Nickel de l'Ouest de la Cote d",
         "Côte d'Ivoire",
         "2.1 Elevated - No Change",
         "Reserves Development",
         "Active",
         "Nickel, Cobalt",
         "3810000",
         "tonnes",
         "73460.2303826231",
         "2005-09-09 00:00:00",
         "Nickel",
         "2005",
         "7.86926",
         "-7.91147"
        ],
        [
         "24",
         "Larco",
         "28380",
         "Larco SA",
         "Greece",
         "1.8 Elevated - Decrease",
         "Operating",
         "Active",
         "Nickel, Cobalt",
         "2476380",
         "tonnes",
         "40836.9355948382",
         "2006-12-31 00:00:00",
         "Nickel",
         "2006",
         "38.65722",
         "23.57806"
        ],
        [
         "25",
         "Gladstone",
         "30070",
         "Gladstone Pacific Nickel",
         "Australia",
         "1.4 Moderate - No Change",
         "Feasibility",
         "Active",
         "Nickel, Cobalt",
         "44000",
         "tonnes",
         "12310.7009053084",
         "2007-06-30 00:00:00",
         "Cobalt",
         "2007",
         "-22.94832",
         "149.83267"
        ],
        [
         "26",
         "Mt Jewell",
         "34250",
         "Private Interest",
         "Australia",
         "1.4 Moderate - No Change",
         "Reserves Development",
         "Active",
         "Nickel",
         "1700",
         "tonnes",
         "28.033981259429",
         "2007-06-30 00:00:00",
         "Nickel",
         "2007",
         "-30.18028",
         "121.45611"
        ],
        [
         "27",
         "Zambales",
         "35533",
         "DMCI Holdings Inc.",
         "Philippines",
         "2.2 Elevated - No Change",
         "Reserves Development",
         "Active",
         "Nickel, Cobalt, Chromite, Platinum",
         "270000",
         "tonnes",
         "4974.68685374933",
         "2007-12-21 00:00:00",
         "Nickel",
         "2007",
         "15.77065",
         "120.05396"
        ],
        [
         "28",
         "Renzy",
         "33471",
         "Fjordland Exploration Inc.",
         "Canada",
         "1.4 Moderate - No Change",
         "Reserves Development",
         "Active",
         "Nickel, Copper, Cobalt",
         "2699",
         "tonnes",
         "68.8377099464878",
         "2007-11-01 00:00:00",
         "Nickel",
         "2007",
         "46.81383",
         "-76.70302"
        ],
        [
         "29",
         "Zambales",
         "35533",
         "DMCI Holdings Inc.",
         "Philippines",
         "2.2 Elevated - No Change",
         "Reserves Development",
         "Active",
         "Nickel, Cobalt, Chromite, Platinum",
         "14000",
         "tonnes",
         "4974.68685374933",
         "2007-12-21 00:00:00",
         "Cobalt",
         "2007",
         "15.77065",
         "120.05396"
        ],
        [
         "30",
         "Old Nick",
         "29375",
         " 1258713 B.C. Ltd., 1200059 B.C. Ltd.",
         "Canada",
         "1.4 Moderate - No Change",
         "Reserves Development",
         "Active",
         "Nickel, Cobalt",
         "1600",
         "tonnes",
         "603.872591595842",
         "2007-07-16 00:00:00",
         "Cobalt",
         "2007",
         "49.04169",
         "-119.08467"
        ],
        [
         "31",
         "Gladstone",
         "30070",
         "Gladstone Pacific Nickel",
         "Australia",
         "1.4 Moderate - No Change",
         "Feasibility",
         "Active",
         "Nickel, Cobalt",
         "647000",
         "tonnes",
         "12310.7009053084",
         "2007-06-30 00:00:00",
         "Nickel",
         "2007",
         "-22.94832",
         "149.83267"
        ],
        [
         "32",
         "Old Nick",
         "29375",
         " 1258713 B.C. Ltd., 1200059 B.C. Ltd.",
         "Canada",
         "1.4 Moderate - No Change",
         "Reserves Development",
         "Active",
         "Nickel, Cobalt",
         "33000",
         "tonnes",
         "603.872591595842",
         "2007-07-16 00:00:00",
         "Nickel",
         "2007",
         "49.04169",
         "-119.08467"
        ],
        [
         "33",
         "Texmont",
         "36150",
         "Canada Nickel Co.",
         "Canada",
         "1.4 Moderate - No Change",
         "Target Outline",
         "Active",
         "Nickel, Cobalt, Palladium, Platinum",
         "29000",
         "tonnes",
         "478.226739131436",
         "2008-03-31 00:00:00",
         "Nickel",
         "2008",
         "48.16528",
         "-81.20417"
        ],
        [
         "34",
         "Kildanga",
         "34956",
         "Clara Resources Australia Ltd",
         "Australia",
         "1.4 Moderate - No Change",
         "Reserves Development",
         "Active",
         "Nickel, Cobalt, Gold, Copper, Platinum",
         "572",
         "tonnes",
         "136.457586356666",
         "2008-12-31 00:00:00",
         "Cobalt",
         "2008",
         "-26.19516",
         "152.27437"
        ],
        [
         "35",
         "Kildanga",
         "34956",
         "Clara Resources Australia Ltd",
         "Australia",
         "1.4 Moderate - No Change",
         "Reserves Development",
         "Active",
         "Nickel, Cobalt, Gold, Copper, Platinum",
         "6981",
         "tonnes",
         "136.457586356666",
         "2008-12-31 00:00:00",
         "Nickel",
         "2008",
         "-26.19516",
         "152.27437"
        ],
        [
         "36",
         "Irwin-Coglia",
         "29911",
         "Glencore plc",
         "Australia",
         "1.4 Moderate - No Change",
         "Reserves Development",
         "Active",
         "Nickel, Cobalt, Copper",
         "23000",
         "tonnes",
         "4024.14176411301",
         "2008-12-31 00:00:00",
         "Cobalt",
         "2008",
         "-29.14276",
         "123.05745"
        ],
        [
         "37",
         "Irwin-Coglia",
         "29911",
         "Glencore plc",
         "Australia",
         "1.4 Moderate - No Change",
         "Reserves Development",
         "Active",
         "Nickel, Cobalt, Copper",
         "192000",
         "tonnes",
         "4024.14176411301",
         "2008-12-31 00:00:00",
         "Nickel",
         "2008",
         "-29.14276",
         "123.05745"
        ],
        [
         "38",
         "Figesbal",
         "32792",
         " Figesbal, Establissement Ballande Groupe, Sumitomo Metal Mining Co.",
         "New Caledonia",
         null,
         "Operating",
         "Active",
         "Nickel, Cobalt",
         "1500000",
         "tonnes",
         "24735.8658171433",
         "2008-03-31 00:00:00",
         "Nickel",
         "2008",
         "-21.5295",
         "166.10385"
        ],
        [
         "39",
         "Souker",
         "35520",
         "Hannan Metals Ltd.",
         "Russia",
         "4.0 Very High - Increase",
         "Feasibility",
         "Active",
         "Nickel, Copper",
         "894200",
         "tonnes",
         "16604.4239236211",
         "2008-06-11 00:00:00",
         "Nickel",
         "2008",
         "69.38",
         "30.7631"
        ],
        [
         "40",
         "Leinster",
         "35980",
         " Future Battery Minerals Ltd., PVW Resources Ltd., Dynamic Metals Ltd.",
         "Australia",
         "1.4 Moderate - No Change",
         "Reserves Development",
         "Active",
         "Nickel, Copper, Platinum, Palladium, Gold",
         "8300",
         "tonnes",
         "161.741508831465",
         "2008-04-13 00:00:00",
         "Nickel",
         "2008",
         "-28.1646",
         "120.91717"
        ],
        [
         "41",
         "Red Flat",
         "91615",
         " Homeland Nickel Inc., Unnamed Owner",
         "USA",
         "1.5 Moderate - No Change",
         "Target Outline",
         "Active",
         "Nickel, Cobalt",
         "143612",
         "tonnes",
         "2368.24477448772",
         "2009-12-31 00:00:00",
         "Nickel",
         "2009",
         "42.35215",
         "-124.2983"
        ],
        [
         "42",
         "Nickel King",
         "27947",
         " Cornish Metals Inc., North Arrow Minerals Inc.",
         "Canada",
         "1.4 Moderate - No Change",
         "Reserves Development",
         "Active",
         "Nickel, Copper, Cobalt",
         "7575",
         "tonnes",
         "3313.46640597151",
         "2009-02-25 00:00:00",
         "Cobalt",
         "2009",
         "60.24933",
         "-104.51322"
        ],
        [
         "43",
         "Kuhmo",
         "33747",
         " Boliden AB (publ), Sotkamo Silver AB",
         "Finland",
         "1.3 Moderate - No Change",
         "Reserves Development",
         "Active",
         "Nickel, Copper, Cobalt, Platinum, Palladium, Gold",
         "1616",
         "tonnes",
         "1015.09646447866",
         "2009-10-23 00:00:00",
         "Cobalt",
         "2009",
         "65.14917",
         "29.07889"
        ],
        [
         "44",
         "Jinchuan",
         "27136",
         "JinChuan Group Co.Ltd",
         "China",
         "1.9 Elevated - No Change",
         "Operating",
         "Active",
         "Nickel, Copper, Cobalt, Platinum, Palladium, Gold, Rhodium, Silver",
         "161000",
         "tonnes",
         "129177.575452705",
         "2009-12-21 00:00:00",
         "Cobalt",
         "2009",
         "38.49053",
         "102.14801"
        ],
        [
         "45",
         "Yuanjiang",
         "33499",
         "Yuanjiang Nickel",
         "China",
         "1.9 Elevated - No Change",
         "Operating",
         "Active",
         "Nickel, Cobalt",
         "14100",
         "tonnes",
         "7567.43769741982",
         "2009-12-21 00:00:00",
         "Cobalt",
         "2009",
         "23.48131",
         "101.78039"
        ],
        [
         "46",
         "Nickel King",
         "27947",
         " Cornish Metals Inc., North Arrow Minerals Inc.",
         "Canada",
         "1.4 Moderate - No Change",
         "Reserves Development",
         "Active",
         "Nickel, Copper, Cobalt",
         "163338",
         "tonnes",
         "3313.46640597151",
         "2009-02-25 00:00:00",
         "Nickel",
         "2009",
         "60.24933",
         "-104.51322"
        ],
        [
         "47",
         "Uyuni Salt Flat",
         "36153",
         "Corporacion Minera de Bolivia",
         "Bolivia",
         "3.1 High - No Change",
         "Construction Started",
         "Active",
         "Lithium, Magnesium",
         "39000000",
         "tonnes",
         "632112.0",
         "2009-12-15 00:00:00",
         "Lithium",
         "2009",
         "-20.54285",
         "-67.37803"
        ],
        [
         "48",
         "Goodyear",
         "29766",
         "Lefroy Exploration Ltd.",
         "Australia",
         "1.4 Moderate - No Change",
         "Reserves Development",
         "Active",
         "Nickel, Lithium, Lanthanides, Gold, Copper",
         "14780",
         "tonnes",
         "243.730731184918",
         "2009-03-31 00:00:00",
         "Nickel",
         "2009",
         "-31.01241",
         "121.68447"
        ],
        [
         "49",
         "Bird River",
         "30985",
         " Grid Metals Corp., Gossan Resources Ltd.",
         "Canada",
         "1.4 Moderate - No Change",
         "Reserves Development",
         "Active",
         "Nickel, Copper, Zinc, Silver, Gold, Palladium, Platinum",
         "18019",
         "tonnes",
         "540.195582260935",
         "2009-01-15 00:00:00",
         "Nickel",
         "2009",
         "50.48077",
         "-95.50764"
        ]
       ],
       "shape": {
        "columns": 16,
        "rows": 586
       }
      },
      "text/html": [
       "<div>\n",
       "<style scoped>\n",
       "    .dataframe tbody tr th:only-of-type {\n",
       "        vertical-align: middle;\n",
       "    }\n",
       "\n",
       "    .dataframe tbody tr th {\n",
       "        vertical-align: top;\n",
       "    }\n",
       "\n",
       "    .dataframe thead th {\n",
       "        text-align: right;\n",
       "    }\n",
       "</style>\n",
       "<table border=\"1\" class=\"dataframe\">\n",
       "  <thead>\n",
       "    <tr style=\"text-align: right;\">\n",
       "      <th></th>\n",
       "      <th>Property</th>\n",
       "      <th>Property ID</th>\n",
       "      <th>Owner(s)</th>\n",
       "      <th>Country/Region</th>\n",
       "      <th>Country/Region Risk Score &amp; Outlook</th>\n",
       "      <th>Development Stage</th>\n",
       "      <th>Activity Status</th>\n",
       "      <th>Commodity(s)</th>\n",
       "      <th>Primary Reserves and Resources</th>\n",
       "      <th>Unit</th>\n",
       "      <th>Total In-Situ Value ($M)</th>\n",
       "      <th>Reserves &amp; Resources As Of Date</th>\n",
       "      <th>Primary Mineral</th>\n",
       "      <th>Year</th>\n",
       "      <th>Latitude (degrees)</th>\n",
       "      <th>Longitude (degrees)</th>\n",
       "    </tr>\n",
       "  </thead>\n",
       "  <tbody>\n",
       "    <tr>\n",
       "      <th>0</th>\n",
       "      <td>Lithium Two</td>\n",
       "      <td>79958</td>\n",
       "      <td>New Age Metals Inc., Mineral Resources Ltd.</td>\n",
       "      <td>Canada</td>\n",
       "      <td>1.4 Moderate - No Change</td>\n",
       "      <td>Target Outline</td>\n",
       "      <td>Active</td>\n",
       "      <td>Lithium, Caesium, Rubidium, Tantalum</td>\n",
       "      <td>7600</td>\n",
       "      <td>tonnes</td>\n",
       "      <td>123.180800</td>\n",
       "      <td>1947-12-31</td>\n",
       "      <td>Lithium</td>\n",
       "      <td>1947</td>\n",
       "      <td>50.61363</td>\n",
       "      <td>-95.46443</td>\n",
       "    </tr>\n",
       "    <tr>\n",
       "      <th>1</th>\n",
       "      <td>Falcon West</td>\n",
       "      <td>90157</td>\n",
       "      <td>Grid Metals Corp.</td>\n",
       "      <td>Canada</td>\n",
       "      <td>1.4 Moderate - No Change</td>\n",
       "      <td>Target Outline</td>\n",
       "      <td>Active</td>\n",
       "      <td>Lithium, Caesium, Tantalum, Rubidium</td>\n",
       "      <td>4000</td>\n",
       "      <td>tonnes</td>\n",
       "      <td>64.832000</td>\n",
       "      <td>1955-12-31</td>\n",
       "      <td>Lithium</td>\n",
       "      <td>1955</td>\n",
       "      <td>49.56729</td>\n",
       "      <td>-95.68944</td>\n",
       "    </tr>\n",
       "    <tr>\n",
       "      <th>2</th>\n",
       "      <td>Irgon</td>\n",
       "      <td>79892</td>\n",
       "      <td>QMC Quantum Minerals Corp</td>\n",
       "      <td>Canada</td>\n",
       "      <td>1.4 Moderate - No Change</td>\n",
       "      <td>Target Outline</td>\n",
       "      <td>Active</td>\n",
       "      <td>Lithium, Tantalum</td>\n",
       "      <td>16420</td>\n",
       "      <td>tonnes</td>\n",
       "      <td>266.135360</td>\n",
       "      <td>1956-12-31</td>\n",
       "      <td>Lithium</td>\n",
       "      <td>1956</td>\n",
       "      <td>50.60720</td>\n",
       "      <td>-95.39696</td>\n",
       "    </tr>\n",
       "    <tr>\n",
       "      <th>3</th>\n",
       "      <td>Chrome-Puddy</td>\n",
       "      <td>89842</td>\n",
       "      <td>Green Bridge Metals Corp., Pavey Ark Minerals...</td>\n",
       "      <td>Canada</td>\n",
       "      <td>1.4 Moderate - No Change</td>\n",
       "      <td>Exploration</td>\n",
       "      <td>Active</td>\n",
       "      <td>Nickel, Chromium, Copper, Cobalt, Platinum, Ir...</td>\n",
       "      <td>73482</td>\n",
       "      <td>tonnes</td>\n",
       "      <td>1384.357942</td>\n",
       "      <td>1966-12-31</td>\n",
       "      <td>Nickel</td>\n",
       "      <td>1966</td>\n",
       "      <td>49.96907</td>\n",
       "      <td>-89.52303</td>\n",
       "    </tr>\n",
       "    <tr>\n",
       "      <th>4</th>\n",
       "      <td>Chrome-Puddy</td>\n",
       "      <td>89842</td>\n",
       "      <td>Green Bridge Metals Corp., Pavey Ark Minerals...</td>\n",
       "      <td>Canada</td>\n",
       "      <td>1.4 Moderate - No Change</td>\n",
       "      <td>Exploration</td>\n",
       "      <td>Active</td>\n",
       "      <td>Nickel, Chromium, Copper, Cobalt, Platinum, Ir...</td>\n",
       "      <td>4627</td>\n",
       "      <td>tonnes</td>\n",
       "      <td>1384.357942</td>\n",
       "      <td>1966-12-31</td>\n",
       "      <td>Cobalt</td>\n",
       "      <td>1966</td>\n",
       "      <td>49.96907</td>\n",
       "      <td>-89.52303</td>\n",
       "    </tr>\n",
       "    <tr>\n",
       "      <th>...</th>\n",
       "      <td>...</td>\n",
       "      <td>...</td>\n",
       "      <td>...</td>\n",
       "      <td>...</td>\n",
       "      <td>...</td>\n",
       "      <td>...</td>\n",
       "      <td>...</td>\n",
       "      <td>...</td>\n",
       "      <td>...</td>\n",
       "      <td>...</td>\n",
       "      <td>...</td>\n",
       "      <td>...</td>\n",
       "      <td>...</td>\n",
       "      <td>...</td>\n",
       "      <td>...</td>\n",
       "      <td>...</td>\n",
       "    </tr>\n",
       "    <tr>\n",
       "      <th>581</th>\n",
       "      <td>Foster</td>\n",
       "      <td>88835</td>\n",
       "      <td>Lunnon Metals Ltd.</td>\n",
       "      <td>Australia</td>\n",
       "      <td>1.4 Moderate - No Change</td>\n",
       "      <td>Prefeas/Scoping</td>\n",
       "      <td>Active</td>\n",
       "      <td>Nickel, Cobalt, Copper, Gold, Palladium, Plati...</td>\n",
       "      <td>1468</td>\n",
       "      <td>tonnes</td>\n",
       "      <td>2022.845594</td>\n",
       "      <td>2024-06-11</td>\n",
       "      <td>Cobalt</td>\n",
       "      <td>2024</td>\n",
       "      <td>-31.34536</td>\n",
       "      <td>121.74359</td>\n",
       "    </tr>\n",
       "    <tr>\n",
       "      <th>582</th>\n",
       "      <td>Selkirk</td>\n",
       "      <td>27655</td>\n",
       "      <td>Premium Resources Ltd., Botswana</td>\n",
       "      <td>Botswana</td>\n",
       "      <td>1.8 Elevated - No Change</td>\n",
       "      <td>Feasibility</td>\n",
       "      <td>Active</td>\n",
       "      <td>Nickel, Copper, Cobalt, Platinum, Palladium, Gold</td>\n",
       "      <td>108000</td>\n",
       "      <td>tonnes</td>\n",
       "      <td>3939.211657</td>\n",
       "      <td>2024-11-01</td>\n",
       "      <td>Nickel</td>\n",
       "      <td>2024</td>\n",
       "      <td>-21.29955</td>\n",
       "      <td>27.73351</td>\n",
       "    </tr>\n",
       "    <tr>\n",
       "      <th>583</th>\n",
       "      <td>Alexo-Dundonald</td>\n",
       "      <td>33464</td>\n",
       "      <td>Class 1 Nickel &amp; Technologies</td>\n",
       "      <td>Canada</td>\n",
       "      <td>1.4 Moderate - No Change</td>\n",
       "      <td>Reserves Development</td>\n",
       "      <td>Active</td>\n",
       "      <td>Nickel, Copper, Cobalt, Gold, Platinum, Palladium</td>\n",
       "      <td>1449</td>\n",
       "      <td>tonnes</td>\n",
       "      <td>970.740384</td>\n",
       "      <td>2024-10-01</td>\n",
       "      <td>Cobalt</td>\n",
       "      <td>2024</td>\n",
       "      <td>48.65369</td>\n",
       "      <td>-80.80783</td>\n",
       "    </tr>\n",
       "    <tr>\n",
       "      <th>584</th>\n",
       "      <td>Aguablanca</td>\n",
       "      <td>29064</td>\n",
       "      <td>Denarius Metals Corp., Private Interest</td>\n",
       "      <td>Spain</td>\n",
       "      <td>1.9 Elevated - No Change</td>\n",
       "      <td>Prefeas/Scoping</td>\n",
       "      <td>Active</td>\n",
       "      <td>Nickel, Copper, Cobalt, Platinum, Palladium, G...</td>\n",
       "      <td>897</td>\n",
       "      <td>tonnes</td>\n",
       "      <td>1036.531600</td>\n",
       "      <td>2024-03-24</td>\n",
       "      <td>Cobalt</td>\n",
       "      <td>2024</td>\n",
       "      <td>37.96111</td>\n",
       "      <td>-6.18528</td>\n",
       "    </tr>\n",
       "    <tr>\n",
       "      <th>585</th>\n",
       "      <td>Minago</td>\n",
       "      <td>27222</td>\n",
       "      <td>Norway House Cree Nation</td>\n",
       "      <td>Canada</td>\n",
       "      <td>1.4 Moderate - No Change</td>\n",
       "      <td>Feasibility Started</td>\n",
       "      <td>Active</td>\n",
       "      <td>Nickel, Copper, Cobalt, Palladium, Frac Sand, ...</td>\n",
       "      <td>391885</td>\n",
       "      <td>tonnes</td>\n",
       "      <td>6971.333721</td>\n",
       "      <td>2024-03-18</td>\n",
       "      <td>Nickel</td>\n",
       "      <td>2024</td>\n",
       "      <td>54.11277</td>\n",
       "      <td>-99.16678</td>\n",
       "    </tr>\n",
       "  </tbody>\n",
       "</table>\n",
       "<p>586 rows × 16 columns</p>\n",
       "</div>"
      ],
      "text/plain": [
       "            Property  Property ID  \\\n",
       "0        Lithium Two        79958   \n",
       "1        Falcon West        90157   \n",
       "2              Irgon        79892   \n",
       "3       Chrome-Puddy        89842   \n",
       "4       Chrome-Puddy        89842   \n",
       "..               ...          ...   \n",
       "581           Foster        88835   \n",
       "582          Selkirk        27655   \n",
       "583  Alexo-Dundonald        33464   \n",
       "584       Aguablanca        29064   \n",
       "585           Minago        27222   \n",
       "\n",
       "                                              Owner(s) Country/Region  \\\n",
       "0          New Age Metals Inc., Mineral Resources Ltd.         Canada   \n",
       "1                                    Grid Metals Corp.         Canada   \n",
       "2                            QMC Quantum Minerals Corp         Canada   \n",
       "3     Green Bridge Metals Corp., Pavey Ark Minerals...         Canada   \n",
       "4     Green Bridge Metals Corp., Pavey Ark Minerals...         Canada   \n",
       "..                                                 ...            ...   \n",
       "581                                 Lunnon Metals Ltd.      Australia   \n",
       "582                   Premium Resources Ltd., Botswana       Botswana   \n",
       "583                      Class 1 Nickel & Technologies         Canada   \n",
       "584            Denarius Metals Corp., Private Interest          Spain   \n",
       "585                           Norway House Cree Nation         Canada   \n",
       "\n",
       "    Country/Region Risk Score & Outlook     Development Stage Activity Status  \\\n",
       "0              1.4 Moderate - No Change        Target Outline          Active   \n",
       "1              1.4 Moderate - No Change        Target Outline          Active   \n",
       "2              1.4 Moderate - No Change        Target Outline          Active   \n",
       "3              1.4 Moderate - No Change           Exploration          Active   \n",
       "4              1.4 Moderate - No Change           Exploration          Active   \n",
       "..                                  ...                   ...             ...   \n",
       "581            1.4 Moderate - No Change       Prefeas/Scoping          Active   \n",
       "582            1.8 Elevated - No Change           Feasibility          Active   \n",
       "583            1.4 Moderate - No Change  Reserves Development          Active   \n",
       "584            1.9 Elevated - No Change       Prefeas/Scoping          Active   \n",
       "585            1.4 Moderate - No Change   Feasibility Started          Active   \n",
       "\n",
       "                                          Commodity(s)  \\\n",
       "0                 Lithium, Caesium, Rubidium, Tantalum   \n",
       "1                 Lithium, Caesium, Tantalum, Rubidium   \n",
       "2                                    Lithium, Tantalum   \n",
       "3    Nickel, Chromium, Copper, Cobalt, Platinum, Ir...   \n",
       "4    Nickel, Chromium, Copper, Cobalt, Platinum, Ir...   \n",
       "..                                                 ...   \n",
       "581  Nickel, Cobalt, Copper, Gold, Palladium, Plati...   \n",
       "582  Nickel, Copper, Cobalt, Platinum, Palladium, Gold   \n",
       "583  Nickel, Copper, Cobalt, Gold, Platinum, Palladium   \n",
       "584  Nickel, Copper, Cobalt, Platinum, Palladium, G...   \n",
       "585  Nickel, Copper, Cobalt, Palladium, Frac Sand, ...   \n",
       "\n",
       "     Primary Reserves and Resources    Unit  Total In-Situ Value ($M)  \\\n",
       "0                              7600  tonnes                123.180800   \n",
       "1                              4000  tonnes                 64.832000   \n",
       "2                             16420  tonnes                266.135360   \n",
       "3                             73482  tonnes               1384.357942   \n",
       "4                              4627  tonnes               1384.357942   \n",
       "..                              ...     ...                       ...   \n",
       "581                            1468  tonnes               2022.845594   \n",
       "582                          108000  tonnes               3939.211657   \n",
       "583                            1449  tonnes                970.740384   \n",
       "584                             897  tonnes               1036.531600   \n",
       "585                          391885  tonnes               6971.333721   \n",
       "\n",
       "    Reserves & Resources As Of Date Primary Mineral  Year  Latitude (degrees)  \\\n",
       "0                        1947-12-31         Lithium  1947            50.61363   \n",
       "1                        1955-12-31         Lithium  1955            49.56729   \n",
       "2                        1956-12-31         Lithium  1956            50.60720   \n",
       "3                        1966-12-31          Nickel  1966            49.96907   \n",
       "4                        1966-12-31          Cobalt  1966            49.96907   \n",
       "..                              ...             ...   ...                 ...   \n",
       "581                      2024-06-11          Cobalt  2024           -31.34536   \n",
       "582                      2024-11-01          Nickel  2024           -21.29955   \n",
       "583                      2024-10-01          Cobalt  2024            48.65369   \n",
       "584                      2024-03-24          Cobalt  2024            37.96111   \n",
       "585                      2024-03-18          Nickel  2024            54.11277   \n",
       "\n",
       "     Longitude (degrees)  \n",
       "0              -95.46443  \n",
       "1              -95.68944  \n",
       "2              -95.39696  \n",
       "3              -89.52303  \n",
       "4              -89.52303  \n",
       "..                   ...  \n",
       "581            121.74359  \n",
       "582             27.73351  \n",
       "583            -80.80783  \n",
       "584             -6.18528  \n",
       "585            -99.16678  \n",
       "\n",
       "[586 rows x 16 columns]"
      ]
     },
     "execution_count": 8,
     "metadata": {},
     "output_type": "execute_result"
    }
   ],
   "source": [
    "locations = pd.read_excel(\"data/MiningPropertyLocations.xlsx\")\n",
    "coords = locations[[\"KeyMineProject\",\"Latitude (degrees)\", \"Longitude (degrees)\"]]\n",
    "\n",
    "combined = combined.merge(coords, left_on = \"Property ID\", right_on=\"KeyMineProject\" ,how = \"inner\")\n",
    "combined.drop(\"KeyMineProject\", axis=1, inplace=True, errors=\"ignore\")\n",
    "combined"
   ]
  },
  {
   "cell_type": "code",
   "execution_count": 9,
   "id": "245ff1a6",
   "metadata": {},
   "outputs": [],
   "source": [
    "start_year = 2010\n",
    "combined = combined[combined[\"Year\"] >= start_year]"
   ]
  },
  {
   "cell_type": "code",
   "execution_count": 10,
   "id": "9857730d-3d69-40fa-b7fd-f7137a7d2c42",
   "metadata": {},
   "outputs": [
    {
     "data": {
      "application/vnd.microsoft.datawrangler.viewer.v0+json": {
       "columns": [
        {
         "name": "index",
         "rawType": "int64",
         "type": "integer"
        },
        {
         "name": "Year",
         "rawType": "int64",
         "type": "integer"
        },
        {
         "name": "Capacity",
         "rawType": "float64",
         "type": "float"
        },
        {
         "name": "log_capacity",
         "rawType": "float64",
         "type": "float"
        }
       ],
       "conversionMethod": "pd.DataFrame",
       "ref": "57e9c26e-5aeb-45a1-b6ea-373b09309ef9",
       "rows": [
        [
         "0",
         "2010",
         "14.0",
         "2.6390573296152584"
        ],
        [
         "1",
         "2011",
         "28.0",
         "3.332204510175204"
        ],
        [
         "2",
         "2012",
         "38.0",
         "3.6375861597263857"
        ],
        [
         "3",
         "2013",
         "56.0",
         "4.02535169073515"
        ],
        [
         "4",
         "2014",
         "75.0",
         "4.31748811353631"
        ],
        [
         "5",
         "2015",
         "85.0",
         "4.442651256490317"
        ],
        [
         "6",
         "2016",
         "111.0",
         "4.709530201312334"
        ],
        [
         "7",
         "2017",
         "198.0",
         "5.288267030694535"
        ],
        [
         "8",
         "2018",
         "293.7",
         "5.682558838204574"
        ],
        [
         "9",
         "2022",
         "1570.0",
         "7.358830898342354"
        ],
        [
         "10",
         "2025",
         "3970.0",
         "8.286521373681236"
        ],
        [
         "11",
         "2030",
         "6790.0",
         "8.823206220552741"
        ]
       ],
       "shape": {
        "columns": 3,
        "rows": 12
       }
      },
      "text/html": [
       "<div>\n",
       "<style scoped>\n",
       "    .dataframe tbody tr th:only-of-type {\n",
       "        vertical-align: middle;\n",
       "    }\n",
       "\n",
       "    .dataframe tbody tr th {\n",
       "        vertical-align: top;\n",
       "    }\n",
       "\n",
       "    .dataframe thead th {\n",
       "        text-align: right;\n",
       "    }\n",
       "</style>\n",
       "<table border=\"1\" class=\"dataframe\">\n",
       "  <thead>\n",
       "    <tr style=\"text-align: right;\">\n",
       "      <th></th>\n",
       "      <th>Year</th>\n",
       "      <th>Capacity</th>\n",
       "      <th>log_capacity</th>\n",
       "    </tr>\n",
       "  </thead>\n",
       "  <tbody>\n",
       "    <tr>\n",
       "      <th>0</th>\n",
       "      <td>2010</td>\n",
       "      <td>14.0</td>\n",
       "      <td>2.639057</td>\n",
       "    </tr>\n",
       "    <tr>\n",
       "      <th>1</th>\n",
       "      <td>2011</td>\n",
       "      <td>28.0</td>\n",
       "      <td>3.332205</td>\n",
       "    </tr>\n",
       "    <tr>\n",
       "      <th>2</th>\n",
       "      <td>2012</td>\n",
       "      <td>38.0</td>\n",
       "      <td>3.637586</td>\n",
       "    </tr>\n",
       "    <tr>\n",
       "      <th>3</th>\n",
       "      <td>2013</td>\n",
       "      <td>56.0</td>\n",
       "      <td>4.025352</td>\n",
       "    </tr>\n",
       "    <tr>\n",
       "      <th>4</th>\n",
       "      <td>2014</td>\n",
       "      <td>75.0</td>\n",
       "      <td>4.317488</td>\n",
       "    </tr>\n",
       "    <tr>\n",
       "      <th>5</th>\n",
       "      <td>2015</td>\n",
       "      <td>85.0</td>\n",
       "      <td>4.442651</td>\n",
       "    </tr>\n",
       "    <tr>\n",
       "      <th>6</th>\n",
       "      <td>2016</td>\n",
       "      <td>111.0</td>\n",
       "      <td>4.709530</td>\n",
       "    </tr>\n",
       "    <tr>\n",
       "      <th>7</th>\n",
       "      <td>2017</td>\n",
       "      <td>198.0</td>\n",
       "      <td>5.288267</td>\n",
       "    </tr>\n",
       "    <tr>\n",
       "      <th>8</th>\n",
       "      <td>2018</td>\n",
       "      <td>293.7</td>\n",
       "      <td>5.682559</td>\n",
       "    </tr>\n",
       "    <tr>\n",
       "      <th>9</th>\n",
       "      <td>2022</td>\n",
       "      <td>1570.0</td>\n",
       "      <td>7.358831</td>\n",
       "    </tr>\n",
       "    <tr>\n",
       "      <th>10</th>\n",
       "      <td>2025</td>\n",
       "      <td>3970.0</td>\n",
       "      <td>8.286521</td>\n",
       "    </tr>\n",
       "    <tr>\n",
       "      <th>11</th>\n",
       "      <td>2030</td>\n",
       "      <td>6790.0</td>\n",
       "      <td>8.823206</td>\n",
       "    </tr>\n",
       "  </tbody>\n",
       "</table>\n",
       "</div>"
      ],
      "text/plain": [
       "    Year  Capacity  log_capacity\n",
       "0   2010      14.0      2.639057\n",
       "1   2011      28.0      3.332205\n",
       "2   2012      38.0      3.637586\n",
       "3   2013      56.0      4.025352\n",
       "4   2014      75.0      4.317488\n",
       "5   2015      85.0      4.442651\n",
       "6   2016     111.0      4.709530\n",
       "7   2017     198.0      5.288267\n",
       "8   2018     293.7      5.682559\n",
       "9   2022    1570.0      7.358831\n",
       "10  2025    3970.0      8.286521\n",
       "11  2030    6790.0      8.823206"
      ]
     },
     "execution_count": 10,
     "metadata": {},
     "output_type": "execute_result"
    }
   ],
   "source": [
    "from io import StringIO\n",
    "from sklearn.preprocessing import PolynomialFeatures\n",
    "from sklearn.linear_model import LinearRegression\n",
    "from sklearn.metrics import root_mean_squared_error\n",
    "\n",
    "\n",
    "d = \"\"\"\n",
    "Year,Capacity\n",
    "2010,14\n",
    "2011,28\n",
    "2012,38\n",
    "2013,56\n",
    "2014,75\n",
    "2015,85\n",
    "2016,111\n",
    "2017,198\n",
    "2018,293.7\n",
    "2022,1570\n",
    "2025,3970\n",
    "2030,6790\n",
    "\"\"\"\n",
    "\n",
    "df = pd.read_csv(StringIO(d))\n",
    "df[\"log_capacity\"] = np.log(df[\"Capacity\"])\n",
    "df"
   ]
  },
  {
   "cell_type": "code",
   "execution_count": 11,
   "id": "35a22895-ba52-4b59-b094-e5e83862d933",
   "metadata": {},
   "outputs": [
    {
     "name": "stdout",
     "output_type": "stream",
     "text": [
      "Best degree: 3 with RMSE 0.15105632961085044\n"
     ]
    },
    {
     "data": {
      "image/png": "[encoded data removed]",
      "text/plain": [
       "<Figure size 640x480 with 1 Axes>"
      ]
     },
     "metadata": {},
     "output_type": "display_data"
    },
    {
     "name": "stdout",
     "output_type": "stream",
     "text": [
      "[[ 0.00000000e+00 -1.10772606e+04  5.49055450e+00 -9.07116281e-04]] [7449236.86970825]\n"
     ]
    }
   ],
   "source": [
    "errors = []\n",
    "models = []\n",
    "transforms = []\n",
    "r = np.arange(1,20)\n",
    "for d in r:\n",
    "    poly = PolynomialFeatures(degree=d, include_bias=True)\n",
    "    transforms.append(poly)\n",
    "    X = poly.fit_transform(df[[\"Year\"]], df[\"log_capacity\"])\n",
    "    reg = LinearRegression()\n",
    "    reg.fit(X, df[[\"log_capacity\"]].values)\n",
    "    models.append(reg)\n",
    "    rmse = root_mean_squared_error(df[\"log_capacity\"],reg.predict(X))\n",
    "    errors.append(rmse)\n",
    "\n",
    "\n",
    "errors = np.array(errors)\n",
    "differences = np.abs(np.diff(errors))\n",
    "threshold = 0.001\n",
    "best_index = np.argmax(differences[differences > 0] < threshold)\n",
    "best_poly = transforms[best_index]\n",
    "best_model = models[best_index]\n",
    "print(f\"Best degree: {best_index + 1} with RMSE {errors[best_index]}\")\n",
    "\n",
    "plt.plot(errors, marker=\"o\")\n",
    "plt.xticks(r - 1,labels=r)\n",
    "plt.xlabel(\"Polynomial Degree\")\n",
    "plt.ylabel(\"RMSE\")\n",
    "plt.show()\n",
    "\n",
    "print(best_model.coef_, best_model.intercept_)"
   ]
  },
  {
   "cell_type": "code",
   "execution_count": 12,
   "id": "efb6c8c5-33f4-4179-811b-ea643d944c1b",
   "metadata": {},
   "outputs": [
    {
     "data": {
      "image/png": "[encoded data removed]",
      "text/plain": [
       "<Figure size 640x480 with 1 Axes>"
      ]
     },
     "metadata": {},
     "output_type": "display_data"
    }
   ],
   "source": [
    "year_range = np.arange(df[\"Year\"].min(), df[\"Year\"].max())\n",
    "\n",
    "p2 = pd.DataFrame(year_range[~np.isin(year_range, df[\"Year\"])], columns=[\"Year\"])\n",
    "p2[\"log_capacity\"] = best_model.predict(best_poly.transform(p2[[\"Year\"]]))\n",
    "p2[\"Capacity\"] = np.exp(p2[[\"log_capacity\"]])\n",
    "df_full = pd.concat([df, p2], axis=0).sort_values(\"Year\").reset_index(drop=True)\n",
    "# df_full.to_excel(os.path.join(data_directory, \"Capacity.xlsx\"),  sheet_name=\"Projected Capacity\", index=False)\n",
    "\n",
    "ax = df_full.plot(x=\"Year\", y=\"Capacity\", marker=\"o\")\n",
    "ax.set_ylabel(\"Capacity (GWh)\")\n",
    "ax.set_xticks(df_full[\"Year\"], df_full[\"Year\"])\n",
    "ax.tick_params(axis='x', rotation=-45)\n",
    "for label in ax.get_xticklabels():\n",
    "    label.set_ha('left')\n",
    "\n",
    "plt.legend().remove()\n",
    "plt.title(\"Projected Battery Production Capacity\")\n",
    "plt.show()"
   ]
  },
  {
   "cell_type": "code",
   "execution_count": 13,
   "id": "0fbfffe3-9b63-4d3f-be21-38f001f97ebc",
   "metadata": {
    "colab": {
     "base_uri": "https://localhost:8080/",
     "height": 617
    },
    "id": "0fbfffe3-9b63-4d3f-be21-38f001f97ebc",
    "outputId": "1aec076f-84e7-4b99-c5b8-9f5fa82ad581"
   },
   "outputs": [
    {
     "data": {
      "application/vnd.plotly.v1+json": {
       "config": {
        "plotlyServerURL": "https://plot.ly"
       },
       "data": [
        {
         "hovertemplate": "Primary Mineral=Cobalt<br>Reserves & Resources As Of Date=%{x}<br>Primary Reserves and Resources=%{y}<extra></extra>",
         "legendgroup": "",
         "line": {
          "color": "#636efa",
          "dash": "solid"
         },
         "marker": {
          "symbol": "circle"
         },
         "mode": "lines",
         "name": "",
         "orientation": "v",
         "showlegend": false,
         "type": "scatter",
         "x": [
          "2010-02-16T00:00:00",
          "2010-04-14T00:00:00",
          "2010-06-04T00:00:00",
          "2010-11-04T00:00:00",
          "2011-05-18T00:00:00",
          "2012-03-15T00:00:00",
          "2012-06-13T00:00:00",
          "2012-06-30T00:00:00",
          "2012-07-05T00:00:00",
          "2012-09-20T00:00:00",
          "2012-12-31T00:00:00",
          "2013-02-05T00:00:00",
          "2013-08-30T00:00:00",
          "2013-10-10T00:00:00",
          "2013-12-31T00:00:00",
          "2014-04-02T00:00:00",
          "2015-04-30T00:00:00",
          "2017-01-27T00:00:00",
          "2017-04-11T00:00:00",
          "2017-08-07T00:00:00",
          "2017-08-18T00:00:00",
          "2017-09-14T00:00:00",
          "2017-10-31T00:00:00",
          "2018-02-12T00:00:00",
          "2018-03-08T00:00:00",
          "2018-04-09T00:00:00",
          "2018-04-11T00:00:00",
          "2018-05-31T00:00:00",
          "2018-06-06T00:00:00",
          "2018-07-19T00:00:00",
          "2018-07-31T00:00:00",
          "2018-09-28T00:00:00",
          "2018-10-11T00:00:00",
          "2018-11-19T00:00:00",
          "2019-02-26T00:00:00",
          "2019-03-25T00:00:00",
          "2019-04-13T00:00:00",
          "2019-04-18T00:00:00",
          "2019-05-02T00:00:00",
          "2019-05-24T00:00:00",
          "2019-05-30T00:00:00",
          "2019-06-30T00:00:00",
          "2019-08-13T00:00:00",
          "2019-09-30T00:00:00",
          "2019-10-18T00:00:00",
          "2019-10-31T00:00:00",
          "2019-12-31T00:00:00",
          "2020-04-22T00:00:00",
          "2020-09-27T00:00:00",
          "2020-11-17T00:00:00",
          "2020-11-30T00:00:00",
          "2020-12-31T00:00:00",
          "2021-03-31T00:00:00",
          "2021-07-01T00:00:00",
          "2021-09-30T00:00:00",
          "2021-10-07T00:00:00",
          "2021-10-30T00:00:00",
          "2021-11-09T00:00:00",
          "2021-12-13T00:00:00",
          "2021-12-31T00:00:00",
          "2022-01-28T00:00:00",
          "2022-05-17T00:00:00",
          "2022-05-25T00:00:00",
          "2022-05-31T00:00:00",
          "2022-06-01T00:00:00",
          "2022-06-13T00:00:00",
          "2022-07-06T00:00:00",
          "2022-08-10T00:00:00",
          "2022-09-01T00:00:00",
          "2022-09-11T00:00:00",
          "2022-09-20T00:00:00",
          "2022-10-10T00:00:00",
          "2022-10-21T00:00:00",
          "2022-12-12T00:00:00",
          "2022-12-31T00:00:00",
          "2023-01-23T00:00:00",
          "2023-01-27T00:00:00",
          "2023-02-02T00:00:00",
          "2023-02-27T00:00:00",
          "2023-03-01T00:00:00",
          "2023-03-07T00:00:00",
          "2023-03-30T00:00:00",
          "2023-04-26T00:00:00",
          "2023-05-31T00:00:00",
          "2023-06-07T00:00:00",
          "2023-06-09T00:00:00",
          "2023-06-30T00:00:00",
          "2023-07-05T00:00:00",
          "2023-07-19T00:00:00",
          "2023-08-07T00:00:00",
          "2023-08-12T00:00:00",
          "2023-08-31T00:00:00",
          "2023-09-01T00:00:00",
          "2023-09-22T00:00:00",
          "2023-10-02T00:00:00",
          "2023-10-16T00:00:00",
          "2023-10-24T00:00:00",
          "2023-11-26T00:00:00",
          "2023-11-30T00:00:00",
          "2023-12-31T00:00:00",
          "2024-01-19T00:00:00",
          "2024-01-29T00:00:00",
          "2024-02-12T00:00:00",
          "2024-03-02T00:00:00",
          "2024-03-05T00:00:00",
          "2024-03-11T00:00:00",
          "2024-03-21T00:00:00",
          "2024-03-24T00:00:00",
          "2024-04-15T00:00:00",
          "2024-04-23T00:00:00",
          "2024-06-11T00:00:00",
          "2024-07-17T00:00:00",
          "2024-08-05T00:00:00",
          "2024-08-26T00:00:00",
          "2024-08-28T00:00:00",
          "2024-09-23T00:00:00",
          "2024-10-01T00:00:00",
          "2024-12-09T00:00:00"
         ],
         "xaxis": "x3",
         "y": {
          "bdata": "mAMAAO5IAAAiAgAAuQgAAIsCAADakwAAlDcCACQEAAAgZwAAO3IAANFxAQBQRgAARJMAANgIAAA02gUACSIBAAgHAACwBAAA4SUAANghAQDWAQAAjIcAALgKAACoAgAACAcAALoEAAAEPgAAGBUAAKjoAABUAQAAQB8AAKwmAACZMwAAJCwAACAcAADMEAAAuCQAAIQDAACBKAAAsLMAAI6AAwBg6gAAwLsBANpmAADdGQEAbDMBAKARAwAbLgAAQJACALINAADgkwQASGovAFUCAADo6wMAtBQAAGYhAABYNAAAtwUAAFYKAAC4EQAAWE0AANABAQBsIAAAQREAAJCrAQBAtQAAIAIAAHcCAABSAAAAsB4EACwBAABWFwAAZxoAACsMAAC8vgIAHAwAADQkAABoBgAALBoAAEgXAAAaFgAAIQkAADSeAAA8cwAA7BIAAM+mAQCsDQAA2L4EAG02AQAeAAAADwMAAAhtCACwNgAAqEMFAOhnAAAyAAAAsP4AAHQOAAAFGgIAzMQlAJQUAABhCwAAQ1wEABgGAABEkwAAQJwAAGtKAACBAwAAoiYAAJx2AQC8BQAACLYAAPiOAACwpwIAGZ0BACDLAACpBQAA4BUAAA==",
          "dtype": "i4"
         },
         "yaxis": "y3"
        },
        {
         "hovertemplate": "Primary Mineral=Nickel<br>Reserves & Resources As Of Date=%{x}<br>Primary Reserves and Resources=%{y}<extra></extra>",
         "legendgroup": "",
         "line": {
          "color": "#636efa",
          "dash": "solid"
         },
         "marker": {
          "symbol": "circle"
         },
         "mode": "lines",
         "name": "",
         "orientation": "v",
         "showlegend": false,
         "type": "scatter",
         "x": [
          "2010-02-16T00:00:00",
          "2010-03-31T00:00:00",
          "2010-04-14T00:00:00",
          "2010-04-19T00:00:00",
          "2010-05-03T00:00:00",
          "2010-05-31T00:00:00",
          "2010-06-04T00:00:00",
          "2010-11-04T00:00:00",
          "2010-12-31T00:00:00",
          "2011-03-31T00:00:00",
          "2011-05-18T00:00:00",
          "2011-08-23T00:00:00",
          "2011-09-22T00:00:00",
          "2011-12-31T00:00:00",
          "2012-03-15T00:00:00",
          "2012-04-01T00:00:00",
          "2012-06-07T00:00:00",
          "2012-06-13T00:00:00",
          "2012-06-30T00:00:00",
          "2012-07-05T00:00:00",
          "2012-09-20T00:00:00",
          "2012-10-24T00:00:00",
          "2012-11-08T00:00:00",
          "2012-12-31T00:00:00",
          "2013-02-05T00:00:00",
          "2013-08-30T00:00:00",
          "2013-10-10T00:00:00",
          "2013-12-31T00:00:00",
          "2014-12-31T00:00:00",
          "2015-04-01T00:00:00",
          "2015-04-28T00:00:00",
          "2015-04-30T00:00:00",
          "2015-06-04T00:00:00",
          "2016-03-10T00:00:00",
          "2017-01-27T00:00:00",
          "2017-04-11T00:00:00",
          "2017-08-07T00:00:00",
          "2017-08-18T00:00:00",
          "2017-09-14T00:00:00",
          "2017-12-31T00:00:00",
          "2018-02-12T00:00:00",
          "2018-03-08T00:00:00",
          "2018-04-09T00:00:00",
          "2018-04-11T00:00:00",
          "2018-05-31T00:00:00",
          "2018-06-06T00:00:00",
          "2018-07-31T00:00:00",
          "2018-08-31T00:00:00",
          "2018-09-28T00:00:00",
          "2018-10-11T00:00:00",
          "2018-11-19T00:00:00",
          "2019-02-26T00:00:00",
          "2019-03-25T00:00:00",
          "2019-04-18T00:00:00",
          "2019-05-24T00:00:00",
          "2019-05-30T00:00:00",
          "2019-06-30T00:00:00",
          "2019-08-13T00:00:00",
          "2019-09-30T00:00:00",
          "2019-10-18T00:00:00",
          "2019-10-31T00:00:00",
          "2019-12-31T00:00:00",
          "2020-04-22T00:00:00",
          "2020-09-27T00:00:00",
          "2020-11-17T00:00:00",
          "2020-11-30T00:00:00",
          "2020-12-31T00:00:00",
          "2021-09-30T00:00:00",
          "2021-10-07T00:00:00",
          "2021-10-30T00:00:00",
          "2021-11-09T00:00:00",
          "2021-12-13T00:00:00",
          "2021-12-31T00:00:00",
          "2022-01-03T00:00:00",
          "2022-01-28T00:00:00",
          "2022-05-17T00:00:00",
          "2022-05-25T00:00:00",
          "2022-05-31T00:00:00",
          "2022-06-01T00:00:00",
          "2022-06-07T00:00:00",
          "2022-06-13T00:00:00",
          "2022-06-30T00:00:00",
          "2022-07-06T00:00:00",
          "2022-08-10T00:00:00",
          "2022-08-15T00:00:00",
          "2022-09-01T00:00:00",
          "2022-09-11T00:00:00",
          "2022-09-12T00:00:00",
          "2022-09-20T00:00:00",
          "2022-10-10T00:00:00",
          "2022-10-21T00:00:00",
          "2022-10-28T00:00:00",
          "2022-12-12T00:00:00",
          "2022-12-31T00:00:00",
          "2023-01-23T00:00:00",
          "2023-02-02T00:00:00",
          "2023-02-27T00:00:00",
          "2023-03-01T00:00:00",
          "2023-03-07T00:00:00",
          "2023-03-30T00:00:00",
          "2023-03-31T00:00:00",
          "2023-04-13T00:00:00",
          "2023-04-26T00:00:00",
          "2023-05-31T00:00:00",
          "2023-06-07T00:00:00",
          "2023-06-09T00:00:00",
          "2023-06-30T00:00:00",
          "2023-07-05T00:00:00",
          "2023-07-19T00:00:00",
          "2023-08-07T00:00:00",
          "2023-08-12T00:00:00",
          "2023-08-31T00:00:00",
          "2023-09-01T00:00:00",
          "2023-09-06T00:00:00",
          "2023-09-22T00:00:00",
          "2023-10-02T00:00:00",
          "2023-10-15T00:00:00",
          "2023-10-16T00:00:00",
          "2023-10-24T00:00:00",
          "2023-11-26T00:00:00",
          "2023-11-30T00:00:00",
          "2023-12-31T00:00:00",
          "2024-01-01T00:00:00",
          "2024-01-19T00:00:00",
          "2024-01-29T00:00:00",
          "2024-02-12T00:00:00",
          "2024-03-02T00:00:00",
          "2024-03-05T00:00:00",
          "2024-03-11T00:00:00",
          "2024-03-18T00:00:00",
          "2024-03-21T00:00:00",
          "2024-03-24T00:00:00",
          "2024-03-31T00:00:00",
          "2024-04-15T00:00:00",
          "2024-04-23T00:00:00",
          "2024-06-11T00:00:00",
          "2024-06-30T00:00:00",
          "2024-07-17T00:00:00",
          "2024-08-05T00:00:00",
          "2024-08-26T00:00:00",
          "2024-08-28T00:00:00",
          "2024-09-23T00:00:00",
          "2024-10-01T00:00:00",
          "2024-11-01T00:00:00",
          "2024-12-09T00:00:00"
         ],
         "xaxis": "x4",
         "y": {
          "bdata": "6IAAABh5AAD4VwUAoIYBAPgqAAAANQwAkyEAAOCrAADIJgIA6EQKADBDAADgkwQAUJIdAGCJAgD4/AoAEsQAABAwPQCQWBcAsLMAAAwzDADY/w4AQ4QXALHpAABTJyQAwLYGALMlDADcggAAuBlqAGT3PwBMuwcA8EIAACDLAAAQpAAAdFkAACBCAgDP4wAAILwPAGIkAAA4CAsAXkNPAHQnAAA4mgAAMAIAAF1aAACAgwEAcL4IAECcAACoRAAA0HgCANkRAwA0kgIAsK0BAHzdAAB8LgAAyPwIAH5KVwDACQ4ADisnAKTdCgDrOgsAOLoXAILOIgD6MwIAWEQOAMs5AQDwMzsAkItHAUDIAQBo1AIAqGkHACQNAQAHxQAAbjIPAHARAQCIrRAAeJgNAGBtAABDKwEAcJgpAGh5FAA8BAYAUIsBAA69AAADUgAA1AsCACkOAAAgdTgAiwMAAEQWAAB8UgMAMOADAMDaAAB/kAEADEcRAGADAQAIawAA0JECABRdAgDfXQAAEEkBABjwAQBwFwAAeFEEAJCyCADvYwMAqCglAKydAQDYf00AleUVAJgIAADBQAAAQPOUAERPAwCgZUUAcAFXADxnAgDAehAAQgkAAPjQDgDc5gAAxNgbAKMcaAO4+0kCvQUBAH/nAgB6EzgAPFoAADhfCQBQKg0AzfoFAJ8bBQA8iAAA/J4AAJhUBACIuQ4AwLsBAJlgagDglhAAsGASAGhqIwDh5hkAaI8IAOjUAADgpQEAZBMBAA==",
          "dtype": "i4"
         },
         "yaxis": "y4"
        },
        {
         "hovertemplate": "Primary Mineral=Lithium<br>Reserves & Resources As Of Date=%{x}<br>Primary Reserves and Resources=%{y}<extra></extra>",
         "legendgroup": "",
         "line": {
          "color": "#636efa",
          "dash": "solid"
         },
         "marker": {
          "symbol": "circle"
         },
         "mode": "lines",
         "name": "",
         "orientation": "v",
         "showlegend": false,
         "type": "scatter",
         "x": [
          "2010-05-04T00:00:00",
          "2010-12-06T00:00:00",
          "2011-03-14T00:00:00",
          "2012-03-06T00:00:00",
          "2012-03-19T00:00:00",
          "2012-06-01T00:00:00",
          "2016-02-24T00:00:00",
          "2017-06-15T00:00:00",
          "2017-12-12T00:00:00",
          "2017-12-31T00:00:00",
          "2018-06-30T00:00:00",
          "2018-07-06T00:00:00",
          "2018-10-14T00:00:00",
          "2018-12-17T00:00:00",
          "2019-04-11T00:00:00",
          "2019-05-07T00:00:00",
          "2019-06-30T00:00:00",
          "2019-08-12T00:00:00",
          "2019-08-22T00:00:00",
          "2019-09-26T00:00:00",
          "2019-10-31T00:00:00",
          "2020-04-02T00:00:00",
          "2020-06-22T00:00:00",
          "2021-06-04T00:00:00",
          "2021-08-20T00:00:00",
          "2021-09-09T00:00:00",
          "2021-09-20T00:00:00",
          "2021-10-30T00:00:00",
          "2021-11-30T00:00:00",
          "2021-12-14T00:00:00",
          "2021-12-21T00:00:00",
          "2021-12-31T00:00:00",
          "2022-02-21T00:00:00",
          "2022-06-17T00:00:00",
          "2022-07-01T00:00:00",
          "2022-07-31T00:00:00",
          "2022-10-06T00:00:00",
          "2022-11-02T00:00:00",
          "2022-12-15T00:00:00",
          "2022-12-20T00:00:00",
          "2022-12-30T00:00:00",
          "2022-12-31T00:00:00",
          "2023-01-23T00:00:00",
          "2023-02-16T00:00:00",
          "2023-02-27T00:00:00",
          "2023-02-28T00:00:00",
          "2023-03-09T00:00:00",
          "2023-03-27T00:00:00",
          "2023-04-01T00:00:00",
          "2023-04-30T00:00:00",
          "2023-05-02T00:00:00",
          "2023-05-05T00:00:00",
          "2023-05-18T00:00:00",
          "2023-06-12T00:00:00",
          "2023-06-30T00:00:00",
          "2023-07-12T00:00:00",
          "2023-07-17T00:00:00",
          "2023-08-01T00:00:00",
          "2023-08-06T00:00:00",
          "2023-08-07T00:00:00",
          "2023-08-18T00:00:00",
          "2023-08-23T00:00:00",
          "2023-09-05T00:00:00",
          "2023-09-18T00:00:00",
          "2023-09-29T00:00:00",
          "2023-10-01T00:00:00",
          "2023-10-16T00:00:00",
          "2023-10-17T00:00:00",
          "2023-10-25T00:00:00",
          "2023-10-31T00:00:00",
          "2023-11-01T00:00:00",
          "2023-11-02T00:00:00",
          "2023-11-14T00:00:00",
          "2023-11-17T00:00:00",
          "2023-11-22T00:00:00",
          "2023-12-13T00:00:00",
          "2023-12-18T00:00:00",
          "2023-12-19T00:00:00",
          "2023-12-21T00:00:00",
          "2023-12-27T00:00:00",
          "2023-12-31T00:00:00",
          "2024-01-01T00:00:00",
          "2024-01-04T00:00:00",
          "2024-01-15T00:00:00",
          "2024-01-22T00:00:00",
          "2024-01-29T00:00:00",
          "2024-01-31T00:00:00",
          "2024-02-20T00:00:00",
          "2024-02-22T00:00:00",
          "2024-03-13T00:00:00",
          "2024-03-26T00:00:00",
          "2024-03-31T00:00:00",
          "2024-04-18T00:00:00",
          "2024-04-19T00:00:00",
          "2024-04-29T00:00:00",
          "2024-05-08T00:00:00",
          "2024-05-15T00:00:00",
          "2024-05-23T00:00:00",
          "2024-05-27T00:00:00",
          "2024-05-28T00:00:00",
          "2024-05-30T00:00:00",
          "2024-05-31T00:00:00",
          "2024-06-05T00:00:00",
          "2024-06-12T00:00:00",
          "2024-06-20T00:00:00",
          "2024-06-24T00:00:00",
          "2024-06-30T00:00:00",
          "2024-07-09T00:00:00",
          "2024-07-30T00:00:00",
          "2024-08-07T00:00:00",
          "2024-08-20T00:00:00",
          "2024-08-21T00:00:00",
          "2024-08-27T00:00:00",
          "2024-09-01T00:00:00",
          "2024-10-01T00:00:00",
          "2024-10-14T00:00:00",
          "2024-10-16T00:00:00",
          "2024-10-22T00:00:00",
          "2024-11-12T00:00:00",
          "2024-11-28T00:00:00",
          "2024-12-08T00:00:00"
         ],
         "xaxis": "x",
         "y": {
          "bdata": "nD0DALD8AgDfKwAAIHoBAPjiCwCF0wAAXHAzAMBXAQAQWjYA0J0AAJOkDABIJgAAINAAANB+AQA4xwAAUKSXALheBwD4JAEAQGAKAND7AQBoNgIAMK4DAKQ5BABQFDIALIt/AKB6AwCwny0AINQLAFjdCwB4PwcAmM4RAJ4/IgAw028AsOgMAOj3AQCEEAIA4JxBACB+dQAgvwIA6PcBAEBgCgAoOroBuBAAAK6RAACwiYQAnHENAIwKAAA4ogIAYOQBADDpQABI1wYA8E8BAJyMJwAYegQA0Vo0ARBjAQDa2SkA+I8EANjQAQCYqwIAUJgcABQYAQAAxAkAqNICACQpqwAqbQEAcEUJAMijAgC6qRUAhEQEAHd7CADEAwEAlCUFAC6aAQAkn0EAaNUmACCzBACQ4gAAFUAOAPDAAwCQq6IBQDVdABBNAgCZ+ysAUNfNAFg0AACAbQ0AZrELAOjOJQAA3gEA4IUwAFBcJgD43AwASHQtAHQoKQDITxAAyOMaAFSwDwCYmAYAqJ8NAKR6DgAQTjgA6GsQANDXBwAO2WkABeOFADQLcADg/RwAWPEGACCqRADECQAAUA8eAIRWIAC0JwEAkLgHACsCAgAgSAEAqGYUABSDBABoSwsAsE4BAA==",
          "dtype": "i4"
         },
         "yaxis": "y"
        },
        {
         "hovertemplate": "Primary Mineral=Manganese<br>Reserves & Resources As Of Date=%{x}<br>Primary Reserves and Resources=%{y}<extra></extra>",
         "legendgroup": "",
         "line": {
          "color": "#636efa",
          "dash": "solid"
         },
         "marker": {
          "symbol": "circle"
         },
         "mode": "lines",
         "name": "",
         "orientation": "v",
         "showlegend": false,
         "type": "scatter",
         "x": [
          "2012-03-14T00:00:00",
          "2012-03-31T00:00:00",
          "2012-12-11T00:00:00",
          "2012-12-31T00:00:00",
          "2013-03-31T00:00:00",
          "2013-06-30T00:00:00",
          "2014-07-10T00:00:00",
          "2015-05-21T00:00:00",
          "2017-12-31T00:00:00",
          "2019-12-31T00:00:00",
          "2020-12-31T00:00:00",
          "2021-01-04T00:00:00",
          "2021-12-01T00:00:00",
          "2022-05-12T00:00:00",
          "2022-07-14T00:00:00",
          "2023-03-23T00:00:00",
          "2023-05-03T00:00:00",
          "2023-06-30T00:00:00",
          "2023-07-13T00:00:00",
          "2023-11-30T00:00:00",
          "2023-12-12T00:00:00",
          "2023-12-31T00:00:00",
          "2024-01-01T00:00:00",
          "2024-03-31T00:00:00",
          "2024-06-30T00:00:00",
          "2024-11-25T00:00:00"
         ],
         "xaxis": "x2",
         "y": {
          "bdata": "wKzYAKBaMgDg7AQBeEULFABoiQkALTEB2mMTCFAq1QAg6I0AwAR3AOBJ/gnQunQAYGFtA+AqvwOAYJsBEHeHCrHNzQFAbd8s4E3gAIBPEgAAvpgSgAxABgCoyxhwImwGuEXcKVBf5gU=",
          "dtype": "i4"
         },
         "yaxis": "y2"
        }
       ],
       "layout": {
        "annotations": [
         {
          "font": {},
          "showarrow": false,
          "text": "Primary Mineral=Lithium",
          "x": 0.245,
          "xanchor": "center",
          "xref": "paper",
          "y": 0.4,
          "yanchor": "bottom",
          "yref": "paper"
         },
         {
          "font": {},
          "showarrow": false,
          "text": "Primary Mineral=Manganese",
          "x": 0.755,
          "xanchor": "center",
          "xref": "paper",
          "y": 0.4,
          "yanchor": "bottom",
          "yref": "paper"
         },
         {
          "font": {},
          "showarrow": false,
          "text": "Primary Mineral=Cobalt",
          "x": 0.245,
          "xanchor": "center",
          "xref": "paper",
          "y": 1,
          "yanchor": "bottom",
          "yref": "paper"
         },
         {
          "font": {},
          "showarrow": false,
          "text": "Primary Mineral=Nickel",
          "x": 0.755,
          "xanchor": "center",
          "xref": "paper",
          "y": 1,
          "yanchor": "bottom",
          "yref": "paper"
         }
        ],
        "legend": {
         "tracegroupgap": 0
        },
        "margin": {
         "t": 60
        },
        "template": {
         "data": {
          "bar": [
           {
            "error_x": {
             "color": "#2a3f5f"
            },
            "error_y": {
             "color": "#2a3f5f"
            },
            "marker": {
             "line": {
              "color": "#E5ECF6",
              "width": 0.5
             },
             "pattern": {
              "fillmode": "overlay",
              "size": 10,
              "solidity": 0.2
             }
            },
            "type": "bar"
           }
          ],
          "barpolar": [
           {
            "marker": {
             "line": {
              "color": "#E5ECF6",
              "width": 0.5
             },
             "pattern": {
              "fillmode": "overlay",
              "size": 10,
              "solidity": 0.2
             }
            },
            "type": "barpolar"
           }
          ],
          "carpet": [
           {
            "aaxis": {
             "endlinecolor": "#2a3f5f",
             "gridcolor": "white",
             "linecolor": "white",
             "minorgridcolor": "white",
             "startlinecolor": "#2a3f5f"
            },
            "baxis": {
             "endlinecolor": "#2a3f5f",
             "gridcolor": "white",
             "linecolor": "white",
             "minorgridcolor": "white",
             "startlinecolor": "#2a3f5f"
            },
            "type": "carpet"
           }
          ],
          "choropleth": [
           {
            "colorbar": {
             "outlinewidth": 0,
             "ticks": ""
            },
            "type": "choropleth"
           }
          ],
          "contour": [
           {
            "colorbar": {
             "outlinewidth": 0,
             "ticks": ""
            },
            "colorscale": [
             [
              0,
              "#0d0887"
             ],
             [
              0.1111111111111111,
              "#46039f"
             ],
             [
              0.2222222222222222,
              "#7201a8"
             ],
             [
              0.3333333333333333,
              "#9c179e"
             ],
             [
              0.4444444444444444,
              "#bd3786"
             ],
             [
              0.5555555555555556,
              "#d8576b"
             ],
             [
              0.6666666666666666,
              "#ed7953"
             ],
             [
              0.7777777777777778,
              "#fb9f3a"
             ],
             [
              0.8888888888888888,
              "#fdca26"
             ],
             [
              1,
              "#f0f921"
             ]
            ],
            "type": "contour"
           }
          ],
          "contourcarpet": [
           {
            "colorbar": {
             "outlinewidth": 0,
             "ticks": ""
            },
            "type": "contourcarpet"
           }
          ],
          "heatmap": [
           {
            "colorbar": {
             "outlinewidth": 0,
             "ticks": ""
            },
            "colorscale": [
             [
              0,
              "#0d0887"
             ],
             [
              0.1111111111111111,
              "#46039f"
             ],
             [
              0.2222222222222222,
              "#7201a8"
             ],
             [
              0.3333333333333333,
              "#9c179e"
             ],
             [
              0.4444444444444444,
              "#bd3786"
             ],
             [
              0.5555555555555556,
              "#d8576b"
             ],
             [
              0.6666666666666666,
              "#ed7953"
             ],
             [
              0.7777777777777778,
              "#fb9f3a"
             ],
             [
              0.8888888888888888,
              "#fdca26"
             ],
             [
              1,
              "#f0f921"
             ]
            ],
            "type": "heatmap"
           }
          ],
          "histogram": [
           {
            "marker": {
             "pattern": {
              "fillmode": "overlay",
              "size": 10,
              "solidity": 0.2
             }
            },
            "type": "histogram"
           }
          ],
          "histogram2d": [
           {
            "colorbar": {
             "outlinewidth": 0,
             "ticks": ""
            },
            "colorscale": [
             [
              0,
              "#0d0887"
             ],
             [
              0.1111111111111111,
              "#46039f"
             ],
             [
              0.2222222222222222,
              "#7201a8"
             ],
             [
              0.3333333333333333,
              "#9c179e"
             ],
             [
              0.4444444444444444,
              "#bd3786"
             ],
             [
              0.5555555555555556,
              "#d8576b"
             ],
             [
              0.6666666666666666,
              "#ed7953"
             ],
             [
              0.7777777777777778,
              "#fb9f3a"
             ],
             [
              0.8888888888888888,
              "#fdca26"
             ],
             [
              1,
              "#f0f921"
             ]
            ],
            "type": "histogram2d"
           }
          ],
          "histogram2dcontour": [
           {
            "colorbar": {
             "outlinewidth": 0,
             "ticks": ""
            },
            "colorscale": [
             [
              0,
              "#0d0887"
             ],
             [
              0.1111111111111111,
              "#46039f"
             ],
             [
              0.2222222222222222,
              "#7201a8"
             ],
             [
              0.3333333333333333,
              "#9c179e"
             ],
             [
              0.4444444444444444,
              "#bd3786"
             ],
             [
              0.5555555555555556,
              "#d8576b"
             ],
             [
              0.6666666666666666,
              "#ed7953"
             ],
             [
              0.7777777777777778,
              "#fb9f3a"
             ],
             [
              0.8888888888888888,
              "#fdca26"
             ],
             [
              1,
              "#f0f921"
             ]
            ],
            "type": "histogram2dcontour"
           }
          ],
          "mesh3d": [
           {
            "colorbar": {
             "outlinewidth": 0,
             "ticks": ""
            },
            "type": "mesh3d"
           }
          ],
          "parcoords": [
           {
            "line": {
             "colorbar": {
              "outlinewidth": 0,
              "ticks": ""
             }
            },
            "type": "parcoords"
           }
          ],
          "pie": [
           {
            "automargin": true,
            "type": "pie"
           }
          ],
          "scatter": [
           {
            "fillpattern": {
             "fillmode": "overlay",
             "size": 10,
             "solidity": 0.2
            },
            "type": "scatter"
           }
          ],
          "scatter3d": [
           {
            "line": {
             "colorbar": {
              "outlinewidth": 0,
              "ticks": ""
             }
            },
            "marker": {
             "colorbar": {
              "outlinewidth": 0,
              "ticks": ""
             }
            },
            "type": "scatter3d"
           }
          ],
          "scattercarpet": [
           {
            "marker": {
             "colorbar": {
              "outlinewidth": 0,
              "ticks": ""
             }
            },
            "type": "scattercarpet"
           }
          ],
          "scattergeo": [
           {
            "marker": {
             "colorbar": {
              "outlinewidth": 0,
              "ticks": ""
             }
            },
            "type": "scattergeo"
           }
          ],
          "scattergl": [
           {
            "marker": {
             "colorbar": {
              "outlinewidth": 0,
              "ticks": ""
             }
            },
            "type": "scattergl"
           }
          ],
          "scattermap": [
           {
            "marker": {
             "colorbar": {
              "outlinewidth": 0,
              "ticks": ""
             }
            },
            "type": "scattermap"
           }
          ],
          "scattermapbox": [
           {
            "marker": {
             "colorbar": {
              "outlinewidth": 0,
              "ticks": ""
             }
            },
            "type": "scattermapbox"
           }
          ],
          "scatterpolar": [
           {
            "marker": {
             "colorbar": {
              "outlinewidth": 0,
              "ticks": ""
             }
            },
            "type": "scatterpolar"
           }
          ],
          "scatterpolargl": [
           {
            "marker": {
             "colorbar": {
              "outlinewidth": 0,
              "ticks": ""
             }
            },
            "type": "scatterpolargl"
           }
          ],
          "scatterternary": [
           {
            "marker": {
             "colorbar": {
              "outlinewidth": 0,
              "ticks": ""
             }
            },
            "type": "scatterternary"
           }
          ],
          "surface": [
           {
            "colorbar": {
             "outlinewidth": 0,
             "ticks": ""
            },
            "colorscale": [
             [
              0,
              "#0d0887"
             ],
             [
              0.1111111111111111,
              "#46039f"
             ],
             [
              0.2222222222222222,
              "#7201a8"
             ],
             [
              0.3333333333333333,
              "#9c179e"
             ],
             [
              0.4444444444444444,
              "#bd3786"
             ],
             [
              0.5555555555555556,
              "#d8576b"
             ],
             [
              0.6666666666666666,
              "#ed7953"
             ],
             [
              0.7777777777777778,
              "#fb9f3a"
             ],
             [
              0.8888888888888888,
              "#fdca26"
             ],
             [
              1,
              "#f0f921"
             ]
            ],
            "type": "surface"
           }
          ],
          "table": [
           {
            "cells": {
             "fill": {
              "color": "#EBF0F8"
             },
             "line": {
              "color": "white"
             }
            },
            "header": {
             "fill": {
              "color": "#C8D4E3"
             },
             "line": {
              "color": "white"
             }
            },
            "type": "table"
           }
          ]
         },
         "layout": {
          "annotationdefaults": {
           "arrowcolor": "#2a3f5f",
           "arrowhead": 0,
           "arrowwidth": 1
          },
          "autotypenumbers": "strict",
          "coloraxis": {
           "colorbar": {
            "outlinewidth": 0,
            "ticks": ""
           }
          },
          "colorscale": {
           "diverging": [
            [
             0,
             "#8e0152"
            ],
            [
             0.1,
             "#c51b7d"
            ],
            [
             0.2,
             "#de77ae"
            ],
            [
             0.3,
             "#f1b6da"
            ],
            [
             0.4,
             "#fde0ef"
            ],
            [
             0.5,
             "#f7f7f7"
            ],
            [
             0.6,
             "#e6f5d0"
            ],
            [
             0.7,
             "#b8e186"
            ],
            [
             0.8,
             "#7fbc41"
            ],
            [
             0.9,
             "#4d9221"
            ],
            [
             1,
             "#276419"
            ]
           ],
           "sequential": [
            [
             0,
             "#0d0887"
            ],
            [
             0.1111111111111111,
             "#46039f"
            ],
            [
             0.2222222222222222,
             "#7201a8"
            ],
            [
             0.3333333333333333,
             "#9c179e"
            ],
            [
             0.4444444444444444,
             "#bd3786"
            ],
            [
             0.5555555555555556,
             "#d8576b"
            ],
            [
             0.6666666666666666,
             "#ed7953"
            ],
            [
             0.7777777777777778,
             "#fb9f3a"
            ],
            [
             0.8888888888888888,
             "#fdca26"
            ],
            [
             1,
             "#f0f921"
            ]
           ],
           "sequentialminus": [
            [
             0,
             "#0d0887"
            ],
            [
             0.1111111111111111,
             "#46039f"
            ],
            [
             0.2222222222222222,
             "#7201a8"
            ],
            [
             0.3333333333333333,
             "#9c179e"
            ],
            [
             0.4444444444444444,
             "#bd3786"
            ],
            [
             0.5555555555555556,
             "#d8576b"
            ],
            [
             0.6666666666666666,
             "#ed7953"
            ],
            [
             0.7777777777777778,
             "#fb9f3a"
            ],
            [
             0.8888888888888888,
             "#fdca26"
            ],
            [
             1,
             "#f0f921"
            ]
           ]
          },
          "colorway": [
           "#636efa",
           "#EF553B",
           "#00cc96",
           "#ab63fa",
           "#FFA15A",
           "#19d3f3",
           "#FF6692",
           "#B6E880",
           "#FF97FF",
           "#FECB52"
          ],
          "font": {
           "color": "#2a3f5f"
          },
          "geo": {
           "bgcolor": "white",
           "lakecolor": "white",
           "landcolor": "#E5ECF6",
           "showlakes": true,
           "showland": true,
           "subunitcolor": "white"
          },
          "hoverlabel": {
           "align": "left"
          },
          "hovermode": "closest",
          "mapbox": {
           "style": "light"
          },
          "paper_bgcolor": "white",
          "plot_bgcolor": "#E5ECF6",
          "polar": {
           "angularaxis": {
            "gridcolor": "white",
            "linecolor": "white",
            "ticks": ""
           },
           "bgcolor": "#E5ECF6",
           "radialaxis": {
            "gridcolor": "white",
            "linecolor": "white",
            "ticks": ""
           }
          },
          "scene": {
           "xaxis": {
            "backgroundcolor": "#E5ECF6",
            "gridcolor": "white",
            "gridwidth": 2,
            "linecolor": "white",
            "showbackground": true,
            "ticks": "",
            "zerolinecolor": "white"
           },
           "yaxis": {
            "backgroundcolor": "#E5ECF6",
            "gridcolor": "white",
            "gridwidth": 2,
            "linecolor": "white",
            "showbackground": true,
            "ticks": "",
            "zerolinecolor": "white"
           },
           "zaxis": {
            "backgroundcolor": "#E5ECF6",
            "gridcolor": "white",
            "gridwidth": 2,
            "linecolor": "white",
            "showbackground": true,
            "ticks": "",
            "zerolinecolor": "white"
           }
          },
          "shapedefaults": {
           "line": {
            "color": "#2a3f5f"
           }
          },
          "ternary": {
           "aaxis": {
            "gridcolor": "white",
            "linecolor": "white",
            "ticks": ""
           },
           "baxis": {
            "gridcolor": "white",
            "linecolor": "white",
            "ticks": ""
           },
           "bgcolor": "#E5ECF6",
           "caxis": {
            "gridcolor": "white",
            "linecolor": "white",
            "ticks": ""
           }
          },
          "title": {
           "x": 0.05
          },
          "xaxis": {
           "automargin": true,
           "gridcolor": "white",
           "linecolor": "white",
           "ticks": "",
           "title": {
            "standoff": 15
           },
           "zerolinecolor": "white",
           "zerolinewidth": 2
          },
          "yaxis": {
           "automargin": true,
           "gridcolor": "white",
           "linecolor": "white",
           "ticks": "",
           "title": {
            "standoff": 15
           },
           "zerolinecolor": "white",
           "zerolinewidth": 2
          }
         }
        },
        "title": {
         "text": "Total Reserves Over the Years"
        },
        "xaxis": {
         "anchor": "y",
         "domain": [
          0,
          0.49
         ],
         "title": {
          "text": "Date"
         }
        },
        "xaxis2": {
         "anchor": "y2",
         "domain": [
          0.51,
          1
         ],
         "matches": "x",
         "title": {
          "text": "Date"
         }
        },
        "xaxis3": {
         "anchor": "y3",
         "domain": [
          0,
          0.49
         ],
         "matches": "x",
         "showticklabels": false,
         "title": {
          "text": "Date"
         }
        },
        "xaxis4": {
         "anchor": "y4",
         "domain": [
          0.51,
          1
         ],
         "matches": "x",
         "showticklabels": false,
         "title": {
          "text": "Date"
         }
        },
        "yaxis": {
         "anchor": "x",
         "domain": [
          0,
          0.4
         ],
         "title": {},
         "type": "log"
        },
        "yaxis2": {
         "anchor": "x2",
         "domain": [
          0,
          0.4
         ],
         "matches": "y",
         "showticklabels": false,
         "type": "log"
        },
        "yaxis3": {
         "anchor": "x3",
         "domain": [
          0.6000000000000001,
          1
         ],
         "matches": "y",
         "title": {},
         "type": "log"
        },
        "yaxis4": {
         "anchor": "x4",
         "domain": [
          0.6000000000000001,
          1
         ],
         "matches": "y",
         "showticklabels": false,
         "type": "log"
        }
       }
      }
     },
     "metadata": {},
     "output_type": "display_data"
    }
   ],
   "source": [
    "reserves_over_time = combined \\\n",
    "        .groupby([\"Reserves & Resources As Of Date\", \"Primary Mineral\"], as_index = False)[\"Primary Reserves and Resources\"] \\\n",
    "        .agg(\"sum\")\n",
    "\n",
    "\n",
    "fig = px.line(reserves_over_time, x=\"Reserves & Resources As Of Date\", facet_col = \"Primary Mineral\",\n",
    "        y=\"Primary Reserves and Resources\", log_y = True, facet_col_wrap=2, facet_row_spacing=0.2)\n",
    "\n",
    "fig.update_xaxes(title_text=\"Date\")\n",
    "fig.update_layout(title = \"Total Reserves Over the Years\")\n",
    "fig.update_yaxes(title_text=None)\n",
    "fig.show()"
   ]
  },
  {
   "cell_type": "code",
   "execution_count": 14,
   "id": "50762ba3",
   "metadata": {},
   "outputs": [],
   "source": [
    "D = combined[[\"Year\",\"Primary Mineral\", \"Primary Reserves and Resources\"]]\n",
    "\n",
    "D = D.groupby([\"Year\",\"Primary Mineral\"], as_index=False).agg(\"sum\")\n",
    "\n",
    "\n",
    "# Generate a complete set of Year-Mineral combinations\n",
    "all_years = D[\"Year\"].unique()\n",
    "all_minerals = D[\"Primary Mineral\"].unique()\n",
    "complete_index = pd.MultiIndex.from_product([all_years, all_minerals], names=[\"Year\", \"Primary Mineral\"])\n",
    "\n",
    "# Reindex the DataFrame to include all combinations, filling missing values with 0\n",
    "D = D.set_index([\"Year\", \"Primary Mineral\"]).reindex(complete_index, fill_value=0).reset_index()\n",
    "\n",
    "D[\"Cumulative Reserves\"] = D.groupby([\"Primary Mineral\"], as_index=False)[\"Primary Reserves and Resources\"].agg(\"cumsum\")\n",
    "\n"
   ]
  },
  {
   "cell_type": "code",
   "execution_count": 15,
   "id": "48ef608e",
   "metadata": {},
   "outputs": [],
   "source": [
    "# Extend to Future Years\n",
    "for yr in range(2025, 2030+1):\n",
    "    latest = D[D[\"Year\"]==2024]\n",
    "    latest.loc[:,\"Year\"] = yr\n",
    "    \n",
    "    D = pd.concat([D, latest], axis=0)\n",
    "\n",
    "    "
   ]
  },
  {
   "cell_type": "code",
   "execution_count": 15,
   "id": "323142a8",
   "metadata": {},
   "outputs": [],
   "source": [
    "# chem_comparisons = xw.Book(\"data/battery_chemistry_comparisons.xlsx\", mode=\"i\")\n",
    "# mass = chem_comparisons.sheets[1]\n",
    "# for i, v in df_full.iterrows():\n",
    "#     mass.range(f\"B2\").value = v[\"Capacity\"]\n",
    "    \n",
    "#     nmc_cols = mass.range(\"A6:A9\")\n",
    "#     nmc = mass.range(\"K5:N9\").options(pd.DataFrame, index=False).value\n",
    "#     nmc.index = nmc_cols.value\n",
    "#     nmc_li_2 = mass.range(\"P6:S6\").options(pd.DataFrame, header=False, index=False).value\n",
    "#     nmc_li_2.index = [\"Li+\"]\n",
    "#     nmc_li_2.columns = nmc.columns\n",
    "#     nmc = pd.concat([nmc, nmc_li_2], axis=0)\n",
    "    \n",
    "#     nmc.columns = nmc.columns.str.replace(\"in \", \"\", regex=True)\n",
    "#     nmc.insert(0, \"Year\", int(v[\"Year\"]))\n",
    "    \n",
    "#     lib_cathode_cols = mass.range(\"A16:A28\")\n",
    "#     elem_cols2 = [\"Li\", \"Co\", \"Mn\",\t\"Ni\", \"Li+\"]\n",
    "#     lib_cathodes = mass.range(\"I16:N28\").options(pd.DataFrame, transpose=True, \n",
    "#                                       header=False, index=False)\n",
    "#     cathode_df = lib_cathodes.value\n",
    "#     cathode_df.dropna(how='all', inplace=True)\n",
    "#     cathode_df.columns = lib_cathode_cols.value\n",
    "#     cathode_df.index = elem_cols2\n",
    "#     full = nmc.join(cathode_df)\n",
    "#     full.index.name ='Element'\n",
    "    \n",
    "#     full.reset_index(inplace=True)\n",
    "#     if i == 0:\n",
    "#         cathodes = full\n",
    "#         continue\n",
    "        \n",
    "#     cathodes = pd.concat([cathodes, full], ignore_index=True)\n",
    "        \n",
    "        \n",
    "# cathodes['+'] = cathodes['Element'] == \"Li+\"\n",
    "# cathodes\n",
    "\n",
    "# elem_map = {\"Li\": \"Lithium\", \"Li+\": \"Lithium\", \"Co\": \"Cobalt\", \"Mn\": \"Manganese\", \"Ni\": \"Nickel\"}\n",
    "# cathodes.drop(\"Full Element Name\", axis=1, inplace=True, errors=\"ignore\")\n",
    "# cathodes.insert(2, \"Full Element Name\",cathodes[\"Element\"].map(elem_map))\n",
    "# with pd.ExcelWriter(os.path.join(data_directory, \"Capacity.xlsx\"), mode='a', if_sheet_exists='replace') as writer:\n",
    "#     cathodes.to_excel(writer, index=False, sheet_name=\"Demand by Cathode\")\n",
    "    \n",
    "    "
   ]
  },
  {
   "cell_type": "code",
   "execution_count": 16,
   "id": "13602e8e",
   "metadata": {},
   "outputs": [],
   "source": [
    "\n",
    "demand_by_cathode = pd.read_excel(os.path.join(data_directory, \"Capacity.xlsx\"), sheet_name=\"Demand by Cathode\")\n",
    "demand_by_cathode = demand_by_cathode[demand_by_cathode.Element != \"O\"]\n",
    "\n",
    "demand_by_cathode = demand_by_cathode[~((demand_by_cathode.Element == \"Li\") & (demand_by_cathode[\"+\"] == False))]\n",
    "demand_by_cathode.drop([\"Element\", \"+\"], axis=1, inplace=True)\n",
    "\n",
    "demand_by_cathode = demand_by_cathode.iloc[:,:-5] # Last 5 are redundant\n"
   ]
  },
  {
   "cell_type": "code",
   "execution_count": 17,
   "id": "f91369a6",
   "metadata": {},
   "outputs": [
    {
     "data": {
      "application/vnd.microsoft.datawrangler.viewer.v0+json": {
       "columns": [
        {
         "name": "index",
         "rawType": "int64",
         "type": "integer"
        },
        {
         "name": "Year",
         "rawType": "int64",
         "type": "integer"
        },
        {
         "name": "Full Element Name",
         "rawType": "object",
         "type": "string"
        },
        {
         "name": "Cathode",
         "rawType": "object",
         "type": "string"
        },
        {
         "name": "demand",
         "rawType": "float64",
         "type": "float"
        }
       ],
       "conversionMethod": "pd.DataFrame",
       "ref": "6ed9cbcb-f760-4ebc-b31d-17fb0f359d06",
       "rows": [
        [
         "4",
         "2011",
         "Nickel",
         "NMC622",
         "9943.437896102037"
        ],
        [
         "5",
         "2011",
         "Manganese",
         "NMC622",
         "3102.428972995382"
        ],
        [
         "6",
         "2011",
         "Cobalt",
         "NMC622",
         "3328.032448679181"
        ],
        [
         "7",
         "2011",
         "Lithium",
         "NMC622",
         "2744.596607768394"
        ],
        [
         "88",
         "2011",
         "Nickel",
         "NMC811",
         "13257.91719480272"
        ],
        [
         "89",
         "2011",
         "Manganese",
         "NMC811",
         "1551.214486497691"
        ],
        [
         "90",
         "2011",
         "Cobalt",
         "NMC811",
         "1664.016224339591"
        ],
        [
         "91",
         "2011",
         "Lithium",
         "NMC811",
         "2747.442943677328"
        ],
        [
         "172",
         "2011",
         "Nickel",
         "NMC532",
         "8286.1982467517"
        ],
        [
         "173",
         "2011",
         "Manganese",
         "NMC532",
         "4653.643459493072"
        ],
        [
         "174",
         "2011",
         "Cobalt",
         "NMC532",
         "3328.032448679181"
        ],
        [
         "175",
         "2011",
         "Lithium",
         "NMC532",
         "2741.555927444625"
        ],
        [
         "256",
         "2011",
         "Nickel",
         "NMC111",
         "16572.39649350341"
        ],
        [
         "257",
         "2011",
         "Manganese",
         "NMC111",
         "15512.14486497691"
        ],
        [
         "258",
         "2011",
         "Cobalt",
         "NMC111",
         "16640.16224339591"
        ],
        [
         "259",
         "2011",
         "Lithium",
         "NMC111",
         "3672.380648821737"
        ],
        [
         "343",
         "2011",
         "Lithium",
         "LiFePO4",
         "3522.979570753374"
        ],
        [
         "426",
         "2011",
         "Cobalt",
         "LiCoO2",
         "16202.26323699075"
        ],
        [
         "427",
         "2011",
         "Lithium",
         "LiCoO2",
         "2679.931700186311"
        ],
        [
         "510",
         "2011",
         "Cobalt",
         "LiCo2O4",
         "30784.30015028242"
        ],
        [
         "511",
         "2011",
         "Lithium",
         "LiCo2O4",
         "3227.070788542654"
        ],
        [
         "595",
         "2011",
         "Lithium",
         "LiTiS2",
         "5692.088358430407"
        ],
        [
         "677",
         "2011",
         "Manganese",
         "LiMn2O4",
         "27997.5297562998"
        ],
        [
         "679",
         "2011",
         "Lithium",
         "LiMn2O4",
         "3089.936955209957"
        ],
        [
         "761",
         "2011",
         "Manganese",
         "LiMnO2",
         "17392.40484861048"
        ],
        [
         "763",
         "2011",
         "Lithium",
         "LiMnO2",
         "3049.937448831863"
        ],
        [
         "844",
         "2011",
         "Nickel",
         "LiNiO2",
         "17032.74084054516"
        ],
        [
         "847",
         "2011",
         "Lithium",
         "LiNiO2",
         "2826.819365933083"
        ],
        [
         "928",
         "2011",
         "Nickel",
         "LiNiCoAlO2(0.8:0.15:0.05)",
         "16136.28079630594"
        ],
        [
         "930",
         "2011",
         "Cobalt",
         "LiNiCoAlO2(0.8:0.15:0.05)",
         "16202.26323699075"
        ],
        [
         "931",
         "2011",
         "Lithium",
         "LiNiCoAlO2(0.8:0.15:0.05)",
         "2665.695684118787"
        ]
       ],
       "shape": {
        "columns": 4,
        "rows": 31
       }
      },
      "text/html": [
       "<div>\n",
       "<style scoped>\n",
       "    .dataframe tbody tr th:only-of-type {\n",
       "        vertical-align: middle;\n",
       "    }\n",
       "\n",
       "    .dataframe tbody tr th {\n",
       "        vertical-align: top;\n",
       "    }\n",
       "\n",
       "    .dataframe thead th {\n",
       "        text-align: right;\n",
       "    }\n",
       "</style>\n",
       "<table border=\"1\" class=\"dataframe\">\n",
       "  <thead>\n",
       "    <tr style=\"text-align: right;\">\n",
       "      <th></th>\n",
       "      <th>Year</th>\n",
       "      <th>Full Element Name</th>\n",
       "      <th>Cathode</th>\n",
       "      <th>demand</th>\n",
       "    </tr>\n",
       "  </thead>\n",
       "  <tbody>\n",
       "    <tr>\n",
       "      <th>4</th>\n",
       "      <td>2011</td>\n",
       "      <td>Nickel</td>\n",
       "      <td>NMC622</td>\n",
       "      <td>9943.437896</td>\n",
       "    </tr>\n",
       "    <tr>\n",
       "      <th>5</th>\n",
       "      <td>2011</td>\n",
       "      <td>Manganese</td>\n",
       "      <td>NMC622</td>\n",
       "      <td>3102.428973</td>\n",
       "    </tr>\n",
       "    <tr>\n",
       "      <th>6</th>\n",
       "      <td>2011</td>\n",
       "      <td>Cobalt</td>\n",
       "      <td>NMC622</td>\n",
       "      <td>3328.032449</td>\n",
       "    </tr>\n",
       "    <tr>\n",
       "      <th>7</th>\n",
       "      <td>2011</td>\n",
       "      <td>Lithium</td>\n",
       "      <td>NMC622</td>\n",
       "      <td>2744.596608</td>\n",
       "    </tr>\n",
       "    <tr>\n",
       "      <th>88</th>\n",
       "      <td>2011</td>\n",
       "      <td>Nickel</td>\n",
       "      <td>NMC811</td>\n",
       "      <td>13257.917195</td>\n",
       "    </tr>\n",
       "    <tr>\n",
       "      <th>89</th>\n",
       "      <td>2011</td>\n",
       "      <td>Manganese</td>\n",
       "      <td>NMC811</td>\n",
       "      <td>1551.214486</td>\n",
       "    </tr>\n",
       "    <tr>\n",
       "      <th>90</th>\n",
       "      <td>2011</td>\n",
       "      <td>Cobalt</td>\n",
       "      <td>NMC811</td>\n",
       "      <td>1664.016224</td>\n",
       "    </tr>\n",
       "    <tr>\n",
       "      <th>91</th>\n",
       "      <td>2011</td>\n",
       "      <td>Lithium</td>\n",
       "      <td>NMC811</td>\n",
       "      <td>2747.442944</td>\n",
       "    </tr>\n",
       "    <tr>\n",
       "      <th>172</th>\n",
       "      <td>2011</td>\n",
       "      <td>Nickel</td>\n",
       "      <td>NMC532</td>\n",
       "      <td>8286.198247</td>\n",
       "    </tr>\n",
       "    <tr>\n",
       "      <th>173</th>\n",
       "      <td>2011</td>\n",
       "      <td>Manganese</td>\n",
       "      <td>NMC532</td>\n",
       "      <td>4653.643459</td>\n",
       "    </tr>\n",
       "    <tr>\n",
       "      <th>174</th>\n",
       "      <td>2011</td>\n",
       "      <td>Cobalt</td>\n",
       "      <td>NMC532</td>\n",
       "      <td>3328.032449</td>\n",
       "    </tr>\n",
       "    <tr>\n",
       "      <th>175</th>\n",
       "      <td>2011</td>\n",
       "      <td>Lithium</td>\n",
       "      <td>NMC532</td>\n",
       "      <td>2741.555927</td>\n",
       "    </tr>\n",
       "    <tr>\n",
       "      <th>256</th>\n",
       "      <td>2011</td>\n",
       "      <td>Nickel</td>\n",
       "      <td>NMC111</td>\n",
       "      <td>16572.396494</td>\n",
       "    </tr>\n",
       "    <tr>\n",
       "      <th>257</th>\n",
       "      <td>2011</td>\n",
       "      <td>Manganese</td>\n",
       "      <td>NMC111</td>\n",
       "      <td>15512.144865</td>\n",
       "    </tr>\n",
       "    <tr>\n",
       "      <th>258</th>\n",
       "      <td>2011</td>\n",
       "      <td>Cobalt</td>\n",
       "      <td>NMC111</td>\n",
       "      <td>16640.162243</td>\n",
       "    </tr>\n",
       "    <tr>\n",
       "      <th>259</th>\n",
       "      <td>2011</td>\n",
       "      <td>Lithium</td>\n",
       "      <td>NMC111</td>\n",
       "      <td>3672.380649</td>\n",
       "    </tr>\n",
       "    <tr>\n",
       "      <th>343</th>\n",
       "      <td>2011</td>\n",
       "      <td>Lithium</td>\n",
       "      <td>LiFePO4</td>\n",
       "      <td>3522.979571</td>\n",
       "    </tr>\n",
       "    <tr>\n",
       "      <th>426</th>\n",
       "      <td>2011</td>\n",
       "      <td>Cobalt</td>\n",
       "      <td>LiCoO2</td>\n",
       "      <td>16202.263237</td>\n",
       "    </tr>\n",
       "    <tr>\n",
       "      <th>427</th>\n",
       "      <td>2011</td>\n",
       "      <td>Lithium</td>\n",
       "      <td>LiCoO2</td>\n",
       "      <td>2679.931700</td>\n",
       "    </tr>\n",
       "    <tr>\n",
       "      <th>510</th>\n",
       "      <td>2011</td>\n",
       "      <td>Cobalt</td>\n",
       "      <td>LiCo2O4</td>\n",
       "      <td>30784.300150</td>\n",
       "    </tr>\n",
       "    <tr>\n",
       "      <th>511</th>\n",
       "      <td>2011</td>\n",
       "      <td>Lithium</td>\n",
       "      <td>LiCo2O4</td>\n",
       "      <td>3227.070789</td>\n",
       "    </tr>\n",
       "    <tr>\n",
       "      <th>595</th>\n",
       "      <td>2011</td>\n",
       "      <td>Lithium</td>\n",
       "      <td>LiTiS2</td>\n",
       "      <td>5692.088358</td>\n",
       "    </tr>\n",
       "    <tr>\n",
       "      <th>677</th>\n",
       "      <td>2011</td>\n",
       "      <td>Manganese</td>\n",
       "      <td>LiMn2O4</td>\n",
       "      <td>27997.529756</td>\n",
       "    </tr>\n",
       "    <tr>\n",
       "      <th>679</th>\n",
       "      <td>2011</td>\n",
       "      <td>Lithium</td>\n",
       "      <td>LiMn2O4</td>\n",
       "      <td>3089.936955</td>\n",
       "    </tr>\n",
       "    <tr>\n",
       "      <th>761</th>\n",
       "      <td>2011</td>\n",
       "      <td>Manganese</td>\n",
       "      <td>LiMnO2</td>\n",
       "      <td>17392.404849</td>\n",
       "    </tr>\n",
       "    <tr>\n",
       "      <th>763</th>\n",
       "      <td>2011</td>\n",
       "      <td>Lithium</td>\n",
       "      <td>LiMnO2</td>\n",
       "      <td>3049.937449</td>\n",
       "    </tr>\n",
       "    <tr>\n",
       "      <th>844</th>\n",
       "      <td>2011</td>\n",
       "      <td>Nickel</td>\n",
       "      <td>LiNiO2</td>\n",
       "      <td>17032.740841</td>\n",
       "    </tr>\n",
       "    <tr>\n",
       "      <th>847</th>\n",
       "      <td>2011</td>\n",
       "      <td>Lithium</td>\n",
       "      <td>LiNiO2</td>\n",
       "      <td>2826.819366</td>\n",
       "    </tr>\n",
       "    <tr>\n",
       "      <th>928</th>\n",
       "      <td>2011</td>\n",
       "      <td>Nickel</td>\n",
       "      <td>LiNiCoAlO2(0.8:0.15:0.05)</td>\n",
       "      <td>16136.280796</td>\n",
       "    </tr>\n",
       "    <tr>\n",
       "      <th>930</th>\n",
       "      <td>2011</td>\n",
       "      <td>Cobalt</td>\n",
       "      <td>LiNiCoAlO2(0.8:0.15:0.05)</td>\n",
       "      <td>16202.263237</td>\n",
       "    </tr>\n",
       "    <tr>\n",
       "      <th>931</th>\n",
       "      <td>2011</td>\n",
       "      <td>Lithium</td>\n",
       "      <td>LiNiCoAlO2(0.8:0.15:0.05)</td>\n",
       "      <td>2665.695684</td>\n",
       "    </tr>\n",
       "  </tbody>\n",
       "</table>\n",
       "</div>"
      ],
      "text/plain": [
       "     Year Full Element Name                    Cathode        demand\n",
       "4    2011            Nickel                     NMC622   9943.437896\n",
       "5    2011         Manganese                     NMC622   3102.428973\n",
       "6    2011            Cobalt                     NMC622   3328.032449\n",
       "7    2011           Lithium                     NMC622   2744.596608\n",
       "88   2011            Nickel                     NMC811  13257.917195\n",
       "89   2011         Manganese                     NMC811   1551.214486\n",
       "90   2011            Cobalt                     NMC811   1664.016224\n",
       "91   2011           Lithium                     NMC811   2747.442944\n",
       "172  2011            Nickel                     NMC532   8286.198247\n",
       "173  2011         Manganese                     NMC532   4653.643459\n",
       "174  2011            Cobalt                     NMC532   3328.032449\n",
       "175  2011           Lithium                     NMC532   2741.555927\n",
       "256  2011            Nickel                     NMC111  16572.396494\n",
       "257  2011         Manganese                     NMC111  15512.144865\n",
       "258  2011            Cobalt                     NMC111  16640.162243\n",
       "259  2011           Lithium                     NMC111   3672.380649\n",
       "343  2011           Lithium                    LiFePO4   3522.979571\n",
       "426  2011            Cobalt                     LiCoO2  16202.263237\n",
       "427  2011           Lithium                     LiCoO2   2679.931700\n",
       "510  2011            Cobalt                    LiCo2O4  30784.300150\n",
       "511  2011           Lithium                    LiCo2O4   3227.070789\n",
       "595  2011           Lithium                     LiTiS2   5692.088358\n",
       "677  2011         Manganese                    LiMn2O4  27997.529756\n",
       "679  2011           Lithium                    LiMn2O4   3089.936955\n",
       "761  2011         Manganese                     LiMnO2  17392.404849\n",
       "763  2011           Lithium                     LiMnO2   3049.937449\n",
       "844  2011            Nickel                     LiNiO2  17032.740841\n",
       "847  2011           Lithium                     LiNiO2   2826.819366\n",
       "928  2011            Nickel  LiNiCoAlO2(0.8:0.15:0.05)  16136.280796\n",
       "930  2011            Cobalt  LiNiCoAlO2(0.8:0.15:0.05)  16202.263237\n",
       "931  2011           Lithium  LiNiCoAlO2(0.8:0.15:0.05)   2665.695684"
      ]
     },
     "execution_count": 17,
     "metadata": {},
     "output_type": "execute_result"
    }
   ],
   "source": [
    "demand_l = demand_by_cathode.melt(id_vars=[\"Year\", \"Full Element Name\"], var_name=\"Cathode\", value_name=\"demand\").dropna()\n",
    "demand_l[(demand_l[\"Year\"] == 2011)]"
   ]
  },
  {
   "cell_type": "code",
   "execution_count": 18,
   "id": "a5652a88",
   "metadata": {},
   "outputs": [
    {
     "data": {
      "application/vnd.plotly.v1+json": {
       "config": {
        "plotlyServerURL": "https://plot.ly"
       },
       "data": [
        {
         "legend": "legend",
         "legendgroup": "Cobalt",
         "marker": {
          "color": "#636efa",
          "size": 10
         },
         "mode": "lines+markers",
         "name": "Cobalt",
         "showlegend": true,
         "type": "scatter",
         "x": {
          "bdata": "2gcAANsHAADcBwAA3QcAAN4HAADfBwAA4AcAAOEHAADiBwAA4wcAAOQHAADlBwAA5gcAAOcHAADoBwAA6QcAAOoHAADrBwAA7AcAAO0HAADuBwAA",
          "dtype": "i4"
         },
         "xaxis": "x",
         "y": {
          "bdata": "YVcAAOxZAACqdAUASjEMAFNTDQBbWg0AW1oNAN46DwAJLBEA00keAAgUVQB8jlkAipFkAKklpQDVOLMA1TizANU4swDVOLMA1TizANU4swDVOLMA",
          "dtype": "i4"
         },
         "yaxis": "y"
        },
        {
         "legend": "legend2",
         "legendgroup": "NMC622",
         "marker": {
          "color": "orange",
          "size": 10
         },
         "mode": "markers",
         "name": "NMC622",
         "showlegend": true,
         "type": "scatter",
         "x": {
          "bdata": "2gfbB9wH3QfeB98H4AfhB+IH4wfkB+UH5gfnB+gH6QfqB+sH7AftB+4H",
          "dtype": "i2"
         },
         "xaxis": "x",
         "y": {
          "bdata": "xf8cnRAAmkDD/xydEACqQEUbL4+dpLFAw/8cnRAAukCzRlqyL2nBQGeUqlJ6u8NAMCtIwKLEyUBcNE5mfPvWQOd38dyVC+FAmeCbWy9C60COhbtnCTP0QOifrse6i/1AXPoTRXzHBkFiR9X0GbsNQXHeOT5TOxRB4kPk1O3MHEEYC6DdaMggQdcHmNGoPCRB42pCwd8uJ0Gr4EzTOxgpQUf407wPoShB",
          "dtype": "f8"
         },
         "yaxis": "y"
        },
        {
         "legend": "legend2",
         "legendgroup": "NMC811",
         "marker": {
          "color": "purple",
          "size": 10
         },
         "mode": "markers",
         "name": "NMC811",
         "showlegend": true,
         "type": "scatter",
         "x": {
          "bdata": "2gfbB9wH3QfeB98H4AfhB+IH4wfkB+UH5gfnB+gH6QfqB+sH7AftB+4H",
          "dtype": "i2"
         },
         "xaxis": "x",
         "y": {
          "bdata": "w/8cnRAAikDF/xydEACaQEYbL4+dpKFAw/8cnRAAqkCzRlqyL2mxQGaUqlJ6u7NAMitIwKLEuUBfNE5mfPvGQOd38dyVC9FAmeCbWy9C20CRhbtnCTPkQOufrse6i+1AXfoTRXzH9kBlR9X0Gbv9QHHeOT5TOwRB5EPk1O3MDEEYC6DdaMgQQdkHmNGoPBRB4mpCwd8uF0Gt4EzTOxgZQUb407wPoRhB",
          "dtype": "f8"
         },
         "yaxis": "y"
        },
        {
         "legend": "legend2",
         "legendgroup": "NMC532",
         "marker": {
          "color": "green",
          "size": 10
         },
         "mode": "markers",
         "name": "NMC532",
         "showlegend": true,
         "type": "scatter",
         "x": {
          "bdata": "2gfbB9wH3QfeB98H4AfhB+IH4wfkB+UH5gfnB+gH6QfqB+sH7AftB+4H",
          "dtype": "i2"
         },
         "xaxis": "x",
         "y": {
          "bdata": "wf8cnRAAmkDD/xydEACqQEUbL4+dpLFAwv8cnRAAukCyRlqyL2nBQGeUqlJ6u8NAMCtIwKLEyUBcNE5mfPvWQOd38dyVC+FAl+CbWy9C60CPhbtnCTP0QOifrse6i/1AXPoTRXzHBkFeR9X0GbsNQXHeOT5TOxRB4kPk1O3MHEEYC6DdaMggQdcHmNGoPCRB4mpCwd8uJ0Gq4EzTOxgpQUb407wPoShB",
          "dtype": "f8"
         },
         "yaxis": "y"
        },
        {
         "legend": "legend2",
         "legendgroup": "NMC111",
         "marker": {
          "color": "blue",
          "size": 10
         },
         "mode": "markers",
         "name": "NMC111",
         "showlegend": true,
         "type": "scatter",
         "x": {
          "bdata": "2gfbB9wH3QfeB98H4AfhB+IH4wfkB+UH5gfnB+gH6QfqB+sH7AftB+4H",
          "dtype": "i2"
         },
         "xaxis": "x",
         "y": {
          "bdata": "3B8yYgpAwEDbHzJiCkDQQBfi+vLEDdZA3R8yYgpA4EBi2PCee8PlQIA5VedYquhAABstuOUa8EB2weF/W7r8QOTVLVR7TgVBYWxBmV0JEUH1ZqrByz8ZQfQjzbxUdyJB9/hYVlt5LEGfTAU58JQyQRJWyA0oSjlBbqoOpRQAQkHhDQgVg/pEQdEJ/gXTS0lBnQWTsZf6TEHaGCDISl5PQVr2CKxTyU5B",
          "dtype": "f8"
         },
         "yaxis": "y"
        },
        {
         "legend": "legend",
         "legendgroup": "Lithium",
         "marker": {
          "color": "#EF553B",
          "size": 10
         },
         "mode": "lines+markers",
         "name": "Lithium",
         "showlegend": true,
         "type": "scatter",
         "x": {
          "bdata": "2gcAANsHAADcBwAA3QcAAN4HAADfBwAA4AcAAOEHAADiBwAA4wcAAOQHAADlBwAA5gcAAOcHAADoBwAA6QcAAOoHAADrBwAA7AcAAO0HAADuBwAA",
          "dtype": "i4"
         },
         "xaxis": "x2",
         "y": {
          "bdata": "TDoGACtmBgDIlhQAyJYUAMiWFADIlhQAJAdIAMRWgACPcI8AP/I+ARPaRgEFk3wCwcN9BXRYIgvhsF0Q4bBdEOGwXRDhsF0Q4bBdEOGwXRDhsF0Q",
          "dtype": "i4"
         },
         "yaxis": "y2"
        },
        {
         "legend": "legend2",
         "legendgroup": "NMC622",
         "marker": {
          "color": "orange",
          "size": 10
         },
         "mode": "markers",
         "name": "NMC622",
         "showlegend": false,
         "type": "scatter",
         "x": {
          "bdata": "2gfbB9wH3QfeB98H4AfhB+IH4wfkB+UH5gfnB+gH6QfqB+sH7AftB+4H",
          "dtype": "i2"
         },
         "xaxis": "x2",
         "y": {
          "bdata": "lcuSdjFxlUCVy5J2MXGlQJKmoo6eGa1AlcuSdjFxtUA5dTsambe8QFyxIdPnRcBA5TJfvC5AxUDQCvQBDvTSQBghTOk2HdxA8kqUs9d65kBSpIcxgajwQFjwIlO8XfhAOuUGnyvJAkEVZcx9zYQIQa0cjA1XrxBBOC2hXGLAF0EymhaDaq4bQVYqQr9wsCBBsveGGm8eI0GUYmwVAbIkQdgN0lq5TyRB",
          "dtype": "f8"
         },
         "yaxis": "y2"
        },
        {
         "legend": "legend2",
         "legendgroup": "NMC811",
         "marker": {
          "color": "purple",
          "size": 10
         },
         "mode": "markers",
         "name": "NMC811",
         "showlegend": false,
         "type": "scatter",
         "x": {
          "bdata": "2gfbB9wH3QfeB98H4AfhB+IH4wfkB+UH5gfnB+gH6QfqB+sH7AftB+4H",
          "dtype": "i2"
         },
         "xaxis": "x2",
         "y": {
          "bdata": "MICDyeJ2lUAwgIPJ4nalQPstoFpYIa1AMYCDyeJ2tUCviyvgOL+8QErxXNQ5SsBACi9JDNNFxUBQYY0tFvnSQK2lgLKtJNxAN9B4jc+A5kDRXBVg7azwQH9vBmE0ZPhAUFr6ZyjOAkHlr+TqT4sIQZOkqwzFsxBB//ISpLDGF0FJydbhw7UbQeMjKwnftCBBfepyhoIjI0FRMCOmf7ckQe4Q49MdVSRB",
          "dtype": "f8"
         },
         "yaxis": "y2"
        },
        {
         "legend": "legend2",
         "legendgroup": "NMC532",
         "marker": {
          "color": "green",
          "size": 10
         },
         "mode": "markers",
         "name": "NMC532",
         "showlegend": false,
         "type": "scatter",
         "x": {
          "bdata": "2gfbB9wH3QfeB98H4AfhB+IH4wfkB+UH5gfnB+gH6QfqB+sH7AftB+4H",
          "dtype": "i2"
         },
         "xaxis": "x2",
         "y": {
          "bdata": "OKOFohxrlUA6o4WiHGulQBaC/rddEa1AOaOFohxrtUC+Q4UQdK+8QJbZoE1KQcBADwTJzic6xUD9jfHhre7SQPTnv6g9FdxAag3Oh3d05kA/aSW1x6PwQOm7dDLTVvhAuIKsqNfDAkEoDZ5I2X0IQYuv36CbqhBBO+OY3KW5F0HcVyqvkKYbQS8RsQK1qyBBqaGH9QIZI0HoEdR6IqwkQRyX85/2SSRB",
          "dtype": "f8"
         },
         "yaxis": "y2"
        },
        {
         "legend": "legend2",
         "legendgroup": "NMC111",
         "marker": {
          "color": "blue",
          "size": 10
         },
         "mode": "markers",
         "name": "NMC111",
         "showlegend": false,
         "type": "scatter",
         "x": {
          "bdata": "2gfbB9wH3QfeB98H4AfhB+IH4wfkB+UH5gfnB+gH6QfqB+sH7AftB+4H",
          "dtype": "i2"
         },
         "xaxis": "x2",
         "y": {
          "bdata": "QAFn5MKwnEA+AWfkwrCsQLR3avbxd7NAPwFn5MKwvECNHs7vXTbDQBma6TEmxsVAGqjK3S5vzEA/enaOPlzZQCMSy8sUz+JAtO1o+TUU7kA5w1spFEr2QEkUjKsrTQBBPaytCN0iCUFR8NamTmcQQVAdO4s5UxZBqvQkdMzHH0Gjgktx9IQiQRXfRnayVCZB4gdSFfOUKUEHbglY8bArQa6SW51wLStB",
          "dtype": "f8"
         },
         "yaxis": "y2"
        },
        {
         "legend": "legend",
         "legendgroup": "Nickel",
         "marker": {
          "color": "#00cc96",
          "size": 10
         },
         "mode": "lines+markers",
         "name": "Nickel",
         "showlegend": true,
         "type": "scatter",
         "x": {
          "bdata": "2gcAANsHAADcBwAA3QcAAN4HAADfBwAA4AcAAOEHAADiBwAA4wcAAOQHAADlBwAA5gcAAOcHAADoBwAA6QcAAOoHAADrBwAA7AcAAO0HAADuBwAA",
          "dtype": "i4"
         },
         "xaxis": "x3",
         "y": {
          "bdata": "yywXAHNkRgD4Kf8A/6J8AWOavAHPB8YBQ2HGAUqzMwI4EUgCPegwA9pZxQTDZOIELpOfBQ++HwvLbLQOy2y0DststA7LbLQOy2y0DststA7LbLQO",
          "dtype": "i4"
         },
         "yaxis": "y3"
        },
        {
         "legend": "legend2",
         "legendgroup": "NMC622",
         "marker": {
          "color": "orange",
          "size": 10
         },
         "mode": "markers",
         "name": "NMC622",
         "showlegend": false,
         "type": "scatter",
         "x": {
          "bdata": "2gfbB9wH3QfeB98H4AfhB+IH4wfkB+UH5gfnB+gH6QfqB+sH7AftB+4H",
          "dtype": "i2"
         },
         "xaxis": "x3",
         "y": {
          "bdata": "pr76DLhrs0CmvvoMuGvDQJi5LzZVW8pApb76DLhr00ALrYZajQLaQIYqIe9bet1AYTgmH1Q/40AX7S/5pCrxQEk5Kfq4dvlALl3UPVNcBEEIOxOX9ywOQSWny/exERZBmvcVic0DIUG6RVxPFDUmQVYpqmJZOS5BUVLOcS2DNUH6GgSIXhI5QeKcjqlXOz5BG48qTwdRQUGuBrq6jb5CQZiFS9iJZUJB",
          "dtype": "f8"
         },
         "yaxis": "y3"
        },
        {
         "legend": "legend2",
         "legendgroup": "NMC811",
         "marker": {
          "color": "purple",
          "size": 10
         },
         "mode": "markers",
         "name": "NMC811",
         "showlegend": false,
         "type": "scatter",
         "x": {
          "bdata": "2gfbB9wH3QfeB98H4AfhB+IH4wfkB+UH5gfnB+gH6QfqB+sH7AftB+4H",
          "dtype": "i2"
         },
         "xaxis": "x3",
         "y": {
          "bdata": "36ijZvXkuUDfqKNm9eTJQL17ys44ktFA36ijZvXk2UBdcwTnCFfhQAXHwPTnpuNAgaDdfsWp6UAhPJWhhuP2QDImxqbQ+QBBQXxwUsQlC0GwfLdk+h0UQdzeZErtbB1Bz/THtryvJkGkB3sUG5wtQZAbHJc7JjRBxm1oQueuPEGmvAKw6bZAQUMTX8aPJ0RBJhSOabQWR0FAXk1OEv5IQXYHunVih0hB",
          "dtype": "f8"
         },
         "yaxis": "y3"
        },
        {
         "legend": "legend2",
         "legendgroup": "NMC532",
         "marker": {
          "color": "green",
          "size": 10
         },
         "mode": "markers",
         "name": "NMC532",
         "showlegend": false,
         "type": "scatter",
         "x": {
          "bdata": "2gfbB9wH3QfeB98H4AfhB+IH4wfkB+UH5gfnB+gH6QfqB+sH7AftB+4H",
          "dtype": "i2"
         },
         "xaxis": "x3",
         "y": {
          "bdata": "i0kmYBkvsECLSSZgGS/AQKgafQLH9sVAi0kmYBkv0EA0kMUgy6zVQMX48PGhkNhAUIRKbxsK4EAni/pJaJzsQL2vd9BEOPVApk2Gs5r3AEHcW+X9eCUJQUkLf04UZBJBAfJ55KtbHEHG5MzskIEiQXIi43zKLylBm0SBiVDtMUHOawMcpOQ0QRLY9rdzMTlBLJnxg2HcPEHNteDhlj0/QVSJKBM7qT5B",
          "dtype": "f8"
         },
         "yaxis": "y3"
        },
        {
         "legend": "legend2",
         "legendgroup": "NMC111",
         "marker": {
          "color": "blue",
          "size": 10
         },
         "mode": "markers",
         "name": "NMC111",
         "showlegend": false,
         "type": "scatter",
         "x": {
          "bdata": "2gfbB9wH3QfeB98H4AfhB+IH4wfkB+UH5gfnB+gH6QfqB+sH7AftB+4H",
          "dtype": "i2"
         },
         "xaxis": "x3",
         "y": {
          "bdata": "jUkmYBkvwECOSSZgGS/QQK0afQLH9tVAjUkmYBkv4EA3kMUgy6zlQMb48PGhkOhAUoRKbxsK8EAoi/pJaJz8QL+vd9BEOAVBqk2Gs5r3EEHeW+X9eCUZQUsLf04UZCJBBPJ55KtbLEHG5MzskIEyQXUi43zKLzlBnUSBiVDtQUHSawMcpOREQRfY9rdzMUlBMZnxg2HcTEHSteDhlj1PQVaJKBM7qU5B",
          "dtype": "f8"
         },
         "yaxis": "y3"
        },
        {
         "legend": "legend",
         "legendgroup": "Manganese",
         "marker": {
          "color": "#ab63fa",
          "size": 10
         },
         "mode": "lines+markers",
         "name": "Manganese",
         "showlegend": true,
         "type": "scatter",
         "x": {
          "bdata": "3AcAAN0HAADeBwAA3wcAAOAHAADhBwAA4gcAAOMHAADkBwAA5QcAAOYHAADnBwAA6AcAAOkHAADqBwAA6wcAAOwHAADtBwAA7gcAAA==",
          "dtype": "i4"
         },
         "xaxis": "x4",
         "y": [
          370883000,
          550883000,
          686371474,
          700341474,
          700341474,
          709641474,
          709641474,
          717441474,
          885101474,
          950251474,
          1040071474,
          2432587027,
          3757622411,
          3757622411,
          3757622411,
          3757622411,
          3757622411,
          3757622411,
          3757622411
         ],
         "yaxis": "y4"
        },
        {
         "legend": "legend2",
         "legendgroup": "NMC622",
         "marker": {
          "color": "orange",
          "size": 10
         },
         "mode": "markers",
         "name": "NMC622",
         "showlegend": false,
         "type": "scatter",
         "x": {
          "bdata": "2gfbB9wH3QfeB98H4AfhB+IH4wfkB+UH5gfnB+gH6QfqB+sH7AftB+4H",
          "dtype": "i2"
         },
         "xaxis": "x4",
         "y": {
          "bdata": "ETRZots8mEARNFmi2zyoQAzRTndwcrBAEDRZots8uEBLTgDvCTvAQM1pEUILZcJAT7EKGnUFyEBOkFy2pmzVQFMa1uOQx99A+pT5UiRp6UCgXIiFf9TyQCLt0jz+ivtA6N0X/yw8BUEUraFTJ7cLQXEixYU53BJBPj2MbiDZGkEhGKtsUkofQf31c/F33SJBrzEDSI6cJUFiYBoIvmQnQdJ/SQ2m9SZB",
          "dtype": "f8"
         },
         "yaxis": "y4"
        },
        {
         "legend": "legend2",
         "legendgroup": "NMC811",
         "marker": {
          "color": "purple",
          "size": 10
         },
         "mode": "markers",
         "name": "NMC811",
         "showlegend": false,
         "type": "scatter",
         "x": {
          "bdata": "2gfbB9wH3QfeB98H4AfhB+IH4wfkB+UH5gfnB+gH6QfqB+sH7AftB+4H",
          "dtype": "i2"
         },
         "xaxis": "x4",
         "y": {
          "bdata": "EjRZots8iEARNFmi2zyYQA3RTndwcqBAEzRZots8qEBMTgDvCTuwQM1pEUILZbJAUbEKGnUFuEBOkFy2pmzFQFMa1uOQx89A+ZT5UiRp2UCiXIiFf9TiQCTt0jz+iutA590X/yw89UAUraFTJ7f7QHMixYU53AJBPj2MbiDZCkEhGKtsUkoPQfv1c/F33RJBsDEDSI6cFUFjYBoIvmQXQdJ/SQ2m9RZB",
          "dtype": "f8"
         },
         "yaxis": "y4"
        },
        {
         "legend": "legend2",
         "legendgroup": "NMC532",
         "marker": {
          "color": "green",
          "size": 10
         },
         "mode": "markers",
         "name": "NMC532",
         "showlegend": false,
         "type": "scatter",
         "x": {
          "bdata": "2gfbB9wH3QfeB98H4AfhB+IH4wfkB+UH5gfnB+gH6QfqB+sH7AftB+4H",
          "dtype": "i2"
         },
         "xaxis": "x4",
         "y": {
          "bdata": "DOfCuaQtokAM58K5pC2yQJE59rKoq7hADOfCuaQtwkBudYDmjljIQLIeGuOQl8tA/QSI0xcE0kA8bMUIfRHgQL6T4Kqs1edAuy87PtsO80DuikxIvz78QNsxnq0+qARB2syjfkPaD0HPQbl+XckUQa2zp0hWShxB7i3pUtgiJEEYUoDRvXcnQfvwLeozTCxBQmUCtmo1MEFJyBOGjosxQd0f94k8ODFB",
          "dtype": "f8"
         },
         "yaxis": "y4"
        },
        {
         "legend": "legend2",
         "legendgroup": "NMC111",
         "marker": {
          "color": "blue",
          "size": 10
         },
         "mode": "markers",
         "name": "NMC111",
         "showlegend": false,
         "type": "scatter",
         "x": {
          "bdata": "2gfbB9wH3QfeB98H4AfhB+IH4wfkB+UH5gfnB+gH6QfqB+sH7AftB+4H",
          "dtype": "i2"
         },
         "xaxis": "x4",
         "y": {
          "bdata": "F4HvihJMvkAVge+KEkzOQFCFIpUMj9RAGIHvihJM3kDhYcBqzEnkQEHElRJO/uZAp12NYNIG7kBotPNj0Mf6QHTQZY663ANBO/q3Z23DD0HLc+pmn4kXQTjUA+beNiFBYtXdPjiLKkEsDEWUeFIxQRBrNudHkzdBSaYXRbTHQEEX7+qDc45DQXzz0O3VlEdBHv4D2rEDS0F++CCK7T1NQcnfm5APs0xB",
          "dtype": "f8"
         },
         "yaxis": "y4"
        }
       ],
       "layout": {
        "annotations": [
         {
          "font": {
           "size": 16
          },
          "showarrow": false,
          "text": "Cobalt",
          "x": 0.225,
          "xanchor": "center",
          "xref": "paper",
          "y": 1,
          "yanchor": "bottom",
          "yref": "paper"
         },
         {
          "font": {
           "size": 16
          },
          "showarrow": false,
          "text": "Lithium",
          "x": 0.775,
          "xanchor": "center",
          "xref": "paper",
          "y": 1,
          "yanchor": "bottom",
          "yref": "paper"
         },
         {
          "font": {
           "size": 16
          },
          "showarrow": false,
          "text": "Nickel",
          "x": 0.225,
          "xanchor": "center",
          "xref": "paper",
          "y": 0.375,
          "yanchor": "bottom",
          "yref": "paper"
         },
         {
          "font": {
           "size": 16
          },
          "showarrow": false,
          "text": "Manganese",
          "x": 0.775,
          "xanchor": "center",
          "xref": "paper",
          "y": 0.375,
          "yanchor": "bottom",
          "yref": "paper"
         },
         {
          "font": {
           "size": 16
          },
          "showarrow": false,
          "text": "Year",
          "x": 0.5,
          "xanchor": "center",
          "xref": "paper",
          "y": 0,
          "yanchor": "top",
          "yref": "paper",
          "yshift": -30
         },
         {
          "font": {
           "size": 16
          },
          "showarrow": false,
          "text": "Reserves",
          "textangle": -90,
          "x": 0,
          "xanchor": "right",
          "xref": "paper",
          "xshift": -40,
          "y": 0.5,
          "yanchor": "middle",
          "yref": "paper"
         },
         {
          "arrowhead": 2,
          "showarrow": true,
          "text": "Current Year",
          "x": 2024,
          "xref": "x",
          "yref": "y",
          "yshift": 10
         },
         {
          "arrowhead": 2,
          "showarrow": true,
          "text": "Current Year",
          "x": 2024,
          "xref": "x2",
          "yref": "y2",
          "yshift": 10
         },
         {
          "arrowhead": 2,
          "showarrow": true,
          "text": "Current Year",
          "x": 2024,
          "xref": "x3",
          "yref": "y3",
          "yshift": 10
         },
         {
          "arrowhead": 2,
          "showarrow": true,
          "text": "Current Year",
          "x": 2024,
          "xref": "x4",
          "yref": "y4",
          "yshift": 10
         }
        ],
        "height": 700,
        "legend": {
         "title": {
          "text": "Mineral"
         }
        },
        "legend2": {
         "title": {
          "text": "NMC Cathodes"
         },
         "y": 0.1
        },
        "shapes": [
         {
          "line": {
           "color": "red",
           "dash": "dash"
          },
          "type": "line",
          "x0": 2024,
          "x1": 2024,
          "xref": "x",
          "y0": 0,
          "y1": 1,
          "yref": "y domain"
         },
         {
          "line": {
           "color": "red",
           "dash": "dash"
          },
          "type": "line",
          "x0": 2024,
          "x1": 2024,
          "xref": "x",
          "y0": 0,
          "y1": 1,
          "yref": "y domain"
         },
         {
          "line": {
           "color": "red",
           "dash": "dash"
          },
          "type": "line",
          "x0": 2024,
          "x1": 2024,
          "xref": "x2",
          "y0": 0,
          "y1": 1,
          "yref": "y2 domain"
         },
         {
          "line": {
           "color": "red",
           "dash": "dash"
          },
          "type": "line",
          "x0": 2024,
          "x1": 2024,
          "xref": "x",
          "y0": 0,
          "y1": 1,
          "yref": "y domain"
         },
         {
          "line": {
           "color": "red",
           "dash": "dash"
          },
          "type": "line",
          "x0": 2024,
          "x1": 2024,
          "xref": "x2",
          "y0": 0,
          "y1": 1,
          "yref": "y2 domain"
         },
         {
          "line": {
           "color": "red",
           "dash": "dash"
          },
          "type": "line",
          "x0": 2024,
          "x1": 2024,
          "xref": "x3",
          "y0": 0,
          "y1": 1,
          "yref": "y3 domain"
         },
         {
          "line": {
           "color": "red",
           "dash": "dash"
          },
          "type": "line",
          "x0": 2024,
          "x1": 2024,
          "xref": "x",
          "y0": 0,
          "y1": 1,
          "yref": "y domain"
         },
         {
          "line": {
           "color": "red",
           "dash": "dash"
          },
          "type": "line",
          "x0": 2024,
          "x1": 2024,
          "xref": "x2",
          "y0": 0,
          "y1": 1,
          "yref": "y2 domain"
         },
         {
          "line": {
           "color": "red",
           "dash": "dash"
          },
          "type": "line",
          "x0": 2024,
          "x1": 2024,
          "xref": "x3",
          "y0": 0,
          "y1": 1,
          "yref": "y3 domain"
         },
         {
          "line": {
           "color": "red",
           "dash": "dash"
          },
          "type": "line",
          "x0": 2024,
          "x1": 2024,
          "xref": "x4",
          "y0": 0,
          "y1": 1,
          "yref": "y4 domain"
         }
        ],
        "showlegend": true,
        "template": {
         "data": {
          "bar": [
           {
            "error_x": {
             "color": "#2a3f5f"
            },
            "error_y": {
             "color": "#2a3f5f"
            },
            "marker": {
             "line": {
              "color": "#E5ECF6",
              "width": 0.5
             },
             "pattern": {
              "fillmode": "overlay",
              "size": 10,
              "solidity": 0.2
             }
            },
            "type": "bar"
           }
          ],
          "barpolar": [
           {
            "marker": {
             "line": {
              "color": "#E5ECF6",
              "width": 0.5
             },
             "pattern": {
              "fillmode": "overlay",
              "size": 10,
              "solidity": 0.2
             }
            },
            "type": "barpolar"
           }
          ],
          "carpet": [
           {
            "aaxis": {
             "endlinecolor": "#2a3f5f",
             "gridcolor": "white",
             "linecolor": "white",
             "minorgridcolor": "white",
             "startlinecolor": "#2a3f5f"
            },
            "baxis": {
             "endlinecolor": "#2a3f5f",
             "gridcolor": "white",
             "linecolor": "white",
             "minorgridcolor": "white",
             "startlinecolor": "#2a3f5f"
            },
            "type": "carpet"
           }
          ],
          "choropleth": [
           {
            "colorbar": {
             "outlinewidth": 0,
             "ticks": ""
            },
            "type": "choropleth"
           }
          ],
          "contour": [
           {
            "colorbar": {
             "outlinewidth": 0,
             "ticks": ""
            },
            "colorscale": [
             [
              0,
              "#0d0887"
             ],
             [
              0.1111111111111111,
              "#46039f"
             ],
             [
              0.2222222222222222,
              "#7201a8"
             ],
             [
              0.3333333333333333,
              "#9c179e"
             ],
             [
              0.4444444444444444,
              "#bd3786"
             ],
             [
              0.5555555555555556,
              "#d8576b"
             ],
             [
              0.6666666666666666,
              "#ed7953"
             ],
             [
              0.7777777777777778,
              "#fb9f3a"
             ],
             [
              0.8888888888888888,
              "#fdca26"
             ],
             [
              1,
              "#f0f921"
             ]
            ],
            "type": "contour"
           }
          ],
          "contourcarpet": [
           {
            "colorbar": {
             "outlinewidth": 0,
             "ticks": ""
            },
            "type": "contourcarpet"
           }
          ],
          "heatmap": [
           {
            "colorbar": {
             "outlinewidth": 0,
             "ticks": ""
            },
            "colorscale": [
             [
              0,
              "#0d0887"
             ],
             [
              0.1111111111111111,
              "#46039f"
             ],
             [
              0.2222222222222222,
              "#7201a8"
             ],
             [
              0.3333333333333333,
              "#9c179e"
             ],
             [
              0.4444444444444444,
              "#bd3786"
             ],
             [
              0.5555555555555556,
              "#d8576b"
             ],
             [
              0.6666666666666666,
              "#ed7953"
             ],
             [
              0.7777777777777778,
              "#fb9f3a"
             ],
             [
              0.8888888888888888,
              "#fdca26"
             ],
             [
              1,
              "#f0f921"
             ]
            ],
            "type": "heatmap"
           }
          ],
          "histogram": [
           {
            "marker": {
             "pattern": {
              "fillmode": "overlay",
              "size": 10,
              "solidity": 0.2
             }
            },
            "type": "histogram"
           }
          ],
          "histogram2d": [
           {
            "colorbar": {
             "outlinewidth": 0,
             "ticks": ""
            },
            "colorscale": [
             [
              0,
              "#0d0887"
             ],
             [
              0.1111111111111111,
              "#46039f"
             ],
             [
              0.2222222222222222,
              "#7201a8"
             ],
             [
              0.3333333333333333,
              "#9c179e"
             ],
             [
              0.4444444444444444,
              "#bd3786"
             ],
             [
              0.5555555555555556,
              "#d8576b"
             ],
             [
              0.6666666666666666,
              "#ed7953"
             ],
             [
              0.7777777777777778,
              "#fb9f3a"
             ],
             [
              0.8888888888888888,
              "#fdca26"
             ],
             [
              1,
              "#f0f921"
             ]
            ],
            "type": "histogram2d"
           }
          ],
          "histogram2dcontour": [
           {
            "colorbar": {
             "outlinewidth": 0,
             "ticks": ""
            },
            "colorscale": [
             [
              0,
              "#0d0887"
             ],
             [
              0.1111111111111111,
              "#46039f"
             ],
             [
              0.2222222222222222,
              "#7201a8"
             ],
             [
              0.3333333333333333,
              "#9c179e"
             ],
             [
              0.4444444444444444,
              "#bd3786"
             ],
             [
              0.5555555555555556,
              "#d8576b"
             ],
             [
              0.6666666666666666,
              "#ed7953"
             ],
             [
              0.7777777777777778,
              "#fb9f3a"
             ],
             [
              0.8888888888888888,
              "#fdca26"
             ],
             [
              1,
              "#f0f921"
             ]
            ],
            "type": "histogram2dcontour"
           }
          ],
          "mesh3d": [
           {
            "colorbar": {
             "outlinewidth": 0,
             "ticks": ""
            },
            "type": "mesh3d"
           }
          ],
          "parcoords": [
           {
            "line": {
             "colorbar": {
              "outlinewidth": 0,
              "ticks": ""
             }
            },
            "type": "parcoords"
           }
          ],
          "pie": [
           {
            "automargin": true,
            "type": "pie"
           }
          ],
          "scatter": [
           {
            "fillpattern": {
             "fillmode": "overlay",
             "size": 10,
             "solidity": 0.2
            },
            "type": "scatter"
           }
          ],
          "scatter3d": [
           {
            "line": {
             "colorbar": {
              "outlinewidth": 0,
              "ticks": ""
             }
            },
            "marker": {
             "colorbar": {
              "outlinewidth": 0,
              "ticks": ""
             }
            },
            "type": "scatter3d"
           }
          ],
          "scattercarpet": [
           {
            "marker": {
             "colorbar": {
              "outlinewidth": 0,
              "ticks": ""
             }
            },
            "type": "scattercarpet"
           }
          ],
          "scattergeo": [
           {
            "marker": {
             "colorbar": {
              "outlinewidth": 0,
              "ticks": ""
             }
            },
            "type": "scattergeo"
           }
          ],
          "scattergl": [
           {
            "marker": {
             "colorbar": {
              "outlinewidth": 0,
              "ticks": ""
             }
            },
            "type": "scattergl"
           }
          ],
          "scattermap": [
           {
            "marker": {
             "colorbar": {
              "outlinewidth": 0,
              "ticks": ""
             }
            },
            "type": "scattermap"
           }
          ],
          "scattermapbox": [
           {
            "marker": {
             "colorbar": {
              "outlinewidth": 0,
              "ticks": ""
             }
            },
            "type": "scattermapbox"
           }
          ],
          "scatterpolar": [
           {
            "marker": {
             "colorbar": {
              "outlinewidth": 0,
              "ticks": ""
             }
            },
            "type": "scatterpolar"
           }
          ],
          "scatterpolargl": [
           {
            "marker": {
             "colorbar": {
              "outlinewidth": 0,
              "ticks": ""
             }
            },
            "type": "scatterpolargl"
           }
          ],
          "scatterternary": [
           {
            "marker": {
             "colorbar": {
              "outlinewidth": 0,
              "ticks": ""
             }
            },
            "type": "scatterternary"
           }
          ],
          "surface": [
           {
            "colorbar": {
             "outlinewidth": 0,
             "ticks": ""
            },
            "colorscale": [
             [
              0,
              "#0d0887"
             ],
             [
              0.1111111111111111,
              "#46039f"
             ],
             [
              0.2222222222222222,
              "#7201a8"
             ],
             [
              0.3333333333333333,
              "#9c179e"
             ],
             [
              0.4444444444444444,
              "#bd3786"
             ],
             [
              0.5555555555555556,
              "#d8576b"
             ],
             [
              0.6666666666666666,
              "#ed7953"
             ],
             [
              0.7777777777777778,
              "#fb9f3a"
             ],
             [
              0.8888888888888888,
              "#fdca26"
             ],
             [
              1,
              "#f0f921"
             ]
            ],
            "type": "surface"
           }
          ],
          "table": [
           {
            "cells": {
             "fill": {
              "color": "#EBF0F8"
             },
             "line": {
              "color": "white"
             }
            },
            "header": {
             "fill": {
              "color": "#C8D4E3"
             },
             "line": {
              "color": "white"
             }
            },
            "type": "table"
           }
          ]
         },
         "layout": {
          "annotationdefaults": {
           "arrowcolor": "#2a3f5f",
           "arrowhead": 0,
           "arrowwidth": 1
          },
          "autotypenumbers": "strict",
          "coloraxis": {
           "colorbar": {
            "outlinewidth": 0,
            "ticks": ""
           }
          },
          "colorscale": {
           "diverging": [
            [
             0,
             "#8e0152"
            ],
            [
             0.1,
             "#c51b7d"
            ],
            [
             0.2,
             "#de77ae"
            ],
            [
             0.3,
             "#f1b6da"
            ],
            [
             0.4,
             "#fde0ef"
            ],
            [
             0.5,
             "#f7f7f7"
            ],
            [
             0.6,
             "#e6f5d0"
            ],
            [
             0.7,
             "#b8e186"
            ],
            [
             0.8,
             "#7fbc41"
            ],
            [
             0.9,
             "#4d9221"
            ],
            [
             1,
             "#276419"
            ]
           ],
           "sequential": [
            [
             0,
             "#0d0887"
            ],
            [
             0.1111111111111111,
             "#46039f"
            ],
            [
             0.2222222222222222,
             "#7201a8"
            ],
            [
             0.3333333333333333,
             "#9c179e"
            ],
            [
             0.4444444444444444,
             "#bd3786"
            ],
            [
             0.5555555555555556,
             "#d8576b"
            ],
            [
             0.6666666666666666,
             "#ed7953"
            ],
            [
             0.7777777777777778,
             "#fb9f3a"
            ],
            [
             0.8888888888888888,
             "#fdca26"
            ],
            [
             1,
             "#f0f921"
            ]
           ],
           "sequentialminus": [
            [
             0,
             "#0d0887"
            ],
            [
             0.1111111111111111,
             "#46039f"
            ],
            [
             0.2222222222222222,
             "#7201a8"
            ],
            [
             0.3333333333333333,
             "#9c179e"
            ],
            [
             0.4444444444444444,
             "#bd3786"
            ],
            [
             0.5555555555555556,
             "#d8576b"
            ],
            [
             0.6666666666666666,
             "#ed7953"
            ],
            [
             0.7777777777777778,
             "#fb9f3a"
            ],
            [
             0.8888888888888888,
             "#fdca26"
            ],
            [
             1,
             "#f0f921"
            ]
           ]
          },
          "colorway": [
           "#636efa",
           "#EF553B",
           "#00cc96",
           "#ab63fa",
           "#FFA15A",
           "#19d3f3",
           "#FF6692",
           "#B6E880",
           "#FF97FF",
           "#FECB52"
          ],
          "font": {
           "color": "#2a3f5f"
          },
          "geo": {
           "bgcolor": "white",
           "lakecolor": "white",
           "landcolor": "#E5ECF6",
           "showlakes": true,
           "showland": true,
           "subunitcolor": "white"
          },
          "hoverlabel": {
           "align": "left"
          },
          "hovermode": "closest",
          "mapbox": {
           "style": "light"
          },
          "paper_bgcolor": "white",
          "plot_bgcolor": "#E5ECF6",
          "polar": {
           "angularaxis": {
            "gridcolor": "white",
            "linecolor": "white",
            "ticks": ""
           },
           "bgcolor": "#E5ECF6",
           "radialaxis": {
            "gridcolor": "white",
            "linecolor": "white",
            "ticks": ""
           }
          },
          "scene": {
           "xaxis": {
            "backgroundcolor": "#E5ECF6",
            "gridcolor": "white",
            "gridwidth": 2,
            "linecolor": "white",
            "showbackground": true,
            "ticks": "",
            "zerolinecolor": "white"
           },
           "yaxis": {
            "backgroundcolor": "#E5ECF6",
            "gridcolor": "white",
            "gridwidth": 2,
            "linecolor": "white",
            "showbackground": true,
            "ticks": "",
            "zerolinecolor": "white"
           },
           "zaxis": {
            "backgroundcolor": "#E5ECF6",
            "gridcolor": "white",
            "gridwidth": 2,
            "linecolor": "white",
            "showbackground": true,
            "ticks": "",
            "zerolinecolor": "white"
           }
          },
          "shapedefaults": {
           "line": {
            "color": "#2a3f5f"
           }
          },
          "ternary": {
           "aaxis": {
            "gridcolor": "white",
            "linecolor": "white",
            "ticks": ""
           },
           "baxis": {
            "gridcolor": "white",
            "linecolor": "white",
            "ticks": ""
           },
           "bgcolor": "#E5ECF6",
           "caxis": {
            "gridcolor": "white",
            "linecolor": "white",
            "ticks": ""
           }
          },
          "title": {
           "x": 0.05
          },
          "xaxis": {
           "automargin": true,
           "gridcolor": "white",
           "linecolor": "white",
           "ticks": "",
           "title": {
            "standoff": 15
           },
           "zerolinecolor": "white",
           "zerolinewidth": 2
          },
          "yaxis": {
           "automargin": true,
           "gridcolor": "white",
           "linecolor": "white",
           "ticks": "",
           "title": {
            "standoff": 15
           },
           "zerolinecolor": "white",
           "zerolinewidth": 2
          }
         }
        },
        "title": {
         "text": "Cumulative Growth in Reserves Over the Years"
        },
        "xaxis": {
         "anchor": "y",
         "domain": [
          0,
          0.45
         ]
        },
        "xaxis2": {
         "anchor": "y2",
         "domain": [
          0.55,
          1
         ]
        },
        "xaxis3": {
         "anchor": "y3",
         "domain": [
          0,
          0.45
         ]
        },
        "xaxis4": {
         "anchor": "y4",
         "domain": [
          0.55,
          1
         ]
        },
        "yaxis": {
         "anchor": "x",
         "domain": [
          0.625,
          1
         ],
         "type": "log"
        },
        "yaxis2": {
         "anchor": "x2",
         "domain": [
          0.625,
          1
         ],
         "type": "log"
        },
        "yaxis3": {
         "anchor": "x3",
         "domain": [
          0,
          0.375
         ],
         "type": "log"
        },
        "yaxis4": {
         "anchor": "x4",
         "domain": [
          0,
          0.375
         ],
         "type": "log"
        }
       }
      }
     },
     "metadata": {},
     "output_type": "display_data"
    }
   ],
   "source": [
    "from plotly.subplots import make_subplots\n",
    "import plotly.graph_objects as go\n",
    "\n",
    "F = make_subplots(rows=2, cols=2, x_title=\"Year\", y_title=\"Reserves\", subplot_titles=[mineral for mineral in D[\"Primary Mineral\"].unique()])\n",
    "\n",
    "# Define a fixed color mapping for cathode types\n",
    "\n",
    "cathode_colors = {\"NMC111\": \"blue\", \"NMC532\": \"green\", \"NMC622\": \"orange\", \"NMC811\": \"purple\"}\n",
    "mineral_colors =  ['#636efa','#EF553B', '#00cc96', '#ab63fa']\n",
    "\n",
    "for i, mineral in enumerate(D[\"Primary Mineral\"].unique()):\n",
    "    M = D.loc[(D[\"Primary Mineral\"] == mineral) & (D[\"Cumulative Reserves\"] > 0)]\n",
    "    S = demand_by_cathode[demand_by_cathode[\"Full Element Name\"] == mineral]\n",
    "    \n",
    "    # Add the main mineral trace with its own legend group\n",
    "    F.add_trace(\n",
    "        go.Scatter(\n",
    "            x=M[\"Year\"], \n",
    "            y=M[\"Cumulative Reserves\"], \n",
    "            mode=\"lines+markers\",\n",
    "            legendgroup=mineral,\n",
    "            name=mineral,\n",
    "            marker=dict(\n",
    "                size=10,\n",
    "                color=mineral_colors[i]\n",
    "            ), \n",
    "            showlegend=True,\n",
    "            legend=\"legend1\"\n",
    "        ),\n",
    "        row=i // 2 + 1, \n",
    "        col=i % 2 + 1\n",
    "    )\n",
    "    \n",
    "    # Add cathode traces grouped by cathode type\n",
    "    for j,cathode in enumerate(S.columns[2:6]):\n",
    "        F.add_trace(\n",
    "            go.Scatter(\n",
    "                x=S[\"Year\"], \n",
    "                y=S[cathode], \n",
    "                mode=\"markers\",\n",
    "                legendgroup=cathode,  # Group by cathode type instead of mineral\n",
    "                name=cathode,\n",
    "                marker=dict(size=10,color=cathode_colors[cathode]),\n",
    "                # Only show in legend for last mineral to avoid duplicates\n",
    "                showlegend=(i == 0),\n",
    "                legend=\"legend2\",\n",
    "            ),\n",
    "            row=i // 2 + 1, \n",
    "            col=i % 2 + 1)\n",
    "    \n",
    "    # Add vertical line and annotation\n",
    "    F.add_vline(x=2024, line_dash=\"dash\", line_color=\"red\")\n",
    "    F.add_annotation(\n",
    "        x=2024, \n",
    "        text=\"Current Year\",\n",
    "        showarrow=True,\n",
    "        arrowhead=2,\n",
    "        yshift=10,\n",
    "        row=i // 2 + 1, \n",
    "        col=i % 2 + 1\n",
    "    )\n",
    "\n",
    "F.update_yaxes(type='log')\n",
    "F.update_layout(title=\"Cumulative Growth in Reserves Over the Years\",height=700,showlegend=True,\n",
    "                legend1=dict(title=dict(text=\"Mineral\")),\n",
    "                legend2=dict(title=dict(text=\"NMC Cathodes\"), y=0.1))\n",
    "F.show()"
   ]
  },
  {
   "cell_type": "code",
   "execution_count": 19,
   "id": "9134017e",
   "metadata": {},
   "outputs": [],
   "source": [
    "F.write_html(file=\"NMC_over_time.html\")"
   ]
  },
  {
   "cell_type": "code",
   "execution_count": 19,
   "id": "ca6640f9",
   "metadata": {},
   "outputs": [
    {
     "data": {
      "application/vnd.plotly.v1+json": {
       "config": {
        "plotlyServerURL": "https://plot.ly"
       },
       "data": [
        {
         "legend": "legend",
         "legendgroup": "Cobalt",
         "marker": {
          "color": "#636efa",
          "size": 10
         },
         "mode": "lines+markers",
         "name": "Cobalt",
         "showlegend": true,
         "type": "scatter",
         "x": {
          "bdata": "2gcAANsHAADcBwAA3QcAAN4HAADfBwAA4AcAAOEHAADiBwAA4wcAAOQHAADlBwAA5gcAAOcHAADoBwAA6QcAAOoHAADrBwAA7AcAAO0HAADuBwAA",
          "dtype": "i4"
         },
         "xaxis": "x",
         "y": {
          "bdata": "YVcAAOxZAACqdAUASjEMAFNTDQBbWg0AW1oNAN46DwAJLBEA00keAAgUVQB8jlkAipFkAKklpQDVOLMA1TizANU4swDVOLMA1TizANU4swDVOLMA",
          "dtype": "i4"
         },
         "yaxis": "y"
        },
        {
         "legend": "legend2",
         "legendgroup": "LiFePO4",
         "marker": {
          "size": 10
         },
         "mode": "markers",
         "name": "LiFePO4",
         "showlegend": true,
         "type": "scatter",
         "x": {
          "bdata": "2gfbB9wH3QfeB98H4AfhB+IH4wfkB+UH5gfnB+gH6QfqB+sH7AftB+4H",
          "dtype": "i2"
         },
         "xaxis": "x",
         "y": {
          "bdata": "AAAAAAAA+H8AAAAAAAD4fwAAAAAAAPh/AAAAAAAA+H8AAAAAAAD4fwAAAAAAAPh/AAAAAAAA+H8AAAAAAAD4fwAAAAAAAPh/AAAAAAAA+H8AAAAAAAD4fwAAAAAAAPh/AAAAAAAA+H8AAAAAAAD4fwAAAAAAAPh/AAAAAAAA+H8AAAAAAAD4fwAAAAAAAPh/AAAAAAAA+H8AAAAAAAD4fwAAAAAAAPh/",
          "dtype": "f8"
         },
         "yaxis": "y"
        },
        {
         "legend": "legend2",
         "legendgroup": "LiCoO2",
         "marker": {
          "size": 10
         },
         "mode": "markers",
         "name": "LiCoO2",
         "showlegend": true,
         "type": "scatter",
         "x": {
          "bdata": "2gfbB9wH3QfeB98H4AfhB+IH4wfkB+UH5gfnB+gH6QfqB+sH7AftB+4H",
          "dtype": "i2"
         },
         "xaxis": "x",
         "y": {
          "bdata": "L+2/sSGlv0Av7b+xIaXPQKvO5koyedVAL+2/sSGl30BCqplr3TDlQEsWnSQuBOhAychy0sxc70DzE9Va0vj7QLlds1jxvgRByGJhxJeWEEG3cRgvspUYQV7mdnTt+iFBFpRxF4i5K0HAeeN6wRcyQaWkGq/InzhBJzqpu9CGQUHSa1/KLm1EQX8k42pooUhBxuOVzl03TEHD78D494pOQS1O4Grs+U1B",
          "dtype": "f8"
         },
         "yaxis": "y"
        },
        {
         "legend": "legend2",
         "legendgroup": "LiCo2O4",
         "marker": {
          "size": 10
         },
         "mode": "markers",
         "name": "LiCo2O4",
         "showlegend": true,
         "type": "scatter",
         "x": {
          "bdata": "2gfbB9wH3QfeB98H4AfhB+IH4wfkB+UH5gfnB+gH6QfqB+sH7AftB+4H",
          "dtype": "i2"
         },
         "xaxis": "x",
         "y": {
          "bdata": "uIepNRMQzkC4h6k1ExDeQIh3ji1WZuRAuoepNRMQ7kC/YTgmnyH0QJQ7lW/F0PZA8nFTLlzL/UCLbErWx5IKQaMyd0dltRNBrzvswYaEH0Ft0vDfAlsnQXD0cPvHFDFBfBnfr6dWOkFETYsBKzBBQTTp8j+YZEdBPvcTf3mmUEHTDEFAuWdTQRHJVzIjZldBlct0tzLOWkHF41AsBQRdQREXVTI6elxB",
          "dtype": "f8"
         },
         "yaxis": "y"
        },
        {
         "legend": "legend2",
         "legendgroup": "LiTiS2",
         "marker": {
          "size": 10
         },
         "mode": "markers",
         "name": "LiTiS2",
         "showlegend": true,
         "type": "scatter",
         "x": {
          "bdata": "2gfbB9wH3QfeB98H4AfhB+IH4wfkB+UH5gfnB+gH6QfqB+sH7AftB+4H",
          "dtype": "i2"
         },
         "xaxis": "x",
         "y": {
          "bdata": "AAAAAAAA+H8AAAAAAAD4fwAAAAAAAPh/AAAAAAAA+H8AAAAAAAD4fwAAAAAAAPh/AAAAAAAA+H8AAAAAAAD4fwAAAAAAAPh/AAAAAAAA+H8AAAAAAAD4fwAAAAAAAPh/AAAAAAAA+H8AAAAAAAD4fwAAAAAAAPh/AAAAAAAA+H8AAAAAAAD4fwAAAAAAAPh/AAAAAAAA+H8AAAAAAAD4fwAAAAAAAPh/",
          "dtype": "f8"
         },
         "yaxis": "y"
        },
        {
         "legend": "legend2",
         "legendgroup": "LiMn2O4",
         "marker": {
          "size": 10
         },
         "mode": "markers",
         "name": "LiMn2O4",
         "showlegend": true,
         "type": "scatter",
         "x": {
          "bdata": "2gfbB9wH3QfeB98H4AfhB+IH4wfkB+UH5gfnB+gH6QfqB+sH7AftB+4H",
          "dtype": "i2"
         },
         "xaxis": "x",
         "y": {
          "bdata": "AAAAAAAA+H8AAAAAAAD4fwAAAAAAAPh/AAAAAAAA+H8AAAAAAAD4fwAAAAAAAPh/AAAAAAAA+H8AAAAAAAD4fwAAAAAAAPh/AAAAAAAA+H8AAAAAAAD4fwAAAAAAAPh/AAAAAAAA+H8AAAAAAAD4fwAAAAAAAPh/AAAAAAAA+H8AAAAAAAD4fwAAAAAAAPh/AAAAAAAA+H8AAAAAAAD4fwAAAAAAAPh/",
          "dtype": "f8"
         },
         "yaxis": "y"
        },
        {
         "legend": "legend2",
         "legendgroup": "LiMnO2",
         "marker": {
          "size": 10
         },
         "mode": "markers",
         "name": "LiMnO2",
         "showlegend": true,
         "type": "scatter",
         "x": {
          "bdata": "2gfbB9wH3QfeB98H4AfhB+IH4wfkB+UH5gfnB+gH6QfqB+sH7AftB+4H",
          "dtype": "i2"
         },
         "xaxis": "x",
         "y": {
          "bdata": "AAAAAAAA+H8AAAAAAAD4fwAAAAAAAPh/AAAAAAAA+H8AAAAAAAD4fwAAAAAAAPh/AAAAAAAA+H8AAAAAAAD4fwAAAAAAAPh/AAAAAAAA+H8AAAAAAAD4fwAAAAAAAPh/AAAAAAAA+H8AAAAAAAD4fwAAAAAAAPh/AAAAAAAA+H8AAAAAAAD4fwAAAAAAAPh/AAAAAAAA+H8AAAAAAAD4fwAAAAAAAPh/",
          "dtype": "f8"
         },
         "yaxis": "y"
        },
        {
         "legend": "legend2",
         "legendgroup": "LiNiO2",
         "marker": {
          "size": 10
         },
         "mode": "markers",
         "name": "LiNiO2",
         "showlegend": true,
         "type": "scatter",
         "x": {
          "bdata": "2gfbB9wH3QfeB98H4AfhB+IH4wfkB+UH5gfnB+gH6QfqB+sH7AftB+4H",
          "dtype": "i2"
         },
         "xaxis": "x",
         "y": {
          "bdata": "AAAAAAAA+H8AAAAAAAD4fwAAAAAAAPh/AAAAAAAA+H8AAAAAAAD4fwAAAAAAAPh/AAAAAAAA+H8AAAAAAAD4fwAAAAAAAPh/AAAAAAAA+H8AAAAAAAD4fwAAAAAAAPh/AAAAAAAA+H8AAAAAAAD4fwAAAAAAAPh/AAAAAAAA+H8AAAAAAAD4fwAAAAAAAPh/AAAAAAAA+H8AAAAAAAD4fwAAAAAAAPh/",
          "dtype": "f8"
         },
         "yaxis": "y"
        },
        {
         "legend": "legend2",
         "legendgroup": "LiNiCoAlO2(0.8:0.15:0.05)",
         "marker": {
          "size": 10
         },
         "mode": "markers",
         "name": "LiNiCoAlO2(0.8:0.15:0.05)",
         "showlegend": true,
         "type": "scatter",
         "x": {
          "bdata": "2gfbB9wH3QfeB98H4AfhB+IH4wfkB+UH5gfnB+gH6QfqB+sH7AftB+4H",
          "dtype": "i2"
         },
         "xaxis": "x",
         "y": {
          "bdata": "MO2/sSGlv0Av7b+xIaXPQKvO5koyedVAL+2/sSGl30BDqplr3TDlQEsWnSQuBOhAychy0sxc70DzE9Va0vj7QLlds1jxvgRByGJhxJeWEEG3cRgvspUYQV7mdnTt+iFBF5RxF4i5K0HAeeN6wRcyQaWkGq/InzhBJzqpu9CGQUHSa1/KLm1EQX0k42pooUhBxuOVzl03TEHD78D494pOQS1O4Grs+U1B",
          "dtype": "f8"
         },
         "yaxis": "y"
        },
        {
         "legend": "legend",
         "legendgroup": "Lithium",
         "marker": {
          "color": "#EF553B",
          "size": 10
         },
         "mode": "lines+markers",
         "name": "Lithium",
         "showlegend": true,
         "type": "scatter",
         "x": {
          "bdata": "2gcAANsHAADcBwAA3QcAAN4HAADfBwAA4AcAAOEHAADiBwAA4wcAAOQHAADlBwAA5gcAAOcHAADoBwAA6QcAAOoHAADrBwAA7AcAAO0HAADuBwAA",
          "dtype": "i4"
         },
         "xaxis": "x2",
         "y": {
          "bdata": "TDoGACtmBgDIlhQAyJYUAMiWFADIlhQAJAdIAMRWgACPcI8AP/I+ARPaRgEFk3wCwcN9BXRYIgvhsF0Q4bBdEOGwXRDhsF0Q4bBdEOGwXRDhsF0Q",
          "dtype": "i4"
         },
         "yaxis": "y2"
        },
        {
         "legend": "legend2",
         "legendgroup": "LiFePO4",
         "marker": {
          "size": 10
         },
         "mode": "markers",
         "name": "LiFePO4",
         "showlegend": false,
         "type": "scatter",
         "x": {
          "bdata": "2gfbB9wH3QfeB98H4AfhB+IH4wfkB+UH5gfnB+gH6QfqB+sH7AftB+4H",
          "dtype": "i2"
         },
         "xaxis": "x2",
         "y": {
          "bdata": "uDtMivWFm0C4O0yK9YWrQD2WasIvrbJAuDtMivWFu0Brw8C1Rm7CQJz/YjRh48RA52iifQxHy0ASh6zlH1TYQC3kzkExC+JAGXJ6uvLa7ECxgLcq8WH1QDP9PtrKRv9Am+6X+hMdCEHEGPFn8HgPQRJj1ku3ahVBuroMs9B8HkHFav7nFMQhQRqaZuEgbCVBdB+G24WKKEHlj71CjJAqQZI2gRdlEipB",
          "dtype": "f8"
         },
         "yaxis": "y2"
        },
        {
         "legend": "legend2",
         "legendgroup": "LiCoO2",
         "marker": {
          "size": 10
         },
         "mode": "markers",
         "name": "LiCoO2",
         "showlegend": false,
         "type": "scatter",
         "x": {
          "bdata": "2gfbB9wH3QfeB98H4AfhB+IH4wfkB+UH5gfnB+gH6QfqB+sH7AftB+4H",
          "dtype": "i2"
         },
         "xaxis": "x2",
         "y": {
          "bdata": "xovOB93vlEDEi84H3e+kQB+ZKq8ZaqxAxYvOB93vtEAOMplzYwq8QLo4R8eBx79APNgF6gHAxEDVbZ2EvIHSQIT8YG+kc9tApdyt/EDz5UCpggyNB0TwQJkGQQLFyvdAvtCNytxXAkFmajeK6vAHQeJRrC60ShBBZYETHyAxF0HCeuxSdAcbQbu+Uz3HSyBBPLolAB6rIkG77+zRLTUkQWcn5d821SNB",
          "dtype": "f8"
         },
         "yaxis": "y2"
        },
        {
         "legend": "legend2",
         "legendgroup": "LiCo2O4",
         "marker": {
          "size": 10
         },
         "mode": "markers",
         "name": "LiCo2O4",
         "showlegend": false,
         "type": "scatter",
         "x": {
          "bdata": "2gfbB9wH3QfeB98H4AfhB+IH4wfkB+UH5gfnB+gH6QfqB+sH7AftB+4H",
          "dtype": "i2"
         },
         "xaxis": "x2",
         "y": {
          "bdata": "Q1dlPiQ2mUBDV2U+JDapQO3oDZiYG7FAQldlPiQ2uUDcJTZF+OHAQILEo4E7IsNAM5SN64P8yEBqb3AJAEnWQNWFVVw1h+BAr2A/Vn1u6kBjGc4RKpbzQHQSjkxFpvxAvaTzwJMWBkHs446TNNQMQTNFq4kznhNBOvivJULtG0FA2m8QEkYgQUY9SsB+nyNB9D0yTdR6JkEiGH3nV1UoQSn/GlXJ4SdB",
          "dtype": "f8"
         },
         "yaxis": "y2"
        },
        {
         "legend": "legend2",
         "legendgroup": "LiTiS2",
         "marker": {
          "size": 10
         },
         "mode": "markers",
         "name": "LiTiS2",
         "showlegend": false,
         "type": "scatter",
         "x": {
          "bdata": "2gfbB9wH3QfeB98H4AfhB+IH4wfkB+UH5gfnB+gH6QfqB+sH7AftB+4H",
          "dtype": "i2"
         },
         "xaxis": "x2",
         "y": {
          "bdata": "63ionhY8pkDteKieFjy2QEDtdiD6LL5A6nionhY8xkA7NMYmVcfNQDK31nPj39BAaRzQIUQJ1kBQxqtHZqfjQNUQgx0+J+1AAp6NjI5P90A93ibPIUYBQYQvu4RMRAlBXnVuGu56E0FJ19Jaz2wZQQeUG1k4TSFBzVSaoCGhKEF35+ZKWbQsQYY7VXRcTjFBi7knY1jTM0HKFEwg1XU1QY2WSm3rDzVB",
          "dtype": "f8"
         },
         "yaxis": "y2"
        },
        {
         "legend": "legend2",
         "legendgroup": "LiMn2O4",
         "marker": {
          "size": 10
         },
         "mode": "markers",
         "name": "LiMn2O4",
         "showlegend": false,
         "type": "scatter",
         "x": {
          "bdata": "2gfbB9wH3QfeB98H4AfhB+IH4wfkB+UH5gfnB+gH6QfqB+sH7AftB+4H",
          "dtype": "i2"
         },
         "xaxis": "x2",
         "y": {
          "bdata": "KOGXuN8jmEAq4Ze43yOoQIDG1GF8YbBAKeGXuN8juEA1IsH0TirAQCqNhTcVUsJA3zyES7Lsx0BPiZgukVbVQK3L6tHOpt9AJZaG4fJO6UBs9S2YFsHyQDqWwiKabvtAj1knb0kmBUHtkGG0lZoLQQzMgqHIyBJB+85UrHO9GkEVCXV0ESofQRT598QFyiJB7UgRX0eGJUFkSX7joEwnQcreW2z73SZB",
          "dtype": "f8"
         },
         "yaxis": "y2"
        },
        {
         "legend": "legend2",
         "legendgroup": "LiMnO2",
         "marker": {
          "size": 10
         },
         "mode": "markers",
         "name": "LiMnO2",
         "showlegend": false,
         "type": "scatter",
         "x": {
          "bdata": "2gfbB9wH3QfeB98H4AfhB+IH4wfkB+UH5gfnB+gH6QfqB+sH7AftB+4H",
          "dtype": "i2"
         },
         "xaxis": "x2",
         "y": {
          "bdata": "DxVL+d/Tl0ANFUv539OnQErOKWkzK7BADRVL+d/Tt0Aw/N+teem/QPofMo1eFcJA3EQRZ2mdx0CbgluM2g/VQGesdpTqPd9A+3dPBBT76EDf1EsQ8ILyQG4JvqKxE/tAcuxozDLgBEGDfsxyGz8LQfA5CpmIihJBUnQkPdZkGkEneVeYysIeQVbUhKHBiyJBxwC1n/I+JUH309Bzav8mQXGfpakzkiZB",
          "dtype": "f8"
         },
         "yaxis": "y2"
        },
        {
         "legend": "legend2",
         "legendgroup": "LiNiO2",
         "marker": {
          "size": 10
         },
         "mode": "markers",
         "name": "LiNiO2",
         "showlegend": false,
         "type": "scatter",
         "x": {
          "bdata": "2gfbB9wH3QfeB98H4AfhB+IH4wfkB+UH5gfnB+gH6QfqB+sH7AftB+4H",
          "dtype": "i2"
         },
         "xaxis": "x2",
         "y": {
          "bdata": "Fnzug6MVlkAZfO6DoxWmQGqow6DL+K1AF3zug6MVtkAyZh9s1pO9QC3+RD21wsBA/Fqc6SjjxUCxzcKtaYXTQLNKNjnU9NxA7fR8Fj8n50BgL0zKQijxQGDqyySbGPlAt/C6Zj5ZA0HrhQLt10AJQV9bcRJNLxFBdittaYp2GEG/9AkVtoIcQWM9ijRvMCFBuI/gyg+xI0FiApfbuFAlQY1oeWR/6yRB",
          "dtype": "f8"
         },
         "yaxis": "y2"
        },
        {
         "legend": "legend2",
         "legendgroup": "LiNiCoAlO2(0.8:0.15:0.05)",
         "marker": {
          "size": 10
         },
         "mode": "markers",
         "name": "LiNiCoAlO2(0.8:0.15:0.05)",
         "showlegend": false,
         "type": "scatter",
         "x": {
          "bdata": "2gfbB9wH3QfeB98H4AfhB+IH4wfkB+UH5gfnB+gH6QfqB+sH7AftB+4H",
          "dtype": "i2"
         },
         "xaxis": "x2",
         "y": {
          "bdata": "EXW1MGTTlEATdbUwZNOkQCyx0a91Q6xAEnW1MGTTtEBd4amcQeS7QGr/N1xKnL9AK40hJ8qjxEBXrjK0kWjSQBH6F5hPTttAJsRPZ2fV5UCk17Lq6C3wQJVX5zZqqvdAbkPR6+o+AkFzJsreW9AHQehnxHiMNBBBZZI9RJYRF0G6OWKbsuIaQURxXxGeNSBBcoW66bqRIkEWd8HZshkkQWbjI2g+uiNB",
          "dtype": "f8"
         },
         "yaxis": "y2"
        },
        {
         "legend": "legend",
         "legendgroup": "Nickel",
         "marker": {
          "color": "#00cc96",
          "size": 10
         },
         "mode": "lines+markers",
         "name": "Nickel",
         "showlegend": true,
         "type": "scatter",
         "x": {
          "bdata": "2gcAANsHAADcBwAA3QcAAN4HAADfBwAA4AcAAOEHAADiBwAA4wcAAOQHAADlBwAA5gcAAOcHAADoBwAA6QcAAOoHAADrBwAA7AcAAO0HAADuBwAA",
          "dtype": "i4"
         },
         "xaxis": "x3",
         "y": {
          "bdata": "yywXAHNkRgD4Kf8A/6J8AWOavAHPB8YBQ2HGAUqzMwI4EUgCPegwA9pZxQTDZOIELpOfBQ++HwvLbLQOy2y0DststA7LbLQOy2y0DststA7LbLQO",
          "dtype": "i4"
         },
         "yaxis": "y3"
        },
        {
         "legend": "legend2",
         "legendgroup": "LiFePO4",
         "marker": {
          "size": 10
         },
         "mode": "markers",
         "name": "LiFePO4",
         "showlegend": false,
         "type": "scatter",
         "x": {
          "bdata": "2gfbB9wH3QfeB98H4AfhB+IH4wfkB+UH5gfnB+gH6QfqB+sH7AftB+4H",
          "dtype": "i2"
         },
         "xaxis": "x3",
         "y": {
          "bdata": "AAAAAAAA+H8AAAAAAAD4fwAAAAAAAPh/AAAAAAAA+H8AAAAAAAD4fwAAAAAAAPh/AAAAAAAA+H8AAAAAAAD4fwAAAAAAAPh/AAAAAAAA+H8AAAAAAAD4fwAAAAAAAPh/AAAAAAAA+H8AAAAAAAD4fwAAAAAAAPh/AAAAAAAA+H8AAAAAAAD4fwAAAAAAAPh/AAAAAAAA+H8AAAAAAAD4fwAAAAAAAPh/",
          "dtype": "f8"
         },
         "yaxis": "y3"
        },
        {
         "legend": "legend2",
         "legendgroup": "LiCoO2",
         "marker": {
          "size": 10
         },
         "mode": "markers",
         "name": "LiCoO2",
         "showlegend": false,
         "type": "scatter",
         "x": {
          "bdata": "2gfbB9wH3QfeB98H4AfhB+IH4wfkB+UH5gfnB+gH6QfqB+sH7AftB+4H",
          "dtype": "i2"
         },
         "xaxis": "x3",
         "y": {
          "bdata": "AAAAAAAA+H8AAAAAAAD4fwAAAAAAAPh/AAAAAAAA+H8AAAAAAAD4fwAAAAAAAPh/AAAAAAAA+H8AAAAAAAD4fwAAAAAAAPh/AAAAAAAA+H8AAAAAAAD4fwAAAAAAAPh/AAAAAAAA+H8AAAAAAAD4fwAAAAAAAPh/AAAAAAAA+H8AAAAAAAD4fwAAAAAAAPh/AAAAAAAA+H8AAAAAAAD4fwAAAAAAAPh/",
          "dtype": "f8"
         },
         "yaxis": "y3"
        },
        {
         "legend": "legend2",
         "legendgroup": "LiCo2O4",
         "marker": {
          "size": 10
         },
         "mode": "markers",
         "name": "LiCo2O4",
         "showlegend": false,
         "type": "scatter",
         "x": {
          "bdata": "2gfbB9wH3QfeB98H4AfhB+IH4wfkB+UH5gfnB+gH6QfqB+sH7AftB+4H",
          "dtype": "i2"
         },
         "xaxis": "x3",
         "y": {
          "bdata": "AAAAAAAA+H8AAAAAAAD4fwAAAAAAAPh/AAAAAAAA+H8AAAAAAAD4fwAAAAAAAPh/AAAAAAAA+H8AAAAAAAD4fwAAAAAAAPh/AAAAAAAA+H8AAAAAAAD4fwAAAAAAAPh/AAAAAAAA+H8AAAAAAAD4fwAAAAAAAPh/AAAAAAAA+H8AAAAAAAD4fwAAAAAAAPh/AAAAAAAA+H8AAAAAAAD4fwAAAAAAAPh/",
          "dtype": "f8"
         },
         "yaxis": "y3"
        },
        {
         "legend": "legend2",
         "legendgroup": "LiTiS2",
         "marker": {
          "size": 10
         },
         "mode": "markers",
         "name": "LiTiS2",
         "showlegend": false,
         "type": "scatter",
         "x": {
          "bdata": "2gfbB9wH3QfeB98H4AfhB+IH4wfkB+UH5gfnB+gH6QfqB+sH7AftB+4H",
          "dtype": "i2"
         },
         "xaxis": "x3",
         "y": {
          "bdata": "AAAAAAAA+H8AAAAAAAD4fwAAAAAAAPh/AAAAAAAA+H8AAAAAAAD4fwAAAAAAAPh/AAAAAAAA+H8AAAAAAAD4fwAAAAAAAPh/AAAAAAAA+H8AAAAAAAD4fwAAAAAAAPh/AAAAAAAA+H8AAAAAAAD4fwAAAAAAAPh/AAAAAAAA+H8AAAAAAAD4fwAAAAAAAPh/AAAAAAAA+H8AAAAAAAD4fwAAAAAAAPh/",
          "dtype": "f8"
         },
         "yaxis": "y3"
        },
        {
         "legend": "legend2",
         "legendgroup": "LiMn2O4",
         "marker": {
          "size": 10
         },
         "mode": "markers",
         "name": "LiMn2O4",
         "showlegend": false,
         "type": "scatter",
         "x": {
          "bdata": "2gfbB9wH3QfeB98H4AfhB+IH4wfkB+UH5gfnB+gH6QfqB+sH7AftB+4H",
          "dtype": "i2"
         },
         "xaxis": "x3",
         "y": {
          "bdata": "AAAAAAAA+H8AAAAAAAD4fwAAAAAAAPh/AAAAAAAA+H8AAAAAAAD4fwAAAAAAAPh/AAAAAAAA+H8AAAAAAAD4fwAAAAAAAPh/AAAAAAAA+H8AAAAAAAD4fwAAAAAAAPh/AAAAAAAA+H8AAAAAAAD4fwAAAAAAAPh/AAAAAAAA+H8AAAAAAAD4fwAAAAAAAPh/AAAAAAAA+H8AAAAAAAD4fwAAAAAAAPh/",
          "dtype": "f8"
         },
         "yaxis": "y3"
        },
        {
         "legend": "legend2",
         "legendgroup": "LiMnO2",
         "marker": {
          "size": 10
         },
         "mode": "markers",
         "name": "LiMnO2",
         "showlegend": false,
         "type": "scatter",
         "x": {
          "bdata": "2gfbB9wH3QfeB98H4AfhB+IH4wfkB+UH5gfnB+gH6QfqB+sH7AftB+4H",
          "dtype": "i2"
         },
         "xaxis": "x3",
         "y": {
          "bdata": "AAAAAAAA+H8AAAAAAAD4fwAAAAAAAPh/AAAAAAAA+H8AAAAAAAD4fwAAAAAAAPh/AAAAAAAA+H8AAAAAAAD4fwAAAAAAAPh/AAAAAAAA+H8AAAAAAAD4fwAAAAAAAPh/AAAAAAAA+H8AAAAAAAD4fwAAAAAAAPh/AAAAAAAA+H8AAAAAAAD4fwAAAAAAAPh/AAAAAAAA+H8AAAAAAAD4fwAAAAAAAPh/",
          "dtype": "f8"
         },
         "yaxis": "y3"
        },
        {
         "legend": "legend2",
         "legendgroup": "LiNiO2",
         "marker": {
          "size": 10
         },
         "mode": "markers",
         "name": "LiNiO2",
         "showlegend": false,
         "type": "scatter",
         "x": {
          "bdata": "2gfbB9wH3QfeB98H4AfhB+IH4wfkB+UH5gfnB+gH6QfqB+sH7AftB+4H",
          "dtype": "i2"
         },
         "xaxis": "x3",
         "y": {
          "bdata": "QXbuaS+iwEBBdu5pL6LQQKLpVTT3ktZAQXbuaS+i4ECq8AM37UbmQFqqNxxRP+lAxnlFayp88EDtR7P23Gf9QLw7CUgqzwVBl0HYjUJwEUHcuiuTStgZQQzoV/vb5iJBEo4LOVQlLUEHJLZIKgUzQS5VInLl4jlB2dvEqctsQkFeEufjNnlFQcAIE32a5ElBxjLxHJ2pTUH8QIVQ3w1QQQjGsNNDg09B",
          "dtype": "f8"
         },
         "yaxis": "y3"
        },
        {
         "legend": "legend2",
         "legendgroup": "LiNiCoAlO2(0.8:0.15:0.05)",
         "marker": {
          "size": 10
         },
         "mode": "markers",
         "name": "LiNiCoAlO2(0.8:0.15:0.05)",
         "showlegend": false,
         "type": "scatter",
         "x": {
          "bdata": "2gfbB9wH3QfeB98H4AfhB+IH4wfkB+UH5gfnB+gH6QfqB+sH7AftB+4H",
          "dtype": "i2"
         },
         "xaxis": "x3",
         "y": {
          "bdata": "biMi8SOEv0BtIyLxI4TPQMAFDj/PYtVAbSMi8SOE30Amk1TIxRrlQC0Nk2sk6+dA1LBoeho870CZUbfpqNv7QN2xI3pQqQRBuRVhhkyFEEFz2VHBEHwYQRlVOLgu6CFBVA3VoaCcK0Hojayw5AQyQdEa+LwchjhB54yfDIt0QUF09r8o41dEQZxmVce6h0hB74DkKPMZTEGOo6tiIGtOQZDW6gus2k1B",
          "dtype": "f8"
         },
         "yaxis": "y3"
        },
        {
         "legend": "legend",
         "legendgroup": "Manganese",
         "marker": {
          "color": "#ab63fa",
          "size": 10
         },
         "mode": "lines+markers",
         "name": "Manganese",
         "showlegend": true,
         "type": "scatter",
         "x": {
          "bdata": "3AcAAN0HAADeBwAA3wcAAOAHAADhBwAA4gcAAOMHAADkBwAA5QcAAOYHAADnBwAA6AcAAOkHAADqBwAA6wcAAOwHAADtBwAA7gcAAA==",
          "dtype": "i4"
         },
         "xaxis": "x4",
         "y": [
          370883000,
          550883000,
          686371474,
          700341474,
          700341474,
          709641474,
          709641474,
          717441474,
          885101474,
          950251474,
          1040071474,
          2432587027,
          3757622411,
          3757622411,
          3757622411,
          3757622411,
          3757622411,
          3757622411,
          3757622411
         ],
         "yaxis": "y4"
        },
        {
         "legend": "legend2",
         "legendgroup": "LiFePO4",
         "marker": {
          "size": 10
         },
         "mode": "markers",
         "name": "LiFePO4",
         "showlegend": false,
         "type": "scatter",
         "x": {
          "bdata": "2gfbB9wH3QfeB98H4AfhB+IH4wfkB+UH5gfnB+gH6QfqB+sH7AftB+4H",
          "dtype": "i2"
         },
         "xaxis": "x4",
         "y": {
          "bdata": "AAAAAAAA+H8AAAAAAAD4fwAAAAAAAPh/AAAAAAAA+H8AAAAAAAD4fwAAAAAAAPh/AAAAAAAA+H8AAAAAAAD4fwAAAAAAAPh/AAAAAAAA+H8AAAAAAAD4fwAAAAAAAPh/AAAAAAAA+H8AAAAAAAD4fwAAAAAAAPh/AAAAAAAA+H8AAAAAAAD4fwAAAAAAAPh/AAAAAAAA+H8AAAAAAAD4fwAAAAAAAPh/",
          "dtype": "f8"
         },
         "yaxis": "y4"
        },
        {
         "legend": "legend2",
         "legendgroup": "LiCoO2",
         "marker": {
          "size": 10
         },
         "mode": "markers",
         "name": "LiCoO2",
         "showlegend": false,
         "type": "scatter",
         "x": {
          "bdata": "2gfbB9wH3QfeB98H4AfhB+IH4wfkB+UH5gfnB+gH6QfqB+sH7AftB+4H",
          "dtype": "i2"
         },
         "xaxis": "x4",
         "y": {
          "bdata": "AAAAAAAA+H8AAAAAAAD4fwAAAAAAAPh/AAAAAAAA+H8AAAAAAAD4fwAAAAAAAPh/AAAAAAAA+H8AAAAAAAD4fwAAAAAAAPh/AAAAAAAA+H8AAAAAAAD4fwAAAAAAAPh/AAAAAAAA+H8AAAAAAAD4fwAAAAAAAPh/AAAAAAAA+H8AAAAAAAD4fwAAAAAAAPh/AAAAAAAA+H8AAAAAAAD4fwAAAAAAAPh/",
          "dtype": "f8"
         },
         "yaxis": "y4"
        },
        {
         "legend": "legend2",
         "legendgroup": "LiCo2O4",
         "marker": {
          "size": 10
         },
         "mode": "markers",
         "name": "LiCo2O4",
         "showlegend": false,
         "type": "scatter",
         "x": {
          "bdata": "2gfbB9wH3QfeB98H4AfhB+IH4wfkB+UH5gfnB+gH6QfqB+sH7AftB+4H",
          "dtype": "i2"
         },
         "xaxis": "x4",
         "y": {
          "bdata": "AAAAAAAA+H8AAAAAAAD4fwAAAAAAAPh/AAAAAAAA+H8AAAAAAAD4fwAAAAAAAPh/AAAAAAAA+H8AAAAAAAD4fwAAAAAAAPh/AAAAAAAA+H8AAAAAAAD4fwAAAAAAAPh/AAAAAAAA+H8AAAAAAAD4fwAAAAAAAPh/AAAAAAAA+H8AAAAAAAD4fwAAAAAAAPh/AAAAAAAA+H8AAAAAAAD4fwAAAAAAAPh/",
          "dtype": "f8"
         },
         "yaxis": "y4"
        },
        {
         "legend": "legend2",
         "legendgroup": "LiTiS2",
         "marker": {
          "size": 10
         },
         "mode": "markers",
         "name": "LiTiS2",
         "showlegend": false,
         "type": "scatter",
         "x": {
          "bdata": "2gfbB9wH3QfeB98H4AfhB+IH4wfkB+UH5gfnB+gH6QfqB+sH7AftB+4H",
          "dtype": "i2"
         },
         "xaxis": "x4",
         "y": {
          "bdata": "AAAAAAAA+H8AAAAAAAD4fwAAAAAAAPh/AAAAAAAA+H8AAAAAAAD4fwAAAAAAAPh/AAAAAAAA+H8AAAAAAAD4fwAAAAAAAPh/AAAAAAAA+H8AAAAAAAD4fwAAAAAAAPh/AAAAAAAA+H8AAAAAAAD4fwAAAAAAAPh/AAAAAAAA+H8AAAAAAAD4fwAAAAAAAPh/AAAAAAAA+H8AAAAAAAD4fwAAAAAAAPh/",
          "dtype": "f8"
         },
         "yaxis": "y4"
        },
        {
         "legend": "legend2",
         "legendgroup": "LiMn2O4",
         "marker": {
          "size": 10
         },
         "mode": "markers",
         "name": "LiMn2O4",
         "showlegend": false,
         "type": "scatter",
         "x": {
          "bdata": "2gfbB9wH3QfeB98H4AfhB+IH4wfkB+UH5gfnB+gH6QfqB+sH7AftB+4H",
          "dtype": "i2"
         },
         "xaxis": "x4",
         "y": {
          "bdata": "n/eG52FXy0Cf94bnYVfbQJpMibiUjeJAn/eG52FX60D2zuUhFk/yQFu3SAQIwPRA/HnjUOMY+0BPljlB9CoIQeG1Cluo7BFBVdVtDB6qHEEc+EPNwT0lQR4bPzvdES9BX4hqfUX0N0GXpWPsrUM/QZSSVhV5RkVBJROb4DhJTkF5A9RXBKZRQaQ/AUfgR1VB0PGlKP5gWEG1BQvtl2NaQZFZ0T1G5llB",
          "dtype": "f8"
         },
         "yaxis": "y4"
        },
        {
         "legend": "legend2",
         "legendgroup": "LiMnO2",
         "marker": {
          "size": 10
         },
         "mode": "markers",
         "name": "LiMnO2",
         "showlegend": false,
         "type": "scatter",
         "x": {
          "bdata": "2gfbB9wH3QfeB98H4AfhB+IH4wfkB+UH5gfnB+gH6QfqB+sH7AftB+4H",
          "dtype": "i2"
         },
         "xaxis": "x4",
         "y": {
          "bdata": "diUK6Rn8wEB2JQrpGfzQQGpXspf+DNdAdiUK6Rn84EBQu/aOWb/mQEnUSubLx+lAalesZEfV8ECqXY1g0gb+QA8/zzoPRQZB7Je4B4fOEUHFQ5pMAGQaQRBqgG4JTSNBEjXp+OHCLUFqFfiO+2szQXMLXH/UbjpB7qq1RWXQQkGVG9E2S+1FQXwB08SScEpBKRVx9PVJTkFtB0ETqGRQQX0cQIvOFlBB",
          "dtype": "f8"
         },
         "yaxis": "y4"
        },
        {
         "legend": "legend2",
         "legendgroup": "LiNiO2",
         "marker": {
          "size": 10
         },
         "mode": "markers",
         "name": "LiNiO2",
         "showlegend": false,
         "type": "scatter",
         "x": {
          "bdata": "2gfbB9wH3QfeB98H4AfhB+IH4wfkB+UH5gfnB+gH6QfqB+sH7AftB+4H",
          "dtype": "i2"
         },
         "xaxis": "x4",
         "y": {
          "bdata": "AAAAAAAA+H8AAAAAAAD4fwAAAAAAAPh/AAAAAAAA+H8AAAAAAAD4fwAAAAAAAPh/AAAAAAAA+H8AAAAAAAD4fwAAAAAAAPh/AAAAAAAA+H8AAAAAAAD4fwAAAAAAAPh/AAAAAAAA+H8AAAAAAAD4fwAAAAAAAPh/AAAAAAAA+H8AAAAAAAD4fwAAAAAAAPh/AAAAAAAA+H8AAAAAAAD4fwAAAAAAAPh/",
          "dtype": "f8"
         },
         "yaxis": "y4"
        },
        {
         "legend": "legend2",
         "legendgroup": "LiNiCoAlO2(0.8:0.15:0.05)",
         "marker": {
          "size": 10
         },
         "mode": "markers",
         "name": "LiNiCoAlO2(0.8:0.15:0.05)",
         "showlegend": false,
         "type": "scatter",
         "x": {
          "bdata": "2gfbB9wH3QfeB98H4AfhB+IH4wfkB+UH5gfnB+gH6QfqB+sH7AftB+4H",
          "dtype": "i2"
         },
         "xaxis": "x4",
         "y": {
          "bdata": "AAAAAAAA+H8AAAAAAAD4fwAAAAAAAPh/AAAAAAAA+H8AAAAAAAD4fwAAAAAAAPh/AAAAAAAA+H8AAAAAAAD4fwAAAAAAAPh/AAAAAAAA+H8AAAAAAAD4fwAAAAAAAPh/AAAAAAAA+H8AAAAAAAD4fwAAAAAAAPh/AAAAAAAA+H8AAAAAAAD4fwAAAAAAAPh/AAAAAAAA+H8AAAAAAAD4fwAAAAAAAPh/",
          "dtype": "f8"
         },
         "yaxis": "y4"
        }
       ],
       "layout": {
        "annotations": [
         {
          "font": {
           "size": 16
          },
          "showarrow": false,
          "text": "Cobalt",
          "x": 0.225,
          "xanchor": "center",
          "xref": "paper",
          "y": 1,
          "yanchor": "bottom",
          "yref": "paper"
         },
         {
          "font": {
           "size": 16
          },
          "showarrow": false,
          "text": "Lithium",
          "x": 0.775,
          "xanchor": "center",
          "xref": "paper",
          "y": 1,
          "yanchor": "bottom",
          "yref": "paper"
         },
         {
          "font": {
           "size": 16
          },
          "showarrow": false,
          "text": "Nickel",
          "x": 0.225,
          "xanchor": "center",
          "xref": "paper",
          "y": 0.375,
          "yanchor": "bottom",
          "yref": "paper"
         },
         {
          "font": {
           "size": 16
          },
          "showarrow": false,
          "text": "Manganese",
          "x": 0.775,
          "xanchor": "center",
          "xref": "paper",
          "y": 0.375,
          "yanchor": "bottom",
          "yref": "paper"
         },
         {
          "font": {
           "size": 16
          },
          "showarrow": false,
          "text": "Year",
          "x": 0.5,
          "xanchor": "center",
          "xref": "paper",
          "y": 0,
          "yanchor": "top",
          "yref": "paper",
          "yshift": -30
         },
         {
          "font": {
           "size": 16
          },
          "showarrow": false,
          "text": "Reserves",
          "textangle": -90,
          "x": 0,
          "xanchor": "right",
          "xref": "paper",
          "xshift": -40,
          "y": 0.5,
          "yanchor": "middle",
          "yref": "paper"
         },
         {
          "arrowhead": 2,
          "showarrow": true,
          "text": "Current Year",
          "x": 2024,
          "xref": "x",
          "yref": "y",
          "yshift": 10
         },
         {
          "arrowhead": 2,
          "showarrow": true,
          "text": "Current Year",
          "x": 2024,
          "xref": "x2",
          "yref": "y2",
          "yshift": 10
         },
         {
          "arrowhead": 2,
          "showarrow": true,
          "text": "Current Year",
          "x": 2024,
          "xref": "x3",
          "yref": "y3",
          "yshift": 10
         },
         {
          "arrowhead": 2,
          "showarrow": true,
          "text": "Current Year",
          "x": 2024,
          "xref": "x4",
          "yref": "y4",
          "yshift": 10
         }
        ],
        "height": 700,
        "legend": {
         "title": {
          "text": "Mineral"
         }
        },
        "legend2": {
         "title": {
          "text": "LIB Cathodes"
         },
         "y": 0.1
        },
        "shapes": [
         {
          "line": {
           "color": "red",
           "dash": "dash"
          },
          "type": "line",
          "x0": 2024,
          "x1": 2024,
          "xref": "x",
          "y0": 0,
          "y1": 1,
          "yref": "y domain"
         },
         {
          "line": {
           "color": "red",
           "dash": "dash"
          },
          "type": "line",
          "x0": 2024,
          "x1": 2024,
          "xref": "x",
          "y0": 0,
          "y1": 1,
          "yref": "y domain"
         },
         {
          "line": {
           "color": "red",
           "dash": "dash"
          },
          "type": "line",
          "x0": 2024,
          "x1": 2024,
          "xref": "x2",
          "y0": 0,
          "y1": 1,
          "yref": "y2 domain"
         },
         {
          "line": {
           "color": "red",
           "dash": "dash"
          },
          "type": "line",
          "x0": 2024,
          "x1": 2024,
          "xref": "x",
          "y0": 0,
          "y1": 1,
          "yref": "y domain"
         },
         {
          "line": {
           "color": "red",
           "dash": "dash"
          },
          "type": "line",
          "x0": 2024,
          "x1": 2024,
          "xref": "x2",
          "y0": 0,
          "y1": 1,
          "yref": "y2 domain"
         },
         {
          "line": {
           "color": "red",
           "dash": "dash"
          },
          "type": "line",
          "x0": 2024,
          "x1": 2024,
          "xref": "x3",
          "y0": 0,
          "y1": 1,
          "yref": "y3 domain"
         },
         {
          "line": {
           "color": "red",
           "dash": "dash"
          },
          "type": "line",
          "x0": 2024,
          "x1": 2024,
          "xref": "x",
          "y0": 0,
          "y1": 1,
          "yref": "y domain"
         },
         {
          "line": {
           "color": "red",
           "dash": "dash"
          },
          "type": "line",
          "x0": 2024,
          "x1": 2024,
          "xref": "x2",
          "y0": 0,
          "y1": 1,
          "yref": "y2 domain"
         },
         {
          "line": {
           "color": "red",
           "dash": "dash"
          },
          "type": "line",
          "x0": 2024,
          "x1": 2024,
          "xref": "x3",
          "y0": 0,
          "y1": 1,
          "yref": "y3 domain"
         },
         {
          "line": {
           "color": "red",
           "dash": "dash"
          },
          "type": "line",
          "x0": 2024,
          "x1": 2024,
          "xref": "x4",
          "y0": 0,
          "y1": 1,
          "yref": "y4 domain"
         }
        ],
        "showlegend": true,
        "template": {
         "data": {
          "bar": [
           {
            "error_x": {
             "color": "#2a3f5f"
            },
            "error_y": {
             "color": "#2a3f5f"
            },
            "marker": {
             "line": {
              "color": "#E5ECF6",
              "width": 0.5
             },
             "pattern": {
              "fillmode": "overlay",
              "size": 10,
              "solidity": 0.2
             }
            },
            "type": "bar"
           }
          ],
          "barpolar": [
           {
            "marker": {
             "line": {
              "color": "#E5ECF6",
              "width": 0.5
             },
             "pattern": {
              "fillmode": "overlay",
              "size": 10,
              "solidity": 0.2
             }
            },
            "type": "barpolar"
           }
          ],
          "carpet": [
           {
            "aaxis": {
             "endlinecolor": "#2a3f5f",
             "gridcolor": "white",
             "linecolor": "white",
             "minorgridcolor": "white",
             "startlinecolor": "#2a3f5f"
            },
            "baxis": {
             "endlinecolor": "#2a3f5f",
             "gridcolor": "white",
             "linecolor": "white",
             "minorgridcolor": "white",
             "startlinecolor": "#2a3f5f"
            },
            "type": "carpet"
           }
          ],
          "choropleth": [
           {
            "colorbar": {
             "outlinewidth": 0,
             "ticks": ""
            },
            "type": "choropleth"
           }
          ],
          "contour": [
           {
            "colorbar": {
             "outlinewidth": 0,
             "ticks": ""
            },
            "colorscale": [
             [
              0,
              "#0d0887"
             ],
             [
              0.1111111111111111,
              "#46039f"
             ],
             [
              0.2222222222222222,
              "#7201a8"
             ],
             [
              0.3333333333333333,
              "#9c179e"
             ],
             [
              0.4444444444444444,
              "#bd3786"
             ],
             [
              0.5555555555555556,
              "#d8576b"
             ],
             [
              0.6666666666666666,
              "#ed7953"
             ],
             [
              0.7777777777777778,
              "#fb9f3a"
             ],
             [
              0.8888888888888888,
              "#fdca26"
             ],
             [
              1,
              "#f0f921"
             ]
            ],
            "type": "contour"
           }
          ],
          "contourcarpet": [
           {
            "colorbar": {
             "outlinewidth": 0,
             "ticks": ""
            },
            "type": "contourcarpet"
           }
          ],
          "heatmap": [
           {
            "colorbar": {
             "outlinewidth": 0,
             "ticks": ""
            },
            "colorscale": [
             [
              0,
              "#0d0887"
             ],
             [
              0.1111111111111111,
              "#46039f"
             ],
             [
              0.2222222222222222,
              "#7201a8"
             ],
             [
              0.3333333333333333,
              "#9c179e"
             ],
             [
              0.4444444444444444,
              "#bd3786"
             ],
             [
              0.5555555555555556,
              "#d8576b"
             ],
             [
              0.6666666666666666,
              "#ed7953"
             ],
             [
              0.7777777777777778,
              "#fb9f3a"
             ],
             [
              0.8888888888888888,
              "#fdca26"
             ],
             [
              1,
              "#f0f921"
             ]
            ],
            "type": "heatmap"
           }
          ],
          "histogram": [
           {
            "marker": {
             "pattern": {
              "fillmode": "overlay",
              "size": 10,
              "solidity": 0.2
             }
            },
            "type": "histogram"
           }
          ],
          "histogram2d": [
           {
            "colorbar": {
             "outlinewidth": 0,
             "ticks": ""
            },
            "colorscale": [
             [
              0,
              "#0d0887"
             ],
             [
              0.1111111111111111,
              "#46039f"
             ],
             [
              0.2222222222222222,
              "#7201a8"
             ],
             [
              0.3333333333333333,
              "#9c179e"
             ],
             [
              0.4444444444444444,
              "#bd3786"
             ],
             [
              0.5555555555555556,
              "#d8576b"
             ],
             [
              0.6666666666666666,
              "#ed7953"
             ],
             [
              0.7777777777777778,
              "#fb9f3a"
             ],
             [
              0.8888888888888888,
              "#fdca26"
             ],
             [
              1,
              "#f0f921"
             ]
            ],
            "type": "histogram2d"
           }
          ],
          "histogram2dcontour": [
           {
            "colorbar": {
             "outlinewidth": 0,
             "ticks": ""
            },
            "colorscale": [
             [
              0,
              "#0d0887"
             ],
             [
              0.1111111111111111,
              "#46039f"
             ],
             [
              0.2222222222222222,
              "#7201a8"
             ],
             [
              0.3333333333333333,
              "#9c179e"
             ],
             [
              0.4444444444444444,
              "#bd3786"
             ],
             [
              0.5555555555555556,
              "#d8576b"
             ],
             [
              0.6666666666666666,
              "#ed7953"
             ],
             [
              0.7777777777777778,
              "#fb9f3a"
             ],
             [
              0.8888888888888888,
              "#fdca26"
             ],
             [
              1,
              "#f0f921"
             ]
            ],
            "type": "histogram2dcontour"
           }
          ],
          "mesh3d": [
           {
            "colorbar": {
             "outlinewidth": 0,
             "ticks": ""
            },
            "type": "mesh3d"
           }
          ],
          "parcoords": [
           {
            "line": {
             "colorbar": {
              "outlinewidth": 0,
              "ticks": ""
             }
            },
            "type": "parcoords"
           }
          ],
          "pie": [
           {
            "automargin": true,
            "type": "pie"
           }
          ],
          "scatter": [
           {
            "fillpattern": {
             "fillmode": "overlay",
             "size": 10,
             "solidity": 0.2
            },
            "type": "scatter"
           }
          ],
          "scatter3d": [
           {
            "line": {
             "colorbar": {
              "outlinewidth": 0,
              "ticks": ""
             }
            },
            "marker": {
             "colorbar": {
              "outlinewidth": 0,
              "ticks": ""
             }
            },
            "type": "scatter3d"
           }
          ],
          "scattercarpet": [
           {
            "marker": {
             "colorbar": {
              "outlinewidth": 0,
              "ticks": ""
             }
            },
            "type": "scattercarpet"
           }
          ],
          "scattergeo": [
           {
            "marker": {
             "colorbar": {
              "outlinewidth": 0,
              "ticks": ""
             }
            },
            "type": "scattergeo"
           }
          ],
          "scattergl": [
           {
            "marker": {
             "colorbar": {
              "outlinewidth": 0,
              "ticks": ""
             }
            },
            "type": "scattergl"
           }
          ],
          "scattermap": [
           {
            "marker": {
             "colorbar": {
              "outlinewidth": 0,
              "ticks": ""
             }
            },
            "type": "scattermap"
           }
          ],
          "scattermapbox": [
           {
            "marker": {
             "colorbar": {
              "outlinewidth": 0,
              "ticks": ""
             }
            },
            "type": "scattermapbox"
           }
          ],
          "scatterpolar": [
           {
            "marker": {
             "colorbar": {
              "outlinewidth": 0,
              "ticks": ""
             }
            },
            "type": "scatterpolar"
           }
          ],
          "scatterpolargl": [
           {
            "marker": {
             "colorbar": {
              "outlinewidth": 0,
              "ticks": ""
             }
            },
            "type": "scatterpolargl"
           }
          ],
          "scatterternary": [
           {
            "marker": {
             "colorbar": {
              "outlinewidth": 0,
              "ticks": ""
             }
            },
            "type": "scatterternary"
           }
          ],
          "surface": [
           {
            "colorbar": {
             "outlinewidth": 0,
             "ticks": ""
            },
            "colorscale": [
             [
              0,
              "#0d0887"
             ],
             [
              0.1111111111111111,
              "#46039f"
             ],
             [
              0.2222222222222222,
              "#7201a8"
             ],
             [
              0.3333333333333333,
              "#9c179e"
             ],
             [
              0.4444444444444444,
              "#bd3786"
             ],
             [
              0.5555555555555556,
              "#d8576b"
             ],
             [
              0.6666666666666666,
              "#ed7953"
             ],
             [
              0.7777777777777778,
              "#fb9f3a"
             ],
             [
              0.8888888888888888,
              "#fdca26"
             ],
             [
              1,
              "#f0f921"
             ]
            ],
            "type": "surface"
           }
          ],
          "table": [
           {
            "cells": {
             "fill": {
              "color": "#EBF0F8"
             },
             "line": {
              "color": "white"
             }
            },
            "header": {
             "fill": {
              "color": "#C8D4E3"
             },
             "line": {
              "color": "white"
             }
            },
            "type": "table"
           }
          ]
         },
         "layout": {
          "annotationdefaults": {
           "arrowcolor": "#2a3f5f",
           "arrowhead": 0,
           "arrowwidth": 1
          },
          "autotypenumbers": "strict",
          "coloraxis": {
           "colorbar": {
            "outlinewidth": 0,
            "ticks": ""
           }
          },
          "colorscale": {
           "diverging": [
            [
             0,
             "#8e0152"
            ],
            [
             0.1,
             "#c51b7d"
            ],
            [
             0.2,
             "#de77ae"
            ],
            [
             0.3,
             "#f1b6da"
            ],
            [
             0.4,
             "#fde0ef"
            ],
            [
             0.5,
             "#f7f7f7"
            ],
            [
             0.6,
             "#e6f5d0"
            ],
            [
             0.7,
             "#b8e186"
            ],
            [
             0.8,
             "#7fbc41"
            ],
            [
             0.9,
             "#4d9221"
            ],
            [
             1,
             "#276419"
            ]
           ],
           "sequential": [
            [
             0,
             "#0d0887"
            ],
            [
             0.1111111111111111,
             "#46039f"
            ],
            [
             0.2222222222222222,
             "#7201a8"
            ],
            [
             0.3333333333333333,
             "#9c179e"
            ],
            [
             0.4444444444444444,
             "#bd3786"
            ],
            [
             0.5555555555555556,
             "#d8576b"
            ],
            [
             0.6666666666666666,
             "#ed7953"
            ],
            [
             0.7777777777777778,
             "#fb9f3a"
            ],
            [
             0.8888888888888888,
             "#fdca26"
            ],
            [
             1,
             "#f0f921"
            ]
           ],
           "sequentialminus": [
            [
             0,
             "#0d0887"
            ],
            [
             0.1111111111111111,
             "#46039f"
            ],
            [
             0.2222222222222222,
             "#7201a8"
            ],
            [
             0.3333333333333333,
             "#9c179e"
            ],
            [
             0.4444444444444444,
             "#bd3786"
            ],
            [
             0.5555555555555556,
             "#d8576b"
            ],
            [
             0.6666666666666666,
             "#ed7953"
            ],
            [
             0.7777777777777778,
             "#fb9f3a"
            ],
            [
             0.8888888888888888,
             "#fdca26"
            ],
            [
             1,
             "#f0f921"
            ]
           ]
          },
          "colorway": [
           "#636efa",
           "#EF553B",
           "#00cc96",
           "#ab63fa",
           "#FFA15A",
           "#19d3f3",
           "#FF6692",
           "#B6E880",
           "#FF97FF",
           "#FECB52"
          ],
          "font": {
           "color": "#2a3f5f"
          },
          "geo": {
           "bgcolor": "white",
           "lakecolor": "white",
           "landcolor": "#E5ECF6",
           "showlakes": true,
           "showland": true,
           "subunitcolor": "white"
          },
          "hoverlabel": {
           "align": "left"
          },
          "hovermode": "closest",
          "mapbox": {
           "style": "light"
          },
          "paper_bgcolor": "white",
          "plot_bgcolor": "#E5ECF6",
          "polar": {
           "angularaxis": {
            "gridcolor": "white",
            "linecolor": "white",
            "ticks": ""
           },
           "bgcolor": "#E5ECF6",
           "radialaxis": {
            "gridcolor": "white",
            "linecolor": "white",
            "ticks": ""
           }
          },
          "scene": {
           "xaxis": {
            "backgroundcolor": "#E5ECF6",
            "gridcolor": "white",
            "gridwidth": 2,
            "linecolor": "white",
            "showbackground": true,
            "ticks": "",
            "zerolinecolor": "white"
           },
           "yaxis": {
            "backgroundcolor": "#E5ECF6",
            "gridcolor": "white",
            "gridwidth": 2,
            "linecolor": "white",
            "showbackground": true,
            "ticks": "",
            "zerolinecolor": "white"
           },
           "zaxis": {
            "backgroundcolor": "#E5ECF6",
            "gridcolor": "white",
            "gridwidth": 2,
            "linecolor": "white",
            "showbackground": true,
            "ticks": "",
            "zerolinecolor": "white"
           }
          },
          "shapedefaults": {
           "line": {
            "color": "#2a3f5f"
           }
          },
          "ternary": {
           "aaxis": {
            "gridcolor": "white",
            "linecolor": "white",
            "ticks": ""
           },
           "baxis": {
            "gridcolor": "white",
            "linecolor": "white",
            "ticks": ""
           },
           "bgcolor": "#E5ECF6",
           "caxis": {
            "gridcolor": "white",
            "linecolor": "white",
            "ticks": ""
           }
          },
          "title": {
           "x": 0.05
          },
          "xaxis": {
           "automargin": true,
           "gridcolor": "white",
           "linecolor": "white",
           "ticks": "",
           "title": {
            "standoff": 15
           },
           "zerolinecolor": "white",
           "zerolinewidth": 2
          },
          "yaxis": {
           "automargin": true,
           "gridcolor": "white",
           "linecolor": "white",
           "ticks": "",
           "title": {
            "standoff": 15
           },
           "zerolinecolor": "white",
           "zerolinewidth": 2
          }
         }
        },
        "title": {
         "text": "Cumulative Growth in Reserves Over the Years"
        },
        "xaxis": {
         "anchor": "y",
         "domain": [
          0,
          0.45
         ]
        },
        "xaxis2": {
         "anchor": "y2",
         "domain": [
          0.55,
          1
         ]
        },
        "xaxis3": {
         "anchor": "y3",
         "domain": [
          0,
          0.45
         ]
        },
        "xaxis4": {
         "anchor": "y4",
         "domain": [
          0.55,
          1
         ]
        },
        "yaxis": {
         "anchor": "x",
         "domain": [
          0.625,
          1
         ],
         "type": "log"
        },
        "yaxis2": {
         "anchor": "x2",
         "domain": [
          0.625,
          1
         ],
         "type": "log"
        },
        "yaxis3": {
         "anchor": "x3",
         "domain": [
          0,
          0.375
         ],
         "type": "log"
        },
        "yaxis4": {
         "anchor": "x4",
         "domain": [
          0,
          0.375
         ],
         "type": "log"
        }
       }
      }
     },
     "metadata": {},
     "output_type": "display_data"
    }
   ],
   "source": [
    "\n",
    "F = make_subplots(rows=2, cols=2, x_title=\"Year\", y_title=\"Reserves\", subplot_titles=[mineral for mineral in D[\"Primary Mineral\"].unique()])\n",
    "\n",
    "# Define a fixed color mapping for cathode types\n",
    "\n",
    "# cathode_colors = {\"NMC111\": \"blue\", \"NMC532\": \"green\", \"NMC622\": \"orange\", \"NMC811\": \"purple\"}\n",
    "mineral_colors =  ['#636efa','#EF553B', '#00cc96', '#ab63fa']\n",
    "\n",
    "for i, mineral in enumerate(D[\"Primary Mineral\"].unique()):\n",
    "    M = D.loc[(D[\"Primary Mineral\"] == mineral) & (D[\"Cumulative Reserves\"] > 0)]\n",
    "    S = demand_by_cathode[demand_by_cathode[\"Full Element Name\"] == mineral]\n",
    "    \n",
    "    # Add the main mineral trace with its own legend group\n",
    "    F.add_trace(\n",
    "        go.Scatter(\n",
    "            x=M[\"Year\"], \n",
    "            y=M[\"Cumulative Reserves\"], \n",
    "            mode=\"lines+markers\",\n",
    "            legendgroup=mineral,\n",
    "            name=mineral,\n",
    "            marker=dict(\n",
    "                size=10,\n",
    "                color=mineral_colors[i]\n",
    "            ), \n",
    "            showlegend=True,\n",
    "            legend=\"legend1\"\n",
    "        ),\n",
    "        row=i // 2 + 1, \n",
    "        col=i % 2 + 1\n",
    "    )\n",
    "    \n",
    "    # Add cathode traces grouped by cathode type\n",
    "    for j,cathode in enumerate(S.columns[6:]):\n",
    "        F.add_trace(\n",
    "            go.Scatter(\n",
    "                x=S[\"Year\"], \n",
    "                y=S[cathode], \n",
    "                mode=\"markers\",\n",
    "                legendgroup=cathode,  # Group by cathode type instead of mineral\n",
    "                name=cathode,\n",
    "                marker=dict(size=10),\n",
    "                # Only show in legend for last mineral to avoid duplicates\n",
    "                showlegend=(i == 0),\n",
    "                legend=\"legend2\",\n",
    "            ),\n",
    "            row=i // 2 + 1, \n",
    "            col=i % 2 + 1)\n",
    "    \n",
    "    # Add vertical line and annotation\n",
    "    F.add_vline(x=2024, line_dash=\"dash\", line_color=\"red\")\n",
    "    F.add_annotation(\n",
    "        x=2024, \n",
    "        text=\"Current Year\",\n",
    "        showarrow=True,\n",
    "        arrowhead=2,\n",
    "        yshift=10,\n",
    "        row=i // 2 + 1, \n",
    "        col=i % 2 + 1\n",
    "    )\n",
    "\n",
    "F.update_yaxes(type='log')\n",
    "F.update_layout(title=\"Cumulative Growth in Reserves Over the Years\",height=700,showlegend=True,\n",
    "                legend1=dict(title=dict(text=\"Mineral\")),\n",
    "                legend2=dict(title=dict(text=\"LIB Cathodes\"), y=0.1))\n",
    "F.show()"
   ]
  },
  {
   "cell_type": "code",
   "execution_count": 21,
   "id": "f7b14116",
   "metadata": {},
   "outputs": [],
   "source": [
    "F.write_html(file=\"LIB_over_time.html\")"
   ]
  },
  {
   "cell_type": "code",
   "execution_count": 109,
   "id": "2c6412b6",
   "metadata": {},
   "outputs": [
    {
     "data": {
      "application/vnd.plotly.v1+json": {
       "config": {
        "plotlyServerURL": "https://plot.ly"
       },
       "data": [
        {
         "customdata": [
          [
           31086,
           11000,
           "China"
          ],
          [
           33191,
           800000,
           "Myanmar"
          ],
          [
           31715,
           350200,
           "Canada"
          ],
          [
           38560,
           141000,
           "Brazil"
          ],
          [
           37474,
           31000,
           "Brazil"
          ],
          [
           37426,
           33000,
           "Norway"
          ],
          [
           35769,
           44000,
           "Canada"
          ],
          [
           60081,
           100000,
           "Philippines"
          ],
          [
           35584,
           8595,
           "Australia"
          ],
          [
           34245,
           17200,
           "Canada"
          ],
          [
           28251,
           673000,
           "Guatemala"
          ],
          [
           35686,
           300000,
           "Canada"
          ],
          [
           39372,
           1938000,
           "Indonesia"
          ],
          [
           28019,
           166240,
           "Venezuela"
          ],
          [
           38872,
           4010000,
           "South Africa"
          ],
          [
           36347,
           983000,
           "Tanzania"
          ],
          [
           27096,
           46000,
           "Canada"
          ],
          [
           31055,
           1541187,
           "Guatemala"
          ],
          [
           29586,
           50194,
           "Canada"
          ],
          [
           35094,
           2369363,
           "Russia"
          ],
          [
           27453,
           59825,
           "Zambia"
          ],
          [
           31679,
           720120,
           "Philippines"
          ],
          [
           35597,
           1530000,
           "Papua New Guinea"
          ],
          [
           40831,
           799500,
           "Russia"
          ],
          [
           26731,
           796083,
           "Philippines"
          ],
          [
           32938,
           33500,
           "Norway"
          ],
          [
           30481,
           2926000,
           "Philippines"
          ],
          [
           50008,
           1403000,
           "Australia"
          ],
          [
           32468,
           2624400,
           "Indonesia"
          ],
          [
           41976,
           440000,
           "China"
          ],
          [
           37249,
           18600,
           "China"
          ],
          [
           27656,
           241500,
           "Botswana"
          ],
          [
           37248,
           19000,
           "China"
          ],
          [
           32687,
           3913000,
           "Brazil"
          ],
          [
           56200,
           472000,
           "Philippines"
          ],
          [
           92718,
           42000,
           "Canada"
          ],
          [
           28739,
           52000,
           "Australia"
          ],
          [
           66149,
           34700,
           "Philippines"
          ],
          [
           36178,
           17136,
           "Botswana"
          ],
          [
           27355,
           3000,
           "Australia"
          ],
          [
           35807,
           19900,
           "Australia"
          ],
          [
           34324,
           92700,
           "Dominican Republic"
          ],
          [
           78825,
           37093,
           "China"
          ],
          [
           32050,
           9314,
           "Australia"
          ],
          [
           78824,
           21226,
           "China"
          ],
          [
           27064,
           148000,
           "Australia"
          ],
          [
           67403,
           4801890,
           "Indonesia"
          ],
          [
           37657,
           723000,
           "Brazil"
          ],
          [
           36697,
           300000,
           "Türkiye"
          ],
          [
           34850,
           1031200,
           "Australia"
          ],
          [
           27786,
           99200,
           "Australia"
          ],
          [
           36051,
           162000,
           "Australia"
          ],
          [
           89168,
           40000,
           "Australia"
          ],
          [
           79430,
           560,
           "Australia"
          ],
          [
           34359,
           10100,
           "Sweden"
          ],
          [
           38029,
           39480,
           "South Africa"
          ],
          [
           40844,
           573040,
           "Guinea"
          ],
          [
           79101,
           168500,
           "Australia"
          ],
          [
           89776,
           1376,
           "Australia"
          ],
          [
           60787,
           201177,
           "Albania"
          ],
          [
           33743,
           16200,
           "Australia"
          ],
          [
           80786,
           23133,
           "USA"
          ],
          [
           36331,
           712100,
           "Russia"
          ],
          [
           30428,
           2281090,
           "Madagascar"
          ],
          [
           31729,
           735979,
           "Australia"
          ],
          [
           31000,
           589000,
           "Australia"
          ],
          [
           29854,
           110000,
           "Australia"
          ],
          [
           36147,
           2566926,
           "Brazil"
          ],
          [
           39164,
           11900,
           "Australia"
          ],
          [
           28109,
           1555000,
           "Brazil"
          ],
          [
           25816,
           5720702,
           "Canada"
          ],
          [
           79928,
           56700,
           "Australia"
          ],
          [
           32081,
           920000,
           "Tanzania"
          ],
          [
           88695,
           9954000,
           "Tonga"
          ],
          [
           34360,
           80331,
           "Sweden"
          ],
          [
           35352,
           3879920,
           "Finland"
          ],
          [
           28851,
           935000,
           "Australia"
          ],
          [
           88690,
           11512000,
           "Nauru"
          ],
          [
           29601,
           144378,
           "Australia"
          ],
          [
           28021,
           145000,
           "Brazil"
          ],
          [
           27307,
           116800,
           "Canada"
          ],
          [
           76126,
           68900,
           "Canada"
          ],
          [
           27531,
           485800,
           "Vietnam"
          ],
          [
           76615,
           50439,
           "Canada"
          ],
          [
           75730,
           775200,
           "Philippines"
          ],
          [
           85699,
           185448,
           "Solomon Islands"
          ],
          [
           31518,
           75750,
           "Canada"
          ],
          [
           29658,
           76611,
           "Canada"
          ],
          [
           88353,
           70000,
           "Canada"
          ],
          [
           34218,
           1341800,
           "Russia"
          ],
          [
           29849,
           3625,
           "Australia"
          ],
          [
           33075,
           48398,
           "Canada"
          ],
          [
           91679,
           1790000,
           "Indonesia"
          ],
          [
           35378,
           56000,
           "Australia"
          ],
          [
           30976,
           891000,
           "Papua New Guinea"
          ],
          [
           91671,
           173000,
           "Indonesia"
          ],
          [
           84035,
           218000,
           "China"
          ],
          [
           81026,
           3700000,
           "Indonesia"
          ],
          [
           31758,
           101200,
           "Australia"
          ],
          [
           31689,
           254000,
           "Australia"
          ],
          [
           27443,
           5700,
           "Australia"
          ],
          [
           67348,
           28000,
           "Australia"
          ],
          [
           36715,
           1093000,
           "Sweden"
          ],
          [
           75613,
           134100,
           "Australia"
          ],
          [
           30900,
           394300,
           "Canada"
          ],
          [
           33832,
           914300,
           "Brazil"
          ],
          [
           35268,
           20995,
           "Australia"
          ],
          [
           91505,
           763000,
           "Indonesia"
          ],
          [
           29079,
           102527,
           "Australia"
          ],
          [
           36221,
           217724,
           "USA"
          ],
          [
           84130,
           907,
           "Canada"
          ],
          [
           35448,
           2435240,
           "Canada"
          ],
          [
           26560,
           510000,
           "Canada"
          ],
          [
           80638,
           157500,
           "Australia"
          ],
          [
           28992,
           718800,
           "Canada"
          ],
          [
           27713,
           216900,
           "Australia"
          ],
          [
           34257,
           680000,
           "Philippines"
          ],
          [
           29592,
           971000,
           "Australia"
          ],
          [
           35359,
           59100,
           "Canada"
          ],
          [
           26275,
           1435029,
           "Canada"
          ],
          [
           67493,
           27400,
           "Australia"
          ],
          [
           90451,
           168400,
           "Finland"
          ],
          [
           27187,
           1402000,
           "Papua New Guinea"
          ],
          [
           31089,
           9043560,
           "Indonesia"
          ],
          [
           28629,
           2020900,
           "Cuba"
          ],
          [
           28364,
           127000,
           "Zimbabwe"
          ],
          [
           27672,
           1773000,
           "Canada"
          ],
          [
           31780,
           2505400,
           "Indonesia"
          ],
          [
           29157,
           1402000,
           "Philippines"
          ],
          [
           28543,
           2299800,
           "Brazil"
          ],
          [
           87874,
           84240,
           "Australia"
          ],
          [
           91011,
           2200,
           "Sweden"
          ],
          [
           88763,
           2444000,
           "Indonesia"
          ],
          [
           27146,
           2011000,
           "Canada"
          ],
          [
           81706,
           570000,
           "Australia"
          ],
          [
           34949,
           283000,
           "Australia"
          ],
          [
           40767,
           105900,
           "Australia"
          ],
          [
           32059,
           2370,
           "Australia"
          ],
          [
           32133,
           16577,
           "Canada"
          ],
          [
           28725,
           2560000,
           "Australia"
          ],
          [
           33382,
           125161,
           "Canada"
          ],
          [
           27363,
           19480722,
           "Indonesia"
          ],
          [
           30825,
           5702000,
           "Canada"
          ],
          [
           85226,
           66400,
           "Australia"
          ],
          [
           27809,
           3790000,
           "Indonesia"
          ],
          [
           34987,
           24031,
           "Finland"
          ],
          [
           29156,
           113000,
           "Philippines"
          ],
          [
           37943,
           4548000,
           "Canada"
          ],
          [
           67257,
           1080000,
           "Philippines"
          ],
          [
           86139,
           9761600,
           "Canada"
          ],
          [
           60528,
           855000,
           "Philippines"
          ],
          [
           33795,
           70000,
           "USA"
          ],
          [
           90553,
           6000,
           "Canada"
          ],
          [
           31041,
           1172000,
           "Brazil"
          ],
          [
           30130,
           154900,
           "Australia"
          ],
          [
           29179,
           572380,
           "Finland"
          ],
          [
           30696,
           5079000,
           "Australia"
          ],
          [
           30600,
           17000,
           "Australia"
          ],
          [
           27779,
           1824964,
           "Tanzania"
          ],
          [
           29416,
           222191,
           "Australia"
          ],
          [
           66139,
           812000,
           "Philippines"
          ],
          [
           37535,
           161000,
           "Philippines"
          ],
          [
           30807,
           616000,
           "Philippines"
          ],
          [
           38359,
           283800,
           "Canada"
          ],
          [
           67632,
           614200,
           "Australia"
          ],
          [
           28584,
           2450000,
           "Colombia"
          ],
          [
           31466,
           1697505,
           "Australia"
          ],
          [
           37724,
           510000,
           "Australia"
          ],
          [
           84717,
           965000,
           "Australia"
          ],
          [
           34844,
           155382,
           "China"
          ],
          [
           27555,
           2340000,
           "Australia"
          ],
          [
           27378,
           2941000,
           "Russia"
          ],
          [
           83767,
           1204400,
           "Brazil"
          ],
          [
           88428,
           1087200,
           "Canada"
          ],
          [
           33386,
           292163,
           "China"
          ],
          [
           88835,
           113600,
           "Australia"
          ],
          [
           28247,
           1224000,
           "Australia"
          ],
          [
           30273,
           18480000,
           "Indonesia"
          ],
          [
           89267,
           862800,
           "Finland"
          ],
          [
           33848,
           70500,
           "Norway"
          ],
          [
           80592,
           190335,
           "Australia"
          ],
          [
           92246,
           23100,
           "United Kingdom"
          ],
          [
           32184,
           3675002,
           "USA"
          ],
          [
           34339,
           67005,
           "Australia"
          ],
          [
           27169,
           16982000,
           "Russia"
          ],
          [
           29556,
           561000,
           "Indonesia"
          ],
          [
           77124,
           40700,
           "China"
          ],
          [
           33464,
           54504,
           "Canada"
          ],
          [
           29064,
           34876,
           "Spain"
          ],
          [
           28354,
           334751,
           "Côte d'Ivoire"
          ],
          [
           92534,
           2321000,
           "Indonesia"
          ],
          [
           27655,
           108000,
           "Botswana"
          ],
          [
           27222,
           391885,
           "Canada"
          ]
         ],
         "geo": "geo",
         "hovertemplate": "Primary Mineral=Nickel<br>Latitude (degrees)=%{lat}<br>Longitude (degrees)=%{lon}<br>Property ID=%{customdata[0]}<br>Primary Reserves and Resources=%{customdata[1]}<br>Country/Region=%{customdata[2]}<extra></extra>",
         "lat": {
          "bdata": "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",
          "dtype": "f8"
         },
         "legendgroup": "Nickel",
         "lon": {
          "bdata": "yAxUxr9tX0D2KFyPwglYQM3MzMzMiFLAAOMZNPSrSMAKSzygbAZJwF/SGK2j8jBA+Db92Y++UsBI4XoUrmdfQHqlLEMcNmJAOgZkr3dLVMDhehSuR1lWwJYhjnVxk1XABaOSOgEDYEDdByC1icdQwAWjkjoBBT1AdonqrYHtQEChSs0eaFNUwEUSvYxiaVbA/+cwX16qWMAdrP9zmN1XQDVG66hqIjxAOZfiqrIDXkCWJqWg23diQFUTRN0HnERAbkxPWOJhX0ByUMJM2x8jQJCDEmbaSF5A+FPjpZt0XkCBeF2/YHteQIwQHm0cV1dAswdagSGbX0AhdqbQecU7QDm0yHa+n19AUDblCu/uScApXI/C9WhfQCTW4lMAQFTAU5YhjnUfXkBg5dAi22lfQPVnP1JEVjxA2lVI+Ul3XkCmm8QgsHJeQJ/Ik6RrklHA/RNcrKhlXUBEi2zn+4teQCAkC5jAYV1AK9mxEYiPXkBdM/lmm39eQPMC7KNT+0TAA3gLJCguPEAjMUEN34NeQHhi1ouhYl1ASu8bX3thYkA9fm/Tn7tiQBnFckurOGFA3o5wWvD6MkDdXtIYrdM1QKs+V1ux/yDAsHJoke2qXUB9XBsqxjddQPGAsilXgDRAvsEXJlM3XkA5l+KqspFWwFIKur2kCVZA0LNZ9bkmSED7eVORCh5iQA39E1ysgWJAmdNlMbGJXkB381SH3LRIwG6LMhtkiF5A3qtWJvzySMBjKCfaVZxTwBO4dTdPkV5A8rBQa5oXPkCiXYWUn6RgwC+ob5nT1TRATmIQWDkUPEA4+MJkqm1iQPs6cM6IZF7AVOOlm8RYYkDzH9JvXytIwLyuX7AbQlnAS1mGONanU8CpMLYQ5BRaQMRfkzXq+1jAe2tgqwRbXUDtZHCUvOVjQExPWOIBd1TAwjQMHxFpUcBhiQeUTbFXwIXrUbgejWBA2SWqtwZGXkBbsb/snmhXwKqaIOo+3F9Abm5MT1hsXkBjYvNxbZ1iQGVwlLw64V9AjbRU3o5gV0Di6ZWyDI9eQD1JumbyZ15AQxzr4jYoYkCKH2PuWmheQEUSvYxiqV1ASwLU1LLFLkDMC7CPTmNeQDiEKjV7LljAe4hGdxDbQ8CCxeHMr05eQItx/iYU3F9ASWO0jqqAXkBvu9Bcp0dXwCjVPh2P01XAbJVgcThBVMB+NQcI5nhYwNKpK5/laV5AgJ9x4UAMT8AWGLK61QBgQDKs4o3MXV1Aq5UJv9RtXkDJq3MMyOZSwDl/EwoRcWHAPfIHA88DX0AMdsO2RRk2QArXo3A9JmJAtOVciqtmXkBoXDgQkrtSwJyiI7n8Rz9A9Wc/UkREVMCRYRVvZJJeQIfhI2JKdF9AFsH/VrKLScBlGeJYFzldQFPL1voiATVAWDm0yHZ0XkDL1voioVdUwJqZmZmZCV5AyOpWz0lpXkCBeF2/YMteQG2tLxLaXF5AXoB9dOraVcC+amXCL3leQJT7HYoC51fAa4Ko+wBYXkC2SrA4nBtgwKvnpPeNR11AtLCnHf47YEDwMy4cCPk8QGsOEMzRbV9Af/s6cM5WX8A8a7ddaHZfQEinrnyWVVTAnZ0MjpKTXkA1RuuoavhVwP7UeOkm31fA5BBxcyqFSMDon+BiRRNeQETdByC1+TpAnYU97fBLXkAVOq+xS6ZhQAb1LXO6jD5A9nr3x3tpXkCq8dJNYnhfQDsZHCWval9A91j60AV5XUCRYRVvZFZUwDsBTYQNt15ALekoB7PrUsDt0/GYgR5gQDJVMCqpHF5AqKlla30NXUDdQexMoWtWQClcj8L1JF5A7fXuj/e6PkBpAG+BBJlJwI2XbhKDUFTASZ2AJsKmV0B96IL6lm9eQAOy17s/GF5Aa32R0Jb9X0Ck/KTap2s4QIOG/gkuFiRAQL6ECg5jXkBYrUz4pb4FwOWbbW5MSWLAmbuWkA/qXUBpqbwd4QpWQKabxCCwYmFAmdNlMbHXV0CSrpl8szNUwFlpUgq6vRjAOIQqNXuAH8B8fhghPHJeQPlJtU/HuztAH2gFhqzKWMA=",
          "dtype": "f8"
         },
         "marker": {
          "color": "#636efa",
          "symbol": "circle"
         },
         "mode": "markers",
         "name": "Nickel",
         "showlegend": true,
         "type": "scattergeo"
        },
        {
         "customdata": [
          [
           37426,
           920,
           "Norway"
          ],
          [
           31715,
           18670,
           "Canada"
          ],
          [
           35584,
           546,
           "Australia"
          ],
          [
           35769,
           2233,
           "Canada"
          ],
          [
           34245,
           651,
           "Canada"
          ],
          [
           27096,
           1060,
           "Canada"
          ],
          [
           35094,
           94673,
           "Russia"
          ],
          [
           31679,
           37850,
           "Philippines"
          ],
          [
           35597,
           145300,
           "Papua New Guinea"
          ],
          [
           40831,
           26400,
           "Russia"
          ],
          [
           36347,
           29243,
           "Tanzania"
          ],
          [
           32938,
           2264,
           "Norway"
          ],
          [
           30481,
           383540,
           "Philippines"
          ],
          [
           41976,
           18000,
           "China"
          ],
          [
           26731,
           37700,
           "Philippines"
          ],
          [
           29668,
           74249,
           "Canada"
          ],
          [
           28739,
           1800,
           "Australia"
          ],
          [
           27064,
           1200,
           "Australia"
          ],
          [
           32050,
           470,
           "Australia"
          ],
          [
           75510,
           2744,
           "Australia"
          ],
          [
           37657,
           34700,
           "Brazil"
          ],
          [
           78825,
           6005,
           "China"
          ],
          [
           34850,
           74200,
           "Australia"
          ],
          [
           78824,
           3692,
           "China"
          ],
          [
           36051,
           9900,
           "Australia"
          ],
          [
           79101,
           11300,
           "Australia"
          ],
          [
           40844,
           59560,
           "Guinea"
          ],
          [
           89168,
           8000,
           "Australia"
          ],
          [
           34359,
           680,
           "Sweden"
          ],
          [
           60787,
           13209,
           "Albania"
          ],
          [
           79430,
           1210,
           "Australia"
          ],
          [
           80786,
           15876,
           "USA"
          ],
          [
           29419,
           340,
           "Canada"
          ],
          [
           38029,
           1800,
           "South Africa"
          ],
          [
           27786,
           5400,
           "Australia"
          ],
          [
           25816,
           229518,
           "Canada"
          ],
          [
           32081,
           60000,
           "Tanzania"
          ],
          [
           78525,
           10369,
           "Dem. Rep. Congo"
          ],
          [
           39164,
           900,
           "Australia"
          ],
          [
           29854,
           7200,
           "Australia"
          ],
          [
           36147,
           113600,
           "Brazil"
          ],
          [
           79928,
           4300,
           "Australia"
          ],
          [
           83259,
           9400,
           "Dem. Rep. Congo"
          ],
          [
           31000,
           46000,
           "Australia"
          ],
          [
           30428,
           201120,
           "Madagascar"
          ],
          [
           31729,
           72157,
           "Australia"
          ],
          [
           36331,
           26330,
           "Russia"
          ],
          [
           28109,
           78700,
           "Brazil"
          ],
          [
           34360,
           3506,
           "Sweden"
          ],
          [
           88690,
           1565400,
           "Nauru"
          ],
          [
           28851,
           168000,
           "Australia"
          ],
          [
           88695,
           1542000,
           "Tonga"
          ],
          [
           29601,
           11803,
           "Australia"
          ],
          [
           35352,
           300000,
           "Finland"
          ],
          [
           76615,
           2646,
           "Canada"
          ],
          [
           78548,
           257000,
           "Namibia"
          ],
          [
           31518,
           4536,
           "Canada"
          ],
          [
           85699,
           8550,
           "Solomon Islands"
          ],
          [
           27531,
           13400,
           "Vietnam"
          ],
          [
           34473,
           597,
           "Canada"
          ],
          [
           27307,
           5300,
           "Canada"
          ],
          [
           76126,
           1463,
           "Canada"
          ],
          [
           91505,
           74300,
           "Indonesia"
          ],
          [
           29658,
           4417,
           "Canada"
          ],
          [
           91942,
           120000,
           "South Africa"
          ],
          [
           29849,
           82,
           "Australia"
          ],
          [
           80993,
           21556,
           "Australia"
          ],
          [
           36715,
           19800,
           "Sweden"
          ],
          [
           33832,
           35900,
           "Brazil"
          ],
          [
           91671,
           13600,
           "Indonesia"
          ],
          [
           30900,
           46400,
           "Canada"
          ],
          [
           67348,
           8300,
           "Australia"
          ],
          [
           31689,
           6759,
           "Australia"
          ],
          [
           30976,
           66000,
           "Papua New Guinea"
          ],
          [
           36221,
           5974,
           "USA"
          ],
          [
           28652,
           24000,
           "Morocco"
          ],
          [
           33075,
           544,
           "Canada"
          ],
          [
           81026,
           270000,
           "Indonesia"
          ],
          [
           35268,
           631,
           "Australia"
          ],
          [
           29079,
           3115,
           "Australia"
          ],
          [
           27443,
           300,
           "Australia"
          ],
          [
           27146,
           45000,
           "Canada"
          ],
          [
           27672,
           48500,
           "Canada"
          ],
          [
           29592,
           65200,
           "Australia"
          ],
          [
           26275,
           79469,
           "Canada"
          ],
          [
           30600,
           87300,
           "Australia"
          ],
          [
           35448,
           108239,
           "Canada"
          ],
          [
           31780,
           121180,
           "Indonesia"
          ],
          [
           27779,
           137733,
           "Tanzania"
          ],
          [
           27187,
           161000,
           "Papua New Guinea"
          ],
          [
           27809,
           187000,
           "Indonesia"
          ],
          [
           88763,
           193000,
           "Indonesia"
          ],
          [
           28629,
           232100,
           "Cuba"
          ],
          [
           30696,
           311000,
           "Australia"
          ],
          [
           31089,
           344200,
           "Indonesia"
          ],
          [
           30825,
           345000,
           "Canada"
          ],
          [
           86139,
           552200,
           "Canada"
          ],
          [
           27363,
           815756,
           "Indonesia"
          ],
          [
           28725,
           135000,
           "Australia"
          ],
          [
           28992,
           44390,
           "Canada"
          ],
          [
           32059,
           50,
           "Australia"
          ],
          [
           91011,
           30,
           "Sweden"
          ],
          [
           34987,
           5658,
           "Finland"
          ],
          [
           33382,
           6224,
           "Canada"
          ],
          [
           90451,
           6700,
           "Finland"
          ],
          [
           26560,
           8000,
           "Canada"
          ],
          [
           30130,
           5960,
           "Australia"
          ],
          [
           29416,
           4844,
           "Australia"
          ],
          [
           67493,
           1640,
           "Australia"
          ],
          [
           87874,
           2337,
           "Australia"
          ],
          [
           32133,
           783,
           "Canada"
          ],
          [
           85226,
           3100,
           "Australia"
          ],
          [
           40767,
           3500,
           "Australia"
          ],
          [
           35359,
           3700,
           "Canada"
          ],
          [
           27870,
           9268,
           "USA"
          ],
          [
           34949,
           40500,
           "Australia"
          ],
          [
           81706,
           29500,
           "Australia"
          ],
          [
           29179,
           27032,
           "Finland"
          ],
          [
           80638,
           26600,
           "Australia"
          ],
          [
           30466,
           19530,
           "Dem. Rep. Congo"
          ],
          [
           27713,
           14000,
           "Australia"
          ],
          [
           89267,
           40000,
           "Finland"
          ],
          [
           28354,
           19051,
           "Côte d'Ivoire"
          ],
          [
           32184,
           285763,
           "USA"
          ],
          [
           38359,
           9890,
           "Canada"
          ],
          [
           33848,
           5600,
           "Norway"
          ],
          [
           92534,
           174000,
           "Indonesia"
          ],
          [
           88428,
           46600,
           "Canada"
          ],
          [
           67632,
           37700,
           "Australia"
          ],
          [
           29556,
           52000,
           "Indonesia"
          ],
          [
           83767,
           36600,
           "Brazil"
          ],
          [
           84717,
           95900,
           "Australia"
          ],
          [
           31466,
           105753,
           "Australia"
          ],
          [
           34339,
           5268,
           "Australia"
          ],
          [
           80592,
           2913,
           "Australia"
          ],
          [
           92246,
           1560,
           "United Kingdom"
          ],
          [
           88835,
           1468,
           "Australia"
          ],
          [
           33464,
           1449,
           "Canada"
          ],
          [
           29064,
           897,
           "Spain"
          ]
         ],
         "geo": "geo",
         "hovertemplate": "Primary Mineral=Cobalt<br>Latitude (degrees)=%{lat}<br>Longitude (degrees)=%{lon}<br>Property ID=%{customdata[0]}<br>Primary Reserves and Resources=%{customdata[1]}<br>Country/Region=%{customdata[2]}<extra></extra>",
         "lat": {
          "bdata": "T1jiAWUVUUCmKQKc3rVOQKlNnNzveDPA7dgIxOuyTkBGlPYGX8hHQMgkI2dhN0dA5QrvchFzS0AHCObo8WsvQFWH3Aw3kCHA0h3EzhSSSUAgmKPH7+0DwJKzsKcdtk5Al8rbEU4bKkCeew+XHD9CQIzzN6EQkSJAZmZmZmbGT0CfH0YIjxpAwLG/7J48nDzAC0YldQLSOsAlXTP5Zl9AwEATYcPT6yDAe0563/g+RkD8/s2LE7c9wLD+z2G+REZAGVbxRuYBQMCB7PXuj2NAwL8rgv+tBB9ALhwIyQLGNsCafLPNjU9QQNuF5jqNjERA/WoOEMy5MMDZJaq3BsZCQKsJou4DPElAtmeWBKhpPcCcilQYW9A0wDXSUnk7UkhAmdNlMbGZF8A8iJ0pdI4nwC1gArfu3jzA4dHGEWt5PsAlI2dhT/sfwMu+K4L/hT3A9gt2w7bFJcAfotEdxBZBwHh6pSxD3DLAs+pztRUDM8Dc9Gc/UlBRQDFfXoB99BnAmEwVjEogUECXkA96NuspQL1SliGOYUDAA7LXuz/uLEA5RUdy+ZtEwCPb+X5q/E9ABOeMKO1pS0AdPX5v09cxwBh9BWnGKkdAaQBvgQQ1IMD/snvysDA1QF6AfXTqskdAIo51cRtpTEA6kst/SAdJQCLDKt7IPPm/AAAAAACATUDzcW2oGF85wKg1zTtOGT/AYmcKndcAQMBf0hito2BQQHCUvDrHYCzAkzoBTYQN97/0MorllnJPQGWqYFRS7zrA/TBCeLT1RMDymIHK+BcjwBLCo40jVkdA+FPjpZuEPkDSqSuf5b1IQIVf6udNhQfAysNCrWkOPsBlcJS8Op87wANDVrd6Dj7AfcucLotRR0D0N6EQAT9HQHYyOEperTzAHQOy17u7TkDyzTY3pgtAwMuhRbbzJUhApN++DpyzC8B47j1cchwHwEjhehSuRxbAlWWIY13c3L/G+ZtQiAAIwIdtizIbnDRA9dbAVgkmPsDJsIo3Mu8QwD6WPnRBPU1AtRX7y+5pSECzQSYZOYsEwFtfJLTlxDzAYOrnTUUqTEAW3uUivks/wFioNc07IlBAF58CYDxbT0CqglFJnVBJQCmzQSYZJ1FAtI6qJojaS0DTMHxETM1AwNrhr8kaZT7APrMkQE21PsDEd2LWi+k0wDpAMEeP80lA+64I/rfaNMDjNhrAW9A/wHyb/uxH2klASPlJtU97RkCTGARWDg1AwAAAAAAAgDrAvR3htODrUEAqV3iXiwxAwNdppKXyBifAby9pjNZZMcA2sFWCxQVRQFbUYBqGDx9AyCQjZ2GjT0AQzNHj9zZHQFORCmMLCU5An47HDFQGB8CPjUC8rjNIQJ+OxwxU1jzAoMN8eQE2AsAsZRniWPcZwGg/UkSGhT/AyY6NQLwOOsBjesISDzA0wLLa/L/qcD/AtDwP7s6+TEC4WFGDaVg/wHLcKR2sU0hA5e0IpwX7QkA=",
          "dtype": "f8"
         },
         "legendgroup": "Cobalt",
         "lon": {
          "bdata": "X9IYraPyMEDNzMzMzIhSwHqlLEMcNmJA+Db92Y++UsA6BmSvd0tUwKFKzR5oU1TAHaz/c5jdV0A5l+KqsgNeQJYmpaDbd2JAVRNE3QecREB2ieqtge1AQHJQwkzbHyNAkIMSZtpIXkCMEB5tHFdXQG5MT1jiYV9AC5jArbsvXcBTliGOdR9eQCvZsRGIj15ARIts5/uLXkDFyf0ORWxiQPMC7KNT+0TA/RNcrKhlXUAjMUEN34NeQCAkC5jAYV1ASu8bX3thYkCwcmiR7apdQKs+V1ux/yDAPX5v05+7YkDejnBa8PoyQPGAsilXgDRAGcVyS6s4YUA5l+KqspFWwAa7YduivlfA3V7SGK3TNUB4YtaLoWJdQGMoJ9pVnFPA8rBQa5oXPkDk9zb92Uc7QG6LMhtkiF5AmdNlMbGJXkB381SH3LRIwBO4dTdPkV5AKAr0iTyZOkAN/RNcrIFiQNCzWfW5JkhA+3lTkQoeYkBSCrq9pAlWQN6rVib88kjAL6hvmdPVNED7OnDOiGRewDj4wmSqbWJAol2FlJ+kYMBU46WbxFhiQE5iEFg5FDxAxF+TNer7WMDcLjTXaXQrQExPWOIBd1TA7WRwlLzlY0CpMLYQ5BRaQJ1LcVXZPVTAvK5fsBtCWcBLWYY41qdTwItx/iYU3F9AwjQMHxFpUcCbyTfb3Ig9QNklqrcGRl5AybCKNzKlYUBLAtTUssUuQHuIRncQ20PAZXCUvDrhX0A4hCo1ey5YwEUSvYxiqV1AQxzr4jYoYkBjYvNxbZ1iQG+70FynR1fAvp8aL92kG8Bbsb/snmhXwOLplbIMj15AgsXhzK9OXkBJY7SOqoBeQIofY+5aaF5Ay9b6IqFXVMD1Zz9SRERUwKuVCb/UbV5AOX8TChFxYcAVOq+xS6ZhQGyVYHE4QVTAkWEVb2SSXkAG9S1zuow+QArXo3A9JmJAtLCnHf47YEBYObTIdnReQGhcOBCSu1LAnYU97fBLXkC05VyKq2ZeQLZKsDicG2DASKeufJZVVMBrgqj7AFheQL5qZcIveV5AgJ9x4UAMT8BtrS8S2lxeQFPL1voiATVA8DMuHAj5PECU+x2KAudXwAx2w7ZFGTZAfjUHCOZ4WMDon+BiRRNeQPZ698d7aV5APfIHA88DX0BlGeJYFzldQF6AfXTq2lXAq+ek941HXUCBeF2/YMteQMmrcwzI5lLASIrIsIqHXMDI6lbPSWleQJqZmZmZCV5ARN0HILX5OkDSqSuf5WleQOPHmLuWcDtAFhiyutUAYECk/KTap2s4QDiEKjV7gB/A5ZttbkxJYsCRYRVvZFZUwIOG/gkuFiRAfH4YITxyXkCNl24Sg1BUwDsBTYQNt15AppvEILBiYUBpAG+BBJlJwKipZWt9DV1A7dPxmIEeYECZu5aQD+pdQEC+hAoOY15AWK1M+KW+BcB96IL6lm9eQJKumXyzM1TAWWlSCrq9GMA=",
          "dtype": "f8"
         },
         "marker": {
          "color": "#EF553B",
          "symbol": "circle"
         },
         "mode": "markers",
         "name": "Cobalt",
         "showlegend": true,
         "type": "scattergeo"
        },
        {
         "customdata": [
          [
           37194,
           212380,
           "Chile"
          ],
          [
           38543,
           195760,
           "China"
          ],
          [
           37639,
           11231,
           "USA"
          ],
          [
           37470,
           96800,
           "Argentina"
          ],
          [
           37315,
           779000,
           "Canada"
          ],
          [
           81969,
           54149,
           "Spain"
          ],
          [
           36162,
           3371100,
           "Argentina"
          ],
          [
           38474,
           40400,
           "China"
          ],
          [
           37627,
           88000,
           "USA"
          ],
          [
           38320,
           3562000,
           "Mexico"
          ],
          [
           38100,
           9800,
           "Canada"
          ],
          [
           77966,
           53280,
           "Namibia"
          ],
          [
           37628,
           828563,
           "Argentina"
          ],
          [
           37471,
           98000,
           "Mexico"
          ],
          [
           79927,
           145000,
           "Australia"
          ],
          [
           37624,
           9938000,
           "Argentina"
          ],
          [
           77559,
           680000,
           "Spain"
          ],
          [
           37500,
           483000,
           "Australia"
          ],
          [
           80589,
           130000,
           "USA"
          ],
          [
           79165,
           51000,
           "Portugal"
          ],
          [
           78659,
           75000,
           "USA"
          ],
          [
           92117,
           276900,
           "Argentina"
          ],
          [
           81849,
           241200,
           "USA"
          ],
          [
           38700,
           1167000,
           "Chile"
          ],
          [
           37603,
           1113000,
           "USA"
          ],
          [
           77458,
           775200,
           "Zimbabwe"
          ],
          [
           88897,
           1020010,
           "China"
          ],
          [
           38538,
           655160,
           "China"
          ],
          [
           89467,
           122400,
           "United Kingdom"
          ],
          [
           37586,
           3282000,
           "Argentina"
          ],
          [
           86787,
           228000,
           "Argentina"
          ],
          [
           77631,
           8358700,
           "USA"
          ],
          [
           78645,
           475000,
           "USA"
          ],
          [
           40307,
           2990000,
           "Czechia"
          ],
          [
           89585,
           111500,
           "China"
          ],
          [
           92140,
           7328560,
           "Canada"
          ],
          [
           36750,
           7700000,
           "USA"
          ],
          [
           37384,
           24280000,
           "Chile"
          ],
          [
           91495,
           583000,
           "Chile"
          ],
          [
           87489,
           180000,
           "Australia"
          ],
          [
           80026,
           846000,
           "USA"
          ],
          [
           37507,
           736000,
           "Canada"
          ],
          [
           91034,
           680000,
           "Ethiopia"
          ],
          [
           91065,
           227800,
           "Zimbabwe"
          ],
          [
           39374,
           135300,
           "Canada"
          ],
          [
           38460,
           129000,
           "Austria"
          ],
          [
           83014,
           4300000,
           "USA"
          ],
          [
           33967,
           129000,
           "Australia"
          ],
          [
           90710,
           574000,
           "China"
          ],
          [
           36866,
           2581000,
           "Serbia"
          ],
          [
           31477,
           2700,
           "Australia"
          ],
          [
           41752,
           4280,
           "Canada"
          ],
          [
           36956,
           37294,
           "Canada"
          ],
          [
           78206,
           58000,
           "Australia"
          ],
          [
           32016,
           62250,
           "Canada"
          ],
          [
           83002,
           66500,
           "Thailand"
          ],
          [
           78420,
           71700,
           "Dem. Rep. Congo"
          ],
          [
           37599,
           86000,
           "Canada"
          ],
          [
           36506,
           90896,
           "Canada"
          ],
          [
           91300,
           93482,
           "Canada"
          ],
          [
           80111,
           99670,
           "Argentina"
          ],
          [
           32093,
           105006,
           "Canada"
          ],
          [
           32092,
           119000,
           "Canada"
          ],
          [
           79246,
           124000,
           "USA"
          ],
          [
           77513,
           132328,
           "Namibia"
          ],
          [
           30688,
           153000,
           "Australia"
          ],
          [
           29166,
           172600,
           "Canada"
          ],
          [
           37725,
           173000,
           "Canada"
          ],
          [
           38736,
           175000,
           "Canada"
          ],
          [
           87696,
           185000,
           "Argentina"
          ],
          [
           37614,
           224255,
           "Finland"
          ],
          [
           33382,
           94500,
           "Canada"
          ],
          [
           89580,
           246000,
           "Australia"
          ],
          [
           88726,
           266935,
           "USA"
          ],
          [
           90669,
           279684,
           "Canada"
          ],
          [
           78568,
           288960,
           "Argentina"
          ],
          [
           90112,
           2545000,
           "Canada"
          ],
          [
           78244,
           2737000,
           "Australia"
          ],
          [
           37611,
           2901000,
           "Argentina"
          ],
          [
           78031,
           3449462,
           "Argentina"
          ],
          [
           52581,
           3521000,
           "Chile"
          ],
          [
           91554,
           4164337,
           "Canada"
          ],
          [
           78657,
           4300580,
           "Argentina"
          ],
          [
           37612,
           4768230,
           "Argentina"
          ],
          [
           37326,
           6600000,
           "Australia"
          ],
          [
           59768,
           8686000,
           "USA"
          ],
          [
           40251,
           2411000,
           "Argentina"
          ],
          [
           37059,
           9149000,
           "Argentina"
          ],
          [
           83904,
           11217188,
           "Germany"
          ],
          [
           77807,
           2127000,
           "Argentina"
          ],
          [
           80115,
           2127000,
           "Argentina"
          ],
          [
           78512,
           2060000,
           "Australia"
          ],
          [
           78963,
           293400,
           "Portugal"
          ],
          [
           37316,
           299000,
           "Canada"
          ],
          [
           88782,
           308000,
           "Argentina"
          ],
          [
           90668,
           316000,
           "Canada"
          ],
          [
           89287,
           335713,
           "China"
          ],
          [
           78022,
           337300,
           "Mali"
          ],
          [
           37600,
           447000,
           "USA"
          ],
          [
           79424,
           607600,
           "USA"
          ],
          [
           79236,
           640000,
           "Argentina"
          ],
          [
           91333,
           714746,
           "Chile"
          ],
          [
           91648,
           861900,
           "United Kingdom"
          ],
          [
           88960,
           871558,
           "China"
          ],
          [
           32088,
           881052,
           "Canada"
          ],
          [
           91458,
           933909,
           "USA"
          ],
          [
           91863,
           1100000,
           "France"
          ],
          [
           38557,
           1167000,
           "Zimbabwe"
          ],
          [
           88362,
           1320036,
           "Argentina"
          ],
          [
           37610,
           1430000,
           "Canada"
          ],
          [
           90709,
           1730000,
           "Canada"
          ],
          [
           83068,
           1874000,
           "USA"
          ],
          [
           84909,
           2028000,
           "Argentina"
          ],
          [
           91856,
           1028180,
           "Canada"
          ],
          [
           78556,
           1076200,
           "Germany"
          ],
          [
           82881,
           1069000,
           "Brazil"
          ],
          [
           77779,
           2077000,
           "Australia"
          ],
          [
           77514,
           1313600,
           "USA"
          ],
          [
           36265,
           1970000,
           "Canada"
          ],
          [
           91751,
           1337000,
           "USA"
          ],
          [
           87450,
           1665288,
           "Argentina"
          ],
          [
           90509,
           1900000,
           "Argentina"
          ],
          [
           77553,
           1762248,
           "USA"
          ],
          [
           37468,
           1131300,
           "Canada"
          ],
          [
           90024,
           2477800,
           "Canada"
          ],
          [
           77505,
           2697332,
           "USA"
          ],
          [
           89591,
           2514000,
           "USA"
          ],
          [
           77055,
           2882457,
           "USA"
          ],
          [
           82692,
           3180000,
           "Argentina"
          ],
          [
           77208,
           3690000,
           "Mali"
          ],
          [
           89588,
           4500000,
           "USA"
          ],
          [
           51956,
           4659000,
           "Australia"
          ],
          [
           52372,
           6108480,
           "Argentina"
          ],
          [
           78973,
           6936846,
           "Canada"
          ],
          [
           90021,
           8774405,
           "Canada"
          ],
          [
           38553,
           13490000,
           "Dem. Rep. Congo"
          ],
          [
           88127,
           948900,
           "Brazil"
          ],
          [
           84938,
           2500,
           "Australia"
          ],
          [
           80592,
           13400,
           "Australia"
          ],
          [
           37518,
           75700,
           "Canada"
          ],
          [
           37452,
           84000,
           "Canada"
          ],
          [
           79614,
           85680,
           "Australia"
          ],
          [
           79584,
           455000,
           "Ghana"
          ],
          [
           65864,
           506000,
           "Canada"
          ],
          [
           89508,
           514000,
           "Australia"
          ],
          [
           77623,
           606900,
           "Australia"
          ],
          [
           50510,
           740200,
           "Australia"
          ],
          [
           89282,
           766310,
           "Brazil"
          ],
          [
           91750,
           843000,
           "Italy"
          ],
          [
           37174,
           880000,
           "Australia"
          ],
          [
           78577,
           892840,
           "Canada"
          ],
          [
           88872,
           432280,
           "Argentina"
          ],
          [
           78109,
           295700,
           "Argentina"
          ],
          [
           88380,
           122368,
           "USA"
          ],
          [
           41737,
           131627,
           "Zimbabwe"
          ],
          [
           90473,
           150800,
           "Brazil"
          ],
          [
           36505,
           988000,
           "Canada"
          ]
         ],
         "geo": "geo",
         "hovertemplate": "Primary Mineral=Lithium<br>Latitude (degrees)=%{lat}<br>Longitude (degrees)=%{lon}<br>Property ID=%{customdata[0]}<br>Primary Reserves and Resources=%{customdata[1]}<br>Country/Region=%{customdata[2]}<extra></extra>",
         "lat": {
          "bdata": "i+B/K9nhOsD0MorllrJCQOjZrPpcRUNAHuG04EWvN8AUs14M5QxLQJp3nKIjNUVAH4XrUbgOOMCbIOo+AME6QCodrP9z3EJAyjfb3Ji2PUCLbOf7qW1LQCzxgLIpNzXAWK1M+KU+OcDjNhrAW3A3QA74/DBCBEDAMEymCkZtN8BClZo90LpDQPonuFhRAzXAptWQuMdaQUBzgGCOHjdEQNRgGoaPSEFAY9F0djKQOcDfT42XbuJCQCcxCKwc6jrAf4eiQJ+cQUB1PGagMsYxwLtE9dbA/kJARS+jWG5ZP0CNXaJ6azBJQCrG+ZtQ0DjASZ2AJsKWOMAdIJijx5tCQEPKT6p9skFAVACMZ9BcSUD04O6s3b4/QDOK5ZZWx0lAOzYC8braREDNzMzMzIw3wODzwwjhOTXAiC6ob5kTNcAeigJ9IttCQKyL22gA10lA4PPDCOHRFUCztb5IaFMywOIeSx+6uEhASZ2AJsJqR0Br1EM0uhNDQJ5eKcsQ3z/AdbD+z2EKRkDU1LK1vkRGQMx6MZQTtTvAz/dT46VPSUAj2/l+arRIQHpTkQpjWynAlE25wrs4SUB47j1ccpwgQLr3cMlxRx3AKqkT0EToSEDFG5lH/mxLQG8Sg8DKPUtAWWlSCrr9OMATJ/c7FC1JQJijx+9t/kVAxooaTMNgQUAe/pqsUe83wMfXnlkSyEDAbm5MT1guSEDHndLB+ndJQDVeukkMIklAGHjuPVxSOMAWMIFbd89PQKqCUUmdUElAMuauJeSDOMBi83FtqAxDQMa/z7hw1EhAW0I+6NkcOMCF61G4HoVIQJ+T3je+CkDAnKc65GZYOcATfqmfN107wDHrxVBOpDfAOwFNhA3bSUCBQ6hSs386wKMjufyHZDnAE9VbA1vtQMAFbt3NUwVFQP2k2qfjwTfA845TdCR3N8AJFoczv75IQDWYhuEjkjjAl+Kqsu+yOMAb2CrB4jA1wL37471qzURAwhIPKJsCSkDt0/GYgXo4wHQHsTOF2khAYvNxbag4OUBbttYXCa0mQFABMJ5B40JAVOOlm8RIQ0AoSddMvjk5wGZmZmZm5jrAzR5oBYYwSUCrIXGPpf8/QIbJVMGoTkpAZeQs7GnjQkBB8WPMXRdHQLx5qkNu9jPA+kSeJF2LN8AvbqMBvB1KQDdsW5TZQE1AtqFinL+dQEDvG197Zgk5wKmfNxWpmEhAylTBqKReSUAS2nIuxb0wwEcgXtcveDvAeJeL+E7oQkDJcad0sMJKQIY97fDXEENAaVch5SfFOMDC+j+H+QI5wB6n6Egu40JAhbacS3FdSUDTTWIQWH1LQFfsL7sn30JApKXydoQPQ0DPa+wS1bdCQLbbLjTXeTnAbypSYWyxJkAdd0oH69dEQE2+2ebGDDXAOnXlszwXOcBsJt9sc+NJQHWr56T3EUtAWOIBZVNOHcBgqwSLwyEwwHl1jgHZUz3Astr8v+pwP8DuWkI+6KVIQMOBkCxg9klA+dozSwLEP8AfLjnulP4UQArXo3A9Sk9AuDtrt13gPsDd0mpI3GMpwKZh+IiYqjTA/iYUIuDIMMBbQj7o2QxFQE3zjlN0FD/A/OO9amWmSkDGhQMhWfA6wBXj/E0oNDjAZcdGIF7nQkCnkZbK2wk0wONw5ldzIDDAMXxETIk0SEA=",
          "dtype": "f8"
         },
         "legendgroup": "Lithium",
         "lon": {
          "bdata": "DYl7LH0eUcAj+N9KdoRXQAJlU67wcFvA9l0R/G9/UMDk9zb92SddwEj5SbVPlyDASOF6FK7HUMB15bM8DwxdQMGLvoI0ZV3A3J212y5KW8A+syRATelYwIYgByXMxC1AZyeDo+SvUMCgbMoV3rdZwIzWUdUEg15AkwA1tWypUMApBd1e0lgZwAPPvYdLul1AZoNMMnJkXMB4eqUsQ1wdwK9fsBu2VVzAPNo4Yi24UMBiZwqd12BdwMNHxJRIRFHA/IwLB0JWVMC4BrZKsGg/QCwrTUpBa1dAPbg7a7f9VEA82jhiLX4TwE8GR8mrE1HAOxkcJa+mUMBYqDXNO0JdwE5iEFg5UlTA8Uv9vKmIK0DrVs9J73NZQNGWcymuEFzAjXqIRneEXcBxPQrXoxhRwO58PzVeFFHAFVeVfVf2XUCi7gOQ2mJdwBsqxvmb9lLAtMh2vp+CQ0Cv6xfshg07QG/1nPS+/1XAzQaZZOT8LUDzPLg7a1FdwNrmxvSEaV5AMUJ4tHFcXUDmeXB31lYzQGPRdHYyTl1AA0NWt3reUsCvlGWIY/1WwFSp2QOtV2BAHZQw0/bbV8DTE5Z4QJlYQGOcvwmFaDtAH4DUJk4qV8AWhzO/mu1YwOGX+nlTWV3AvFzEd2IMUcDBVgkWhxtWwGwJ+aBnf1DAahg+IqYaXcCNf59x4eAxQCdr1EM0Al5ACoUIOISMU8BZhjjWxetWwG/Tn/1IpVfAHhZqTfPmUMAUrkfheiQ4QJT7HYoC51fANs07TtERXUCdEaW9wVNdwJUO1v85xlnA4umVsgzLUMBGmQ0yyeZZwOC593DJ711AApoIG568UMCqZWt9kSpRwB8uOe6UFFHAYU87/DVLW8DoE3mSdNtQwLosJjYfw1DAK8HicOYDXUBdp5GWyoNdwGr7V1aaslDAG4F4Xb+wUMA/UkSGVSwhQKzFpwAYrVDA3xXB/1a0UMAQQGoTJ6tdQK+ZfLPNDR/Arir7rggKU8A6r7FLVMFQwJvJN9vc6lnAgez17o/5W0COrz2zJGAewLsPQGoTZV3AgpAsYAJvW8Abu0T11r5QwAETuHU3G1HAe9rhr8k6E8B+b9Of/QRVQBV0e0ljV1fAHPD5YYReXcDUK2UZ4pgHQGl0B7EzbT9ALq2GxD2oUMDu68A5I0RTwEj5SbVP013AehnFcktjV8DSxhFr8cdQwA5nfjUHyFnAhZm2f2WVK0ArweJw5vNEwOSghJm2I15A+Db92Y92XcCrCaLuA3xSwMpPqn06UFvATFRvDWztUMDD9ShcjxRRwNuizAaZYF3AxJRIope5UsCKH2PuWk5dwGGOHr+3YV3ATP28qUhbXcDjUwCMZ1pdwLdFmQ0yyVDAghyUMNPWH8CoABjPoKNcwANbJVgcul1AQBh47j20UMBnRGlv8HtcwAQEc/T4Q13A7dgIxOtiO0CI1/ULdg9FwGowDcNHal1AQL6ECg5jXkAmNh/XhvxVwJp8s82NP1PAz72HS47lXUC3m+Cbps/yv+Olm8QgYFzAXKyowTSiXkDfFcH/VllgQBTtKqT8ul1AKxN+qZ/zRMAXSFD8GLMoQBqojH+fW15AjNZR1QQfUsA50a5CygdRwC+GcqJdv1DA+vIC7KNlXcA5nPnVHGg9QFEU6BN5DkXAdTxmoDJ0U8A=",
          "dtype": "f8"
         },
         "marker": {
          "color": "#00cc96",
          "symbol": "circle"
         },
         "mode": "markers",
         "name": "Lithium",
         "showlegend": true,
         "type": "scattergeo"
        },
        {
         "customdata": [
          [
           55692,
           3300000,
           "Brazil"
          ],
          [
           57500,
           5600000,
           "Kazakhstan"
          ],
          [
           60351,
           17100000,
           "Namibia"
          ],
          [
           67247,
           51183000,
           "South Africa"
          ],
          [
           56921,
           14200000,
           "Australia"
          ],
          [
           83716,
           15000000,
           "Namibia"
          ],
          [
           57502,
           221800000,
           "Kazakhstan"
          ],
          [
           65917,
           42700000,
           "Gabon"
          ],
          [
           57562,
           20000000,
           "Australia"
          ],
          [
           68558,
           160000000,
           "Ukraine"
          ],
          [
           61015,
           135488474,
           "Canada"
          ],
          [
           67618,
           13970000,
           "Togo"
          ],
          [
           32611,
           9300000,
           "Brazil"
          ],
          [
           52858,
           7800000,
           "Australia"
          ],
          [
           56047,
           8200000,
           "Brazil"
          ],
          [
           85871,
           100000000,
           "South Africa"
          ],
          [
           85867,
           59460000,
           "South Africa"
          ],
          [
           85887,
           7650000,
           "India"
          ],
          [
           59949,
           57500000,
           "Australia"
          ],
          [
           61022,
           62860000,
           "Canada"
          ],
          [
           81746,
           26960000,
           "Czechia"
          ],
          [
           53686,
           752840000,
           "South Africa"
          ],
          [
           88375,
           1200000,
           "Australia"
          ],
          [
           59778,
           6190000,
           "China"
          ],
          [
           91432,
           9225100,
           "China"
          ],
          [
           91434,
           9246700,
           "China"
          ],
          [
           68328,
           11149000,
           "USA"
          ],
          [
           80211,
           14700000,
           "Botswana"
          ],
          [
           63293,
           20950000,
           "China"
          ],
          [
           59003,
           30264753,
           "Chile"
          ],
          [
           86623,
           48100000,
           "South Africa"
          ],
          [
           60260,
           176650000,
           "Australia"
          ],
          [
           58513,
           312000000,
           "Australia"
          ],
          [
           62246,
           15640000,
           "Gabon"
          ],
          [
           59777,
           58760000,
           "China"
          ],
          [
           92742,
           98983760,
           "Brazil"
          ],
          [
           74801,
           107750000,
           "India"
          ],
          [
           59345,
           200000000,
           "South Africa"
          ],
          [
           54303,
           416000000,
           "Gabon"
          ],
          [
           59772,
           427901624,
           "South Africa"
          ]
         ],
         "geo": "geo",
         "hovertemplate": "Primary Mineral=Manganese<br>Latitude (degrees)=%{lat}<br>Longitude (degrees)=%{lon}<br>Property ID=%{customdata[0]}<br>Primary Reserves and Resources=%{customdata[1]}<br>Country/Region=%{customdata[2]}<extra></extra>",
         "lat": {
          "bdata": "zczMzMzM7D/P91PjpStIQOxRuB6FKzXAuK8D54wIPMCU+x2KAh02wKmHaHQHKTXA4XoUrkchSECVgm4vaYz6v5zEILByyDbATDeJQWDVR0DXo3A9ChdHQAQ5KGGmfSVAxVVl3xUxM8BKDAIrhxY2wMP1KFyPojTAba0vEtoqPMCXVkPiHvs7wBWpMLYQfDZAY7SOqiaAN8Abu0T11hxHQMYzaOifBElAe2ZJgJoiO8Bt/8pKkxI1wAuYwK27STdAgT6RJ0lnQ0A6OxkcJYdDQKOvIM1YYEdAEEBqEyf/OMAjZ2FPO6Q7QArXo3A9CjLAizIbZJIxO8AErcCQ1U03wMiYu5aQTzbAMzMzMzMzsz9mZmZmZuY2QJrrNNJSGTTAmpmZmZnZNUAxthDkoDQ7wAwCK4cW2fi/Gy/dJAZhO8A=",
          "dtype": "f8"
         },
         "legendgroup": "Manganese",
         "lon": {
          "bdata": "AAAAAAAASsBCYOXQInNRQKJFtvP9FDJAg/qWOV0GN0DMKJZbWkdeQOONzCN/8DFA7FG4HoWLUUDkFB3J5T8rQJqZmZmZOV5Ake18PzUOQUApXI/C9ehQwHjuPVxy3Ns/dqbQeY3NTMA8vVKWISZeQN9PjZdu4kXAWoEhq1sFN0Cp2QOtwAg3QA7bFmU2clJAUPwYc9csXkBEqFKzB+hQwG9HOC144S5APWGJB5TdNkCgibDh6T1eQH+8V61MylpA8rBQa5q/UkCQSUbOwphSQA1slWBxflfAn82qz9VOOUDMlxdgH71aQLgehetRaFHAl+Kqsu/qNkDPTgZHySteQGDI6lbPM15AcT0K16PwJUBbzqW4qqpaQOI7MevFcEXAO99PjZcOVEBxPQrXo/g2QFCNl24SgypAZDvfT433NkA=",
          "dtype": "f8"
         },
         "marker": {
          "color": "#ab63fa",
          "symbol": "circle"
         },
         "mode": "markers",
         "name": "Manganese",
         "showlegend": true,
         "type": "scattergeo"
        }
       ],
       "layout": {
        "geo": {
         "center": {},
         "domain": {
          "x": [
           0,
           1
          ],
          "y": [
           0,
           1
          ]
         }
        },
        "legend": {
         "title": {
          "text": "Primary Mineral"
         },
         "tracegroupgap": 0
        },
        "margin": {
         "b": 30,
         "l": 5,
         "r": 5,
         "t": 30
        },
        "template": {
         "data": {
          "bar": [
           {
            "error_x": {
             "color": "#2a3f5f"
            },
            "error_y": {
             "color": "#2a3f5f"
            },
            "marker": {
             "line": {
              "color": "#E5ECF6",
              "width": 0.5
             },
             "pattern": {
              "fillmode": "overlay",
              "size": 10,
              "solidity": 0.2
             }
            },
            "type": "bar"
           }
          ],
          "barpolar": [
           {
            "marker": {
             "line": {
              "color": "#E5ECF6",
              "width": 0.5
             },
             "pattern": {
              "fillmode": "overlay",
              "size": 10,
              "solidity": 0.2
             }
            },
            "type": "barpolar"
           }
          ],
          "carpet": [
           {
            "aaxis": {
             "endlinecolor": "#2a3f5f",
             "gridcolor": "white",
             "linecolor": "white",
             "minorgridcolor": "white",
             "startlinecolor": "#2a3f5f"
            },
            "baxis": {
             "endlinecolor": "#2a3f5f",
             "gridcolor": "white",
             "linecolor": "white",
             "minorgridcolor": "white",
             "startlinecolor": "#2a3f5f"
            },
            "type": "carpet"
           }
          ],
          "choropleth": [
           {
            "colorbar": {
             "outlinewidth": 0,
             "ticks": ""
            },
            "type": "choropleth"
           }
          ],
          "contour": [
           {
            "colorbar": {
             "outlinewidth": 0,
             "ticks": ""
            },
            "colorscale": [
             [
              0,
              "#0d0887"
             ],
             [
              0.1111111111111111,
              "#46039f"
             ],
             [
              0.2222222222222222,
              "#7201a8"
             ],
             [
              0.3333333333333333,
              "#9c179e"
             ],
             [
              0.4444444444444444,
              "#bd3786"
             ],
             [
              0.5555555555555556,
              "#d8576b"
             ],
             [
              0.6666666666666666,
              "#ed7953"
             ],
             [
              0.7777777777777778,
              "#fb9f3a"
             ],
             [
              0.8888888888888888,
              "#fdca26"
             ],
             [
              1,
              "#f0f921"
             ]
            ],
            "type": "contour"
           }
          ],
          "contourcarpet": [
           {
            "colorbar": {
             "outlinewidth": 0,
             "ticks": ""
            },
            "type": "contourcarpet"
           }
          ],
          "heatmap": [
           {
            "colorbar": {
             "outlinewidth": 0,
             "ticks": ""
            },
            "colorscale": [
             [
              0,
              "#0d0887"
             ],
             [
              0.1111111111111111,
              "#46039f"
             ],
             [
              0.2222222222222222,
              "#7201a8"
             ],
             [
              0.3333333333333333,
              "#9c179e"
             ],
             [
              0.4444444444444444,
              "#bd3786"
             ],
             [
              0.5555555555555556,
              "#d8576b"
             ],
             [
              0.6666666666666666,
              "#ed7953"
             ],
             [
              0.7777777777777778,
              "#fb9f3a"
             ],
             [
              0.8888888888888888,
              "#fdca26"
             ],
             [
              1,
              "#f0f921"
             ]
            ],
            "type": "heatmap"
           }
          ],
          "histogram": [
           {
            "marker": {
             "pattern": {
              "fillmode": "overlay",
              "size": 10,
              "solidity": 0.2
             }
            },
            "type": "histogram"
           }
          ],
          "histogram2d": [
           {
            "colorbar": {
             "outlinewidth": 0,
             "ticks": ""
            },
            "colorscale": [
             [
              0,
              "#0d0887"
             ],
             [
              0.1111111111111111,
              "#46039f"
             ],
             [
              0.2222222222222222,
              "#7201a8"
             ],
             [
              0.3333333333333333,
              "#9c179e"
             ],
             [
              0.4444444444444444,
              "#bd3786"
             ],
             [
              0.5555555555555556,
              "#d8576b"
             ],
             [
              0.6666666666666666,
              "#ed7953"
             ],
             [
              0.7777777777777778,
              "#fb9f3a"
             ],
             [
              0.8888888888888888,
              "#fdca26"
             ],
             [
              1,
              "#f0f921"
             ]
            ],
            "type": "histogram2d"
           }
          ],
          "histogram2dcontour": [
           {
            "colorbar": {
             "outlinewidth": 0,
             "ticks": ""
            },
            "colorscale": [
             [
              0,
              "#0d0887"
             ],
             [
              0.1111111111111111,
              "#46039f"
             ],
             [
              0.2222222222222222,
              "#7201a8"
             ],
             [
              0.3333333333333333,
              "#9c179e"
             ],
             [
              0.4444444444444444,
              "#bd3786"
             ],
             [
              0.5555555555555556,
              "#d8576b"
             ],
             [
              0.6666666666666666,
              "#ed7953"
             ],
             [
              0.7777777777777778,
              "#fb9f3a"
             ],
             [
              0.8888888888888888,
              "#fdca26"
             ],
             [
              1,
              "#f0f921"
             ]
            ],
            "type": "histogram2dcontour"
           }
          ],
          "mesh3d": [
           {
            "colorbar": {
             "outlinewidth": 0,
             "ticks": ""
            },
            "type": "mesh3d"
           }
          ],
          "parcoords": [
           {
            "line": {
             "colorbar": {
              "outlinewidth": 0,
              "ticks": ""
             }
            },
            "type": "parcoords"
           }
          ],
          "pie": [
           {
            "automargin": true,
            "type": "pie"
           }
          ],
          "scatter": [
           {
            "fillpattern": {
             "fillmode": "overlay",
             "size": 10,
             "solidity": 0.2
            },
            "type": "scatter"
           }
          ],
          "scatter3d": [
           {
            "line": {
             "colorbar": {
              "outlinewidth": 0,
              "ticks": ""
             }
            },
            "marker": {
             "colorbar": {
              "outlinewidth": 0,
              "ticks": ""
             }
            },
            "type": "scatter3d"
           }
          ],
          "scattercarpet": [
           {
            "marker": {
             "colorbar": {
              "outlinewidth": 0,
              "ticks": ""
             }
            },
            "type": "scattercarpet"
           }
          ],
          "scattergeo": [
           {
            "marker": {
             "colorbar": {
              "outlinewidth": 0,
              "ticks": ""
             }
            },
            "type": "scattergeo"
           }
          ],
          "scattergl": [
           {
            "marker": {
             "colorbar": {
              "outlinewidth": 0,
              "ticks": ""
             }
            },
            "type": "scattergl"
           }
          ],
          "scattermap": [
           {
            "marker": {
             "colorbar": {
              "outlinewidth": 0,
              "ticks": ""
             }
            },
            "type": "scattermap"
           }
          ],
          "scattermapbox": [
           {
            "marker": {
             "colorbar": {
              "outlinewidth": 0,
              "ticks": ""
             }
            },
            "type": "scattermapbox"
           }
          ],
          "scatterpolar": [
           {
            "marker": {
             "colorbar": {
              "outlinewidth": 0,
              "ticks": ""
             }
            },
            "type": "scatterpolar"
           }
          ],
          "scatterpolargl": [
           {
            "marker": {
             "colorbar": {
              "outlinewidth": 0,
              "ticks": ""
             }
            },
            "type": "scatterpolargl"
           }
          ],
          "scatterternary": [
           {
            "marker": {
             "colorbar": {
              "outlinewidth": 0,
              "ticks": ""
             }
            },
            "type": "scatterternary"
           }
          ],
          "surface": [
           {
            "colorbar": {
             "outlinewidth": 0,
             "ticks": ""
            },
            "colorscale": [
             [
              0,
              "#0d0887"
             ],
             [
              0.1111111111111111,
              "#46039f"
             ],
             [
              0.2222222222222222,
              "#7201a8"
             ],
             [
              0.3333333333333333,
              "#9c179e"
             ],
             [
              0.4444444444444444,
              "#bd3786"
             ],
             [
              0.5555555555555556,
              "#d8576b"
             ],
             [
              0.6666666666666666,
              "#ed7953"
             ],
             [
              0.7777777777777778,
              "#fb9f3a"
             ],
             [
              0.8888888888888888,
              "#fdca26"
             ],
             [
              1,
              "#f0f921"
             ]
            ],
            "type": "surface"
           }
          ],
          "table": [
           {
            "cells": {
             "fill": {
              "color": "#EBF0F8"
             },
             "line": {
              "color": "white"
             }
            },
            "header": {
             "fill": {
              "color": "#C8D4E3"
             },
             "line": {
              "color": "white"
             }
            },
            "type": "table"
           }
          ]
         },
         "layout": {
          "annotationdefaults": {
           "arrowcolor": "#2a3f5f",
           "arrowhead": 0,
           "arrowwidth": 1
          },
          "autotypenumbers": "strict",
          "coloraxis": {
           "colorbar": {
            "outlinewidth": 0,
            "ticks": ""
           }
          },
          "colorscale": {
           "diverging": [
            [
             0,
             "#8e0152"
            ],
            [
             0.1,
             "#c51b7d"
            ],
            [
             0.2,
             "#de77ae"
            ],
            [
             0.3,
             "#f1b6da"
            ],
            [
             0.4,
             "#fde0ef"
            ],
            [
             0.5,
             "#f7f7f7"
            ],
            [
             0.6,
             "#e6f5d0"
            ],
            [
             0.7,
             "#b8e186"
            ],
            [
             0.8,
             "#7fbc41"
            ],
            [
             0.9,
             "#4d9221"
            ],
            [
             1,
             "#276419"
            ]
           ],
           "sequential": [
            [
             0,
             "#0d0887"
            ],
            [
             0.1111111111111111,
             "#46039f"
            ],
            [
             0.2222222222222222,
             "#7201a8"
            ],
            [
             0.3333333333333333,
             "#9c179e"
            ],
            [
             0.4444444444444444,
             "#bd3786"
            ],
            [
             0.5555555555555556,
             "#d8576b"
            ],
            [
             0.6666666666666666,
             "#ed7953"
            ],
            [
             0.7777777777777778,
             "#fb9f3a"
            ],
            [
             0.8888888888888888,
             "#fdca26"
            ],
            [
             1,
             "#f0f921"
            ]
           ],
           "sequentialminus": [
            [
             0,
             "#0d0887"
            ],
            [
             0.1111111111111111,
             "#46039f"
            ],
            [
             0.2222222222222222,
             "#7201a8"
            ],
            [
             0.3333333333333333,
             "#9c179e"
            ],
            [
             0.4444444444444444,
             "#bd3786"
            ],
            [
             0.5555555555555556,
             "#d8576b"
            ],
            [
             0.6666666666666666,
             "#ed7953"
            ],
            [
             0.7777777777777778,
             "#fb9f3a"
            ],
            [
             0.8888888888888888,
             "#fdca26"
            ],
            [
             1,
             "#f0f921"
            ]
           ]
          },
          "colorway": [
           "#636efa",
           "#EF553B",
           "#00cc96",
           "#ab63fa",
           "#FFA15A",
           "#19d3f3",
           "#FF6692",
           "#B6E880",
           "#FF97FF",
           "#FECB52"
          ],
          "font": {
           "color": "#2a3f5f"
          },
          "geo": {
           "bgcolor": "white",
           "lakecolor": "white",
           "landcolor": "#E5ECF6",
           "showlakes": true,
           "showland": true,
           "subunitcolor": "white"
          },
          "hoverlabel": {
           "align": "left"
          },
          "hovermode": "closest",
          "mapbox": {
           "style": "light"
          },
          "paper_bgcolor": "white",
          "plot_bgcolor": "#E5ECF6",
          "polar": {
           "angularaxis": {
            "gridcolor": "white",
            "linecolor": "white",
            "ticks": ""
           },
           "bgcolor": "#E5ECF6",
           "radialaxis": {
            "gridcolor": "white",
            "linecolor": "white",
            "ticks": ""
           }
          },
          "scene": {
           "xaxis": {
            "backgroundcolor": "#E5ECF6",
            "gridcolor": "white",
            "gridwidth": 2,
            "linecolor": "white",
            "showbackground": true,
            "ticks": "",
            "zerolinecolor": "white"
           },
           "yaxis": {
            "backgroundcolor": "#E5ECF6",
            "gridcolor": "white",
            "gridwidth": 2,
            "linecolor": "white",
            "showbackground": true,
            "ticks": "",
            "zerolinecolor": "white"
           },
           "zaxis": {
            "backgroundcolor": "#E5ECF6",
            "gridcolor": "white",
            "gridwidth": 2,
            "linecolor": "white",
            "showbackground": true,
            "ticks": "",
            "zerolinecolor": "white"
           }
          },
          "shapedefaults": {
           "line": {
            "color": "#2a3f5f"
           }
          },
          "ternary": {
           "aaxis": {
            "gridcolor": "white",
            "linecolor": "white",
            "ticks": ""
           },
           "baxis": {
            "gridcolor": "white",
            "linecolor": "white",
            "ticks": ""
           },
           "bgcolor": "#E5ECF6",
           "caxis": {
            "gridcolor": "white",
            "linecolor": "white",
            "ticks": ""
           }
          },
          "title": {
           "x": 0.05
          },
          "xaxis": {
           "automargin": true,
           "gridcolor": "white",
           "linecolor": "white",
           "ticks": "",
           "title": {
            "standoff": 15
           },
           "zerolinecolor": "white",
           "zerolinewidth": 2
          },
          "yaxis": {
           "automargin": true,
           "gridcolor": "white",
           "linecolor": "white",
           "ticks": "",
           "title": {
            "standoff": 15
           },
           "zerolinecolor": "white",
           "zerolinewidth": 2
          }
         }
        },
        "title": {
         "text": "Map of Reserves"
        }
       }
      }
     },
     "metadata": {},
     "output_type": "display_data"
    }
   ],
   "source": [
    "from sklearn.cluster import KMeans\n",
    "k = 7 # Number of clusters (adjust based on need)\n",
    "\n",
    "C = combined.copy()\n",
    "\n",
    "kmeans = KMeans(n_clusters=k, random_state=42).fit(C[[\"Latitude (degrees)\", \"Longitude (degrees)\"]])\n",
    "C['cluster'] = kmeans.labels_\n",
    "\n",
    "fig = px.scatter_geo(C, lat=\"Latitude (degrees)\", lon=\"Longitude (degrees)\", color=\"Primary Mineral\", \n",
    "                    size_max=40, hover_data=[\"Property ID\",\"Primary Reserves and Resources\", \"Country/Region\"],)\n",
    "\n",
    "fig.update_layout(title=\"Map of Reserves\",margin=dict(l=5, r=5, t=30, b=30))\n",
    "fig.show()"
   ]
  },
  {
   "cell_type": "code",
   "execution_count": 110,
   "id": "b676580b",
   "metadata": {},
   "outputs": [],
   "source": [
    "fig.write_html(file=\"graphs/reserves_map.html\")"
   ]
  },
  {
   "cell_type": "code",
   "execution_count": 25,
   "id": "a7f37802",
   "metadata": {},
   "outputs": [],
   "source": [
    "usca = C[C[\"Primary Mineral\"].isin([\"Cobalt\", \"Nickel\", \"Manganese\"]) & \n",
    "         C[\"Country/Region\"].isin([\"USA\", \"Canada\"])]"
   ]
  },
  {
   "cell_type": "code",
   "execution_count": 92,
   "id": "815994f2",
   "metadata": {},
   "outputs": [
    {
     "data": {
      "application/vnd.plotly.v1+json": {
       "config": {
        "plotlyServerURL": "https://plot.ly"
       },
       "data": [
        {
         "customdata": [
          [
           31715,
           350200,
           "Canada"
          ],
          [
           35769,
           44000,
           "Canada"
          ],
          [
           34245,
           17200,
           "Canada"
          ],
          [
           35686,
           300000,
           "Canada"
          ],
          [
           27096,
           46000,
           "Canada"
          ],
          [
           29586,
           50194,
           "Canada"
          ],
          [
           92718,
           42000,
           "Canada"
          ],
          [
           80786,
           23133,
           "USA"
          ],
          [
           25816,
           5720702,
           "Canada"
          ],
          [
           27307,
           116800,
           "Canada"
          ],
          [
           76126,
           68900,
           "Canada"
          ],
          [
           76615,
           50439,
           "Canada"
          ],
          [
           31518,
           75750,
           "Canada"
          ],
          [
           29658,
           76611,
           "Canada"
          ],
          [
           88353,
           70000,
           "Canada"
          ],
          [
           33075,
           48398,
           "Canada"
          ],
          [
           30900,
           394300,
           "Canada"
          ],
          [
           36221,
           217724,
           "USA"
          ],
          [
           84130,
           907,
           "Canada"
          ],
          [
           35448,
           2435240,
           "Canada"
          ],
          [
           26560,
           510000,
           "Canada"
          ],
          [
           28992,
           718800,
           "Canada"
          ],
          [
           35359,
           59100,
           "Canada"
          ],
          [
           26275,
           1435029,
           "Canada"
          ],
          [
           27672,
           1773000,
           "Canada"
          ],
          [
           27146,
           2011000,
           "Canada"
          ],
          [
           32133,
           16577,
           "Canada"
          ],
          [
           33382,
           125161,
           "Canada"
          ],
          [
           30825,
           5702000,
           "Canada"
          ],
          [
           37943,
           4548000,
           "Canada"
          ],
          [
           86139,
           9761600,
           "Canada"
          ],
          [
           33795,
           70000,
           "USA"
          ],
          [
           90553,
           6000,
           "Canada"
          ],
          [
           38359,
           283800,
           "Canada"
          ],
          [
           88428,
           1087200,
           "Canada"
          ],
          [
           32184,
           3675002,
           "USA"
          ],
          [
           33464,
           54504,
           "Canada"
          ],
          [
           27222,
           391885,
           "Canada"
          ]
         ],
         "geo": "geo",
         "hovertemplate": "Primary Mineral=Nickel<br>Latitude (degrees)=%{lat}<br>Longitude (degrees)=%{lon}<br>Property ID=%{customdata[0]}<br>Primary Reserves and Resources=%{customdata[1]}<br>Country/Region=%{customdata[2]}<extra></extra>",
         "lat": {
          "bdata": "pikCnN61TkDt2AjE67JOQEaU9gZfyEdALH3ogvpeSkDIJCNnYTdHQBNhw9MrdUtAnBa86CssSEDZJaq3BsZCQDXSUnk7UkhAIo51cRtpTEA6kst/SAdJQATnjCjtaUtAGH0FacYqR0AAAAAAAIBNQFafq63Y90pA0qkrn+W9SED0MorllnJPQBLCo40jVkdAJjYf14ZySEDLoUW28yVIQLSOqiaI2ktAYOrnTUUqTEB8m/7sR9pJQB0Dste7u05A9DehEAE/R0B9y5wui1FHQDpAMEeP80lAqoJRSZ1QSUA+lj50QT1NQC0hH/RsdktAtRX7y+5pSEByM9yAz19HQBL3WPrQTUlAEMzR4/c2R0CPjUC8rjNIQMgkI2dho09ActwpHaxTSEAm/FI/bw5LQA==",
          "dtype": "f8"
         },
         "legendgroup": "Nickel",
         "lon": {
          "bdata": "zczMzMyIUsD4Nv3Zj75SwDoGZK93S1TAliGOdXGTVcChSs0eaFNUwP/nMF9eqljAJNbiUwBAVMA5l+KqspFWwGMoJ9pVnFPAvK5fsBtCWcBLWYY41qdTwMRfkzXq+1jATE9Y4gF3VMDCNAwfEWlRwGGJB5RNsVfAW7G/7J5oV8A4hCo1ey5YwG+70FynR1fAKNU+HY/TVcBslWBxOEFUwH41BwjmeFjAgJ9x4UAMT8DJq3MMyOZSwDl/EwoRcWHA9Wc/UkREVMDL1voioVdUwF6AfXTq2lXAlPsdigLnV8C2SrA4nBtgwH/7OnDOVl/ASKeufJZVVMA1RuuoavhVwP7UeOkm31fAkWEVb2RWVMCNl24Sg1BUwOWbbW5MSWLAkq6ZfLMzVMAfaAWGrMpYwA==",
          "dtype": "f8"
         },
         "marker": {
          "color": "#636efa",
          "symbol": "circle"
         },
         "mode": "markers",
         "name": "Nickel",
         "showlegend": true,
         "type": "scattergeo"
        },
        {
         "customdata": [
          [
           31715,
           18670,
           "Canada"
          ],
          [
           35769,
           2233,
           "Canada"
          ],
          [
           34245,
           651,
           "Canada"
          ],
          [
           27096,
           1060,
           "Canada"
          ],
          [
           29668,
           74249,
           "Canada"
          ],
          [
           80786,
           15876,
           "USA"
          ],
          [
           29419,
           340,
           "Canada"
          ],
          [
           25816,
           229518,
           "Canada"
          ],
          [
           76615,
           2646,
           "Canada"
          ],
          [
           31518,
           4536,
           "Canada"
          ],
          [
           34473,
           597,
           "Canada"
          ],
          [
           27307,
           5300,
           "Canada"
          ],
          [
           76126,
           1463,
           "Canada"
          ],
          [
           29658,
           4417,
           "Canada"
          ],
          [
           30900,
           46400,
           "Canada"
          ],
          [
           36221,
           5974,
           "USA"
          ],
          [
           33075,
           544,
           "Canada"
          ],
          [
           27146,
           45000,
           "Canada"
          ],
          [
           27672,
           48500,
           "Canada"
          ],
          [
           26275,
           79469,
           "Canada"
          ],
          [
           35448,
           108239,
           "Canada"
          ],
          [
           30825,
           345000,
           "Canada"
          ],
          [
           86139,
           552200,
           "Canada"
          ],
          [
           28992,
           44390,
           "Canada"
          ],
          [
           33382,
           6224,
           "Canada"
          ],
          [
           26560,
           8000,
           "Canada"
          ],
          [
           32133,
           783,
           "Canada"
          ],
          [
           35359,
           3700,
           "Canada"
          ],
          [
           27870,
           9268,
           "USA"
          ],
          [
           32184,
           285763,
           "USA"
          ],
          [
           38359,
           9890,
           "Canada"
          ],
          [
           88428,
           46600,
           "Canada"
          ],
          [
           33464,
           1449,
           "Canada"
          ]
         ],
         "geo": "geo",
         "hovertemplate": "Primary Mineral=Cobalt<br>Latitude (degrees)=%{lat}<br>Longitude (degrees)=%{lon}<br>Property ID=%{customdata[0]}<br>Primary Reserves and Resources=%{customdata[1]}<br>Country/Region=%{customdata[2]}<extra></extra>",
         "lat": {
          "bdata": "pikCnN61TkDt2AjE67JOQEaU9gZfyEdAyCQjZ2E3R0BmZmZmZsZPQNklqrcGxkJAqwmi7gM8SUA10lJ5O1JIQATnjCjtaUtAGH0FacYqR0BegH106rJHQCKOdXEbaUxAOpLLf0gHSUAAAAAAAIBNQPQyiuWWck9AEsKjjSNWR0DSqSuf5b1IQH3LnC6LUUdA9DehEAE/R0AdA7LXu7tOQMuhRbbzJUhAPpY+dEE9TUC1FfvL7mlIQGDq501FKkxAqoJRSZ1QSUC0jqomiNpLQDpAMEeP80lAfJv+7EfaSUBI+Um1T3tGQMgkI2dho09AEMzR4/c2R0CPjUC8rjNIQHLcKR2sU0hA",
          "dtype": "f8"
         },
         "legendgroup": "Cobalt",
         "lon": {
          "bdata": "zczMzMyIUsD4Nv3Zj75SwDoGZK93S1TAoUrNHmhTVMALmMCtuy9dwDmX4qqykVbABrth26K+V8BjKCfaVZxTwMRfkzXq+1jATE9Y4gF3VMCdS3FV2T1UwLyuX7AbQlnAS1mGONanU8DCNAwfEWlRwDiEKjV7LljAb7vQXKdHV8Bbsb/snmhXwMvW+iKhV1TA9Wc/UkREVMA5fxMKEXFhwGyVYHE4QVTAtkqwOJwbYMBIp658llVUwICfceFADE/AlPsdigLnV8B+NQcI5nhYwF6AfXTq2lXAyatzDMjmUsBIisiwiodcwOWbbW5MSWLAkWEVb2RWVMCNl24Sg1BUwJKumXyzM1TA",
          "dtype": "f8"
         },
         "marker": {
          "color": "#EF553B",
          "symbol": "circle"
         },
         "mode": "markers",
         "name": "Cobalt",
         "showlegend": true,
         "type": "scattergeo"
        },
        {
         "customdata": [
          [
           61015,
           135488474,
           "Canada"
          ],
          [
           61022,
           62860000,
           "Canada"
          ],
          [
           68328,
           11149000,
           "USA"
          ]
         ],
         "geo": "geo",
         "hovertemplate": "Primary Mineral=Manganese<br>Latitude (degrees)=%{lat}<br>Longitude (degrees)=%{lon}<br>Property ID=%{customdata[0]}<br>Primary Reserves and Resources=%{customdata[1]}<br>Country/Region=%{customdata[2]}<extra></extra>",
         "lat": {
          "bdata": "16NwPQoXR0Abu0T11hxHQKOvIM1YYEdA",
          "dtype": "f8"
         },
         "legendgroup": "Manganese",
         "lon": {
          "bdata": "KVyPwvXoUMBEqFKzB+hQwA1slWBxflfA",
          "dtype": "f8"
         },
         "marker": {
          "color": "#00cc96",
          "symbol": "circle"
         },
         "mode": "markers",
         "name": "Manganese",
         "showlegend": true,
         "type": "scattergeo"
        }
       ],
       "layout": {
        "geo": {
         "center": {},
         "domain": {
          "x": [
           0,
           1
          ],
          "y": [
           0,
           1
          ]
         },
         "landcolor": "rgb(217, 217, 217)",
         "lataxis": {
          "range": [
           27.54708,
           73.55
          ]
         },
         "lonaxis": {
          "range": [
           -156.29058,
           -52.09573
          ]
         },
         "showland": true
        },
        "legend": {
         "title": {
          "text": "Primary Mineral"
         },
         "tracegroupgap": 0
        },
        "margin": {
         "t": 60
        },
        "template": {
         "data": {
          "bar": [
           {
            "error_x": {
             "color": "#2a3f5f"
            },
            "error_y": {
             "color": "#2a3f5f"
            },
            "marker": {
             "line": {
              "color": "#E5ECF6",
              "width": 0.5
             },
             "pattern": {
              "fillmode": "overlay",
              "size": 10,
              "solidity": 0.2
             }
            },
            "type": "bar"
           }
          ],
          "barpolar": [
           {
            "marker": {
             "line": {
              "color": "#E5ECF6",
              "width": 0.5
             },
             "pattern": {
              "fillmode": "overlay",
              "size": 10,
              "solidity": 0.2
             }
            },
            "type": "barpolar"
           }
          ],
          "carpet": [
           {
            "aaxis": {
             "endlinecolor": "#2a3f5f",
             "gridcolor": "white",
             "linecolor": "white",
             "minorgridcolor": "white",
             "startlinecolor": "#2a3f5f"
            },
            "baxis": {
             "endlinecolor": "#2a3f5f",
             "gridcolor": "white",
             "linecolor": "white",
             "minorgridcolor": "white",
             "startlinecolor": "#2a3f5f"
            },
            "type": "carpet"
           }
          ],
          "choropleth": [
           {
            "colorbar": {
             "outlinewidth": 0,
             "ticks": ""
            },
            "type": "choropleth"
           }
          ],
          "contour": [
           {
            "colorbar": {
             "outlinewidth": 0,
             "ticks": ""
            },
            "colorscale": [
             [
              0,
              "#0d0887"
             ],
             [
              0.1111111111111111,
              "#46039f"
             ],
             [
              0.2222222222222222,
              "#7201a8"
             ],
             [
              0.3333333333333333,
              "#9c179e"
             ],
             [
              0.4444444444444444,
              "#bd3786"
             ],
             [
              0.5555555555555556,
              "#d8576b"
             ],
             [
              0.6666666666666666,
              "#ed7953"
             ],
             [
              0.7777777777777778,
              "#fb9f3a"
             ],
             [
              0.8888888888888888,
              "#fdca26"
             ],
             [
              1,
              "#f0f921"
             ]
            ],
            "type": "contour"
           }
          ],
          "contourcarpet": [
           {
            "colorbar": {
             "outlinewidth": 0,
             "ticks": ""
            },
            "type": "contourcarpet"
           }
          ],
          "heatmap": [
           {
            "colorbar": {
             "outlinewidth": 0,
             "ticks": ""
            },
            "colorscale": [
             [
              0,
              "#0d0887"
             ],
             [
              0.1111111111111111,
              "#46039f"
             ],
             [
              0.2222222222222222,
              "#7201a8"
             ],
             [
              0.3333333333333333,
              "#9c179e"
             ],
             [
              0.4444444444444444,
              "#bd3786"
             ],
             [
              0.5555555555555556,
              "#d8576b"
             ],
             [
              0.6666666666666666,
              "#ed7953"
             ],
             [
              0.7777777777777778,
              "#fb9f3a"
             ],
             [
              0.8888888888888888,
              "#fdca26"
             ],
             [
              1,
              "#f0f921"
             ]
            ],
            "type": "heatmap"
           }
          ],
          "histogram": [
           {
            "marker": {
             "pattern": {
              "fillmode": "overlay",
              "size": 10,
              "solidity": 0.2
             }
            },
            "type": "histogram"
           }
          ],
          "histogram2d": [
           {
            "colorbar": {
             "outlinewidth": 0,
             "ticks": ""
            },
            "colorscale": [
             [
              0,
              "#0d0887"
             ],
             [
              0.1111111111111111,
              "#46039f"
             ],
             [
              0.2222222222222222,
              "#7201a8"
             ],
             [
              0.3333333333333333,
              "#9c179e"
             ],
             [
              0.4444444444444444,
              "#bd3786"
             ],
             [
              0.5555555555555556,
              "#d8576b"
             ],
             [
              0.6666666666666666,
              "#ed7953"
             ],
             [
              0.7777777777777778,
              "#fb9f3a"
             ],
             [
              0.8888888888888888,
              "#fdca26"
             ],
             [
              1,
              "#f0f921"
             ]
            ],
            "type": "histogram2d"
           }
          ],
          "histogram2dcontour": [
           {
            "colorbar": {
             "outlinewidth": 0,
             "ticks": ""
            },
            "colorscale": [
             [
              0,
              "#0d0887"
             ],
             [
              0.1111111111111111,
              "#46039f"
             ],
             [
              0.2222222222222222,
              "#7201a8"
             ],
             [
              0.3333333333333333,
              "#9c179e"
             ],
             [
              0.4444444444444444,
              "#bd3786"
             ],
             [
              0.5555555555555556,
              "#d8576b"
             ],
             [
              0.6666666666666666,
              "#ed7953"
             ],
             [
              0.7777777777777778,
              "#fb9f3a"
             ],
             [
              0.8888888888888888,
              "#fdca26"
             ],
             [
              1,
              "#f0f921"
             ]
            ],
            "type": "histogram2dcontour"
           }
          ],
          "mesh3d": [
           {
            "colorbar": {
             "outlinewidth": 0,
             "ticks": ""
            },
            "type": "mesh3d"
           }
          ],
          "parcoords": [
           {
            "line": {
             "colorbar": {
              "outlinewidth": 0,
              "ticks": ""
             }
            },
            "type": "parcoords"
           }
          ],
          "pie": [
           {
            "automargin": true,
            "type": "pie"
           }
          ],
          "scatter": [
           {
            "fillpattern": {
             "fillmode": "overlay",
             "size": 10,
             "solidity": 0.2
            },
            "type": "scatter"
           }
          ],
          "scatter3d": [
           {
            "line": {
             "colorbar": {
              "outlinewidth": 0,
              "ticks": ""
             }
            },
            "marker": {
             "colorbar": {
              "outlinewidth": 0,
              "ticks": ""
             }
            },
            "type": "scatter3d"
           }
          ],
          "scattercarpet": [
           {
            "marker": {
             "colorbar": {
              "outlinewidth": 0,
              "ticks": ""
             }
            },
            "type": "scattercarpet"
           }
          ],
          "scattergeo": [
           {
            "marker": {
             "colorbar": {
              "outlinewidth": 0,
              "ticks": ""
             }
            },
            "type": "scattergeo"
           }
          ],
          "scattergl": [
           {
            "marker": {
             "colorbar": {
              "outlinewidth": 0,
              "ticks": ""
             }
            },
            "type": "scattergl"
           }
          ],
          "scattermap": [
           {
            "marker": {
             "colorbar": {
              "outlinewidth": 0,
              "ticks": ""
             }
            },
            "type": "scattermap"
           }
          ],
          "scattermapbox": [
           {
            "marker": {
             "colorbar": {
              "outlinewidth": 0,
              "ticks": ""
             }
            },
            "type": "scattermapbox"
           }
          ],
          "scatterpolar": [
           {
            "marker": {
             "colorbar": {
              "outlinewidth": 0,
              "ticks": ""
             }
            },
            "type": "scatterpolar"
           }
          ],
          "scatterpolargl": [
           {
            "marker": {
             "colorbar": {
              "outlinewidth": 0,
              "ticks": ""
             }
            },
            "type": "scatterpolargl"
           }
          ],
          "scatterternary": [
           {
            "marker": {
             "colorbar": {
              "outlinewidth": 0,
              "ticks": ""
             }
            },
            "type": "scatterternary"
           }
          ],
          "surface": [
           {
            "colorbar": {
             "outlinewidth": 0,
             "ticks": ""
            },
            "colorscale": [
             [
              0,
              "#0d0887"
             ],
             [
              0.1111111111111111,
              "#46039f"
             ],
             [
              0.2222222222222222,
              "#7201a8"
             ],
             [
              0.3333333333333333,
              "#9c179e"
             ],
             [
              0.4444444444444444,
              "#bd3786"
             ],
             [
              0.5555555555555556,
              "#d8576b"
             ],
             [
              0.6666666666666666,
              "#ed7953"
             ],
             [
              0.7777777777777778,
              "#fb9f3a"
             ],
             [
              0.8888888888888888,
              "#fdca26"
             ],
             [
              1,
              "#f0f921"
             ]
            ],
            "type": "surface"
           }
          ],
          "table": [
           {
            "cells": {
             "fill": {
              "color": "#EBF0F8"
             },
             "line": {
              "color": "white"
             }
            },
            "header": {
             "fill": {
              "color": "#C8D4E3"
             },
             "line": {
              "color": "white"
             }
            },
            "type": "table"
           }
          ]
         },
         "layout": {
          "annotationdefaults": {
           "arrowcolor": "#2a3f5f",
           "arrowhead": 0,
           "arrowwidth": 1
          },
          "autotypenumbers": "strict",
          "coloraxis": {
           "colorbar": {
            "outlinewidth": 0,
            "ticks": ""
           }
          },
          "colorscale": {
           "diverging": [
            [
             0,
             "#8e0152"
            ],
            [
             0.1,
             "#c51b7d"
            ],
            [
             0.2,
             "#de77ae"
            ],
            [
             0.3,
             "#f1b6da"
            ],
            [
             0.4,
             "#fde0ef"
            ],
            [
             0.5,
             "#f7f7f7"
            ],
            [
             0.6,
             "#e6f5d0"
            ],
            [
             0.7,
             "#b8e186"
            ],
            [
             0.8,
             "#7fbc41"
            ],
            [
             0.9,
             "#4d9221"
            ],
            [
             1,
             "#276419"
            ]
           ],
           "sequential": [
            [
             0,
             "#0d0887"
            ],
            [
             0.1111111111111111,
             "#46039f"
            ],
            [
             0.2222222222222222,
             "#7201a8"
            ],
            [
             0.3333333333333333,
             "#9c179e"
            ],
            [
             0.4444444444444444,
             "#bd3786"
            ],
            [
             0.5555555555555556,
             "#d8576b"
            ],
            [
             0.6666666666666666,
             "#ed7953"
            ],
            [
             0.7777777777777778,
             "#fb9f3a"
            ],
            [
             0.8888888888888888,
             "#fdca26"
            ],
            [
             1,
             "#f0f921"
            ]
           ],
           "sequentialminus": [
            [
             0,
             "#0d0887"
            ],
            [
             0.1111111111111111,
             "#46039f"
            ],
            [
             0.2222222222222222,
             "#7201a8"
            ],
            [
             0.3333333333333333,
             "#9c179e"
            ],
            [
             0.4444444444444444,
             "#bd3786"
            ],
            [
             0.5555555555555556,
             "#d8576b"
            ],
            [
             0.6666666666666666,
             "#ed7953"
            ],
            [
             0.7777777777777778,
             "#fb9f3a"
            ],
            [
             0.8888888888888888,
             "#fdca26"
            ],
            [
             1,
             "#f0f921"
            ]
           ]
          },
          "colorway": [
           "#636efa",
           "#EF553B",
           "#00cc96",
           "#ab63fa",
           "#FFA15A",
           "#19d3f3",
           "#FF6692",
           "#B6E880",
           "#FF97FF",
           "#FECB52"
          ],
          "font": {
           "color": "#2a3f5f"
          },
          "geo": {
           "bgcolor": "white",
           "lakecolor": "white",
           "landcolor": "#E5ECF6",
           "showlakes": true,
           "showland": true,
           "subunitcolor": "white"
          },
          "hoverlabel": {
           "align": "left"
          },
          "hovermode": "closest",
          "mapbox": {
           "style": "light"
          },
          "paper_bgcolor": "white",
          "plot_bgcolor": "#E5ECF6",
          "polar": {
           "angularaxis": {
            "gridcolor": "white",
            "linecolor": "white",
            "ticks": ""
           },
           "bgcolor": "#E5ECF6",
           "radialaxis": {
            "gridcolor": "white",
            "linecolor": "white",
            "ticks": ""
           }
          },
          "scene": {
           "xaxis": {
            "backgroundcolor": "#E5ECF6",
            "gridcolor": "white",
            "gridwidth": 2,
            "linecolor": "white",
            "showbackground": true,
            "ticks": "",
            "zerolinecolor": "white"
           },
           "yaxis": {
            "backgroundcolor": "#E5ECF6",
            "gridcolor": "white",
            "gridwidth": 2,
            "linecolor": "white",
            "showbackground": true,
            "ticks": "",
            "zerolinecolor": "white"
           },
           "zaxis": {
            "backgroundcolor": "#E5ECF6",
            "gridcolor": "white",
            "gridwidth": 2,
            "linecolor": "white",
            "showbackground": true,
            "ticks": "",
            "zerolinecolor": "white"
           }
          },
          "shapedefaults": {
           "line": {
            "color": "#2a3f5f"
           }
          },
          "ternary": {
           "aaxis": {
            "gridcolor": "white",
            "linecolor": "white",
            "ticks": ""
           },
           "baxis": {
            "gridcolor": "white",
            "linecolor": "white",
            "ticks": ""
           },
           "bgcolor": "#E5ECF6",
           "caxis": {
            "gridcolor": "white",
            "linecolor": "white",
            "ticks": ""
           }
          },
          "title": {
           "x": 0.05
          },
          "xaxis": {
           "automargin": true,
           "gridcolor": "white",
           "linecolor": "white",
           "ticks": "",
           "title": {
            "standoff": 15
           },
           "zerolinecolor": "white",
           "zerolinewidth": 2
          },
          "yaxis": {
           "automargin": true,
           "gridcolor": "white",
           "linecolor": "white",
           "ticks": "",
           "title": {
            "standoff": 15
           },
           "zerolinecolor": "white",
           "zerolinewidth": 2
          }
         }
        }
       }
      }
     },
     "metadata": {},
     "output_type": "display_data"
    }
   ],
   "source": [
    "usca_map = px.scatter_geo(usca, lat=\"Latitude (degrees)\", lon=\"Longitude (degrees)\", color=\"Primary Mineral\", \n",
    "                    size_max=20, hover_data=[\"Property ID\",\"Primary Reserves and Resources\", \"Country/Region\"],\n",
    "                    )\n",
    "\n",
    "usca_map.update_layout(\n",
    "    geo=dict(\n",
    "        \n",
    "        showland=True,\n",
    "        landcolor=\"rgb(217, 217, 217)\",\n",
    "        lonaxis=dict(range=[usca[\"Longitude (degrees)\"].min() - 10, usca[\"Longitude (degrees)\"].max() + 10]),  # Adjust padding\n",
    "        lataxis=dict(range=[usca[\"Latitude (degrees)\"].min() - 10, usca[\"Latitude (degrees)\"].max() + 10]),  # Adjust padding\n",
    "    )\n",
    ")"
   ]
  },
  {
   "cell_type": "code",
   "execution_count": null,
   "id": "c60df5f8",
   "metadata": {},
   "outputs": [],
   "source": [
    "import networkx as nx\n",
    "from geopy.distance import geodesic\n",
    "import numpy as np\n",
    "\n",
    "G = nx.Graph()\n",
    "\n",
    "# Add nodes\n",
    "for _, row in usca.iterrows():\n",
    "    G.add_node(row[\"Property ID\"], primary_mineral=row[\"Primary Mineral\"], name=row[\"Property\"], \n",
    "               pos=(row[\"Latitude (degrees)\"], row[\"Longitude (degrees)\"]), \n",
    "               reserves=row[\"Primary Reserves and Resources\"])\n",
    "\n",
    "# Add weighted edges\n",
    "for i, row1 in usca.iterrows():\n",
    "    for j, row2 in usca.iterrows():\n",
    "        if i < j:  # Avoid duplicate edges\n",
    "            dist = geodesic((row1[\"Latitude (degrees)\"], row1[\"Longitude (degrees)\"]), \n",
    "                            (row2[\"Latitude (degrees)\"], row2[\"Longitude (degrees)\"])).km\n",
    "            weight = dist / np.log(row1[\"Primary Reserves and Resources\"])\n",
    "         \n",
    "            G.add_edge(row1[\"Property ID\"], row2[\"Property ID\"], weight=weight)\n",
    "\n",
    "# Compute Minimum Spanning Tree (MST)\n",
    "mst = nx.minimum_spanning_tree(G, weight='weight')\n",
    "\n"
   ]
  },
  {
   "cell_type": "code",
   "execution_count": 107,
   "id": "3aa77981",
   "metadata": {},
   "outputs": [],
   "source": [
    "import plotly.graph_objects as go\n",
    "import networkx as nx\n",
    "\n",
    "def plot_graph(graph):\n",
    "    # Extract latitude and longitude from nodes\n",
    "    latitudes = [graph.nodes[node]['pos'][0] for node in graph.nodes]\n",
    "    longitudes = [graph.nodes[node]['pos'][1] for node in graph.nodes]\n",
    "\n",
    "    # Get min/max bounds for zooming into relevant region\n",
    "    lat_min, lat_max = min(latitudes), max(latitudes)\n",
    "    lon_min, lon_max = min(longitudes), max(longitudes)\n",
    "\n",
    "    # Create edge traces\n",
    "    edge_traces = []\n",
    "    for edge in graph.edges():\n",
    "        edge_traces.append(go.Scattergeo(\n",
    "            lon=[graph.nodes[edge[0]]['pos'][1], graph.nodes[edge[1]]['pos'][1], None],\n",
    "            lat=[graph.nodes[edge[0]]['pos'][0], graph.nodes[edge[1]]['pos'][0], None],\n",
    "            mode='lines',\n",
    "            line=dict(width=1, color='gray'),\n",
    "            hoverinfo='none',\n",
    "            showlegend=False\n",
    "        ))\n",
    "\n",
    "    # Create node traces grouped by primary mineral\n",
    "    unique_minerals = set(nx.get_node_attributes(graph, 'primary_mineral').values())\n",
    "    node_traces = []\n",
    "    \n",
    "    for mineral in unique_minerals:\n",
    "        nodes = [node for node in graph.nodes if graph.nodes[node]['primary_mineral'] == mineral]\n",
    "        node_lat = [graph.nodes[node]['pos'][0] for node in nodes]\n",
    "        node_lon = [graph.nodes[node]['pos'][1] for node in nodes]\n",
    "        node_text = [f\"{graph.nodes[node]['name']}<br>\"\n",
    "                     f\"Primary Mineral: {mineral}<br>\"\n",
    "                     f\"Reserves: {graph.nodes[node]['reserves']}<br>\" \n",
    "                     f\"Location: {graph.nodes[node]['pos']}\" \n",
    "                     \n",
    "                     \n",
    "                     for node in nodes]\n",
    "\n",
    "        node_traces.append(go.Scattergeo(\n",
    "            lon=node_lon, lat=node_lat,\n",
    "            mode='markers',\n",
    "            marker=dict(size=8),\n",
    "            name=mineral,\n",
    "            text=node_text,\n",
    "            hoverinfo='text'\n",
    "        ))\n",
    "\n",
    "    # Construct figure\n",
    "    return go.Figure(\n",
    "        data=edge_traces + node_traces,\n",
    "        layout=go.Layout(\n",
    "            title=\"NMC in USA and Canada\",\n",
    "            showlegend=True,\n",
    "            margin=dict(l=5, r=5, t=30, b=30),\n",
    "            geo=dict(\n",
    "                projection_type=\"natural earth\",\n",
    "                \n",
    "                showcoastlines=True,\n",
    "                lonaxis=dict(range=[lon_min - 10, lon_max + 10]),  # Adjust padding\n",
    "                lataxis=dict(range=[lat_min - 10, lat_max + 10]),  # Adjust padding\n",
    "            )\n",
    "        )\n",
    "    )\n"
   ]
  },
  {
   "cell_type": "code",
   "execution_count": 108,
   "id": "48b3313a",
   "metadata": {},
   "outputs": [
    {
     "data": {
      "application/vnd.plotly.v1+json": {
       "config": {
        "plotlyServerURL": "https://plot.ly"
       },
       "data": [
        {
         "hoverinfo": "none",
         "lat": [
          61.420856,
          61.39782,
          null
         ],
         "line": {
          "color": "gray",
          "width": 1
         },
         "lon": [
          -74.1375,
          -74.97753,
          null
         ],
         "mode": "lines",
         "showlegend": false,
         "type": "scattergeo"
        },
        {
         "hoverinfo": "none",
         "lat": [
          61.420856,
          59,
          null
         ],
         "line": {
          "color": "gray",
          "width": 1
         },
         "lon": [
          -74.1375,
          -69.64167,
          null
         ],
         "mode": "lines",
         "showlegend": false,
         "type": "scattergeo"
        },
        {
         "hoverinfo": "none",
         "lat": [
          47.5654,
          47.39778,
          null
         ],
         "line": {
          "color": "gray",
          "width": 1
         },
         "lon": [
          -81.17918,
          -80.96639,
          null
         ],
         "mode": "lines",
         "showlegend": false,
         "type": "scattergeo"
        },
        {
         "hoverinfo": "none",
         "lat": [
          47.5654,
          48.2965,
          null
         ],
         "line": {
          "color": "gray",
          "width": 1
         },
         "lon": [
          -81.17918,
          -81.01907,
          null
         ],
         "mode": "lines",
         "showlegend": false,
         "type": "scattergeo"
        },
        {
         "hoverinfo": "none",
         "lat": [
          47.5654,
          46.63706,
          null
         ],
         "line": {
          "color": "gray",
          "width": 1
         },
         "lon": [
          -81.17918,
          -81.36921,
          null
         ],
         "mode": "lines",
         "showlegend": false,
         "type": "scattergeo"
        },
        {
         "hoverinfo": "none",
         "lat": [
          52.74202,
          51.90281,
          null
         ],
         "line": {
          "color": "gray",
          "width": 1
         },
         "lon": [
          -86.3038,
          -87.42056,
          null
         ],
         "mode": "lines",
         "showlegend": false,
         "type": "scattergeo"
        },
        {
         "hoverinfo": "none",
         "lat": [
          52.74202,
          48.89474,
          null
         ],
         "line": {
          "color": "gray",
          "width": 1
         },
         "lon": [
          -86.3038,
          -87.30561,
          null
         ],
         "mode": "lines",
         "showlegend": false,
         "type": "scattergeo"
        },
        {
         "hoverinfo": "none",
         "lat": [
          46.43266,
          46.42944,
          null
         ],
         "line": {
          "color": "gray",
          "width": 1
         },
         "lon": [
          -81.30323,
          -81.34988,
          null
         ],
         "mode": "lines",
         "showlegend": false,
         "type": "scattergeo"
        },
        {
         "hoverinfo": "none",
         "lat": [
          54.9154,
          54.82755,
          null
         ],
         "line": {
          "color": "gray",
          "width": 1
         },
         "lon": [
          -98.66201,
          -99.93617,
          null
         ],
         "mode": "lines",
         "showlegend": false,
         "type": "scattergeo"
        },
        {
         "hoverinfo": "none",
         "lat": [
          54.9154,
          55.70728,
          null
         ],
         "line": {
          "color": "gray",
          "width": 1
         },
         "lon": [
          -98.66201,
          -97.88904,
          null
         ],
         "mode": "lines",
         "showlegend": false,
         "type": "scattergeo"
        },
        {
         "hoverinfo": "none",
         "lat": [
          63.55,
          58.47856,
          null
         ],
         "line": {
          "color": "gray",
          "width": 1
         },
         "lon": [
          -116.74583,
          -128.86282,
          null
         ],
         "mode": "lines",
         "showlegend": false,
         "type": "scattergeo"
        },
        {
         "hoverinfo": "none",
         "lat": [
          63.55,
          62.89523,
          null
         ],
         "line": {
          "color": "gray",
          "width": 1
         },
         "lon": [
          -116.74583,
          -96.72627,
          null
         ],
         "mode": "lines",
         "showlegend": false,
         "type": "scattergeo"
        },
        {
         "hoverinfo": "none",
         "lat": [
          46.18,
          46.22531,
          null
         ],
         "line": {
          "color": "gray",
          "width": 1
         },
         "lon": [
          -67.64,
          -67.62547,
          null
         ],
         "mode": "lines",
         "showlegend": false,
         "type": "scattergeo"
        },
        {
         "hoverinfo": "none",
         "lat": [
          46.18,
          51.70532,
          null
         ],
         "line": {
          "color": "gray",
          "width": 1
         },
         "lon": [
          -67.64,
          -75.60596,
          null
         ],
         "mode": "lines",
         "showlegend": false,
         "type": "scattergeo"
        },
        {
         "hoverinfo": "none",
         "lat": [
          46.18,
          56.33024,
          null
         ],
         "line": {
          "color": "gray",
          "width": 1
         },
         "lon": [
          -67.64,
          -62.09573,
          null
         ],
         "mode": "lines",
         "showlegend": false,
         "type": "scattergeo"
        },
        {
         "hoverinfo": "none",
         "lat": [
          48.34509,
          48.2965,
          null
         ],
         "line": {
          "color": "gray",
          "width": 1
         },
         "lon": [
          -81.00002,
          -81.01907,
          null
         ],
         "mode": "lines",
         "showlegend": false,
         "type": "scattergeo"
        },
        {
         "hoverinfo": "none",
         "lat": [
          37.54708,
          46.67296,
          null
         ],
         "line": {
          "color": "gray",
          "width": 1
         },
         "lon": [
          -90.27653,
          -93.11959,
          null
         ],
         "mode": "lines",
         "showlegend": false,
         "type": "scattergeo"
        },
        {
         "hoverinfo": "none",
         "lat": [
          50.46887,
          50.60794,
          null
         ],
         "line": {
          "color": "gray",
          "width": 1
         },
         "lon": [
          -94.97869,
          -95.48675,
          null
         ],
         "mode": "lines",
         "showlegend": false,
         "type": "scattergeo"
        },
        {
         "hoverinfo": "none",
         "lat": [
          50.46887,
          49.48357,
          null
         ],
         "line": {
          "color": "gray",
          "width": 1
         },
         "lon": [
          -94.97869,
          -93.6347,
          null
         ],
         "mode": "lines",
         "showlegend": false,
         "type": "scattergeo"
        },
        {
         "hoverinfo": "none",
         "lat": [
          48.64244,
          50.0569,
          null
         ],
         "line": {
          "color": "gray",
          "width": 1
         },
         "lon": [
          -78.44274,
          -78.62245,
          null
         ],
         "mode": "lines",
         "showlegend": false,
         "type": "scattergeo"
        },
        {
         "hoverinfo": "none",
         "lat": [
          48.64244,
          48.65369,
          null
         ],
         "line": {
          "color": "gray",
          "width": 1
         },
         "lon": [
          -78.44274,
          -80.80783,
          null
         ],
         "mode": "lines",
         "showlegend": false,
         "type": "scattergeo"
        },
        {
         "hoverinfo": "none",
         "lat": [
          48.64244,
          51.70532,
          null
         ],
         "line": {
          "color": "gray",
          "width": 1
         },
         "lon": [
          -78.44274,
          -75.60596,
          null
         ],
         "mode": "lines",
         "showlegend": false,
         "type": "scattergeo"
        },
        {
         "hoverinfo": "none",
         "lat": [
          54.82755,
          54.11277,
          null
         ],
         "line": {
          "color": "gray",
          "width": 1
         },
         "lon": [
          -99.93617,
          -99.16678,
          null
         ],
         "mode": "lines",
         "showlegend": false,
         "type": "scattergeo"
        },
        {
         "hoverinfo": "none",
         "lat": [
          54.82755,
          56.82115,
          null
         ],
         "line": {
          "color": "gray",
          "width": 1
         },
         "lon": [
          -99.93617,
          -101.03294,
          null
         ],
         "mode": "lines",
         "showlegend": false,
         "type": "scattergeo"
        },
        {
         "hoverinfo": "none",
         "lat": [
          46.33418,
          46.42944,
          null
         ],
         "line": {
          "color": "gray",
          "width": 1
         },
         "lon": [
          -81.85949,
          -81.34988,
          null
         ],
         "mode": "lines",
         "showlegend": false,
         "type": "scattergeo"
        },
        {
         "hoverinfo": "none",
         "lat": [
          59,
          56.33024,
          null
         ],
         "line": {
          "color": "gray",
          "width": 1
         },
         "lon": [
          -69.64167,
          -62.09573,
          null
         ],
         "mode": "lines",
         "showlegend": false,
         "type": "scattergeo"
        },
        {
         "hoverinfo": "none",
         "lat": [
          53.9363,
          55.70728,
          null
         ],
         "line": {
          "color": "gray",
          "width": 1
         },
         "lon": [
          -94.77036,
          -97.88904,
          null
         ],
         "mode": "lines",
         "showlegend": false,
         "type": "scattergeo"
        },
        {
         "hoverinfo": "none",
         "lat": [
          53.9363,
          50.6298,
          null
         ],
         "line": {
          "color": "gray",
          "width": 1
         },
         "lon": [
          -94.77036,
          -95.60953,
          null
         ],
         "mode": "lines",
         "showlegend": false,
         "type": "scattergeo"
        },
        {
         "hoverinfo": "none",
         "lat": [
          62.89523,
          55.70728,
          null
         ],
         "line": {
          "color": "gray",
          "width": 1
         },
         "lon": [
          -96.72627,
          -97.88904,
          null
         ],
         "mode": "lines",
         "showlegend": false,
         "type": "scattergeo"
        },
        {
         "hoverinfo": "none",
         "lat": [
          46.67296,
          46.75271,
          null
         ],
         "line": {
          "color": "gray",
          "width": 1
         },
         "lon": [
          -93.11959,
          -93.97567,
          null
         ],
         "mode": "lines",
         "showlegend": false,
         "type": "scattergeo"
        },
        {
         "hoverinfo": "none",
         "lat": [
          48.2965,
          48.40377,
          null
         ],
         "line": {
          "color": "gray",
          "width": 1
         },
         "lon": [
          -81.01907,
          -81.258,
          null
         ],
         "mode": "lines",
         "showlegend": false,
         "type": "scattergeo"
        },
        {
         "hoverinfo": "none",
         "lat": [
          61.46667,
          63.27641,
          null
         ],
         "line": {
          "color": "gray",
          "width": 1
         },
         "lon": [
          -139.53333,
          -146.29058,
          null
         ],
         "mode": "lines",
         "showlegend": false,
         "type": "scattergeo"
        },
        {
         "hoverinfo": "none",
         "lat": [
          61.46667,
          58.47856,
          null
         ],
         "line": {
          "color": "gray",
          "width": 1
         },
         "lon": [
          -139.53333,
          -128.86282,
          null
         ],
         "mode": "lines",
         "showlegend": false,
         "type": "scattergeo"
        },
        {
         "hoverinfo": "none",
         "lat": [
          46.49222,
          46.42944,
          null
         ],
         "line": {
          "color": "gray",
          "width": 1
         },
         "lon": [
          -81.06667,
          -81.34988,
          null
         ],
         "mode": "lines",
         "showlegend": false,
         "type": "scattergeo"
        },
        {
         "hoverinfo": "none",
         "lat": [
          46.63706,
          46.42944,
          null
         ],
         "line": {
          "color": "gray",
          "width": 1
         },
         "lon": [
          -81.36921,
          -81.34988,
          null
         ],
         "mode": "lines",
         "showlegend": false,
         "type": "scattergeo"
        },
        {
         "hoverinfo": "none",
         "lat": [
          51.90281,
          48.8276,
          null
         ],
         "line": {
          "color": "gray",
          "width": 1
         },
         "lon": [
          -87.42056,
          -81.33731,
          null
         ],
         "mode": "lines",
         "showlegend": false,
         "type": "scattergeo"
        },
        {
         "hoverinfo": "none",
         "lat": [
          50.6298,
          50.60794,
          null
         ],
         "line": {
          "color": "gray",
          "width": 1
         },
         "lon": [
          -95.60953,
          -95.48675,
          null
         ],
         "mode": "lines",
         "showlegend": false,
         "type": "scattergeo"
        },
        {
         "hoverinfo": "none",
         "lat": [
          58.47856,
          54.9252,
          null
         ],
         "line": {
          "color": "gray",
          "width": 1
         },
         "lon": [
          -128.86282,
          -125.35635,
          null
         ],
         "mode": "lines",
         "showlegend": false,
         "type": "scattergeo"
        },
        {
         "hoverinfo": "none",
         "lat": [
          48.8276,
          48.65369,
          null
         ],
         "line": {
          "color": "gray",
          "width": 1
         },
         "lon": [
          -81.33731,
          -80.80783,
          null
         ],
         "mode": "lines",
         "showlegend": false,
         "type": "scattergeo"
        },
        {
         "hoverinfo": "none",
         "lat": [
          48.8276,
          48.40377,
          null
         ],
         "line": {
          "color": "gray",
          "width": 1
         },
         "lon": [
          -81.33731,
          -81.258,
          null
         ],
         "mode": "lines",
         "showlegend": false,
         "type": "scattergeo"
        },
        {
         "hoverinfo": "none",
         "lat": [
          48.8276,
          46.74852,
          null
         ],
         "line": {
          "color": "gray",
          "width": 1
         },
         "lon": [
          -81.33731,
          -87.88151,
          null
         ],
         "mode": "lines",
         "showlegend": false,
         "type": "scattergeo"
        },
        {
         "hoverinfo": "none",
         "lat": [
          46.75271,
          50.60794,
          null
         ],
         "line": {
          "color": "gray",
          "width": 1
         },
         "lon": [
          -93.97567,
          -95.48675,
          null
         ],
         "mode": "lines",
         "showlegend": false,
         "type": "scattergeo"
        },
        {
         "hoverinfo": "none",
         "lat": [
          46.75271,
          46.74852,
          null
         ],
         "line": {
          "color": "gray",
          "width": 1
         },
         "lon": [
          -93.97567,
          -87.88151,
          null
         ],
         "mode": "lines",
         "showlegend": false,
         "type": "scattergeo"
        },
        {
         "hoverinfo": "none",
         "lat": [
          54.9252,
          44.96337,
          null
         ],
         "line": {
          "color": "gray",
          "width": 1
         },
         "lon": [
          -125.35635,
          -114.11784,
          null
         ],
         "mode": "lines",
         "showlegend": false,
         "type": "scattergeo"
        },
        {
         "hoverinfo": "text",
         "lat": [
          61.420856,
          61.39782,
          46.43266,
          63.55,
          50.46887,
          48.64244,
          56.82115,
          50.0569,
          47.39778,
          49.48357,
          48.2965,
          55.70728,
          56.33024,
          51.70532,
          61.46667,
          46.49222,
          46.63706,
          51.90281,
          50.6298,
          58.47856,
          44.96337,
          46.42944,
          48.40377,
          48.65369
         ],
         "lon": [
          -74.1375,
          -74.97753,
          -81.30323,
          -116.74583,
          -94.97869,
          -78.44274,
          -101.03294,
          -78.62245,
          -80.96639,
          -93.6347,
          -81.01907,
          -97.88904,
          -62.09573,
          -75.60596,
          -139.53333,
          -81.06667,
          -81.36921,
          -87.42056,
          -95.60953,
          -128.86282,
          -114.11784,
          -81.34988,
          -81.258,
          -80.80783
         ],
         "marker": {
          "size": 8
         },
         "mode": "markers",
         "name": "Cobalt",
         "text": [
          "Nunavik<br>Primary Mineral: Cobalt<br>Reserves: 18670<br>Location: (61.420856, -74.1375)",
          "Raglan<br>Primary Mineral: Cobalt<br>Reserves: 2233<br>Location: (61.39782, -74.97753)",
          "Lockerby East<br>Primary Mineral: Cobalt<br>Reserves: 1060<br>Location: (46.43266, -81.30323)",
          "Nico<br>Primary Mineral: Cobalt<br>Reserves: 74249<br>Location: (63.55, -116.74583)",
          "Werner Lake<br>Primary Mineral: Cobalt<br>Reserves: 340<br>Location: (50.46887, -94.97869)",
          "Dumont<br>Primary Mineral: Cobalt<br>Reserves: 229518<br>Location: (48.64244, -78.44274)",
          "Lynn Lake<br>Primary Mineral: Cobalt<br>Reserves: 5300<br>Location: (56.82115, -101.03294)",
          "Grasset<br>Primary Mineral: Cobalt<br>Reserves: 1463<br>Location: (50.0569, -78.62245)",
          "McAra<br>Primary Mineral: Cobalt<br>Reserves: 597<br>Location: (47.39778, -80.96639)",
          "Kenbridge<br>Primary Mineral: Cobalt<br>Reserves: 544<br>Location: (49.48357, -93.6347)",
          "Shaw Dome<br>Primary Mineral: Cobalt<br>Reserves: 108239<br>Location: (48.2965, -81.01907)",
          "Manitoba Division<br>Primary Mineral: Cobalt<br>Reserves: 8000<br>Location: (55.70728, -97.88904)",
          "Voisey's Bay<br>Primary Mineral: Cobalt<br>Reserves: 44390<br>Location: (56.33024, -62.09573)",
          "Nisk<br>Primary Mineral: Cobalt<br>Reserves: 3700<br>Location: (51.70532, -75.60596)",
          "Nickel Shaw<br>Primary Mineral: Cobalt<br>Reserves: 79469<br>Location: (61.46667, -139.53333)",
          "Ontario Division<br>Primary Mineral: Cobalt<br>Reserves: 48500<br>Location: (46.49222, -81.06667)",
          "Sudbury Operations<br>Primary Mineral: Cobalt<br>Reserves: 45000<br>Location: (46.63706, -81.36921)",
          "Norton<br>Primary Mineral: Cobalt<br>Reserves: 783<br>Location: (51.90281, -87.42056)",
          "Makwa Mayville<br>Primary Mineral: Cobalt<br>Reserves: 6224<br>Location: (50.6298, -95.60953)",
          "Turnagain<br>Primary Mineral: Cobalt<br>Reserves: 345000<br>Location: (58.47856, -128.86282)",
          "Iron Creek<br>Primary Mineral: Cobalt<br>Reserves: 9268<br>Location: (44.96337, -114.11784)",
          "Crean Hill<br>Primary Mineral: Cobalt<br>Reserves: 9890<br>Location: (46.42944, -81.34988)",
          "Deloro<br>Primary Mineral: Cobalt<br>Reserves: 46600<br>Location: (48.40377, -81.258)",
          "Alexo-Dundonald<br>Primary Mineral: Cobalt<br>Reserves: 1449<br>Location: (48.65369, -80.80783)"
         ],
         "type": "scattergeo"
        },
        {
         "hoverinfo": "text",
         "lat": [
          46.18,
          46.22531,
          46.75271
         ],
         "lon": [
          -67.64,
          -67.62547,
          -93.97567
         ],
         "marker": {
          "size": 8
         },
         "mode": "markers",
         "name": "Manganese",
         "text": [
          "Woodstock<br>Primary Mineral: Manganese<br>Reserves: 135488474<br>Location: (46.18, -67.64)",
          "Battery Hill<br>Primary Mineral: Manganese<br>Reserves: 62860000<br>Location: (46.22531, -67.62547)",
          "Emily<br>Primary Mineral: Manganese<br>Reserves: 11149000<br>Location: (46.75271, -93.97567)"
         ],
         "type": "scattergeo"
        },
        {
         "hoverinfo": "text",
         "lat": [
          47.5654,
          52.74202,
          54.9154,
          48.34509,
          37.54708,
          54.82755,
          46.33418,
          59,
          53.9363,
          62.89523,
          46.67296,
          48.89474,
          48.8276,
          54.9252,
          46.74852,
          50.60794,
          63.27641,
          54.11277
         ],
         "lon": [
          -81.17918,
          -86.3038,
          -98.66201,
          -81.00002,
          -90.27653,
          -99.93617,
          -81.85949,
          -69.64167,
          -94.77036,
          -96.72627,
          -93.11959,
          -87.30561,
          -81.33731,
          -125.35635,
          -87.88151,
          -95.48675,
          -146.29058,
          -99.16678
         ],
         "marker": {
          "size": 8
         },
         "mode": "markers",
         "name": "Nickel",
         "text": [
          "Shining Tree<br>Primary Mineral: Nickel<br>Reserves: 17200<br>Location: (47.5654, -81.17918)",
          "Eagle's Nest<br>Primary Mineral: Nickel<br>Reserves: 300000<br>Location: (52.74202, -86.3038)",
          "Bowden Lake<br>Primary Mineral: Nickel<br>Reserves: 50194<br>Location: (54.9154, -98.66201)",
          "Aurora<br>Primary Mineral: Nickel<br>Reserves: 42000<br>Location: (48.34509, -81.00002)",
          "Madison<br>Primary Mineral: Nickel<br>Reserves: 23133<br>Location: (37.54708, -90.27653)",
          "Rice Island<br>Primary Mineral: Nickel<br>Reserves: 50439<br>Location: (54.82755, -99.93617)",
          "Shakespeare<br>Primary Mineral: Nickel<br>Reserves: 75750<br>Location: (46.33418, -81.85949)",
          "Hawk Ridge<br>Primary Mineral: Nickel<br>Reserves: 76611<br>Location: (59.0, -69.64167)",
          "Nickel Island<br>Primary Mineral: Nickel<br>Reserves: 70000<br>Location: (53.9363, -94.77036)",
          "Ferguson Lake<br>Primary Mineral: Nickel<br>Reserves: 394300<br>Location: (62.89523, -96.72627)",
          "Tamarack<br>Primary Mineral: Nickel<br>Reserves: 217724<br>Location: (46.67296, -93.11959)",
          "Maude Lake<br>Primary Mineral: Nickel<br>Reserves: 907<br>Location: (48.89474, -87.30561)",
          "Crawford<br>Primary Mineral: Nickel<br>Reserves: 9761600<br>Location: (48.8276, -81.33731)",
          "Decar<br>Primary Mineral: Nickel<br>Reserves: 4548000<br>Location: (54.9252, -125.35635)",
          "Eagle<br>Primary Mineral: Nickel<br>Reserves: 70000<br>Location: (46.74852, -87.88151)",
          "Eagle Claims<br>Primary Mineral: Nickel<br>Reserves: 6000<br>Location: (50.60794, -95.48675)",
          "Nikolai<br>Primary Mineral: Nickel<br>Reserves: 3675002<br>Location: (63.27641, -146.29058)",
          "Minago<br>Primary Mineral: Nickel<br>Reserves: 391885<br>Location: (54.11277, -99.16678)"
         ],
         "type": "scattergeo"
        }
       ],
       "layout": {
        "geo": {
         "lataxis": {
          "range": [
           27.54708,
           73.55
          ]
         },
         "lonaxis": {
          "range": [
           -156.29058,
           -52.09573
          ]
         },
         "projection": {
          "type": "natural earth"
         },
         "showcoastlines": true
        },
        "margin": {
         "b": 30,
         "l": 5,
         "r": 5,
         "t": 30
        },
        "showlegend": true,
        "template": {
         "data": {
          "bar": [
           {
            "error_x": {
             "color": "#2a3f5f"
            },
            "error_y": {
             "color": "#2a3f5f"
            },
            "marker": {
             "line": {
              "color": "#E5ECF6",
              "width": 0.5
             },
             "pattern": {
              "fillmode": "overlay",
              "size": 10,
              "solidity": 0.2
             }
            },
            "type": "bar"
           }
          ],
          "barpolar": [
           {
            "marker": {
             "line": {
              "color": "#E5ECF6",
              "width": 0.5
             },
             "pattern": {
              "fillmode": "overlay",
              "size": 10,
              "solidity": 0.2
             }
            },
            "type": "barpolar"
           }
          ],
          "carpet": [
           {
            "aaxis": {
             "endlinecolor": "#2a3f5f",
             "gridcolor": "white",
             "linecolor": "white",
             "minorgridcolor": "white",
             "startlinecolor": "#2a3f5f"
            },
            "baxis": {
             "endlinecolor": "#2a3f5f",
             "gridcolor": "white",
             "linecolor": "white",
             "minorgridcolor": "white",
             "startlinecolor": "#2a3f5f"
            },
            "type": "carpet"
           }
          ],
          "choropleth": [
           {
            "colorbar": {
             "outlinewidth": 0,
             "ticks": ""
            },
            "type": "choropleth"
           }
          ],
          "contour": [
           {
            "colorbar": {
             "outlinewidth": 0,
             "ticks": ""
            },
            "colorscale": [
             [
              0,
              "#0d0887"
             ],
             [
              0.1111111111111111,
              "#46039f"
             ],
             [
              0.2222222222222222,
              "#7201a8"
             ],
             [
              0.3333333333333333,
              "#9c179e"
             ],
             [
              0.4444444444444444,
              "#bd3786"
             ],
             [
              0.5555555555555556,
              "#d8576b"
             ],
             [
              0.6666666666666666,
              "#ed7953"
             ],
             [
              0.7777777777777778,
              "#fb9f3a"
             ],
             [
              0.8888888888888888,
              "#fdca26"
             ],
             [
              1,
              "#f0f921"
             ]
            ],
            "type": "contour"
           }
          ],
          "contourcarpet": [
           {
            "colorbar": {
             "outlinewidth": 0,
             "ticks": ""
            },
            "type": "contourcarpet"
           }
          ],
          "heatmap": [
           {
            "colorbar": {
             "outlinewidth": 0,
             "ticks": ""
            },
            "colorscale": [
             [
              0,
              "#0d0887"
             ],
             [
              0.1111111111111111,
              "#46039f"
             ],
             [
              0.2222222222222222,
              "#7201a8"
             ],
             [
              0.3333333333333333,
              "#9c179e"
             ],
             [
              0.4444444444444444,
              "#bd3786"
             ],
             [
              0.5555555555555556,
              "#d8576b"
             ],
             [
              0.6666666666666666,
              "#ed7953"
             ],
             [
              0.7777777777777778,
              "#fb9f3a"
             ],
             [
              0.8888888888888888,
              "#fdca26"
             ],
             [
              1,
              "#f0f921"
             ]
            ],
            "type": "heatmap"
           }
          ],
          "histogram": [
           {
            "marker": {
             "pattern": {
              "fillmode": "overlay",
              "size": 10,
              "solidity": 0.2
             }
            },
            "type": "histogram"
           }
          ],
          "histogram2d": [
           {
            "colorbar": {
             "outlinewidth": 0,
             "ticks": ""
            },
            "colorscale": [
             [
              0,
              "#0d0887"
             ],
             [
              0.1111111111111111,
              "#46039f"
             ],
             [
              0.2222222222222222,
              "#7201a8"
             ],
             [
              0.3333333333333333,
              "#9c179e"
             ],
             [
              0.4444444444444444,
              "#bd3786"
             ],
             [
              0.5555555555555556,
              "#d8576b"
             ],
             [
              0.6666666666666666,
              "#ed7953"
             ],
             [
              0.7777777777777778,
              "#fb9f3a"
             ],
             [
              0.8888888888888888,
              "#fdca26"
             ],
             [
              1,
              "#f0f921"
             ]
            ],
            "type": "histogram2d"
           }
          ],
          "histogram2dcontour": [
           {
            "colorbar": {
             "outlinewidth": 0,
             "ticks": ""
            },
            "colorscale": [
             [
              0,
              "#0d0887"
             ],
             [
              0.1111111111111111,
              "#46039f"
             ],
             [
              0.2222222222222222,
              "#7201a8"
             ],
             [
              0.3333333333333333,
              "#9c179e"
             ],
             [
              0.4444444444444444,
              "#bd3786"
             ],
             [
              0.5555555555555556,
              "#d8576b"
             ],
             [
              0.6666666666666666,
              "#ed7953"
             ],
             [
              0.7777777777777778,
              "#fb9f3a"
             ],
             [
              0.8888888888888888,
              "#fdca26"
             ],
             [
              1,
              "#f0f921"
             ]
            ],
            "type": "histogram2dcontour"
           }
          ],
          "mesh3d": [
           {
            "colorbar": {
             "outlinewidth": 0,
             "ticks": ""
            },
            "type": "mesh3d"
           }
          ],
          "parcoords": [
           {
            "line": {
             "colorbar": {
              "outlinewidth": 0,
              "ticks": ""
             }
            },
            "type": "parcoords"
           }
          ],
          "pie": [
           {
            "automargin": true,
            "type": "pie"
           }
          ],
          "scatter": [
           {
            "fillpattern": {
             "fillmode": "overlay",
             "size": 10,
             "solidity": 0.2
            },
            "type": "scatter"
           }
          ],
          "scatter3d": [
           {
            "line": {
             "colorbar": {
              "outlinewidth": 0,
              "ticks": ""
             }
            },
            "marker": {
             "colorbar": {
              "outlinewidth": 0,
              "ticks": ""
             }
            },
            "type": "scatter3d"
           }
          ],
          "scattercarpet": [
           {
            "marker": {
             "colorbar": {
              "outlinewidth": 0,
              "ticks": ""
             }
            },
            "type": "scattercarpet"
           }
          ],
          "scattergeo": [
           {
            "marker": {
             "colorbar": {
              "outlinewidth": 0,
              "ticks": ""
             }
            },
            "type": "scattergeo"
           }
          ],
          "scattergl": [
           {
            "marker": {
             "colorbar": {
              "outlinewidth": 0,
              "ticks": ""
             }
            },
            "type": "scattergl"
           }
          ],
          "scattermap": [
           {
            "marker": {
             "colorbar": {
              "outlinewidth": 0,
              "ticks": ""
             }
            },
            "type": "scattermap"
           }
          ],
          "scattermapbox": [
           {
            "marker": {
             "colorbar": {
              "outlinewidth": 0,
              "ticks": ""
             }
            },
            "type": "scattermapbox"
           }
          ],
          "scatterpolar": [
           {
            "marker": {
             "colorbar": {
              "outlinewidth": 0,
              "ticks": ""
             }
            },
            "type": "scatterpolar"
           }
          ],
          "scatterpolargl": [
           {
            "marker": {
             "colorbar": {
              "outlinewidth": 0,
              "ticks": ""
             }
            },
            "type": "scatterpolargl"
           }
          ],
          "scatterternary": [
           {
            "marker": {
             "colorbar": {
              "outlinewidth": 0,
              "ticks": ""
             }
            },
            "type": "scatterternary"
           }
          ],
          "surface": [
           {
            "colorbar": {
             "outlinewidth": 0,
             "ticks": ""
            },
            "colorscale": [
             [
              0,
              "#0d0887"
             ],
             [
              0.1111111111111111,
              "#46039f"
             ],
             [
              0.2222222222222222,
              "#7201a8"
             ],
             [
              0.3333333333333333,
              "#9c179e"
             ],
             [
              0.4444444444444444,
              "#bd3786"
             ],
             [
              0.5555555555555556,
              "#d8576b"
             ],
             [
              0.6666666666666666,
              "#ed7953"
             ],
             [
              0.7777777777777778,
              "#fb9f3a"
             ],
             [
              0.8888888888888888,
              "#fdca26"
             ],
             [
              1,
              "#f0f921"
             ]
            ],
            "type": "surface"
           }
          ],
          "table": [
           {
            "cells": {
             "fill": {
              "color": "#EBF0F8"
             },
             "line": {
              "color": "white"
             }
            },
            "header": {
             "fill": {
              "color": "#C8D4E3"
             },
             "line": {
              "color": "white"
             }
            },
            "type": "table"
           }
          ]
         },
         "layout": {
          "annotationdefaults": {
           "arrowcolor": "#2a3f5f",
           "arrowhead": 0,
           "arrowwidth": 1
          },
          "autotypenumbers": "strict",
          "coloraxis": {
           "colorbar": {
            "outlinewidth": 0,
            "ticks": ""
           }
          },
          "colorscale": {
           "diverging": [
            [
             0,
             "#8e0152"
            ],
            [
             0.1,
             "#c51b7d"
            ],
            [
             0.2,
             "#de77ae"
            ],
            [
             0.3,
             "#f1b6da"
            ],
            [
             0.4,
             "#fde0ef"
            ],
            [
             0.5,
             "#f7f7f7"
            ],
            [
             0.6,
             "#e6f5d0"
            ],
            [
             0.7,
             "#b8e186"
            ],
            [
             0.8,
             "#7fbc41"
            ],
            [
             0.9,
             "#4d9221"
            ],
            [
             1,
             "#276419"
            ]
           ],
           "sequential": [
            [
             0,
             "#0d0887"
            ],
            [
             0.1111111111111111,
             "#46039f"
            ],
            [
             0.2222222222222222,
             "#7201a8"
            ],
            [
             0.3333333333333333,
             "#9c179e"
            ],
            [
             0.4444444444444444,
             "#bd3786"
            ],
            [
             0.5555555555555556,
             "#d8576b"
            ],
            [
             0.6666666666666666,
             "#ed7953"
            ],
            [
             0.7777777777777778,
             "#fb9f3a"
            ],
            [
             0.8888888888888888,
             "#fdca26"
            ],
            [
             1,
             "#f0f921"
            ]
           ],
           "sequentialminus": [
            [
             0,
             "#0d0887"
            ],
            [
             0.1111111111111111,
             "#46039f"
            ],
            [
             0.2222222222222222,
             "#7201a8"
            ],
            [
             0.3333333333333333,
             "#9c179e"
            ],
            [
             0.4444444444444444,
             "#bd3786"
            ],
            [
             0.5555555555555556,
             "#d8576b"
            ],
            [
             0.6666666666666666,
             "#ed7953"
            ],
            [
             0.7777777777777778,
             "#fb9f3a"
            ],
            [
             0.8888888888888888,
             "#fdca26"
            ],
            [
             1,
             "#f0f921"
            ]
           ]
          },
          "colorway": [
           "#636efa",
           "#EF553B",
           "#00cc96",
           "#ab63fa",
           "#FFA15A",
           "#19d3f3",
           "#FF6692",
           "#B6E880",
           "#FF97FF",
           "#FECB52"
          ],
          "font": {
           "color": "#2a3f5f"
          },
          "geo": {
           "bgcolor": "white",
           "lakecolor": "white",
           "landcolor": "#E5ECF6",
           "showlakes": true,
           "showland": true,
           "subunitcolor": "white"
          },
          "hoverlabel": {
           "align": "left"
          },
          "hovermode": "closest",
          "mapbox": {
           "style": "light"
          },
          "paper_bgcolor": "white",
          "plot_bgcolor": "#E5ECF6",
          "polar": {
           "angularaxis": {
            "gridcolor": "white",
            "linecolor": "white",
            "ticks": ""
           },
           "bgcolor": "#E5ECF6",
           "radialaxis": {
            "gridcolor": "white",
            "linecolor": "white",
            "ticks": ""
           }
          },
          "scene": {
           "xaxis": {
            "backgroundcolor": "#E5ECF6",
            "gridcolor": "white",
            "gridwidth": 2,
            "linecolor": "white",
            "showbackground": true,
            "ticks": "",
            "zerolinecolor": "white"
           },
           "yaxis": {
            "backgroundcolor": "#E5ECF6",
            "gridcolor": "white",
            "gridwidth": 2,
            "linecolor": "white",
            "showbackground": true,
            "ticks": "",
            "zerolinecolor": "white"
           },
           "zaxis": {
            "backgroundcolor": "#E5ECF6",
            "gridcolor": "white",
            "gridwidth": 2,
            "linecolor": "white",
            "showbackground": true,
            "ticks": "",
            "zerolinecolor": "white"
           }
          },
          "shapedefaults": {
           "line": {
            "color": "#2a3f5f"
           }
          },
          "ternary": {
           "aaxis": {
            "gridcolor": "white",
            "linecolor": "white",
            "ticks": ""
           },
           "baxis": {
            "gridcolor": "white",
            "linecolor": "white",
            "ticks": ""
           },
           "bgcolor": "#E5ECF6",
           "caxis": {
            "gridcolor": "white",
            "linecolor": "white",
            "ticks": ""
           }
          },
          "title": {
           "x": 0.05
          },
          "xaxis": {
           "automargin": true,
           "gridcolor": "white",
           "linecolor": "white",
           "ticks": "",
           "title": {
            "standoff": 15
           },
           "zerolinecolor": "white",
           "zerolinewidth": 2
          },
          "yaxis": {
           "automargin": true,
           "gridcolor": "white",
           "linecolor": "white",
           "ticks": "",
           "title": {
            "standoff": 15
           },
           "zerolinecolor": "white",
           "zerolinewidth": 2
          }
         }
        },
        "title": {
         "text": "NMC in USA and Canada"
        }
       }
      }
     },
     "metadata": {},
     "output_type": "display_data"
    }
   ],
   "source": [
    "plot_graph(mst)"
   ]
  },
  {
   "cell_type": "code",
   "execution_count": null,
   "id": "3e8f0584",
   "metadata": {},
   "outputs": [],
   "source": []
  }
 ],
 "metadata": {
  "colab": {
   "provenance": []
  },
  "kernelspec": {
   "display_name": "Python 3",
   "language": "python",
   "name": "python3"
  },
  "language_info": {
   "codemirror_mode": {
    "name": "ipython",
    "version": 3
   },
   "file_extension": ".py",
   "mimetype": "text/x-python",
   "name": "python",
   "nbconvert_exporter": "python",
   "pygments_lexer": "ipython3",
   "version": "3.12.4"
  }
 },
 "nbformat": 4,
 "nbformat_minor": 5
}

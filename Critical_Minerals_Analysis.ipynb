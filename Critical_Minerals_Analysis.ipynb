{
 "cells": [
  {
   "cell_type": "code",
   "execution_count": 1,
   "id": "c0d29b5c-542d-4ac4-bd39-ae96483fd271",
   "metadata": {
    "id": "c0d29b5c-542d-4ac4-bd39-ae96483fd271"
   },
   "outputs": [],
   "source": [
    "import pandas as pd\n",
    "import matplotlib.pyplot as plt\n",
    "import numpy as np\n",
    "import plotly.graph_objects as go\n",
    "import plotly.express as px\n",
    "import os\n",
    "import xlwings as xw\n"
   ]
  },
  {
   "cell_type": "code",
   "execution_count": 2,
   "id": "d1ea7220-eaa4-46c1-bd0b-c9bc8a76ebad",
   "metadata": {
    "id": "d1ea7220-eaa4-46c1-bd0b-c9bc8a76ebad"
   },
   "outputs": [],
   "source": [
    "minerals = [\"Manganese\", \"Lithium\", \"Cobalt\", \"Nickel\", \"Lanthanides\"]\n",
    "data_directory = \"./data\" # Set this to your own directory\n",
    "\n",
    "\n",
    "top_reserves_by_mineral = pd.read_csv(os.path.join(data_directory, \"ReservesByMineral.csv\"))\n",
    "reserves_totals = top_reserves_by_mineral.groupby('Mineral', as_index=False)[\"Aggregate Reserves & Resources (tonnes)\"].agg('sum')"
   ]
  },
  {
   "cell_type": "code",
   "execution_count": 3,
   "id": "e69b0628-135e-49f3-a72d-91329b815a69",
   "metadata": {
    "colab": {
     "base_uri": "https://localhost:8080/",
     "height": 472
    },
    "id": "e69b0628-135e-49f3-a72d-91329b815a69",
    "outputId": "13cfb4f0-2d70-498a-e22d-19982b381a2f"
   },
   "outputs": [
    {
     "data": {
      "image/png": "[encoded data removed]",
      "text/plain": [
       "<Figure size 640x480 with 1 Axes>"
      ]
     },
     "metadata": {},
     "output_type": "display_data"
    }
   ],
   "source": [
    "plt.figure()\n",
    "plt.barh(y = reserves_totals['Mineral'], width = reserves_totals[\"Aggregate Reserves & Resources (tonnes)\"])\n",
    "plt.title(\"Aggregate Reserves (Based on top 10 countries)\")\n",
    "plt.xlabel(\"Total Reserves\")\n",
    "plt.ylabel(\"Mineral\")\n",
    "plt.show()"
   ]
  },
  {
   "cell_type": "code",
   "execution_count": 4,
   "id": "13cbfa42-2c62-477f-af9a-53b6ebe7fa67",
   "metadata": {
    "colab": {
     "base_uri": "https://localhost:8080/"
    },
    "id": "13cbfa42-2c62-477f-af9a-53b6ebe7fa67",
    "outputId": "a4b3973f-e2eb-40a0-f8c2-0b6219431fed",
    "scrolled": true
   },
   "outputs": [
    {
     "name": "stdout",
     "output_type": "stream",
     "text": [
      "Read Manganese\n",
      "Read Lithium\n",
      "Read Cobalt\n",
      "Read Nickel\n",
      "Read Lanthanides\n"
     ]
    }
   ],
   "source": [
    "\n",
    "combined = None\n",
    "\n",
    "mining_path = os.path.join(data_directory, \"SPGlobal_MetalsAndMiningProperties-Combined-Dec-2024.xlsx\")\n",
    "for i, mineral in enumerate(minerals):\n",
    "    data = pd.read_excel(mining_path, sheet_name = mineral)\n",
    "    print(f\"Read {mineral}\")\n",
    "\n",
    "    # data.dropna(subset=\"Primary Reserves and Resources\", inplace = True)\n",
    "    data[\"Reserves & Resources As Of Date\"] = pd.to_datetime(data[\"Reserves & Resources As Of Date\"])\n",
    "    data[\"Primary Mineral\"] = mineral\n",
    "    data[\"Year\"] = data[\"Reserves & Resources As Of Date\"].dt.year\n",
    "\n",
    "\n",
    "    if i == 0:\n",
    "        combined = data\n",
    "        continue\n",
    "\n",
    "    combined = pd.concat([combined, data], ignore_index=True)\n",
    "\n",
    "combined = combined.sort_values(by = \"Year\").query(\"`Activity Status` == 'Active'\")\n",
    "combined[\"Property ID\"] = combined[\"Property ID\"].astype(int)\n"
   ]
  },
  {
   "cell_type": "code",
   "execution_count": 5,
   "id": "19f9c2ce",
   "metadata": {},
   "outputs": [
    {
     "data": {
      "application/vnd.microsoft.datawrangler.viewer.v0+json": {
       "columns": [
        {
         "name": "index",
         "rawType": "int64",
         "type": "integer"
        },
        {
         "name": "Property",
         "rawType": "object",
         "type": "string"
        },
        {
         "name": "Property ID",
         "rawType": "int64",
         "type": "integer"
        },
        {
         "name": "Owner(s)",
         "rawType": "object",
         "type": "unknown"
        },
        {
         "name": "Country/Region",
         "rawType": "object",
         "type": "string"
        },
        {
         "name": "Country/Region Risk Score & Outlook",
         "rawType": "object",
         "type": "unknown"
        },
        {
         "name": "Development Stage",
         "rawType": "object",
         "type": "string"
        },
        {
         "name": "Activity Status",
         "rawType": "object",
         "type": "string"
        },
        {
         "name": "Commodity(s)",
         "rawType": "object",
         "type": "string"
        },
        {
         "name": "Primary Reserves and Resources",
         "rawType": "int64",
         "type": "integer"
        },
        {
         "name": "Unit",
         "rawType": "object",
         "type": "string"
        },
        {
         "name": "Total In-Situ Value ($M)",
         "rawType": "float64",
         "type": "float"
        },
        {
         "name": "Reserves & Resources As Of Date",
         "rawType": "datetime64[ns]",
         "type": "datetime"
        },
        {
         "name": "Primary Mineral",
         "rawType": "object",
         "type": "string"
        },
        {
         "name": "Year",
         "rawType": "int32",
         "type": "integer"
        },
        {
         "name": "Latitude (degrees)",
         "rawType": "float64",
         "type": "float"
        },
        {
         "name": "Longitude (degrees)",
         "rawType": "float64",
         "type": "float"
        }
       ],
       "conversionMethod": "pd.DataFrame",
       "ref": "b1528323-c9cd-4b71-b823-235a8a6df3d3",
       "rows": [
        [
         "0",
         "Lithium Two",
         "79958",
         " New Age Metals Inc., Mineral Resources Ltd.",
         "Canada",
         "1.4 Moderate - No Change",
         "Target Outline",
         "Active",
         "Lithium, Caesium, Rubidium, Tantalum",
         "7600",
         "tonnes",
         "123.1808",
         "1947-12-31 00:00:00",
         "Lithium",
         "1947",
         "50.61363",
         "-95.46443"
        ],
        [
         "1",
         "Falcon West",
         "90157",
         "Grid Metals Corp.",
         "Canada",
         "1.4 Moderate - No Change",
         "Target Outline",
         "Active",
         "Lithium, Caesium, Tantalum, Rubidium",
         "4000",
         "tonnes",
         "64.832",
         "1955-12-31 00:00:00",
         "Lithium",
         "1955",
         "49.56729",
         "-95.68944"
        ],
        [
         "2",
         "Irgon",
         "79892",
         "QMC Quantum Minerals Corp",
         "Canada",
         "1.4 Moderate - No Change",
         "Target Outline",
         "Active",
         "Lithium, Tantalum",
         "16420",
         "tonnes",
         "266.13536",
         "1956-12-31 00:00:00",
         "Lithium",
         "1956",
         "50.6072",
         "-95.39696"
        ],
        [
         "3",
         "Chrome-Puddy",
         "89842",
         " Green Bridge Metals Corp., Pavey Ark Minerals Inc.",
         "Canada",
         "1.4 Moderate - No Change",
         "Exploration",
         "Active",
         "Nickel, Chromium, Copper, Cobalt, Platinum, Iron Ore, Palladium, Gold, Chromite",
         "73482",
         "tonnes",
         "1384.35794235251",
         "1966-12-31 00:00:00",
         "Nickel",
         "1966",
         "49.96907",
         "-89.52303"
        ],
        [
         "4",
         "Chrome-Puddy",
         "89842",
         " Green Bridge Metals Corp., Pavey Ark Minerals Inc.",
         "Canada",
         "1.4 Moderate - No Change",
         "Exploration",
         "Active",
         "Nickel, Chromium, Copper, Cobalt, Platinum, Iron Ore, Palladium, Gold, Chromite",
         "4627",
         "tonnes",
         "1384.35794235251",
         "1966-12-31 00:00:00",
         "Cobalt",
         "1966",
         "49.96907",
         "-89.52303"
        ],
        [
         "5",
         "Canalask",
         "26215",
         " GT Resources Inc., Victoria Gold Corp.",
         "Canada",
         "1.4 Moderate - No Change",
         "Target Outline",
         "Active",
         "Nickel, Copper, Platinum, Gold, Palladium",
         "5300",
         "tonnes",
         "87.4000592205729",
         "1968-12-31 00:00:00",
         "Nickel",
         "1968",
         "61.96667",
         "-140.5"
        ],
        [
         "6",
         "McBride",
         "80756",
         "Hastings Highlands Rsrc Ltd",
         "Canada",
         "1.4 Moderate - No Change",
         "Target Outline",
         "Active",
         "Nickel, Cobalt, Copper, Gold, Silver, Platinum, Palladium",
         "35561",
         "tonnes",
         "775.079351533184",
         "1971-12-31 00:00:00",
         "Nickel",
         "1971",
         "44.8714",
         "-77.72421"
        ],
        [
         "7",
         "McBride",
         "80756",
         "Hastings Highlands Rsrc Ltd",
         "Canada",
         "1.4 Moderate - No Change",
         "Target Outline",
         "Active",
         "Nickel, Cobalt, Copper, Gold, Silver, Platinum, Palladium",
         "2450",
         "tonnes",
         "775.079351533184",
         "1971-12-31 00:00:00",
         "Cobalt",
         "1971",
         "44.8714",
         "-77.72421"
        ],
        [
         "8",
         "Cyclops",
         "84443",
         "Bolt Metals Corp.",
         "Indonesia",
         "2.1 Elevated - No Change",
         "Target Outline",
         "Active",
         "Nickel, Cobalt, Iron Ore",
         "41000",
         "tonnes",
         "9527.32075277192",
         "1979-12-31 00:00:00",
         "Cobalt",
         "1979",
         "-2.46688",
         "140.36829"
        ],
        [
         "9",
         "Cyclops",
         "84443",
         "Bolt Metals Corp.",
         "Indonesia",
         "2.1 Elevated - No Change",
         "Target Outline",
         "Active",
         "Nickel, Cobalt, Iron Ore",
         "485000",
         "tonnes",
         "9527.32075277192",
         "1979-12-31 00:00:00",
         "Nickel",
         "1979",
         "-2.46688",
         "140.36829"
        ],
        [
         "10",
         "Bouvier",
         "59623",
         "Mining Equities Pty Ltd",
         "Canada",
         "1.4 Moderate - No Change",
         "Target Outline",
         "Active",
         "Lithium",
         "11431",
         "tonnes",
         "185.273648",
         "1979-12-31 00:00:00",
         "Lithium",
         "1979",
         "48.45182",
         "-78.09764"
        ],
        [
         "11",
         "Crean Hill 3",
         "91456",
         " SPC Nickel Corp, Vale S.A.",
         "Canada",
         "1.4 Moderate - No Change",
         "Target Outline",
         "Active",
         "Nickel, Copper",
         "72150",
         "tonnes",
         "1618.18065855032",
         "1989-12-31 00:00:00",
         "Nickel",
         "1989",
         "46.43776",
         "-81.31067"
        ],
        [
         "12",
         "Gochager Lake",
         "80201",
         " Fathom Nickel Inc., BioELife Corp.",
         "Canada",
         "1.4 Moderate - No Change",
         "Target Outline",
         "Active",
         "Cobalt, Copper, Nickel, Platinum, Palladium, Gold",
         "13010",
         "tonnes",
         "214.542409520689",
         "1990-12-31 00:00:00",
         "Nickel",
         "1990",
         "55.76232",
         "-104.94067"
        ],
        [
         "13",
         "Pomalaa East",
         "28852",
         "PT Vale Indonesia Tbk",
         "Indonesia",
         "2.1 Elevated - No Change",
         "Construction Started",
         "Active",
         "Nickel, Cobalt",
         "2690000",
         "tonnes",
         "44359.6526987436",
         "1993-12-31 00:00:00",
         "Nickel",
         "1993",
         "-4.22492",
         "121.68711"
        ],
        [
         "14",
         "Miriam",
         "29806",
         " Future Battery Minerals Ltd., Corazon Mining Ltd.",
         "Australia",
         "1.4 Moderate - No Change",
         "Target Outline",
         "Active",
         "Lithium, Nickel, Spodumene, Gold, Caesium, Tantalum, Tin",
         "3900",
         "tonnes",
         "64.3132511245725",
         "1996-06-21 00:00:00",
         "Nickel",
         "1996",
         "-31.05194",
         "121.10314"
        ],
        [
         "15",
         "Punta Gorda",
         "28013",
         "Cubaniquel",
         "Cuba",
         "3.0 High - No Change",
         "Operating",
         "Active",
         "Nickel, Cobalt",
         "4093000",
         "tonnes",
         "80215.9877601116",
         "1999-12-31 00:00:00",
         "Nickel",
         "1999",
         "20.62977",
         "-74.86241"
        ],
        [
         "16",
         "Punta Gorda",
         "28013",
         "Cubaniquel",
         "Cuba",
         "3.0 High - No Change",
         "Operating",
         "Active",
         "Nickel, Cobalt",
         "341000",
         "tonnes",
         "80215.9877601116",
         "1999-12-31 00:00:00",
         "Cobalt",
         "1999",
         "20.62977",
         "-74.86241"
        ],
        [
         "17",
         "Nonoc",
         "27118",
         "Philnico Mining & Indl Corp",
         "Philippines",
         "2.2 Elevated - No Change",
         "Feasibility",
         "Active",
         "Nickel, Cobalt, Iron Ore",
         "1584000",
         "tonnes",
         "32014.8242352489",
         "2000-02-23 00:00:00",
         "Nickel",
         "2000",
         "9.83278",
         "125.61056"
        ],
        [
         "18",
         "Nonoc",
         "27118",
         "Philnico Mining & Indl Corp",
         "Philippines",
         "2.2 Elevated - No Change",
         "Feasibility",
         "Active",
         "Nickel, Cobalt, Iron Ore",
         "158000",
         "tonnes",
         "32014.8242352489",
         "2000-02-23 00:00:00",
         "Cobalt",
         "2000",
         "9.83278",
         "125.61056"
        ],
        [
         "19",
         "Loveland",
         "84460",
         "Intl Explorers & Prospectors I",
         "Canada",
         "1.4 Moderate - No Change",
         "Target Outline",
         "Active",
         "Nickel, Cobalt, Copper, Palladium",
         "5262",
         "tonnes",
         "124.852742343792",
         "2002-03-31 00:00:00",
         "Nickel",
         "2002",
         "48.66136",
         "-81.62469"
        ],
        [
         "20",
         "Nkana Slag",
         "29191",
         " Private Interest, ZCCM Investments Holdings Plc",
         "Zambia",
         "2.6 High - No Change",
         "Limited Production",
         "Active",
         "Cobalt, Copper, Gold",
         "152000",
         "tonnes",
         "7644.22029409357",
         "2003-06-30 00:00:00",
         "Cobalt",
         "2003",
         "-12.83944",
         "28.21028"
        ],
        [
         "21",
         "Biankouma-Sipilou",
         "27512",
         "Nickel de l'Ouest de la Cote d",
         "Côte d'Ivoire",
         "2.1 Elevated - No Change",
         "Reserves Development",
         "Active",
         "Nickel, Cobalt",
         "285000",
         "tonnes",
         "73460.2303826231",
         "2005-09-09 00:00:00",
         "Cobalt",
         "2005",
         "7.86926",
         "-7.91147"
        ],
        [
         "22",
         "Morowali",
         "35538",
         "PT Vale Indonesia Tbk",
         "Indonesia",
         "2.1 Elevated - No Change",
         "Construction Started",
         "Active",
         "Nickel",
         "451000",
         "tonnes",
         "7437.25032235441",
         "2005-12-31 00:00:00",
         "Nickel",
         "2005",
         "-2.71",
         "121.955"
        ],
        [
         "23",
         "Biankouma-Sipilou",
         "27512",
         "Nickel de l'Ouest de la Cote d",
         "Côte d'Ivoire",
         "2.1 Elevated - No Change",
         "Reserves Development",
         "Active",
         "Nickel, Cobalt",
         "3810000",
         "tonnes",
         "73460.2303826231",
         "2005-09-09 00:00:00",
         "Nickel",
         "2005",
         "7.86926",
         "-7.91147"
        ],
        [
         "24",
         "Larco",
         "28380",
         "Larco SA",
         "Greece",
         "1.8 Elevated - Decrease",
         "Operating",
         "Active",
         "Nickel, Cobalt",
         "2476380",
         "tonnes",
         "40836.9355948382",
         "2006-12-31 00:00:00",
         "Nickel",
         "2006",
         "38.65722",
         "23.57806"
        ],
        [
         "25",
         "Old Nick",
         "29375",
         " 1258713 B.C. Ltd., 1200059 B.C. Ltd.",
         "Canada",
         "1.4 Moderate - No Change",
         "Reserves Development",
         "Active",
         "Nickel, Cobalt",
         "33000",
         "tonnes",
         "603.872591595842",
         "2007-07-16 00:00:00",
         "Nickel",
         "2007",
         "49.04169",
         "-119.08467"
        ],
        [
         "26",
         "Gladstone",
         "30070",
         "Gladstone Pacific Nickel",
         "Australia",
         "1.4 Moderate - No Change",
         "Feasibility",
         "Active",
         "Nickel, Cobalt",
         "44000",
         "tonnes",
         "12310.7009053084",
         "2007-06-30 00:00:00",
         "Cobalt",
         "2007",
         "-22.94832",
         "149.83267"
        ],
        [
         "27",
         "Old Nick",
         "29375",
         " 1258713 B.C. Ltd., 1200059 B.C. Ltd.",
         "Canada",
         "1.4 Moderate - No Change",
         "Reserves Development",
         "Active",
         "Nickel, Cobalt",
         "1600",
         "tonnes",
         "603.872591595842",
         "2007-07-16 00:00:00",
         "Cobalt",
         "2007",
         "49.04169",
         "-119.08467"
        ],
        [
         "28",
         "Renzy",
         "33471",
         "Fjordland Exploration Inc.",
         "Canada",
         "1.4 Moderate - No Change",
         "Reserves Development",
         "Active",
         "Nickel, Copper, Cobalt",
         "2699",
         "tonnes",
         "68.8377099464878",
         "2007-11-01 00:00:00",
         "Nickel",
         "2007",
         "46.81383",
         "-76.70302"
        ],
        [
         "29",
         "Zambales",
         "35533",
         "DMCI Holdings Inc.",
         "Philippines",
         "2.2 Elevated - No Change",
         "Reserves Development",
         "Active",
         "Nickel, Cobalt, Chromite, Platinum",
         "270000",
         "tonnes",
         "4974.68685374933",
         "2007-12-21 00:00:00",
         "Nickel",
         "2007",
         "15.77065",
         "120.05396"
        ],
        [
         "30",
         "Gladstone",
         "30070",
         "Gladstone Pacific Nickel",
         "Australia",
         "1.4 Moderate - No Change",
         "Feasibility",
         "Active",
         "Nickel, Cobalt",
         "647000",
         "tonnes",
         "12310.7009053084",
         "2007-06-30 00:00:00",
         "Nickel",
         "2007",
         "-22.94832",
         "149.83267"
        ],
        [
         "31",
         "Zambales",
         "35533",
         "DMCI Holdings Inc.",
         "Philippines",
         "2.2 Elevated - No Change",
         "Reserves Development",
         "Active",
         "Nickel, Cobalt, Chromite, Platinum",
         "14000",
         "tonnes",
         "4974.68685374933",
         "2007-12-21 00:00:00",
         "Cobalt",
         "2007",
         "15.77065",
         "120.05396"
        ],
        [
         "32",
         "Mt Jewell",
         "34250",
         "Private Interest",
         "Australia",
         "1.4 Moderate - No Change",
         "Reserves Development",
         "Active",
         "Nickel",
         "1700",
         "tonnes",
         "28.033981259429",
         "2007-06-30 00:00:00",
         "Nickel",
         "2007",
         "-30.18028",
         "121.45611"
        ],
        [
         "33",
         "Irwin-Coglia",
         "29911",
         "Glencore plc",
         "Australia",
         "1.4 Moderate - No Change",
         "Reserves Development",
         "Active",
         "Nickel, Cobalt, Copper",
         "192000",
         "tonnes",
         "4024.14176411301",
         "2008-12-31 00:00:00",
         "Nickel",
         "2008",
         "-29.14276",
         "123.05745"
        ],
        [
         "34",
         "Kildanga",
         "34956",
         "Clara Resources Australia Ltd",
         "Australia",
         "1.4 Moderate - No Change",
         "Reserves Development",
         "Active",
         "Nickel, Cobalt, Gold, Copper, Platinum",
         "572",
         "tonnes",
         "136.457586356666",
         "2008-12-31 00:00:00",
         "Cobalt",
         "2008",
         "-26.19516",
         "152.27437"
        ],
        [
         "35",
         "Leinster",
         "35980",
         " Future Battery Minerals Ltd., PVW Resources Ltd., Dynamic Metals Ltd.",
         "Australia",
         "1.4 Moderate - No Change",
         "Reserves Development",
         "Active",
         "Nickel, Copper, Platinum, Palladium, Gold",
         "8300",
         "tonnes",
         "161.741508831465",
         "2008-04-13 00:00:00",
         "Nickel",
         "2008",
         "-28.1646",
         "120.91717"
        ],
        [
         "36",
         "Figesbal",
         "32792",
         " Figesbal, Establissement Ballande Groupe, Sumitomo Metal Mining Co.",
         "New Caledonia",
         null,
         "Operating",
         "Active",
         "Nickel, Cobalt",
         "1500000",
         "tonnes",
         "24735.8658171433",
         "2008-03-31 00:00:00",
         "Nickel",
         "2008",
         "-21.5295",
         "166.10385"
        ],
        [
         "37",
         "Irwin-Coglia",
         "29911",
         "Glencore plc",
         "Australia",
         "1.4 Moderate - No Change",
         "Reserves Development",
         "Active",
         "Nickel, Cobalt, Copper",
         "23000",
         "tonnes",
         "4024.14176411301",
         "2008-12-31 00:00:00",
         "Cobalt",
         "2008",
         "-29.14276",
         "123.05745"
        ],
        [
         "38",
         "Texmont",
         "36150",
         "Canada Nickel Co.",
         "Canada",
         "1.4 Moderate - No Change",
         "Target Outline",
         "Active",
         "Nickel, Cobalt, Palladium, Platinum",
         "29000",
         "tonnes",
         "478.226739131436",
         "2008-03-31 00:00:00",
         "Nickel",
         "2008",
         "48.16528",
         "-81.20417"
        ],
        [
         "39",
         "Diamond Creek",
         "37621",
         "Idaho Strategic Resources Inc.",
         "USA",
         "1.5 Moderate - No Change",
         "Reserves Development",
         "Active",
         "Lanthanides, Thorium, Niobium, Gold",
         "70760",
         "tonnes",
         "3538.0",
         "2008-09-30 00:00:00",
         "Lanthanides",
         "2008",
         "45.25064",
         "-113.91745"
        ],
        [
         "40",
         "Souker",
         "35520",
         "Hannan Metals Ltd.",
         "Russia",
         "4.0 Very High - Increase",
         "Feasibility",
         "Active",
         "Nickel, Copper",
         "894200",
         "tonnes",
         "16604.4239236211",
         "2008-06-11 00:00:00",
         "Nickel",
         "2008",
         "69.38",
         "30.7631"
        ],
        [
         "41",
         "Kildanga",
         "34956",
         "Clara Resources Australia Ltd",
         "Australia",
         "1.4 Moderate - No Change",
         "Reserves Development",
         "Active",
         "Nickel, Cobalt, Gold, Copper, Platinum",
         "6981",
         "tonnes",
         "136.457586356666",
         "2008-12-31 00:00:00",
         "Nickel",
         "2008",
         "-26.19516",
         "152.27437"
        ],
        [
         "42",
         "Kuhmo",
         "33747",
         " Boliden AB (publ), Sotkamo Silver AB",
         "Finland",
         "1.3 Moderate - No Change",
         "Reserves Development",
         "Active",
         "Nickel, Copper, Cobalt, Platinum, Palladium, Gold",
         "45732",
         "tonnes",
         "1015.09646447866",
         "2009-10-23 00:00:00",
         "Nickel",
         "2009",
         "65.14917",
         "29.07889"
        ],
        [
         "43",
         "Valozoro",
         "32849",
         "DFR Gold Inc.",
         "Madagascar",
         "2.8 High - No Change",
         "Reserves Development",
         "Active",
         "Nickel",
         "191000",
         "tonnes",
         "3149.70024738291",
         "2009-06-30 00:00:00",
         "Nickel",
         "2009",
         "-20.83",
         "47.24"
        ],
        [
         "44",
         "Bird River",
         "30985",
         " Grid Metals Corp., Gossan Resources Ltd.",
         "Canada",
         "1.4 Moderate - No Change",
         "Reserves Development",
         "Active",
         "Nickel, Copper, Zinc, Silver, Gold, Palladium, Platinum",
         "18019",
         "tonnes",
         "540.195582260935",
         "2009-01-15 00:00:00",
         "Nickel",
         "2009",
         "50.48077",
         "-95.50764"
        ],
        [
         "45",
         "Yuanjiang",
         "33499",
         "Yuanjiang Nickel",
         "China",
         "1.9 Elevated - No Change",
         "Operating",
         "Active",
         "Nickel, Cobalt",
         "14100",
         "tonnes",
         "7567.43769741982",
         "2009-12-21 00:00:00",
         "Cobalt",
         "2009",
         "23.48131",
         "101.78039"
        ],
        [
         "46",
         "Goodyear",
         "29766",
         "Lefroy Exploration Ltd.",
         "Australia",
         "1.4 Moderate - No Change",
         "Reserves Development",
         "Active",
         "Nickel, Lithium, Lanthanides, Gold, Copper",
         "14780",
         "tonnes",
         "243.730731184918",
         "2009-03-31 00:00:00",
         "Nickel",
         "2009",
         "-31.01241",
         "121.68447"
        ],
        [
         "47",
         "Red Flat",
         "91615",
         " Homeland Nickel Inc., Unnamed Owner",
         "USA",
         "1.5 Moderate - No Change",
         "Target Outline",
         "Active",
         "Nickel, Cobalt",
         "143612",
         "tonnes",
         "2368.24477448772",
         "2009-12-31 00:00:00",
         "Nickel",
         "2009",
         "42.35215",
         "-124.2983"
        ],
        [
         "48",
         "Yuanjiang",
         "33499",
         "Yuanjiang Nickel",
         "China",
         "1.9 Elevated - No Change",
         "Operating",
         "Active",
         "Nickel, Cobalt",
         "427000",
         "tonnes",
         "7567.43769741982",
         "2009-12-21 00:00:00",
         "Nickel",
         "2009",
         "23.48131",
         "101.78039"
        ],
        [
         "49",
         "Jinchuan",
         "27136",
         "JinChuan Group Co.Ltd",
         "China",
         "1.9 Elevated - No Change",
         "Operating",
         "Active",
         "Nickel, Copper, Cobalt, Platinum, Palladium, Gold, Rhodium, Silver",
         "5502000",
         "tonnes",
         "129177.575452705",
         "2009-12-21 00:00:00",
         "Nickel",
         "2009",
         "38.49053",
         "102.14801"
        ]
       ],
       "shape": {
        "columns": 16,
        "rows": 661
       }
      },
      "text/html": [
       "<div>\n",
       "<style scoped>\n",
       "    .dataframe tbody tr th:only-of-type {\n",
       "        vertical-align: middle;\n",
       "    }\n",
       "\n",
       "    .dataframe tbody tr th {\n",
       "        vertical-align: top;\n",
       "    }\n",
       "\n",
       "    .dataframe thead th {\n",
       "        text-align: right;\n",
       "    }\n",
       "</style>\n",
       "<table border=\"1\" class=\"dataframe\">\n",
       "  <thead>\n",
       "    <tr style=\"text-align: right;\">\n",
       "      <th></th>\n",
       "      <th>Property</th>\n",
       "      <th>Property ID</th>\n",
       "      <th>Owner(s)</th>\n",
       "      <th>Country/Region</th>\n",
       "      <th>Country/Region Risk Score &amp; Outlook</th>\n",
       "      <th>Development Stage</th>\n",
       "      <th>Activity Status</th>\n",
       "      <th>Commodity(s)</th>\n",
       "      <th>Primary Reserves and Resources</th>\n",
       "      <th>Unit</th>\n",
       "      <th>Total In-Situ Value ($M)</th>\n",
       "      <th>Reserves &amp; Resources As Of Date</th>\n",
       "      <th>Primary Mineral</th>\n",
       "      <th>Year</th>\n",
       "      <th>Latitude (degrees)</th>\n",
       "      <th>Longitude (degrees)</th>\n",
       "    </tr>\n",
       "  </thead>\n",
       "  <tbody>\n",
       "    <tr>\n",
       "      <th>0</th>\n",
       "      <td>Lithium Two</td>\n",
       "      <td>79958</td>\n",
       "      <td>New Age Metals Inc., Mineral Resources Ltd.</td>\n",
       "      <td>Canada</td>\n",
       "      <td>1.4 Moderate - No Change</td>\n",
       "      <td>Target Outline</td>\n",
       "      <td>Active</td>\n",
       "      <td>Lithium, Caesium, Rubidium, Tantalum</td>\n",
       "      <td>7600</td>\n",
       "      <td>tonnes</td>\n",
       "      <td>123.180800</td>\n",
       "      <td>1947-12-31</td>\n",
       "      <td>Lithium</td>\n",
       "      <td>1947</td>\n",
       "      <td>50.61363</td>\n",
       "      <td>-95.46443</td>\n",
       "    </tr>\n",
       "    <tr>\n",
       "      <th>1</th>\n",
       "      <td>Falcon West</td>\n",
       "      <td>90157</td>\n",
       "      <td>Grid Metals Corp.</td>\n",
       "      <td>Canada</td>\n",
       "      <td>1.4 Moderate - No Change</td>\n",
       "      <td>Target Outline</td>\n",
       "      <td>Active</td>\n",
       "      <td>Lithium, Caesium, Tantalum, Rubidium</td>\n",
       "      <td>4000</td>\n",
       "      <td>tonnes</td>\n",
       "      <td>64.832000</td>\n",
       "      <td>1955-12-31</td>\n",
       "      <td>Lithium</td>\n",
       "      <td>1955</td>\n",
       "      <td>49.56729</td>\n",
       "      <td>-95.68944</td>\n",
       "    </tr>\n",
       "    <tr>\n",
       "      <th>2</th>\n",
       "      <td>Irgon</td>\n",
       "      <td>79892</td>\n",
       "      <td>QMC Quantum Minerals Corp</td>\n",
       "      <td>Canada</td>\n",
       "      <td>1.4 Moderate - No Change</td>\n",
       "      <td>Target Outline</td>\n",
       "      <td>Active</td>\n",
       "      <td>Lithium, Tantalum</td>\n",
       "      <td>16420</td>\n",
       "      <td>tonnes</td>\n",
       "      <td>266.135360</td>\n",
       "      <td>1956-12-31</td>\n",
       "      <td>Lithium</td>\n",
       "      <td>1956</td>\n",
       "      <td>50.60720</td>\n",
       "      <td>-95.39696</td>\n",
       "    </tr>\n",
       "    <tr>\n",
       "      <th>3</th>\n",
       "      <td>Chrome-Puddy</td>\n",
       "      <td>89842</td>\n",
       "      <td>Green Bridge Metals Corp., Pavey Ark Minerals...</td>\n",
       "      <td>Canada</td>\n",
       "      <td>1.4 Moderate - No Change</td>\n",
       "      <td>Exploration</td>\n",
       "      <td>Active</td>\n",
       "      <td>Nickel, Chromium, Copper, Cobalt, Platinum, Ir...</td>\n",
       "      <td>73482</td>\n",
       "      <td>tonnes</td>\n",
       "      <td>1384.357942</td>\n",
       "      <td>1966-12-31</td>\n",
       "      <td>Nickel</td>\n",
       "      <td>1966</td>\n",
       "      <td>49.96907</td>\n",
       "      <td>-89.52303</td>\n",
       "    </tr>\n",
       "    <tr>\n",
       "      <th>4</th>\n",
       "      <td>Chrome-Puddy</td>\n",
       "      <td>89842</td>\n",
       "      <td>Green Bridge Metals Corp., Pavey Ark Minerals...</td>\n",
       "      <td>Canada</td>\n",
       "      <td>1.4 Moderate - No Change</td>\n",
       "      <td>Exploration</td>\n",
       "      <td>Active</td>\n",
       "      <td>Nickel, Chromium, Copper, Cobalt, Platinum, Ir...</td>\n",
       "      <td>4627</td>\n",
       "      <td>tonnes</td>\n",
       "      <td>1384.357942</td>\n",
       "      <td>1966-12-31</td>\n",
       "      <td>Cobalt</td>\n",
       "      <td>1966</td>\n",
       "      <td>49.96907</td>\n",
       "      <td>-89.52303</td>\n",
       "    </tr>\n",
       "    <tr>\n",
       "      <th>...</th>\n",
       "      <td>...</td>\n",
       "      <td>...</td>\n",
       "      <td>...</td>\n",
       "      <td>...</td>\n",
       "      <td>...</td>\n",
       "      <td>...</td>\n",
       "      <td>...</td>\n",
       "      <td>...</td>\n",
       "      <td>...</td>\n",
       "      <td>...</td>\n",
       "      <td>...</td>\n",
       "      <td>...</td>\n",
       "      <td>...</td>\n",
       "      <td>...</td>\n",
       "      <td>...</td>\n",
       "      <td>...</td>\n",
       "    </tr>\n",
       "    <tr>\n",
       "      <th>656</th>\n",
       "      <td>Brothers</td>\n",
       "      <td>90684</td>\n",
       "      <td>Critica Ltd.</td>\n",
       "      <td>Australia</td>\n",
       "      <td>1.4 Moderate - No Change</td>\n",
       "      <td>Reserves Development</td>\n",
       "      <td>Active</td>\n",
       "      <td>Lanthanides, Dysprosium, Terbium, Thorium, U3O...</td>\n",
       "      <td>2900000</td>\n",
       "      <td>tonnes</td>\n",
       "      <td>357712.977515</td>\n",
       "      <td>2025-02-11</td>\n",
       "      <td>Lanthanides</td>\n",
       "      <td>2025</td>\n",
       "      <td>-28.43831</td>\n",
       "      <td>117.30562</td>\n",
       "    </tr>\n",
       "    <tr>\n",
       "      <th>657</th>\n",
       "      <td>Caldeira</td>\n",
       "      <td>90102</td>\n",
       "      <td>Meteoric Resources NL</td>\n",
       "      <td>Brazil</td>\n",
       "      <td>2.3 Elevated - No Change</td>\n",
       "      <td>Prefeas/Scoping</td>\n",
       "      <td>Active</td>\n",
       "      <td>Lanthanides, Neodymium, Praseodymium, Terbium,...</td>\n",
       "      <td>2673400</td>\n",
       "      <td>tonnes</td>\n",
       "      <td>133670.000000</td>\n",
       "      <td>2025-03-12</td>\n",
       "      <td>Lanthanides</td>\n",
       "      <td>2025</td>\n",
       "      <td>-21.98932</td>\n",
       "      <td>-46.49532</td>\n",
       "    </tr>\n",
       "    <tr>\n",
       "      <th>658</th>\n",
       "      <td>Colossus</td>\n",
       "      <td>90981</td>\n",
       "      <td>Viridis Mining &amp; Minerals Ltd.</td>\n",
       "      <td>Brazil</td>\n",
       "      <td>2.3 Elevated - No Change</td>\n",
       "      <td>Prefeas/Scoping</td>\n",
       "      <td>Active</td>\n",
       "      <td>Lanthanides, Yttrium, U3O8, Thorium, Praseodym...</td>\n",
       "      <td>1236700</td>\n",
       "      <td>tonnes</td>\n",
       "      <td>61835.000000</td>\n",
       "      <td>2025-01-22</td>\n",
       "      <td>Lanthanides</td>\n",
       "      <td>2025</td>\n",
       "      <td>-21.86427</td>\n",
       "      <td>-46.54833</td>\n",
       "    </tr>\n",
       "    <tr>\n",
       "      <th>659</th>\n",
       "      <td>Browns Range</td>\n",
       "      <td>37953</td>\n",
       "      <td>Northern Minerals Ltd.</td>\n",
       "      <td>Australia</td>\n",
       "      <td>1.4 Moderate - No Change</td>\n",
       "      <td>Preproduction</td>\n",
       "      <td>Active</td>\n",
       "      <td>Lanthanides, Dysprosium, Yttrium, Terbium, Lut...</td>\n",
       "      <td>90458</td>\n",
       "      <td>tonnes</td>\n",
       "      <td>4590.922240</td>\n",
       "      <td>2025-01-15</td>\n",
       "      <td>Lanthanides</td>\n",
       "      <td>2025</td>\n",
       "      <td>-18.96977</td>\n",
       "      <td>128.94522</td>\n",
       "    </tr>\n",
       "    <tr>\n",
       "      <th>660</th>\n",
       "      <td>Wicheeda</td>\n",
       "      <td>37945</td>\n",
       "      <td>Defense Metals Corp.</td>\n",
       "      <td>Canada</td>\n",
       "      <td>1.4 Moderate - No Change</td>\n",
       "      <td>Prefeas/Scoping</td>\n",
       "      <td>Active</td>\n",
       "      <td>Lanthanides, Cerium, Lanthanum, Praseodymium, ...</td>\n",
       "      <td>741000</td>\n",
       "      <td>tonnes</td>\n",
       "      <td>37050.000000</td>\n",
       "      <td>2025-02-07</td>\n",
       "      <td>Lanthanides</td>\n",
       "      <td>2025</td>\n",
       "      <td>54.53141</td>\n",
       "      <td>-122.09912</td>\n",
       "    </tr>\n",
       "  </tbody>\n",
       "</table>\n",
       "<p>661 rows × 16 columns</p>\n",
       "</div>"
      ],
      "text/plain": [
       "         Property  Property ID  \\\n",
       "0     Lithium Two        79958   \n",
       "1     Falcon West        90157   \n",
       "2           Irgon        79892   \n",
       "3    Chrome-Puddy        89842   \n",
       "4    Chrome-Puddy        89842   \n",
       "..            ...          ...   \n",
       "656      Brothers        90684   \n",
       "657      Caldeira        90102   \n",
       "658      Colossus        90981   \n",
       "659  Browns Range        37953   \n",
       "660      Wicheeda        37945   \n",
       "\n",
       "                                              Owner(s) Country/Region  \\\n",
       "0          New Age Metals Inc., Mineral Resources Ltd.         Canada   \n",
       "1                                    Grid Metals Corp.         Canada   \n",
       "2                            QMC Quantum Minerals Corp         Canada   \n",
       "3     Green Bridge Metals Corp., Pavey Ark Minerals...         Canada   \n",
       "4     Green Bridge Metals Corp., Pavey Ark Minerals...         Canada   \n",
       "..                                                 ...            ...   \n",
       "656                                       Critica Ltd.      Australia   \n",
       "657                              Meteoric Resources NL         Brazil   \n",
       "658                     Viridis Mining & Minerals Ltd.         Brazil   \n",
       "659                             Northern Minerals Ltd.      Australia   \n",
       "660                               Defense Metals Corp.         Canada   \n",
       "\n",
       "    Country/Region Risk Score & Outlook     Development Stage Activity Status  \\\n",
       "0              1.4 Moderate - No Change        Target Outline          Active   \n",
       "1              1.4 Moderate - No Change        Target Outline          Active   \n",
       "2              1.4 Moderate - No Change        Target Outline          Active   \n",
       "3              1.4 Moderate - No Change           Exploration          Active   \n",
       "4              1.4 Moderate - No Change           Exploration          Active   \n",
       "..                                  ...                   ...             ...   \n",
       "656            1.4 Moderate - No Change  Reserves Development          Active   \n",
       "657            2.3 Elevated - No Change       Prefeas/Scoping          Active   \n",
       "658            2.3 Elevated - No Change       Prefeas/Scoping          Active   \n",
       "659            1.4 Moderate - No Change         Preproduction          Active   \n",
       "660            1.4 Moderate - No Change       Prefeas/Scoping          Active   \n",
       "\n",
       "                                          Commodity(s)  \\\n",
       "0                 Lithium, Caesium, Rubidium, Tantalum   \n",
       "1                 Lithium, Caesium, Tantalum, Rubidium   \n",
       "2                                    Lithium, Tantalum   \n",
       "3    Nickel, Chromium, Copper, Cobalt, Platinum, Ir...   \n",
       "4    Nickel, Chromium, Copper, Cobalt, Platinum, Ir...   \n",
       "..                                                 ...   \n",
       "656  Lanthanides, Dysprosium, Terbium, Thorium, U3O...   \n",
       "657  Lanthanides, Neodymium, Praseodymium, Terbium,...   \n",
       "658  Lanthanides, Yttrium, U3O8, Thorium, Praseodym...   \n",
       "659  Lanthanides, Dysprosium, Yttrium, Terbium, Lut...   \n",
       "660  Lanthanides, Cerium, Lanthanum, Praseodymium, ...   \n",
       "\n",
       "     Primary Reserves and Resources    Unit  Total In-Situ Value ($M)  \\\n",
       "0                              7600  tonnes                123.180800   \n",
       "1                              4000  tonnes                 64.832000   \n",
       "2                             16420  tonnes                266.135360   \n",
       "3                             73482  tonnes               1384.357942   \n",
       "4                              4627  tonnes               1384.357942   \n",
       "..                              ...     ...                       ...   \n",
       "656                         2900000  tonnes             357712.977515   \n",
       "657                         2673400  tonnes             133670.000000   \n",
       "658                         1236700  tonnes              61835.000000   \n",
       "659                           90458  tonnes               4590.922240   \n",
       "660                          741000  tonnes              37050.000000   \n",
       "\n",
       "    Reserves & Resources As Of Date Primary Mineral  Year  Latitude (degrees)  \\\n",
       "0                        1947-12-31         Lithium  1947            50.61363   \n",
       "1                        1955-12-31         Lithium  1955            49.56729   \n",
       "2                        1956-12-31         Lithium  1956            50.60720   \n",
       "3                        1966-12-31          Nickel  1966            49.96907   \n",
       "4                        1966-12-31          Cobalt  1966            49.96907   \n",
       "..                              ...             ...   ...                 ...   \n",
       "656                      2025-02-11     Lanthanides  2025           -28.43831   \n",
       "657                      2025-03-12     Lanthanides  2025           -21.98932   \n",
       "658                      2025-01-22     Lanthanides  2025           -21.86427   \n",
       "659                      2025-01-15     Lanthanides  2025           -18.96977   \n",
       "660                      2025-02-07     Lanthanides  2025            54.53141   \n",
       "\n",
       "     Longitude (degrees)  \n",
       "0              -95.46443  \n",
       "1              -95.68944  \n",
       "2              -95.39696  \n",
       "3              -89.52303  \n",
       "4              -89.52303  \n",
       "..                   ...  \n",
       "656            117.30562  \n",
       "657            -46.49532  \n",
       "658            -46.54833  \n",
       "659            128.94522  \n",
       "660           -122.09912  \n",
       "\n",
       "[661 rows x 16 columns]"
      ]
     },
     "execution_count": 5,
     "metadata": {},
     "output_type": "execute_result"
    }
   ],
   "source": [
    "locations = pd.read_excel(\"data/MiningPropertyLocations.xlsx\")\n",
    "coords = locations[[\"KeyMineProject\",\"Latitude (degrees)\", \"Longitude (degrees)\"]]\n",
    "\n",
    "combined = combined.merge(coords, left_on = \"Property ID\", right_on=\"KeyMineProject\" ,how = \"inner\")\n",
    "combined.drop(\"KeyMineProject\", axis=1, inplace=True, errors=\"ignore\")\n",
    "combined"
   ]
  },
  {
   "cell_type": "code",
   "execution_count": 6,
   "id": "245ff1a6",
   "metadata": {},
   "outputs": [],
   "source": [
    "start_year = 2010\n",
    "combined = combined[combined[\"Year\"] >= start_year]"
   ]
  },
  {
   "cell_type": "code",
   "execution_count": 7,
   "id": "9857730d-3d69-40fa-b7fd-f7137a7d2c42",
   "metadata": {},
   "outputs": [
    {
     "data": {
      "application/vnd.microsoft.datawrangler.viewer.v0+json": {
       "columns": [
        {
         "name": "index",
         "rawType": "int64",
         "type": "integer"
        },
        {
         "name": "Year",
         "rawType": "int64",
         "type": "integer"
        },
        {
         "name": "Capacity",
         "rawType": "float64",
         "type": "float"
        },
        {
         "name": "log_capacity",
         "rawType": "float64",
         "type": "float"
        }
       ],
       "conversionMethod": "pd.DataFrame",
       "ref": "5e27538e-b9af-4df1-9500-fc00f6146f9b",
       "rows": [
        [
         "0",
         "2010",
         "14.0",
         "2.6390573296152584"
        ],
        [
         "1",
         "2011",
         "28.0",
         "3.332204510175204"
        ],
        [
         "2",
         "2012",
         "38.0",
         "3.6375861597263857"
        ],
        [
         "3",
         "2013",
         "56.0",
         "4.02535169073515"
        ],
        [
         "4",
         "2014",
         "75.0",
         "4.31748811353631"
        ],
        [
         "5",
         "2015",
         "85.0",
         "4.442651256490317"
        ],
        [
         "6",
         "2016",
         "111.0",
         "4.709530201312334"
        ],
        [
         "7",
         "2017",
         "198.0",
         "5.288267030694535"
        ],
        [
         "8",
         "2018",
         "293.7",
         "5.682558838204574"
        ],
        [
         "9",
         "2022",
         "1570.0",
         "7.358830898342354"
        ],
        [
         "10",
         "2025",
         "3970.0",
         "8.286521373681236"
        ],
        [
         "11",
         "2030",
         "6790.0",
         "8.823206220552741"
        ]
       ],
       "shape": {
        "columns": 3,
        "rows": 12
       }
      },
      "text/html": [
       "<div>\n",
       "<style scoped>\n",
       "    .dataframe tbody tr th:only-of-type {\n",
       "        vertical-align: middle;\n",
       "    }\n",
       "\n",
       "    .dataframe tbody tr th {\n",
       "        vertical-align: top;\n",
       "    }\n",
       "\n",
       "    .dataframe thead th {\n",
       "        text-align: right;\n",
       "    }\n",
       "</style>\n",
       "<table border=\"1\" class=\"dataframe\">\n",
       "  <thead>\n",
       "    <tr style=\"text-align: right;\">\n",
       "      <th></th>\n",
       "      <th>Year</th>\n",
       "      <th>Capacity</th>\n",
       "      <th>log_capacity</th>\n",
       "    </tr>\n",
       "  </thead>\n",
       "  <tbody>\n",
       "    <tr>\n",
       "      <th>0</th>\n",
       "      <td>2010</td>\n",
       "      <td>14.0</td>\n",
       "      <td>2.639057</td>\n",
       "    </tr>\n",
       "    <tr>\n",
       "      <th>1</th>\n",
       "      <td>2011</td>\n",
       "      <td>28.0</td>\n",
       "      <td>3.332205</td>\n",
       "    </tr>\n",
       "    <tr>\n",
       "      <th>2</th>\n",
       "      <td>2012</td>\n",
       "      <td>38.0</td>\n",
       "      <td>3.637586</td>\n",
       "    </tr>\n",
       "    <tr>\n",
       "      <th>3</th>\n",
       "      <td>2013</td>\n",
       "      <td>56.0</td>\n",
       "      <td>4.025352</td>\n",
       "    </tr>\n",
       "    <tr>\n",
       "      <th>4</th>\n",
       "      <td>2014</td>\n",
       "      <td>75.0</td>\n",
       "      <td>4.317488</td>\n",
       "    </tr>\n",
       "    <tr>\n",
       "      <th>5</th>\n",
       "      <td>2015</td>\n",
       "      <td>85.0</td>\n",
       "      <td>4.442651</td>\n",
       "    </tr>\n",
       "    <tr>\n",
       "      <th>6</th>\n",
       "      <td>2016</td>\n",
       "      <td>111.0</td>\n",
       "      <td>4.709530</td>\n",
       "    </tr>\n",
       "    <tr>\n",
       "      <th>7</th>\n",
       "      <td>2017</td>\n",
       "      <td>198.0</td>\n",
       "      <td>5.288267</td>\n",
       "    </tr>\n",
       "    <tr>\n",
       "      <th>8</th>\n",
       "      <td>2018</td>\n",
       "      <td>293.7</td>\n",
       "      <td>5.682559</td>\n",
       "    </tr>\n",
       "    <tr>\n",
       "      <th>9</th>\n",
       "      <td>2022</td>\n",
       "      <td>1570.0</td>\n",
       "      <td>7.358831</td>\n",
       "    </tr>\n",
       "    <tr>\n",
       "      <th>10</th>\n",
       "      <td>2025</td>\n",
       "      <td>3970.0</td>\n",
       "      <td>8.286521</td>\n",
       "    </tr>\n",
       "    <tr>\n",
       "      <th>11</th>\n",
       "      <td>2030</td>\n",
       "      <td>6790.0</td>\n",
       "      <td>8.823206</td>\n",
       "    </tr>\n",
       "  </tbody>\n",
       "</table>\n",
       "</div>"
      ],
      "text/plain": [
       "    Year  Capacity  log_capacity\n",
       "0   2010      14.0      2.639057\n",
       "1   2011      28.0      3.332205\n",
       "2   2012      38.0      3.637586\n",
       "3   2013      56.0      4.025352\n",
       "4   2014      75.0      4.317488\n",
       "5   2015      85.0      4.442651\n",
       "6   2016     111.0      4.709530\n",
       "7   2017     198.0      5.288267\n",
       "8   2018     293.7      5.682559\n",
       "9   2022    1570.0      7.358831\n",
       "10  2025    3970.0      8.286521\n",
       "11  2030    6790.0      8.823206"
      ]
     },
     "execution_count": 7,
     "metadata": {},
     "output_type": "execute_result"
    }
   ],
   "source": [
    "from io import StringIO\n",
    "from sklearn.preprocessing import PolynomialFeatures\n",
    "from sklearn.linear_model import LinearRegression\n",
    "from sklearn.metrics import root_mean_squared_error\n",
    "\n",
    "\n",
    "d = \"\"\"\n",
    "Year,Capacity\n",
    "2010,14\n",
    "2011,28\n",
    "2012,38\n",
    "2013,56\n",
    "2014,75\n",
    "2015,85\n",
    "2016,111\n",
    "2017,198\n",
    "2018,293.7\n",
    "2022,1570\n",
    "2025,3970\n",
    "2030,6790\n",
    "\"\"\"\n",
    "\n",
    "df = pd.read_csv(StringIO(d))\n",
    "df[\"log_capacity\"] = np.log(df[\"Capacity\"])\n",
    "df"
   ]
  },
  {
   "cell_type": "code",
   "execution_count": 8,
   "id": "35a22895-ba52-4b59-b094-e5e83862d933",
   "metadata": {},
   "outputs": [
    {
     "name": "stdout",
     "output_type": "stream",
     "text": [
      "Best degree: 3 with RMSE 0.15105632961085047\n"
     ]
    },
    {
     "data": {
      "image/png": "[encoded data removed]",
      "text/plain": [
       "<Figure size 640x480 with 1 Axes>"
      ]
     },
     "metadata": {},
     "output_type": "display_data"
    },
    {
     "name": "stdout",
     "output_type": "stream",
     "text": [
      "[[ 0.00000000e+00 -1.10772606e+04  5.49055450e+00 -9.07116281e-04]] [7449236.86970825]\n"
     ]
    }
   ],
   "source": [
    "errors = []\n",
    "models = []\n",
    "transforms = []\n",
    "r = np.arange(1,20)\n",
    "for d in r:\n",
    "    poly = PolynomialFeatures(degree=d, include_bias=True)\n",
    "    transforms.append(poly)\n",
    "    X = poly.fit_transform(df[[\"Year\"]], df[\"log_capacity\"])\n",
    "    reg = LinearRegression()\n",
    "    reg.fit(X, df[[\"log_capacity\"]].values)\n",
    "    models.append(reg)\n",
    "    rmse = root_mean_squared_error(df[\"log_capacity\"],reg.predict(X))\n",
    "    errors.append(rmse)\n",
    "\n",
    "\n",
    "errors = np.array(errors)\n",
    "differences = np.abs(np.diff(errors))\n",
    "threshold = 0.001\n",
    "best_index = np.argmax(differences[differences > 0] < threshold)\n",
    "best_poly = transforms[best_index]\n",
    "best_model = models[best_index]\n",
    "print(f\"Best degree: {best_index + 1} with RMSE {errors[best_index]}\")\n",
    "\n",
    "plt.plot(errors, marker=\"o\")\n",
    "plt.xticks(r - 1,labels=r)\n",
    "plt.xlabel(\"Polynomial Degree\")\n",
    "plt.ylabel(\"RMSE\")\n",
    "plt.show()\n",
    "\n",
    "print(best_model.coef_, best_model.intercept_)"
   ]
  },
  {
   "cell_type": "code",
   "execution_count": 9,
   "id": "efb6c8c5-33f4-4179-811b-ea643d944c1b",
   "metadata": {},
   "outputs": [
    {
     "data": {
      "image/png": "[encoded data removed]",
      "text/plain": [
       "<Figure size 640x480 with 1 Axes>"
      ]
     },
     "metadata": {},
     "output_type": "display_data"
    }
   ],
   "source": [
    "year_range = np.arange(df[\"Year\"].min(), df[\"Year\"].max())\n",
    "\n",
    "p2 = pd.DataFrame(year_range[~np.isin(year_range, df[\"Year\"])], columns=[\"Year\"])\n",
    "p2[\"log_capacity\"] = best_model.predict(best_poly.transform(p2[[\"Year\"]]))\n",
    "p2[\"Capacity\"] = np.exp(p2[[\"log_capacity\"]])\n",
    "df_full = pd.concat([df, p2], axis=0).sort_values(\"Year\").reset_index(drop=True)\n",
    "# df_full.to_excel(os.path.join(data_directory, \"Capacity.xlsx\"),  sheet_name=\"Projected Capacity\", index=False)\n",
    "\n",
    "ax = df_full.plot(x=\"Year\", y=\"Capacity\", marker=\"o\")\n",
    "ax.set_ylabel(\"Capacity (GWh)\")\n",
    "ax.set_xticks(df_full[\"Year\"], df_full[\"Year\"])\n",
    "ax.tick_params(axis='x', rotation=-45)\n",
    "for label in ax.get_xticklabels():\n",
    "    label.set_ha('left')\n",
    "\n",
    "plt.legend().remove()\n",
    "plt.title(\"Projected Battery Production Capacity\")\n",
    "plt.show()"
   ]
  },
  {
   "cell_type": "code",
   "execution_count": 10,
   "id": "a229bcd0",
   "metadata": {},
   "outputs": [
    {
     "data": {
      "text/plain": [
       "array(['Lanthanides', 'Nickel', 'Cobalt', 'Lithium', 'Manganese'],\n",
       "      dtype=object)"
      ]
     },
     "execution_count": 10,
     "metadata": {},
     "output_type": "execute_result"
    }
   ],
   "source": [
    "combined[\"Primary Mineral\"].unique()"
   ]
  },
  {
   "cell_type": "code",
   "execution_count": 11,
   "id": "0fbfffe3-9b63-4d3f-be21-38f001f97ebc",
   "metadata": {
    "colab": {
     "base_uri": "https://localhost:8080/",
     "height": 617
    },
    "id": "0fbfffe3-9b63-4d3f-be21-38f001f97ebc",
    "outputId": "1aec076f-84e7-4b99-c5b8-9f5fa82ad581"
   },
   "outputs": [
    {
     "data": {
      "application/vnd.plotly.v1+json": {
       "config": {
        "plotlyServerURL": "https://plot.ly"
       },
       "data": [
        {
         "hovertemplate": "Primary Mineral=Cobalt<br>Reserves & Resources As Of Date=%{x}<br>Primary Reserves and Resources=%{y}<extra></extra>",
         "legendgroup": "",
         "line": {
          "color": "#636efa",
          "dash": "solid"
         },
         "marker": {
          "symbol": "circle"
         },
         "mode": "lines",
         "name": "",
         "orientation": "v",
         "showlegend": false,
         "type": "scatter",
         "x": [
          "2010-02-16T00:00:00.000000000",
          "2010-04-14T00:00:00.000000000",
          "2010-06-04T00:00:00.000000000",
          "2010-11-04T00:00:00.000000000",
          "2011-05-18T00:00:00.000000000",
          "2012-03-15T00:00:00.000000000",
          "2012-06-13T00:00:00.000000000",
          "2012-06-30T00:00:00.000000000",
          "2012-07-05T00:00:00.000000000",
          "2012-09-20T00:00:00.000000000",
          "2012-11-22T00:00:00.000000000",
          "2012-12-31T00:00:00.000000000",
          "2013-02-05T00:00:00.000000000",
          "2013-08-30T00:00:00.000000000",
          "2013-10-10T00:00:00.000000000",
          "2013-12-31T00:00:00.000000000",
          "2014-04-02T00:00:00.000000000",
          "2015-04-30T00:00:00.000000000",
          "2017-01-27T00:00:00.000000000",
          "2017-04-11T00:00:00.000000000",
          "2017-08-07T00:00:00.000000000",
          "2017-08-18T00:00:00.000000000",
          "2017-09-14T00:00:00.000000000",
          "2017-10-31T00:00:00.000000000",
          "2018-02-12T00:00:00.000000000",
          "2018-03-08T00:00:00.000000000",
          "2018-04-09T00:00:00.000000000",
          "2018-04-11T00:00:00.000000000",
          "2018-05-31T00:00:00.000000000",
          "2018-06-06T00:00:00.000000000",
          "2018-07-19T00:00:00.000000000",
          "2018-07-31T00:00:00.000000000",
          "2018-09-28T00:00:00.000000000",
          "2018-10-11T00:00:00.000000000",
          "2018-11-19T00:00:00.000000000",
          "2019-02-26T00:00:00.000000000",
          "2019-03-25T00:00:00.000000000",
          "2019-04-13T00:00:00.000000000",
          "2019-04-18T00:00:00.000000000",
          "2019-05-02T00:00:00.000000000",
          "2019-05-24T00:00:00.000000000",
          "2019-05-30T00:00:00.000000000",
          "2019-06-30T00:00:00.000000000",
          "2019-08-13T00:00:00.000000000",
          "2019-09-30T00:00:00.000000000",
          "2019-10-18T00:00:00.000000000",
          "2019-10-31T00:00:00.000000000",
          "2019-12-31T00:00:00.000000000",
          "2020-04-22T00:00:00.000000000",
          "2020-09-27T00:00:00.000000000",
          "2020-11-17T00:00:00.000000000",
          "2020-11-30T00:00:00.000000000",
          "2020-12-31T00:00:00.000000000",
          "2021-03-31T00:00:00.000000000",
          "2021-07-01T00:00:00.000000000",
          "2021-09-30T00:00:00.000000000",
          "2021-10-07T00:00:00.000000000",
          "2021-10-30T00:00:00.000000000",
          "2021-11-09T00:00:00.000000000",
          "2021-12-13T00:00:00.000000000",
          "2021-12-31T00:00:00.000000000",
          "2022-01-28T00:00:00.000000000",
          "2022-05-17T00:00:00.000000000",
          "2022-05-25T00:00:00.000000000",
          "2022-05-31T00:00:00.000000000",
          "2022-06-01T00:00:00.000000000",
          "2022-06-13T00:00:00.000000000",
          "2022-07-06T00:00:00.000000000",
          "2022-08-10T00:00:00.000000000",
          "2022-09-01T00:00:00.000000000",
          "2022-09-11T00:00:00.000000000",
          "2022-09-20T00:00:00.000000000",
          "2022-10-10T00:00:00.000000000",
          "2022-10-21T00:00:00.000000000",
          "2022-12-12T00:00:00.000000000",
          "2022-12-31T00:00:00.000000000",
          "2023-01-23T00:00:00.000000000",
          "2023-01-27T00:00:00.000000000",
          "2023-02-02T00:00:00.000000000",
          "2023-02-27T00:00:00.000000000",
          "2023-03-01T00:00:00.000000000",
          "2023-03-07T00:00:00.000000000",
          "2023-03-30T00:00:00.000000000",
          "2023-04-26T00:00:00.000000000",
          "2023-05-31T00:00:00.000000000",
          "2023-06-07T00:00:00.000000000",
          "2023-06-09T00:00:00.000000000",
          "2023-06-30T00:00:00.000000000",
          "2023-07-05T00:00:00.000000000",
          "2023-07-19T00:00:00.000000000",
          "2023-08-07T00:00:00.000000000",
          "2023-08-12T00:00:00.000000000",
          "2023-08-31T00:00:00.000000000",
          "2023-09-01T00:00:00.000000000",
          "2023-09-22T00:00:00.000000000",
          "2023-10-02T00:00:00.000000000",
          "2023-10-16T00:00:00.000000000",
          "2023-10-24T00:00:00.000000000",
          "2023-11-26T00:00:00.000000000",
          "2023-11-30T00:00:00.000000000",
          "2023-12-31T00:00:00.000000000",
          "2024-01-19T00:00:00.000000000",
          "2024-01-29T00:00:00.000000000",
          "2024-02-01T00:00:00.000000000",
          "2024-02-12T00:00:00.000000000",
          "2024-03-02T00:00:00.000000000",
          "2024-03-05T00:00:00.000000000",
          "2024-03-11T00:00:00.000000000",
          "2024-03-21T00:00:00.000000000",
          "2024-03-24T00:00:00.000000000",
          "2024-04-15T00:00:00.000000000",
          "2024-04-23T00:00:00.000000000",
          "2024-06-11T00:00:00.000000000",
          "2024-07-17T00:00:00.000000000",
          "2024-08-05T00:00:00.000000000",
          "2024-08-26T00:00:00.000000000",
          "2024-08-28T00:00:00.000000000",
          "2024-09-23T00:00:00.000000000",
          "2024-10-01T00:00:00.000000000",
          "2024-12-09T00:00:00.000000000"
         ],
         "xaxis": "x5",
         "y": {
          "bdata": "mAMAAO5IAAAiAgAAuQgAAIsCAADakwAAlDcCACQEAAAgZwAAO3IAALQtAADRcQEAUEYAAESTAADYCAAANNoFAAkiAQAIBwAAsAQAAOElAADYIQEA1gEAAIyHAAC4CgAAqAIAAAgHAAC6BAAABD4AABgVAACo6AAAVAEAAEAfAACsJgAAmTMAACQsAAAgHAAAzBAAALgkAACEAwAAgSgAALCzAACOgAMAYOoAAMC7AQDaZgAA3RkBAGwzAQCgEQMAGy4AAECQAgCyDQAA4JMEAEhqLwBVAgAA6OsDALQUAABmIQAAWDQAALcFAABWCgAAuBEAAFhNAADQAQEAbCAAAEERAACQqwEAQLUAACACAAB3AgAAUgAAALAeBAAsAQAAVhcAAGcaAAArDAAAvL4CABwMAAA0JAAAaAYAACwaAABIFwAAGhYAACEJAAA0ngAAPHMAAOwSAADPpgEArA0AANi+BABtNgEAHgAAAA8DAAAIbQgAsDYAAKhDBQDoZwAAMgAAALD+AAB0DgAABRoCAMzEJQCUFAAAYQsAALMUAABDXAQAGAYAAESTAABAnAAAa0oAAIEDAACiJgAAnHYBALwFAAAItgAA+I4AALCnAgAZnQEAIMsAAKkFAADgFQAA",
          "dtype": "i4"
         },
         "yaxis": "y5"
        },
        {
         "hovertemplate": "Primary Mineral=Nickel<br>Reserves & Resources As Of Date=%{x}<br>Primary Reserves and Resources=%{y}<extra></extra>",
         "legendgroup": "",
         "line": {
          "color": "#636efa",
          "dash": "solid"
         },
         "marker": {
          "symbol": "circle"
         },
         "mode": "lines",
         "name": "",
         "orientation": "v",
         "showlegend": false,
         "type": "scatter",
         "x": [
          "2010-02-16T00:00:00.000000000",
          "2010-03-31T00:00:00.000000000",
          "2010-04-14T00:00:00.000000000",
          "2010-04-19T00:00:00.000000000",
          "2010-05-03T00:00:00.000000000",
          "2010-05-31T00:00:00.000000000",
          "2010-06-04T00:00:00.000000000",
          "2010-11-04T00:00:00.000000000",
          "2010-12-31T00:00:00.000000000",
          "2011-03-31T00:00:00.000000000",
          "2011-05-18T00:00:00.000000000",
          "2011-08-23T00:00:00.000000000",
          "2011-09-22T00:00:00.000000000",
          "2011-12-31T00:00:00.000000000",
          "2012-03-15T00:00:00.000000000",
          "2012-04-01T00:00:00.000000000",
          "2012-06-07T00:00:00.000000000",
          "2012-06-13T00:00:00.000000000",
          "2012-06-30T00:00:00.000000000",
          "2012-07-05T00:00:00.000000000",
          "2012-09-20T00:00:00.000000000",
          "2012-10-24T00:00:00.000000000",
          "2012-11-08T00:00:00.000000000",
          "2012-12-31T00:00:00.000000000",
          "2013-02-05T00:00:00.000000000",
          "2013-08-30T00:00:00.000000000",
          "2013-10-10T00:00:00.000000000",
          "2013-12-31T00:00:00.000000000",
          "2014-12-31T00:00:00.000000000",
          "2015-04-01T00:00:00.000000000",
          "2015-04-28T00:00:00.000000000",
          "2015-04-30T00:00:00.000000000",
          "2015-06-04T00:00:00.000000000",
          "2016-03-10T00:00:00.000000000",
          "2017-01-27T00:00:00.000000000",
          "2017-04-11T00:00:00.000000000",
          "2017-08-07T00:00:00.000000000",
          "2017-08-18T00:00:00.000000000",
          "2017-09-14T00:00:00.000000000",
          "2017-12-31T00:00:00.000000000",
          "2018-02-12T00:00:00.000000000",
          "2018-03-08T00:00:00.000000000",
          "2018-04-09T00:00:00.000000000",
          "2018-04-11T00:00:00.000000000",
          "2018-05-31T00:00:00.000000000",
          "2018-06-06T00:00:00.000000000",
          "2018-07-31T00:00:00.000000000",
          "2018-08-31T00:00:00.000000000",
          "2018-09-28T00:00:00.000000000",
          "2018-10-11T00:00:00.000000000",
          "2018-11-19T00:00:00.000000000",
          "2019-02-26T00:00:00.000000000",
          "2019-03-25T00:00:00.000000000",
          "2019-04-18T00:00:00.000000000",
          "2019-05-24T00:00:00.000000000",
          "2019-05-30T00:00:00.000000000",
          "2019-06-30T00:00:00.000000000",
          "2019-08-13T00:00:00.000000000",
          "2019-09-30T00:00:00.000000000",
          "2019-10-18T00:00:00.000000000",
          "2019-10-31T00:00:00.000000000",
          "2019-12-31T00:00:00.000000000",
          "2020-04-22T00:00:00.000000000",
          "2020-09-27T00:00:00.000000000",
          "2020-11-17T00:00:00.000000000",
          "2020-11-30T00:00:00.000000000",
          "2020-12-31T00:00:00.000000000",
          "2021-09-30T00:00:00.000000000",
          "2021-10-07T00:00:00.000000000",
          "2021-10-30T00:00:00.000000000",
          "2021-11-09T00:00:00.000000000",
          "2021-12-13T00:00:00.000000000",
          "2021-12-31T00:00:00.000000000",
          "2022-01-03T00:00:00.000000000",
          "2022-01-28T00:00:00.000000000",
          "2022-05-17T00:00:00.000000000",
          "2022-05-25T00:00:00.000000000",
          "2022-05-31T00:00:00.000000000",
          "2022-06-01T00:00:00.000000000",
          "2022-06-07T00:00:00.000000000",
          "2022-06-13T00:00:00.000000000",
          "2022-06-30T00:00:00.000000000",
          "2022-07-06T00:00:00.000000000",
          "2022-08-10T00:00:00.000000000",
          "2022-08-15T00:00:00.000000000",
          "2022-09-01T00:00:00.000000000",
          "2022-09-11T00:00:00.000000000",
          "2022-09-12T00:00:00.000000000",
          "2022-09-20T00:00:00.000000000",
          "2022-10-10T00:00:00.000000000",
          "2022-10-21T00:00:00.000000000",
          "2022-10-28T00:00:00.000000000",
          "2022-12-12T00:00:00.000000000",
          "2022-12-31T00:00:00.000000000",
          "2023-01-23T00:00:00.000000000",
          "2023-02-02T00:00:00.000000000",
          "2023-02-27T00:00:00.000000000",
          "2023-03-01T00:00:00.000000000",
          "2023-03-07T00:00:00.000000000",
          "2023-03-30T00:00:00.000000000",
          "2023-03-31T00:00:00.000000000",
          "2023-04-13T00:00:00.000000000",
          "2023-04-26T00:00:00.000000000",
          "2023-05-31T00:00:00.000000000",
          "2023-06-07T00:00:00.000000000",
          "2023-06-09T00:00:00.000000000",
          "2023-06-30T00:00:00.000000000",
          "2023-07-05T00:00:00.000000000",
          "2023-07-19T00:00:00.000000000",
          "2023-08-07T00:00:00.000000000",
          "2023-08-12T00:00:00.000000000",
          "2023-08-31T00:00:00.000000000",
          "2023-09-01T00:00:00.000000000",
          "2023-09-06T00:00:00.000000000",
          "2023-09-22T00:00:00.000000000",
          "2023-10-02T00:00:00.000000000",
          "2023-10-15T00:00:00.000000000",
          "2023-10-16T00:00:00.000000000",
          "2023-10-24T00:00:00.000000000",
          "2023-11-26T00:00:00.000000000",
          "2023-11-30T00:00:00.000000000",
          "2023-12-31T00:00:00.000000000",
          "2024-01-01T00:00:00.000000000",
          "2024-01-19T00:00:00.000000000",
          "2024-01-29T00:00:00.000000000",
          "2024-02-12T00:00:00.000000000",
          "2024-03-02T00:00:00.000000000",
          "2024-03-05T00:00:00.000000000",
          "2024-03-11T00:00:00.000000000",
          "2024-03-18T00:00:00.000000000",
          "2024-03-21T00:00:00.000000000",
          "2024-03-24T00:00:00.000000000",
          "2024-03-31T00:00:00.000000000",
          "2024-04-15T00:00:00.000000000",
          "2024-04-23T00:00:00.000000000",
          "2024-06-11T00:00:00.000000000",
          "2024-06-30T00:00:00.000000000",
          "2024-07-17T00:00:00.000000000",
          "2024-08-05T00:00:00.000000000",
          "2024-08-26T00:00:00.000000000",
          "2024-08-28T00:00:00.000000000",
          "2024-09-23T00:00:00.000000000",
          "2024-10-01T00:00:00.000000000",
          "2024-11-01T00:00:00.000000000",
          "2024-12-09T00:00:00.000000000"
         ],
         "xaxis": "x6",
         "y": {
          "bdata": "6IAAABh5AAD4VwUAoIYBAPgqAAAANQwAkyEAAOCrAADIJgIA6EQKADBDAADgkwQAUJIdAGCJAgD4/AoAEsQAABAwPQCQWBcAsLMAAAwzDADY/w4AQ4QXALHpAABTJyQAwLYGALMlDADcggAAuBlqAGT3PwBMuwcA8EIAACDLAAAQpAAAdFkAACBCAgDP4wAAILwPAGIkAAA4CAsAXkNPAHQnAAA4mgAAMAIAAF1aAACAgwEAcL4IAECcAACoRAAA0HgCANkRAwA0kgIAsK0BAHzdAAB8LgAAyPwIAH5KVwDACQ4ADisnAKTdCgDrOgsAOLoXAILOIgD6MwIAWEQOAMs5AQDwMzsAkItHAUDIAQBo1AIAqGkHACQNAQAHxQAAbjIPAHARAQCIrRAAeJgNAGBtAABDKwEAcJgpAGh5FAA8BAYAUIsBAA69AAADUgAA1AsCACkOAAAgdTgAiwMAAEQWAAB8UgMAMOADAMDaAAB/kAEADEcRAGADAQAIawAA0JECABRdAgDfXQAAEEkBABjwAQBwFwAAeFEEAJCyCADvYwMAqCglAKydAQDYf00AleUVAJgIAADBQAAAQPOUAERPAwCgZUUAcAFXADxnAgDAehAAQgkAAPjQDgDc5gAAxNgbAKMcaAO4+0kCvQUBAH/nAgB6EzgAPFoAADhfCQBQKg0AzfoFAJ8bBQA8iAAA/J4AAJhUBACIuQ4AwLsBAJlgagDglhAAsGASAGhqIwDh5hkAaI8IAOjUAADgpQEAZBMBAA==",
          "dtype": "i4"
         },
         "yaxis": "y6"
        },
        {
         "hovertemplate": "Primary Mineral=Lithium<br>Reserves & Resources As Of Date=%{x}<br>Primary Reserves and Resources=%{y}<extra></extra>",
         "legendgroup": "",
         "line": {
          "color": "#636efa",
          "dash": "solid"
         },
         "marker": {
          "symbol": "circle"
         },
         "mode": "lines",
         "name": "",
         "orientation": "v",
         "showlegend": false,
         "type": "scatter",
         "x": [
          "2010-05-04T00:00:00.000000000",
          "2010-12-06T00:00:00.000000000",
          "2011-03-14T00:00:00.000000000",
          "2012-03-06T00:00:00.000000000",
          "2012-03-19T00:00:00.000000000",
          "2012-06-01T00:00:00.000000000",
          "2016-02-24T00:00:00.000000000",
          "2017-06-15T00:00:00.000000000",
          "2017-12-12T00:00:00.000000000",
          "2017-12-31T00:00:00.000000000",
          "2018-06-30T00:00:00.000000000",
          "2018-07-06T00:00:00.000000000",
          "2018-10-14T00:00:00.000000000",
          "2018-12-17T00:00:00.000000000",
          "2019-04-11T00:00:00.000000000",
          "2019-05-07T00:00:00.000000000",
          "2019-06-30T00:00:00.000000000",
          "2019-08-12T00:00:00.000000000",
          "2019-08-22T00:00:00.000000000",
          "2019-09-26T00:00:00.000000000",
          "2019-10-31T00:00:00.000000000",
          "2020-04-02T00:00:00.000000000",
          "2020-06-22T00:00:00.000000000",
          "2021-06-04T00:00:00.000000000",
          "2021-08-20T00:00:00.000000000",
          "2021-09-09T00:00:00.000000000",
          "2021-09-20T00:00:00.000000000",
          "2021-10-30T00:00:00.000000000",
          "2021-11-30T00:00:00.000000000",
          "2021-12-14T00:00:00.000000000",
          "2021-12-21T00:00:00.000000000",
          "2021-12-31T00:00:00.000000000",
          "2022-02-21T00:00:00.000000000",
          "2022-06-17T00:00:00.000000000",
          "2022-07-01T00:00:00.000000000",
          "2022-07-31T00:00:00.000000000",
          "2022-10-06T00:00:00.000000000",
          "2022-11-02T00:00:00.000000000",
          "2022-12-15T00:00:00.000000000",
          "2022-12-20T00:00:00.000000000",
          "2022-12-30T00:00:00.000000000",
          "2022-12-31T00:00:00.000000000",
          "2023-01-23T00:00:00.000000000",
          "2023-02-16T00:00:00.000000000",
          "2023-02-27T00:00:00.000000000",
          "2023-02-28T00:00:00.000000000",
          "2023-03-09T00:00:00.000000000",
          "2023-03-27T00:00:00.000000000",
          "2023-04-01T00:00:00.000000000",
          "2023-04-30T00:00:00.000000000",
          "2023-05-02T00:00:00.000000000",
          "2023-05-05T00:00:00.000000000",
          "2023-05-18T00:00:00.000000000",
          "2023-06-12T00:00:00.000000000",
          "2023-06-30T00:00:00.000000000",
          "2023-07-12T00:00:00.000000000",
          "2023-07-17T00:00:00.000000000",
          "2023-08-01T00:00:00.000000000",
          "2023-08-06T00:00:00.000000000",
          "2023-08-07T00:00:00.000000000",
          "2023-08-18T00:00:00.000000000",
          "2023-08-23T00:00:00.000000000",
          "2023-09-05T00:00:00.000000000",
          "2023-09-18T00:00:00.000000000",
          "2023-09-29T00:00:00.000000000",
          "2023-10-01T00:00:00.000000000",
          "2023-10-16T00:00:00.000000000",
          "2023-10-17T00:00:00.000000000",
          "2023-10-25T00:00:00.000000000",
          "2023-10-31T00:00:00.000000000",
          "2023-11-01T00:00:00.000000000",
          "2023-11-02T00:00:00.000000000",
          "2023-11-14T00:00:00.000000000",
          "2023-11-17T00:00:00.000000000",
          "2023-11-22T00:00:00.000000000",
          "2023-12-13T00:00:00.000000000",
          "2023-12-18T00:00:00.000000000",
          "2023-12-19T00:00:00.000000000",
          "2023-12-21T00:00:00.000000000",
          "2023-12-27T00:00:00.000000000",
          "2023-12-31T00:00:00.000000000",
          "2024-01-01T00:00:00.000000000",
          "2024-01-04T00:00:00.000000000",
          "2024-01-15T00:00:00.000000000",
          "2024-01-22T00:00:00.000000000",
          "2024-01-29T00:00:00.000000000",
          "2024-01-31T00:00:00.000000000",
          "2024-02-20T00:00:00.000000000",
          "2024-02-22T00:00:00.000000000",
          "2024-03-13T00:00:00.000000000",
          "2024-03-26T00:00:00.000000000",
          "2024-03-31T00:00:00.000000000",
          "2024-04-18T00:00:00.000000000",
          "2024-04-19T00:00:00.000000000",
          "2024-04-29T00:00:00.000000000",
          "2024-05-08T00:00:00.000000000",
          "2024-05-15T00:00:00.000000000",
          "2024-05-23T00:00:00.000000000",
          "2024-05-27T00:00:00.000000000",
          "2024-05-28T00:00:00.000000000",
          "2024-05-30T00:00:00.000000000",
          "2024-05-31T00:00:00.000000000",
          "2024-06-05T00:00:00.000000000",
          "2024-06-12T00:00:00.000000000",
          "2024-06-20T00:00:00.000000000",
          "2024-06-24T00:00:00.000000000",
          "2024-06-30T00:00:00.000000000",
          "2024-07-09T00:00:00.000000000",
          "2024-07-30T00:00:00.000000000",
          "2024-08-07T00:00:00.000000000",
          "2024-08-20T00:00:00.000000000",
          "2024-08-21T00:00:00.000000000",
          "2024-08-27T00:00:00.000000000",
          "2024-09-01T00:00:00.000000000",
          "2024-10-01T00:00:00.000000000",
          "2024-10-14T00:00:00.000000000",
          "2024-10-16T00:00:00.000000000",
          "2024-10-22T00:00:00.000000000",
          "2024-11-12T00:00:00.000000000",
          "2024-11-28T00:00:00.000000000",
          "2024-12-08T00:00:00.000000000"
         ],
         "xaxis": "x3",
         "y": {
          "bdata": "nD0DALD8AgDfKwAAIHoBAPjiCwCF0wAAXHAzAMBXAQAQWjYA0J0AAJOkDABIJgAAINAAANB+AQA4xwAAUKSXALheBwD4JAEAQGAKAND7AQBoNgIAMK4DAKQ5BABQFDIALIt/AKB6AwCwny0AINQLAFjdCwB4PwcAmM4RAJ4/IgAw028AsOgMAOj3AQCEEAIA4JxBACB+dQAgvwIA6PcBAEBgCgAoOroBuBAAAK6RAACwiYQAnHENAIwKAAA4ogIAYOQBADDpQABI1wYA8E8BAJyMJwAYegQA0Vo0ARBjAQDa2SkA+I8EANjQAQCYqwIAUJgcABQYAQAAxAkAqNICACQpqwAqbQEAcEUJAMijAgC6qRUAhEQEAHd7CADEAwEAlCUFAC6aAQAkn0EAaNUmACCzBACQ4gAAFUAOAPDAAwCQq6IBQDVdABBNAgCZ+ysAUNfNAFg0AACAbQ0AZrELAOjOJQAA3gEA4IUwAFBcJgD43AwASHQtAHQoKQDITxAAyOMaAFSwDwCYmAYAqJ8NAKR6DgAQTjgA6GsQANDXBwAO2WkABeOFADQLcADg/RwAWPEGACCqRADECQAAUA8eAIRWIAC0JwEAkLgHACsCAgAgSAEAqGYUABSDBABoSwsAsE4BAA==",
          "dtype": "i4"
         },
         "yaxis": "y3"
        },
        {
         "hovertemplate": "Primary Mineral=Lanthanides<br>Reserves & Resources As Of Date=%{x}<br>Primary Reserves and Resources=%{y}<extra></extra>",
         "legendgroup": "",
         "line": {
          "color": "#636efa",
          "dash": "solid"
         },
         "marker": {
          "symbol": "circle"
         },
         "mode": "lines",
         "name": "",
         "orientation": "v",
         "showlegend": false,
         "type": "scatter",
         "x": [
          "2010-06-14T00:00:00.000000000",
          "2010-11-16T00:00:00.000000000",
          "2011-09-27T00:00:00.000000000",
          "2011-11-09T00:00:00.000000000",
          "2011-12-31T00:00:00.000000000",
          "2012-04-26T00:00:00.000000000",
          "2012-05-10T00:00:00.000000000",
          "2012-11-22T00:00:00.000000000",
          "2013-02-27T00:00:00.000000000",
          "2013-03-15T00:00:00.000000000",
          "2013-10-17T00:00:00.000000000",
          "2013-11-30T00:00:00.000000000",
          "2013-12-31T00:00:00.000000000",
          "2014-05-08T00:00:00.000000000",
          "2014-11-27T00:00:00.000000000",
          "2014-12-31T00:00:00.000000000",
          "2015-06-17T00:00:00.000000000",
          "2015-12-31T00:00:00.000000000",
          "2017-02-15T00:00:00.000000000",
          "2017-04-12T00:00:00.000000000",
          "2017-11-17T00:00:00.000000000",
          "2018-04-10T00:00:00.000000000",
          "2019-10-15T00:00:00.000000000",
          "2019-12-13T00:00:00.000000000",
          "2019-12-31T00:00:00.000000000",
          "2020-03-11T00:00:00.000000000",
          "2020-12-31T00:00:00.000000000",
          "2021-07-20T00:00:00.000000000",
          "2021-07-31T00:00:00.000000000",
          "2021-08-02T00:00:00.000000000",
          "2021-08-19T00:00:00.000000000",
          "2021-12-31T00:00:00.000000000",
          "2022-07-05T00:00:00.000000000",
          "2022-09-21T00:00:00.000000000",
          "2022-11-21T00:00:00.000000000",
          "2023-02-03T00:00:00.000000000",
          "2023-02-13T00:00:00.000000000",
          "2023-04-19T00:00:00.000000000",
          "2023-06-30T00:00:00.000000000",
          "2023-09-25T00:00:00.000000000",
          "2023-09-30T00:00:00.000000000",
          "2023-10-25T00:00:00.000000000",
          "2023-12-31T00:00:00.000000000",
          "2024-01-25T00:00:00.000000000",
          "2024-02-01T00:00:00.000000000",
          "2024-04-04T00:00:00.000000000",
          "2024-05-22T00:00:00.000000000",
          "2024-05-29T00:00:00.000000000",
          "2024-06-06T00:00:00.000000000",
          "2024-06-30T00:00:00.000000000",
          "2024-07-04T00:00:00.000000000",
          "2024-07-05T00:00:00.000000000",
          "2024-07-18T00:00:00.000000000",
          "2024-09-01T00:00:00.000000000",
          "2024-09-04T00:00:00.000000000",
          "2024-10-08T00:00:00.000000000",
          "2024-12-03T00:00:00.000000000",
          "2024-12-18T00:00:00.000000000",
          "2024-12-31T00:00:00.000000000",
          "2025-01-15T00:00:00.000000000",
          "2025-01-22T00:00:00.000000000",
          "2025-01-28T00:00:00.000000000",
          "2025-02-07T00:00:00.000000000",
          "2025-02-11T00:00:00.000000000",
          "2025-02-20T00:00:00.000000000",
          "2025-03-12T00:00:00.000000000"
         ],
         "xaxis": "x4",
         "y": {
          "bdata": "4NVkA00FAAAw8gAA2FkAAAVRBwCYLgIAiAEDAOClAQCuugAAjpYDAPihAQDiiQQAgAcYAcheAQAQkwgAUDQSAJwoOwDgyBAAuDtDAOB+RgBsmgMAACT0AFKJAACouRsA0NYcANhSFgAARQEAcGQIAFcEAQAgOgAAvm0BABoHAAAAIAoAALgLAAhMAQCAPgAAAJghADgSAQAgTgAAKAUFAIBPEgB4CwAAkMoEAEAGGQC4SgIAQDQ7ABAVAwDI3g0AAEeGAGHloACwNgAAqFUCABC9ZABoswIA2zkEANQEBAC8LAEA6aAmANSWIwBaYQEAag8TAJrxgwCITgsAIEAsALhMCgD4yigA",
          "dtype": "i4"
         },
         "yaxis": "y4"
        },
        {
         "hovertemplate": "Primary Mineral=Manganese<br>Reserves & Resources As Of Date=%{x}<br>Primary Reserves and Resources=%{y}<extra></extra>",
         "legendgroup": "",
         "line": {
          "color": "#636efa",
          "dash": "solid"
         },
         "marker": {
          "symbol": "circle"
         },
         "mode": "lines",
         "name": "",
         "orientation": "v",
         "showlegend": false,
         "type": "scatter",
         "x": [
          "2012-03-14T00:00:00.000000000",
          "2012-03-31T00:00:00.000000000",
          "2012-12-11T00:00:00.000000000",
          "2012-12-31T00:00:00.000000000",
          "2013-03-31T00:00:00.000000000",
          "2013-06-30T00:00:00.000000000",
          "2014-07-10T00:00:00.000000000",
          "2015-05-21T00:00:00.000000000",
          "2017-12-31T00:00:00.000000000",
          "2019-12-31T00:00:00.000000000",
          "2020-12-31T00:00:00.000000000",
          "2021-01-04T00:00:00.000000000",
          "2021-12-01T00:00:00.000000000",
          "2022-05-12T00:00:00.000000000",
          "2022-07-14T00:00:00.000000000",
          "2023-03-23T00:00:00.000000000",
          "2023-05-03T00:00:00.000000000",
          "2023-06-30T00:00:00.000000000",
          "2023-07-13T00:00:00.000000000",
          "2023-11-30T00:00:00.000000000",
          "2023-12-12T00:00:00.000000000",
          "2023-12-31T00:00:00.000000000",
          "2024-01-01T00:00:00.000000000",
          "2024-03-31T00:00:00.000000000",
          "2024-06-30T00:00:00.000000000",
          "2024-11-25T00:00:00.000000000"
         ],
         "xaxis": "x",
         "y": {
          "bdata": "wKzYAKBaMgDg7AQBeEULFABoiQkALTEB2mMTCFAq1QAg6I0AwAR3AOBJ/gnQunQAYGFtA+AqvwOAYJsBEHeHCrHNzQFAbd8s4E3gAIBPEgAAvpgSgAxABgCoyxhwImwGuEXcKVBf5gU=",
          "dtype": "i4"
         },
         "yaxis": "y"
        }
       ],
       "layout": {
        "annotations": [
         {
          "font": {},
          "showarrow": false,
          "text": "Primary Mineral=Manganese",
          "x": 0.245,
          "xanchor": "center",
          "xref": "paper",
          "y": 0.19999999999999998,
          "yanchor": "bottom",
          "yref": "paper"
         },
         {
          "font": {},
          "showarrow": false,
          "text": "Primary Mineral=Lithium",
          "x": 0.245,
          "xanchor": "center",
          "xref": "paper",
          "y": 0.6,
          "yanchor": "bottom",
          "yref": "paper"
         },
         {
          "font": {},
          "showarrow": false,
          "text": "Primary Mineral=Lanthanides",
          "x": 0.755,
          "xanchor": "center",
          "xref": "paper",
          "y": 0.6,
          "yanchor": "bottom",
          "yref": "paper"
         },
         {
          "font": {},
          "showarrow": false,
          "text": "Primary Mineral=Cobalt",
          "x": 0.245,
          "xanchor": "center",
          "xref": "paper",
          "y": 1,
          "yanchor": "bottom",
          "yref": "paper"
         },
         {
          "font": {},
          "showarrow": false,
          "text": "Primary Mineral=Nickel",
          "x": 0.755,
          "xanchor": "center",
          "xref": "paper",
          "y": 1,
          "yanchor": "bottom",
          "yref": "paper"
         }
        ],
        "legend": {
         "tracegroupgap": 0
        },
        "margin": {
         "t": 60
        },
        "template": {
         "data": {
          "bar": [
           {
            "error_x": {
             "color": "#2a3f5f"
            },
            "error_y": {
             "color": "#2a3f5f"
            },
            "marker": {
             "line": {
              "color": "#E5ECF6",
              "width": 0.5
             },
             "pattern": {
              "fillmode": "overlay",
              "size": 10,
              "solidity": 0.2
             }
            },
            "type": "bar"
           }
          ],
          "barpolar": [
           {
            "marker": {
             "line": {
              "color": "#E5ECF6",
              "width": 0.5
             },
             "pattern": {
              "fillmode": "overlay",
              "size": 10,
              "solidity": 0.2
             }
            },
            "type": "barpolar"
           }
          ],
          "carpet": [
           {
            "aaxis": {
             "endlinecolor": "#2a3f5f",
             "gridcolor": "white",
             "linecolor": "white",
             "minorgridcolor": "white",
             "startlinecolor": "#2a3f5f"
            },
            "baxis": {
             "endlinecolor": "#2a3f5f",
             "gridcolor": "white",
             "linecolor": "white",
             "minorgridcolor": "white",
             "startlinecolor": "#2a3f5f"
            },
            "type": "carpet"
           }
          ],
          "choropleth": [
           {
            "colorbar": {
             "outlinewidth": 0,
             "ticks": ""
            },
            "type": "choropleth"
           }
          ],
          "contour": [
           {
            "colorbar": {
             "outlinewidth": 0,
             "ticks": ""
            },
            "colorscale": [
             [
              0,
              "#0d0887"
             ],
             [
              0.1111111111111111,
              "#46039f"
             ],
             [
              0.2222222222222222,
              "#7201a8"
             ],
             [
              0.3333333333333333,
              "#9c179e"
             ],
             [
              0.4444444444444444,
              "#bd3786"
             ],
             [
              0.5555555555555556,
              "#d8576b"
             ],
             [
              0.6666666666666666,
              "#ed7953"
             ],
             [
              0.7777777777777778,
              "#fb9f3a"
             ],
             [
              0.8888888888888888,
              "#fdca26"
             ],
             [
              1,
              "#f0f921"
             ]
            ],
            "type": "contour"
           }
          ],
          "contourcarpet": [
           {
            "colorbar": {
             "outlinewidth": 0,
             "ticks": ""
            },
            "type": "contourcarpet"
           }
          ],
          "heatmap": [
           {
            "colorbar": {
             "outlinewidth": 0,
             "ticks": ""
            },
            "colorscale": [
             [
              0,
              "#0d0887"
             ],
             [
              0.1111111111111111,
              "#46039f"
             ],
             [
              0.2222222222222222,
              "#7201a8"
             ],
             [
              0.3333333333333333,
              "#9c179e"
             ],
             [
              0.4444444444444444,
              "#bd3786"
             ],
             [
              0.5555555555555556,
              "#d8576b"
             ],
             [
              0.6666666666666666,
              "#ed7953"
             ],
             [
              0.7777777777777778,
              "#fb9f3a"
             ],
             [
              0.8888888888888888,
              "#fdca26"
             ],
             [
              1,
              "#f0f921"
             ]
            ],
            "type": "heatmap"
           }
          ],
          "histogram": [
           {
            "marker": {
             "pattern": {
              "fillmode": "overlay",
              "size": 10,
              "solidity": 0.2
             }
            },
            "type": "histogram"
           }
          ],
          "histogram2d": [
           {
            "colorbar": {
             "outlinewidth": 0,
             "ticks": ""
            },
            "colorscale": [
             [
              0,
              "#0d0887"
             ],
             [
              0.1111111111111111,
              "#46039f"
             ],
             [
              0.2222222222222222,
              "#7201a8"
             ],
             [
              0.3333333333333333,
              "#9c179e"
             ],
             [
              0.4444444444444444,
              "#bd3786"
             ],
             [
              0.5555555555555556,
              "#d8576b"
             ],
             [
              0.6666666666666666,
              "#ed7953"
             ],
             [
              0.7777777777777778,
              "#fb9f3a"
             ],
             [
              0.8888888888888888,
              "#fdca26"
             ],
             [
              1,
              "#f0f921"
             ]
            ],
            "type": "histogram2d"
           }
          ],
          "histogram2dcontour": [
           {
            "colorbar": {
             "outlinewidth": 0,
             "ticks": ""
            },
            "colorscale": [
             [
              0,
              "#0d0887"
             ],
             [
              0.1111111111111111,
              "#46039f"
             ],
             [
              0.2222222222222222,
              "#7201a8"
             ],
             [
              0.3333333333333333,
              "#9c179e"
             ],
             [
              0.4444444444444444,
              "#bd3786"
             ],
             [
              0.5555555555555556,
              "#d8576b"
             ],
             [
              0.6666666666666666,
              "#ed7953"
             ],
             [
              0.7777777777777778,
              "#fb9f3a"
             ],
             [
              0.8888888888888888,
              "#fdca26"
             ],
             [
              1,
              "#f0f921"
             ]
            ],
            "type": "histogram2dcontour"
           }
          ],
          "mesh3d": [
           {
            "colorbar": {
             "outlinewidth": 0,
             "ticks": ""
            },
            "type": "mesh3d"
           }
          ],
          "parcoords": [
           {
            "line": {
             "colorbar": {
              "outlinewidth": 0,
              "ticks": ""
             }
            },
            "type": "parcoords"
           }
          ],
          "pie": [
           {
            "automargin": true,
            "type": "pie"
           }
          ],
          "scatter": [
           {
            "fillpattern": {
             "fillmode": "overlay",
             "size": 10,
             "solidity": 0.2
            },
            "type": "scatter"
           }
          ],
          "scatter3d": [
           {
            "line": {
             "colorbar": {
              "outlinewidth": 0,
              "ticks": ""
             }
            },
            "marker": {
             "colorbar": {
              "outlinewidth": 0,
              "ticks": ""
             }
            },
            "type": "scatter3d"
           }
          ],
          "scattercarpet": [
           {
            "marker": {
             "colorbar": {
              "outlinewidth": 0,
              "ticks": ""
             }
            },
            "type": "scattercarpet"
           }
          ],
          "scattergeo": [
           {
            "marker": {
             "colorbar": {
              "outlinewidth": 0,
              "ticks": ""
             }
            },
            "type": "scattergeo"
           }
          ],
          "scattergl": [
           {
            "marker": {
             "colorbar": {
              "outlinewidth": 0,
              "ticks": ""
             }
            },
            "type": "scattergl"
           }
          ],
          "scattermap": [
           {
            "marker": {
             "colorbar": {
              "outlinewidth": 0,
              "ticks": ""
             }
            },
            "type": "scattermap"
           }
          ],
          "scattermapbox": [
           {
            "marker": {
             "colorbar": {
              "outlinewidth": 0,
              "ticks": ""
             }
            },
            "type": "scattermapbox"
           }
          ],
          "scatterpolar": [
           {
            "marker": {
             "colorbar": {
              "outlinewidth": 0,
              "ticks": ""
             }
            },
            "type": "scatterpolar"
           }
          ],
          "scatterpolargl": [
           {
            "marker": {
             "colorbar": {
              "outlinewidth": 0,
              "ticks": ""
             }
            },
            "type": "scatterpolargl"
           }
          ],
          "scatterternary": [
           {
            "marker": {
             "colorbar": {
              "outlinewidth": 0,
              "ticks": ""
             }
            },
            "type": "scatterternary"
           }
          ],
          "surface": [
           {
            "colorbar": {
             "outlinewidth": 0,
             "ticks": ""
            },
            "colorscale": [
             [
              0,
              "#0d0887"
             ],
             [
              0.1111111111111111,
              "#46039f"
             ],
             [
              0.2222222222222222,
              "#7201a8"
             ],
             [
              0.3333333333333333,
              "#9c179e"
             ],
             [
              0.4444444444444444,
              "#bd3786"
             ],
             [
              0.5555555555555556,
              "#d8576b"
             ],
             [
              0.6666666666666666,
              "#ed7953"
             ],
             [
              0.7777777777777778,
              "#fb9f3a"
             ],
             [
              0.8888888888888888,
              "#fdca26"
             ],
             [
              1,
              "#f0f921"
             ]
            ],
            "type": "surface"
           }
          ],
          "table": [
           {
            "cells": {
             "fill": {
              "color": "#EBF0F8"
             },
             "line": {
              "color": "white"
             }
            },
            "header": {
             "fill": {
              "color": "#C8D4E3"
             },
             "line": {
              "color": "white"
             }
            },
            "type": "table"
           }
          ]
         },
         "layout": {
          "annotationdefaults": {
           "arrowcolor": "#2a3f5f",
           "arrowhead": 0,
           "arrowwidth": 1
          },
          "autotypenumbers": "strict",
          "coloraxis": {
           "colorbar": {
            "outlinewidth": 0,
            "ticks": ""
           }
          },
          "colorscale": {
           "diverging": [
            [
             0,
             "#8e0152"
            ],
            [
             0.1,
             "#c51b7d"
            ],
            [
             0.2,
             "#de77ae"
            ],
            [
             0.3,
             "#f1b6da"
            ],
            [
             0.4,
             "#fde0ef"
            ],
            [
             0.5,
             "#f7f7f7"
            ],
            [
             0.6,
             "#e6f5d0"
            ],
            [
             0.7,
             "#b8e186"
            ],
            [
             0.8,
             "#7fbc41"
            ],
            [
             0.9,
             "#4d9221"
            ],
            [
             1,
             "#276419"
            ]
           ],
           "sequential": [
            [
             0,
             "#0d0887"
            ],
            [
             0.1111111111111111,
             "#46039f"
            ],
            [
             0.2222222222222222,
             "#7201a8"
            ],
            [
             0.3333333333333333,
             "#9c179e"
            ],
            [
             0.4444444444444444,
             "#bd3786"
            ],
            [
             0.5555555555555556,
             "#d8576b"
            ],
            [
             0.6666666666666666,
             "#ed7953"
            ],
            [
             0.7777777777777778,
             "#fb9f3a"
            ],
            [
             0.8888888888888888,
             "#fdca26"
            ],
            [
             1,
             "#f0f921"
            ]
           ],
           "sequentialminus": [
            [
             0,
             "#0d0887"
            ],
            [
             0.1111111111111111,
             "#46039f"
            ],
            [
             0.2222222222222222,
             "#7201a8"
            ],
            [
             0.3333333333333333,
             "#9c179e"
            ],
            [
             0.4444444444444444,
             "#bd3786"
            ],
            [
             0.5555555555555556,
             "#d8576b"
            ],
            [
             0.6666666666666666,
             "#ed7953"
            ],
            [
             0.7777777777777778,
             "#fb9f3a"
            ],
            [
             0.8888888888888888,
             "#fdca26"
            ],
            [
             1,
             "#f0f921"
            ]
           ]
          },
          "colorway": [
           "#636efa",
           "#EF553B",
           "#00cc96",
           "#ab63fa",
           "#FFA15A",
           "#19d3f3",
           "#FF6692",
           "#B6E880",
           "#FF97FF",
           "#FECB52"
          ],
          "font": {
           "color": "#2a3f5f"
          },
          "geo": {
           "bgcolor": "white",
           "lakecolor": "white",
           "landcolor": "#E5ECF6",
           "showlakes": true,
           "showland": true,
           "subunitcolor": "white"
          },
          "hoverlabel": {
           "align": "left"
          },
          "hovermode": "closest",
          "mapbox": {
           "style": "light"
          },
          "paper_bgcolor": "white",
          "plot_bgcolor": "#E5ECF6",
          "polar": {
           "angularaxis": {
            "gridcolor": "white",
            "linecolor": "white",
            "ticks": ""
           },
           "bgcolor": "#E5ECF6",
           "radialaxis": {
            "gridcolor": "white",
            "linecolor": "white",
            "ticks": ""
           }
          },
          "scene": {
           "xaxis": {
            "backgroundcolor": "#E5ECF6",
            "gridcolor": "white",
            "gridwidth": 2,
            "linecolor": "white",
            "showbackground": true,
            "ticks": "",
            "zerolinecolor": "white"
           },
           "yaxis": {
            "backgroundcolor": "#E5ECF6",
            "gridcolor": "white",
            "gridwidth": 2,
            "linecolor": "white",
            "showbackground": true,
            "ticks": "",
            "zerolinecolor": "white"
           },
           "zaxis": {
            "backgroundcolor": "#E5ECF6",
            "gridcolor": "white",
            "gridwidth": 2,
            "linecolor": "white",
            "showbackground": true,
            "ticks": "",
            "zerolinecolor": "white"
           }
          },
          "shapedefaults": {
           "line": {
            "color": "#2a3f5f"
           }
          },
          "ternary": {
           "aaxis": {
            "gridcolor": "white",
            "linecolor": "white",
            "ticks": ""
           },
           "baxis": {
            "gridcolor": "white",
            "linecolor": "white",
            "ticks": ""
           },
           "bgcolor": "#E5ECF6",
           "caxis": {
            "gridcolor": "white",
            "linecolor": "white",
            "ticks": ""
           }
          },
          "title": {
           "x": 0.05
          },
          "xaxis": {
           "automargin": true,
           "gridcolor": "white",
           "linecolor": "white",
           "ticks": "",
           "title": {
            "standoff": 15
           },
           "zerolinecolor": "white",
           "zerolinewidth": 2
          },
          "yaxis": {
           "automargin": true,
           "gridcolor": "white",
           "linecolor": "white",
           "ticks": "",
           "title": {
            "standoff": 15
           },
           "zerolinecolor": "white",
           "zerolinewidth": 2
          }
         }
        },
        "title": {
         "text": "Total Reserves Over the Years"
        },
        "xaxis": {
         "anchor": "y",
         "domain": [
          0,
          0.49
         ],
         "title": {
          "text": "Date"
         }
        },
        "xaxis2": {
         "anchor": "y2",
         "domain": [
          0.51,
          1
         ],
         "matches": "x",
         "title": {
          "text": "Date"
         }
        },
        "xaxis3": {
         "anchor": "y3",
         "domain": [
          0,
          0.49
         ],
         "matches": "x",
         "showticklabels": false,
         "title": {
          "text": "Date"
         }
        },
        "xaxis4": {
         "anchor": "y4",
         "domain": [
          0.51,
          1
         ],
         "matches": "x",
         "showticklabels": false,
         "title": {
          "text": "Date"
         }
        },
        "xaxis5": {
         "anchor": "y5",
         "domain": [
          0,
          0.49
         ],
         "matches": "x",
         "showticklabels": false,
         "title": {
          "text": "Date"
         }
        },
        "xaxis6": {
         "anchor": "y6",
         "domain": [
          0.51,
          1
         ],
         "matches": "x",
         "showticklabels": false,
         "title": {
          "text": "Date"
         }
        },
        "yaxis": {
         "anchor": "x",
         "domain": [
          0,
          0.19999999999999998
         ],
         "title": {},
         "type": "log"
        },
        "yaxis2": {
         "anchor": "x2",
         "domain": [
          0,
          0.19999999999999998
         ],
         "matches": "y",
         "showticklabels": false,
         "type": "log"
        },
        "yaxis3": {
         "anchor": "x3",
         "domain": [
          0.4,
          0.6
         ],
         "matches": "y",
         "title": {},
         "type": "log"
        },
        "yaxis4": {
         "anchor": "x4",
         "domain": [
          0.4,
          0.6
         ],
         "matches": "y",
         "showticklabels": false,
         "type": "log"
        },
        "yaxis5": {
         "anchor": "x5",
         "domain": [
          0.8,
          1
         ],
         "matches": "y",
         "title": {},
         "type": "log"
        },
        "yaxis6": {
         "anchor": "x6",
         "domain": [
          0.8,
          1
         ],
         "matches": "y",
         "showticklabels": false,
         "type": "log"
        }
       }
      }
     },
     "metadata": {},
     "output_type": "display_data"
    }
   ],
   "source": [
    "reserves_over_time = combined \\\n",
    "        .groupby([\"Reserves & Resources As Of Date\", \"Primary Mineral\"], as_index = False)[\"Primary Reserves and Resources\"] \\\n",
    "        .agg(\"sum\")\n",
    "\n",
    "\n",
    "fig = px.line(reserves_over_time, x=\"Reserves & Resources As Of Date\", facet_col = \"Primary Mineral\",\n",
    "        y=\"Primary Reserves and Resources\", log_y = True, facet_col_wrap=2, facet_row_spacing=0.2)\n",
    "\n",
    "fig.update_xaxes(title_text=\"Date\")\n",
    "fig.update_layout(title = \"Total Reserves Over the Years\")\n",
    "fig.update_yaxes(title_text=None)\n",
    "fig.show()"
   ]
  },
  {
   "cell_type": "code",
   "execution_count": 74,
   "id": "50762ba3",
   "metadata": {},
   "outputs": [],
   "source": [
    "D = combined[[\"Year\",\"Primary Mineral\", \"Primary Reserves and Resources\", 'Reserves & Resources As Of Date']]\n",
    "\n",
    "# D = D.groupby([\"Year\",\"Primary Mineral\"], as_index=False).agg(\"sum\")\n",
    "\n",
    "\n",
    "# Generate a complete set of Year-Mineral combinations\n",
    "# all_years = D[\"Year\"].unique()\n",
    "# all_minerals = D[\"Primary Mineral\"].unique()\n",
    "# complete_index = pd.MultiIndex.from_product([all_years, all_minerals], names=[\"Year\", \"Primary Mineral\"])\n",
    "\n",
    "# # Reindex the DataFrame to include all combinations, filling missing values with 0\n",
    "# D = D.set_index([\"Year\", \"Primary Mineral\"]).reindex(complete_index, fill_value=0).reset_index()\n",
    "\n",
    "# D[\"Cumulative Reserves\"] = D.groupby([\"Primary Mineral\"], as_index=False)[\"Primary Reserves and Resources\"].agg(\"cumsum\")\n",
    "\n"
   ]
  },
  {
   "cell_type": "code",
   "execution_count": null,
   "id": "441c090e",
   "metadata": {},
   "outputs": [
    {
     "data": {
      "text/plain": [
       "58     2010-11\n",
       "59     2010-04\n",
       "60     2010-02\n",
       "61     2010-02\n",
       "62     2010-06\n",
       "        ...   \n",
       "656    2025-02\n",
       "657    2025-03\n",
       "658    2025-01\n",
       "659    2025-01\n",
       "660    2025-02\n",
       "Name: Reserves & Resources As Of Date, Length: 603, dtype: period[M]"
      ]
     },
     "execution_count": 53,
     "metadata": {},
     "output_type": "execute_result"
    }
   ],
   "source": []
  },
  {
   "cell_type": "code",
   "execution_count": 75,
   "id": "441947a6",
   "metadata": {},
   "outputs": [
    {
     "name": "stderr",
     "output_type": "stream",
     "text": [
      "/var/folders/n3/kkhdszw97tl8hc30cbvg04140000gn/T/ipykernel_72339/666272122.py:2: SettingWithCopyWarning:\n",
      "\n",
      "\n",
      "A value is trying to be set on a copy of a slice from a DataFrame.\n",
      "Try using .loc[row_indexer,col_indexer] = value instead\n",
      "\n",
      "See the caveats in the documentation: https://pandas.pydata.org/pandas-docs/stable/user_guide/indexing.html#returning-a-view-versus-a-copy\n",
      "\n"
     ]
    }
   ],
   "source": [
    "x = D[\"Reserves & Resources As Of Date\"].dt.to_period('M')\n",
    "D.loc[:,'Month'] = x\n",
    "D = D.groupby([\"Month\", \"Primary Mineral\"], as_index=False)[\"Primary Reserves and Resources\"].agg(\"sum\")\n",
    "\n",
    "\n",
    "\n",
    "# Generate a complete set of Year-Mineral combinations\n",
    "all_years = D[\"Month\"].unique()\n",
    "all_minerals = D[\"Primary Mineral\"].unique()\n",
    "complete_index = pd.MultiIndex.from_product([all_years, all_minerals], names=[\"Month\", \"Primary Mineral\"])\n",
    "\n",
    "# Reindex the DataFrame to include all combinations, filling missing values with 0\n",
    "D = D.set_index([\"Month\", \"Primary Mineral\"]).reindex(complete_index, fill_value=0).reset_index()\n",
    "\n",
    "D[\"Cumulative Reserves\"] = D.groupby([\"Primary Mineral\"], as_index=False)[\"Primary Reserves and Resources\"].agg(\"cumsum\")"
   ]
  },
  {
   "cell_type": "code",
   "execution_count": 77,
   "id": "48ef608e",
   "metadata": {},
   "outputs": [],
   "source": [
    "# Extend to Future Years\n",
    "for yr in range(2025, 2030+1):\n",
    "    latest = D[D[\"Month\"]==f\"{yr}-12\"]\n",
    "    latest.loc[:,\"Month\"] = yr\n",
    "    \n",
    "    D = pd.concat([D, latest], axis=0)\n",
    "\n",
    "    "
   ]
  },
  {
   "cell_type": "code",
   "execution_count": 78,
   "id": "13602e8e",
   "metadata": {},
   "outputs": [],
   "source": [
    "\n",
    "demand_by_cathode = pd.read_excel(os.path.join(data_directory, \"Capacity.xlsx\"), sheet_name=\"Demand by Cathode\")\n",
    "demand_by_cathode = demand_by_cathode[demand_by_cathode.Element != \"O\"]\n",
    "\n",
    "demand_by_cathode = demand_by_cathode[~((demand_by_cathode.Element == \"Li\") & (demand_by_cathode[\"+\"] == False))]\n",
    "demand_by_cathode.drop([\"Element\", \"+\"], axis=1, inplace=True)\n",
    "\n",
    "demand_by_cathode = demand_by_cathode.iloc[:,:-5] # Last 5 are redundant\n"
   ]
  },
  {
   "cell_type": "code",
   "execution_count": 79,
   "id": "f91369a6",
   "metadata": {},
   "outputs": [
    {
     "data": {
      "application/vnd.microsoft.datawrangler.viewer.v0+json": {
       "columns": [
        {
         "name": "index",
         "rawType": "int64",
         "type": "integer"
        },
        {
         "name": "Year",
         "rawType": "int64",
         "type": "integer"
        },
        {
         "name": "Full Element Name",
         "rawType": "object",
         "type": "string"
        },
        {
         "name": "Cathode",
         "rawType": "object",
         "type": "string"
        },
        {
         "name": "demand",
         "rawType": "float64",
         "type": "float"
        }
       ],
       "conversionMethod": "pd.DataFrame",
       "ref": "43ff8ca4-c866-4622-abe2-02aa199530dd",
       "rows": [
        [
         "4",
         "2011",
         "Nickel",
         "NMC622",
         "9943.437896102037"
        ],
        [
         "5",
         "2011",
         "Manganese",
         "NMC622",
         "3102.428972995382"
        ],
        [
         "6",
         "2011",
         "Cobalt",
         "NMC622",
         "3328.032448679181"
        ],
        [
         "7",
         "2011",
         "Lithium",
         "NMC622",
         "2744.596607768394"
        ],
        [
         "88",
         "2011",
         "Nickel",
         "NMC811",
         "13257.91719480272"
        ],
        [
         "89",
         "2011",
         "Manganese",
         "NMC811",
         "1551.214486497691"
        ],
        [
         "90",
         "2011",
         "Cobalt",
         "NMC811",
         "1664.016224339591"
        ],
        [
         "91",
         "2011",
         "Lithium",
         "NMC811",
         "2747.442943677328"
        ],
        [
         "172",
         "2011",
         "Nickel",
         "NMC532",
         "8286.1982467517"
        ],
        [
         "173",
         "2011",
         "Manganese",
         "NMC532",
         "4653.643459493072"
        ],
        [
         "174",
         "2011",
         "Cobalt",
         "NMC532",
         "3328.032448679181"
        ],
        [
         "175",
         "2011",
         "Lithium",
         "NMC532",
         "2741.555927444625"
        ],
        [
         "256",
         "2011",
         "Nickel",
         "NMC111",
         "16572.39649350341"
        ],
        [
         "257",
         "2011",
         "Manganese",
         "NMC111",
         "15512.14486497691"
        ],
        [
         "258",
         "2011",
         "Cobalt",
         "NMC111",
         "16640.16224339591"
        ],
        [
         "259",
         "2011",
         "Lithium",
         "NMC111",
         "3672.380648821737"
        ],
        [
         "343",
         "2011",
         "Lithium",
         "LiFePO4",
         "3522.979570753374"
        ],
        [
         "426",
         "2011",
         "Cobalt",
         "LiCoO2",
         "16202.26323699075"
        ],
        [
         "427",
         "2011",
         "Lithium",
         "LiCoO2",
         "2679.931700186311"
        ],
        [
         "510",
         "2011",
         "Cobalt",
         "LiCo2O4",
         "30784.30015028242"
        ],
        [
         "511",
         "2011",
         "Lithium",
         "LiCo2O4",
         "3227.070788542654"
        ],
        [
         "595",
         "2011",
         "Lithium",
         "LiTiS2",
         "5692.088358430407"
        ],
        [
         "677",
         "2011",
         "Manganese",
         "LiMn2O4",
         "27997.5297562998"
        ],
        [
         "679",
         "2011",
         "Lithium",
         "LiMn2O4",
         "3089.936955209957"
        ],
        [
         "761",
         "2011",
         "Manganese",
         "LiMnO2",
         "17392.40484861048"
        ],
        [
         "763",
         "2011",
         "Lithium",
         "LiMnO2",
         "3049.937448831863"
        ],
        [
         "844",
         "2011",
         "Nickel",
         "LiNiO2",
         "17032.74084054516"
        ],
        [
         "847",
         "2011",
         "Lithium",
         "LiNiO2",
         "2826.819365933083"
        ],
        [
         "928",
         "2011",
         "Nickel",
         "LiNiCoAlO2(0.8:0.15:0.05)",
         "16136.28079630594"
        ],
        [
         "930",
         "2011",
         "Cobalt",
         "LiNiCoAlO2(0.8:0.15:0.05)",
         "16202.26323699075"
        ],
        [
         "931",
         "2011",
         "Lithium",
         "LiNiCoAlO2(0.8:0.15:0.05)",
         "2665.695684118787"
        ]
       ],
       "shape": {
        "columns": 4,
        "rows": 31
       }
      },
      "text/html": [
       "<div>\n",
       "<style scoped>\n",
       "    .dataframe tbody tr th:only-of-type {\n",
       "        vertical-align: middle;\n",
       "    }\n",
       "\n",
       "    .dataframe tbody tr th {\n",
       "        vertical-align: top;\n",
       "    }\n",
       "\n",
       "    .dataframe thead th {\n",
       "        text-align: right;\n",
       "    }\n",
       "</style>\n",
       "<table border=\"1\" class=\"dataframe\">\n",
       "  <thead>\n",
       "    <tr style=\"text-align: right;\">\n",
       "      <th></th>\n",
       "      <th>Year</th>\n",
       "      <th>Full Element Name</th>\n",
       "      <th>Cathode</th>\n",
       "      <th>demand</th>\n",
       "    </tr>\n",
       "  </thead>\n",
       "  <tbody>\n",
       "    <tr>\n",
       "      <th>4</th>\n",
       "      <td>2011</td>\n",
       "      <td>Nickel</td>\n",
       "      <td>NMC622</td>\n",
       "      <td>9943.437896</td>\n",
       "    </tr>\n",
       "    <tr>\n",
       "      <th>5</th>\n",
       "      <td>2011</td>\n",
       "      <td>Manganese</td>\n",
       "      <td>NMC622</td>\n",
       "      <td>3102.428973</td>\n",
       "    </tr>\n",
       "    <tr>\n",
       "      <th>6</th>\n",
       "      <td>2011</td>\n",
       "      <td>Cobalt</td>\n",
       "      <td>NMC622</td>\n",
       "      <td>3328.032449</td>\n",
       "    </tr>\n",
       "    <tr>\n",
       "      <th>7</th>\n",
       "      <td>2011</td>\n",
       "      <td>Lithium</td>\n",
       "      <td>NMC622</td>\n",
       "      <td>2744.596608</td>\n",
       "    </tr>\n",
       "    <tr>\n",
       "      <th>88</th>\n",
       "      <td>2011</td>\n",
       "      <td>Nickel</td>\n",
       "      <td>NMC811</td>\n",
       "      <td>13257.917195</td>\n",
       "    </tr>\n",
       "    <tr>\n",
       "      <th>89</th>\n",
       "      <td>2011</td>\n",
       "      <td>Manganese</td>\n",
       "      <td>NMC811</td>\n",
       "      <td>1551.214486</td>\n",
       "    </tr>\n",
       "    <tr>\n",
       "      <th>90</th>\n",
       "      <td>2011</td>\n",
       "      <td>Cobalt</td>\n",
       "      <td>NMC811</td>\n",
       "      <td>1664.016224</td>\n",
       "    </tr>\n",
       "    <tr>\n",
       "      <th>91</th>\n",
       "      <td>2011</td>\n",
       "      <td>Lithium</td>\n",
       "      <td>NMC811</td>\n",
       "      <td>2747.442944</td>\n",
       "    </tr>\n",
       "    <tr>\n",
       "      <th>172</th>\n",
       "      <td>2011</td>\n",
       "      <td>Nickel</td>\n",
       "      <td>NMC532</td>\n",
       "      <td>8286.198247</td>\n",
       "    </tr>\n",
       "    <tr>\n",
       "      <th>173</th>\n",
       "      <td>2011</td>\n",
       "      <td>Manganese</td>\n",
       "      <td>NMC532</td>\n",
       "      <td>4653.643459</td>\n",
       "    </tr>\n",
       "    <tr>\n",
       "      <th>174</th>\n",
       "      <td>2011</td>\n",
       "      <td>Cobalt</td>\n",
       "      <td>NMC532</td>\n",
       "      <td>3328.032449</td>\n",
       "    </tr>\n",
       "    <tr>\n",
       "      <th>175</th>\n",
       "      <td>2011</td>\n",
       "      <td>Lithium</td>\n",
       "      <td>NMC532</td>\n",
       "      <td>2741.555927</td>\n",
       "    </tr>\n",
       "    <tr>\n",
       "      <th>256</th>\n",
       "      <td>2011</td>\n",
       "      <td>Nickel</td>\n",
       "      <td>NMC111</td>\n",
       "      <td>16572.396494</td>\n",
       "    </tr>\n",
       "    <tr>\n",
       "      <th>257</th>\n",
       "      <td>2011</td>\n",
       "      <td>Manganese</td>\n",
       "      <td>NMC111</td>\n",
       "      <td>15512.144865</td>\n",
       "    </tr>\n",
       "    <tr>\n",
       "      <th>258</th>\n",
       "      <td>2011</td>\n",
       "      <td>Cobalt</td>\n",
       "      <td>NMC111</td>\n",
       "      <td>16640.162243</td>\n",
       "    </tr>\n",
       "    <tr>\n",
       "      <th>259</th>\n",
       "      <td>2011</td>\n",
       "      <td>Lithium</td>\n",
       "      <td>NMC111</td>\n",
       "      <td>3672.380649</td>\n",
       "    </tr>\n",
       "    <tr>\n",
       "      <th>343</th>\n",
       "      <td>2011</td>\n",
       "      <td>Lithium</td>\n",
       "      <td>LiFePO4</td>\n",
       "      <td>3522.979571</td>\n",
       "    </tr>\n",
       "    <tr>\n",
       "      <th>426</th>\n",
       "      <td>2011</td>\n",
       "      <td>Cobalt</td>\n",
       "      <td>LiCoO2</td>\n",
       "      <td>16202.263237</td>\n",
       "    </tr>\n",
       "    <tr>\n",
       "      <th>427</th>\n",
       "      <td>2011</td>\n",
       "      <td>Lithium</td>\n",
       "      <td>LiCoO2</td>\n",
       "      <td>2679.931700</td>\n",
       "    </tr>\n",
       "    <tr>\n",
       "      <th>510</th>\n",
       "      <td>2011</td>\n",
       "      <td>Cobalt</td>\n",
       "      <td>LiCo2O4</td>\n",
       "      <td>30784.300150</td>\n",
       "    </tr>\n",
       "    <tr>\n",
       "      <th>511</th>\n",
       "      <td>2011</td>\n",
       "      <td>Lithium</td>\n",
       "      <td>LiCo2O4</td>\n",
       "      <td>3227.070789</td>\n",
       "    </tr>\n",
       "    <tr>\n",
       "      <th>595</th>\n",
       "      <td>2011</td>\n",
       "      <td>Lithium</td>\n",
       "      <td>LiTiS2</td>\n",
       "      <td>5692.088358</td>\n",
       "    </tr>\n",
       "    <tr>\n",
       "      <th>677</th>\n",
       "      <td>2011</td>\n",
       "      <td>Manganese</td>\n",
       "      <td>LiMn2O4</td>\n",
       "      <td>27997.529756</td>\n",
       "    </tr>\n",
       "    <tr>\n",
       "      <th>679</th>\n",
       "      <td>2011</td>\n",
       "      <td>Lithium</td>\n",
       "      <td>LiMn2O4</td>\n",
       "      <td>3089.936955</td>\n",
       "    </tr>\n",
       "    <tr>\n",
       "      <th>761</th>\n",
       "      <td>2011</td>\n",
       "      <td>Manganese</td>\n",
       "      <td>LiMnO2</td>\n",
       "      <td>17392.404849</td>\n",
       "    </tr>\n",
       "    <tr>\n",
       "      <th>763</th>\n",
       "      <td>2011</td>\n",
       "      <td>Lithium</td>\n",
       "      <td>LiMnO2</td>\n",
       "      <td>3049.937449</td>\n",
       "    </tr>\n",
       "    <tr>\n",
       "      <th>844</th>\n",
       "      <td>2011</td>\n",
       "      <td>Nickel</td>\n",
       "      <td>LiNiO2</td>\n",
       "      <td>17032.740841</td>\n",
       "    </tr>\n",
       "    <tr>\n",
       "      <th>847</th>\n",
       "      <td>2011</td>\n",
       "      <td>Lithium</td>\n",
       "      <td>LiNiO2</td>\n",
       "      <td>2826.819366</td>\n",
       "    </tr>\n",
       "    <tr>\n",
       "      <th>928</th>\n",
       "      <td>2011</td>\n",
       "      <td>Nickel</td>\n",
       "      <td>LiNiCoAlO2(0.8:0.15:0.05)</td>\n",
       "      <td>16136.280796</td>\n",
       "    </tr>\n",
       "    <tr>\n",
       "      <th>930</th>\n",
       "      <td>2011</td>\n",
       "      <td>Cobalt</td>\n",
       "      <td>LiNiCoAlO2(0.8:0.15:0.05)</td>\n",
       "      <td>16202.263237</td>\n",
       "    </tr>\n",
       "    <tr>\n",
       "      <th>931</th>\n",
       "      <td>2011</td>\n",
       "      <td>Lithium</td>\n",
       "      <td>LiNiCoAlO2(0.8:0.15:0.05)</td>\n",
       "      <td>2665.695684</td>\n",
       "    </tr>\n",
       "  </tbody>\n",
       "</table>\n",
       "</div>"
      ],
      "text/plain": [
       "     Year Full Element Name                    Cathode        demand\n",
       "4    2011            Nickel                     NMC622   9943.437896\n",
       "5    2011         Manganese                     NMC622   3102.428973\n",
       "6    2011            Cobalt                     NMC622   3328.032449\n",
       "7    2011           Lithium                     NMC622   2744.596608\n",
       "88   2011            Nickel                     NMC811  13257.917195\n",
       "89   2011         Manganese                     NMC811   1551.214486\n",
       "90   2011            Cobalt                     NMC811   1664.016224\n",
       "91   2011           Lithium                     NMC811   2747.442944\n",
       "172  2011            Nickel                     NMC532   8286.198247\n",
       "173  2011         Manganese                     NMC532   4653.643459\n",
       "174  2011            Cobalt                     NMC532   3328.032449\n",
       "175  2011           Lithium                     NMC532   2741.555927\n",
       "256  2011            Nickel                     NMC111  16572.396494\n",
       "257  2011         Manganese                     NMC111  15512.144865\n",
       "258  2011            Cobalt                     NMC111  16640.162243\n",
       "259  2011           Lithium                     NMC111   3672.380649\n",
       "343  2011           Lithium                    LiFePO4   3522.979571\n",
       "426  2011            Cobalt                     LiCoO2  16202.263237\n",
       "427  2011           Lithium                     LiCoO2   2679.931700\n",
       "510  2011            Cobalt                    LiCo2O4  30784.300150\n",
       "511  2011           Lithium                    LiCo2O4   3227.070789\n",
       "595  2011           Lithium                     LiTiS2   5692.088358\n",
       "677  2011         Manganese                    LiMn2O4  27997.529756\n",
       "679  2011           Lithium                    LiMn2O4   3089.936955\n",
       "761  2011         Manganese                     LiMnO2  17392.404849\n",
       "763  2011           Lithium                     LiMnO2   3049.937449\n",
       "844  2011            Nickel                     LiNiO2  17032.740841\n",
       "847  2011           Lithium                     LiNiO2   2826.819366\n",
       "928  2011            Nickel  LiNiCoAlO2(0.8:0.15:0.05)  16136.280796\n",
       "930  2011            Cobalt  LiNiCoAlO2(0.8:0.15:0.05)  16202.263237\n",
       "931  2011           Lithium  LiNiCoAlO2(0.8:0.15:0.05)   2665.695684"
      ]
     },
     "execution_count": 79,
     "metadata": {},
     "output_type": "execute_result"
    }
   ],
   "source": [
    "demand_l = demand_by_cathode.melt(id_vars=[\"Year\", \"Full Element Name\"], var_name=\"Cathode\", value_name=\"demand\").dropna()\n",
    "demand_l[(demand_l[\"Year\"] == 2011)]"
   ]
  },
  {
   "cell_type": "code",
   "execution_count": 82,
   "id": "9b9e6cd5",
   "metadata": {},
   "outputs": [],
   "source": [
    "S = demand_by_cathode[demand_by_cathode[\"Full Element Name\"] == mineral]"
   ]
  },
  {
   "cell_type": "code",
   "execution_count": 80,
   "id": "a5652a88",
   "metadata": {},
   "outputs": [
    {
     "ename": "KeyError",
     "evalue": "'Month'",
     "output_type": "error",
     "traceback": [
      "\u001b[31m---------------------------------------------------------------------------\u001b[39m",
      "\u001b[31mKeyError\u001b[39m                                  Traceback (most recent call last)",
      "\u001b[36mFile \u001b[39m\u001b[32m~/Documents/GitHub/CriticalMinerals/venv/lib/python3.12/site-packages/pandas/core/indexes/base.py:3805\u001b[39m, in \u001b[36mIndex.get_loc\u001b[39m\u001b[34m(self, key)\u001b[39m\n\u001b[32m   3804\u001b[39m \u001b[38;5;28;01mtry\u001b[39;00m:\n\u001b[32m-> \u001b[39m\u001b[32m3805\u001b[39m     \u001b[38;5;28;01mreturn\u001b[39;00m \u001b[38;5;28;43mself\u001b[39;49m\u001b[43m.\u001b[49m\u001b[43m_engine\u001b[49m\u001b[43m.\u001b[49m\u001b[43mget_loc\u001b[49m\u001b[43m(\u001b[49m\u001b[43mcasted_key\u001b[49m\u001b[43m)\u001b[49m\n\u001b[32m   3806\u001b[39m \u001b[38;5;28;01mexcept\u001b[39;00m \u001b[38;5;167;01mKeyError\u001b[39;00m \u001b[38;5;28;01mas\u001b[39;00m err:\n",
      "\u001b[36mFile \u001b[39m\u001b[32mindex.pyx:167\u001b[39m, in \u001b[36mpandas._libs.index.IndexEngine.get_loc\u001b[39m\u001b[34m()\u001b[39m\n",
      "\u001b[36mFile \u001b[39m\u001b[32mindex.pyx:196\u001b[39m, in \u001b[36mpandas._libs.index.IndexEngine.get_loc\u001b[39m\u001b[34m()\u001b[39m\n",
      "\u001b[36mFile \u001b[39m\u001b[32mpandas/_libs/hashtable_class_helper.pxi:7081\u001b[39m, in \u001b[36mpandas._libs.hashtable.PyObjectHashTable.get_item\u001b[39m\u001b[34m()\u001b[39m\n",
      "\u001b[36mFile \u001b[39m\u001b[32mpandas/_libs/hashtable_class_helper.pxi:7089\u001b[39m, in \u001b[36mpandas._libs.hashtable.PyObjectHashTable.get_item\u001b[39m\u001b[34m()\u001b[39m\n",
      "\u001b[31mKeyError\u001b[39m: 'Month'",
      "\nThe above exception was the direct cause of the following exception:\n",
      "\u001b[31mKeyError\u001b[39m                                  Traceback (most recent call last)",
      "\u001b[36mCell\u001b[39m\u001b[36m \u001b[39m\u001b[32mIn[80]\u001b[39m\u001b[32m, line 42\u001b[39m\n\u001b[32m     38\u001b[39m \u001b[38;5;66;03m# Add cathode traces grouped by cathode type\u001b[39;00m\n\u001b[32m     39\u001b[39m \u001b[38;5;28;01mfor\u001b[39;00m j,cathode \u001b[38;5;129;01min\u001b[39;00m \u001b[38;5;28menumerate\u001b[39m(S.columns[\u001b[32m2\u001b[39m:\u001b[32m6\u001b[39m]):\n\u001b[32m     40\u001b[39m     F.add_trace(\n\u001b[32m     41\u001b[39m         go.Scatter(\n\u001b[32m---> \u001b[39m\u001b[32m42\u001b[39m             x=\u001b[43mS\u001b[49m\u001b[43m[\u001b[49m\u001b[33;43m\"\u001b[39;49m\u001b[33;43mMonth\u001b[39;49m\u001b[33;43m\"\u001b[39;49m\u001b[43m]\u001b[49m, \n\u001b[32m     43\u001b[39m             y=S[cathode], \n\u001b[32m     44\u001b[39m             mode=\u001b[33m\"\u001b[39m\u001b[33mmarkers\u001b[39m\u001b[33m\"\u001b[39m,\n\u001b[32m     45\u001b[39m             legendgroup=cathode,  \u001b[38;5;66;03m# Group by cathode type instead of mineral\u001b[39;00m\n\u001b[32m     46\u001b[39m             name=cathode,\n\u001b[32m     47\u001b[39m             marker=\u001b[38;5;28mdict\u001b[39m(size=\u001b[32m10\u001b[39m,color=cathode_colors[cathode]),\n\u001b[32m     48\u001b[39m             \u001b[38;5;66;03m# Only show in legend for last mineral to avoid duplicates\u001b[39;00m\n\u001b[32m     49\u001b[39m             showlegend=(i == \u001b[32m0\u001b[39m),\n\u001b[32m     50\u001b[39m             legend=\u001b[33m\"\u001b[39m\u001b[33mlegend2\u001b[39m\u001b[33m\"\u001b[39m,\n\u001b[32m     51\u001b[39m         ),\n\u001b[32m     52\u001b[39m         row=i // \u001b[32m2\u001b[39m + \u001b[32m1\u001b[39m, \n\u001b[32m     53\u001b[39m         col=i % \u001b[32m2\u001b[39m + \u001b[32m1\u001b[39m)\n\u001b[32m     55\u001b[39m \u001b[38;5;66;03m# Add vertical line and annotation\u001b[39;00m\n\u001b[32m     56\u001b[39m F.add_vline(x=\u001b[32m2024\u001b[39m, line_dash=\u001b[33m\"\u001b[39m\u001b[33mdash\u001b[39m\u001b[33m\"\u001b[39m, line_color=\u001b[33m\"\u001b[39m\u001b[33mred\u001b[39m\u001b[33m\"\u001b[39m)\n",
      "\u001b[36mFile \u001b[39m\u001b[32m~/Documents/GitHub/CriticalMinerals/venv/lib/python3.12/site-packages/pandas/core/frame.py:4102\u001b[39m, in \u001b[36mDataFrame.__getitem__\u001b[39m\u001b[34m(self, key)\u001b[39m\n\u001b[32m   4100\u001b[39m \u001b[38;5;28;01mif\u001b[39;00m \u001b[38;5;28mself\u001b[39m.columns.nlevels > \u001b[32m1\u001b[39m:\n\u001b[32m   4101\u001b[39m     \u001b[38;5;28;01mreturn\u001b[39;00m \u001b[38;5;28mself\u001b[39m._getitem_multilevel(key)\n\u001b[32m-> \u001b[39m\u001b[32m4102\u001b[39m indexer = \u001b[38;5;28;43mself\u001b[39;49m\u001b[43m.\u001b[49m\u001b[43mcolumns\u001b[49m\u001b[43m.\u001b[49m\u001b[43mget_loc\u001b[49m\u001b[43m(\u001b[49m\u001b[43mkey\u001b[49m\u001b[43m)\u001b[49m\n\u001b[32m   4103\u001b[39m \u001b[38;5;28;01mif\u001b[39;00m is_integer(indexer):\n\u001b[32m   4104\u001b[39m     indexer = [indexer]\n",
      "\u001b[36mFile \u001b[39m\u001b[32m~/Documents/GitHub/CriticalMinerals/venv/lib/python3.12/site-packages/pandas/core/indexes/base.py:3812\u001b[39m, in \u001b[36mIndex.get_loc\u001b[39m\u001b[34m(self, key)\u001b[39m\n\u001b[32m   3807\u001b[39m     \u001b[38;5;28;01mif\u001b[39;00m \u001b[38;5;28misinstance\u001b[39m(casted_key, \u001b[38;5;28mslice\u001b[39m) \u001b[38;5;129;01mor\u001b[39;00m (\n\u001b[32m   3808\u001b[39m         \u001b[38;5;28misinstance\u001b[39m(casted_key, abc.Iterable)\n\u001b[32m   3809\u001b[39m         \u001b[38;5;129;01mand\u001b[39;00m \u001b[38;5;28many\u001b[39m(\u001b[38;5;28misinstance\u001b[39m(x, \u001b[38;5;28mslice\u001b[39m) \u001b[38;5;28;01mfor\u001b[39;00m x \u001b[38;5;129;01min\u001b[39;00m casted_key)\n\u001b[32m   3810\u001b[39m     ):\n\u001b[32m   3811\u001b[39m         \u001b[38;5;28;01mraise\u001b[39;00m InvalidIndexError(key)\n\u001b[32m-> \u001b[39m\u001b[32m3812\u001b[39m     \u001b[38;5;28;01mraise\u001b[39;00m \u001b[38;5;167;01mKeyError\u001b[39;00m(key) \u001b[38;5;28;01mfrom\u001b[39;00m\u001b[38;5;250m \u001b[39m\u001b[34;01merr\u001b[39;00m\n\u001b[32m   3813\u001b[39m \u001b[38;5;28;01mexcept\u001b[39;00m \u001b[38;5;167;01mTypeError\u001b[39;00m:\n\u001b[32m   3814\u001b[39m     \u001b[38;5;66;03m# If we have a listlike key, _check_indexing_error will raise\u001b[39;00m\n\u001b[32m   3815\u001b[39m     \u001b[38;5;66;03m#  InvalidIndexError. Otherwise we fall through and re-raise\u001b[39;00m\n\u001b[32m   3816\u001b[39m     \u001b[38;5;66;03m#  the TypeError.\u001b[39;00m\n\u001b[32m   3817\u001b[39m     \u001b[38;5;28mself\u001b[39m._check_indexing_error(key)\n",
      "\u001b[31mKeyError\u001b[39m: 'Month'"
     ]
    }
   ],
   "source": [
    "from plotly.subplots import make_subplots\n",
    "import plotly.graph_objects as go\n",
    "\n",
    "groups = D[\"Primary Mineral\"].unique()\n",
    "\n",
    "non_lanthanides = np.delete(groups, np.where(groups == \"Lanthanides\"))\n",
    "F = make_subplots(rows=2, cols=2, x_title=\"Year\", y_title=\"Reserves\", subplot_titles=non_lanthanides.tolist())\n",
    "\n",
    "# Define a fixed color mapping for cathode types\n",
    "\n",
    "cathode_colors = {\"NMC111\": \"blue\", \"NMC532\": \"green\", \"NMC622\": \"orange\", \"NMC811\": \"purple\"}\n",
    "mineral_colors =  ['#636efa','#EF553B', '#00cc96', '#ab63fa']\n",
    "\n",
    "\n",
    "for i, mineral in enumerate(non_lanthanides):\n",
    "    M = D.loc[(D[\"Primary Mineral\"] == mineral) & (D[\"Cumulative Reserves\"] > 0)]\n",
    "    S = demand_by_cathode[demand_by_cathode[\"Full Element Name\"] == mineral]\n",
    "    \n",
    "    # Add the main mineral trace with its own legend group\n",
    "    F.add_trace(\n",
    "        go.Scatter(\n",
    "            x=M[\"Month\"], \n",
    "            y=M[\"Cumulative Reserves\"], \n",
    "            mode=\"lines+markers\",\n",
    "            legendgroup=mineral,\n",
    "            name=mineral,\n",
    "            marker=dict(\n",
    "                size=10,\n",
    "                color=\"black\"\n",
    "            ), \n",
    "            showlegend=True,\n",
    "            legend=\"legend1\"\n",
    "        ),\n",
    "        row=i // 2 + 1, \n",
    "        col=i % 2 + 1\n",
    "    )\n",
    "    \n",
    "    # Add cathode traces grouped by cathode type\n",
    "    for j,cathode in enumerate(S.columns[2:6]):\n",
    "        F.add_trace(\n",
    "            go.Scatter(\n",
    "                x=S[\"Month\"], \n",
    "                y=S[cathode], \n",
    "                mode=\"markers\",\n",
    "                legendgroup=cathode,  # Group by cathode type instead of mineral\n",
    "                name=cathode,\n",
    "                marker=dict(size=10,color=cathode_colors[cathode]),\n",
    "                # Only show in legend for last mineral to avoid duplicates\n",
    "                showlegend=(i == 0),\n",
    "                legend=\"legend2\",\n",
    "            ),\n",
    "            row=i // 2 + 1, \n",
    "            col=i % 2 + 1)\n",
    "    \n",
    "    # Add vertical line and annotation\n",
    "    F.add_vline(x=2024, line_dash=\"dash\", line_color=\"red\")\n",
    "    F.add_annotation(\n",
    "        x=2024, \n",
    "        text=\"Current Year\",\n",
    "        showarrow=True,\n",
    "        arrowhead=2,\n",
    "        yshift=10,\n",
    "        row=i // 2 + 1, \n",
    "        col=i % 2 + 1\n",
    "    )\n",
    "\n",
    "F.update_yaxes(type='log')\n",
    "F.update_layout(title=\"Cumulative Growth in Reserves Over the Years\",height=700,showlegend=True,\n",
    "                legend1=dict(title=dict(text=\"Mineral\")),\n",
    "                legend2=dict(title=dict(text=\"NMC Cathodes\"), y=0.1), font=dict(size=20))\n",
    "F.update_annotations(font_size=20)\n",
    "F.show()"
   ]
  },
  {
   "cell_type": "code",
   "execution_count": 32,
   "id": "9134017e",
   "metadata": {},
   "outputs": [],
   "source": [
    "F.write_html(file=\"NMC_over_time.html\")"
   ]
  },
  {
   "cell_type": "code",
   "execution_count": 33,
   "id": "ca6640f9",
   "metadata": {},
   "outputs": [
    {
     "data": {
      "application/vnd.plotly.v1+json": {
       "config": {
        "plotlyServerURL": "https://plot.ly"
       },
       "data": [
        {
         "legend": "legend",
         "legendgroup": "Cobalt",
         "marker": {
          "color": "black",
          "size": 10
         },
         "mode": "lines+markers",
         "name": "Cobalt",
         "showlegend": true,
         "type": "scatter",
         "x": {
          "bdata": "2gcAANsHAADcBwAA3QcAAN4HAADfBwAA4AcAAOEHAADiBwAA4wcAAOQHAADlBwAA5gcAAOcHAADoBwAA6QcAAOkHAADqBwAA6wcAAOwHAADtBwAA7gcAAA==",
          "dtype": "i4"
         },
         "xaxis": "x",
         "y": {
          "bdata": "YVcAAOxZAABeogUA/l4MAAeBDQAPiA0AD4gNAJJoDwC9WREAh3ceALxBVQAwvFkAPr9kAF1TpQA8e7MAPHuzADx7swA8e7MAPHuzADx7swA8e7MAPHuzAA==",
          "dtype": "i4"
         },
         "yaxis": "y"
        },
        {
         "legend": "legend2",
         "legendgroup": "LiFePO4",
         "marker": {
          "size": 10
         },
         "mode": "markers",
         "name": "LiFePO4",
         "showlegend": true,
         "type": "scatter",
         "x": {
          "bdata": "2gfbB9wH3QfeB98H4AfhB+IH4wfkB+UH5gfnB+gH6QfqB+sH7AftB+4H",
          "dtype": "i2"
         },
         "xaxis": "x",
         "y": {
          "bdata": "AAAAAAAA+H8AAAAAAAD4fwAAAAAAAPh/AAAAAAAA+H8AAAAAAAD4fwAAAAAAAPh/AAAAAAAA+H8AAAAAAAD4fwAAAAAAAPh/AAAAAAAA+H8AAAAAAAD4fwAAAAAAAPh/AAAAAAAA+H8AAAAAAAD4fwAAAAAAAPh/AAAAAAAA+H8AAAAAAAD4fwAAAAAAAPh/AAAAAAAA+H8AAAAAAAD4fwAAAAAAAPh/",
          "dtype": "f8"
         },
         "yaxis": "y"
        },
        {
         "legend": "legend2",
         "legendgroup": "LiCoO2",
         "marker": {
          "size": 10
         },
         "mode": "markers",
         "name": "LiCoO2",
         "showlegend": true,
         "type": "scatter",
         "x": {
          "bdata": "2gfbB9wH3QfeB98H4AfhB+IH4wfkB+UH5gfnB+gH6QfqB+sH7AftB+4H",
          "dtype": "i2"
         },
         "xaxis": "x",
         "y": {
          "bdata": "L+2/sSGlv0Av7b+xIaXPQKvO5koyedVAL+2/sSGl30BCqplr3TDlQEsWnSQuBOhAychy0sxc70DzE9Va0vj7QLlds1jxvgRByGJhxJeWEEG3cRgvspUYQV7mdnTt+iFBFpRxF4i5K0HAeeN6wRcyQaWkGq/InzhBJzqpu9CGQUHSa1/KLm1EQX8k42pooUhBxuOVzl03TEHD78D494pOQS1O4Grs+U1B",
          "dtype": "f8"
         },
         "yaxis": "y"
        },
        {
         "legend": "legend2",
         "legendgroup": "LiCo2O4",
         "marker": {
          "size": 10
         },
         "mode": "markers",
         "name": "LiCo2O4",
         "showlegend": true,
         "type": "scatter",
         "x": {
          "bdata": "2gfbB9wH3QfeB98H4AfhB+IH4wfkB+UH5gfnB+gH6QfqB+sH7AftB+4H",
          "dtype": "i2"
         },
         "xaxis": "x",
         "y": {
          "bdata": "uIepNRMQzkC4h6k1ExDeQIh3ji1WZuRAuoepNRMQ7kC/YTgmnyH0QJQ7lW/F0PZA8nFTLlzL/UCLbErWx5IKQaMyd0dltRNBrzvswYaEH0Ft0vDfAlsnQXD0cPvHFDFBfBnfr6dWOkFETYsBKzBBQTTp8j+YZEdBPvcTf3mmUEHTDEFAuWdTQRHJVzIjZldBlct0tzLOWkHF41AsBQRdQREXVTI6elxB",
          "dtype": "f8"
         },
         "yaxis": "y"
        },
        {
         "legend": "legend2",
         "legendgroup": "LiTiS2",
         "marker": {
          "size": 10
         },
         "mode": "markers",
         "name": "LiTiS2",
         "showlegend": true,
         "type": "scatter",
         "x": {
          "bdata": "2gfbB9wH3QfeB98H4AfhB+IH4wfkB+UH5gfnB+gH6QfqB+sH7AftB+4H",
          "dtype": "i2"
         },
         "xaxis": "x",
         "y": {
          "bdata": "AAAAAAAA+H8AAAAAAAD4fwAAAAAAAPh/AAAAAAAA+H8AAAAAAAD4fwAAAAAAAPh/AAAAAAAA+H8AAAAAAAD4fwAAAAAAAPh/AAAAAAAA+H8AAAAAAAD4fwAAAAAAAPh/AAAAAAAA+H8AAAAAAAD4fwAAAAAAAPh/AAAAAAAA+H8AAAAAAAD4fwAAAAAAAPh/AAAAAAAA+H8AAAAAAAD4fwAAAAAAAPh/",
          "dtype": "f8"
         },
         "yaxis": "y"
        },
        {
         "legend": "legend2",
         "legendgroup": "LiMn2O4",
         "marker": {
          "size": 10
         },
         "mode": "markers",
         "name": "LiMn2O4",
         "showlegend": true,
         "type": "scatter",
         "x": {
          "bdata": "2gfbB9wH3QfeB98H4AfhB+IH4wfkB+UH5gfnB+gH6QfqB+sH7AftB+4H",
          "dtype": "i2"
         },
         "xaxis": "x",
         "y": {
          "bdata": "AAAAAAAA+H8AAAAAAAD4fwAAAAAAAPh/AAAAAAAA+H8AAAAAAAD4fwAAAAAAAPh/AAAAAAAA+H8AAAAAAAD4fwAAAAAAAPh/AAAAAAAA+H8AAAAAAAD4fwAAAAAAAPh/AAAAAAAA+H8AAAAAAAD4fwAAAAAAAPh/AAAAAAAA+H8AAAAAAAD4fwAAAAAAAPh/AAAAAAAA+H8AAAAAAAD4fwAAAAAAAPh/",
          "dtype": "f8"
         },
         "yaxis": "y"
        },
        {
         "legend": "legend2",
         "legendgroup": "LiMnO2",
         "marker": {
          "size": 10
         },
         "mode": "markers",
         "name": "LiMnO2",
         "showlegend": true,
         "type": "scatter",
         "x": {
          "bdata": "2gfbB9wH3QfeB98H4AfhB+IH4wfkB+UH5gfnB+gH6QfqB+sH7AftB+4H",
          "dtype": "i2"
         },
         "xaxis": "x",
         "y": {
          "bdata": "AAAAAAAA+H8AAAAAAAD4fwAAAAAAAPh/AAAAAAAA+H8AAAAAAAD4fwAAAAAAAPh/AAAAAAAA+H8AAAAAAAD4fwAAAAAAAPh/AAAAAAAA+H8AAAAAAAD4fwAAAAAAAPh/AAAAAAAA+H8AAAAAAAD4fwAAAAAAAPh/AAAAAAAA+H8AAAAAAAD4fwAAAAAAAPh/AAAAAAAA+H8AAAAAAAD4fwAAAAAAAPh/",
          "dtype": "f8"
         },
         "yaxis": "y"
        },
        {
         "legend": "legend2",
         "legendgroup": "LiNiO2",
         "marker": {
          "size": 10
         },
         "mode": "markers",
         "name": "LiNiO2",
         "showlegend": true,
         "type": "scatter",
         "x": {
          "bdata": "2gfbB9wH3QfeB98H4AfhB+IH4wfkB+UH5gfnB+gH6QfqB+sH7AftB+4H",
          "dtype": "i2"
         },
         "xaxis": "x",
         "y": {
          "bdata": "AAAAAAAA+H8AAAAAAAD4fwAAAAAAAPh/AAAAAAAA+H8AAAAAAAD4fwAAAAAAAPh/AAAAAAAA+H8AAAAAAAD4fwAAAAAAAPh/AAAAAAAA+H8AAAAAAAD4fwAAAAAAAPh/AAAAAAAA+H8AAAAAAAD4fwAAAAAAAPh/AAAAAAAA+H8AAAAAAAD4fwAAAAAAAPh/AAAAAAAA+H8AAAAAAAD4fwAAAAAAAPh/",
          "dtype": "f8"
         },
         "yaxis": "y"
        },
        {
         "legend": "legend2",
         "legendgroup": "LiNiCoAlO2(0.8:0.15:0.05)",
         "marker": {
          "size": 10
         },
         "mode": "markers",
         "name": "LiNiCoAlO2(0.8:0.15:0.05)",
         "showlegend": true,
         "type": "scatter",
         "x": {
          "bdata": "2gfbB9wH3QfeB98H4AfhB+IH4wfkB+UH5gfnB+gH6QfqB+sH7AftB+4H",
          "dtype": "i2"
         },
         "xaxis": "x",
         "y": {
          "bdata": "MO2/sSGlv0Av7b+xIaXPQKvO5koyedVAL+2/sSGl30BDqplr3TDlQEsWnSQuBOhAychy0sxc70DzE9Va0vj7QLlds1jxvgRByGJhxJeWEEG3cRgvspUYQV7mdnTt+iFBF5RxF4i5K0HAeeN6wRcyQaWkGq/InzhBJzqpu9CGQUHSa1/KLm1EQX0k42pooUhBxuOVzl03TEHD78D494pOQS1O4Grs+U1B",
          "dtype": "f8"
         },
         "yaxis": "y"
        },
        {
         "legend": "legend",
         "legendgroup": "Lithium",
         "marker": {
          "color": "black",
          "size": 10
         },
         "mode": "lines+markers",
         "name": "Lithium",
         "showlegend": true,
         "type": "scatter",
         "x": {
          "bdata": "2gcAANsHAADcBwAA3QcAAN4HAADfBwAA4AcAAOEHAADiBwAA4wcAAOQHAADlBwAA5gcAAOcHAADoBwAA6QcAAOkHAADqBwAA6wcAAOwHAADtBwAA7gcAAA==",
          "dtype": "i4"
         },
         "xaxis": "x2",
         "y": {
          "bdata": "TDoGACtmBgDIlhQAyJYUAMiWFADIlhQAJAdIAMRWgACPcI8AP/I+ARPaRgEFk3wCwcN9BXRYIgvhsF0Q4bBdEOGwXRDhsF0Q4bBdEOGwXRDhsF0Q4bBdEA==",
          "dtype": "i4"
         },
         "yaxis": "y2"
        },
        {
         "legend": "legend2",
         "legendgroup": "LiFePO4",
         "marker": {
          "size": 10
         },
         "mode": "markers",
         "name": "LiFePO4",
         "showlegend": false,
         "type": "scatter",
         "x": {
          "bdata": "2gfbB9wH3QfeB98H4AfhB+IH4wfkB+UH5gfnB+gH6QfqB+sH7AftB+4H",
          "dtype": "i2"
         },
         "xaxis": "x2",
         "y": {
          "bdata": "uDtMivWFm0C4O0yK9YWrQD2WasIvrbJAuDtMivWFu0Brw8C1Rm7CQJz/YjRh48RA52iifQxHy0ASh6zlH1TYQC3kzkExC+JAGXJ6uvLa7ECxgLcq8WH1QDP9PtrKRv9Am+6X+hMdCEHEGPFn8HgPQRJj1ku3ahVBuroMs9B8HkHFav7nFMQhQRqaZuEgbCVBdB+G24WKKEHlj71CjJAqQZI2gRdlEipB",
          "dtype": "f8"
         },
         "yaxis": "y2"
        },
        {
         "legend": "legend2",
         "legendgroup": "LiCoO2",
         "marker": {
          "size": 10
         },
         "mode": "markers",
         "name": "LiCoO2",
         "showlegend": false,
         "type": "scatter",
         "x": {
          "bdata": "2gfbB9wH3QfeB98H4AfhB+IH4wfkB+UH5gfnB+gH6QfqB+sH7AftB+4H",
          "dtype": "i2"
         },
         "xaxis": "x2",
         "y": {
          "bdata": "xovOB93vlEDEi84H3e+kQB+ZKq8ZaqxAxYvOB93vtEAOMplzYwq8QLo4R8eBx79APNgF6gHAxEDVbZ2EvIHSQIT8YG+kc9tApdyt/EDz5UCpggyNB0TwQJkGQQLFyvdAvtCNytxXAkFmajeK6vAHQeJRrC60ShBBZYETHyAxF0HCeuxSdAcbQbu+Uz3HSyBBPLolAB6rIkG77+zRLTUkQWcn5d821SNB",
          "dtype": "f8"
         },
         "yaxis": "y2"
        },
        {
         "legend": "legend2",
         "legendgroup": "LiCo2O4",
         "marker": {
          "size": 10
         },
         "mode": "markers",
         "name": "LiCo2O4",
         "showlegend": false,
         "type": "scatter",
         "x": {
          "bdata": "2gfbB9wH3QfeB98H4AfhB+IH4wfkB+UH5gfnB+gH6QfqB+sH7AftB+4H",
          "dtype": "i2"
         },
         "xaxis": "x2",
         "y": {
          "bdata": "Q1dlPiQ2mUBDV2U+JDapQO3oDZiYG7FAQldlPiQ2uUDcJTZF+OHAQILEo4E7IsNAM5SN64P8yEBqb3AJAEnWQNWFVVw1h+BAr2A/Vn1u6kBjGc4RKpbzQHQSjkxFpvxAvaTzwJMWBkHs446TNNQMQTNFq4kznhNBOvivJULtG0FA2m8QEkYgQUY9SsB+nyNB9D0yTdR6JkEiGH3nV1UoQSn/GlXJ4SdB",
          "dtype": "f8"
         },
         "yaxis": "y2"
        },
        {
         "legend": "legend2",
         "legendgroup": "LiTiS2",
         "marker": {
          "size": 10
         },
         "mode": "markers",
         "name": "LiTiS2",
         "showlegend": false,
         "type": "scatter",
         "x": {
          "bdata": "2gfbB9wH3QfeB98H4AfhB+IH4wfkB+UH5gfnB+gH6QfqB+sH7AftB+4H",
          "dtype": "i2"
         },
         "xaxis": "x2",
         "y": {
          "bdata": "63ionhY8pkDteKieFjy2QEDtdiD6LL5A6nionhY8xkA7NMYmVcfNQDK31nPj39BAaRzQIUQJ1kBQxqtHZqfjQNUQgx0+J+1AAp6NjI5P90A93ibPIUYBQYQvu4RMRAlBXnVuGu56E0FJ19Jaz2wZQQeUG1k4TSFBzVSaoCGhKEF35+ZKWbQsQYY7VXRcTjFBi7knY1jTM0HKFEwg1XU1QY2WSm3rDzVB",
          "dtype": "f8"
         },
         "yaxis": "y2"
        },
        {
         "legend": "legend2",
         "legendgroup": "LiMn2O4",
         "marker": {
          "size": 10
         },
         "mode": "markers",
         "name": "LiMn2O4",
         "showlegend": false,
         "type": "scatter",
         "x": {
          "bdata": "2gfbB9wH3QfeB98H4AfhB+IH4wfkB+UH5gfnB+gH6QfqB+sH7AftB+4H",
          "dtype": "i2"
         },
         "xaxis": "x2",
         "y": {
          "bdata": "KOGXuN8jmEAq4Ze43yOoQIDG1GF8YbBAKeGXuN8juEA1IsH0TirAQCqNhTcVUsJA3zyES7Lsx0BPiZgukVbVQK3L6tHOpt9AJZaG4fJO6UBs9S2YFsHyQDqWwiKabvtAj1knb0kmBUHtkGG0lZoLQQzMgqHIyBJB+85UrHO9GkEVCXV0ESofQRT598QFyiJB7UgRX0eGJUFkSX7joEwnQcreW2z73SZB",
          "dtype": "f8"
         },
         "yaxis": "y2"
        },
        {
         "legend": "legend2",
         "legendgroup": "LiMnO2",
         "marker": {
          "size": 10
         },
         "mode": "markers",
         "name": "LiMnO2",
         "showlegend": false,
         "type": "scatter",
         "x": {
          "bdata": "2gfbB9wH3QfeB98H4AfhB+IH4wfkB+UH5gfnB+gH6QfqB+sH7AftB+4H",
          "dtype": "i2"
         },
         "xaxis": "x2",
         "y": {
          "bdata": "DxVL+d/Tl0ANFUv539OnQErOKWkzK7BADRVL+d/Tt0Aw/N+teem/QPofMo1eFcJA3EQRZ2mdx0CbgluM2g/VQGesdpTqPd9A+3dPBBT76EDf1EsQ8ILyQG4JvqKxE/tAcuxozDLgBEGDfsxyGz8LQfA5CpmIihJBUnQkPdZkGkEneVeYysIeQVbUhKHBiyJBxwC1n/I+JUH309Bzav8mQXGfpakzkiZB",
          "dtype": "f8"
         },
         "yaxis": "y2"
        },
        {
         "legend": "legend2",
         "legendgroup": "LiNiO2",
         "marker": {
          "size": 10
         },
         "mode": "markers",
         "name": "LiNiO2",
         "showlegend": false,
         "type": "scatter",
         "x": {
          "bdata": "2gfbB9wH3QfeB98H4AfhB+IH4wfkB+UH5gfnB+gH6QfqB+sH7AftB+4H",
          "dtype": "i2"
         },
         "xaxis": "x2",
         "y": {
          "bdata": "Fnzug6MVlkAZfO6DoxWmQGqow6DL+K1AF3zug6MVtkAyZh9s1pO9QC3+RD21wsBA/Fqc6SjjxUCxzcKtaYXTQLNKNjnU9NxA7fR8Fj8n50BgL0zKQijxQGDqyySbGPlAt/C6Zj5ZA0HrhQLt10AJQV9bcRJNLxFBdittaYp2GEG/9AkVtoIcQWM9ijRvMCFBuI/gyg+xI0FiApfbuFAlQY1oeWR/6yRB",
          "dtype": "f8"
         },
         "yaxis": "y2"
        },
        {
         "legend": "legend2",
         "legendgroup": "LiNiCoAlO2(0.8:0.15:0.05)",
         "marker": {
          "size": 10
         },
         "mode": "markers",
         "name": "LiNiCoAlO2(0.8:0.15:0.05)",
         "showlegend": false,
         "type": "scatter",
         "x": {
          "bdata": "2gfbB9wH3QfeB98H4AfhB+IH4wfkB+UH5gfnB+gH6QfqB+sH7AftB+4H",
          "dtype": "i2"
         },
         "xaxis": "x2",
         "y": {
          "bdata": "EXW1MGTTlEATdbUwZNOkQCyx0a91Q6xAEnW1MGTTtEBd4amcQeS7QGr/N1xKnL9AK40hJ8qjxEBXrjK0kWjSQBH6F5hPTttAJsRPZ2fV5UCk17Lq6C3wQJVX5zZqqvdAbkPR6+o+AkFzJsreW9AHQehnxHiMNBBBZZI9RJYRF0G6OWKbsuIaQURxXxGeNSBBcoW66bqRIkEWd8HZshkkQWbjI2g+uiNB",
          "dtype": "f8"
         },
         "yaxis": "y2"
        },
        {
         "legend": "legend",
         "legendgroup": "Nickel",
         "marker": {
          "color": "black",
          "size": 10
         },
         "mode": "lines+markers",
         "name": "Nickel",
         "showlegend": true,
         "type": "scatter",
         "x": {
          "bdata": "2gcAANsHAADcBwAA3QcAAN4HAADfBwAA4AcAAOEHAADiBwAA4wcAAOQHAADlBwAA5gcAAOcHAADoBwAA6QcAAOkHAADqBwAA6wcAAOwHAADtBwAA7gcAAA==",
          "dtype": "i4"
         },
         "xaxis": "x3",
         "y": {
          "bdata": "yywXAHNkRgD4Kf8A/6J8AWOavAHPB8YBQ2HGAUqzMwI4EUgCPegwA9pZxQTDZOIELpOfBQ++HwvLbLQOy2y0DststA7LbLQOy2y0DststA7LbLQOy2y0Dg==",
          "dtype": "i4"
         },
         "yaxis": "y3"
        },
        {
         "legend": "legend2",
         "legendgroup": "LiFePO4",
         "marker": {
          "size": 10
         },
         "mode": "markers",
         "name": "LiFePO4",
         "showlegend": false,
         "type": "scatter",
         "x": {
          "bdata": "2gfbB9wH3QfeB98H4AfhB+IH4wfkB+UH5gfnB+gH6QfqB+sH7AftB+4H",
          "dtype": "i2"
         },
         "xaxis": "x3",
         "y": {
          "bdata": "AAAAAAAA+H8AAAAAAAD4fwAAAAAAAPh/AAAAAAAA+H8AAAAAAAD4fwAAAAAAAPh/AAAAAAAA+H8AAAAAAAD4fwAAAAAAAPh/AAAAAAAA+H8AAAAAAAD4fwAAAAAAAPh/AAAAAAAA+H8AAAAAAAD4fwAAAAAAAPh/AAAAAAAA+H8AAAAAAAD4fwAAAAAAAPh/AAAAAAAA+H8AAAAAAAD4fwAAAAAAAPh/",
          "dtype": "f8"
         },
         "yaxis": "y3"
        },
        {
         "legend": "legend2",
         "legendgroup": "LiCoO2",
         "marker": {
          "size": 10
         },
         "mode": "markers",
         "name": "LiCoO2",
         "showlegend": false,
         "type": "scatter",
         "x": {
          "bdata": "2gfbB9wH3QfeB98H4AfhB+IH4wfkB+UH5gfnB+gH6QfqB+sH7AftB+4H",
          "dtype": "i2"
         },
         "xaxis": "x3",
         "y": {
          "bdata": "AAAAAAAA+H8AAAAAAAD4fwAAAAAAAPh/AAAAAAAA+H8AAAAAAAD4fwAAAAAAAPh/AAAAAAAA+H8AAAAAAAD4fwAAAAAAAPh/AAAAAAAA+H8AAAAAAAD4fwAAAAAAAPh/AAAAAAAA+H8AAAAAAAD4fwAAAAAAAPh/AAAAAAAA+H8AAAAAAAD4fwAAAAAAAPh/AAAAAAAA+H8AAAAAAAD4fwAAAAAAAPh/",
          "dtype": "f8"
         },
         "yaxis": "y3"
        },
        {
         "legend": "legend2",
         "legendgroup": "LiCo2O4",
         "marker": {
          "size": 10
         },
         "mode": "markers",
         "name": "LiCo2O4",
         "showlegend": false,
         "type": "scatter",
         "x": {
          "bdata": "2gfbB9wH3QfeB98H4AfhB+IH4wfkB+UH5gfnB+gH6QfqB+sH7AftB+4H",
          "dtype": "i2"
         },
         "xaxis": "x3",
         "y": {
          "bdata": "AAAAAAAA+H8AAAAAAAD4fwAAAAAAAPh/AAAAAAAA+H8AAAAAAAD4fwAAAAAAAPh/AAAAAAAA+H8AAAAAAAD4fwAAAAAAAPh/AAAAAAAA+H8AAAAAAAD4fwAAAAAAAPh/AAAAAAAA+H8AAAAAAAD4fwAAAAAAAPh/AAAAAAAA+H8AAAAAAAD4fwAAAAAAAPh/AAAAAAAA+H8AAAAAAAD4fwAAAAAAAPh/",
          "dtype": "f8"
         },
         "yaxis": "y3"
        },
        {
         "legend": "legend2",
         "legendgroup": "LiTiS2",
         "marker": {
          "size": 10
         },
         "mode": "markers",
         "name": "LiTiS2",
         "showlegend": false,
         "type": "scatter",
         "x": {
          "bdata": "2gfbB9wH3QfeB98H4AfhB+IH4wfkB+UH5gfnB+gH6QfqB+sH7AftB+4H",
          "dtype": "i2"
         },
         "xaxis": "x3",
         "y": {
          "bdata": "AAAAAAAA+H8AAAAAAAD4fwAAAAAAAPh/AAAAAAAA+H8AAAAAAAD4fwAAAAAAAPh/AAAAAAAA+H8AAAAAAAD4fwAAAAAAAPh/AAAAAAAA+H8AAAAAAAD4fwAAAAAAAPh/AAAAAAAA+H8AAAAAAAD4fwAAAAAAAPh/AAAAAAAA+H8AAAAAAAD4fwAAAAAAAPh/AAAAAAAA+H8AAAAAAAD4fwAAAAAAAPh/",
          "dtype": "f8"
         },
         "yaxis": "y3"
        },
        {
         "legend": "legend2",
         "legendgroup": "LiMn2O4",
         "marker": {
          "size": 10
         },
         "mode": "markers",
         "name": "LiMn2O4",
         "showlegend": false,
         "type": "scatter",
         "x": {
          "bdata": "2gfbB9wH3QfeB98H4AfhB+IH4wfkB+UH5gfnB+gH6QfqB+sH7AftB+4H",
          "dtype": "i2"
         },
         "xaxis": "x3",
         "y": {
          "bdata": "AAAAAAAA+H8AAAAAAAD4fwAAAAAAAPh/AAAAAAAA+H8AAAAAAAD4fwAAAAAAAPh/AAAAAAAA+H8AAAAAAAD4fwAAAAAAAPh/AAAAAAAA+H8AAAAAAAD4fwAAAAAAAPh/AAAAAAAA+H8AAAAAAAD4fwAAAAAAAPh/AAAAAAAA+H8AAAAAAAD4fwAAAAAAAPh/AAAAAAAA+H8AAAAAAAD4fwAAAAAAAPh/",
          "dtype": "f8"
         },
         "yaxis": "y3"
        },
        {
         "legend": "legend2",
         "legendgroup": "LiMnO2",
         "marker": {
          "size": 10
         },
         "mode": "markers",
         "name": "LiMnO2",
         "showlegend": false,
         "type": "scatter",
         "x": {
          "bdata": "2gfbB9wH3QfeB98H4AfhB+IH4wfkB+UH5gfnB+gH6QfqB+sH7AftB+4H",
          "dtype": "i2"
         },
         "xaxis": "x3",
         "y": {
          "bdata": "AAAAAAAA+H8AAAAAAAD4fwAAAAAAAPh/AAAAAAAA+H8AAAAAAAD4fwAAAAAAAPh/AAAAAAAA+H8AAAAAAAD4fwAAAAAAAPh/AAAAAAAA+H8AAAAAAAD4fwAAAAAAAPh/AAAAAAAA+H8AAAAAAAD4fwAAAAAAAPh/AAAAAAAA+H8AAAAAAAD4fwAAAAAAAPh/AAAAAAAA+H8AAAAAAAD4fwAAAAAAAPh/",
          "dtype": "f8"
         },
         "yaxis": "y3"
        },
        {
         "legend": "legend2",
         "legendgroup": "LiNiO2",
         "marker": {
          "size": 10
         },
         "mode": "markers",
         "name": "LiNiO2",
         "showlegend": false,
         "type": "scatter",
         "x": {
          "bdata": "2gfbB9wH3QfeB98H4AfhB+IH4wfkB+UH5gfnB+gH6QfqB+sH7AftB+4H",
          "dtype": "i2"
         },
         "xaxis": "x3",
         "y": {
          "bdata": "QXbuaS+iwEBBdu5pL6LQQKLpVTT3ktZAQXbuaS+i4ECq8AM37UbmQFqqNxxRP+lAxnlFayp88EDtR7P23Gf9QLw7CUgqzwVBl0HYjUJwEUHcuiuTStgZQQzoV/vb5iJBEo4LOVQlLUEHJLZIKgUzQS5VInLl4jlB2dvEqctsQkFeEufjNnlFQcAIE32a5ElBxjLxHJ2pTUH8QIVQ3w1QQQjGsNNDg09B",
          "dtype": "f8"
         },
         "yaxis": "y3"
        },
        {
         "legend": "legend2",
         "legendgroup": "LiNiCoAlO2(0.8:0.15:0.05)",
         "marker": {
          "size": 10
         },
         "mode": "markers",
         "name": "LiNiCoAlO2(0.8:0.15:0.05)",
         "showlegend": false,
         "type": "scatter",
         "x": {
          "bdata": "2gfbB9wH3QfeB98H4AfhB+IH4wfkB+UH5gfnB+gH6QfqB+sH7AftB+4H",
          "dtype": "i2"
         },
         "xaxis": "x3",
         "y": {
          "bdata": "biMi8SOEv0BtIyLxI4TPQMAFDj/PYtVAbSMi8SOE30Amk1TIxRrlQC0Nk2sk6+dA1LBoeho870CZUbfpqNv7QN2xI3pQqQRBuRVhhkyFEEFz2VHBEHwYQRlVOLgu6CFBVA3VoaCcK0Hojayw5AQyQdEa+LwchjhB54yfDIt0QUF09r8o41dEQZxmVce6h0hB74DkKPMZTEGOo6tiIGtOQZDW6gus2k1B",
          "dtype": "f8"
         },
         "yaxis": "y3"
        },
        {
         "legend": "legend",
         "legendgroup": "Manganese",
         "marker": {
          "color": "black",
          "size": 10
         },
         "mode": "lines+markers",
         "name": "Manganese",
         "showlegend": true,
         "type": "scatter",
         "x": {
          "bdata": "3AcAAN0HAADeBwAA3wcAAOAHAADhBwAA4gcAAOMHAADkBwAA5QcAAOYHAADnBwAA6AcAAOkHAADpBwAA6gcAAOsHAADsBwAA7QcAAO4HAAA=",
          "dtype": "i4"
         },
         "xaxis": "x4",
         "y": [
          370883000,
          550883000,
          686371474,
          700341474,
          700341474,
          709641474,
          709641474,
          717441474,
          885101474,
          950251474,
          1040071474,
          2432587027,
          3757622411,
          3757622411,
          3757622411,
          3757622411,
          3757622411,
          3757622411,
          3757622411,
          3757622411
         ],
         "yaxis": "y4"
        },
        {
         "legend": "legend2",
         "legendgroup": "LiFePO4",
         "marker": {
          "size": 10
         },
         "mode": "markers",
         "name": "LiFePO4",
         "showlegend": false,
         "type": "scatter",
         "x": {
          "bdata": "2gfbB9wH3QfeB98H4AfhB+IH4wfkB+UH5gfnB+gH6QfqB+sH7AftB+4H",
          "dtype": "i2"
         },
         "xaxis": "x4",
         "y": {
          "bdata": "AAAAAAAA+H8AAAAAAAD4fwAAAAAAAPh/AAAAAAAA+H8AAAAAAAD4fwAAAAAAAPh/AAAAAAAA+H8AAAAAAAD4fwAAAAAAAPh/AAAAAAAA+H8AAAAAAAD4fwAAAAAAAPh/AAAAAAAA+H8AAAAAAAD4fwAAAAAAAPh/AAAAAAAA+H8AAAAAAAD4fwAAAAAAAPh/AAAAAAAA+H8AAAAAAAD4fwAAAAAAAPh/",
          "dtype": "f8"
         },
         "yaxis": "y4"
        },
        {
         "legend": "legend2",
         "legendgroup": "LiCoO2",
         "marker": {
          "size": 10
         },
         "mode": "markers",
         "name": "LiCoO2",
         "showlegend": false,
         "type": "scatter",
         "x": {
          "bdata": "2gfbB9wH3QfeB98H4AfhB+IH4wfkB+UH5gfnB+gH6QfqB+sH7AftB+4H",
          "dtype": "i2"
         },
         "xaxis": "x4",
         "y": {
          "bdata": "AAAAAAAA+H8AAAAAAAD4fwAAAAAAAPh/AAAAAAAA+H8AAAAAAAD4fwAAAAAAAPh/AAAAAAAA+H8AAAAAAAD4fwAAAAAAAPh/AAAAAAAA+H8AAAAAAAD4fwAAAAAAAPh/AAAAAAAA+H8AAAAAAAD4fwAAAAAAAPh/AAAAAAAA+H8AAAAAAAD4fwAAAAAAAPh/AAAAAAAA+H8AAAAAAAD4fwAAAAAAAPh/",
          "dtype": "f8"
         },
         "yaxis": "y4"
        },
        {
         "legend": "legend2",
         "legendgroup": "LiCo2O4",
         "marker": {
          "size": 10
         },
         "mode": "markers",
         "name": "LiCo2O4",
         "showlegend": false,
         "type": "scatter",
         "x": {
          "bdata": "2gfbB9wH3QfeB98H4AfhB+IH4wfkB+UH5gfnB+gH6QfqB+sH7AftB+4H",
          "dtype": "i2"
         },
         "xaxis": "x4",
         "y": {
          "bdata": "AAAAAAAA+H8AAAAAAAD4fwAAAAAAAPh/AAAAAAAA+H8AAAAAAAD4fwAAAAAAAPh/AAAAAAAA+H8AAAAAAAD4fwAAAAAAAPh/AAAAAAAA+H8AAAAAAAD4fwAAAAAAAPh/AAAAAAAA+H8AAAAAAAD4fwAAAAAAAPh/AAAAAAAA+H8AAAAAAAD4fwAAAAAAAPh/AAAAAAAA+H8AAAAAAAD4fwAAAAAAAPh/",
          "dtype": "f8"
         },
         "yaxis": "y4"
        },
        {
         "legend": "legend2",
         "legendgroup": "LiTiS2",
         "marker": {
          "size": 10
         },
         "mode": "markers",
         "name": "LiTiS2",
         "showlegend": false,
         "type": "scatter",
         "x": {
          "bdata": "2gfbB9wH3QfeB98H4AfhB+IH4wfkB+UH5gfnB+gH6QfqB+sH7AftB+4H",
          "dtype": "i2"
         },
         "xaxis": "x4",
         "y": {
          "bdata": "AAAAAAAA+H8AAAAAAAD4fwAAAAAAAPh/AAAAAAAA+H8AAAAAAAD4fwAAAAAAAPh/AAAAAAAA+H8AAAAAAAD4fwAAAAAAAPh/AAAAAAAA+H8AAAAAAAD4fwAAAAAAAPh/AAAAAAAA+H8AAAAAAAD4fwAAAAAAAPh/AAAAAAAA+H8AAAAAAAD4fwAAAAAAAPh/AAAAAAAA+H8AAAAAAAD4fwAAAAAAAPh/",
          "dtype": "f8"
         },
         "yaxis": "y4"
        },
        {
         "legend": "legend2",
         "legendgroup": "LiMn2O4",
         "marker": {
          "size": 10
         },
         "mode": "markers",
         "name": "LiMn2O4",
         "showlegend": false,
         "type": "scatter",
         "x": {
          "bdata": "2gfbB9wH3QfeB98H4AfhB+IH4wfkB+UH5gfnB+gH6QfqB+sH7AftB+4H",
          "dtype": "i2"
         },
         "xaxis": "x4",
         "y": {
          "bdata": "n/eG52FXy0Cf94bnYVfbQJpMibiUjeJAn/eG52FX60D2zuUhFk/yQFu3SAQIwPRA/HnjUOMY+0BPljlB9CoIQeG1Cluo7BFBVdVtDB6qHEEc+EPNwT0lQR4bPzvdES9BX4hqfUX0N0GXpWPsrUM/QZSSVhV5RkVBJROb4DhJTkF5A9RXBKZRQaQ/AUfgR1VB0PGlKP5gWEG1BQvtl2NaQZFZ0T1G5llB",
          "dtype": "f8"
         },
         "yaxis": "y4"
        },
        {
         "legend": "legend2",
         "legendgroup": "LiMnO2",
         "marker": {
          "size": 10
         },
         "mode": "markers",
         "name": "LiMnO2",
         "showlegend": false,
         "type": "scatter",
         "x": {
          "bdata": "2gfbB9wH3QfeB98H4AfhB+IH4wfkB+UH5gfnB+gH6QfqB+sH7AftB+4H",
          "dtype": "i2"
         },
         "xaxis": "x4",
         "y": {
          "bdata": "diUK6Rn8wEB2JQrpGfzQQGpXspf+DNdAdiUK6Rn84EBQu/aOWb/mQEnUSubLx+lAalesZEfV8ECqXY1g0gb+QA8/zzoPRQZB7Je4B4fOEUHFQ5pMAGQaQRBqgG4JTSNBEjXp+OHCLUFqFfiO+2szQXMLXH/UbjpB7qq1RWXQQkGVG9E2S+1FQXwB08SScEpBKRVx9PVJTkFtB0ETqGRQQX0cQIvOFlBB",
          "dtype": "f8"
         },
         "yaxis": "y4"
        },
        {
         "legend": "legend2",
         "legendgroup": "LiNiO2",
         "marker": {
          "size": 10
         },
         "mode": "markers",
         "name": "LiNiO2",
         "showlegend": false,
         "type": "scatter",
         "x": {
          "bdata": "2gfbB9wH3QfeB98H4AfhB+IH4wfkB+UH5gfnB+gH6QfqB+sH7AftB+4H",
          "dtype": "i2"
         },
         "xaxis": "x4",
         "y": {
          "bdata": "AAAAAAAA+H8AAAAAAAD4fwAAAAAAAPh/AAAAAAAA+H8AAAAAAAD4fwAAAAAAAPh/AAAAAAAA+H8AAAAAAAD4fwAAAAAAAPh/AAAAAAAA+H8AAAAAAAD4fwAAAAAAAPh/AAAAAAAA+H8AAAAAAAD4fwAAAAAAAPh/AAAAAAAA+H8AAAAAAAD4fwAAAAAAAPh/AAAAAAAA+H8AAAAAAAD4fwAAAAAAAPh/",
          "dtype": "f8"
         },
         "yaxis": "y4"
        },
        {
         "legend": "legend2",
         "legendgroup": "LiNiCoAlO2(0.8:0.15:0.05)",
         "marker": {
          "size": 10
         },
         "mode": "markers",
         "name": "LiNiCoAlO2(0.8:0.15:0.05)",
         "showlegend": false,
         "type": "scatter",
         "x": {
          "bdata": "2gfbB9wH3QfeB98H4AfhB+IH4wfkB+UH5gfnB+gH6QfqB+sH7AftB+4H",
          "dtype": "i2"
         },
         "xaxis": "x4",
         "y": {
          "bdata": "AAAAAAAA+H8AAAAAAAD4fwAAAAAAAPh/AAAAAAAA+H8AAAAAAAD4fwAAAAAAAPh/AAAAAAAA+H8AAAAAAAD4fwAAAAAAAPh/AAAAAAAA+H8AAAAAAAD4fwAAAAAAAPh/AAAAAAAA+H8AAAAAAAD4fwAAAAAAAPh/AAAAAAAA+H8AAAAAAAD4fwAAAAAAAPh/AAAAAAAA+H8AAAAAAAD4fwAAAAAAAPh/",
          "dtype": "f8"
         },
         "yaxis": "y4"
        }
       ],
       "layout": {
        "annotations": [
         {
          "font": {
           "size": 20
          },
          "showarrow": false,
          "text": "Cobalt",
          "x": 0.225,
          "xanchor": "center",
          "xref": "paper",
          "y": 1,
          "yanchor": "bottom",
          "yref": "paper"
         },
         {
          "font": {
           "size": 20
          },
          "showarrow": false,
          "text": "Lithium",
          "x": 0.775,
          "xanchor": "center",
          "xref": "paper",
          "y": 1,
          "yanchor": "bottom",
          "yref": "paper"
         },
         {
          "font": {
           "size": 20
          },
          "showarrow": false,
          "text": "Nickel",
          "x": 0.225,
          "xanchor": "center",
          "xref": "paper",
          "y": 0.375,
          "yanchor": "bottom",
          "yref": "paper"
         },
         {
          "font": {
           "size": 20
          },
          "showarrow": false,
          "text": "Manganese",
          "x": 0.775,
          "xanchor": "center",
          "xref": "paper",
          "y": 0.375,
          "yanchor": "bottom",
          "yref": "paper"
         },
         {
          "font": {
           "size": 20
          },
          "showarrow": false,
          "text": "Year",
          "x": 0.5,
          "xanchor": "center",
          "xref": "paper",
          "y": 0,
          "yanchor": "top",
          "yref": "paper",
          "yshift": -30
         },
         {
          "font": {
           "size": 20
          },
          "showarrow": false,
          "text": "Reserves",
          "textangle": -90,
          "x": 0,
          "xanchor": "right",
          "xref": "paper",
          "xshift": -40,
          "y": 0.5,
          "yanchor": "middle",
          "yref": "paper"
         },
         {
          "arrowhead": 2,
          "font": {
           "size": 20
          },
          "showarrow": true,
          "text": "Current Year",
          "x": 2024,
          "xref": "x",
          "yref": "y",
          "yshift": 10
         },
         {
          "arrowhead": 2,
          "font": {
           "size": 20
          },
          "showarrow": true,
          "text": "Current Year",
          "x": 2024,
          "xref": "x2",
          "yref": "y2",
          "yshift": 10
         },
         {
          "arrowhead": 2,
          "font": {
           "size": 20
          },
          "showarrow": true,
          "text": "Current Year",
          "x": 2024,
          "xref": "x3",
          "yref": "y3",
          "yshift": 10
         },
         {
          "arrowhead": 2,
          "font": {
           "size": 20
          },
          "showarrow": true,
          "text": "Current Year",
          "x": 2024,
          "xref": "x4",
          "yref": "y4",
          "yshift": 10
         }
        ],
        "font": {
         "size": 20
        },
        "height": 700,
        "legend": {
         "title": {
          "text": "Mineral"
         }
        },
        "legend2": {
         "title": {
          "text": "LIB Cathodes"
         },
         "y": -0.1
        },
        "shapes": [
         {
          "line": {
           "color": "red",
           "dash": "dash"
          },
          "type": "line",
          "x0": 2024,
          "x1": 2024,
          "xref": "x",
          "y0": 0,
          "y1": 1,
          "yref": "y domain"
         },
         {
          "line": {
           "color": "red",
           "dash": "dash"
          },
          "type": "line",
          "x0": 2024,
          "x1": 2024,
          "xref": "x",
          "y0": 0,
          "y1": 1,
          "yref": "y domain"
         },
         {
          "line": {
           "color": "red",
           "dash": "dash"
          },
          "type": "line",
          "x0": 2024,
          "x1": 2024,
          "xref": "x2",
          "y0": 0,
          "y1": 1,
          "yref": "y2 domain"
         },
         {
          "line": {
           "color": "red",
           "dash": "dash"
          },
          "type": "line",
          "x0": 2024,
          "x1": 2024,
          "xref": "x",
          "y0": 0,
          "y1": 1,
          "yref": "y domain"
         },
         {
          "line": {
           "color": "red",
           "dash": "dash"
          },
          "type": "line",
          "x0": 2024,
          "x1": 2024,
          "xref": "x2",
          "y0": 0,
          "y1": 1,
          "yref": "y2 domain"
         },
         {
          "line": {
           "color": "red",
           "dash": "dash"
          },
          "type": "line",
          "x0": 2024,
          "x1": 2024,
          "xref": "x3",
          "y0": 0,
          "y1": 1,
          "yref": "y3 domain"
         },
         {
          "line": {
           "color": "red",
           "dash": "dash"
          },
          "type": "line",
          "x0": 2024,
          "x1": 2024,
          "xref": "x",
          "y0": 0,
          "y1": 1,
          "yref": "y domain"
         },
         {
          "line": {
           "color": "red",
           "dash": "dash"
          },
          "type": "line",
          "x0": 2024,
          "x1": 2024,
          "xref": "x2",
          "y0": 0,
          "y1": 1,
          "yref": "y2 domain"
         },
         {
          "line": {
           "color": "red",
           "dash": "dash"
          },
          "type": "line",
          "x0": 2024,
          "x1": 2024,
          "xref": "x3",
          "y0": 0,
          "y1": 1,
          "yref": "y3 domain"
         },
         {
          "line": {
           "color": "red",
           "dash": "dash"
          },
          "type": "line",
          "x0": 2024,
          "x1": 2024,
          "xref": "x4",
          "y0": 0,
          "y1": 1,
          "yref": "y4 domain"
         }
        ],
        "showlegend": true,
        "template": {
         "data": {
          "bar": [
           {
            "error_x": {
             "color": "#2a3f5f"
            },
            "error_y": {
             "color": "#2a3f5f"
            },
            "marker": {
             "line": {
              "color": "#E5ECF6",
              "width": 0.5
             },
             "pattern": {
              "fillmode": "overlay",
              "size": 10,
              "solidity": 0.2
             }
            },
            "type": "bar"
           }
          ],
          "barpolar": [
           {
            "marker": {
             "line": {
              "color": "#E5ECF6",
              "width": 0.5
             },
             "pattern": {
              "fillmode": "overlay",
              "size": 10,
              "solidity": 0.2
             }
            },
            "type": "barpolar"
           }
          ],
          "carpet": [
           {
            "aaxis": {
             "endlinecolor": "#2a3f5f",
             "gridcolor": "white",
             "linecolor": "white",
             "minorgridcolor": "white",
             "startlinecolor": "#2a3f5f"
            },
            "baxis": {
             "endlinecolor": "#2a3f5f",
             "gridcolor": "white",
             "linecolor": "white",
             "minorgridcolor": "white",
             "startlinecolor": "#2a3f5f"
            },
            "type": "carpet"
           }
          ],
          "choropleth": [
           {
            "colorbar": {
             "outlinewidth": 0,
             "ticks": ""
            },
            "type": "choropleth"
           }
          ],
          "contour": [
           {
            "colorbar": {
             "outlinewidth": 0,
             "ticks": ""
            },
            "colorscale": [
             [
              0,
              "#0d0887"
             ],
             [
              0.1111111111111111,
              "#46039f"
             ],
             [
              0.2222222222222222,
              "#7201a8"
             ],
             [
              0.3333333333333333,
              "#9c179e"
             ],
             [
              0.4444444444444444,
              "#bd3786"
             ],
             [
              0.5555555555555556,
              "#d8576b"
             ],
             [
              0.6666666666666666,
              "#ed7953"
             ],
             [
              0.7777777777777778,
              "#fb9f3a"
             ],
             [
              0.8888888888888888,
              "#fdca26"
             ],
             [
              1,
              "#f0f921"
             ]
            ],
            "type": "contour"
           }
          ],
          "contourcarpet": [
           {
            "colorbar": {
             "outlinewidth": 0,
             "ticks": ""
            },
            "type": "contourcarpet"
           }
          ],
          "heatmap": [
           {
            "colorbar": {
             "outlinewidth": 0,
             "ticks": ""
            },
            "colorscale": [
             [
              0,
              "#0d0887"
             ],
             [
              0.1111111111111111,
              "#46039f"
             ],
             [
              0.2222222222222222,
              "#7201a8"
             ],
             [
              0.3333333333333333,
              "#9c179e"
             ],
             [
              0.4444444444444444,
              "#bd3786"
             ],
             [
              0.5555555555555556,
              "#d8576b"
             ],
             [
              0.6666666666666666,
              "#ed7953"
             ],
             [
              0.7777777777777778,
              "#fb9f3a"
             ],
             [
              0.8888888888888888,
              "#fdca26"
             ],
             [
              1,
              "#f0f921"
             ]
            ],
            "type": "heatmap"
           }
          ],
          "histogram": [
           {
            "marker": {
             "pattern": {
              "fillmode": "overlay",
              "size": 10,
              "solidity": 0.2
             }
            },
            "type": "histogram"
           }
          ],
          "histogram2d": [
           {
            "colorbar": {
             "outlinewidth": 0,
             "ticks": ""
            },
            "colorscale": [
             [
              0,
              "#0d0887"
             ],
             [
              0.1111111111111111,
              "#46039f"
             ],
             [
              0.2222222222222222,
              "#7201a8"
             ],
             [
              0.3333333333333333,
              "#9c179e"
             ],
             [
              0.4444444444444444,
              "#bd3786"
             ],
             [
              0.5555555555555556,
              "#d8576b"
             ],
             [
              0.6666666666666666,
              "#ed7953"
             ],
             [
              0.7777777777777778,
              "#fb9f3a"
             ],
             [
              0.8888888888888888,
              "#fdca26"
             ],
             [
              1,
              "#f0f921"
             ]
            ],
            "type": "histogram2d"
           }
          ],
          "histogram2dcontour": [
           {
            "colorbar": {
             "outlinewidth": 0,
             "ticks": ""
            },
            "colorscale": [
             [
              0,
              "#0d0887"
             ],
             [
              0.1111111111111111,
              "#46039f"
             ],
             [
              0.2222222222222222,
              "#7201a8"
             ],
             [
              0.3333333333333333,
              "#9c179e"
             ],
             [
              0.4444444444444444,
              "#bd3786"
             ],
             [
              0.5555555555555556,
              "#d8576b"
             ],
             [
              0.6666666666666666,
              "#ed7953"
             ],
             [
              0.7777777777777778,
              "#fb9f3a"
             ],
             [
              0.8888888888888888,
              "#fdca26"
             ],
             [
              1,
              "#f0f921"
             ]
            ],
            "type": "histogram2dcontour"
           }
          ],
          "mesh3d": [
           {
            "colorbar": {
             "outlinewidth": 0,
             "ticks": ""
            },
            "type": "mesh3d"
           }
          ],
          "parcoords": [
           {
            "line": {
             "colorbar": {
              "outlinewidth": 0,
              "ticks": ""
             }
            },
            "type": "parcoords"
           }
          ],
          "pie": [
           {
            "automargin": true,
            "type": "pie"
           }
          ],
          "scatter": [
           {
            "fillpattern": {
             "fillmode": "overlay",
             "size": 10,
             "solidity": 0.2
            },
            "type": "scatter"
           }
          ],
          "scatter3d": [
           {
            "line": {
             "colorbar": {
              "outlinewidth": 0,
              "ticks": ""
             }
            },
            "marker": {
             "colorbar": {
              "outlinewidth": 0,
              "ticks": ""
             }
            },
            "type": "scatter3d"
           }
          ],
          "scattercarpet": [
           {
            "marker": {
             "colorbar": {
              "outlinewidth": 0,
              "ticks": ""
             }
            },
            "type": "scattercarpet"
           }
          ],
          "scattergeo": [
           {
            "marker": {
             "colorbar": {
              "outlinewidth": 0,
              "ticks": ""
             }
            },
            "type": "scattergeo"
           }
          ],
          "scattergl": [
           {
            "marker": {
             "colorbar": {
              "outlinewidth": 0,
              "ticks": ""
             }
            },
            "type": "scattergl"
           }
          ],
          "scattermap": [
           {
            "marker": {
             "colorbar": {
              "outlinewidth": 0,
              "ticks": ""
             }
            },
            "type": "scattermap"
           }
          ],
          "scattermapbox": [
           {
            "marker": {
             "colorbar": {
              "outlinewidth": 0,
              "ticks": ""
             }
            },
            "type": "scattermapbox"
           }
          ],
          "scatterpolar": [
           {
            "marker": {
             "colorbar": {
              "outlinewidth": 0,
              "ticks": ""
             }
            },
            "type": "scatterpolar"
           }
          ],
          "scatterpolargl": [
           {
            "marker": {
             "colorbar": {
              "outlinewidth": 0,
              "ticks": ""
             }
            },
            "type": "scatterpolargl"
           }
          ],
          "scatterternary": [
           {
            "marker": {
             "colorbar": {
              "outlinewidth": 0,
              "ticks": ""
             }
            },
            "type": "scatterternary"
           }
          ],
          "surface": [
           {
            "colorbar": {
             "outlinewidth": 0,
             "ticks": ""
            },
            "colorscale": [
             [
              0,
              "#0d0887"
             ],
             [
              0.1111111111111111,
              "#46039f"
             ],
             [
              0.2222222222222222,
              "#7201a8"
             ],
             [
              0.3333333333333333,
              "#9c179e"
             ],
             [
              0.4444444444444444,
              "#bd3786"
             ],
             [
              0.5555555555555556,
              "#d8576b"
             ],
             [
              0.6666666666666666,
              "#ed7953"
             ],
             [
              0.7777777777777778,
              "#fb9f3a"
             ],
             [
              0.8888888888888888,
              "#fdca26"
             ],
             [
              1,
              "#f0f921"
             ]
            ],
            "type": "surface"
           }
          ],
          "table": [
           {
            "cells": {
             "fill": {
              "color": "#EBF0F8"
             },
             "line": {
              "color": "white"
             }
            },
            "header": {
             "fill": {
              "color": "#C8D4E3"
             },
             "line": {
              "color": "white"
             }
            },
            "type": "table"
           }
          ]
         },
         "layout": {
          "annotationdefaults": {
           "arrowcolor": "#2a3f5f",
           "arrowhead": 0,
           "arrowwidth": 1
          },
          "autotypenumbers": "strict",
          "coloraxis": {
           "colorbar": {
            "outlinewidth": 0,
            "ticks": ""
           }
          },
          "colorscale": {
           "diverging": [
            [
             0,
             "#8e0152"
            ],
            [
             0.1,
             "#c51b7d"
            ],
            [
             0.2,
             "#de77ae"
            ],
            [
             0.3,
             "#f1b6da"
            ],
            [
             0.4,
             "#fde0ef"
            ],
            [
             0.5,
             "#f7f7f7"
            ],
            [
             0.6,
             "#e6f5d0"
            ],
            [
             0.7,
             "#b8e186"
            ],
            [
             0.8,
             "#7fbc41"
            ],
            [
             0.9,
             "#4d9221"
            ],
            [
             1,
             "#276419"
            ]
           ],
           "sequential": [
            [
             0,
             "#0d0887"
            ],
            [
             0.1111111111111111,
             "#46039f"
            ],
            [
             0.2222222222222222,
             "#7201a8"
            ],
            [
             0.3333333333333333,
             "#9c179e"
            ],
            [
             0.4444444444444444,
             "#bd3786"
            ],
            [
             0.5555555555555556,
             "#d8576b"
            ],
            [
             0.6666666666666666,
             "#ed7953"
            ],
            [
             0.7777777777777778,
             "#fb9f3a"
            ],
            [
             0.8888888888888888,
             "#fdca26"
            ],
            [
             1,
             "#f0f921"
            ]
           ],
           "sequentialminus": [
            [
             0,
             "#0d0887"
            ],
            [
             0.1111111111111111,
             "#46039f"
            ],
            [
             0.2222222222222222,
             "#7201a8"
            ],
            [
             0.3333333333333333,
             "#9c179e"
            ],
            [
             0.4444444444444444,
             "#bd3786"
            ],
            [
             0.5555555555555556,
             "#d8576b"
            ],
            [
             0.6666666666666666,
             "#ed7953"
            ],
            [
             0.7777777777777778,
             "#fb9f3a"
            ],
            [
             0.8888888888888888,
             "#fdca26"
            ],
            [
             1,
             "#f0f921"
            ]
           ]
          },
          "colorway": [
           "#636efa",
           "#EF553B",
           "#00cc96",
           "#ab63fa",
           "#FFA15A",
           "#19d3f3",
           "#FF6692",
           "#B6E880",
           "#FF97FF",
           "#FECB52"
          ],
          "font": {
           "color": "#2a3f5f"
          },
          "geo": {
           "bgcolor": "white",
           "lakecolor": "white",
           "landcolor": "#E5ECF6",
           "showlakes": true,
           "showland": true,
           "subunitcolor": "white"
          },
          "hoverlabel": {
           "align": "left"
          },
          "hovermode": "closest",
          "mapbox": {
           "style": "light"
          },
          "paper_bgcolor": "white",
          "plot_bgcolor": "#E5ECF6",
          "polar": {
           "angularaxis": {
            "gridcolor": "white",
            "linecolor": "white",
            "ticks": ""
           },
           "bgcolor": "#E5ECF6",
           "radialaxis": {
            "gridcolor": "white",
            "linecolor": "white",
            "ticks": ""
           }
          },
          "scene": {
           "xaxis": {
            "backgroundcolor": "#E5ECF6",
            "gridcolor": "white",
            "gridwidth": 2,
            "linecolor": "white",
            "showbackground": true,
            "ticks": "",
            "zerolinecolor": "white"
           },
           "yaxis": {
            "backgroundcolor": "#E5ECF6",
            "gridcolor": "white",
            "gridwidth": 2,
            "linecolor": "white",
            "showbackground": true,
            "ticks": "",
            "zerolinecolor": "white"
           },
           "zaxis": {
            "backgroundcolor": "#E5ECF6",
            "gridcolor": "white",
            "gridwidth": 2,
            "linecolor": "white",
            "showbackground": true,
            "ticks": "",
            "zerolinecolor": "white"
           }
          },
          "shapedefaults": {
           "line": {
            "color": "#2a3f5f"
           }
          },
          "ternary": {
           "aaxis": {
            "gridcolor": "white",
            "linecolor": "white",
            "ticks": ""
           },
           "baxis": {
            "gridcolor": "white",
            "linecolor": "white",
            "ticks": ""
           },
           "bgcolor": "#E5ECF6",
           "caxis": {
            "gridcolor": "white",
            "linecolor": "white",
            "ticks": ""
           }
          },
          "title": {
           "x": 0.05
          },
          "xaxis": {
           "automargin": true,
           "gridcolor": "white",
           "linecolor": "white",
           "ticks": "",
           "title": {
            "standoff": 15
           },
           "zerolinecolor": "white",
           "zerolinewidth": 2
          },
          "yaxis": {
           "automargin": true,
           "gridcolor": "white",
           "linecolor": "white",
           "ticks": "",
           "title": {
            "standoff": 15
           },
           "zerolinecolor": "white",
           "zerolinewidth": 2
          }
         }
        },
        "title": {
         "text": "Cumulative Growth in Reserves Over the Years"
        },
        "xaxis": {
         "anchor": "y",
         "domain": [
          0,
          0.45
         ]
        },
        "xaxis2": {
         "anchor": "y2",
         "domain": [
          0.55,
          1
         ]
        },
        "xaxis3": {
         "anchor": "y3",
         "domain": [
          0,
          0.45
         ]
        },
        "xaxis4": {
         "anchor": "y4",
         "domain": [
          0.55,
          1
         ]
        },
        "yaxis": {
         "anchor": "x",
         "domain": [
          0.625,
          1
         ],
         "type": "log"
        },
        "yaxis2": {
         "anchor": "x2",
         "domain": [
          0.625,
          1
         ],
         "type": "log"
        },
        "yaxis3": {
         "anchor": "x3",
         "domain": [
          0,
          0.375
         ],
         "type": "log"
        },
        "yaxis4": {
         "anchor": "x4",
         "domain": [
          0,
          0.375
         ],
         "type": "log"
        }
       }
      }
     },
     "metadata": {},
     "output_type": "display_data"
    }
   ],
   "source": [
    "\n",
    "F = make_subplots(rows=2, cols=2, x_title=\"Year\", y_title=\"Reserves\", \n",
    "                  subplot_titles=non_lanthanides.tolist())\n",
    "\n",
    "# Define a fixed color mapping for cathode types\n",
    "\n",
    "# cathode_colors = {\"NMC111\": \"blue\", \"NMC532\": \"green\", \"NMC622\": \"orange\", \"NMC811\": \"purple\"}\n",
    "mineral_colors =  ['#636efa','#EF553B', '#00cc96', '#ab63fa']\n",
    "\n",
    "for i, mineral in enumerate(non_lanthanides):\n",
    "    M = D.loc[(D[\"Primary Mineral\"] == mineral) & (D[\"Cumulative Reserves\"] > 0)]\n",
    "    S = demand_by_cathode[demand_by_cathode[\"Full Element Name\"] == mineral]\n",
    "    \n",
    "    # Add the main mineral trace with its own legend group\n",
    "    F.add_trace(\n",
    "        go.Scatter(\n",
    "            x=M[\"Year\"], \n",
    "            y=M[\"Cumulative Reserves\"], \n",
    "            mode=\"lines+markers\",\n",
    "            legendgroup=mineral,\n",
    "            name=mineral,\n",
    "            marker=dict(\n",
    "                size=10,\n",
    "                color=\"black\"\n",
    "            ), \n",
    "            showlegend=True,\n",
    "            legend=\"legend1\"\n",
    "        ),\n",
    "        row=i // 2 + 1, \n",
    "        col=i % 2 + 1\n",
    "    )\n",
    "    \n",
    "    # Add cathode traces grouped by cathode type\n",
    "    for j,cathode in enumerate(S.columns[6:]):\n",
    "        F.add_trace(\n",
    "            go.Scatter(\n",
    "                x=S[\"Year\"], \n",
    "                y=S[cathode], \n",
    "                mode=\"markers\",\n",
    "                legendgroup=cathode,  # Group by cathode type instead of mineral\n",
    "                name=cathode,\n",
    "                marker=dict(size=10),\n",
    "                # Only show in legend for last mineral to avoid duplicates\n",
    "                showlegend=(i == 0),\n",
    "                legend=\"legend2\",\n",
    "            ),\n",
    "            row=i // 2 + 1, \n",
    "            col=i % 2 + 1)\n",
    "    \n",
    "    # Add vertical line and annotation\n",
    "    F.add_vline(x=2024, line_dash=\"dash\", line_color=\"red\")\n",
    "    F.add_annotation(\n",
    "        x=2024, \n",
    "        text=\"Current Year\",\n",
    "        showarrow=True,\n",
    "        arrowhead=2,\n",
    "        yshift=10,\n",
    "        row=i // 2 + 1, \n",
    "        col=i % 2 + 1\n",
    "    )\n",
    "\n",
    "F.update_yaxes(type='log')\n",
    "F.update_layout(title=\"Cumulative Growth in Reserves Over the Years\",height=700,showlegend=True,\n",
    "                legend1=dict(title=dict(text=\"Mineral\")),\n",
    "                legend2=dict(title=dict(text=\"LIB Cathodes\"), y=-0.1),\n",
    "                font=dict(size=20))\n",
    "F.update_annotations(font_size=20)\n",
    "F.show()"
   ]
  },
  {
   "cell_type": "code",
   "execution_count": 34,
   "id": "f7b14116",
   "metadata": {},
   "outputs": [],
   "source": [
    "F.write_html(file=\"LIB_over_time.html\")"
   ]
  },
  {
   "cell_type": "code",
   "execution_count": 37,
   "id": "2c6412b6",
   "metadata": {},
   "outputs": [
    {
     "data": {
      "application/vnd.plotly.v1+json": {
       "config": {
        "plotlyServerURL": "https://plot.ly"
       },
       "data": [
        {
         "customdata": [
          [
           31715,
           350200,
           "Canada"
          ],
          [
           37426,
           33000,
           "Norway"
          ],
          [
           35769,
           44000,
           "Canada"
          ],
          [
           35584,
           8595,
           "Australia"
          ],
          [
           33191,
           800000,
           "Myanmar"
          ],
          [
           38560,
           141000,
           "Brazil"
          ],
          [
           31086,
           11000,
           "China"
          ],
          [
           37474,
           31000,
           "Brazil"
          ],
          [
           60081,
           100000,
           "Philippines"
          ],
          [
           35686,
           300000,
           "Canada"
          ],
          [
           39372,
           1938000,
           "Indonesia"
          ],
          [
           34245,
           17200,
           "Canada"
          ],
          [
           28251,
           673000,
           "Guatemala"
          ],
          [
           28019,
           166240,
           "Venezuela"
          ],
          [
           27096,
           46000,
           "Canada"
          ],
          [
           31055,
           1541187,
           "Guatemala"
          ],
          [
           27453,
           59825,
           "Zambia"
          ],
          [
           36347,
           983000,
           "Tanzania"
          ],
          [
           38872,
           4010000,
           "South Africa"
          ],
          [
           35094,
           2369363,
           "Russia"
          ],
          [
           40831,
           799500,
           "Russia"
          ],
          [
           35597,
           1530000,
           "Papua New Guinea"
          ],
          [
           31679,
           720120,
           "Philippines"
          ],
          [
           29586,
           50194,
           "Canada"
          ],
          [
           32468,
           2624400,
           "Indonesia"
          ],
          [
           30481,
           2926000,
           "Philippines"
          ],
          [
           41976,
           440000,
           "China"
          ],
          [
           50008,
           1403000,
           "Australia"
          ],
          [
           26731,
           796083,
           "Philippines"
          ],
          [
           32938,
           33500,
           "Norway"
          ],
          [
           37248,
           19000,
           "China"
          ],
          [
           32687,
           3913000,
           "Brazil"
          ],
          [
           27656,
           241500,
           "Botswana"
          ],
          [
           37249,
           18600,
           "China"
          ],
          [
           28739,
           52000,
           "Australia"
          ],
          [
           36178,
           17136,
           "Botswana"
          ],
          [
           56200,
           472000,
           "Philippines"
          ],
          [
           66149,
           34700,
           "Philippines"
          ],
          [
           92718,
           42000,
           "Canada"
          ],
          [
           35807,
           19900,
           "Australia"
          ],
          [
           27355,
           3000,
           "Australia"
          ],
          [
           37657,
           723000,
           "Brazil"
          ],
          [
           34324,
           92700,
           "Dominican Republic"
          ],
          [
           32050,
           9314,
           "Australia"
          ],
          [
           78825,
           37093,
           "China"
          ],
          [
           34850,
           1031200,
           "Australia"
          ],
          [
           36697,
           300000,
           "Türkiye"
          ],
          [
           78824,
           21226,
           "China"
          ],
          [
           67403,
           4801890,
           "Indonesia"
          ],
          [
           27064,
           148000,
           "Australia"
          ],
          [
           33743,
           16200,
           "Australia"
          ],
          [
           40844,
           573040,
           "Guinea"
          ],
          [
           27786,
           99200,
           "Australia"
          ],
          [
           60787,
           201177,
           "Albania"
          ],
          [
           79430,
           560,
           "Australia"
          ],
          [
           36051,
           162000,
           "Australia"
          ],
          [
           80786,
           23133,
           "USA"
          ],
          [
           79101,
           168500,
           "Australia"
          ],
          [
           89776,
           1376,
           "Australia"
          ],
          [
           38029,
           39480,
           "South Africa"
          ],
          [
           34359,
           10100,
           "Sweden"
          ],
          [
           89168,
           40000,
           "Australia"
          ],
          [
           32081,
           920000,
           "Tanzania"
          ],
          [
           36331,
           712100,
           "Russia"
          ],
          [
           39164,
           11900,
           "Australia"
          ],
          [
           36147,
           2566926,
           "Brazil"
          ],
          [
           29854,
           110000,
           "Australia"
          ],
          [
           31000,
           589000,
           "Australia"
          ],
          [
           28109,
           1555000,
           "Brazil"
          ],
          [
           31729,
           735979,
           "Australia"
          ],
          [
           30428,
           2281090,
           "Madagascar"
          ],
          [
           25816,
           5720702,
           "Canada"
          ],
          [
           79928,
           56700,
           "Australia"
          ],
          [
           28851,
           935000,
           "Australia"
          ],
          [
           29601,
           144378,
           "Australia"
          ],
          [
           35352,
           3879920,
           "Finland"
          ],
          [
           88695,
           9954000,
           "Tonga"
          ],
          [
           88690,
           11512000,
           "Nauru"
          ],
          [
           34360,
           80331,
           "Sweden"
          ],
          [
           28021,
           145000,
           "Brazil"
          ],
          [
           75730,
           775200,
           "Philippines"
          ],
          [
           76126,
           68900,
           "Canada"
          ],
          [
           27531,
           485800,
           "Vietnam"
          ],
          [
           76615,
           50439,
           "Canada"
          ],
          [
           31518,
           75750,
           "Canada"
          ],
          [
           27307,
           116800,
           "Canada"
          ],
          [
           85699,
           185448,
           "Solomon Islands"
          ],
          [
           91671,
           173000,
           "Indonesia"
          ],
          [
           30976,
           891000,
           "Papua New Guinea"
          ],
          [
           31689,
           254000,
           "Australia"
          ],
          [
           27443,
           5700,
           "Australia"
          ],
          [
           91679,
           1790000,
           "Indonesia"
          ],
          [
           33075,
           48398,
           "Canada"
          ],
          [
           36221,
           217724,
           "USA"
          ],
          [
           31758,
           101200,
           "Australia"
          ],
          [
           29658,
           76611,
           "Canada"
          ],
          [
           81026,
           3700000,
           "Indonesia"
          ],
          [
           35268,
           20995,
           "Australia"
          ],
          [
           33832,
           914300,
           "Brazil"
          ],
          [
           36715,
           1093000,
           "Sweden"
          ],
          [
           35378,
           56000,
           "Australia"
          ],
          [
           29849,
           3625,
           "Australia"
          ],
          [
           88353,
           70000,
           "Canada"
          ],
          [
           34218,
           1341800,
           "Russia"
          ],
          [
           84130,
           907,
           "Canada"
          ],
          [
           84035,
           218000,
           "China"
          ],
          [
           91505,
           763000,
           "Indonesia"
          ],
          [
           30900,
           394300,
           "Canada"
          ],
          [
           75613,
           134100,
           "Australia"
          ],
          [
           67348,
           28000,
           "Australia"
          ],
          [
           29079,
           102527,
           "Australia"
          ],
          [
           33795,
           70000,
           "USA"
          ],
          [
           90553,
           6000,
           "Canada"
          ],
          [
           27809,
           3790000,
           "Indonesia"
          ],
          [
           30807,
           616000,
           "Philippines"
          ],
          [
           87874,
           84240,
           "Australia"
          ],
          [
           33382,
           125161,
           "Canada"
          ],
          [
           26560,
           510000,
           "Canada"
          ],
          [
           34949,
           283000,
           "Australia"
          ],
          [
           91011,
           2200,
           "Sweden"
          ],
          [
           28543,
           2299800,
           "Brazil"
          ],
          [
           27672,
           1773000,
           "Canada"
          ],
          [
           28725,
           2560000,
           "Australia"
          ],
          [
           28629,
           2020900,
           "Cuba"
          ],
          [
           26275,
           1435029,
           "Canada"
          ],
          [
           35359,
           59100,
           "Canada"
          ],
          [
           81706,
           570000,
           "Australia"
          ],
          [
           29592,
           971000,
           "Australia"
          ],
          [
           80638,
           157500,
           "Australia"
          ],
          [
           32133,
           16577,
           "Canada"
          ],
          [
           40767,
           105900,
           "Australia"
          ],
          [
           31041,
           1172000,
           "Brazil"
          ],
          [
           29416,
           222191,
           "Australia"
          ],
          [
           30600,
           17000,
           "Australia"
          ],
          [
           37535,
           161000,
           "Philippines"
          ],
          [
           67257,
           1080000,
           "Philippines"
          ],
          [
           30130,
           154900,
           "Australia"
          ],
          [
           66139,
           812000,
           "Philippines"
          ],
          [
           31089,
           9043560,
           "Indonesia"
          ],
          [
           34257,
           680000,
           "Philippines"
          ],
          [
           67493,
           27400,
           "Australia"
          ],
          [
           90451,
           168400,
           "Finland"
          ],
          [
           27187,
           1402000,
           "Papua New Guinea"
          ],
          [
           28992,
           718800,
           "Canada"
          ],
          [
           28364,
           127000,
           "Zimbabwe"
          ],
          [
           27713,
           216900,
           "Australia"
          ],
          [
           27363,
           19480722,
           "Indonesia"
          ],
          [
           34987,
           24031,
           "Finland"
          ],
          [
           29156,
           113000,
           "Philippines"
          ],
          [
           30696,
           5079000,
           "Australia"
          ],
          [
           29179,
           572380,
           "Finland"
          ],
          [
           30825,
           5702000,
           "Canada"
          ],
          [
           29157,
           1402000,
           "Philippines"
          ],
          [
           85226,
           66400,
           "Australia"
          ],
          [
           27146,
           2011000,
           "Canada"
          ],
          [
           88763,
           2444000,
           "Indonesia"
          ],
          [
           35448,
           2435240,
           "Canada"
          ],
          [
           31780,
           2505400,
           "Indonesia"
          ],
          [
           27779,
           1824964,
           "Tanzania"
          ],
          [
           32059,
           2370,
           "Australia"
          ],
          [
           86139,
           9761600,
           "Canada"
          ],
          [
           37943,
           4548000,
           "Canada"
          ],
          [
           60528,
           855000,
           "Philippines"
          ],
          [
           84717,
           965000,
           "Australia"
          ],
          [
           37724,
           510000,
           "Australia"
          ],
          [
           38359,
           283800,
           "Canada"
          ],
          [
           88428,
           1087200,
           "Canada"
          ],
          [
           34844,
           155382,
           "China"
          ],
          [
           29556,
           561000,
           "Indonesia"
          ],
          [
           27655,
           108000,
           "Botswana"
          ],
          [
           83767,
           1204400,
           "Brazil"
          ],
          [
           33464,
           54504,
           "Canada"
          ],
          [
           29064,
           34876,
           "Spain"
          ],
          [
           27378,
           2941000,
           "Russia"
          ],
          [
           28247,
           1224000,
           "Australia"
          ],
          [
           92534,
           2321000,
           "Indonesia"
          ],
          [
           28354,
           334751,
           "Côte d'Ivoire"
          ],
          [
           30273,
           18480000,
           "Indonesia"
          ],
          [
           92246,
           23100,
           "United Kingdom"
          ],
          [
           33848,
           70500,
           "Norway"
          ],
          [
           89267,
           862800,
           "Finland"
          ],
          [
           27169,
           16982000,
           "Russia"
          ],
          [
           34339,
           67005,
           "Australia"
          ],
          [
           77124,
           40700,
           "China"
          ],
          [
           27555,
           2340000,
           "Australia"
          ],
          [
           32184,
           3675002,
           "USA"
          ],
          [
           27222,
           391885,
           "Canada"
          ],
          [
           88835,
           113600,
           "Australia"
          ],
          [
           80592,
           190335,
           "Australia"
          ],
          [
           67632,
           614200,
           "Australia"
          ],
          [
           28584,
           2450000,
           "Colombia"
          ],
          [
           33386,
           292163,
           "China"
          ],
          [
           31466,
           1697505,
           "Australia"
          ]
         ],
         "geo": "geo",
         "hovertemplate": "Primary Mineral=Nickel<br>size=%{marker.size}<br>Latitude (degrees)=%{lat}<br>Longitude (degrees)=%{lon}<br>Property ID=%{customdata[0]}<br>Primary Reserves and Resources=%{customdata[1]}<br>Country/Region=%{customdata[2]}<extra></extra>",
         "lat": {
          "bdata": "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",
          "dtype": "f8"
         },
         "legendgroup": "Nickel",
         "lon": {
          "bdata": "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",
          "dtype": "f8"
         },
         "marker": {
          "color": "#636efa",
          "size": {
           "bdata": "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",
           "dtype": "f8"
          },
          "sizemode": "area",
          "sizeref": 30.486588834525783,
          "symbol": "circle"
         },
         "mode": "markers",
         "name": "Nickel",
         "showlegend": true,
         "type": "scattergeo"
        },
        {
         "customdata": [
          [
           37426,
           920,
           "Norway"
          ],
          [
           35584,
           546,
           "Australia"
          ],
          [
           35769,
           2233,
           "Canada"
          ],
          [
           31715,
           18670,
           "Canada"
          ],
          [
           34245,
           651,
           "Canada"
          ],
          [
           31679,
           37850,
           "Philippines"
          ],
          [
           36347,
           29243,
           "Tanzania"
          ],
          [
           40831,
           26400,
           "Russia"
          ],
          [
           27096,
           1060,
           "Canada"
          ],
          [
           35094,
           94673,
           "Russia"
          ],
          [
           35597,
           145300,
           "Papua New Guinea"
          ],
          [
           37532,
           11700,
           "Australia"
          ],
          [
           32938,
           2264,
           "Norway"
          ],
          [
           41976,
           18000,
           "China"
          ],
          [
           30481,
           383540,
           "Philippines"
          ],
          [
           26731,
           37700,
           "Philippines"
          ],
          [
           29668,
           74249,
           "Canada"
          ],
          [
           28739,
           1800,
           "Australia"
          ],
          [
           34850,
           74200,
           "Australia"
          ],
          [
           37657,
           34700,
           "Brazil"
          ],
          [
           75510,
           2744,
           "Australia"
          ],
          [
           27064,
           1200,
           "Australia"
          ],
          [
           32050,
           470,
           "Australia"
          ],
          [
           78824,
           3692,
           "China"
          ],
          [
           78825,
           6005,
           "China"
          ],
          [
           27786,
           5400,
           "Australia"
          ],
          [
           79101,
           11300,
           "Australia"
          ],
          [
           80786,
           15876,
           "USA"
          ],
          [
           38029,
           1800,
           "South Africa"
          ],
          [
           29419,
           340,
           "Canada"
          ],
          [
           36051,
           9900,
           "Australia"
          ],
          [
           40844,
           59560,
           "Guinea"
          ],
          [
           34359,
           680,
           "Sweden"
          ],
          [
           79430,
           1210,
           "Australia"
          ],
          [
           60787,
           13209,
           "Albania"
          ],
          [
           89168,
           8000,
           "Australia"
          ],
          [
           28109,
           78700,
           "Brazil"
          ],
          [
           31729,
           72157,
           "Australia"
          ],
          [
           31000,
           46000,
           "Australia"
          ],
          [
           36331,
           26330,
           "Russia"
          ],
          [
           79928,
           4300,
           "Australia"
          ],
          [
           29854,
           7200,
           "Australia"
          ],
          [
           78525,
           10369,
           "Dem. Rep. Congo"
          ],
          [
           83259,
           9400,
           "Dem. Rep. Congo"
          ],
          [
           39164,
           900,
           "Australia"
          ],
          [
           30428,
           201120,
           "Madagascar"
          ],
          [
           25816,
           229518,
           "Canada"
          ],
          [
           32081,
           60000,
           "Tanzania"
          ],
          [
           36147,
           113600,
           "Brazil"
          ],
          [
           35352,
           300000,
           "Finland"
          ],
          [
           88695,
           1542000,
           "Tonga"
          ],
          [
           28851,
           168000,
           "Australia"
          ],
          [
           34360,
           3506,
           "Sweden"
          ],
          [
           29601,
           11803,
           "Australia"
          ],
          [
           88690,
           1565400,
           "Nauru"
          ],
          [
           78548,
           257000,
           "Namibia"
          ],
          [
           76126,
           1463,
           "Canada"
          ],
          [
           34473,
           597,
           "Canada"
          ],
          [
           27531,
           13400,
           "Vietnam"
          ],
          [
           85699,
           8550,
           "Solomon Islands"
          ],
          [
           27307,
           5300,
           "Canada"
          ],
          [
           31518,
           4536,
           "Canada"
          ],
          [
           76615,
           2646,
           "Canada"
          ],
          [
           27443,
           300,
           "Australia"
          ],
          [
           29849,
           82,
           "Australia"
          ],
          [
           29658,
           4417,
           "Canada"
          ],
          [
           29079,
           3115,
           "Australia"
          ],
          [
           31689,
           6759,
           "Australia"
          ],
          [
           36221,
           5974,
           "USA"
          ],
          [
           81026,
           270000,
           "Indonesia"
          ],
          [
           30976,
           66000,
           "Papua New Guinea"
          ],
          [
           91942,
           120000,
           "South Africa"
          ],
          [
           91671,
           13600,
           "Indonesia"
          ],
          [
           67348,
           8300,
           "Australia"
          ],
          [
           30900,
           46400,
           "Canada"
          ],
          [
           91505,
           74300,
           "Indonesia"
          ],
          [
           35268,
           631,
           "Australia"
          ],
          [
           33075,
           544,
           "Canada"
          ],
          [
           33832,
           35900,
           "Brazil"
          ],
          [
           28652,
           24000,
           "Morocco"
          ],
          [
           80993,
           21556,
           "Australia"
          ],
          [
           36715,
           19800,
           "Sweden"
          ],
          [
           32133,
           783,
           "Canada"
          ],
          [
           26275,
           79469,
           "Canada"
          ],
          [
           81706,
           29500,
           "Australia"
          ],
          [
           29179,
           27032,
           "Finland"
          ],
          [
           80638,
           26600,
           "Australia"
          ],
          [
           27713,
           14000,
           "Australia"
          ],
          [
           27870,
           9268,
           "USA"
          ],
          [
           26560,
           8000,
           "Canada"
          ],
          [
           27672,
           48500,
           "Canada"
          ],
          [
           27146,
           45000,
           "Canada"
          ],
          [
           28992,
           44390,
           "Canada"
          ],
          [
           34949,
           40500,
           "Australia"
          ],
          [
           29592,
           65200,
           "Australia"
          ],
          [
           34987,
           5658,
           "Finland"
          ],
          [
           31089,
           344200,
           "Indonesia"
          ],
          [
           30696,
           311000,
           "Australia"
          ],
          [
           35448,
           108239,
           "Canada"
          ],
          [
           30600,
           87300,
           "Australia"
          ],
          [
           27363,
           815756,
           "Indonesia"
          ],
          [
           86139,
           552200,
           "Canada"
          ],
          [
           27187,
           161000,
           "Papua New Guinea"
          ],
          [
           27779,
           137733,
           "Tanzania"
          ],
          [
           28725,
           135000,
           "Australia"
          ],
          [
           31780,
           121180,
           "Indonesia"
          ],
          [
           30825,
           345000,
           "Canada"
          ],
          [
           40767,
           3500,
           "Australia"
          ],
          [
           85226,
           3100,
           "Australia"
          ],
          [
           90451,
           6700,
           "Finland"
          ],
          [
           33382,
           6224,
           "Canada"
          ],
          [
           30130,
           5960,
           "Australia"
          ],
          [
           28629,
           232100,
           "Cuba"
          ],
          [
           88763,
           193000,
           "Indonesia"
          ],
          [
           27809,
           187000,
           "Indonesia"
          ],
          [
           35359,
           3700,
           "Canada"
          ],
          [
           29416,
           4844,
           "Australia"
          ],
          [
           67493,
           1640,
           "Australia"
          ],
          [
           32059,
           50,
           "Australia"
          ],
          [
           91011,
           30,
           "Sweden"
          ],
          [
           87874,
           2337,
           "Australia"
          ],
          [
           30466,
           19530,
           "Dem. Rep. Congo"
          ],
          [
           28354,
           19051,
           "Côte d'Ivoire"
          ],
          [
           80592,
           2913,
           "Australia"
          ],
          [
           92246,
           1560,
           "United Kingdom"
          ],
          [
           34339,
           5268,
           "Australia"
          ],
          [
           90601,
           5299,
           "Brazil"
          ],
          [
           92534,
           174000,
           "Indonesia"
          ],
          [
           84717,
           95900,
           "Australia"
          ],
          [
           31466,
           105753,
           "Australia"
          ],
          [
           32184,
           285763,
           "USA"
          ],
          [
           33848,
           5600,
           "Norway"
          ],
          [
           88428,
           46600,
           "Canada"
          ],
          [
           38359,
           9890,
           "Canada"
          ],
          [
           67632,
           37700,
           "Australia"
          ],
          [
           83767,
           36600,
           "Brazil"
          ],
          [
           89267,
           40000,
           "Finland"
          ],
          [
           29064,
           897,
           "Spain"
          ],
          [
           33464,
           1449,
           "Canada"
          ],
          [
           88835,
           1468,
           "Australia"
          ],
          [
           29556,
           52000,
           "Indonesia"
          ]
         ],
         "geo": "geo",
         "hovertemplate": "Primary Mineral=Cobalt<br>size=%{marker.size}<br>Latitude (degrees)=%{lat}<br>Longitude (degrees)=%{lon}<br>Property ID=%{customdata[0]}<br>Primary Reserves and Resources=%{customdata[1]}<br>Country/Region=%{customdata[2]}<extra></extra>",
         "lat": {
          "bdata": "T1jiAWUVUUCpTZzc73gzwO3YCMTrsk5ApikCnN61TkBGlPYGX8hHQAcI5ujxay9AIJijx+/tA8DSHcTOFJJJQMgkI2dhN0dA5QrvchFzS0BVh9wMN5AhwCHIQQkzZTTAkrOwpx22TkCeew+XHD9CQJfK2xFOGypAjPM3oRCRIkBmZmZmZsZPQJ8fRgiPGkDA/P7NixO3PcBAE2HD0+sgwCVdM/lmX0DAsb/snjycPMALRiV1AtI6wLD+z2G+REZAe0563/g+RkCcilQYW9A0wIHs9e6PY0DA2SWqtwbGQkC2Z5YEqGk9wKsJou4DPElAGVbxRuYBQMC/K4L/rQQfQJp8s82NT1BA/WoOEMy5MMDbheY6jYxEQC4cCMkCxjbAMV9egH30GcCz6nO1FQMzwB+i0R3EFkHA3PRnP1JQUUDLviuC/4U9wOHRxhFreT7APIidKXSOJ8D2C3bDtsUlwC1gArfu3jzAeHqlLEPcMsA10lJ5O1JIQJnTZTGxmRfAJSNnYU/7H8Aj2/l+avxPQAOy17s/7ixAvVKWIY5hQMCYTBWMSiBQQDlFR3L5m0TAl5APejbrKUAdPX5v09cxwDqSy39IB0lAXoB9dOqyR0D/snvysDA1QGkAb4EENSDAIo51cRtpTEAYfQVpxipHQATnjCjtaUtAA0NWt3oOPsCoNc07Thk/wAAAAAAAgE1AZXCUvDqfO8D9MEJ4tPVEwBLCo40jVkdAhV/q502FB8DymIHK+BcjwPNxbagYXznAkzoBTYQN979lqmBUUu86wPQyiuWWck9AIsMq3sg8+b/Kw0KtaQ4+wNKpK5/lvUhAcJS8OsdgLMD4U+Olm4Q+QGJnCp3XAEDAX9IYraNgUEA6QDBHj/NJQB0Dste7u05AAAAAAACAOsC9HeG04OtQQCpXeJeLDEDAby9pjNZZMcBI+Um1T3tGQLSOqiaI2ktA9DehEAE/R0B9y5wui1FHQGDq501FKkxAkxgEVg4NQMB2MjhKXq08wBefAmA8W09AybCKNzLvEMD11sBWCSY+wMuhRbbzJUhA8s02N6YLQMCzQSYZOYsEwLUV+8vuaUhASOF6FK5HFsB47j1cchwHwFtfJLTlxDzApN++DpyzC8A+lj50QT1NQOM2GsBb0D/A+64I/rfaNMAps0EmGSdRQKqCUUmdUElA0zB8REzNQMCHbYsyG5w0QMb5m1CIAAjAlWWIY13c3L98m/7sR9pJQNrhr8kaZT7APrMkQE21PsAW3uUivks/wFioNc07IlBAxHdi1ovpNMDXaaSl8gYnwFbUYBqGDx9Astr8v+pwP8C0PA/uzr5MQGN6whIPMDTAxJRIopdZMMCfjscMVAYHwGg/UkSGhT/AyY6NQLwOOsDIJCNnYaNPQFORCmMLCU5Aj41AvK4zSEAQzNHj9zZHQJ+OxwxU1jzALGUZ4lj3GcA2sFWCxQVRQOXtCKcF+0JActwpHaxTSEC4WFGDaVg/wKDDfHkBNgLA",
          "dtype": "f8"
         },
         "legendgroup": "Cobalt",
         "lon": {
          "bdata": "X9IYraPyMEB6pSxDHDZiQPg2/dmPvlLAzczMzMyIUsA6BmSvd0tUwDmX4qqyA15AdonqrYHtQEBVE0TdB5xEQKFKzR5oU1TAHaz/c5jdV0CWJqWg23diQNLGEWvxkGFAclDCTNsfI0CMEB5tHFdXQJCDEmbaSF5AbkxPWOJhX0ALmMCtuy9dwFOWIY51H15AIzFBDd+DXkDzAuyjU/tEwMXJ/Q5FbGJAK9mxEYiPXkBEi2zn+4teQCAkC5jAYV1A/RNcrKhlXUB4YtaLoWJdQLByaJHtql1AOZfiqrKRVsDdXtIYrdM1QAa7YduivlfASu8bX3thYkCrPldbsf8gwN6OcFrw+jJAGcVyS6s4YUDxgLIpV4A0QD1+b9Ofu2JA3qtWJvzySMD7eVORCh5iQA39E1ysgWJAUgq6vaQJVkATuHU3T5FeQJnTZTGxiV5A5Pc2/dlHO0AoCvSJPJk6QG6LMhtkiF5A0LNZ9bkmSEBjKCfaVZxTwPKwUGuaFz5Ad/NUh9y0SMBOYhBYORQ8QKJdhZSfpGDAOPjCZKptYkAvqG+Z09U0QFTjpZvEWGJA+zpwzohkXsDcLjTXaXQrQEtZhjjWp1PAnUtxVdk9VMCpMLYQ5BRaQO1kcJS85WNAvK5fsBtCWcBMT1jiAXdUwMRfkzXq+1jAih9j7lpoXkDZJaq3BkZeQMI0DB8RaVHASWO0jqqAXkBDHOviNihiQG+70FynR1fA4umVsgyPXkBjYvNxbZ1iQJvJN9vciD1AZXCUvDrhX0BFEr2MYqldQDiEKjV7LljAi3H+JhTcX0CCxeHMr05eQFuxv+yeaFfAe4hGdxDbQ8C+nxov3aQbwMmwijcypWFASwLU1LLFLkBegH106tpVwDl/EwoRcWHAmpmZmZkJXkBE3Qcgtfk6QNKpK5/laV5AFhiyutUAYEBIisiwiodcwH41BwjmeFjA9Wc/UkREVMDL1voioVdUwICfceFADE/AyOpWz0lpXkCrlQm/1G1eQPAzLhwI+TxAtOVciqtmXkCdhT3t8EteQGyVYHE4QVTAFTqvsUumYUBrgqj7AFheQEinrnyWVVTACtejcD0mYkAG9S1zuow+QL5qZcIveV5AkWEVb2SSXkC2SrA4nBtgwIF4Xb9gy15Aq+ek941HXUAMdsO2RRk2QJT7HYoC51fA6J/gYkUTXkBoXDgQkrtSwFg5tMh2dF5AtLCnHf47YEDJq3MMyOZSwPZ698d7aV5APfIHA88DX0BtrS8S2lxeQFPL1voiATVAZRniWBc5XUDjx5i7lnA7QDiEKjV7gB/AQL6ECg5jXkBYrUz4pb4FwJm7lpAP6l1AsFWCxeGYScB8fhghPHJeQKipZWt9DV1A7dPxmIEeYEDlm21uTEliwIOG/gkuFiRAjZduEoNQVMCRYRVvZFZUwDsBTYQNt15AaQBvgQSZScCk/KTap2s4QFlpUgq6vRjAkq6ZfLMzVMB96IL6lm9eQKabxCCwYmFA",
          "dtype": "f8"
         },
         "marker": {
          "color": "#EF553B",
          "size": {
           "bdata": "Hl/nTN1UPkBLkfpO3F03QJLnPrKXoEdAeQsQNGwUYUAEqql8w4M5QA01DN2fUWhAK0vW5y9gZUAPZsRzYk9kQBCzXclgR0BAHlGIVQk7c0DnNuj96tJ3QFREG5CoCltAm50p427KR0Bddd4hQMVgQHFmTNFyWoNAu1MLr0ZFaEC3dLaCyQdxQBBIF4CUNkVAiePoKlkGcUDOuJiE8EhnQGA3O88MMUpA6y830QxSQUD7jJSf8q01QFeHRaaDYU5A9yk13XtfU0Acj8gyBV9SQEOEBxdLk1pAAAAAAACAX0AQSBeAlDZFQJoukCFocDJAQZi9auvfWEDEFTvYkoFuQFFmmcupEzpAyR52qHxkQUA21Abmi7tcQNLxfYJVXFZATd7KMJCIcUBtBxHG7clwQA40bkI8z2pALZYspHxIZEDchFK6wmRQQBBIF4CUNlVAGlLKpgJ1WUDHZ1W8Bz1YQAAAAAAAAD5AB5vZumwHfEBACgwxSfF9QNlDTv9dnm5Ax3n7YLwQdUBYsTrMxx2BQMqp8HkXZ5NA7MvaaQyeeUCZ6eLzEZtNQCgahS4QKVtA0wsTSqOMk0D1rMAOOq9/QGUofTrlH0NAq4sfU/9uOEDtSD8eifBcQPSVp2LWHVdAcl1KNEUzUkCZo8qpY9ZQQI37S3o6uElA6y830QxSMUAk+NlwWxwiQJBWMxJ5nVBAW/UArvXnS0BuVAoMpI1UQBySj3uqUlNA7LwjBOw8gEDBme1zeQ5wQOX7hAWQpnVAiowgUZ4nXUAyAwdwrcZWQHAQ080C7WpAbLxIwkgJcUBB6iKJpR45QKKjsw3lUjdA5dnHbiKvZ0BIkdEua11jQM8+4006WmJAPBG/k8yWYUBYPENXbfs7QDTXj39wnnFAmEq4NC54ZUD+KmBmQI1kQP0MS8QKY2RAuLL4BZWUXUCSuHcXTxFYQNLxfYJVXFZA1oiE20SHa0AUGh2gOYRqQMbYwxwPVmpADLDNMuAnaUD3pnYX+epvQIooeTUPzlJAI7reHnxVgkAosqnRY22BQKr90ozzj3RA/CCNpXN3ckCqk5N0iTmMQDTe6xfQOIdAIgdgBvgTeUAqkWbG+zF3QOKyen/G9nZAdE64Mb/BdUAlfPWg71qCQLiy+AWVlE1ANPLCBr3WS0CtibkyoHZUQDrwY/YbuVNAAikzx91MU0BX+7kASBx+QPddBxsVdXtAGpogn/UGe0BI0zyg72lOQEA0UpFTZlFAznk/3Jo/REDACh8AxkgcQI+lNtKt6BVAW6v089crSEDWRAwr/ndhQOY9wL/PQGFACd8li3H8SkB3bLVMmL9DQNpBhe0uJVJA3VpVrNQyUkDVdWkQIRJ6QDZdgQXWWnNAkOlKWiZTdEAgP8Jdi7SAQI4n4UpStVJAz+NWwdn7akBAN8jhs9xYQLtTC69GRWhA0cxh4fXpZ0AAAAAAAABpQEpY+3Yw8z1AeHwx7WkIQ0AzD5IlQShDQKaXnmofgWxA",
           "dtype": "f8"
          },
          "sizemode": "area",
          "sizeref": 30.486588834525783,
          "symbol": "circle"
         },
         "mode": "markers",
         "name": "Cobalt",
         "showlegend": true,
         "type": "scattergeo"
        },
        {
         "customdata": [
          [
           38543,
           195760,
           "China"
          ],
          [
           37194,
           212380,
           "Chile"
          ],
          [
           37639,
           11231,
           "USA"
          ],
          [
           81969,
           54149,
           "Spain"
          ],
          [
           37315,
           779000,
           "Canada"
          ],
          [
           37470,
           96800,
           "Argentina"
          ],
          [
           36162,
           3371100,
           "Argentina"
          ],
          [
           38320,
           3562000,
           "Mexico"
          ],
          [
           38474,
           40400,
           "China"
          ],
          [
           37627,
           88000,
           "USA"
          ],
          [
           37471,
           98000,
           "Mexico"
          ],
          [
           37628,
           828563,
           "Argentina"
          ],
          [
           38100,
           9800,
           "Canada"
          ],
          [
           77966,
           53280,
           "Namibia"
          ],
          [
           78659,
           75000,
           "USA"
          ],
          [
           79165,
           51000,
           "Portugal"
          ],
          [
           79927,
           145000,
           "Australia"
          ],
          [
           77559,
           680000,
           "Spain"
          ],
          [
           37500,
           483000,
           "Australia"
          ],
          [
           80589,
           130000,
           "USA"
          ],
          [
           37624,
           9938000,
           "Argentina"
          ],
          [
           92117,
           276900,
           "Argentina"
          ],
          [
           81849,
           241200,
           "USA"
          ],
          [
           40307,
           2990000,
           "Czechia"
          ],
          [
           77631,
           8358700,
           "USA"
          ],
          [
           77458,
           775200,
           "Zimbabwe"
          ],
          [
           38538,
           655160,
           "China"
          ],
          [
           78645,
           475000,
           "USA"
          ],
          [
           38700,
           1167000,
           "Chile"
          ],
          [
           88897,
           1020010,
           "China"
          ],
          [
           37603,
           1113000,
           "USA"
          ],
          [
           37586,
           3282000,
           "Argentina"
          ],
          [
           86787,
           228000,
           "Argentina"
          ],
          [
           89585,
           111500,
           "China"
          ],
          [
           89467,
           122400,
           "United Kingdom"
          ],
          [
           37384,
           24280000,
           "Chile"
          ],
          [
           36750,
           7700000,
           "USA"
          ],
          [
           92140,
           7328560,
           "Canada"
          ],
          [
           83014,
           4300000,
           "USA"
          ],
          [
           36866,
           2581000,
           "Serbia"
          ],
          [
           80026,
           846000,
           "USA"
          ],
          [
           37507,
           736000,
           "Canada"
          ],
          [
           91034,
           680000,
           "Ethiopia"
          ],
          [
           91495,
           583000,
           "Chile"
          ],
          [
           90710,
           574000,
           "China"
          ],
          [
           87489,
           180000,
           "Australia"
          ],
          [
           33967,
           129000,
           "Australia"
          ],
          [
           38460,
           129000,
           "Austria"
          ],
          [
           91065,
           227800,
           "Zimbabwe"
          ],
          [
           39374,
           135300,
           "Canada"
          ],
          [
           52581,
           3521000,
           "Chile"
          ],
          [
           78031,
           3449462,
           "Argentina"
          ],
          [
           37611,
           2901000,
           "Argentina"
          ],
          [
           83904,
           11217188,
           "Germany"
          ],
          [
           37059,
           9149000,
           "Argentina"
          ],
          [
           59768,
           8686000,
           "USA"
          ],
          [
           37326,
           6600000,
           "Australia"
          ],
          [
           78657,
           4300580,
           "Argentina"
          ],
          [
           91554,
           4164337,
           "Canada"
          ],
          [
           40251,
           2411000,
           "Argentina"
          ],
          [
           77807,
           2127000,
           "Argentina"
          ],
          [
           80115,
           2127000,
           "Argentina"
          ],
          [
           78512,
           2060000,
           "Australia"
          ],
          [
           84909,
           2028000,
           "Argentina"
          ],
          [
           83068,
           1874000,
           "USA"
          ],
          [
           37610,
           1430000,
           "Canada"
          ],
          [
           88362,
           1320036,
           "Argentina"
          ],
          [
           38557,
           1167000,
           "Zimbabwe"
          ],
          [
           90112,
           2545000,
           "Canada"
          ],
          [
           91458,
           933909,
           "USA"
          ],
          [
           32088,
           881052,
           "Canada"
          ],
          [
           78244,
           2737000,
           "Australia"
          ],
          [
           91863,
           1100000,
           "France"
          ],
          [
           31477,
           2700,
           "Australia"
          ],
          [
           78420,
           71700,
           "Dem. Rep. Congo"
          ],
          [
           83002,
           66500,
           "Thailand"
          ],
          [
           32016,
           62250,
           "Canada"
          ],
          [
           78206,
           58000,
           "Australia"
          ],
          [
           36956,
           37294,
           "Canada"
          ],
          [
           41752,
           4280,
           "Canada"
          ],
          [
           88960,
           871558,
           "China"
          ],
          [
           91648,
           861900,
           "United Kingdom"
          ],
          [
           90709,
           1730000,
           "Canada"
          ],
          [
           80111,
           99670,
           "Argentina"
          ],
          [
           33382,
           94500,
           "Canada"
          ],
          [
           91300,
           93482,
           "Canada"
          ],
          [
           36506,
           90896,
           "Canada"
          ],
          [
           37599,
           86000,
           "Canada"
          ],
          [
           89287,
           335713,
           "China"
          ],
          [
           90668,
           316000,
           "Canada"
          ],
          [
           37316,
           299000,
           "Canada"
          ],
          [
           77513,
           132328,
           "Namibia"
          ],
          [
           79246,
           124000,
           "USA"
          ],
          [
           32092,
           119000,
           "Canada"
          ],
          [
           32093,
           105006,
           "Canada"
          ],
          [
           37614,
           224255,
           "Finland"
          ],
          [
           79424,
           607600,
           "USA"
          ],
          [
           78963,
           293400,
           "Portugal"
          ],
          [
           78568,
           288960,
           "Argentina"
          ],
          [
           90669,
           279684,
           "Canada"
          ],
          [
           88726,
           266935,
           "USA"
          ],
          [
           89580,
           246000,
           "Australia"
          ],
          [
           37600,
           447000,
           "USA"
          ],
          [
           78022,
           337300,
           "Mali"
          ],
          [
           87696,
           185000,
           "Argentina"
          ],
          [
           38736,
           175000,
           "Canada"
          ],
          [
           37725,
           173000,
           "Canada"
          ],
          [
           29166,
           172600,
           "Canada"
          ],
          [
           30688,
           153000,
           "Australia"
          ],
          [
           88782,
           308000,
           "Argentina"
          ],
          [
           91333,
           714746,
           "Chile"
          ],
          [
           79236,
           640000,
           "Argentina"
          ],
          [
           37612,
           4768230,
           "Argentina"
          ],
          [
           51956,
           4659000,
           "Australia"
          ],
          [
           77623,
           606900,
           "Australia"
          ],
          [
           88872,
           432280,
           "Argentina"
          ],
          [
           65864,
           506000,
           "Canada"
          ],
          [
           78109,
           295700,
           "Argentina"
          ],
          [
           89508,
           514000,
           "Australia"
          ],
          [
           88380,
           122368,
           "USA"
          ],
          [
           79584,
           455000,
           "Ghana"
          ],
          [
           41737,
           131627,
           "Zimbabwe"
          ],
          [
           87450,
           1665288,
           "Argentina"
          ],
          [
           90473,
           150800,
           "Brazil"
          ],
          [
           78556,
           1076200,
           "Germany"
          ],
          [
           37518,
           75700,
           "Canada"
          ],
          [
           37452,
           84000,
           "Canada"
          ],
          [
           79614,
           85680,
           "Australia"
          ],
          [
           91750,
           843000,
           "Italy"
          ],
          [
           50510,
           740200,
           "Australia"
          ],
          [
           89282,
           766310,
           "Brazil"
          ],
          [
           80592,
           13400,
           "Australia"
          ],
          [
           84938,
           2500,
           "Australia"
          ],
          [
           37468,
           1131300,
           "Canada"
          ],
          [
           77505,
           2697332,
           "USA"
          ],
          [
           37174,
           880000,
           "Australia"
          ],
          [
           78577,
           892840,
           "Canada"
          ],
          [
           88127,
           948900,
           "Brazil"
          ],
          [
           36505,
           988000,
           "Canada"
          ],
          [
           91856,
           1028180,
           "Canada"
          ],
          [
           82881,
           1069000,
           "Brazil"
          ],
          [
           90024,
           2477800,
           "Canada"
          ],
          [
           89591,
           2514000,
           "USA"
          ],
          [
           77514,
           1313600,
           "USA"
          ],
          [
           91751,
           1337000,
           "USA"
          ],
          [
           89588,
           4500000,
           "USA"
          ],
          [
           38553,
           13490000,
           "Dem. Rep. Congo"
          ],
          [
           77055,
           2882457,
           "USA"
          ],
          [
           77553,
           1762248,
           "USA"
          ],
          [
           90509,
           1900000,
           "Argentina"
          ],
          [
           36265,
           1970000,
           "Canada"
          ],
          [
           77779,
           2077000,
           "Australia"
          ],
          [
           90021,
           8774405,
           "Canada"
          ],
          [
           78973,
           6936846,
           "Canada"
          ],
          [
           52372,
           6108480,
           "Argentina"
          ],
          [
           82692,
           3180000,
           "Argentina"
          ],
          [
           77208,
           3690000,
           "Mali"
          ]
         ],
         "geo": "geo",
         "hovertemplate": "Primary Mineral=Lithium<br>size=%{marker.size}<br>Latitude (degrees)=%{lat}<br>Longitude (degrees)=%{lon}<br>Property ID=%{customdata[0]}<br>Primary Reserves and Resources=%{customdata[1]}<br>Country/Region=%{customdata[2]}<extra></extra>",
         "lat": {
          "bdata": "9DKK5ZayQkCL4H8r2eE6wOjZrPpcRUNAmnecoiM1RUAUs14M5QxLQB7htOBFrzfAH4XrUbgOOMDKN9vcmLY9QJsg6j4AwTpAKh2s/3PcQkDjNhrAW3A3QFitTPilPjnAi2zn+6ltS0As8YCyKTc1wNRgGoaPSEFAc4Bgjh43REAO+PwwQgRAwEKVmj3QukNA+ie4WFEDNcCm1ZC4x1pBQDBMpgpGbTfAY9F0djKQOcDfT42XbuJCQFQAjGfQXElAHSCYo8ebQkB1PGagMsYxwEUvo1huWT9AQ8pPqn2yQUAnMQisHOo6wLtE9dbA/kJAf4eiQJ+cQUAqxvmbUNA4wEmdgCbCljjA9ODurN2+P0CNXaJ6azBJQM3MzMzMjDfAOzYC8braREAziuWWVsdJQGvUQzS6E0NA1NSytb5ERkAeigJ9IttCQKyL22gA10lA4PPDCOHRFUDg88MI4Tk1wHWw/s9hCkZAiC6ob5kTNcCeXinLEN8/wEmdgCbCakdAs7W+SGhTMsDiHksfurhIQDHrxVBOpDfAE36pnzddO8CcpzrkZlg5wAkWhzO/vkhA845TdCR3N8AFbt3NUwVFQBPVWwNb7UDAgUOoUrN/OsA7AU2EDdtJQP2k2qfjwTfANZiG4SOSOMCX4qqy77I4wBvYKsHiMDXA7xtfe2YJOcC2oWKcv51AQC9uowG8HUpA+kSeJF2LN8C8eapDbvYzwIXrUbgehUhAZeQs7GnjQkCGyVTBqE5KQJ+T3je+CkDAQfFjzF0XR0DMejGUE7U7wLr3cMlxRx3AeO49XHKcIECUTbnCuzhJQHpTkQpjWynAI9v5fmq0SEDP91PjpU9JQKshcY+l/z9AzR5oBYYwSUA3bFuU2UBNQFlpUgq6/TjAqoJRSZ1QSUBvEoPAyj1LQMUbmUf+bEtAKqkT0EToSEBi83FtqDg5QHQHsTOF2khAwhIPKJsCSkAe/pqsUe83wMaKGkzDYEFAmKPH723+RUATJ/c7FC1JQBYwgVt3z09AVOOlm8RIQ0C9++O9as1EQFtCPujZHDjAxr/PuHDUSEBi83FtqAxDQDLmriXkgzjAUAEwnkHjQkBbttYXCa0mQBh47j1cUjjANV66SQwiSUDHndLB+ndJQG5uTE9YLkhAx9eeWRLIQMDt0/GYgXo4wGZmZmZm5jrAKEnXTL45OcCjI7n8h2Q5wE2+2ebGDDXA3dJqSNxjKcDGhQMhWfA6wArXo3A9Sk9AFeP8TSg0OMC4O2u3XeA+wGXHRiBe50JAHy457pT+FECnkZbK2wk0wGlXIeUnxTjA43DmV3MgMMDKVMGopF5JQO5aQj7opUhAw4GQLGD2SUD52jNLAsQ/wFtCPujZDEVApmH4iJiqNMD+JhQi4MgwwLLa/L/qcD/AeXWOAdlTPcCFtpxLcV1JQFfsL7sn30JATfOOU3QUP8D8471qZaZKQGCrBIvDITDAMXxETIk0SECpnzcVqZhIQBLaci7FvTDA001iEFh9S0CkpfJ2hA9DQHiXi/hO6EJAhj3t8NcQQ0Add0oH69dEQFjiAWVTTh3Az2vsEtW3QkAep+hILuNCQML6P4f5AjnAyXGndLDCSkBHIF7XL3g7wHWr56T3EUtAbCbfbHPjSUA6deWzPBc5wLbbLjTXeTnAbypSYWyxJkA=",
          "dtype": "f8"
         },
         "legendgroup": "Lithium",
         "lon": {
          "bdata": "I/jfSnaEV0ANiXssfR5RwAJlU67wcFvASPlJtU+XIMDk9zb92SddwPZdEfxvf1DASOF6FK7HUMDcnbXbLkpbwHXlszwPDF1AwYu+gjRlXcCgbMoV3rdZwGcng6Pkr1DAPrMkQE3pWMCGIAclzMQtQK9fsBu2VVzAeHqlLENcHcCM1lHVBINeQCkF3V7SWBnAA8+9h0u6XUBmg0wycmRcwJMANbVsqVDAPNo4Yi24UMBiZwqd12BdwPFL/bypiCtAWKg1zTtCXcC4BrZKsGg/QD24O2u3/VRATmIQWDlSVMDDR8SUSERRwCwrTUpBa1dA/IwLB0JWVMBPBkfJqxNRwDsZHCWvplDA61bPSe9zWUA82jhiLX4TwHE9CtejGFHAjXqIRneEXcDRlnMprhBcwPM8uDtrUV3A5nlwd9ZWM0Ci7gOQ2mJdwBsqxvmb9lLAtMh2vp+CQ0DufD81XhRRwDFCeLRxXF1AFVeVfVf2XUDa5sb0hGleQM0GmWTk/C1Ar+sX7IYNO0Bv9Zz0vv9VwB8uOe6UFFHAqmVrfZEqUcACmggbnrxQwD9SRIZVLCFAG4F4Xb+wUMBdp5GWyoNdwCvB4nDmA11A6BN5knTbUMBhTzv8NUtbwGr7V1aaslDArMWnABitUMDfFcH/VrRQwBBAahMnq11A0sYRa/HHUMB6GcVyS2NXwO7rwDkjRFPALq2GxD2oUMBpdAexM20/QEaZDTLJ5lnAHPD5YYReXcAVdHtJY1dXwOC593DJ711A1CtlGeKYB0Bj0XR2Mk5dQGOcvwmFaDtA0xOWeECZWEAdlDDT9ttXwFSp2QOtV2BAr5RliGP9VsADQ1a3et5SwH5v05/9BFVAe9rhr8k6E8BI+Um1T9NdwLxcxHdiDFHAlPsdigLnV8Dhl/p5U1ldwBaHM7+a7VjAH4DUJk4qV8CB7PXuj/lbQJvJN9vc6lnArir7rggKU8CNf59x4eAxQGoYPiKmGl3AbAn5oGd/UMDBVgkWhxtWwBSuR+F6JDhAgpAsYAJvW8CvmXyzzQ0fwOLplbIMy1DAlQ7W/znGWcCdEaW9wVNdwDbNO07REV1Auw9AahNlXcCOrz2zJGAewB4Wak3z5lDAb9Of/UilV8BZhjjWxetWwAqFCDiEjFPAJ2vUQzQCXkA6r7FLVMFQwAETuHU3G1HAG7tE9da+UMC6LCY2H8NQwANbJVgcul1A3xXB/1ZZYEA50a5CygdRwOOlm8QgYFzAL4Zyol2/UMBcrKjBNKJeQPryAuyjZV3At5vgm6bP8r85nPnVHGg9QExUbw1s7VDAURToE3kORcCFmbZ/ZZUrQCY2H9eG/FXAmnyzzY0/U8DPvYdLjuVdQBdIUPwYsyhAFO0qpPy6XUArE36pn/NEwEC+hAoOY15AajANw0dqXUDElEiil7lSwGGOHr+3YV3AGqiMf59bXkCM1lHVBB9SwIjX9Qt2D0XAdTxmoDJ0U8AOZ341B8hZwCvB4nDm80TAih9j7lpOXcBM/bypSFtdwPg2/dmPdl3Ayk+qfTpQW8CoABjPoKNcwO3YCMTrYjtA41MAjGdaXcDboswGmWBdwMP1KFyPFFHAqwmi7gN8UsDkoISZtiNeQAQEc/T4Q13AZ0Rpb/B7XMBAGHjuPbRQwLdFmQ0yyVDAghyUMNPWH8A=",
          "dtype": "f8"
         },
         "marker": {
          "color": "#00cc96",
          "size": {
           "bdata": "cOpM7imne0B8flOAjc18QJ10uop9flpAOQGfS2EWbUC0O0jN4JSLQGRXFSAIcnNAKdFV4ziwnEBUr4L6TX2dQGz0K5/rH2lAJ83K9V2KckCXMy7SypBzQFm97O0IcoxAaCkbQK2/WEAuUd4xY9psQFixOszHHXFAOJNAEp46bEB3QQNVnsx3QFvichD4xIlAqdk8Ktu3hUBGDmzN4Yh2QDZU5DDroKhAWanh/LNxgECEThZM8LF+QENKroalBJtAsw5vhUiWpkALGjarooOLQCT0djpbS4lA2Fabl56JhUA1b2poHOGQQC9QHsCkj49AjtAC3vN7kEA9CxUzhE6cQJZqizHl131AtvxjlKjedEBoadi8tt11QFMv7Vd5P7NA3BJXV8atpUCf38Q8QyalQOk4G8xJM6BAH4RlRjIamUAw8+C6Qr6MQA40bkI8z4pAW+JyEPjEiUDsw/TcWtyHQJq8X+QFrYdAFBodoDmEekAE8/W0pnJ2QATz9bSmcnZAW6VJMYvUfUC93UfBTf12QLAYOiy7UZ1AExP8RhcFnUAtDXLL7ZyaQLyQHwVqKqpAb8sleXahp0C/VMx0ZwanQDEA6dAXEqRAdVn2ZZEzoEAvXgfSruKfQONjTEP1QphAz1tj+rHJlkDPW2P6scmWQDrWWn0UbZZAJYB/iVBAlkCuyRDJw2OVQHeIbOZNr5JAPt4PebbzkUA1b2poHOGQQCkJtfI47ZhARhjbDB4zjkDosG1NJlWNQGnMPWuN2ZlA7NixQjxjkEDgx9I5E/tJQNmtMQJMvHBAnxDJ2AMecEDAU1Ll+y9vQG8CFdueGm5AqyLWvLojaEAZQ3lH/VpQQI/hneeULI1A3fih5xUDjUBNeRq3LY2UQOHpQvhJu3NA8RhkT4k2c0DN1g/i+BtzQKn2fIvV13JAtDl//R5UckCZqEJ4QhuCQG6k9zQckYFArzVzrXgWgUCuVit4Trx2QMdb828uAnZAaOselmuPdUDepbedvUB0QJ7EkiTkmH1A7pPqZeVbiECOfwAVUO2AQHdLLmVmzIBA0j9QDNCGgEAeUGmdQiWAQCN5Ne+9/35ALDpICqXkhEDCLnfnMyaCQAry9Tbc4XpAxtL9u0clekAlBw9J7P55QL9qnJg593lA68/fLm9yeEDj23jf0VeBQKY/GINpa4pAAAAAAAAAiUCR1O1jQQ+hQLoUPoDx3KBAiQzQjU1YiEBTGgQe14uEQMLbVrSxOoZAQS8VrUP+gEDUZhnjgGeGQN8FO2f73HVAJBDHhksUhUBDolaj3qx2QMW6oW7XKZRAu1MLr0ZFeECFEEU2mjWQQOPTM2guMnFAiJ9ClT0dckAZvAAmYktyQCJ5FdgzsYxAqdIVRsriikDPumt3IVuLQO1IPx6J8FxAAAAAAAAASUCPHyLlgJ6QQDfSCilsqZlAZceTS6pQjUBOaCWGN4eNQFvHLXzrcI5AVr7D6doPj0Du5JbX76+PQAyKZMCyJ5BAyZuhY2mYmEABxi5GPcaYQDt7T+B+6JFAC2muDSYRkkBMMBIEpJKgQGoD6D+/saxAbADZvR6HmkA4Y23R/L2UQNhWm5eeiZVAeGJwfUTulUBf/cxkuISWQElNHA5TJKdAUf83HZSTpEDM7SRgEU+jQEApsJQF3ZtA1H4HxL8DnkA=",
           "dtype": "f8"
          },
          "sizemode": "area",
          "sizeref": 30.486588834525783,
          "symbol": "circle"
         },
         "mode": "markers",
         "name": "Lithium",
         "showlegend": true,
         "type": "scattergeo"
        },
        {
         "customdata": [
          [
           83716,
           15000000,
           "Namibia"
          ],
          [
           60351,
           17100000,
           "Namibia"
          ],
          [
           56921,
           14200000,
           "Australia"
          ],
          [
           65917,
           42700000,
           "Gabon"
          ],
          [
           57502,
           221800000,
           "Kazakhstan"
          ],
          [
           57500,
           5600000,
           "Kazakhstan"
          ],
          [
           55692,
           3300000,
           "Brazil"
          ],
          [
           67247,
           51183000,
           "South Africa"
          ],
          [
           57562,
           20000000,
           "Australia"
          ],
          [
           68558,
           160000000,
           "Ukraine"
          ],
          [
           61015,
           135488474,
           "Canada"
          ],
          [
           67618,
           13970000,
           "Togo"
          ],
          [
           32611,
           9300000,
           "Brazil"
          ],
          [
           52858,
           7800000,
           "Australia"
          ],
          [
           85867,
           59460000,
           "South Africa"
          ],
          [
           85871,
           100000000,
           "South Africa"
          ],
          [
           56047,
           8200000,
           "Brazil"
          ],
          [
           85887,
           7650000,
           "India"
          ],
          [
           59949,
           57500000,
           "Australia"
          ],
          [
           81746,
           26960000,
           "Czechia"
          ],
          [
           61022,
           62860000,
           "Canada"
          ],
          [
           91434,
           9246700,
           "China"
          ],
          [
           60260,
           176650000,
           "Australia"
          ],
          [
           91432,
           9225100,
           "China"
          ],
          [
           59778,
           6190000,
           "China"
          ],
          [
           88375,
           1200000,
           "Australia"
          ],
          [
           58513,
           312000000,
           "Australia"
          ],
          [
           80211,
           14700000,
           "Botswana"
          ],
          [
           68328,
           11149000,
           "USA"
          ],
          [
           86623,
           48100000,
           "South Africa"
          ],
          [
           59003,
           30264753,
           "Chile"
          ],
          [
           63293,
           20950000,
           "China"
          ],
          [
           53686,
           752840000,
           "South Africa"
          ],
          [
           62246,
           15640000,
           "Gabon"
          ],
          [
           74801,
           107750000,
           "India"
          ],
          [
           59772,
           427901624,
           "South Africa"
          ],
          [
           54303,
           416000000,
           "Gabon"
          ],
          [
           92742,
           98983760,
           "Brazil"
          ],
          [
           59345,
           200000000,
           "South Africa"
          ],
          [
           59777,
           58760000,
           "China"
          ]
         ],
         "geo": "geo",
         "hovertemplate": "Primary Mineral=Manganese<br>size=%{marker.size}<br>Latitude (degrees)=%{lat}<br>Longitude (degrees)=%{lon}<br>Property ID=%{customdata[0]}<br>Primary Reserves and Resources=%{customdata[1]}<br>Country/Region=%{customdata[2]}<extra></extra>",
         "lat": {
          "bdata": "qYdodAcpNcDsUbgehSs1wJT7HYoCHTbAlYJuL2mM+r/hehSuRyFIQM/3U+OlK0hAzczMzMzM7D+4rwPnjAg8wJzEILByyDbATDeJQWDVR0DXo3A9ChdHQAQ5KGGmfSVAxVVl3xUxM8BKDAIrhxY2wJdWQ+Ie+zvAba0vEtoqPMDD9Shcj6I0wBWpMLYQfDZAY7SOqiaAN8DGM2jonwRJQBu7RPXWHEdAOjsZHCWHQ0AErcCQ1U03wIE+kSdJZ0NAC5jArbtJN0Bt/8pKkxI1wMiYu5aQTzbAEEBqEyf/OMCjryDNWGBHQIsyG2SSMTvACtejcD0KMsAjZ2FPO6Q7QHtmSYCaIjvAMzMzMzMzsz+amZmZmdk1QBsv3SQGYTvADAIrhxbZ+L+a6zTSUhk0wDG2EOSgNDvAZmZmZmbmNkA=",
          "dtype": "f8"
         },
         "legendgroup": "Manganese",
         "lon": {
          "bdata": "443MI3/wMUCiRbbz/RQyQMwolltaR15A5BQdyeU/K0DsUbgehYtRQEJg5dAic1FAAAAAAAAASsCD+pY5XQY3QJqZmZmZOV5Ake18PzUOQUApXI/C9ehQwHjuPVxy3Ns/dqbQeY3NTMA8vVKWISZeQKnZA63ACDdAWoEhq1sFN0DfT42XbuJFwA7bFmU2clJAUPwYc9csXkBvRzgteOEuQESoUrMH6FDAkElGzsKYUkDPTgZHySteQPKwUGuav1JAf7xXrUzKWkCgibDh6T1eQGDI6lbPM15An82qz9VOOUANbJVgcX5XwJfiqrLv6jZAuB6F61FoUcDMlxdgH71aQD1hiQeU3TZAcT0K16PwJUA730+Nlw5UQGQ730+N9zZAUI2XbhKDKkDiOzHrxXBFwHE9Ctej+DZAW86luKqqWkA=",
          "dtype": "f8"
         },
         "marker": {
          "color": "#ab63fa",
          "size": {
           "bdata": "AXMnefdBrkAigbTxNiewQFr8PdWTcK1ASCtGEYaGuUBWl+7FeRbNQLNvuyPdfKJAtpunYFxinEC7fbXBOvK7QOxk8s0ieLFALz15KY60yECFgBXP+bvGQHZMOOpKM61Ar4xbJi7Tp0B8EDQustGlQPZQg/MHH75AAAAAAACIw0DBLHvgIF+mQJ32VAe6m6VA4/IZHeCevUA3lX9PTUi0QJOFHgtu+L5AyFQZaq3Bp0BkY4W4fPXJQK9Q0+eRuqdAIcblLvFvo0BYsTrMxx2RQF1dEWThP9FAWbZmpR30rUBZgpAOBhaqQEH2KJZqF7tAPT76TFd9tUDYMXzzHeGxQJOBUYR7y9pARrHR63zlrkDHkAmHIkbEQJKQ6x5yM9RA18LX/gTr00DAUqJ0h27DQH9QHlwRn8tAtPcm1YHxvUA=",
           "dtype": "f8"
          },
          "sizemode": "area",
          "sizeref": 30.486588834525783,
          "symbol": "circle"
         },
         "mode": "markers",
         "name": "Manganese",
         "showlegend": true,
         "type": "scattergeo"
        }
       ],
       "layout": {
        "font": {
         "size": 20
        },
        "geo": {
         "center": {},
         "domain": {
          "x": [
           0,
           1
          ],
          "y": [
           0,
           1
          ]
         }
        },
        "legend": {
         "itemsizing": "constant",
         "title": {
          "text": "Primary Mineral"
         },
         "tracegroupgap": 0
        },
        "margin": {
         "b": 20,
         "l": 1,
         "r": 2,
         "t": 50
        },
        "template": {
         "data": {
          "bar": [
           {
            "error_x": {
             "color": "#2a3f5f"
            },
            "error_y": {
             "color": "#2a3f5f"
            },
            "marker": {
             "line": {
              "color": "#E5ECF6",
              "width": 0.5
             },
             "pattern": {
              "fillmode": "overlay",
              "size": 10,
              "solidity": 0.2
             }
            },
            "type": "bar"
           }
          ],
          "barpolar": [
           {
            "marker": {
             "line": {
              "color": "#E5ECF6",
              "width": 0.5
             },
             "pattern": {
              "fillmode": "overlay",
              "size": 10,
              "solidity": 0.2
             }
            },
            "type": "barpolar"
           }
          ],
          "carpet": [
           {
            "aaxis": {
             "endlinecolor": "#2a3f5f",
             "gridcolor": "white",
             "linecolor": "white",
             "minorgridcolor": "white",
             "startlinecolor": "#2a3f5f"
            },
            "baxis": {
             "endlinecolor": "#2a3f5f",
             "gridcolor": "white",
             "linecolor": "white",
             "minorgridcolor": "white",
             "startlinecolor": "#2a3f5f"
            },
            "type": "carpet"
           }
          ],
          "choropleth": [
           {
            "colorbar": {
             "outlinewidth": 0,
             "ticks": ""
            },
            "type": "choropleth"
           }
          ],
          "contour": [
           {
            "colorbar": {
             "outlinewidth": 0,
             "ticks": ""
            },
            "colorscale": [
             [
              0,
              "#0d0887"
             ],
             [
              0.1111111111111111,
              "#46039f"
             ],
             [
              0.2222222222222222,
              "#7201a8"
             ],
             [
              0.3333333333333333,
              "#9c179e"
             ],
             [
              0.4444444444444444,
              "#bd3786"
             ],
             [
              0.5555555555555556,
              "#d8576b"
             ],
             [
              0.6666666666666666,
              "#ed7953"
             ],
             [
              0.7777777777777778,
              "#fb9f3a"
             ],
             [
              0.8888888888888888,
              "#fdca26"
             ],
             [
              1,
              "#f0f921"
             ]
            ],
            "type": "contour"
           }
          ],
          "contourcarpet": [
           {
            "colorbar": {
             "outlinewidth": 0,
             "ticks": ""
            },
            "type": "contourcarpet"
           }
          ],
          "heatmap": [
           {
            "colorbar": {
             "outlinewidth": 0,
             "ticks": ""
            },
            "colorscale": [
             [
              0,
              "#0d0887"
             ],
             [
              0.1111111111111111,
              "#46039f"
             ],
             [
              0.2222222222222222,
              "#7201a8"
             ],
             [
              0.3333333333333333,
              "#9c179e"
             ],
             [
              0.4444444444444444,
              "#bd3786"
             ],
             [
              0.5555555555555556,
              "#d8576b"
             ],
             [
              0.6666666666666666,
              "#ed7953"
             ],
             [
              0.7777777777777778,
              "#fb9f3a"
             ],
             [
              0.8888888888888888,
              "#fdca26"
             ],
             [
              1,
              "#f0f921"
             ]
            ],
            "type": "heatmap"
           }
          ],
          "histogram": [
           {
            "marker": {
             "pattern": {
              "fillmode": "overlay",
              "size": 10,
              "solidity": 0.2
             }
            },
            "type": "histogram"
           }
          ],
          "histogram2d": [
           {
            "colorbar": {
             "outlinewidth": 0,
             "ticks": ""
            },
            "colorscale": [
             [
              0,
              "#0d0887"
             ],
             [
              0.1111111111111111,
              "#46039f"
             ],
             [
              0.2222222222222222,
              "#7201a8"
             ],
             [
              0.3333333333333333,
              "#9c179e"
             ],
             [
              0.4444444444444444,
              "#bd3786"
             ],
             [
              0.5555555555555556,
              "#d8576b"
             ],
             [
              0.6666666666666666,
              "#ed7953"
             ],
             [
              0.7777777777777778,
              "#fb9f3a"
             ],
             [
              0.8888888888888888,
              "#fdca26"
             ],
             [
              1,
              "#f0f921"
             ]
            ],
            "type": "histogram2d"
           }
          ],
          "histogram2dcontour": [
           {
            "colorbar": {
             "outlinewidth": 0,
             "ticks": ""
            },
            "colorscale": [
             [
              0,
              "#0d0887"
             ],
             [
              0.1111111111111111,
              "#46039f"
             ],
             [
              0.2222222222222222,
              "#7201a8"
             ],
             [
              0.3333333333333333,
              "#9c179e"
             ],
             [
              0.4444444444444444,
              "#bd3786"
             ],
             [
              0.5555555555555556,
              "#d8576b"
             ],
             [
              0.6666666666666666,
              "#ed7953"
             ],
             [
              0.7777777777777778,
              "#fb9f3a"
             ],
             [
              0.8888888888888888,
              "#fdca26"
             ],
             [
              1,
              "#f0f921"
             ]
            ],
            "type": "histogram2dcontour"
           }
          ],
          "mesh3d": [
           {
            "colorbar": {
             "outlinewidth": 0,
             "ticks": ""
            },
            "type": "mesh3d"
           }
          ],
          "parcoords": [
           {
            "line": {
             "colorbar": {
              "outlinewidth": 0,
              "ticks": ""
             }
            },
            "type": "parcoords"
           }
          ],
          "pie": [
           {
            "automargin": true,
            "type": "pie"
           }
          ],
          "scatter": [
           {
            "fillpattern": {
             "fillmode": "overlay",
             "size": 10,
             "solidity": 0.2
            },
            "type": "scatter"
           }
          ],
          "scatter3d": [
           {
            "line": {
             "colorbar": {
              "outlinewidth": 0,
              "ticks": ""
             }
            },
            "marker": {
             "colorbar": {
              "outlinewidth": 0,
              "ticks": ""
             }
            },
            "type": "scatter3d"
           }
          ],
          "scattercarpet": [
           {
            "marker": {
             "colorbar": {
              "outlinewidth": 0,
              "ticks": ""
             }
            },
            "type": "scattercarpet"
           }
          ],
          "scattergeo": [
           {
            "marker": {
             "colorbar": {
              "outlinewidth": 0,
              "ticks": ""
             }
            },
            "type": "scattergeo"
           }
          ],
          "scattergl": [
           {
            "marker": {
             "colorbar": {
              "outlinewidth": 0,
              "ticks": ""
             }
            },
            "type": "scattergl"
           }
          ],
          "scattermap": [
           {
            "marker": {
             "colorbar": {
              "outlinewidth": 0,
              "ticks": ""
             }
            },
            "type": "scattermap"
           }
          ],
          "scattermapbox": [
           {
            "marker": {
             "colorbar": {
              "outlinewidth": 0,
              "ticks": ""
             }
            },
            "type": "scattermapbox"
           }
          ],
          "scatterpolar": [
           {
            "marker": {
             "colorbar": {
              "outlinewidth": 0,
              "ticks": ""
             }
            },
            "type": "scatterpolar"
           }
          ],
          "scatterpolargl": [
           {
            "marker": {
             "colorbar": {
              "outlinewidth": 0,
              "ticks": ""
             }
            },
            "type": "scatterpolargl"
           }
          ],
          "scatterternary": [
           {
            "marker": {
             "colorbar": {
              "outlinewidth": 0,
              "ticks": ""
             }
            },
            "type": "scatterternary"
           }
          ],
          "surface": [
           {
            "colorbar": {
             "outlinewidth": 0,
             "ticks": ""
            },
            "colorscale": [
             [
              0,
              "#0d0887"
             ],
             [
              0.1111111111111111,
              "#46039f"
             ],
             [
              0.2222222222222222,
              "#7201a8"
             ],
             [
              0.3333333333333333,
              "#9c179e"
             ],
             [
              0.4444444444444444,
              "#bd3786"
             ],
             [
              0.5555555555555556,
              "#d8576b"
             ],
             [
              0.6666666666666666,
              "#ed7953"
             ],
             [
              0.7777777777777778,
              "#fb9f3a"
             ],
             [
              0.8888888888888888,
              "#fdca26"
             ],
             [
              1,
              "#f0f921"
             ]
            ],
            "type": "surface"
           }
          ],
          "table": [
           {
            "cells": {
             "fill": {
              "color": "#EBF0F8"
             },
             "line": {
              "color": "white"
             }
            },
            "header": {
             "fill": {
              "color": "#C8D4E3"
             },
             "line": {
              "color": "white"
             }
            },
            "type": "table"
           }
          ]
         },
         "layout": {
          "annotationdefaults": {
           "arrowcolor": "#2a3f5f",
           "arrowhead": 0,
           "arrowwidth": 1
          },
          "autotypenumbers": "strict",
          "coloraxis": {
           "colorbar": {
            "outlinewidth": 0,
            "ticks": ""
           }
          },
          "colorscale": {
           "diverging": [
            [
             0,
             "#8e0152"
            ],
            [
             0.1,
             "#c51b7d"
            ],
            [
             0.2,
             "#de77ae"
            ],
            [
             0.3,
             "#f1b6da"
            ],
            [
             0.4,
             "#fde0ef"
            ],
            [
             0.5,
             "#f7f7f7"
            ],
            [
             0.6,
             "#e6f5d0"
            ],
            [
             0.7,
             "#b8e186"
            ],
            [
             0.8,
             "#7fbc41"
            ],
            [
             0.9,
             "#4d9221"
            ],
            [
             1,
             "#276419"
            ]
           ],
           "sequential": [
            [
             0,
             "#0d0887"
            ],
            [
             0.1111111111111111,
             "#46039f"
            ],
            [
             0.2222222222222222,
             "#7201a8"
            ],
            [
             0.3333333333333333,
             "#9c179e"
            ],
            [
             0.4444444444444444,
             "#bd3786"
            ],
            [
             0.5555555555555556,
             "#d8576b"
            ],
            [
             0.6666666666666666,
             "#ed7953"
            ],
            [
             0.7777777777777778,
             "#fb9f3a"
            ],
            [
             0.8888888888888888,
             "#fdca26"
            ],
            [
             1,
             "#f0f921"
            ]
           ],
           "sequentialminus": [
            [
             0,
             "#0d0887"
            ],
            [
             0.1111111111111111,
             "#46039f"
            ],
            [
             0.2222222222222222,
             "#7201a8"
            ],
            [
             0.3333333333333333,
             "#9c179e"
            ],
            [
             0.4444444444444444,
             "#bd3786"
            ],
            [
             0.5555555555555556,
             "#d8576b"
            ],
            [
             0.6666666666666666,
             "#ed7953"
            ],
            [
             0.7777777777777778,
             "#fb9f3a"
            ],
            [
             0.8888888888888888,
             "#fdca26"
            ],
            [
             1,
             "#f0f921"
            ]
           ]
          },
          "colorway": [
           "#636efa",
           "#EF553B",
           "#00cc96",
           "#ab63fa",
           "#FFA15A",
           "#19d3f3",
           "#FF6692",
           "#B6E880",
           "#FF97FF",
           "#FECB52"
          ],
          "font": {
           "color": "#2a3f5f"
          },
          "geo": {
           "bgcolor": "white",
           "lakecolor": "white",
           "landcolor": "#E5ECF6",
           "showlakes": true,
           "showland": true,
           "subunitcolor": "white"
          },
          "hoverlabel": {
           "align": "left"
          },
          "hovermode": "closest",
          "mapbox": {
           "style": "light"
          },
          "paper_bgcolor": "white",
          "plot_bgcolor": "#E5ECF6",
          "polar": {
           "angularaxis": {
            "gridcolor": "white",
            "linecolor": "white",
            "ticks": ""
           },
           "bgcolor": "#E5ECF6",
           "radialaxis": {
            "gridcolor": "white",
            "linecolor": "white",
            "ticks": ""
           }
          },
          "scene": {
           "xaxis": {
            "backgroundcolor": "#E5ECF6",
            "gridcolor": "white",
            "gridwidth": 2,
            "linecolor": "white",
            "showbackground": true,
            "ticks": "",
            "zerolinecolor": "white"
           },
           "yaxis": {
            "backgroundcolor": "#E5ECF6",
            "gridcolor": "white",
            "gridwidth": 2,
            "linecolor": "white",
            "showbackground": true,
            "ticks": "",
            "zerolinecolor": "white"
           },
           "zaxis": {
            "backgroundcolor": "#E5ECF6",
            "gridcolor": "white",
            "gridwidth": 2,
            "linecolor": "white",
            "showbackground": true,
            "ticks": "",
            "zerolinecolor": "white"
           }
          },
          "shapedefaults": {
           "line": {
            "color": "#2a3f5f"
           }
          },
          "ternary": {
           "aaxis": {
            "gridcolor": "white",
            "linecolor": "white",
            "ticks": ""
           },
           "baxis": {
            "gridcolor": "white",
            "linecolor": "white",
            "ticks": ""
           },
           "bgcolor": "#E5ECF6",
           "caxis": {
            "gridcolor": "white",
            "linecolor": "white",
            "ticks": ""
           }
          },
          "title": {
           "x": 0.05
          },
          "xaxis": {
           "automargin": true,
           "gridcolor": "white",
           "linecolor": "white",
           "ticks": "",
           "title": {
            "standoff": 15
           },
           "zerolinecolor": "white",
           "zerolinewidth": 2
          },
          "yaxis": {
           "automargin": true,
           "gridcolor": "white",
           "linecolor": "white",
           "ticks": "",
           "title": {
            "standoff": 15
           },
           "zerolinecolor": "white",
           "zerolinewidth": 2
          }
         }
        },
        "title": {
         "text": "Map of Reserves"
        }
       }
      }
     },
     "metadata": {},
     "output_type": "display_data"
    }
   ],
   "source": [
    "\n",
    "\n",
    "non_lanthanides_df = combined[combined[\"Primary Mineral\"] != \"Lanthanides\"]\n",
    "\n",
    "sqrt_reserves = np.sqrt(non_lanthanides_df[\"Primary Reserves and Resources\"])\n",
    "\n",
    "reserve_map = px.scatter_geo(non_lanthanides_df, lat=\"Latitude (degrees)\", lon=\"Longitude (degrees)\", color=\"Primary Mineral\", \n",
    "                    size=sqrt_reserves,\n",
    "                    size_max=30, hover_data=[\"Property ID\",\"Primary Reserves and Resources\", \"Country/Region\"],)\n",
    "\n",
    "reserve_map.update_layout(title=\"Map of Reserves\",margin=dict(l=1, r=2, t=50, b=20), font=dict(size=20))\n",
    "reserve_map.show()"
   ]
  },
  {
   "cell_type": "code",
   "execution_count": 39,
   "id": "7ee6cb03",
   "metadata": {},
   "outputs": [],
   "source": [
    "reserve_map.write_html('./graphs/reserves_map.html')"
   ]
  },
  {
   "cell_type": "code",
   "execution_count": 22,
   "id": "1e78da9e",
   "metadata": {},
   "outputs": [
    {
     "data": {
      "application/vnd.plotly.v1+json": {
       "config": {
        "plotlyServerURL": "https://plot.ly"
       },
       "data": [
        {
         "customdata": [
          [
           38107,
           1357,
           "USA"
          ],
          [
           31805,
           56940000,
           "China"
          ],
          [
           37453,
           62000,
           "Canada"
          ],
          [
           40030,
           23000,
           "Mozambique"
          ],
          [
           37956,
           479493,
           "Canada"
          ],
          [
           37532,
           108000,
           "Australia"
          ],
          [
           33307,
           143000,
           "Greenland"
          ],
          [
           39206,
           197000,
           "Canada"
          ],
          [
           40753,
           297442,
           "USA"
          ],
          [
           38638,
           235150,
           "Australia"
          ],
          [
           49767,
           47790,
           "Sweden"
          ],
          [
           40279,
           18352000,
           "Canada"
          ],
          [
           37033,
           107000,
           "Canada"
          ],
          [
           37116,
           89800,
           "South Africa"
          ],
          [
           40426,
           1193040,
           "Brazil"
          ],
          [
           37809,
           561936,
           "Madagascar"
          ],
          [
           68196,
           1100000,
           "Brazil"
          ],
          [
           38198,
           3877020,
           "Canada"
          ],
          [
           27405,
           4406200,
           "Canada"
          ],
          [
           38201,
           236140,
           "Canada"
          ],
          [
           37949,
           4620000,
           "Tanzania"
          ],
          [
           49510,
           16000000,
           "Japan"
          ],
          [
           26008,
           1817000,
           "Canada"
          ],
          [
           37044,
           1890000,
           "Russia"
          ],
          [
           35226,
           35154,
           "USA"
          ],
          [
           38568,
           83200,
           "Australia"
          ],
          [
           34407,
           1463000,
           "Australia"
          ],
          [
           88834,
           1258,
           "China"
          ],
          [
           88832,
           50,
           "China"
          ],
          [
           88831,
           30,
           "China"
          ],
          [
           37321,
           550000,
           "Sweden"
          ],
          [
           36357,
           93630,
           "Canada"
          ],
          [
           40031,
           66647,
           "USA"
          ],
          [
           88833,
           260,
           "China"
          ],
          [
           88830,
           220,
           "China"
          ],
          [
           37084,
           14880,
           "Namibia"
          ],
          [
           88061,
           85000,
           "Australia"
          ],
          [
           50939,
           768000,
           "Angola"
          ],
          [
           38781,
           663552,
           "Malawi"
          ],
          [
           88770,
           2936,
           "Australia"
          ],
          [
           37035,
           314000,
           "USA"
          ],
          [
           37049,
           70200,
           "Australia"
          ],
          [
           88756,
           329000,
           "Mozambique"
          ],
          [
           92547,
           1200000,
           "Norway"
          ],
          [
           89403,
           2201600,
           "Mongolia"
          ],
          [
           91249,
           20000,
           "Australia"
          ],
          [
           88663,
           16000,
           "Australia"
          ],
          [
           90695,
           14000,
           "Australia"
          ],
          [
           24576,
           2332372,
           "USA"
          ],
          [
           67683,
           8800000,
           "Norway"
          ],
          [
           66713,
           202000,
           "Australia"
          ],
          [
           89574,
           263380,
           "Australia"
          ],
          [
           87804,
           177000,
           "Australia"
          ],
          [
           26974,
           4962181,
           "Australia"
          ],
          [
           36744,
           5582300,
           "Malawi"
          ],
          [
           92600,
           6602000,
           "Brazil"
          ],
          [
           89721,
           909000,
           "Australia"
          ],
          [
           35016,
           1640000,
           "Australia"
          ],
          [
           37789,
           3880000,
           "Canada"
          ],
          [
           34189,
           276955,
           "Australia"
          ],
          [
           88462,
           2531561,
           "Canada"
          ],
          [
           90601,
           150200,
           "Brazil"
          ],
          [
           41721,
           76988,
           "Finland"
          ],
          [
           86116,
           153000,
           "South Africa"
          ],
          [
           84207,
           8647066,
           "USA"
          ],
          [
           84710,
           12430,
           "Australia"
          ],
          [
           91762,
           675000,
           "Brazil"
          ],
          [
           90684,
           2900000,
           "Australia"
          ],
          [
           90102,
           2673400,
           "Brazil"
          ],
          [
           90981,
           1236700,
           "Brazil"
          ],
          [
           37953,
           90458,
           "Australia"
          ],
          [
           37945,
           741000,
           "Canada"
          ]
         ],
         "geo": "geo",
         "hovertemplate": "size=%{marker.size}<br>Latitude (degrees)=%{lat}<br>Longitude (degrees)=%{lon}<br>Property ID=%{customdata[0]}<br>Primary Reserves and Resources=%{customdata[1]}<br>Country/Region=%{customdata[2]}<extra></extra>",
         "lat": {
          "bdata": "1PGYgcoYQUAYITzaOOZEQKFKzR5o6UhAyJi7lpA/M8DRItv5fhpLQCHIQQkzZTTARG6GG/ChUEAbZJKRszhHQALxun7BRj9AZ/LNNjd2N8Dg2/RnP/pMQP2fw3x5RUhABrth26JoR0CYTBWMSvo+wAVu3c1TpTPAPPceLjmOK8BaZDvfTw0rwGjon+Bi6UhAzczMzMwsTEDufD81XoZJQLCPTl35zB7AibX4FACLNUBiodY07wxPQGlv8IXJwlFA0A8jhEdzS0BLzR5oBVYywAMJih9jljbA/z7jwoHQOUDnNXaJ6n04QO4IpwUvwjlAPujZrPoMTUCLMhtkkjFHQPKwUGuaD0FAxoUDIVmgOUCk5NU5BgQ6QAn+t5IdCzbAR3cQO1OgOcAK9Ik8SdopwKpla32RYC/AzczMzMz8N8CQZiyazj5GQJqZmZmZKUHADB8RUyJRMMBYHM78aqJNQHldv2A3EEZA0SLb+X6yP8AUlnhA2ZxCwK7TSEvlzTHAaVch5Se9QUDD9Shcj6JNQJLLf0i/mUDATrSrkPKXQMDH155ZEpxCwLKFIAcl3DzAVp+rrdg/LsBq+1dWmgwzwCR/MPDcp0DAbw1slWBJM8BqatlaX3hMQCy3tBoS5zfAcxHfiVkPT0DElEiil1kwwH/2I0VkaE9AQ+IeSx/6N8DXUdUEUe9EQILn3sMl/zzAHhZqTfOuHcCAgosVNXA8wFpHVRNE/TXA9+l4zEDdNcBVpMLYQvgywDliLT4FREtA",
          "dtype": "f8"
         },
         "legendgroup": "",
         "lon": {
          "bdata": "ybCKNzJvWsANiXssfX5bQJrrNNJSg1TACI82jlgHQUC2+BQA4xFPwNLGEWvxkGFA+rg2VIyrScC7fsFu2PxTwKOvIM1YXlrA5QrvchGeYEBtrS8S2lIwQIC3QILiyVHA7nw/NV6eU8BTIoleRqEyQNxLGqN1eEfA8DMuHAgRSEBYObTIdv5HwI4B2evdIVPAzczMzMwMUMCbIOo+AFFQwC8012mkbUBAVrd6TnrsY0CoHf6arCVcwEfmkT8YJF1AbRyxFp+EYMAJbTmX4vFfQGuad5yip2BAhslUwagYXUC8kXnkD35dQC2VtyOcMl1ANpNvtrkhLUC9xi5RvaFUwHReY5eodFzAqB3+mqypW0CN0TqqmiZdQFLVBFH3gS5AQDBHj99JXUDl1TkGZG8uQH/2I0Vk6EFAzeSbbW4WXUDmywuwjxxawPqzHykicmJAfA+XHHcKQUB0JJf/kJ4iQLtE9dbAKlpAD0WBPpGtXUAL73IR359hQCVATS1bI2JA65Cb4QbiXMAEVg4tsp0iQFIst7Qahl5APSzUmua1XkCjryDNWJ5hQPdY+tAFo15ADWyVYHF0QUC/YDdsW/RGwEHUfQBSxV5AdLUV+8vKX0CnkZbK2xdRwHB31m67El1A7bYLzXUmXMCwVYLF4ZhJwD0K16NwPTVAVfZdEfwXP0C+amXCL1NawF6dY0D2Ol5ATihEwCHsTcA6QDBHj1NdQAGHUKVmP0fANbVsrS9GR8DOcAM+Px5gQEqYaftXhl7A",
          "dtype": "f8"
         },
         "marker": {
          "color": "#636efa",
          "size": {
           "bdata": "SLkVkzJrQkC6hFMb3Hm9QOac1YzvH29Ac5sQUAr1YkDmHhh4oqOFQDY7E/UiinRAUdH4W3Sid0BbhJKTjL17QNvI4jkPC4FAQIwSRsNOfkC/lcflflNrQNNxQmbsu7BA4JNXmbxxdEAqFkXoqbpyQIZDiAgOEZFA1tBFwv1sh0Ds2LFCPGOQQGQ9fFcPxJ5A9n99qTBmoECY/qEAFF9+QN7kCknWyqBAAAAAAABAr0AhuXl/2A+VQMS/5EAXe5VAm/zi2M5vZ0A42LwKGwdyQD45P3Uu5pJATFYSHfG7QUDACh8AxkgcQI+lNtKt6BVAcYA9c/Ush0DZrq3X1x9zQL+8v6WSInBA0LphP+AfMEDY4arvL6otQDI5TGTzfl5A1le08sI4ckDzTsRG2WKLQEYjTzOydIlA7tJcx6kXS0C3Owsy24KBQPMRd8Y+j3BAb0y4ha7sgUBYsTrMxx2RQEFWgKcdL5dAuGYTwHutYUAn8pBJbp9fQLiy+AWVlF1AznrslNfcl0BxgD1z9SynQCo7vQkbF3xADN7OF6UJgEAfPQw7a0t6QIWpcNAwZ6FA/yW612B1okCYnsAY3xKkQPFx6r5Ry41AOP8E2H8ClED6NusTFseeQAIZ7QIfcoBAjUu3GlrcmECmz3415zh4QHtLwU15V3FA68/fLm9yeEBslGfFLfmmQJHT365a31tABApYsqusiUDfcPMpwZuaQMkw4sw2jJlAzvk300dgkUB9/EqlMsxyQEH2STCC5opA",
           "dtype": "f8"
          },
          "sizemode": "area",
          "sizeref": 18.86464947991348,
          "symbol": "circle"
         },
         "mode": "markers",
         "name": "",
         "showlegend": false,
         "type": "scattergeo"
        }
       ],
       "layout": {
        "geo": {
         "center": {},
         "domain": {
          "x": [
           0,
           1
          ],
          "y": [
           0,
           1
          ]
         }
        },
        "legend": {
         "itemsizing": "constant",
         "tracegroupgap": 0
        },
        "margin": {
         "b": 30,
         "l": 5,
         "r": 5,
         "t": 30
        },
        "template": {
         "data": {
          "bar": [
           {
            "error_x": {
             "color": "#2a3f5f"
            },
            "error_y": {
             "color": "#2a3f5f"
            },
            "marker": {
             "line": {
              "color": "#E5ECF6",
              "width": 0.5
             },
             "pattern": {
              "fillmode": "overlay",
              "size": 10,
              "solidity": 0.2
             }
            },
            "type": "bar"
           }
          ],
          "barpolar": [
           {
            "marker": {
             "line": {
              "color": "#E5ECF6",
              "width": 0.5
             },
             "pattern": {
              "fillmode": "overlay",
              "size": 10,
              "solidity": 0.2
             }
            },
            "type": "barpolar"
           }
          ],
          "carpet": [
           {
            "aaxis": {
             "endlinecolor": "#2a3f5f",
             "gridcolor": "white",
             "linecolor": "white",
             "minorgridcolor": "white",
             "startlinecolor": "#2a3f5f"
            },
            "baxis": {
             "endlinecolor": "#2a3f5f",
             "gridcolor": "white",
             "linecolor": "white",
             "minorgridcolor": "white",
             "startlinecolor": "#2a3f5f"
            },
            "type": "carpet"
           }
          ],
          "choropleth": [
           {
            "colorbar": {
             "outlinewidth": 0,
             "ticks": ""
            },
            "type": "choropleth"
           }
          ],
          "contour": [
           {
            "colorbar": {
             "outlinewidth": 0,
             "ticks": ""
            },
            "colorscale": [
             [
              0,
              "#0d0887"
             ],
             [
              0.1111111111111111,
              "#46039f"
             ],
             [
              0.2222222222222222,
              "#7201a8"
             ],
             [
              0.3333333333333333,
              "#9c179e"
             ],
             [
              0.4444444444444444,
              "#bd3786"
             ],
             [
              0.5555555555555556,
              "#d8576b"
             ],
             [
              0.6666666666666666,
              "#ed7953"
             ],
             [
              0.7777777777777778,
              "#fb9f3a"
             ],
             [
              0.8888888888888888,
              "#fdca26"
             ],
             [
              1,
              "#f0f921"
             ]
            ],
            "type": "contour"
           }
          ],
          "contourcarpet": [
           {
            "colorbar": {
             "outlinewidth": 0,
             "ticks": ""
            },
            "type": "contourcarpet"
           }
          ],
          "heatmap": [
           {
            "colorbar": {
             "outlinewidth": 0,
             "ticks": ""
            },
            "colorscale": [
             [
              0,
              "#0d0887"
             ],
             [
              0.1111111111111111,
              "#46039f"
             ],
             [
              0.2222222222222222,
              "#7201a8"
             ],
             [
              0.3333333333333333,
              "#9c179e"
             ],
             [
              0.4444444444444444,
              "#bd3786"
             ],
             [
              0.5555555555555556,
              "#d8576b"
             ],
             [
              0.6666666666666666,
              "#ed7953"
             ],
             [
              0.7777777777777778,
              "#fb9f3a"
             ],
             [
              0.8888888888888888,
              "#fdca26"
             ],
             [
              1,
              "#f0f921"
             ]
            ],
            "type": "heatmap"
           }
          ],
          "histogram": [
           {
            "marker": {
             "pattern": {
              "fillmode": "overlay",
              "size": 10,
              "solidity": 0.2
             }
            },
            "type": "histogram"
           }
          ],
          "histogram2d": [
           {
            "colorbar": {
             "outlinewidth": 0,
             "ticks": ""
            },
            "colorscale": [
             [
              0,
              "#0d0887"
             ],
             [
              0.1111111111111111,
              "#46039f"
             ],
             [
              0.2222222222222222,
              "#7201a8"
             ],
             [
              0.3333333333333333,
              "#9c179e"
             ],
             [
              0.4444444444444444,
              "#bd3786"
             ],
             [
              0.5555555555555556,
              "#d8576b"
             ],
             [
              0.6666666666666666,
              "#ed7953"
             ],
             [
              0.7777777777777778,
              "#fb9f3a"
             ],
             [
              0.8888888888888888,
              "#fdca26"
             ],
             [
              1,
              "#f0f921"
             ]
            ],
            "type": "histogram2d"
           }
          ],
          "histogram2dcontour": [
           {
            "colorbar": {
             "outlinewidth": 0,
             "ticks": ""
            },
            "colorscale": [
             [
              0,
              "#0d0887"
             ],
             [
              0.1111111111111111,
              "#46039f"
             ],
             [
              0.2222222222222222,
              "#7201a8"
             ],
             [
              0.3333333333333333,
              "#9c179e"
             ],
             [
              0.4444444444444444,
              "#bd3786"
             ],
             [
              0.5555555555555556,
              "#d8576b"
             ],
             [
              0.6666666666666666,
              "#ed7953"
             ],
             [
              0.7777777777777778,
              "#fb9f3a"
             ],
             [
              0.8888888888888888,
              "#fdca26"
             ],
             [
              1,
              "#f0f921"
             ]
            ],
            "type": "histogram2dcontour"
           }
          ],
          "mesh3d": [
           {
            "colorbar": {
             "outlinewidth": 0,
             "ticks": ""
            },
            "type": "mesh3d"
           }
          ],
          "parcoords": [
           {
            "line": {
             "colorbar": {
              "outlinewidth": 0,
              "ticks": ""
             }
            },
            "type": "parcoords"
           }
          ],
          "pie": [
           {
            "automargin": true,
            "type": "pie"
           }
          ],
          "scatter": [
           {
            "fillpattern": {
             "fillmode": "overlay",
             "size": 10,
             "solidity": 0.2
            },
            "type": "scatter"
           }
          ],
          "scatter3d": [
           {
            "line": {
             "colorbar": {
              "outlinewidth": 0,
              "ticks": ""
             }
            },
            "marker": {
             "colorbar": {
              "outlinewidth": 0,
              "ticks": ""
             }
            },
            "type": "scatter3d"
           }
          ],
          "scattercarpet": [
           {
            "marker": {
             "colorbar": {
              "outlinewidth": 0,
              "ticks": ""
             }
            },
            "type": "scattercarpet"
           }
          ],
          "scattergeo": [
           {
            "marker": {
             "colorbar": {
              "outlinewidth": 0,
              "ticks": ""
             }
            },
            "type": "scattergeo"
           }
          ],
          "scattergl": [
           {
            "marker": {
             "colorbar": {
              "outlinewidth": 0,
              "ticks": ""
             }
            },
            "type": "scattergl"
           }
          ],
          "scattermap": [
           {
            "marker": {
             "colorbar": {
              "outlinewidth": 0,
              "ticks": ""
             }
            },
            "type": "scattermap"
           }
          ],
          "scattermapbox": [
           {
            "marker": {
             "colorbar": {
              "outlinewidth": 0,
              "ticks": ""
             }
            },
            "type": "scattermapbox"
           }
          ],
          "scatterpolar": [
           {
            "marker": {
             "colorbar": {
              "outlinewidth": 0,
              "ticks": ""
             }
            },
            "type": "scatterpolar"
           }
          ],
          "scatterpolargl": [
           {
            "marker": {
             "colorbar": {
              "outlinewidth": 0,
              "ticks": ""
             }
            },
            "type": "scatterpolargl"
           }
          ],
          "scatterternary": [
           {
            "marker": {
             "colorbar": {
              "outlinewidth": 0,
              "ticks": ""
             }
            },
            "type": "scatterternary"
           }
          ],
          "surface": [
           {
            "colorbar": {
             "outlinewidth": 0,
             "ticks": ""
            },
            "colorscale": [
             [
              0,
              "#0d0887"
             ],
             [
              0.1111111111111111,
              "#46039f"
             ],
             [
              0.2222222222222222,
              "#7201a8"
             ],
             [
              0.3333333333333333,
              "#9c179e"
             ],
             [
              0.4444444444444444,
              "#bd3786"
             ],
             [
              0.5555555555555556,
              "#d8576b"
             ],
             [
              0.6666666666666666,
              "#ed7953"
             ],
             [
              0.7777777777777778,
              "#fb9f3a"
             ],
             [
              0.8888888888888888,
              "#fdca26"
             ],
             [
              1,
              "#f0f921"
             ]
            ],
            "type": "surface"
           }
          ],
          "table": [
           {
            "cells": {
             "fill": {
              "color": "#EBF0F8"
             },
             "line": {
              "color": "white"
             }
            },
            "header": {
             "fill": {
              "color": "#C8D4E3"
             },
             "line": {
              "color": "white"
             }
            },
            "type": "table"
           }
          ]
         },
         "layout": {
          "annotationdefaults": {
           "arrowcolor": "#2a3f5f",
           "arrowhead": 0,
           "arrowwidth": 1
          },
          "autotypenumbers": "strict",
          "coloraxis": {
           "colorbar": {
            "outlinewidth": 0,
            "ticks": ""
           }
          },
          "colorscale": {
           "diverging": [
            [
             0,
             "#8e0152"
            ],
            [
             0.1,
             "#c51b7d"
            ],
            [
             0.2,
             "#de77ae"
            ],
            [
             0.3,
             "#f1b6da"
            ],
            [
             0.4,
             "#fde0ef"
            ],
            [
             0.5,
             "#f7f7f7"
            ],
            [
             0.6,
             "#e6f5d0"
            ],
            [
             0.7,
             "#b8e186"
            ],
            [
             0.8,
             "#7fbc41"
            ],
            [
             0.9,
             "#4d9221"
            ],
            [
             1,
             "#276419"
            ]
           ],
           "sequential": [
            [
             0,
             "#0d0887"
            ],
            [
             0.1111111111111111,
             "#46039f"
            ],
            [
             0.2222222222222222,
             "#7201a8"
            ],
            [
             0.3333333333333333,
             "#9c179e"
            ],
            [
             0.4444444444444444,
             "#bd3786"
            ],
            [
             0.5555555555555556,
             "#d8576b"
            ],
            [
             0.6666666666666666,
             "#ed7953"
            ],
            [
             0.7777777777777778,
             "#fb9f3a"
            ],
            [
             0.8888888888888888,
             "#fdca26"
            ],
            [
             1,
             "#f0f921"
            ]
           ],
           "sequentialminus": [
            [
             0,
             "#0d0887"
            ],
            [
             0.1111111111111111,
             "#46039f"
            ],
            [
             0.2222222222222222,
             "#7201a8"
            ],
            [
             0.3333333333333333,
             "#9c179e"
            ],
            [
             0.4444444444444444,
             "#bd3786"
            ],
            [
             0.5555555555555556,
             "#d8576b"
            ],
            [
             0.6666666666666666,
             "#ed7953"
            ],
            [
             0.7777777777777778,
             "#fb9f3a"
            ],
            [
             0.8888888888888888,
             "#fdca26"
            ],
            [
             1,
             "#f0f921"
            ]
           ]
          },
          "colorway": [
           "#636efa",
           "#EF553B",
           "#00cc96",
           "#ab63fa",
           "#FFA15A",
           "#19d3f3",
           "#FF6692",
           "#B6E880",
           "#FF97FF",
           "#FECB52"
          ],
          "font": {
           "color": "#2a3f5f"
          },
          "geo": {
           "bgcolor": "white",
           "lakecolor": "white",
           "landcolor": "#E5ECF6",
           "showlakes": true,
           "showland": true,
           "subunitcolor": "white"
          },
          "hoverlabel": {
           "align": "left"
          },
          "hovermode": "closest",
          "mapbox": {
           "style": "light"
          },
          "paper_bgcolor": "white",
          "plot_bgcolor": "#E5ECF6",
          "polar": {
           "angularaxis": {
            "gridcolor": "white",
            "linecolor": "white",
            "ticks": ""
           },
           "bgcolor": "#E5ECF6",
           "radialaxis": {
            "gridcolor": "white",
            "linecolor": "white",
            "ticks": ""
           }
          },
          "scene": {
           "xaxis": {
            "backgroundcolor": "#E5ECF6",
            "gridcolor": "white",
            "gridwidth": 2,
            "linecolor": "white",
            "showbackground": true,
            "ticks": "",
            "zerolinecolor": "white"
           },
           "yaxis": {
            "backgroundcolor": "#E5ECF6",
            "gridcolor": "white",
            "gridwidth": 2,
            "linecolor": "white",
            "showbackground": true,
            "ticks": "",
            "zerolinecolor": "white"
           },
           "zaxis": {
            "backgroundcolor": "#E5ECF6",
            "gridcolor": "white",
            "gridwidth": 2,
            "linecolor": "white",
            "showbackground": true,
            "ticks": "",
            "zerolinecolor": "white"
           }
          },
          "shapedefaults": {
           "line": {
            "color": "#2a3f5f"
           }
          },
          "ternary": {
           "aaxis": {
            "gridcolor": "white",
            "linecolor": "white",
            "ticks": ""
           },
           "baxis": {
            "gridcolor": "white",
            "linecolor": "white",
            "ticks": ""
           },
           "bgcolor": "#E5ECF6",
           "caxis": {
            "gridcolor": "white",
            "linecolor": "white",
            "ticks": ""
           }
          },
          "title": {
           "x": 0.05
          },
          "xaxis": {
           "automargin": true,
           "gridcolor": "white",
           "linecolor": "white",
           "ticks": "",
           "title": {
            "standoff": 15
           },
           "zerolinecolor": "white",
           "zerolinewidth": 2
          },
          "yaxis": {
           "automargin": true,
           "gridcolor": "white",
           "linecolor": "white",
           "ticks": "",
           "title": {
            "standoff": 15
           },
           "zerolinecolor": "white",
           "zerolinewidth": 2
          }
         }
        },
        "title": {
         "text": "Map of Lanthanides Reserves"
        }
       }
      }
     },
     "metadata": {},
     "output_type": "display_data"
    }
   ],
   "source": [
    "lanthanides_df = combined[combined[\"Primary Mineral\"] == \"Lanthanides\"]\n",
    "\n",
    "sqrt_reserves = np.sqrt(lanthanides_df[\"Primary Reserves and Resources\"])\n",
    "\n",
    "fig = px.scatter_geo(lanthanides_df, lat=\"Latitude (degrees)\", lon=\"Longitude (degrees)\",\n",
    "                    size=sqrt_reserves,\n",
    "                    size_max=20, hover_data=[\"Property ID\",\"Primary Reserves and Resources\", \"Country/Region\"],)\n",
    "\n",
    "fig.update_layout(title=\"Map of Lanthanides Reserves\",margin=dict(l=5, r=5, t=30, b=30))\n",
    "fig.show()"
   ]
  },
  {
   "cell_type": "code",
   "execution_count": 23,
   "id": "b676580b",
   "metadata": {},
   "outputs": [],
   "source": [
    "# fig.write_html(file=\"graphs/reserves_map.html\")"
   ]
  },
  {
   "cell_type": "code",
   "execution_count": 24,
   "id": "4c495285",
   "metadata": {},
   "outputs": [
    {
     "data": {
      "application/vnd.microsoft.datawrangler.viewer.v0+json": {
       "columns": [
        {
         "name": "index",
         "rawType": "int64",
         "type": "integer"
        },
        {
         "name": "Property",
         "rawType": "object",
         "type": "string"
        },
        {
         "name": "Property ID",
         "rawType": "int64",
         "type": "integer"
        },
        {
         "name": "Owner(s)",
         "rawType": "object",
         "type": "string"
        },
        {
         "name": "Country/Region",
         "rawType": "object",
         "type": "string"
        },
        {
         "name": "Country/Region Risk Score & Outlook",
         "rawType": "object",
         "type": "string"
        },
        {
         "name": "Development Stage",
         "rawType": "object",
         "type": "string"
        },
        {
         "name": "Activity Status",
         "rawType": "object",
         "type": "string"
        },
        {
         "name": "Commodity(s)",
         "rawType": "object",
         "type": "string"
        },
        {
         "name": "Primary Reserves and Resources",
         "rawType": "int64",
         "type": "integer"
        },
        {
         "name": "Unit",
         "rawType": "object",
         "type": "string"
        },
        {
         "name": "Total In-Situ Value ($M)",
         "rawType": "float64",
         "type": "float"
        },
        {
         "name": "Reserves & Resources As Of Date",
         "rawType": "datetime64[ns]",
         "type": "datetime"
        },
        {
         "name": "Primary Mineral",
         "rawType": "object",
         "type": "string"
        },
        {
         "name": "Year",
         "rawType": "int32",
         "type": "integer"
        },
        {
         "name": "Latitude (degrees)",
         "rawType": "float64",
         "type": "float"
        },
        {
         "name": "Longitude (degrees)",
         "rawType": "float64",
         "type": "float"
        }
       ],
       "conversionMethod": "pd.DataFrame",
       "ref": "df655f72-e35e-4af4-b2ea-7d7a9d1ef23c",
       "rows": [
        [
         "59",
         "Nunavik",
         "31715",
         " Ji Lin Ji En Nickel Industry C, Nearctic Nickel Mines Inc.",
         "Canada",
         "1.4 Moderate - No Change",
         "Limited Production",
         "Active",
         "Nickel, Copper, Cobalt, Platinum, Palladium, Gold",
         "350200",
         "tonnes",
         "13878.6487121703",
         "2010-04-14 00:00:00",
         "Nickel",
         "2010",
         "61.420856",
         "-74.1375"
        ],
        [
         "63",
         "Raglan",
         "35769",
         "Ji Lin Ji En Nickel Industry C",
         "Canada",
         "1.4 Moderate - No Change",
         "Reserves Development",
         "Active",
         "Nickel, Copper, Platinum, Palladium, Cobalt, Gold",
         "44000",
         "tonnes",
         "1207.14191025744",
         "2010-11-04 00:00:00",
         "Nickel",
         "2010",
         "61.39782",
         "-74.97753"
        ],
        [
         "71",
         "Raglan",
         "35769",
         "Ji Lin Ji En Nickel Industry C",
         "Canada",
         "1.4 Moderate - No Change",
         "Reserves Development",
         "Active",
         "Nickel, Copper, Platinum, Palladium, Cobalt, Gold",
         "2233",
         "tonnes",
         "1207.14191025744",
         "2010-11-04 00:00:00",
         "Cobalt",
         "2010",
         "61.39782",
         "-74.97753"
        ],
        [
         "73",
         "Nunavik",
         "31715",
         " Ji Lin Ji En Nickel Industry C, Nearctic Nickel Mines Inc.",
         "Canada",
         "1.4 Moderate - No Change",
         "Limited Production",
         "Active",
         "Nickel, Copper, Cobalt, Platinum, Palladium, Gold",
         "18670",
         "tonnes",
         "13878.6487121703",
         "2010-04-14 00:00:00",
         "Cobalt",
         "2010",
         "61.420856",
         "-74.1375"
        ],
        [
         "75",
         "Shining Tree",
         "34245",
         "Private Interest",
         "Canada",
         "1.4 Moderate - No Change",
         "Reserves Development",
         "Active",
         "Nickel, Copper, Cobalt, Platinum, Palladium",
         "651",
         "tonnes",
         "385.361244061491",
         "2011-05-18 00:00:00",
         "Cobalt",
         "2011",
         "47.5654",
         "-81.17918"
        ],
        [
         "77",
         "Eagle's Nest",
         "35686",
         "Wyloo Pty Ltd",
         "Canada",
         "1.4 Moderate - No Change",
         "Feasibility Complete",
         "Active",
         "Nickel, Copper, Gold, Platinum, Palladium, Silver",
         "300000",
         "tonnes",
         "10217.8946823594",
         "2011-08-23 00:00:00",
         "Nickel",
         "2011",
         "52.74202",
         "-86.3038"
        ],
        [
         "79",
         "Shining Tree",
         "34245",
         "Private Interest",
         "Canada",
         "1.4 Moderate - No Change",
         "Reserves Development",
         "Active",
         "Nickel, Copper, Cobalt, Platinum, Palladium",
         "17200",
         "tonnes",
         "385.361244061491",
         "2011-05-18 00:00:00",
         "Nickel",
         "2011",
         "47.5654",
         "-81.17918"
        ],
        [
         "85",
         "Lockerby East",
         "27096",
         "SPC Nickel Corp",
         "Canada",
         "1.4 Moderate - No Change",
         "Reserves Development",
         "Active",
         "Nickel, Copper, Cobalt, Gold, Platinum, Palladium, Silver",
         "46000",
         "tonnes",
         "1078.93172894421",
         "2012-06-30 00:00:00",
         "Nickel",
         "2012",
         "46.43266",
         "-81.30323"
        ],
        [
         "92",
         "Lockerby East",
         "27096",
         "SPC Nickel Corp",
         "Canada",
         "1.4 Moderate - No Change",
         "Reserves Development",
         "Active",
         "Nickel, Copper, Cobalt, Gold, Platinum, Palladium, Silver",
         "1060",
         "tonnes",
         "1078.93172894421",
         "2012-06-30 00:00:00",
         "Cobalt",
         "2012",
         "46.43266",
         "-81.30323"
        ],
        [
         "107",
         "Bowden Lake",
         "29586",
         " CaNickel Mining Ltd., Glencore plc",
         "Canada",
         "1.4 Moderate - No Change",
         "Reserves Development",
         "Active",
         "Nickel, Copper, Platinum",
         "50194",
         "tonnes",
         "827.728032550459",
         "2012-04-01 00:00:00",
         "Nickel",
         "2012",
         "54.9154",
         "-98.66201"
        ],
        [
         "134",
         "Nico",
         "29668",
         "Fortune Minerals Ltd.",
         "Canada",
         "1.4 Moderate - No Change",
         "Construction Planned",
         "Active",
         "Cobalt, Gold, Bismuth, Copper",
         "74249",
         "tonnes",
         "7233.73373898628",
         "2014-04-02 00:00:00",
         "Cobalt",
         "2014",
         "63.55",
         "-116.74583"
        ],
        [
         "137",
         "Woodstock",
         "61015",
         "Canadian Manganese Co.",
         "Canada",
         "1.4 Moderate - No Change",
         "Prefeas/Scoping",
         "Active",
         "Manganese, Iron Ore",
         "135488474",
         "tonnes",
         "367.17376454",
         "2014-07-10 00:00:00",
         "Manganese",
         "2014",
         "46.18",
         "-67.64"
        ],
        [
         "148",
         "Aurora",
         "92718",
         "Clean Energy Transition Inc.",
         "Canada",
         "1.4 Moderate - No Change",
         "Target Outline",
         "Active",
         "Nickel",
         "42000",
         "tonnes",
         "692.604242880011",
         "2015-06-04 00:00:00",
         "Nickel",
         "2015",
         "48.34509",
         "-81.00002"
        ],
        [
         "185",
         "Madison",
         "80786",
         "U.S. Strategic Metals LLC",
         "USA",
         "1.5 Moderate - No Change",
         "Reserves Development",
         "Active",
         "Cobalt, Copper, Nickel",
         "15876",
         "tonnes",
         "1224.58219480191",
         "2018-04-11 00:00:00",
         "Cobalt",
         "2018",
         "37.54708",
         "-90.27653"
        ],
        [
         "190",
         "Madison",
         "80786",
         "U.S. Strategic Metals LLC",
         "USA",
         "1.5 Moderate - No Change",
         "Reserves Development",
         "Active",
         "Cobalt, Copper, Nickel",
         "23133",
         "tonnes",
         "1224.58219480191",
         "2018-04-11 00:00:00",
         "Nickel",
         "2018",
         "37.54708",
         "-90.27653"
        ],
        [
         "195",
         "Werner Lake",
         "29419",
         "High-Tech Metals Ltd.",
         "Canada",
         "1.4 Moderate - No Change",
         "Reserves Development",
         "Active",
         "Cobalt, Copper, Gold, Silver, Nickel",
         "340",
         "tonnes",
         "12.6827530189716",
         "2018-07-19 00:00:00",
         "Cobalt",
         "2018",
         "50.46887",
         "-94.97869"
        ],
        [
         "219",
         "Dumont",
         "25816",
         " Waterton Global Resource Mgmt, Investissement Québec",
         "Canada",
         "1.4 Moderate - No Change",
         "Feasibility Complete",
         "Active",
         "Nickel, Cobalt, Platinum, Palladium, Iron Ore",
         "229518",
         "tonnes",
         "104814.978762247",
         "2019-05-30 00:00:00",
         "Cobalt",
         "2019",
         "48.64244",
         "-78.44274"
        ],
        [
         "233",
         "Dumont",
         "25816",
         " Waterton Global Resource Mgmt, Investissement Québec",
         "Canada",
         "1.4 Moderate - No Change",
         "Feasibility Complete",
         "Active",
         "Nickel, Cobalt, Platinum, Palladium, Iron Ore",
         "5720702",
         "tonnes",
         "104814.978762247",
         "2019-05-30 00:00:00",
         "Nickel",
         "2019",
         "48.64244",
         "-78.44274"
        ],
        [
         "277",
         "Grasset",
         "76126",
         "NorthX Nickel Corp.",
         "Canada",
         "1.4 Moderate - No Change",
         "Reserves Development",
         "Active",
         "Nickel, Copper, Cobalt, Platinum, Palladium, Gold, Zinc, Lead",
         "68900",
         "tonnes",
         "1430.63531773155",
         "2021-11-09 00:00:00",
         "Nickel",
         "2021",
         "50.0569",
         "-78.62245"
        ],
        [
         "280",
         "Rice Island",
         "76615",
         " Wolfden Resources Corp., Private Interest",
         "Canada",
         "1.4 Moderate - No Change",
         "Reserves Development",
         "Active",
         "Nickel, Copper, Cobalt, Platinum, Palladium, Gold",
         "50439",
         "tonnes",
         "1266.29516010333",
         "2021-12-13 00:00:00",
         "Nickel",
         "2021",
         "54.82755",
         "-99.93617"
        ],
        [
         "284",
         "Shakespeare",
         "31518",
         "Magna Mining Inc.",
         "Canada",
         "1.4 Moderate - No Change",
         "Feasibility Complete",
         "Active",
         "Nickel, Copper, Palladium, Platinum, Gold, Cobalt, Silver",
         "75750",
         "tonnes",
         "2852.69167113391",
         "2021-12-31 00:00:00",
         "Nickel",
         "2021",
         "46.33418",
         "-81.85949"
        ],
        [
         "285",
         "Grasset",
         "76126",
         "NorthX Nickel Corp.",
         "Canada",
         "1.4 Moderate - No Change",
         "Reserves Development",
         "Active",
         "Nickel, Copper, Cobalt, Platinum, Palladium, Gold, Zinc, Lead",
         "1463",
         "tonnes",
         "1430.63531773155",
         "2021-11-09 00:00:00",
         "Cobalt",
         "2021",
         "50.0569",
         "-78.62245"
        ],
        [
         "286",
         "McAra",
         "34473",
         "Battery Mineral Rsrc Corp",
         "Canada",
         "1.4 Moderate - No Change",
         "Reserves Development",
         "Active",
         "Cobalt, Copper, Silver, Zinc, Gold",
         "597",
         "tonnes",
         "22.5786167127237",
         "2021-03-31 00:00:00",
         "Cobalt",
         "2021",
         "47.39778",
         "-80.96639"
        ],
        [
         "290",
         "Lynn Lake",
         "27307",
         "Corazon Mining Ltd.",
         "Canada",
         "1.4 Moderate - No Change",
         "Prefeas/Scoping",
         "Active",
         "Nickel, Copper, Cobalt, Platinum, Zinc, Lead, Silver, Gold",
         "116800",
         "tonnes",
         "2585.88564882606",
         "2021-09-30 00:00:00",
         "Nickel",
         "2021",
         "56.82115",
         "-101.03294"
        ],
        [
         "291",
         "Lynn Lake",
         "27307",
         "Corazon Mining Ltd.",
         "Canada",
         "1.4 Moderate - No Change",
         "Prefeas/Scoping",
         "Active",
         "Nickel, Copper, Cobalt, Platinum, Zinc, Lead, Silver, Gold",
         "5300",
         "tonnes",
         "2585.88564882606",
         "2021-09-30 00:00:00",
         "Cobalt",
         "2021",
         "56.82115",
         "-101.03294"
        ],
        [
         "292",
         "Shakespeare",
         "31518",
         "Magna Mining Inc.",
         "Canada",
         "1.4 Moderate - No Change",
         "Feasibility Complete",
         "Active",
         "Nickel, Copper, Palladium, Platinum, Gold, Cobalt, Silver",
         "4536",
         "tonnes",
         "2852.69167113391",
         "2021-12-31 00:00:00",
         "Cobalt",
         "2021",
         "46.33418",
         "-81.85949"
        ],
        [
         "293",
         "Rice Island",
         "76615",
         " Wolfden Resources Corp., Private Interest",
         "Canada",
         "1.4 Moderate - No Change",
         "Reserves Development",
         "Active",
         "Nickel, Copper, Cobalt, Platinum, Palladium, Gold",
         "2646",
         "tonnes",
         "1266.29516010333",
         "2021-12-13 00:00:00",
         "Cobalt",
         "2021",
         "54.82755",
         "-99.93617"
        ],
        [
         "312",
         "Kenbridge",
         "33075",
         "Tartisan Nickel Corp.",
         "Canada",
         "1.4 Moderate - No Change",
         "Prefeas/Scoping",
         "Active",
         "Nickel, Copper, Cobalt, Silver, Gold, Platinum",
         "48398",
         "tonnes",
         "1026.8434629974",
         "2022-07-06 00:00:00",
         "Nickel",
         "2022",
         "49.48357",
         "-93.6347"
        ],
        [
         "317",
         "Tamarack",
         "36221",
         " Talon Metals Corp., Rio Tinto Group",
         "USA",
         "1.5 Moderate - No Change",
         "Prefeas/Scoping",
         "Active",
         "Nickel, Copper, Cobalt, Platinum, Palladium, Gold",
         "217724",
         "tonnes",
         "5300.5119975752",
         "2022-10-10 00:00:00",
         "Nickel",
         "2022",
         "46.67296",
         "-93.11959"
        ],
        [
         "323",
         "Hawk Ridge",
         "29658",
         " 1844 Resources Inc., Nickel North Exploration Corp.",
         "Canada",
         "1.4 Moderate - No Change",
         "Reserves Development",
         "Active",
         "Nickel, Copper, Cobalt, Platinum, Palladium, Gold, Iron Ore",
         "76611",
         "tonnes",
         "3438.11751183291",
         "2022-05-31 00:00:00",
         "Nickel",
         "2022",
         "59.0",
         "-69.64167"
        ],
        [
         "328",
         "Hawk Ridge",
         "29658",
         " 1844 Resources Inc., Nickel North Exploration Corp.",
         "Canada",
         "1.4 Moderate - No Change",
         "Reserves Development",
         "Active",
         "Nickel, Copper, Cobalt, Platinum, Palladium, Gold, Iron Ore",
         "4417",
         "tonnes",
         "3438.11751183291",
         "2022-05-31 00:00:00",
         "Cobalt",
         "2022",
         "59.0",
         "-69.64167"
        ],
        [
         "334",
         "Tamarack",
         "36221",
         " Talon Metals Corp., Rio Tinto Group",
         "USA",
         "1.5 Moderate - No Change",
         "Prefeas/Scoping",
         "Active",
         "Nickel, Copper, Cobalt, Platinum, Palladium, Gold",
         "5974",
         "tonnes",
         "5300.5119975752",
         "2022-10-10 00:00:00",
         "Cobalt",
         "2022",
         "46.67296",
         "-93.11959"
        ],
        [
         "338",
         "Nickel Island",
         "88353",
         "Wolfden Resources Corp.",
         "Canada",
         "1.4 Moderate - No Change",
         "Reserves Development",
         "Active",
         "Nickel, Copper, Cobalt, Platinum, Palladium",
         "70000",
         "tonnes",
         "1213.90930804237",
         "2022-01-03 00:00:00",
         "Nickel",
         "2022",
         "53.9363",
         "-94.77036"
        ],
        [
         "344",
         "Ferguson Lake",
         "30900",
         "Canadian North Resources Inc.",
         "Canada",
         "1.4 Moderate - No Change",
         "Prefeas/Scoping",
         "Active",
         "Nickel, Copper, Palladium, Platinum, Cobalt, Diamonds, Iron Ore",
         "46400",
         "tonnes",
         "17776.9824231267",
         "2022-06-13 00:00:00",
         "Cobalt",
         "2022",
         "62.89523",
         "-96.72627"
        ],
        [
         "346",
         "Maude Lake",
         "84130",
         "Transition Metals Corp.",
         "Canada",
         "1.4 Moderate - No Change",
         "Target Outline",
         "Active",
         "Nickel, Copper, Cobalt, Platinum, Palladium, Gold, Silver",
         "907",
         "tonnes",
         "19.0501881678477",
         "2022-09-12 00:00:00",
         "Nickel",
         "2022",
         "48.89474",
         "-87.30561"
        ],
        [
         "349",
         "Kenbridge",
         "33075",
         "Tartisan Nickel Corp.",
         "Canada",
         "1.4 Moderate - No Change",
         "Prefeas/Scoping",
         "Active",
         "Nickel, Copper, Cobalt, Silver, Gold, Platinum",
         "544",
         "tonnes",
         "1026.8434629974",
         "2022-07-06 00:00:00",
         "Cobalt",
         "2022",
         "49.48357",
         "-93.6347"
        ],
        [
         "356",
         "Ferguson Lake",
         "30900",
         "Canadian North Resources Inc.",
         "Canada",
         "1.4 Moderate - No Change",
         "Prefeas/Scoping",
         "Active",
         "Nickel, Copper, Palladium, Platinum, Cobalt, Diamonds, Iron Ore",
         "394300",
         "tonnes",
         "17776.9824231267",
         "2022-06-13 00:00:00",
         "Nickel",
         "2022",
         "62.89523",
         "-96.72627"
        ],
        [
         "360",
         "Battery Hill",
         "61022",
         "Manganese X Energy Corp.",
         "Canada",
         "1.4 Moderate - No Change",
         "Prefeas/Scoping",
         "Active",
         "Manganese, Iron Ore",
         "62860000",
         "tonnes",
         "170.3506",
         "2022-05-12 00:00:00",
         "Manganese",
         "2022",
         "46.22531",
         "-67.62547"
        ],
        [
         "363",
         "Eagle",
         "33795",
         "Lundin Mining Corp.",
         "USA",
         "1.5 Moderate - No Change",
         "Operating",
         "Active",
         "Nickel, Copper, Gold, Platinum, Palladium, Cobalt, Silver",
         "70000",
         "tonnes",
         "1659.54630077784",
         "2023-12-31 00:00:00",
         "Nickel",
         "2023",
         "46.74852",
         "-87.88151"
        ],
        [
         "364",
         "Eagle Claims",
         "90553",
         "Grid Metals Corp.",
         "Canada",
         "1.4 Moderate - No Change",
         "Target Outline",
         "Active",
         "Lithium, Copper, Nickel",
         "6000",
         "tonnes",
         "213.826348093113",
         "2023-04-13 00:00:00",
         "Nickel",
         "2023",
         "50.60794",
         "-95.48675"
        ],
        [
         "377",
         "Norton",
         "32133",
         " Copper Lake Resources Ltd., Rainy Mountain Royalty Corp.",
         "Canada",
         "1.4 Moderate - No Change",
         "Reserves Development",
         "Active",
         "Nickel, Copper, Cobalt, Platinum, Palladium",
         "783",
         "tonnes",
         "493.068794818802",
         "2023-08-12 00:00:00",
         "Cobalt",
         "2023",
         "51.90281",
         "-87.42056"
        ],
        [
         "378",
         "Makwa Mayville",
         "33382",
         " Grid Metals Corp., Li Equities Investments LP",
         "Canada",
         "1.4 Moderate - No Change",
         "Prefeas/Scoping",
         "Active",
         "Nickel, Copper, Gold, Platinum, Palladium, Cobalt, Chromite, Lithium, Caesium, Tantalum, Rubidium",
         "125161",
         "tonnes",
         "5666.01250974932",
         "2023-12-31 00:00:00",
         "Nickel",
         "2023",
         "50.6298",
         "-95.60953"
        ],
        [
         "379",
         "Manitoba Division",
         "26560",
         "Vale S.A.",
         "Canada",
         "1.4 Moderate - No Change",
         "Expansion",
         "Active",
         "Nickel, Copper, Cobalt, Gold, Silver, Palladium",
         "510000",
         "tonnes",
         "9355.46255281359",
         "2023-12-31 00:00:00",
         "Nickel",
         "2023",
         "55.70728",
         "-97.88904"
        ],
        [
         "393",
         "Nickel Shaw",
         "26275",
         "Nickel Creek Platinum Corp.",
         "Canada",
         "1.4 Moderate - No Change",
         "Prefeas/Scoping",
         "Active",
         "Nickel, Copper, Platinum, Palladium, Gold, Cobalt, Rhodium, Iridium, Ruthenium, Osmium, Magnesium",
         "79469",
         "tonnes",
         "42860.5160702922",
         "2023-07-19 00:00:00",
         "Cobalt",
         "2023",
         "61.46667",
         "-139.53333"
        ],
        [
         "400",
         "Iron Creek",
         "27870",
         "Electra Battery Materials Corp",
         "USA",
         "1.5 Moderate - No Change",
         "Reserves Development",
         "Active",
         "Cobalt, Copper, Gold",
         "9268",
         "tonnes",
         "762.673719577779",
         "2023-01-27 00:00:00",
         "Cobalt",
         "2023",
         "44.96337",
         "-114.11784"
        ],
        [
         "401",
         "Manitoba Division",
         "26560",
         "Vale S.A.",
         "Canada",
         "1.4 Moderate - No Change",
         "Expansion",
         "Active",
         "Nickel, Copper, Cobalt, Gold, Silver, Palladium",
         "8000",
         "tonnes",
         "9355.46255281359",
         "2023-12-31 00:00:00",
         "Cobalt",
         "2023",
         "55.70728",
         "-97.88904"
        ],
        [
         "402",
         "Ontario Division",
         "27672",
         "Vale S.A.",
         "Canada",
         "1.4 Moderate - No Change",
         "Operating",
         "Active",
         "Nickel, Copper, Rhodium, Cobalt, Platinum, Palladium, Gold, Silver",
         "48500",
         "tonnes",
         "61571.9976268176",
         "2023-12-31 00:00:00",
         "Cobalt",
         "2023",
         "46.49222",
         "-81.06667"
        ],
        [
         "403",
         "Sudbury Operations",
         "27146",
         "Glencore plc",
         "Canada",
         "1.4 Moderate - No Change",
         "Expansion",
         "Active",
         "Nickel, Copper, Cobalt, Platinum, Palladium, Rhodium, Gold, Silver",
         "45000",
         "tonnes",
         "57381.2276571645",
         "2023-12-31 00:00:00",
         "Cobalt",
         "2023",
         "46.63706",
         "-81.36921"
        ],
        [
         "404",
         "Voisey's Bay",
         "28992",
         "Vale S.A.",
         "Canada",
         "1.4 Moderate - No Change",
         "Expansion",
         "Active",
         "Nickel, Copper, Cobalt",
         "44390",
         "tonnes",
         "16368.5795684791",
         "2023-12-31 00:00:00",
         "Cobalt",
         "2023",
         "56.33024",
         "-62.09573"
        ],
        [
         "407",
         "Ontario Division",
         "27672",
         "Vale S.A.",
         "Canada",
         "1.4 Moderate - No Change",
         "Operating",
         "Active",
         "Nickel, Copper, Rhodium, Cobalt, Platinum, Palladium, Gold, Silver",
         "1773000",
         "tonnes",
         "61571.9976268176",
         "2023-12-31 00:00:00",
         "Nickel",
         "2023",
         "46.49222",
         "-81.06667"
        ]
       ],
       "shape": {
        "columns": 16,
        "rows": 74
       }
      },
      "text/html": [
       "<div>\n",
       "<style scoped>\n",
       "    .dataframe tbody tr th:only-of-type {\n",
       "        vertical-align: middle;\n",
       "    }\n",
       "\n",
       "    .dataframe tbody tr th {\n",
       "        vertical-align: top;\n",
       "    }\n",
       "\n",
       "    .dataframe thead th {\n",
       "        text-align: right;\n",
       "    }\n",
       "</style>\n",
       "<table border=\"1\" class=\"dataframe\">\n",
       "  <thead>\n",
       "    <tr style=\"text-align: right;\">\n",
       "      <th></th>\n",
       "      <th>Property</th>\n",
       "      <th>Property ID</th>\n",
       "      <th>Owner(s)</th>\n",
       "      <th>Country/Region</th>\n",
       "      <th>Country/Region Risk Score &amp; Outlook</th>\n",
       "      <th>Development Stage</th>\n",
       "      <th>Activity Status</th>\n",
       "      <th>Commodity(s)</th>\n",
       "      <th>Primary Reserves and Resources</th>\n",
       "      <th>Unit</th>\n",
       "      <th>Total In-Situ Value ($M)</th>\n",
       "      <th>Reserves &amp; Resources As Of Date</th>\n",
       "      <th>Primary Mineral</th>\n",
       "      <th>Year</th>\n",
       "      <th>Latitude (degrees)</th>\n",
       "      <th>Longitude (degrees)</th>\n",
       "    </tr>\n",
       "  </thead>\n",
       "  <tbody>\n",
       "    <tr>\n",
       "      <th>59</th>\n",
       "      <td>Nunavik</td>\n",
       "      <td>31715</td>\n",
       "      <td>Ji Lin Ji En Nickel Industry C, Nearctic Nick...</td>\n",
       "      <td>Canada</td>\n",
       "      <td>1.4 Moderate - No Change</td>\n",
       "      <td>Limited Production</td>\n",
       "      <td>Active</td>\n",
       "      <td>Nickel, Copper, Cobalt, Platinum, Palladium, Gold</td>\n",
       "      <td>350200</td>\n",
       "      <td>tonnes</td>\n",
       "      <td>13878.648712</td>\n",
       "      <td>2010-04-14</td>\n",
       "      <td>Nickel</td>\n",
       "      <td>2010</td>\n",
       "      <td>61.420856</td>\n",
       "      <td>-74.13750</td>\n",
       "    </tr>\n",
       "    <tr>\n",
       "      <th>63</th>\n",
       "      <td>Raglan</td>\n",
       "      <td>35769</td>\n",
       "      <td>Ji Lin Ji En Nickel Industry C</td>\n",
       "      <td>Canada</td>\n",
       "      <td>1.4 Moderate - No Change</td>\n",
       "      <td>Reserves Development</td>\n",
       "      <td>Active</td>\n",
       "      <td>Nickel, Copper, Platinum, Palladium, Cobalt, Gold</td>\n",
       "      <td>44000</td>\n",
       "      <td>tonnes</td>\n",
       "      <td>1207.141910</td>\n",
       "      <td>2010-11-04</td>\n",
       "      <td>Nickel</td>\n",
       "      <td>2010</td>\n",
       "      <td>61.397820</td>\n",
       "      <td>-74.97753</td>\n",
       "    </tr>\n",
       "    <tr>\n",
       "      <th>71</th>\n",
       "      <td>Raglan</td>\n",
       "      <td>35769</td>\n",
       "      <td>Ji Lin Ji En Nickel Industry C</td>\n",
       "      <td>Canada</td>\n",
       "      <td>1.4 Moderate - No Change</td>\n",
       "      <td>Reserves Development</td>\n",
       "      <td>Active</td>\n",
       "      <td>Nickel, Copper, Platinum, Palladium, Cobalt, Gold</td>\n",
       "      <td>2233</td>\n",
       "      <td>tonnes</td>\n",
       "      <td>1207.141910</td>\n",
       "      <td>2010-11-04</td>\n",
       "      <td>Cobalt</td>\n",
       "      <td>2010</td>\n",
       "      <td>61.397820</td>\n",
       "      <td>-74.97753</td>\n",
       "    </tr>\n",
       "    <tr>\n",
       "      <th>73</th>\n",
       "      <td>Nunavik</td>\n",
       "      <td>31715</td>\n",
       "      <td>Ji Lin Ji En Nickel Industry C, Nearctic Nick...</td>\n",
       "      <td>Canada</td>\n",
       "      <td>1.4 Moderate - No Change</td>\n",
       "      <td>Limited Production</td>\n",
       "      <td>Active</td>\n",
       "      <td>Nickel, Copper, Cobalt, Platinum, Palladium, Gold</td>\n",
       "      <td>18670</td>\n",
       "      <td>tonnes</td>\n",
       "      <td>13878.648712</td>\n",
       "      <td>2010-04-14</td>\n",
       "      <td>Cobalt</td>\n",
       "      <td>2010</td>\n",
       "      <td>61.420856</td>\n",
       "      <td>-74.13750</td>\n",
       "    </tr>\n",
       "    <tr>\n",
       "      <th>75</th>\n",
       "      <td>Shining Tree</td>\n",
       "      <td>34245</td>\n",
       "      <td>Private Interest</td>\n",
       "      <td>Canada</td>\n",
       "      <td>1.4 Moderate - No Change</td>\n",
       "      <td>Reserves Development</td>\n",
       "      <td>Active</td>\n",
       "      <td>Nickel, Copper, Cobalt, Platinum, Palladium</td>\n",
       "      <td>651</td>\n",
       "      <td>tonnes</td>\n",
       "      <td>385.361244</td>\n",
       "      <td>2011-05-18</td>\n",
       "      <td>Cobalt</td>\n",
       "      <td>2011</td>\n",
       "      <td>47.565400</td>\n",
       "      <td>-81.17918</td>\n",
       "    </tr>\n",
       "    <tr>\n",
       "      <th>...</th>\n",
       "      <td>...</td>\n",
       "      <td>...</td>\n",
       "      <td>...</td>\n",
       "      <td>...</td>\n",
       "      <td>...</td>\n",
       "      <td>...</td>\n",
       "      <td>...</td>\n",
       "      <td>...</td>\n",
       "      <td>...</td>\n",
       "      <td>...</td>\n",
       "      <td>...</td>\n",
       "      <td>...</td>\n",
       "      <td>...</td>\n",
       "      <td>...</td>\n",
       "      <td>...</td>\n",
       "      <td>...</td>\n",
       "    </tr>\n",
       "    <tr>\n",
       "      <th>605</th>\n",
       "      <td>Nikolai</td>\n",
       "      <td>32184</td>\n",
       "      <td>Alaska Energy Metals Corp.</td>\n",
       "      <td>USA</td>\n",
       "      <td>1.5 Moderate - No Change</td>\n",
       "      <td>Reserves Development</td>\n",
       "      <td>Active</td>\n",
       "      <td>Nickel, Copper, Cobalt, Platinum, Palladium, G...</td>\n",
       "      <td>3675002</td>\n",
       "      <td>tonnes</td>\n",
       "      <td>88655.366125</td>\n",
       "      <td>2024-02-12</td>\n",
       "      <td>Nickel</td>\n",
       "      <td>2024</td>\n",
       "      <td>63.276410</td>\n",
       "      <td>-146.29058</td>\n",
       "    </tr>\n",
       "    <tr>\n",
       "      <th>616</th>\n",
       "      <td>Minago</td>\n",
       "      <td>27222</td>\n",
       "      <td>Norway House Cree Nation</td>\n",
       "      <td>Canada</td>\n",
       "      <td>1.4 Moderate - No Change</td>\n",
       "      <td>Feasibility Started</td>\n",
       "      <td>Active</td>\n",
       "      <td>Nickel, Copper, Cobalt, Palladium, Frac Sand, ...</td>\n",
       "      <td>391885</td>\n",
       "      <td>tonnes</td>\n",
       "      <td>6971.333721</td>\n",
       "      <td>2024-03-18</td>\n",
       "      <td>Nickel</td>\n",
       "      <td>2024</td>\n",
       "      <td>54.112770</td>\n",
       "      <td>-99.16678</td>\n",
       "    </tr>\n",
       "    <tr>\n",
       "      <th>617</th>\n",
       "      <td>Deloro</td>\n",
       "      <td>88428</td>\n",
       "      <td>Canada Nickel Co.</td>\n",
       "      <td>Canada</td>\n",
       "      <td>1.4 Moderate - No Change</td>\n",
       "      <td>Reserves Development</td>\n",
       "      <td>Active</td>\n",
       "      <td>Nickel, Palladium, Platinum, Cobalt, Chromium,...</td>\n",
       "      <td>46600</td>\n",
       "      <td>tonnes</td>\n",
       "      <td>19798.257552</td>\n",
       "      <td>2024-07-17</td>\n",
       "      <td>Cobalt</td>\n",
       "      <td>2024</td>\n",
       "      <td>48.403770</td>\n",
       "      <td>-81.25800</td>\n",
       "    </tr>\n",
       "    <tr>\n",
       "      <th>618</th>\n",
       "      <td>Crean Hill</td>\n",
       "      <td>38359</td>\n",
       "      <td>Magna Mining Inc.</td>\n",
       "      <td>Canada</td>\n",
       "      <td>1.4 Moderate - No Change</td>\n",
       "      <td>Prefeas/Scoping</td>\n",
       "      <td>Active</td>\n",
       "      <td>Nickel, Copper, Platinum, Palladium, Cobalt, Gold</td>\n",
       "      <td>9890</td>\n",
       "      <td>tonnes</td>\n",
       "      <td>9769.824656</td>\n",
       "      <td>2024-04-15</td>\n",
       "      <td>Cobalt</td>\n",
       "      <td>2024</td>\n",
       "      <td>46.429440</td>\n",
       "      <td>-81.34988</td>\n",
       "    </tr>\n",
       "    <tr>\n",
       "      <th>642</th>\n",
       "      <td>Alexo-Dundonald</td>\n",
       "      <td>33464</td>\n",
       "      <td>Class 1 Nickel &amp; Technologies</td>\n",
       "      <td>Canada</td>\n",
       "      <td>1.4 Moderate - No Change</td>\n",
       "      <td>Reserves Development</td>\n",
       "      <td>Active</td>\n",
       "      <td>Nickel, Copper, Cobalt, Gold, Platinum, Palladium</td>\n",
       "      <td>1449</td>\n",
       "      <td>tonnes</td>\n",
       "      <td>970.740384</td>\n",
       "      <td>2024-10-01</td>\n",
       "      <td>Cobalt</td>\n",
       "      <td>2024</td>\n",
       "      <td>48.653690</td>\n",
       "      <td>-80.80783</td>\n",
       "    </tr>\n",
       "  </tbody>\n",
       "</table>\n",
       "<p>74 rows × 16 columns</p>\n",
       "</div>"
      ],
      "text/plain": [
       "            Property  Property ID  \\\n",
       "59           Nunavik        31715   \n",
       "63            Raglan        35769   \n",
       "71            Raglan        35769   \n",
       "73           Nunavik        31715   \n",
       "75      Shining Tree        34245   \n",
       "..               ...          ...   \n",
       "605          Nikolai        32184   \n",
       "616           Minago        27222   \n",
       "617           Deloro        88428   \n",
       "618       Crean Hill        38359   \n",
       "642  Alexo-Dundonald        33464   \n",
       "\n",
       "                                              Owner(s) Country/Region  \\\n",
       "59    Ji Lin Ji En Nickel Industry C, Nearctic Nick...         Canada   \n",
       "63                      Ji Lin Ji En Nickel Industry C         Canada   \n",
       "71                      Ji Lin Ji En Nickel Industry C         Canada   \n",
       "73    Ji Lin Ji En Nickel Industry C, Nearctic Nick...         Canada   \n",
       "75                                    Private Interest         Canada   \n",
       "..                                                 ...            ...   \n",
       "605                         Alaska Energy Metals Corp.            USA   \n",
       "616                           Norway House Cree Nation         Canada   \n",
       "617                                  Canada Nickel Co.         Canada   \n",
       "618                                  Magna Mining Inc.         Canada   \n",
       "642                      Class 1 Nickel & Technologies         Canada   \n",
       "\n",
       "    Country/Region Risk Score & Outlook     Development Stage Activity Status  \\\n",
       "59             1.4 Moderate - No Change    Limited Production          Active   \n",
       "63             1.4 Moderate - No Change  Reserves Development          Active   \n",
       "71             1.4 Moderate - No Change  Reserves Development          Active   \n",
       "73             1.4 Moderate - No Change    Limited Production          Active   \n",
       "75             1.4 Moderate - No Change  Reserves Development          Active   \n",
       "..                                  ...                   ...             ...   \n",
       "605            1.5 Moderate - No Change  Reserves Development          Active   \n",
       "616            1.4 Moderate - No Change   Feasibility Started          Active   \n",
       "617            1.4 Moderate - No Change  Reserves Development          Active   \n",
       "618            1.4 Moderate - No Change       Prefeas/Scoping          Active   \n",
       "642            1.4 Moderate - No Change  Reserves Development          Active   \n",
       "\n",
       "                                          Commodity(s)  \\\n",
       "59   Nickel, Copper, Cobalt, Platinum, Palladium, Gold   \n",
       "63   Nickel, Copper, Platinum, Palladium, Cobalt, Gold   \n",
       "71   Nickel, Copper, Platinum, Palladium, Cobalt, Gold   \n",
       "73   Nickel, Copper, Cobalt, Platinum, Palladium, Gold   \n",
       "75         Nickel, Copper, Cobalt, Platinum, Palladium   \n",
       "..                                                 ...   \n",
       "605  Nickel, Copper, Cobalt, Platinum, Palladium, G...   \n",
       "616  Nickel, Copper, Cobalt, Palladium, Frac Sand, ...   \n",
       "617  Nickel, Palladium, Platinum, Cobalt, Chromium,...   \n",
       "618  Nickel, Copper, Platinum, Palladium, Cobalt, Gold   \n",
       "642  Nickel, Copper, Cobalt, Gold, Platinum, Palladium   \n",
       "\n",
       "     Primary Reserves and Resources    Unit  Total In-Situ Value ($M)  \\\n",
       "59                           350200  tonnes              13878.648712   \n",
       "63                            44000  tonnes               1207.141910   \n",
       "71                             2233  tonnes               1207.141910   \n",
       "73                            18670  tonnes              13878.648712   \n",
       "75                              651  tonnes                385.361244   \n",
       "..                              ...     ...                       ...   \n",
       "605                         3675002  tonnes              88655.366125   \n",
       "616                          391885  tonnes               6971.333721   \n",
       "617                           46600  tonnes              19798.257552   \n",
       "618                            9890  tonnes               9769.824656   \n",
       "642                            1449  tonnes                970.740384   \n",
       "\n",
       "    Reserves & Resources As Of Date Primary Mineral  Year  Latitude (degrees)  \\\n",
       "59                       2010-04-14          Nickel  2010           61.420856   \n",
       "63                       2010-11-04          Nickel  2010           61.397820   \n",
       "71                       2010-11-04          Cobalt  2010           61.397820   \n",
       "73                       2010-04-14          Cobalt  2010           61.420856   \n",
       "75                       2011-05-18          Cobalt  2011           47.565400   \n",
       "..                              ...             ...   ...                 ...   \n",
       "605                      2024-02-12          Nickel  2024           63.276410   \n",
       "616                      2024-03-18          Nickel  2024           54.112770   \n",
       "617                      2024-07-17          Cobalt  2024           48.403770   \n",
       "618                      2024-04-15          Cobalt  2024           46.429440   \n",
       "642                      2024-10-01          Cobalt  2024           48.653690   \n",
       "\n",
       "     Longitude (degrees)  \n",
       "59             -74.13750  \n",
       "63             -74.97753  \n",
       "71             -74.97753  \n",
       "73             -74.13750  \n",
       "75             -81.17918  \n",
       "..                   ...  \n",
       "605           -146.29058  \n",
       "616            -99.16678  \n",
       "617            -81.25800  \n",
       "618            -81.34988  \n",
       "642            -80.80783  \n",
       "\n",
       "[74 rows x 16 columns]"
      ]
     },
     "execution_count": 24,
     "metadata": {},
     "output_type": "execute_result"
    }
   ],
   "source": [
    "\n",
    "C = combined.copy()\n",
    "usca = C[C[\"Primary Mineral\"].isin([\"Cobalt\", \"Nickel\", \"Manganese\"]) & \n",
    "         C[\"Country/Region\"].isin([\"USA\", \"Canada\"])]\n",
    "usca"
   ]
  },
  {
   "cell_type": "code",
   "execution_count": 25,
   "id": "815994f2",
   "metadata": {},
   "outputs": [
    {
     "data": {
      "application/vnd.plotly.v1+json": {
       "config": {
        "plotlyServerURL": "https://plot.ly"
       },
       "data": [
        {
         "customdata": [
          [
           31715,
           350200,
           "Canada",
           "Nickel, Copper, Cobalt, Platinum, Palladium, Gold"
          ],
          [
           35769,
           44000,
           "Canada",
           "Nickel, Copper, Platinum, Palladium, Cobalt, Gold"
          ],
          [
           35686,
           300000,
           "Canada",
           "Nickel, Copper, Gold, Platinum, Palladium, Silver"
          ],
          [
           34245,
           17200,
           "Canada",
           "Nickel, Copper, Cobalt, Platinum, Palladium"
          ],
          [
           27096,
           46000,
           "Canada",
           "Nickel, Copper, Cobalt, Gold, Platinum, Palladium, Silver"
          ],
          [
           29586,
           50194,
           "Canada",
           "Nickel, Copper, Platinum"
          ],
          [
           92718,
           42000,
           "Canada",
           "Nickel"
          ],
          [
           80786,
           23133,
           "USA",
           "Cobalt, Copper, Nickel"
          ],
          [
           25816,
           5720702,
           "Canada",
           "Nickel, Cobalt, Platinum, Palladium, Iron Ore"
          ],
          [
           76126,
           68900,
           "Canada",
           "Nickel, Copper, Cobalt, Platinum, Palladium, Gold, Zinc, Lead"
          ],
          [
           76615,
           50439,
           "Canada",
           "Nickel, Copper, Cobalt, Platinum, Palladium, Gold"
          ],
          [
           31518,
           75750,
           "Canada",
           "Nickel, Copper, Palladium, Platinum, Gold, Cobalt, Silver"
          ],
          [
           27307,
           116800,
           "Canada",
           "Nickel, Copper, Cobalt, Platinum, Zinc, Lead, Silver, Gold"
          ],
          [
           33075,
           48398,
           "Canada",
           "Nickel, Copper, Cobalt, Silver, Gold, Platinum"
          ],
          [
           36221,
           217724,
           "USA",
           "Nickel, Copper, Cobalt, Platinum, Palladium, Gold"
          ],
          [
           29658,
           76611,
           "Canada",
           "Nickel, Copper, Cobalt, Platinum, Palladium, Gold, Iron Ore"
          ],
          [
           88353,
           70000,
           "Canada",
           "Nickel, Copper, Cobalt, Platinum, Palladium"
          ],
          [
           84130,
           907,
           "Canada",
           "Nickel, Copper, Cobalt, Platinum, Palladium, Gold, Silver"
          ],
          [
           30900,
           394300,
           "Canada",
           "Nickel, Copper, Palladium, Platinum, Cobalt, Diamonds, Iron Ore"
          ],
          [
           33795,
           70000,
           "USA",
           "Nickel, Copper, Gold, Platinum, Palladium, Cobalt, Silver"
          ],
          [
           90553,
           6000,
           "Canada",
           "Lithium, Copper, Nickel"
          ],
          [
           33382,
           125161,
           "Canada",
           "Nickel, Copper, Gold, Platinum, Palladium, Cobalt, Chromite, Lithium, Caesium, Tantalum, Rubidium"
          ],
          [
           26560,
           510000,
           "Canada",
           "Nickel, Copper, Cobalt, Gold, Silver, Palladium"
          ],
          [
           27672,
           1773000,
           "Canada",
           "Nickel, Copper, Rhodium, Cobalt, Platinum, Palladium, Gold, Silver"
          ],
          [
           26275,
           1435029,
           "Canada",
           "Nickel, Copper, Platinum, Palladium, Gold, Cobalt, Rhodium, Iridium, Ruthenium, Osmium, Magnesium"
          ],
          [
           35359,
           59100,
           "Canada",
           "Nickel, Cobalt, Copper, Palladium, Platinum, Gold, Silver, Lithium, Caesium, Tantalum"
          ],
          [
           32133,
           16577,
           "Canada",
           "Nickel, Copper, Cobalt, Platinum, Palladium"
          ],
          [
           28992,
           718800,
           "Canada",
           "Nickel, Copper, Cobalt"
          ],
          [
           30825,
           5702000,
           "Canada",
           "Nickel, Cobalt, Copper, Palladium, Platinum, Gold"
          ],
          [
           27146,
           2011000,
           "Canada",
           "Nickel, Copper, Cobalt, Platinum, Palladium, Rhodium, Gold, Silver"
          ],
          [
           35448,
           2435240,
           "Canada",
           "Nickel, Copper, Platinum, Palladium, Cobalt, Gold, Iron Ore"
          ],
          [
           86139,
           9761600,
           "Canada",
           "Nickel, Cobalt, Palladium, Platinum, Iron Ore, Chromium, Gold, Chromite"
          ],
          [
           37943,
           4548000,
           "Canada",
           "Nickel, Iron Ore, Chromite, Cobalt, Copper"
          ],
          [
           38359,
           283800,
           "Canada",
           "Nickel, Copper, Platinum, Palladium, Cobalt, Gold"
          ],
          [
           88428,
           1087200,
           "Canada",
           "Nickel, Palladium, Platinum, Cobalt, Chromium, Iron Ore, Chromite"
          ],
          [
           33464,
           54504,
           "Canada",
           "Nickel, Copper, Cobalt, Gold, Platinum, Palladium"
          ],
          [
           32184,
           3675002,
           "USA",
           "Nickel, Copper, Cobalt, Platinum, Palladium, Gold, Iron Ore, Chromite, Silver"
          ],
          [
           27222,
           391885,
           "Canada",
           "Nickel, Copper, Cobalt, Palladium, Frac Sand, Gold, Platinum, Silver, Rhodium"
          ]
         ],
         "geo": "geo",
         "hovertemplate": "Primary Mineral=Nickel<br>Latitude (degrees)=%{lat}<br>Longitude (degrees)=%{lon}<br>Property ID=%{customdata[0]}<br>Primary Reserves and Resources=%{customdata[1]}<br>Country/Region=%{customdata[2]}<br>Commodity(s)=%{customdata[3]}<extra></extra>",
         "lat": {
          "bdata": "pikCnN61TkDt2AjE67JOQCx96IL6XkpARpT2Bl/IR0DIJCNnYTdHQBNhw9MrdUtAnBa86CssSEDZJaq3BsZCQDXSUnk7UkhAOpLLf0gHSUAE54wo7WlLQBh9BWnGKkdAIo51cRtpTEDSqSuf5b1IQBLCo40jVkdAAAAAAACATUBWn6ut2PdKQCY2H9eGckhA9DKK5ZZyT0ByM9yAz19HQBL3WPrQTUlAqoJRSZ1QSUC0jqomiNpLQPQ3oRABP0dAHQOy17u7TkB8m/7sR9pJQDpAMEeP80lAYOrnTUUqTEA+lj50QT1NQH3LnC6LUUdAy6FFtvMlSEC1FfvL7mlIQC0hH/RsdktAEMzR4/c2R0CPjUC8rjNIQHLcKR2sU0hAyCQjZ2GjT0Am/FI/bw5LQA==",
          "dtype": "f8"
         },
         "legendgroup": "Nickel",
         "lon": {
          "bdata": "zczMzMyIUsD4Nv3Zj75SwJYhjnVxk1XAOgZkr3dLVMChSs0eaFNUwP/nMF9eqljAJNbiUwBAVMA5l+KqspFWwGMoJ9pVnFPAS1mGONanU8DEX5M16vtYwExPWOIBd1TAvK5fsBtCWcBbsb/snmhXwG+70FynR1fAwjQMHxFpUcBhiQeUTbFXwCjVPh2P01XAOIQqNXsuWMA1RuuoavhVwP7UeOkm31fAlPsdigLnV8B+NQcI5nhYwPVnP1JERFTAOX8TChFxYcDJq3MMyOZSwF6AfXTq2lXAgJ9x4UAMT8C2SrA4nBtgwMvW+iKhV1TAbJVgcThBVMBIp658llVUwH/7OnDOVl/AkWEVb2RWVMCNl24Sg1BUwJKumXyzM1TA5ZttbkxJYsAfaAWGrMpYwA==",
          "dtype": "f8"
         },
         "marker": {
          "color": "#636efa",
          "symbol": "circle"
         },
         "mode": "markers",
         "name": "Nickel",
         "showlegend": true,
         "type": "scattergeo"
        },
        {
         "customdata": [
          [
           35769,
           2233,
           "Canada",
           "Nickel, Copper, Platinum, Palladium, Cobalt, Gold"
          ],
          [
           31715,
           18670,
           "Canada",
           "Nickel, Copper, Cobalt, Platinum, Palladium, Gold"
          ],
          [
           34245,
           651,
           "Canada",
           "Nickel, Copper, Cobalt, Platinum, Palladium"
          ],
          [
           27096,
           1060,
           "Canada",
           "Nickel, Copper, Cobalt, Gold, Platinum, Palladium, Silver"
          ],
          [
           29668,
           74249,
           "Canada",
           "Cobalt, Gold, Bismuth, Copper"
          ],
          [
           80786,
           15876,
           "USA",
           "Cobalt, Copper, Nickel"
          ],
          [
           29419,
           340,
           "Canada",
           "Cobalt, Copper, Gold, Silver, Nickel"
          ],
          [
           25816,
           229518,
           "Canada",
           "Nickel, Cobalt, Platinum, Palladium, Iron Ore"
          ],
          [
           76126,
           1463,
           "Canada",
           "Nickel, Copper, Cobalt, Platinum, Palladium, Gold, Zinc, Lead"
          ],
          [
           34473,
           597,
           "Canada",
           "Cobalt, Copper, Silver, Zinc, Gold"
          ],
          [
           27307,
           5300,
           "Canada",
           "Nickel, Copper, Cobalt, Platinum, Zinc, Lead, Silver, Gold"
          ],
          [
           31518,
           4536,
           "Canada",
           "Nickel, Copper, Palladium, Platinum, Gold, Cobalt, Silver"
          ],
          [
           76615,
           2646,
           "Canada",
           "Nickel, Copper, Cobalt, Platinum, Palladium, Gold"
          ],
          [
           29658,
           4417,
           "Canada",
           "Nickel, Copper, Cobalt, Platinum, Palladium, Gold, Iron Ore"
          ],
          [
           36221,
           5974,
           "USA",
           "Nickel, Copper, Cobalt, Platinum, Palladium, Gold"
          ],
          [
           30900,
           46400,
           "Canada",
           "Nickel, Copper, Palladium, Platinum, Cobalt, Diamonds, Iron Ore"
          ],
          [
           33075,
           544,
           "Canada",
           "Nickel, Copper, Cobalt, Silver, Gold, Platinum"
          ],
          [
           32133,
           783,
           "Canada",
           "Nickel, Copper, Cobalt, Platinum, Palladium"
          ],
          [
           26275,
           79469,
           "Canada",
           "Nickel, Copper, Platinum, Palladium, Gold, Cobalt, Rhodium, Iridium, Ruthenium, Osmium, Magnesium"
          ],
          [
           27870,
           9268,
           "USA",
           "Cobalt, Copper, Gold"
          ],
          [
           26560,
           8000,
           "Canada",
           "Nickel, Copper, Cobalt, Gold, Silver, Palladium"
          ],
          [
           27672,
           48500,
           "Canada",
           "Nickel, Copper, Rhodium, Cobalt, Platinum, Palladium, Gold, Silver"
          ],
          [
           27146,
           45000,
           "Canada",
           "Nickel, Copper, Cobalt, Platinum, Palladium, Rhodium, Gold, Silver"
          ],
          [
           28992,
           44390,
           "Canada",
           "Nickel, Copper, Cobalt"
          ],
          [
           35448,
           108239,
           "Canada",
           "Nickel, Copper, Platinum, Palladium, Cobalt, Gold, Iron Ore"
          ],
          [
           86139,
           552200,
           "Canada",
           "Nickel, Cobalt, Palladium, Platinum, Iron Ore, Chromium, Gold, Chromite"
          ],
          [
           30825,
           345000,
           "Canada",
           "Nickel, Cobalt, Copper, Palladium, Platinum, Gold"
          ],
          [
           33382,
           6224,
           "Canada",
           "Nickel, Copper, Gold, Platinum, Palladium, Cobalt, Chromite, Lithium, Caesium, Tantalum, Rubidium"
          ],
          [
           35359,
           3700,
           "Canada",
           "Nickel, Cobalt, Copper, Palladium, Platinum, Gold, Silver, Lithium, Caesium, Tantalum"
          ],
          [
           32184,
           285763,
           "USA",
           "Nickel, Copper, Cobalt, Platinum, Palladium, Gold, Iron Ore, Chromite, Silver"
          ],
          [
           88428,
           46600,
           "Canada",
           "Nickel, Palladium, Platinum, Cobalt, Chromium, Iron Ore, Chromite"
          ],
          [
           38359,
           9890,
           "Canada",
           "Nickel, Copper, Platinum, Palladium, Cobalt, Gold"
          ],
          [
           33464,
           1449,
           "Canada",
           "Nickel, Copper, Cobalt, Gold, Platinum, Palladium"
          ]
         ],
         "geo": "geo",
         "hovertemplate": "Primary Mineral=Cobalt<br>Latitude (degrees)=%{lat}<br>Longitude (degrees)=%{lon}<br>Property ID=%{customdata[0]}<br>Primary Reserves and Resources=%{customdata[1]}<br>Country/Region=%{customdata[2]}<br>Commodity(s)=%{customdata[3]}<extra></extra>",
         "lat": {
          "bdata": "7dgIxOuyTkCmKQKc3rVOQEaU9gZfyEdAyCQjZ2E3R0BmZmZmZsZPQNklqrcGxkJAqwmi7gM8SUA10lJ5O1JIQDqSy39IB0lAXoB9dOqyR0AijnVxG2lMQBh9BWnGKkdABOeMKO1pS0AAAAAAAIBNQBLCo40jVkdA9DKK5ZZyT0DSqSuf5b1IQDpAMEeP80lAHQOy17u7TkBI+Um1T3tGQLSOqiaI2ktA9DehEAE/R0B9y5wui1FHQGDq501FKkxAy6FFtvMlSEC1FfvL7mlIQD6WPnRBPU1AqoJRSZ1QSUB8m/7sR9pJQMgkI2dho09Aj41AvK4zSEAQzNHj9zZHQHLcKR2sU0hA",
          "dtype": "f8"
         },
         "legendgroup": "Cobalt",
         "lon": {
          "bdata": "+Db92Y++UsDNzMzMzIhSwDoGZK93S1TAoUrNHmhTVMALmMCtuy9dwDmX4qqykVbABrth26K+V8BjKCfaVZxTwEtZhjjWp1PAnUtxVdk9VMC8rl+wG0JZwExPWOIBd1TAxF+TNer7WMDCNAwfEWlRwG+70FynR1fAOIQqNXsuWMBbsb/snmhXwF6AfXTq2lXAOX8TChFxYcBIisiwiodcwH41BwjmeFjA9Wc/UkREVMDL1voioVdUwICfceFADE/AbJVgcThBVMBIp658llVUwLZKsDicG2DAlPsdigLnV8DJq3MMyOZSwOWbbW5MSWLAjZduEoNQVMCRYRVvZFZUwJKumXyzM1TA",
          "dtype": "f8"
         },
         "marker": {
          "color": "#EF553B",
          "symbol": "circle"
         },
         "mode": "markers",
         "name": "Cobalt",
         "showlegend": true,
         "type": "scattergeo"
        },
        {
         "customdata": [
          [
           61015,
           135488474,
           "Canada",
           "Manganese, Iron Ore"
          ],
          [
           61022,
           62860000,
           "Canada",
           "Manganese, Iron Ore"
          ],
          [
           68328,
           11149000,
           "USA",
           "Manganese, Iron Ore, Silica, Aluminum, Cobalt, Magnesium, Tin, Strontium, Titanium"
          ]
         ],
         "geo": "geo",
         "hovertemplate": "Primary Mineral=Manganese<br>Latitude (degrees)=%{lat}<br>Longitude (degrees)=%{lon}<br>Property ID=%{customdata[0]}<br>Primary Reserves and Resources=%{customdata[1]}<br>Country/Region=%{customdata[2]}<br>Commodity(s)=%{customdata[3]}<extra></extra>",
         "lat": {
          "bdata": "16NwPQoXR0Abu0T11hxHQKOvIM1YYEdA",
          "dtype": "f8"
         },
         "legendgroup": "Manganese",
         "lon": {
          "bdata": "KVyPwvXoUMBEqFKzB+hQwA1slWBxflfA",
          "dtype": "f8"
         },
         "marker": {
          "color": "#00cc96",
          "symbol": "circle"
         },
         "mode": "markers",
         "name": "Manganese",
         "showlegend": true,
         "type": "scattergeo"
        }
       ],
       "layout": {
        "geo": {
         "center": {},
         "domain": {
          "x": [
           0,
           1
          ],
          "y": [
           0,
           1
          ]
         },
         "landcolor": "rgb(217, 217, 217)",
         "lataxis": {
          "range": [
           27.54708,
           73.55
          ]
         },
         "lonaxis": {
          "range": [
           -156.29058,
           -52.09573
          ]
         },
         "showland": true
        },
        "legend": {
         "title": {
          "text": "Primary Mineral"
         },
         "tracegroupgap": 0
        },
        "margin": {
         "t": 60
        },
        "template": {
         "data": {
          "bar": [
           {
            "error_x": {
             "color": "#2a3f5f"
            },
            "error_y": {
             "color": "#2a3f5f"
            },
            "marker": {
             "line": {
              "color": "#E5ECF6",
              "width": 0.5
             },
             "pattern": {
              "fillmode": "overlay",
              "size": 10,
              "solidity": 0.2
             }
            },
            "type": "bar"
           }
          ],
          "barpolar": [
           {
            "marker": {
             "line": {
              "color": "#E5ECF6",
              "width": 0.5
             },
             "pattern": {
              "fillmode": "overlay",
              "size": 10,
              "solidity": 0.2
             }
            },
            "type": "barpolar"
           }
          ],
          "carpet": [
           {
            "aaxis": {
             "endlinecolor": "#2a3f5f",
             "gridcolor": "white",
             "linecolor": "white",
             "minorgridcolor": "white",
             "startlinecolor": "#2a3f5f"
            },
            "baxis": {
             "endlinecolor": "#2a3f5f",
             "gridcolor": "white",
             "linecolor": "white",
             "minorgridcolor": "white",
             "startlinecolor": "#2a3f5f"
            },
            "type": "carpet"
           }
          ],
          "choropleth": [
           {
            "colorbar": {
             "outlinewidth": 0,
             "ticks": ""
            },
            "type": "choropleth"
           }
          ],
          "contour": [
           {
            "colorbar": {
             "outlinewidth": 0,
             "ticks": ""
            },
            "colorscale": [
             [
              0,
              "#0d0887"
             ],
             [
              0.1111111111111111,
              "#46039f"
             ],
             [
              0.2222222222222222,
              "#7201a8"
             ],
             [
              0.3333333333333333,
              "#9c179e"
             ],
             [
              0.4444444444444444,
              "#bd3786"
             ],
             [
              0.5555555555555556,
              "#d8576b"
             ],
             [
              0.6666666666666666,
              "#ed7953"
             ],
             [
              0.7777777777777778,
              "#fb9f3a"
             ],
             [
              0.8888888888888888,
              "#fdca26"
             ],
             [
              1,
              "#f0f921"
             ]
            ],
            "type": "contour"
           }
          ],
          "contourcarpet": [
           {
            "colorbar": {
             "outlinewidth": 0,
             "ticks": ""
            },
            "type": "contourcarpet"
           }
          ],
          "heatmap": [
           {
            "colorbar": {
             "outlinewidth": 0,
             "ticks": ""
            },
            "colorscale": [
             [
              0,
              "#0d0887"
             ],
             [
              0.1111111111111111,
              "#46039f"
             ],
             [
              0.2222222222222222,
              "#7201a8"
             ],
             [
              0.3333333333333333,
              "#9c179e"
             ],
             [
              0.4444444444444444,
              "#bd3786"
             ],
             [
              0.5555555555555556,
              "#d8576b"
             ],
             [
              0.6666666666666666,
              "#ed7953"
             ],
             [
              0.7777777777777778,
              "#fb9f3a"
             ],
             [
              0.8888888888888888,
              "#fdca26"
             ],
             [
              1,
              "#f0f921"
             ]
            ],
            "type": "heatmap"
           }
          ],
          "histogram": [
           {
            "marker": {
             "pattern": {
              "fillmode": "overlay",
              "size": 10,
              "solidity": 0.2
             }
            },
            "type": "histogram"
           }
          ],
          "histogram2d": [
           {
            "colorbar": {
             "outlinewidth": 0,
             "ticks": ""
            },
            "colorscale": [
             [
              0,
              "#0d0887"
             ],
             [
              0.1111111111111111,
              "#46039f"
             ],
             [
              0.2222222222222222,
              "#7201a8"
             ],
             [
              0.3333333333333333,
              "#9c179e"
             ],
             [
              0.4444444444444444,
              "#bd3786"
             ],
             [
              0.5555555555555556,
              "#d8576b"
             ],
             [
              0.6666666666666666,
              "#ed7953"
             ],
             [
              0.7777777777777778,
              "#fb9f3a"
             ],
             [
              0.8888888888888888,
              "#fdca26"
             ],
             [
              1,
              "#f0f921"
             ]
            ],
            "type": "histogram2d"
           }
          ],
          "histogram2dcontour": [
           {
            "colorbar": {
             "outlinewidth": 0,
             "ticks": ""
            },
            "colorscale": [
             [
              0,
              "#0d0887"
             ],
             [
              0.1111111111111111,
              "#46039f"
             ],
             [
              0.2222222222222222,
              "#7201a8"
             ],
             [
              0.3333333333333333,
              "#9c179e"
             ],
             [
              0.4444444444444444,
              "#bd3786"
             ],
             [
              0.5555555555555556,
              "#d8576b"
             ],
             [
              0.6666666666666666,
              "#ed7953"
             ],
             [
              0.7777777777777778,
              "#fb9f3a"
             ],
             [
              0.8888888888888888,
              "#fdca26"
             ],
             [
              1,
              "#f0f921"
             ]
            ],
            "type": "histogram2dcontour"
           }
          ],
          "mesh3d": [
           {
            "colorbar": {
             "outlinewidth": 0,
             "ticks": ""
            },
            "type": "mesh3d"
           }
          ],
          "parcoords": [
           {
            "line": {
             "colorbar": {
              "outlinewidth": 0,
              "ticks": ""
             }
            },
            "type": "parcoords"
           }
          ],
          "pie": [
           {
            "automargin": true,
            "type": "pie"
           }
          ],
          "scatter": [
           {
            "fillpattern": {
             "fillmode": "overlay",
             "size": 10,
             "solidity": 0.2
            },
            "type": "scatter"
           }
          ],
          "scatter3d": [
           {
            "line": {
             "colorbar": {
              "outlinewidth": 0,
              "ticks": ""
             }
            },
            "marker": {
             "colorbar": {
              "outlinewidth": 0,
              "ticks": ""
             }
            },
            "type": "scatter3d"
           }
          ],
          "scattercarpet": [
           {
            "marker": {
             "colorbar": {
              "outlinewidth": 0,
              "ticks": ""
             }
            },
            "type": "scattercarpet"
           }
          ],
          "scattergeo": [
           {
            "marker": {
             "colorbar": {
              "outlinewidth": 0,
              "ticks": ""
             }
            },
            "type": "scattergeo"
           }
          ],
          "scattergl": [
           {
            "marker": {
             "colorbar": {
              "outlinewidth": 0,
              "ticks": ""
             }
            },
            "type": "scattergl"
           }
          ],
          "scattermap": [
           {
            "marker": {
             "colorbar": {
              "outlinewidth": 0,
              "ticks": ""
             }
            },
            "type": "scattermap"
           }
          ],
          "scattermapbox": [
           {
            "marker": {
             "colorbar": {
              "outlinewidth": 0,
              "ticks": ""
             }
            },
            "type": "scattermapbox"
           }
          ],
          "scatterpolar": [
           {
            "marker": {
             "colorbar": {
              "outlinewidth": 0,
              "ticks": ""
             }
            },
            "type": "scatterpolar"
           }
          ],
          "scatterpolargl": [
           {
            "marker": {
             "colorbar": {
              "outlinewidth": 0,
              "ticks": ""
             }
            },
            "type": "scatterpolargl"
           }
          ],
          "scatterternary": [
           {
            "marker": {
             "colorbar": {
              "outlinewidth": 0,
              "ticks": ""
             }
            },
            "type": "scatterternary"
           }
          ],
          "surface": [
           {
            "colorbar": {
             "outlinewidth": 0,
             "ticks": ""
            },
            "colorscale": [
             [
              0,
              "#0d0887"
             ],
             [
              0.1111111111111111,
              "#46039f"
             ],
             [
              0.2222222222222222,
              "#7201a8"
             ],
             [
              0.3333333333333333,
              "#9c179e"
             ],
             [
              0.4444444444444444,
              "#bd3786"
             ],
             [
              0.5555555555555556,
              "#d8576b"
             ],
             [
              0.6666666666666666,
              "#ed7953"
             ],
             [
              0.7777777777777778,
              "#fb9f3a"
             ],
             [
              0.8888888888888888,
              "#fdca26"
             ],
             [
              1,
              "#f0f921"
             ]
            ],
            "type": "surface"
           }
          ],
          "table": [
           {
            "cells": {
             "fill": {
              "color": "#EBF0F8"
             },
             "line": {
              "color": "white"
             }
            },
            "header": {
             "fill": {
              "color": "#C8D4E3"
             },
             "line": {
              "color": "white"
             }
            },
            "type": "table"
           }
          ]
         },
         "layout": {
          "annotationdefaults": {
           "arrowcolor": "#2a3f5f",
           "arrowhead": 0,
           "arrowwidth": 1
          },
          "autotypenumbers": "strict",
          "coloraxis": {
           "colorbar": {
            "outlinewidth": 0,
            "ticks": ""
           }
          },
          "colorscale": {
           "diverging": [
            [
             0,
             "#8e0152"
            ],
            [
             0.1,
             "#c51b7d"
            ],
            [
             0.2,
             "#de77ae"
            ],
            [
             0.3,
             "#f1b6da"
            ],
            [
             0.4,
             "#fde0ef"
            ],
            [
             0.5,
             "#f7f7f7"
            ],
            [
             0.6,
             "#e6f5d0"
            ],
            [
             0.7,
             "#b8e186"
            ],
            [
             0.8,
             "#7fbc41"
            ],
            [
             0.9,
             "#4d9221"
            ],
            [
             1,
             "#276419"
            ]
           ],
           "sequential": [
            [
             0,
             "#0d0887"
            ],
            [
             0.1111111111111111,
             "#46039f"
            ],
            [
             0.2222222222222222,
             "#7201a8"
            ],
            [
             0.3333333333333333,
             "#9c179e"
            ],
            [
             0.4444444444444444,
             "#bd3786"
            ],
            [
             0.5555555555555556,
             "#d8576b"
            ],
            [
             0.6666666666666666,
             "#ed7953"
            ],
            [
             0.7777777777777778,
             "#fb9f3a"
            ],
            [
             0.8888888888888888,
             "#fdca26"
            ],
            [
             1,
             "#f0f921"
            ]
           ],
           "sequentialminus": [
            [
             0,
             "#0d0887"
            ],
            [
             0.1111111111111111,
             "#46039f"
            ],
            [
             0.2222222222222222,
             "#7201a8"
            ],
            [
             0.3333333333333333,
             "#9c179e"
            ],
            [
             0.4444444444444444,
             "#bd3786"
            ],
            [
             0.5555555555555556,
             "#d8576b"
            ],
            [
             0.6666666666666666,
             "#ed7953"
            ],
            [
             0.7777777777777778,
             "#fb9f3a"
            ],
            [
             0.8888888888888888,
             "#fdca26"
            ],
            [
             1,
             "#f0f921"
            ]
           ]
          },
          "colorway": [
           "#636efa",
           "#EF553B",
           "#00cc96",
           "#ab63fa",
           "#FFA15A",
           "#19d3f3",
           "#FF6692",
           "#B6E880",
           "#FF97FF",
           "#FECB52"
          ],
          "font": {
           "color": "#2a3f5f"
          },
          "geo": {
           "bgcolor": "white",
           "lakecolor": "white",
           "landcolor": "#E5ECF6",
           "showlakes": true,
           "showland": true,
           "subunitcolor": "white"
          },
          "hoverlabel": {
           "align": "left"
          },
          "hovermode": "closest",
          "mapbox": {
           "style": "light"
          },
          "paper_bgcolor": "white",
          "plot_bgcolor": "#E5ECF6",
          "polar": {
           "angularaxis": {
            "gridcolor": "white",
            "linecolor": "white",
            "ticks": ""
           },
           "bgcolor": "#E5ECF6",
           "radialaxis": {
            "gridcolor": "white",
            "linecolor": "white",
            "ticks": ""
           }
          },
          "scene": {
           "xaxis": {
            "backgroundcolor": "#E5ECF6",
            "gridcolor": "white",
            "gridwidth": 2,
            "linecolor": "white",
            "showbackground": true,
            "ticks": "",
            "zerolinecolor": "white"
           },
           "yaxis": {
            "backgroundcolor": "#E5ECF6",
            "gridcolor": "white",
            "gridwidth": 2,
            "linecolor": "white",
            "showbackground": true,
            "ticks": "",
            "zerolinecolor": "white"
           },
           "zaxis": {
            "backgroundcolor": "#E5ECF6",
            "gridcolor": "white",
            "gridwidth": 2,
            "linecolor": "white",
            "showbackground": true,
            "ticks": "",
            "zerolinecolor": "white"
           }
          },
          "shapedefaults": {
           "line": {
            "color": "#2a3f5f"
           }
          },
          "ternary": {
           "aaxis": {
            "gridcolor": "white",
            "linecolor": "white",
            "ticks": ""
           },
           "baxis": {
            "gridcolor": "white",
            "linecolor": "white",
            "ticks": ""
           },
           "bgcolor": "#E5ECF6",
           "caxis": {
            "gridcolor": "white",
            "linecolor": "white",
            "ticks": ""
           }
          },
          "title": {
           "x": 0.05
          },
          "xaxis": {
           "automargin": true,
           "gridcolor": "white",
           "linecolor": "white",
           "ticks": "",
           "title": {
            "standoff": 15
           },
           "zerolinecolor": "white",
           "zerolinewidth": 2
          },
          "yaxis": {
           "automargin": true,
           "gridcolor": "white",
           "linecolor": "white",
           "ticks": "",
           "title": {
            "standoff": 15
           },
           "zerolinecolor": "white",
           "zerolinewidth": 2
          }
         }
        }
       }
      }
     },
     "metadata": {},
     "output_type": "display_data"
    }
   ],
   "source": [
    "usca_map = px.scatter_geo(usca, lat=\"Latitude (degrees)\", lon=\"Longitude (degrees)\", color=\"Primary Mineral\", \n",
    "                    size_max=20, hover_data=[\"Property ID\",\"Primary Reserves and Resources\", \"Country/Region\", \n",
    "                                             \"Commodity(s)\"],\n",
    "                    )\n",
    "\n",
    "usca_map.update_layout(\n",
    "    geo=dict(\n",
    "        \n",
    "        showland=True,\n",
    "        landcolor=\"rgb(217, 217, 217)\",\n",
    "        lonaxis=dict(range=[usca[\"Longitude (degrees)\"].min() - 10, usca[\"Longitude (degrees)\"].max() + 10]),  # Adjust padding\n",
    "        lataxis=dict(range=[usca[\"Latitude (degrees)\"].min() - 10, usca[\"Latitude (degrees)\"].max() + 10]),  # Adjust padding\n",
    "    )\n",
    ")"
   ]
  },
  {
   "cell_type": "code",
   "execution_count": 26,
   "id": "9680c9ad",
   "metadata": {},
   "outputs": [],
   "source": [
    "import networkx as nx\n",
    "from geopy.distance import geodesic\n",
    "import numpy as np\n",
    "import pandas as pd\n",
    "import plotly.graph_objects as go\n",
    "from sklearn.cluster import DBSCAN\n",
    "from sklearn.preprocessing import LabelEncoder\n",
    "\n",
    "def build(df, max_distance_per_cluster=5000, alpha=0.6, beta=1 - 0.6): \n",
    "    \n",
    "    simplified_df = df.rename(columns={\n",
    "        'Latitude (degrees)': 'Lat', \n",
    "        'Longitude (degrees)': 'Lon',\n",
    "        'Primary Reserves and Resources': 'Reserves',\n",
    "        'Property ID': 'ID',\n",
    "        'Property': 'Name'\n",
    "    })\n",
    "\n",
    "    # simplified_df['Normalized_Reserves'] = simplified_df['Reserves'] / simplified_df['Reserves'].max()\n",
    "    coords = simplified_df[['Lat', 'Lon']]\n",
    "    clustering = DBSCAN(eps=2).fit(coords)\n",
    "    simplified_df['Cluster'] = clustering.labels_\n",
    "\n",
    "    fig = go.Figure()\n",
    "    required_metals = {\"Cobalt\", \"Nickel\", \"Manganese\"}\n",
    "\n",
    "    def check_coverage(sites):\n",
    "        found = set()\n",
    "        for s in sites:\n",
    "            for metal in required_metals:\n",
    "                if metal.lower() in s['Commodity(s)'].lower():\n",
    "                    found.add(metal)\n",
    "        return required_metals.issubset(found)\n",
    "\n",
    "    for cluster in simplified_df['Cluster'].unique():\n",
    "        cluster_data = simplified_df[simplified_df['Cluster'] == cluster].copy()\n",
    "        if cluster_data.empty:\n",
    "            continue\n",
    "\n",
    "        fig.add_trace(go.Scattergeo(\n",
    "            lon=cluster_data['Lon'],\n",
    "            lat=cluster_data['Lat'],\n",
    "            customdata=cluster_data[['Reserves', 'Name', 'Commodity(s)', \"Primary Mineral\"]],\n",
    "            mode='markers+text',\n",
    "            hovertemplate=\"<b>%{customdata[1]}</b><br>\" +\n",
    "                          \"Latitude: %{lat}<br>\" +\n",
    "                          \"Longitude: %{lon}<br>\" +\n",
    "                          \"Commodities: %{customdata[2]}<br>\" +\n",
    "                          \"Primary Commodity: %{customdata[3]}<br>\" +\n",
    "                          \"Reserves: %{customdata[0]:,.0f} tonnes\",\n",
    "            textposition=\"bottom center\",\n",
    "            marker=dict(size=8, symbol='circle'),\n",
    "            name=f'Cluster {cluster}'\n",
    "        ))\n",
    "\n",
    "        # Greedy selection algorithm with metal constraint\n",
    "        mines = cluster_data.to_dict(orient='records')\n",
    "        start = max(mines, key=lambda x: x['Reserves'])\n",
    "\n",
    "        visited = [start]\n",
    "        unvisited = [m for m in mines if m['ID'] != start['ID']]\n",
    "        total_distance = 0\n",
    "\n",
    "        while unvisited:\n",
    "            best_mine = None\n",
    "            best_cost = float('inf')\n",
    "            best_distance = None\n",
    "\n",
    "            for candidate in unvisited:\n",
    "                dist = geodesic(\n",
    "                    (visited[-1]['Lat'], visited[-1]['Lon']),\n",
    "                    (candidate['Lat'], candidate['Lon'])\n",
    "                ).km\n",
    "\n",
    "                if dist == 0 or candidate['Reserves'] == 0:\n",
    "                    continue\n",
    "\n",
    "              \n",
    "                cost = alpha * dist + beta * (1 / candidate['Reserves'])\n",
    "\n",
    "                if cost < best_cost:\n",
    "                    best_cost = cost\n",
    "                    best_mine = candidate\n",
    "                    best_distance = dist\n",
    "\n",
    "            if best_distance and total_distance + best_distance <= max_distance_per_cluster:\n",
    "                total_distance += best_distance\n",
    "                visited.append(best_mine)\n",
    "                unvisited = [u for u in unvisited if u['ID'] != best_mine['ID']]\n",
    "            else:\n",
    "                break\n",
    "\n",
    "            if check_coverage(visited):\n",
    "                break\n",
    "\n",
    "        # Try adding backup mines just to fulfill constraints\n",
    "        if not check_coverage(visited):\n",
    "            for backup in sorted(unvisited, key=lambda x: -x['Reserves']):\n",
    "                dist = geodesic(\n",
    "                    (visited[-1]['Lat'], visited[-1]['Lon']),\n",
    "                    (backup['Lat'], backup['Lon'])\n",
    "                ).km\n",
    "                if total_distance + dist > max_distance_per_cluster:\n",
    "                    continue\n",
    "                visited.append(backup)\n",
    "                total_distance += dist\n",
    "                if check_coverage(visited):\n",
    "                    break\n",
    "\n",
    "        # Draw path\n",
    "        for i in range(len(visited) - 1):\n",
    "            node1 = visited[i]\n",
    "            node2 = visited[i + 1]\n",
    "            fig.add_trace(go.Scattergeo(\n",
    "                lon=[node1['Lon'], node2['Lon']],\n",
    "                lat=[node1['Lat'], node2['Lat']],\n",
    "                mode='lines',\n",
    "                line=dict(width=2, color='gray'),\n",
    "                showlegend=False\n",
    "            ))\n",
    "\n",
    "    fig.update_layout(\n",
    "        title=\"Constraint-Aware Resource Route: Covering Key Metals\",\n",
    "        margin=dict(l=5, r=5, t=30, b=30),\n",
    "        geo=dict(\n",
    "            scope='world',\n",
    "            showland=True,\n",
    "            landcolor='lightgray',\n",
    "            countrycolor='white',\n",
    "            lonaxis=dict(range=[simplified_df[\"Lon\"].min() - 10, simplified_df[\"Lon\"].max() + 10]),\n",
    "            lataxis=dict(range=[simplified_df[\"Lat\"].min() - 10, simplified_df[\"Lat\"].max() + 10])\n",
    "        ),\n",
    "        template=\"plotly_white\"\n",
    "    )\n",
    "\n",
    "    fig.show()\n"
   ]
  },
  {
   "cell_type": "code",
   "execution_count": 27,
   "id": "d839acd3",
   "metadata": {},
   "outputs": [
    {
     "data": {
      "application/vnd.plotly.v1+json": {
       "config": {
        "plotlyServerURL": "https://plot.ly"
       },
       "data": [
        {
         "customdata": [
          [
           350200,
           "Nunavik",
           "Nickel, Copper, Cobalt, Platinum, Palladium, Gold",
           "Nickel"
          ],
          [
           44000,
           "Raglan",
           "Nickel, Copper, Platinum, Palladium, Cobalt, Gold",
           "Nickel"
          ],
          [
           2233,
           "Raglan",
           "Nickel, Copper, Platinum, Palladium, Cobalt, Gold",
           "Cobalt"
          ],
          [
           18670,
           "Nunavik",
           "Nickel, Copper, Cobalt, Platinum, Palladium, Gold",
           "Cobalt"
          ],
          [
           300000,
           "Eagle's Nest",
           "Nickel, Copper, Gold, Platinum, Palladium, Silver",
           "Nickel"
          ],
          [
           74249,
           "Nico",
           "Cobalt, Gold, Bismuth, Copper",
           "Cobalt"
          ],
          [
           135488474,
           "Woodstock",
           "Manganese, Iron Ore",
           "Manganese"
          ],
          [
           15876,
           "Madison",
           "Cobalt, Copper, Nickel",
           "Cobalt"
          ],
          [
           23133,
           "Madison",
           "Cobalt, Copper, Nickel",
           "Nickel"
          ],
          [
           229518,
           "Dumont",
           "Nickel, Cobalt, Platinum, Palladium, Iron Ore",
           "Cobalt"
          ],
          [
           5720702,
           "Dumont",
           "Nickel, Cobalt, Platinum, Palladium, Iron Ore",
           "Nickel"
          ],
          [
           68900,
           "Grasset",
           "Nickel, Copper, Cobalt, Platinum, Palladium, Gold, Zinc, Lead",
           "Nickel"
          ],
          [
           1463,
           "Grasset",
           "Nickel, Copper, Cobalt, Platinum, Palladium, Gold, Zinc, Lead",
           "Cobalt"
          ],
          [
           116800,
           "Lynn Lake",
           "Nickel, Copper, Cobalt, Platinum, Zinc, Lead, Silver, Gold",
           "Nickel"
          ],
          [
           5300,
           "Lynn Lake",
           "Nickel, Copper, Cobalt, Platinum, Zinc, Lead, Silver, Gold",
           "Cobalt"
          ],
          [
           217724,
           "Tamarack",
           "Nickel, Copper, Cobalt, Platinum, Palladium, Gold",
           "Nickel"
          ],
          [
           76611,
           "Hawk Ridge",
           "Nickel, Copper, Cobalt, Platinum, Palladium, Gold, Iron Ore",
           "Nickel"
          ],
          [
           4417,
           "Hawk Ridge",
           "Nickel, Copper, Cobalt, Platinum, Palladium, Gold, Iron Ore",
           "Cobalt"
          ],
          [
           5974,
           "Tamarack",
           "Nickel, Copper, Cobalt, Platinum, Palladium, Gold",
           "Cobalt"
          ],
          [
           70000,
           "Nickel Island",
           "Nickel, Copper, Cobalt, Platinum, Palladium",
           "Nickel"
          ],
          [
           46400,
           "Ferguson Lake",
           "Nickel, Copper, Palladium, Platinum, Cobalt, Diamonds, Iron Ore",
           "Cobalt"
          ],
          [
           907,
           "Maude Lake",
           "Nickel, Copper, Cobalt, Platinum, Palladium, Gold, Silver",
           "Nickel"
          ],
          [
           394300,
           "Ferguson Lake",
           "Nickel, Copper, Palladium, Platinum, Cobalt, Diamonds, Iron Ore",
           "Nickel"
          ],
          [
           62860000,
           "Battery Hill",
           "Manganese, Iron Ore",
           "Manganese"
          ],
          [
           70000,
           "Eagle",
           "Nickel, Copper, Gold, Platinum, Palladium, Cobalt, Silver",
           "Nickel"
          ],
          [
           783,
           "Norton",
           "Nickel, Copper, Cobalt, Platinum, Palladium",
           "Cobalt"
          ],
          [
           79469,
           "Nickel Shaw",
           "Nickel, Copper, Platinum, Palladium, Gold, Cobalt, Rhodium, Iridium, Ruthenium, Osmium, Magnesium",
           "Cobalt"
          ],
          [
           9268,
           "Iron Creek",
           "Cobalt, Copper, Gold",
           "Cobalt"
          ],
          [
           44390,
           "Voisey's Bay",
           "Nickel, Copper, Cobalt",
           "Cobalt"
          ],
          [
           1435029,
           "Nickel Shaw",
           "Nickel, Copper, Platinum, Palladium, Gold, Cobalt, Rhodium, Iridium, Ruthenium, Osmium, Magnesium",
           "Nickel"
          ],
          [
           59100,
           "Nisk",
           "Nickel, Cobalt, Copper, Palladium, Platinum, Gold, Silver, Lithium, Caesium, Tantalum",
           "Nickel"
          ],
          [
           16577,
           "Norton",
           "Nickel, Copper, Cobalt, Platinum, Palladium",
           "Nickel"
          ],
          [
           345000,
           "Turnagain",
           "Nickel, Cobalt, Copper, Palladium, Platinum, Gold",
           "Cobalt"
          ],
          [
           3700,
           "Nisk",
           "Nickel, Cobalt, Copper, Palladium, Platinum, Gold, Silver, Lithium, Caesium, Tantalum",
           "Cobalt"
          ],
          [
           718800,
           "Voisey's Bay",
           "Nickel, Copper, Cobalt",
           "Nickel"
          ],
          [
           5702000,
           "Turnagain",
           "Nickel, Cobalt, Copper, Palladium, Platinum, Gold",
           "Nickel"
          ],
          [
           4548000,
           "Decar",
           "Nickel, Iron Ore, Chromite, Cobalt, Copper",
           "Nickel"
          ],
          [
           11149000,
           "Emily",
           "Manganese, Iron Ore, Silica, Aluminum, Cobalt, Magnesium, Tin, Strontium, Titanium",
           "Manganese"
          ],
          [
           285763,
           "Nikolai",
           "Nickel, Copper, Cobalt, Platinum, Palladium, Gold, Iron Ore, Chromite, Silver",
           "Cobalt"
          ],
          [
           3675002,
           "Nikolai",
           "Nickel, Copper, Cobalt, Platinum, Palladium, Gold, Iron Ore, Chromite, Silver",
           "Nickel"
          ]
         ],
         "hovertemplate": "<b>%{customdata[1]}</b><br>Latitude: %{lat}<br>Longitude: %{lon}<br>Commodities: %{customdata[2]}<br>Primary Commodity: %{customdata[3]}<br>Reserves: %{customdata[0]:,.0f} tonnes",
         "lat": {
          "bdata": "pikCnN61TkDt2AjE67JOQO3YCMTrsk5ApikCnN61TkAsfeiC+l5KQGZmZmZmxk9A16NwPQoXR0DZJaq3BsZCQNklqrcGxkJANdJSeTtSSEA10lJ5O1JIQDqSy39IB0lAOpLLf0gHSUAijnVxG2lMQCKOdXEbaUxAEsKjjSNWR0AAAAAAAIBNQAAAAAAAgE1AEsKjjSNWR0BWn6ut2PdKQPQyiuWWck9AJjYf14ZySED0MorllnJPQBu7RPXWHEdAcjPcgM9fR0A6QDBHj/NJQB0Dste7u05ASPlJtU97RkBg6udNRSpMQB0Dste7u05AfJv+7EfaSUA6QDBHj/NJQD6WPnRBPU1AfJv+7EfaSUBg6udNRSpMQD6WPnRBPU1ALSEf9Gx2S0CjryDNWGBHQMgkI2dho09AyCQjZ2GjT0A=",
          "dtype": "f8"
         },
         "lon": {
          "bdata": "zczMzMyIUsD4Nv3Zj75SwPg2/dmPvlLAzczMzMyIUsCWIY51cZNVwAuYwK27L13AKVyPwvXoUMA5l+KqspFWwDmX4qqykVbAYygn2lWcU8BjKCfaVZxTwEtZhjjWp1PAS1mGONanU8C8rl+wG0JZwLyuX7AbQlnAb7vQXKdHV8DCNAwfEWlRwMI0DB8RaVHAb7vQXKdHV8BhiQeUTbFXwDiEKjV7LljAKNU+HY/TVcA4hCo1ey5YwESoUrMH6FDANUbrqGr4VcBegH106tpVwDl/EwoRcWHASIrIsIqHXMCAn3HhQAxPwDl/EwoRcWHAyatzDMjmUsBegH106tpVwLZKsDicG2DAyatzDMjmUsCAn3HhQAxPwLZKsDicG2DAf/s6cM5WX8ANbJVgcX5XwOWbbW5MSWLA5ZttbkxJYsA=",
          "dtype": "f8"
         },
         "marker": {
          "size": 8,
          "symbol": "circle"
         },
         "mode": "markers+text",
         "name": "Cluster -1",
         "textposition": "bottom center",
         "type": "scattergeo"
        },
        {
         "lat": [
          46.18,
          46.22531
         ],
         "line": {
          "color": "gray",
          "width": 2
         },
         "lon": [
          -67.64,
          -67.62547
         ],
         "mode": "lines",
         "showlegend": false,
         "type": "scattergeo"
        },
        {
         "lat": [
          46.22531,
          51.70532
         ],
         "line": {
          "color": "gray",
          "width": 2
         },
         "lon": [
          -67.62547,
          -75.60596
         ],
         "mode": "lines",
         "showlegend": false,
         "type": "scattergeo"
        },
        {
         "customdata": [
          [
           651,
           "Shining Tree",
           "Nickel, Copper, Cobalt, Platinum, Palladium",
           "Cobalt"
          ],
          [
           17200,
           "Shining Tree",
           "Nickel, Copper, Cobalt, Platinum, Palladium",
           "Nickel"
          ],
          [
           46000,
           "Lockerby East",
           "Nickel, Copper, Cobalt, Gold, Platinum, Palladium, Silver",
           "Nickel"
          ],
          [
           1060,
           "Lockerby East",
           "Nickel, Copper, Cobalt, Gold, Platinum, Palladium, Silver",
           "Cobalt"
          ],
          [
           42000,
           "Aurora",
           "Nickel",
           "Nickel"
          ],
          [
           75750,
           "Shakespeare",
           "Nickel, Copper, Palladium, Platinum, Gold, Cobalt, Silver",
           "Nickel"
          ],
          [
           597,
           "McAra",
           "Cobalt, Copper, Silver, Zinc, Gold",
           "Cobalt"
          ],
          [
           4536,
           "Shakespeare",
           "Nickel, Copper, Palladium, Platinum, Gold, Cobalt, Silver",
           "Cobalt"
          ],
          [
           48500,
           "Ontario Division",
           "Nickel, Copper, Rhodium, Cobalt, Platinum, Palladium, Gold, Silver",
           "Cobalt"
          ],
          [
           45000,
           "Sudbury Operations",
           "Nickel, Copper, Cobalt, Platinum, Palladium, Rhodium, Gold, Silver",
           "Cobalt"
          ],
          [
           1773000,
           "Ontario Division",
           "Nickel, Copper, Rhodium, Cobalt, Platinum, Palladium, Gold, Silver",
           "Nickel"
          ],
          [
           108239,
           "Shaw Dome",
           "Nickel, Copper, Platinum, Palladium, Cobalt, Gold, Iron Ore",
           "Cobalt"
          ],
          [
           552200,
           "Crawford",
           "Nickel, Cobalt, Palladium, Platinum, Iron Ore, Chromium, Gold, Chromite",
           "Cobalt"
          ],
          [
           2011000,
           "Sudbury Operations",
           "Nickel, Copper, Cobalt, Platinum, Palladium, Rhodium, Gold, Silver",
           "Nickel"
          ],
          [
           2435240,
           "Shaw Dome",
           "Nickel, Copper, Platinum, Palladium, Cobalt, Gold, Iron Ore",
           "Nickel"
          ],
          [
           9761600,
           "Crawford",
           "Nickel, Cobalt, Palladium, Platinum, Iron Ore, Chromium, Gold, Chromite",
           "Nickel"
          ],
          [
           283800,
           "Crean Hill",
           "Nickel, Copper, Platinum, Palladium, Cobalt, Gold",
           "Nickel"
          ],
          [
           1087200,
           "Deloro",
           "Nickel, Palladium, Platinum, Cobalt, Chromium, Iron Ore, Chromite",
           "Nickel"
          ],
          [
           54504,
           "Alexo-Dundonald",
           "Nickel, Copper, Cobalt, Gold, Platinum, Palladium",
           "Nickel"
          ],
          [
           46600,
           "Deloro",
           "Nickel, Palladium, Platinum, Cobalt, Chromium, Iron Ore, Chromite",
           "Cobalt"
          ],
          [
           9890,
           "Crean Hill",
           "Nickel, Copper, Platinum, Palladium, Cobalt, Gold",
           "Cobalt"
          ],
          [
           1449,
           "Alexo-Dundonald",
           "Nickel, Copper, Cobalt, Gold, Platinum, Palladium",
           "Cobalt"
          ]
         ],
         "hovertemplate": "<b>%{customdata[1]}</b><br>Latitude: %{lat}<br>Longitude: %{lon}<br>Commodities: %{customdata[2]}<br>Primary Commodity: %{customdata[3]}<br>Reserves: %{customdata[0]:,.0f} tonnes",
         "lat": {
          "bdata": "RpT2Bl/IR0BGlPYGX8hHQMgkI2dhN0dAyCQjZ2E3R0CcFrzoKyxIQBh9BWnGKkdAXoB9dOqyR0AYfQVpxipHQPQ3oRABP0dAfcucLotRR0D0N6EQAT9HQMuhRbbzJUhAtRX7y+5pSEB9y5wui1FHQMuhRbbzJUhAtRX7y+5pSEAQzNHj9zZHQI+NQLyuM0hActwpHaxTSECPjUC8rjNIQBDM0eP3NkdActwpHaxTSEA=",
          "dtype": "f8"
         },
         "lon": {
          "bdata": "OgZkr3dLVMA6BmSvd0tUwKFKzR5oU1TAoUrNHmhTVMAk1uJTAEBUwExPWOIBd1TAnUtxVdk9VMBMT1jiAXdUwPVnP1JERFTAy9b6IqFXVMD1Zz9SRERUwGyVYHE4QVTASKeufJZVVMDL1voioVdUwGyVYHE4QVTASKeufJZVVMCRYRVvZFZUwI2XbhKDUFTAkq6ZfLMzVMCNl24Sg1BUwJFhFW9kVlTAkq6ZfLMzVMA=",
          "dtype": "f8"
         },
         "marker": {
          "size": 8,
          "symbol": "circle"
         },
         "mode": "markers+text",
         "name": "Cluster 0",
         "textposition": "bottom center",
         "type": "scattergeo"
        },
        {
         "lat": [
          48.8276,
          48.65369
         ],
         "line": {
          "color": "gray",
          "width": 2
         },
         "lon": [
          -81.33731,
          -80.80783
         ],
         "mode": "lines",
         "showlegend": false,
         "type": "scattergeo"
        },
        {
         "lat": [
          48.65369,
          48.34509
         ],
         "line": {
          "color": "gray",
          "width": 2
         },
         "lon": [
          -80.80783,
          -81.00002
         ],
         "mode": "lines",
         "showlegend": false,
         "type": "scattergeo"
        },
        {
         "lat": [
          48.34509,
          48.2965
         ],
         "line": {
          "color": "gray",
          "width": 2
         },
         "lon": [
          -81.00002,
          -81.01907
         ],
         "mode": "lines",
         "showlegend": false,
         "type": "scattergeo"
        },
        {
         "lat": [
          48.2965,
          48.40377
         ],
         "line": {
          "color": "gray",
          "width": 2
         },
         "lon": [
          -81.01907,
          -81.258
         ],
         "mode": "lines",
         "showlegend": false,
         "type": "scattergeo"
        },
        {
         "lat": [
          48.40377,
          47.5654
         ],
         "line": {
          "color": "gray",
          "width": 2
         },
         "lon": [
          -81.258,
          -81.17918
         ],
         "mode": "lines",
         "showlegend": false,
         "type": "scattergeo"
        },
        {
         "lat": [
          47.5654,
          47.39778
         ],
         "line": {
          "color": "gray",
          "width": 2
         },
         "lon": [
          -81.17918,
          -80.96639
         ],
         "mode": "lines",
         "showlegend": false,
         "type": "scattergeo"
        },
        {
         "lat": [
          47.39778,
          46.63706
         ],
         "line": {
          "color": "gray",
          "width": 2
         },
         "lon": [
          -80.96639,
          -81.36921
         ],
         "mode": "lines",
         "showlegend": false,
         "type": "scattergeo"
        },
        {
         "lat": [
          46.63706,
          46.42944
         ],
         "line": {
          "color": "gray",
          "width": 2
         },
         "lon": [
          -81.36921,
          -81.34988
         ],
         "mode": "lines",
         "showlegend": false,
         "type": "scattergeo"
        },
        {
         "lat": [
          46.42944,
          46.43266
         ],
         "line": {
          "color": "gray",
          "width": 2
         },
         "lon": [
          -81.34988,
          -81.30323
         ],
         "mode": "lines",
         "showlegend": false,
         "type": "scattergeo"
        },
        {
         "lat": [
          46.43266,
          46.49222
         ],
         "line": {
          "color": "gray",
          "width": 2
         },
         "lon": [
          -81.30323,
          -81.06667
         ],
         "mode": "lines",
         "showlegend": false,
         "type": "scattergeo"
        },
        {
         "lat": [
          46.49222,
          46.33418
         ],
         "line": {
          "color": "gray",
          "width": 2
         },
         "lon": [
          -81.06667,
          -81.85949
         ],
         "mode": "lines",
         "showlegend": false,
         "type": "scattergeo"
        },
        {
         "customdata": [
          [
           50194,
           "Bowden Lake",
           "Nickel, Copper, Platinum",
           "Nickel"
          ],
          [
           50439,
           "Rice Island",
           "Nickel, Copper, Cobalt, Platinum, Palladium, Gold",
           "Nickel"
          ],
          [
           2646,
           "Rice Island",
           "Nickel, Copper, Cobalt, Platinum, Palladium, Gold",
           "Cobalt"
          ],
          [
           510000,
           "Manitoba Division",
           "Nickel, Copper, Cobalt, Gold, Silver, Palladium",
           "Nickel"
          ],
          [
           8000,
           "Manitoba Division",
           "Nickel, Copper, Cobalt, Gold, Silver, Palladium",
           "Cobalt"
          ],
          [
           391885,
           "Minago",
           "Nickel, Copper, Cobalt, Palladium, Frac Sand, Gold, Platinum, Silver, Rhodium",
           "Nickel"
          ]
         ],
         "hovertemplate": "<b>%{customdata[1]}</b><br>Latitude: %{lat}<br>Longitude: %{lon}<br>Commodities: %{customdata[2]}<br>Primary Commodity: %{customdata[3]}<br>Reserves: %{customdata[0]:,.0f} tonnes",
         "lat": {
          "bdata": "E2HD0yt1S0AE54wo7WlLQATnjCjtaUtAtI6qJojaS0C0jqomiNpLQCb8Uj9vDktA",
          "dtype": "f8"
         },
         "lon": {
          "bdata": "/+cwX16qWMDEX5M16vtYwMRfkzXq+1jAfjUHCOZ4WMB+NQcI5nhYwB9oBYasyljA",
          "dtype": "f8"
         },
         "marker": {
          "size": 8,
          "symbol": "circle"
         },
         "mode": "markers+text",
         "name": "Cluster 1",
         "textposition": "bottom center",
         "type": "scattergeo"
        },
        {
         "lat": [
          55.70728,
          54.9154
         ],
         "line": {
          "color": "gray",
          "width": 2
         },
         "lon": [
          -97.88904,
          -98.66201
         ],
         "mode": "lines",
         "showlegend": false,
         "type": "scattergeo"
        },
        {
         "lat": [
          54.9154,
          54.82755
         ],
         "line": {
          "color": "gray",
          "width": 2
         },
         "lon": [
          -98.66201,
          -99.93617
         ],
         "mode": "lines",
         "showlegend": false,
         "type": "scattergeo"
        },
        {
         "lat": [
          54.82755,
          54.11277
         ],
         "line": {
          "color": "gray",
          "width": 2
         },
         "lon": [
          -99.93617,
          -99.16678
         ],
         "mode": "lines",
         "showlegend": false,
         "type": "scattergeo"
        },
        {
         "customdata": [
          [
           340,
           "Werner Lake",
           "Cobalt, Copper, Gold, Silver, Nickel",
           "Cobalt"
          ],
          [
           48398,
           "Kenbridge",
           "Nickel, Copper, Cobalt, Silver, Gold, Platinum",
           "Nickel"
          ],
          [
           544,
           "Kenbridge",
           "Nickel, Copper, Cobalt, Silver, Gold, Platinum",
           "Cobalt"
          ],
          [
           6000,
           "Eagle Claims",
           "Lithium, Copper, Nickel",
           "Nickel"
          ],
          [
           125161,
           "Makwa Mayville",
           "Nickel, Copper, Gold, Platinum, Palladium, Cobalt, Chromite, Lithium, Caesium, Tantalum, Rubidium",
           "Nickel"
          ],
          [
           6224,
           "Makwa Mayville",
           "Nickel, Copper, Gold, Platinum, Palladium, Cobalt, Chromite, Lithium, Caesium, Tantalum, Rubidium",
           "Cobalt"
          ]
         ],
         "hovertemplate": "<b>%{customdata[1]}</b><br>Latitude: %{lat}<br>Longitude: %{lon}<br>Commodities: %{customdata[2]}<br>Primary Commodity: %{customdata[3]}<br>Reserves: %{customdata[0]:,.0f} tonnes",
         "lat": {
          "bdata": "qwmi7gM8SUDSqSuf5b1IQNKpK5/lvUhAEvdY+tBNSUCqglFJnVBJQKqCUUmdUElA",
          "dtype": "f8"
         },
         "lon": {
          "bdata": "Brth26K+V8Bbsb/snmhXwFuxv+yeaFfA/tR46SbfV8CU+x2KAudXwJT7HYoC51fA",
          "dtype": "f8"
         },
         "marker": {
          "size": 8,
          "symbol": "circle"
         },
         "mode": "markers+text",
         "name": "Cluster 2",
         "textposition": "bottom center",
         "type": "scattergeo"
        },
        {
         "lat": [
          50.6298,
          50.60794
         ],
         "line": {
          "color": "gray",
          "width": 2
         },
         "lon": [
          -95.60953,
          -95.48675
         ],
         "mode": "lines",
         "showlegend": false,
         "type": "scattergeo"
        },
        {
         "lat": [
          50.60794,
          50.46887
         ],
         "line": {
          "color": "gray",
          "width": 2
         },
         "lon": [
          -95.48675,
          -94.97869
         ],
         "mode": "lines",
         "showlegend": false,
         "type": "scattergeo"
        },
        {
         "lat": [
          50.46887,
          49.48357
         ],
         "line": {
          "color": "gray",
          "width": 2
         },
         "lon": [
          -94.97869,
          -93.6347
         ],
         "mode": "lines",
         "showlegend": false,
         "type": "scattergeo"
        }
       ],
       "layout": {
        "geo": {
         "countrycolor": "white",
         "landcolor": "lightgray",
         "lataxis": {
          "range": [
           27.54708,
           73.55
          ]
         },
         "lonaxis": {
          "range": [
           -156.29058,
           -52.09573
          ]
         },
         "scope": "world",
         "showland": true
        },
        "margin": {
         "b": 30,
         "l": 5,
         "r": 5,
         "t": 30
        },
        "template": {
         "data": {
          "bar": [
           {
            "error_x": {
             "color": "#2a3f5f"
            },
            "error_y": {
             "color": "#2a3f5f"
            },
            "marker": {
             "line": {
              "color": "white",
              "width": 0.5
             },
             "pattern": {
              "fillmode": "overlay",
              "size": 10,
              "solidity": 0.2
             }
            },
            "type": "bar"
           }
          ],
          "barpolar": [
           {
            "marker": {
             "line": {
              "color": "white",
              "width": 0.5
             },
             "pattern": {
              "fillmode": "overlay",
              "size": 10,
              "solidity": 0.2
             }
            },
            "type": "barpolar"
           }
          ],
          "carpet": [
           {
            "aaxis": {
             "endlinecolor": "#2a3f5f",
             "gridcolor": "#C8D4E3",
             "linecolor": "#C8D4E3",
             "minorgridcolor": "#C8D4E3",
             "startlinecolor": "#2a3f5f"
            },
            "baxis": {
             "endlinecolor": "#2a3f5f",
             "gridcolor": "#C8D4E3",
             "linecolor": "#C8D4E3",
             "minorgridcolor": "#C8D4E3",
             "startlinecolor": "#2a3f5f"
            },
            "type": "carpet"
           }
          ],
          "choropleth": [
           {
            "colorbar": {
             "outlinewidth": 0,
             "ticks": ""
            },
            "type": "choropleth"
           }
          ],
          "contour": [
           {
            "colorbar": {
             "outlinewidth": 0,
             "ticks": ""
            },
            "colorscale": [
             [
              0,
              "#0d0887"
             ],
             [
              0.1111111111111111,
              "#46039f"
             ],
             [
              0.2222222222222222,
              "#7201a8"
             ],
             [
              0.3333333333333333,
              "#9c179e"
             ],
             [
              0.4444444444444444,
              "#bd3786"
             ],
             [
              0.5555555555555556,
              "#d8576b"
             ],
             [
              0.6666666666666666,
              "#ed7953"
             ],
             [
              0.7777777777777778,
              "#fb9f3a"
             ],
             [
              0.8888888888888888,
              "#fdca26"
             ],
             [
              1,
              "#f0f921"
             ]
            ],
            "type": "contour"
           }
          ],
          "contourcarpet": [
           {
            "colorbar": {
             "outlinewidth": 0,
             "ticks": ""
            },
            "type": "contourcarpet"
           }
          ],
          "heatmap": [
           {
            "colorbar": {
             "outlinewidth": 0,
             "ticks": ""
            },
            "colorscale": [
             [
              0,
              "#0d0887"
             ],
             [
              0.1111111111111111,
              "#46039f"
             ],
             [
              0.2222222222222222,
              "#7201a8"
             ],
             [
              0.3333333333333333,
              "#9c179e"
             ],
             [
              0.4444444444444444,
              "#bd3786"
             ],
             [
              0.5555555555555556,
              "#d8576b"
             ],
             [
              0.6666666666666666,
              "#ed7953"
             ],
             [
              0.7777777777777778,
              "#fb9f3a"
             ],
             [
              0.8888888888888888,
              "#fdca26"
             ],
             [
              1,
              "#f0f921"
             ]
            ],
            "type": "heatmap"
           }
          ],
          "histogram": [
           {
            "marker": {
             "pattern": {
              "fillmode": "overlay",
              "size": 10,
              "solidity": 0.2
             }
            },
            "type": "histogram"
           }
          ],
          "histogram2d": [
           {
            "colorbar": {
             "outlinewidth": 0,
             "ticks": ""
            },
            "colorscale": [
             [
              0,
              "#0d0887"
             ],
             [
              0.1111111111111111,
              "#46039f"
             ],
             [
              0.2222222222222222,
              "#7201a8"
             ],
             [
              0.3333333333333333,
              "#9c179e"
             ],
             [
              0.4444444444444444,
              "#bd3786"
             ],
             [
              0.5555555555555556,
              "#d8576b"
             ],
             [
              0.6666666666666666,
              "#ed7953"
             ],
             [
              0.7777777777777778,
              "#fb9f3a"
             ],
             [
              0.8888888888888888,
              "#fdca26"
             ],
             [
              1,
              "#f0f921"
             ]
            ],
            "type": "histogram2d"
           }
          ],
          "histogram2dcontour": [
           {
            "colorbar": {
             "outlinewidth": 0,
             "ticks": ""
            },
            "colorscale": [
             [
              0,
              "#0d0887"
             ],
             [
              0.1111111111111111,
              "#46039f"
             ],
             [
              0.2222222222222222,
              "#7201a8"
             ],
             [
              0.3333333333333333,
              "#9c179e"
             ],
             [
              0.4444444444444444,
              "#bd3786"
             ],
             [
              0.5555555555555556,
              "#d8576b"
             ],
             [
              0.6666666666666666,
              "#ed7953"
             ],
             [
              0.7777777777777778,
              "#fb9f3a"
             ],
             [
              0.8888888888888888,
              "#fdca26"
             ],
             [
              1,
              "#f0f921"
             ]
            ],
            "type": "histogram2dcontour"
           }
          ],
          "mesh3d": [
           {
            "colorbar": {
             "outlinewidth": 0,
             "ticks": ""
            },
            "type": "mesh3d"
           }
          ],
          "parcoords": [
           {
            "line": {
             "colorbar": {
              "outlinewidth": 0,
              "ticks": ""
             }
            },
            "type": "parcoords"
           }
          ],
          "pie": [
           {
            "automargin": true,
            "type": "pie"
           }
          ],
          "scatter": [
           {
            "fillpattern": {
             "fillmode": "overlay",
             "size": 10,
             "solidity": 0.2
            },
            "type": "scatter"
           }
          ],
          "scatter3d": [
           {
            "line": {
             "colorbar": {
              "outlinewidth": 0,
              "ticks": ""
             }
            },
            "marker": {
             "colorbar": {
              "outlinewidth": 0,
              "ticks": ""
             }
            },
            "type": "scatter3d"
           }
          ],
          "scattercarpet": [
           {
            "marker": {
             "colorbar": {
              "outlinewidth": 0,
              "ticks": ""
             }
            },
            "type": "scattercarpet"
           }
          ],
          "scattergeo": [
           {
            "marker": {
             "colorbar": {
              "outlinewidth": 0,
              "ticks": ""
             }
            },
            "type": "scattergeo"
           }
          ],
          "scattergl": [
           {
            "marker": {
             "colorbar": {
              "outlinewidth": 0,
              "ticks": ""
             }
            },
            "type": "scattergl"
           }
          ],
          "scattermap": [
           {
            "marker": {
             "colorbar": {
              "outlinewidth": 0,
              "ticks": ""
             }
            },
            "type": "scattermap"
           }
          ],
          "scattermapbox": [
           {
            "marker": {
             "colorbar": {
              "outlinewidth": 0,
              "ticks": ""
             }
            },
            "type": "scattermapbox"
           }
          ],
          "scatterpolar": [
           {
            "marker": {
             "colorbar": {
              "outlinewidth": 0,
              "ticks": ""
             }
            },
            "type": "scatterpolar"
           }
          ],
          "scatterpolargl": [
           {
            "marker": {
             "colorbar": {
              "outlinewidth": 0,
              "ticks": ""
             }
            },
            "type": "scatterpolargl"
           }
          ],
          "scatterternary": [
           {
            "marker": {
             "colorbar": {
              "outlinewidth": 0,
              "ticks": ""
             }
            },
            "type": "scatterternary"
           }
          ],
          "surface": [
           {
            "colorbar": {
             "outlinewidth": 0,
             "ticks": ""
            },
            "colorscale": [
             [
              0,
              "#0d0887"
             ],
             [
              0.1111111111111111,
              "#46039f"
             ],
             [
              0.2222222222222222,
              "#7201a8"
             ],
             [
              0.3333333333333333,
              "#9c179e"
             ],
             [
              0.4444444444444444,
              "#bd3786"
             ],
             [
              0.5555555555555556,
              "#d8576b"
             ],
             [
              0.6666666666666666,
              "#ed7953"
             ],
             [
              0.7777777777777778,
              "#fb9f3a"
             ],
             [
              0.8888888888888888,
              "#fdca26"
             ],
             [
              1,
              "#f0f921"
             ]
            ],
            "type": "surface"
           }
          ],
          "table": [
           {
            "cells": {
             "fill": {
              "color": "#EBF0F8"
             },
             "line": {
              "color": "white"
             }
            },
            "header": {
             "fill": {
              "color": "#C8D4E3"
             },
             "line": {
              "color": "white"
             }
            },
            "type": "table"
           }
          ]
         },
         "layout": {
          "annotationdefaults": {
           "arrowcolor": "#2a3f5f",
           "arrowhead": 0,
           "arrowwidth": 1
          },
          "autotypenumbers": "strict",
          "coloraxis": {
           "colorbar": {
            "outlinewidth": 0,
            "ticks": ""
           }
          },
          "colorscale": {
           "diverging": [
            [
             0,
             "#8e0152"
            ],
            [
             0.1,
             "#c51b7d"
            ],
            [
             0.2,
             "#de77ae"
            ],
            [
             0.3,
             "#f1b6da"
            ],
            [
             0.4,
             "#fde0ef"
            ],
            [
             0.5,
             "#f7f7f7"
            ],
            [
             0.6,
             "#e6f5d0"
            ],
            [
             0.7,
             "#b8e186"
            ],
            [
             0.8,
             "#7fbc41"
            ],
            [
             0.9,
             "#4d9221"
            ],
            [
             1,
             "#276419"
            ]
           ],
           "sequential": [
            [
             0,
             "#0d0887"
            ],
            [
             0.1111111111111111,
             "#46039f"
            ],
            [
             0.2222222222222222,
             "#7201a8"
            ],
            [
             0.3333333333333333,
             "#9c179e"
            ],
            [
             0.4444444444444444,
             "#bd3786"
            ],
            [
             0.5555555555555556,
             "#d8576b"
            ],
            [
             0.6666666666666666,
             "#ed7953"
            ],
            [
             0.7777777777777778,
             "#fb9f3a"
            ],
            [
             0.8888888888888888,
             "#fdca26"
            ],
            [
             1,
             "#f0f921"
            ]
           ],
           "sequentialminus": [
            [
             0,
             "#0d0887"
            ],
            [
             0.1111111111111111,
             "#46039f"
            ],
            [
             0.2222222222222222,
             "#7201a8"
            ],
            [
             0.3333333333333333,
             "#9c179e"
            ],
            [
             0.4444444444444444,
             "#bd3786"
            ],
            [
             0.5555555555555556,
             "#d8576b"
            ],
            [
             0.6666666666666666,
             "#ed7953"
            ],
            [
             0.7777777777777778,
             "#fb9f3a"
            ],
            [
             0.8888888888888888,
             "#fdca26"
            ],
            [
             1,
             "#f0f921"
            ]
           ]
          },
          "colorway": [
           "#636efa",
           "#EF553B",
           "#00cc96",
           "#ab63fa",
           "#FFA15A",
           "#19d3f3",
           "#FF6692",
           "#B6E880",
           "#FF97FF",
           "#FECB52"
          ],
          "font": {
           "color": "#2a3f5f"
          },
          "geo": {
           "bgcolor": "white",
           "lakecolor": "white",
           "landcolor": "white",
           "showlakes": true,
           "showland": true,
           "subunitcolor": "#C8D4E3"
          },
          "hoverlabel": {
           "align": "left"
          },
          "hovermode": "closest",
          "mapbox": {
           "style": "light"
          },
          "paper_bgcolor": "white",
          "plot_bgcolor": "white",
          "polar": {
           "angularaxis": {
            "gridcolor": "#EBF0F8",
            "linecolor": "#EBF0F8",
            "ticks": ""
           },
           "bgcolor": "white",
           "radialaxis": {
            "gridcolor": "#EBF0F8",
            "linecolor": "#EBF0F8",
            "ticks": ""
           }
          },
          "scene": {
           "xaxis": {
            "backgroundcolor": "white",
            "gridcolor": "#DFE8F3",
            "gridwidth": 2,
            "linecolor": "#EBF0F8",
            "showbackground": true,
            "ticks": "",
            "zerolinecolor": "#EBF0F8"
           },
           "yaxis": {
            "backgroundcolor": "white",
            "gridcolor": "#DFE8F3",
            "gridwidth": 2,
            "linecolor": "#EBF0F8",
            "showbackground": true,
            "ticks": "",
            "zerolinecolor": "#EBF0F8"
           },
           "zaxis": {
            "backgroundcolor": "white",
            "gridcolor": "#DFE8F3",
            "gridwidth": 2,
            "linecolor": "#EBF0F8",
            "showbackground": true,
            "ticks": "",
            "zerolinecolor": "#EBF0F8"
           }
          },
          "shapedefaults": {
           "line": {
            "color": "#2a3f5f"
           }
          },
          "ternary": {
           "aaxis": {
            "gridcolor": "#DFE8F3",
            "linecolor": "#A2B1C6",
            "ticks": ""
           },
           "baxis": {
            "gridcolor": "#DFE8F3",
            "linecolor": "#A2B1C6",
            "ticks": ""
           },
           "bgcolor": "white",
           "caxis": {
            "gridcolor": "#DFE8F3",
            "linecolor": "#A2B1C6",
            "ticks": ""
           }
          },
          "title": {
           "x": 0.05
          },
          "xaxis": {
           "automargin": true,
           "gridcolor": "#EBF0F8",
           "linecolor": "#EBF0F8",
           "ticks": "",
           "title": {
            "standoff": 15
           },
           "zerolinecolor": "#EBF0F8",
           "zerolinewidth": 2
          },
          "yaxis": {
           "automargin": true,
           "gridcolor": "#EBF0F8",
           "linecolor": "#EBF0F8",
           "ticks": "",
           "title": {
            "standoff": 15
           },
           "zerolinecolor": "#EBF0F8",
           "zerolinewidth": 2
          }
         }
        },
        "title": {
         "text": "Constraint-Aware Resource Route: Covering Key Metals"
        }
       }
      }
     },
     "metadata": {},
     "output_type": "display_data"
    }
   ],
   "source": [
    "build(usca)"
   ]
  },
  {
   "cell_type": "code",
   "execution_count": 28,
   "id": "c60df5f8",
   "metadata": {},
   "outputs": [],
   "source": [
    "import networkx as nx\n",
    "from geopy.distance import geodesic\n",
    "import numpy as np\n",
    "\n",
    "G = nx.Graph()\n",
    "\n",
    "# Add nodes\n",
    "for _, row in usca.iterrows():\n",
    "    G.add_node(row[\"Property ID\"], primary_mineral=row[\"Primary Mineral\"], name=row[\"Property\"], \n",
    "               pos=(row[\"Latitude (degrees)\"], row[\"Longitude (degrees)\"]), \n",
    "               reserves=row[\"Primary Reserves and Resources\"])\n",
    "\n",
    "# Add weighted edges\n",
    "for i, row1 in usca.iterrows():\n",
    "    for j, row2 in usca.iterrows():\n",
    "        if i < j:  # Avoid duplicate edges\n",
    "            dist = geodesic((row1[\"Latitude (degrees)\"], row1[\"Longitude (degrees)\"]), \n",
    "                            (row2[\"Latitude (degrees)\"], row2[\"Longitude (degrees)\"])).km\n",
    "            weight = dist / np.log(row1[\"Primary Reserves and Resources\"])\n",
    "         \n",
    "            G.add_edge(row1[\"Property ID\"], row2[\"Property ID\"], weight=weight)\n",
    "\n",
    "# Compute Minimum Spanning Tree (MST)\n",
    "mst = nx.minimum_spanning_tree(G, weight='weight')\n",
    "\n"
   ]
  },
  {
   "cell_type": "code",
   "execution_count": 29,
   "id": "3aa77981",
   "metadata": {},
   "outputs": [],
   "source": [
    "import plotly.graph_objects as go\n",
    "import networkx as nx\n",
    "\n",
    "def plot_graph(graph):\n",
    "    # Extract latitude and longitude from nodes\n",
    "    latitudes = [graph.nodes[node]['pos'][0] for node in graph.nodes]\n",
    "    longitudes = [graph.nodes[node]['pos'][1] for node in graph.nodes]\n",
    "\n",
    "    # Get min/max bounds for zooming into relevant region\n",
    "    lat_min, lat_max = min(latitudes), max(latitudes)\n",
    "    lon_min, lon_max = min(longitudes), max(longitudes)\n",
    "\n",
    "    # Create edge traces\n",
    "    edge_traces = []\n",
    "    for edge in graph.edges():\n",
    "        edge_traces.append(go.Scattergeo(\n",
    "            lon=[graph.nodes[edge[0]]['pos'][1], graph.nodes[edge[1]]['pos'][1], None],\n",
    "            lat=[graph.nodes[edge[0]]['pos'][0], graph.nodes[edge[1]]['pos'][0], None],\n",
    "            mode='lines',\n",
    "            line=dict(width=1, color='gray'),\n",
    "            hoverinfo='none',\n",
    "            showlegend=False\n",
    "        ))\n",
    "\n",
    "    # Create node traces grouped by primary mineral\n",
    "    unique_minerals = set(nx.get_node_attributes(graph, 'primary_mineral').values())\n",
    "    node_traces = []\n",
    "    \n",
    "    for mineral in unique_minerals:\n",
    "        nodes = [node for node in graph.nodes if graph.nodes[node]['primary_mineral'] == mineral]\n",
    "        node_lat = [graph.nodes[node]['pos'][0] for node in nodes]\n",
    "        node_lon = [graph.nodes[node]['pos'][1] for node in nodes]\n",
    "        node_text = [f\"{graph.nodes[node]['name']}<br>\"\n",
    "                     f\"Primary Mineral: {mineral}<br>\"\n",
    "                     f\"Reserves: {graph.nodes[node]['reserves']}<br>\" \n",
    "                     f\"Location: {graph.nodes[node]['pos']}\" \n",
    "                     \n",
    "                     \n",
    "                     for node in nodes]\n",
    "\n",
    "        node_traces.append(go.Scattergeo(\n",
    "            lon=node_lon, lat=node_lat,\n",
    "            mode='markers',\n",
    "            marker=dict(size=8),\n",
    "            name=mineral,\n",
    "            text=node_text,\n",
    "            hoverinfo='text'\n",
    "        ))\n",
    "\n",
    "    # Construct figure\n",
    "    return go.Figure(\n",
    "        data=edge_traces + node_traces,\n",
    "        layout=go.Layout(\n",
    "            title=\"NMC in USA and Canada\",\n",
    "            showlegend=True,\n",
    "            margin=dict(l=5, r=5, t=30, b=30),\n",
    "            geo=dict(\n",
    "                projection_type=\"natural earth\",\n",
    "                \n",
    "                showcoastlines=True,\n",
    "                lonaxis=dict(range=[lon_min - 10, lon_max + 10]),  # Adjust padding\n",
    "                lataxis=dict(range=[lat_min - 10, lat_max + 10]),  # Adjust padding\n",
    "            )\n",
    "        )\n",
    "    )\n"
   ]
  },
  {
   "cell_type": "code",
   "execution_count": 30,
   "id": "48b3313a",
   "metadata": {},
   "outputs": [
    {
     "data": {
      "application/vnd.plotly.v1+json": {
       "config": {
        "plotlyServerURL": "https://plot.ly"
       },
       "data": [
        {
         "hoverinfo": "none",
         "lat": [
          61.420856,
          61.39782,
          null
         ],
         "line": {
          "color": "gray",
          "width": 1
         },
         "lon": [
          -74.1375,
          -74.97753,
          null
         ],
         "mode": "lines",
         "showlegend": false,
         "type": "scattergeo"
        },
        {
         "hoverinfo": "none",
         "lat": [
          61.420856,
          59,
          null
         ],
         "line": {
          "color": "gray",
          "width": 1
         },
         "lon": [
          -74.1375,
          -69.64167,
          null
         ],
         "mode": "lines",
         "showlegend": false,
         "type": "scattergeo"
        },
        {
         "hoverinfo": "none",
         "lat": [
          47.5654,
          47.39778,
          null
         ],
         "line": {
          "color": "gray",
          "width": 1
         },
         "lon": [
          -81.17918,
          -80.96639,
          null
         ],
         "mode": "lines",
         "showlegend": false,
         "type": "scattergeo"
        },
        {
         "hoverinfo": "none",
         "lat": [
          47.5654,
          48.2965,
          null
         ],
         "line": {
          "color": "gray",
          "width": 1
         },
         "lon": [
          -81.17918,
          -81.01907,
          null
         ],
         "mode": "lines",
         "showlegend": false,
         "type": "scattergeo"
        },
        {
         "hoverinfo": "none",
         "lat": [
          47.5654,
          46.63706,
          null
         ],
         "line": {
          "color": "gray",
          "width": 1
         },
         "lon": [
          -81.17918,
          -81.36921,
          null
         ],
         "mode": "lines",
         "showlegend": false,
         "type": "scattergeo"
        },
        {
         "hoverinfo": "none",
         "lat": [
          52.74202,
          51.90281,
          null
         ],
         "line": {
          "color": "gray",
          "width": 1
         },
         "lon": [
          -86.3038,
          -87.42056,
          null
         ],
         "mode": "lines",
         "showlegend": false,
         "type": "scattergeo"
        },
        {
         "hoverinfo": "none",
         "lat": [
          52.74202,
          48.89474,
          null
         ],
         "line": {
          "color": "gray",
          "width": 1
         },
         "lon": [
          -86.3038,
          -87.30561,
          null
         ],
         "mode": "lines",
         "showlegend": false,
         "type": "scattergeo"
        },
        {
         "hoverinfo": "none",
         "lat": [
          46.43266,
          46.42944,
          null
         ],
         "line": {
          "color": "gray",
          "width": 1
         },
         "lon": [
          -81.30323,
          -81.34988,
          null
         ],
         "mode": "lines",
         "showlegend": false,
         "type": "scattergeo"
        },
        {
         "hoverinfo": "none",
         "lat": [
          54.9154,
          54.82755,
          null
         ],
         "line": {
          "color": "gray",
          "width": 1
         },
         "lon": [
          -98.66201,
          -99.93617,
          null
         ],
         "mode": "lines",
         "showlegend": false,
         "type": "scattergeo"
        },
        {
         "hoverinfo": "none",
         "lat": [
          54.9154,
          54.11277,
          null
         ],
         "line": {
          "color": "gray",
          "width": 1
         },
         "lon": [
          -98.66201,
          -99.16678,
          null
         ],
         "mode": "lines",
         "showlegend": false,
         "type": "scattergeo"
        },
        {
         "hoverinfo": "none",
         "lat": [
          54.9154,
          55.70728,
          null
         ],
         "line": {
          "color": "gray",
          "width": 1
         },
         "lon": [
          -98.66201,
          -97.88904,
          null
         ],
         "mode": "lines",
         "showlegend": false,
         "type": "scattergeo"
        },
        {
         "hoverinfo": "none",
         "lat": [
          54.9154,
          56.82115,
          null
         ],
         "line": {
          "color": "gray",
          "width": 1
         },
         "lon": [
          -98.66201,
          -101.03294,
          null
         ],
         "mode": "lines",
         "showlegend": false,
         "type": "scattergeo"
        },
        {
         "hoverinfo": "none",
         "lat": [
          54.9154,
          44.96337,
          null
         ],
         "line": {
          "color": "gray",
          "width": 1
         },
         "lon": [
          -98.66201,
          -114.11784,
          null
         ],
         "mode": "lines",
         "showlegend": false,
         "type": "scattergeo"
        },
        {
         "hoverinfo": "none",
         "lat": [
          63.55,
          58.47856,
          null
         ],
         "line": {
          "color": "gray",
          "width": 1
         },
         "lon": [
          -116.74583,
          -128.86282,
          null
         ],
         "mode": "lines",
         "showlegend": false,
         "type": "scattergeo"
        },
        {
         "hoverinfo": "none",
         "lat": [
          63.55,
          62.89523,
          null
         ],
         "line": {
          "color": "gray",
          "width": 1
         },
         "lon": [
          -116.74583,
          -96.72627,
          null
         ],
         "mode": "lines",
         "showlegend": false,
         "type": "scattergeo"
        },
        {
         "hoverinfo": "none",
         "lat": [
          46.18,
          46.22531,
          null
         ],
         "line": {
          "color": "gray",
          "width": 1
         },
         "lon": [
          -67.64,
          -67.62547,
          null
         ],
         "mode": "lines",
         "showlegend": false,
         "type": "scattergeo"
        },
        {
         "hoverinfo": "none",
         "lat": [
          46.18,
          51.70532,
          null
         ],
         "line": {
          "color": "gray",
          "width": 1
         },
         "lon": [
          -67.64,
          -75.60596,
          null
         ],
         "mode": "lines",
         "showlegend": false,
         "type": "scattergeo"
        },
        {
         "hoverinfo": "none",
         "lat": [
          46.18,
          56.33024,
          null
         ],
         "line": {
          "color": "gray",
          "width": 1
         },
         "lon": [
          -67.64,
          -62.09573,
          null
         ],
         "mode": "lines",
         "showlegend": false,
         "type": "scattergeo"
        },
        {
         "hoverinfo": "none",
         "lat": [
          48.34509,
          48.2965,
          null
         ],
         "line": {
          "color": "gray",
          "width": 1
         },
         "lon": [
          -81.00002,
          -81.01907,
          null
         ],
         "mode": "lines",
         "showlegend": false,
         "type": "scattergeo"
        },
        {
         "hoverinfo": "none",
         "lat": [
          37.54708,
          46.67296,
          null
         ],
         "line": {
          "color": "gray",
          "width": 1
         },
         "lon": [
          -90.27653,
          -93.11959,
          null
         ],
         "mode": "lines",
         "showlegend": false,
         "type": "scattergeo"
        },
        {
         "hoverinfo": "none",
         "lat": [
          50.46887,
          50.60794,
          null
         ],
         "line": {
          "color": "gray",
          "width": 1
         },
         "lon": [
          -94.97869,
          -95.48675,
          null
         ],
         "mode": "lines",
         "showlegend": false,
         "type": "scattergeo"
        },
        {
         "hoverinfo": "none",
         "lat": [
          50.46887,
          49.48357,
          null
         ],
         "line": {
          "color": "gray",
          "width": 1
         },
         "lon": [
          -94.97869,
          -93.6347,
          null
         ],
         "mode": "lines",
         "showlegend": false,
         "type": "scattergeo"
        },
        {
         "hoverinfo": "none",
         "lat": [
          48.64244,
          50.0569,
          null
         ],
         "line": {
          "color": "gray",
          "width": 1
         },
         "lon": [
          -78.44274,
          -78.62245,
          null
         ],
         "mode": "lines",
         "showlegend": false,
         "type": "scattergeo"
        },
        {
         "hoverinfo": "none",
         "lat": [
          48.64244,
          48.65369,
          null
         ],
         "line": {
          "color": "gray",
          "width": 1
         },
         "lon": [
          -78.44274,
          -80.80783,
          null
         ],
         "mode": "lines",
         "showlegend": false,
         "type": "scattergeo"
        },
        {
         "hoverinfo": "none",
         "lat": [
          48.64244,
          51.70532,
          null
         ],
         "line": {
          "color": "gray",
          "width": 1
         },
         "lon": [
          -78.44274,
          -75.60596,
          null
         ],
         "mode": "lines",
         "showlegend": false,
         "type": "scattergeo"
        },
        {
         "hoverinfo": "none",
         "lat": [
          48.64244,
          48.89474,
          null
         ],
         "line": {
          "color": "gray",
          "width": 1
         },
         "lon": [
          -78.44274,
          -87.30561,
          null
         ],
         "mode": "lines",
         "showlegend": false,
         "type": "scattergeo"
        },
        {
         "hoverinfo": "none",
         "lat": [
          46.33418,
          46.42944,
          null
         ],
         "line": {
          "color": "gray",
          "width": 1
         },
         "lon": [
          -81.85949,
          -81.34988,
          null
         ],
         "mode": "lines",
         "showlegend": false,
         "type": "scattergeo"
        },
        {
         "hoverinfo": "none",
         "lat": [
          49.48357,
          46.67296,
          null
         ],
         "line": {
          "color": "gray",
          "width": 1
         },
         "lon": [
          -93.6347,
          -93.11959,
          null
         ],
         "mode": "lines",
         "showlegend": false,
         "type": "scattergeo"
        },
        {
         "hoverinfo": "none",
         "lat": [
          46.67296,
          46.75271,
          null
         ],
         "line": {
          "color": "gray",
          "width": 1
         },
         "lon": [
          -93.11959,
          -93.97567,
          null
         ],
         "mode": "lines",
         "showlegend": false,
         "type": "scattergeo"
        },
        {
         "hoverinfo": "none",
         "lat": [
          59,
          56.33024,
          null
         ],
         "line": {
          "color": "gray",
          "width": 1
         },
         "lon": [
          -69.64167,
          -62.09573,
          null
         ],
         "mode": "lines",
         "showlegend": false,
         "type": "scattergeo"
        },
        {
         "hoverinfo": "none",
         "lat": [
          53.9363,
          55.70728,
          null
         ],
         "line": {
          "color": "gray",
          "width": 1
         },
         "lon": [
          -94.77036,
          -97.88904,
          null
         ],
         "mode": "lines",
         "showlegend": false,
         "type": "scattergeo"
        },
        {
         "hoverinfo": "none",
         "lat": [
          53.9363,
          50.6298,
          null
         ],
         "line": {
          "color": "gray",
          "width": 1
         },
         "lon": [
          -94.77036,
          -95.60953,
          null
         ],
         "mode": "lines",
         "showlegend": false,
         "type": "scattergeo"
        },
        {
         "hoverinfo": "none",
         "lat": [
          62.89523,
          55.70728,
          null
         ],
         "line": {
          "color": "gray",
          "width": 1
         },
         "lon": [
          -96.72627,
          -97.88904,
          null
         ],
         "mode": "lines",
         "showlegend": false,
         "type": "scattergeo"
        },
        {
         "hoverinfo": "none",
         "lat": [
          48.89474,
          46.74852,
          null
         ],
         "line": {
          "color": "gray",
          "width": 1
         },
         "lon": [
          -87.30561,
          -87.88151,
          null
         ],
         "mode": "lines",
         "showlegend": false,
         "type": "scattergeo"
        },
        {
         "hoverinfo": "none",
         "lat": [
          46.74852,
          46.75271,
          null
         ],
         "line": {
          "color": "gray",
          "width": 1
         },
         "lon": [
          -87.88151,
          -93.97567,
          null
         ],
         "mode": "lines",
         "showlegend": false,
         "type": "scattergeo"
        },
        {
         "hoverinfo": "none",
         "lat": [
          50.60794,
          50.6298,
          null
         ],
         "line": {
          "color": "gray",
          "width": 1
         },
         "lon": [
          -95.48675,
          -95.60953,
          null
         ],
         "mode": "lines",
         "showlegend": false,
         "type": "scattergeo"
        },
        {
         "hoverinfo": "none",
         "lat": [
          61.46667,
          63.27641,
          null
         ],
         "line": {
          "color": "gray",
          "width": 1
         },
         "lon": [
          -139.53333,
          -146.29058,
          null
         ],
         "mode": "lines",
         "showlegend": false,
         "type": "scattergeo"
        },
        {
         "hoverinfo": "none",
         "lat": [
          61.46667,
          58.47856,
          null
         ],
         "line": {
          "color": "gray",
          "width": 1
         },
         "lon": [
          -139.53333,
          -128.86282,
          null
         ],
         "mode": "lines",
         "showlegend": false,
         "type": "scattergeo"
        },
        {
         "hoverinfo": "none",
         "lat": [
          46.49222,
          46.42944,
          null
         ],
         "line": {
          "color": "gray",
          "width": 1
         },
         "lon": [
          -81.06667,
          -81.34988,
          null
         ],
         "mode": "lines",
         "showlegend": false,
         "type": "scattergeo"
        },
        {
         "hoverinfo": "none",
         "lat": [
          46.63706,
          46.42944,
          null
         ],
         "line": {
          "color": "gray",
          "width": 1
         },
         "lon": [
          -81.36921,
          -81.34988,
          null
         ],
         "mode": "lines",
         "showlegend": false,
         "type": "scattergeo"
        },
        {
         "hoverinfo": "none",
         "lat": [
          48.2965,
          48.40377,
          null
         ],
         "line": {
          "color": "gray",
          "width": 1
         },
         "lon": [
          -81.01907,
          -81.258,
          null
         ],
         "mode": "lines",
         "showlegend": false,
         "type": "scattergeo"
        },
        {
         "hoverinfo": "none",
         "lat": [
          48.2965,
          48.65369,
          null
         ],
         "line": {
          "color": "gray",
          "width": 1
         },
         "lon": [
          -81.01907,
          -80.80783,
          null
         ],
         "mode": "lines",
         "showlegend": false,
         "type": "scattergeo"
        },
        {
         "hoverinfo": "none",
         "lat": [
          48.8276,
          48.65369,
          null
         ],
         "line": {
          "color": "gray",
          "width": 1
         },
         "lon": [
          -81.33731,
          -80.80783,
          null
         ],
         "mode": "lines",
         "showlegend": false,
         "type": "scattergeo"
        },
        {
         "hoverinfo": "none",
         "lat": [
          58.47856,
          54.9252,
          null
         ],
         "line": {
          "color": "gray",
          "width": 1
         },
         "lon": [
          -128.86282,
          -125.35635,
          null
         ],
         "mode": "lines",
         "showlegend": false,
         "type": "scattergeo"
        },
        {
         "hoverinfo": "text",
         "lat": [
          46.18,
          46.22531,
          46.75271
         ],
         "lon": [
          -67.64,
          -67.62547,
          -93.97567
         ],
         "marker": {
          "size": 8
         },
         "mode": "markers",
         "name": "Manganese",
         "text": [
          "Woodstock<br>Primary Mineral: Manganese<br>Reserves: 135488474<br>Location: (46.18, -67.64)",
          "Battery Hill<br>Primary Mineral: Manganese<br>Reserves: 62860000<br>Location: (46.22531, -67.62547)",
          "Emily<br>Primary Mineral: Manganese<br>Reserves: 11149000<br>Location: (46.75271, -93.97567)"
         ],
         "type": "scattergeo"
        },
        {
         "hoverinfo": "text",
         "lat": [
          61.420856,
          61.39782,
          46.43266,
          63.55,
          50.46887,
          50.0569,
          54.82755,
          46.33418,
          47.39778,
          56.82115,
          49.48357,
          46.67296,
          59,
          50.6298,
          55.70728,
          44.96337,
          51.70532,
          46.42944,
          48.40377,
          48.65369
         ],
         "lon": [
          -74.1375,
          -74.97753,
          -81.30323,
          -116.74583,
          -94.97869,
          -78.62245,
          -99.93617,
          -81.85949,
          -80.96639,
          -101.03294,
          -93.6347,
          -93.11959,
          -69.64167,
          -95.60953,
          -97.88904,
          -114.11784,
          -75.60596,
          -81.34988,
          -81.258,
          -80.80783
         ],
         "marker": {
          "size": 8
         },
         "mode": "markers",
         "name": "Cobalt",
         "text": [
          "Nunavik<br>Primary Mineral: Cobalt<br>Reserves: 18670<br>Location: (61.420856, -74.1375)",
          "Raglan<br>Primary Mineral: Cobalt<br>Reserves: 2233<br>Location: (61.39782, -74.97753)",
          "Lockerby East<br>Primary Mineral: Cobalt<br>Reserves: 1060<br>Location: (46.43266, -81.30323)",
          "Nico<br>Primary Mineral: Cobalt<br>Reserves: 74249<br>Location: (63.55, -116.74583)",
          "Werner Lake<br>Primary Mineral: Cobalt<br>Reserves: 340<br>Location: (50.46887, -94.97869)",
          "Grasset<br>Primary Mineral: Cobalt<br>Reserves: 1463<br>Location: (50.0569, -78.62245)",
          "Rice Island<br>Primary Mineral: Cobalt<br>Reserves: 2646<br>Location: (54.82755, -99.93617)",
          "Shakespeare<br>Primary Mineral: Cobalt<br>Reserves: 4536<br>Location: (46.33418, -81.85949)",
          "McAra<br>Primary Mineral: Cobalt<br>Reserves: 597<br>Location: (47.39778, -80.96639)",
          "Lynn Lake<br>Primary Mineral: Cobalt<br>Reserves: 5300<br>Location: (56.82115, -101.03294)",
          "Kenbridge<br>Primary Mineral: Cobalt<br>Reserves: 544<br>Location: (49.48357, -93.6347)",
          "Tamarack<br>Primary Mineral: Cobalt<br>Reserves: 5974<br>Location: (46.67296, -93.11959)",
          "Hawk Ridge<br>Primary Mineral: Cobalt<br>Reserves: 4417<br>Location: (59.0, -69.64167)",
          "Makwa Mayville<br>Primary Mineral: Cobalt<br>Reserves: 6224<br>Location: (50.6298, -95.60953)",
          "Manitoba Division<br>Primary Mineral: Cobalt<br>Reserves: 8000<br>Location: (55.70728, -97.88904)",
          "Iron Creek<br>Primary Mineral: Cobalt<br>Reserves: 9268<br>Location: (44.96337, -114.11784)",
          "Nisk<br>Primary Mineral: Cobalt<br>Reserves: 3700<br>Location: (51.70532, -75.60596)",
          "Crean Hill<br>Primary Mineral: Cobalt<br>Reserves: 9890<br>Location: (46.42944, -81.34988)",
          "Deloro<br>Primary Mineral: Cobalt<br>Reserves: 46600<br>Location: (48.40377, -81.258)",
          "Alexo-Dundonald<br>Primary Mineral: Cobalt<br>Reserves: 1449<br>Location: (48.65369, -80.80783)"
         ],
         "type": "scattergeo"
        },
        {
         "hoverinfo": "text",
         "lat": [
          47.5654,
          52.74202,
          54.9154,
          48.34509,
          37.54708,
          48.64244,
          53.9363,
          62.89523,
          48.89474,
          46.74852,
          50.60794,
          51.90281,
          61.46667,
          46.49222,
          46.63706,
          56.33024,
          48.2965,
          48.8276,
          58.47856,
          54.9252,
          63.27641,
          54.11277
         ],
         "lon": [
          -81.17918,
          -86.3038,
          -98.66201,
          -81.00002,
          -90.27653,
          -78.44274,
          -94.77036,
          -96.72627,
          -87.30561,
          -87.88151,
          -95.48675,
          -87.42056,
          -139.53333,
          -81.06667,
          -81.36921,
          -62.09573,
          -81.01907,
          -81.33731,
          -128.86282,
          -125.35635,
          -146.29058,
          -99.16678
         ],
         "marker": {
          "size": 8
         },
         "mode": "markers",
         "name": "Nickel",
         "text": [
          "Shining Tree<br>Primary Mineral: Nickel<br>Reserves: 17200<br>Location: (47.5654, -81.17918)",
          "Eagle's Nest<br>Primary Mineral: Nickel<br>Reserves: 300000<br>Location: (52.74202, -86.3038)",
          "Bowden Lake<br>Primary Mineral: Nickel<br>Reserves: 50194<br>Location: (54.9154, -98.66201)",
          "Aurora<br>Primary Mineral: Nickel<br>Reserves: 42000<br>Location: (48.34509, -81.00002)",
          "Madison<br>Primary Mineral: Nickel<br>Reserves: 23133<br>Location: (37.54708, -90.27653)",
          "Dumont<br>Primary Mineral: Nickel<br>Reserves: 5720702<br>Location: (48.64244, -78.44274)",
          "Nickel Island<br>Primary Mineral: Nickel<br>Reserves: 70000<br>Location: (53.9363, -94.77036)",
          "Ferguson Lake<br>Primary Mineral: Nickel<br>Reserves: 394300<br>Location: (62.89523, -96.72627)",
          "Maude Lake<br>Primary Mineral: Nickel<br>Reserves: 907<br>Location: (48.89474, -87.30561)",
          "Eagle<br>Primary Mineral: Nickel<br>Reserves: 70000<br>Location: (46.74852, -87.88151)",
          "Eagle Claims<br>Primary Mineral: Nickel<br>Reserves: 6000<br>Location: (50.60794, -95.48675)",
          "Norton<br>Primary Mineral: Nickel<br>Reserves: 16577<br>Location: (51.90281, -87.42056)",
          "Nickel Shaw<br>Primary Mineral: Nickel<br>Reserves: 1435029<br>Location: (61.46667, -139.53333)",
          "Ontario Division<br>Primary Mineral: Nickel<br>Reserves: 1773000<br>Location: (46.49222, -81.06667)",
          "Sudbury Operations<br>Primary Mineral: Nickel<br>Reserves: 2011000<br>Location: (46.63706, -81.36921)",
          "Voisey's Bay<br>Primary Mineral: Nickel<br>Reserves: 718800<br>Location: (56.33024, -62.09573)",
          "Shaw Dome<br>Primary Mineral: Nickel<br>Reserves: 2435240<br>Location: (48.2965, -81.01907)",
          "Crawford<br>Primary Mineral: Nickel<br>Reserves: 9761600<br>Location: (48.8276, -81.33731)",
          "Turnagain<br>Primary Mineral: Nickel<br>Reserves: 5702000<br>Location: (58.47856, -128.86282)",
          "Decar<br>Primary Mineral: Nickel<br>Reserves: 4548000<br>Location: (54.9252, -125.35635)",
          "Nikolai<br>Primary Mineral: Nickel<br>Reserves: 3675002<br>Location: (63.27641, -146.29058)",
          "Minago<br>Primary Mineral: Nickel<br>Reserves: 391885<br>Location: (54.11277, -99.16678)"
         ],
         "type": "scattergeo"
        }
       ],
       "layout": {
        "geo": {
         "lataxis": {
          "range": [
           27.54708,
           73.55
          ]
         },
         "lonaxis": {
          "range": [
           -156.29058,
           -52.09573
          ]
         },
         "projection": {
          "type": "natural earth"
         },
         "showcoastlines": true
        },
        "margin": {
         "b": 30,
         "l": 5,
         "r": 5,
         "t": 30
        },
        "showlegend": true,
        "template": {
         "data": {
          "bar": [
           {
            "error_x": {
             "color": "#2a3f5f"
            },
            "error_y": {
             "color": "#2a3f5f"
            },
            "marker": {
             "line": {
              "color": "#E5ECF6",
              "width": 0.5
             },
             "pattern": {
              "fillmode": "overlay",
              "size": 10,
              "solidity": 0.2
             }
            },
            "type": "bar"
           }
          ],
          "barpolar": [
           {
            "marker": {
             "line": {
              "color": "#E5ECF6",
              "width": 0.5
             },
             "pattern": {
              "fillmode": "overlay",
              "size": 10,
              "solidity": 0.2
             }
            },
            "type": "barpolar"
           }
          ],
          "carpet": [
           {
            "aaxis": {
             "endlinecolor": "#2a3f5f",
             "gridcolor": "white",
             "linecolor": "white",
             "minorgridcolor": "white",
             "startlinecolor": "#2a3f5f"
            },
            "baxis": {
             "endlinecolor": "#2a3f5f",
             "gridcolor": "white",
             "linecolor": "white",
             "minorgridcolor": "white",
             "startlinecolor": "#2a3f5f"
            },
            "type": "carpet"
           }
          ],
          "choropleth": [
           {
            "colorbar": {
             "outlinewidth": 0,
             "ticks": ""
            },
            "type": "choropleth"
           }
          ],
          "contour": [
           {
            "colorbar": {
             "outlinewidth": 0,
             "ticks": ""
            },
            "colorscale": [
             [
              0,
              "#0d0887"
             ],
             [
              0.1111111111111111,
              "#46039f"
             ],
             [
              0.2222222222222222,
              "#7201a8"
             ],
             [
              0.3333333333333333,
              "#9c179e"
             ],
             [
              0.4444444444444444,
              "#bd3786"
             ],
             [
              0.5555555555555556,
              "#d8576b"
             ],
             [
              0.6666666666666666,
              "#ed7953"
             ],
             [
              0.7777777777777778,
              "#fb9f3a"
             ],
             [
              0.8888888888888888,
              "#fdca26"
             ],
             [
              1,
              "#f0f921"
             ]
            ],
            "type": "contour"
           }
          ],
          "contourcarpet": [
           {
            "colorbar": {
             "outlinewidth": 0,
             "ticks": ""
            },
            "type": "contourcarpet"
           }
          ],
          "heatmap": [
           {
            "colorbar": {
             "outlinewidth": 0,
             "ticks": ""
            },
            "colorscale": [
             [
              0,
              "#0d0887"
             ],
             [
              0.1111111111111111,
              "#46039f"
             ],
             [
              0.2222222222222222,
              "#7201a8"
             ],
             [
              0.3333333333333333,
              "#9c179e"
             ],
             [
              0.4444444444444444,
              "#bd3786"
             ],
             [
              0.5555555555555556,
              "#d8576b"
             ],
             [
              0.6666666666666666,
              "#ed7953"
             ],
             [
              0.7777777777777778,
              "#fb9f3a"
             ],
             [
              0.8888888888888888,
              "#fdca26"
             ],
             [
              1,
              "#f0f921"
             ]
            ],
            "type": "heatmap"
           }
          ],
          "histogram": [
           {
            "marker": {
             "pattern": {
              "fillmode": "overlay",
              "size": 10,
              "solidity": 0.2
             }
            },
            "type": "histogram"
           }
          ],
          "histogram2d": [
           {
            "colorbar": {
             "outlinewidth": 0,
             "ticks": ""
            },
            "colorscale": [
             [
              0,
              "#0d0887"
             ],
             [
              0.1111111111111111,
              "#46039f"
             ],
             [
              0.2222222222222222,
              "#7201a8"
             ],
             [
              0.3333333333333333,
              "#9c179e"
             ],
             [
              0.4444444444444444,
              "#bd3786"
             ],
             [
              0.5555555555555556,
              "#d8576b"
             ],
             [
              0.6666666666666666,
              "#ed7953"
             ],
             [
              0.7777777777777778,
              "#fb9f3a"
             ],
             [
              0.8888888888888888,
              "#fdca26"
             ],
             [
              1,
              "#f0f921"
             ]
            ],
            "type": "histogram2d"
           }
          ],
          "histogram2dcontour": [
           {
            "colorbar": {
             "outlinewidth": 0,
             "ticks": ""
            },
            "colorscale": [
             [
              0,
              "#0d0887"
             ],
             [
              0.1111111111111111,
              "#46039f"
             ],
             [
              0.2222222222222222,
              "#7201a8"
             ],
             [
              0.3333333333333333,
              "#9c179e"
             ],
             [
              0.4444444444444444,
              "#bd3786"
             ],
             [
              0.5555555555555556,
              "#d8576b"
             ],
             [
              0.6666666666666666,
              "#ed7953"
             ],
             [
              0.7777777777777778,
              "#fb9f3a"
             ],
             [
              0.8888888888888888,
              "#fdca26"
             ],
             [
              1,
              "#f0f921"
             ]
            ],
            "type": "histogram2dcontour"
           }
          ],
          "mesh3d": [
           {
            "colorbar": {
             "outlinewidth": 0,
             "ticks": ""
            },
            "type": "mesh3d"
           }
          ],
          "parcoords": [
           {
            "line": {
             "colorbar": {
              "outlinewidth": 0,
              "ticks": ""
             }
            },
            "type": "parcoords"
           }
          ],
          "pie": [
           {
            "automargin": true,
            "type": "pie"
           }
          ],
          "scatter": [
           {
            "fillpattern": {
             "fillmode": "overlay",
             "size": 10,
             "solidity": 0.2
            },
            "type": "scatter"
           }
          ],
          "scatter3d": [
           {
            "line": {
             "colorbar": {
              "outlinewidth": 0,
              "ticks": ""
             }
            },
            "marker": {
             "colorbar": {
              "outlinewidth": 0,
              "ticks": ""
             }
            },
            "type": "scatter3d"
           }
          ],
          "scattercarpet": [
           {
            "marker": {
             "colorbar": {
              "outlinewidth": 0,
              "ticks": ""
             }
            },
            "type": "scattercarpet"
           }
          ],
          "scattergeo": [
           {
            "marker": {
             "colorbar": {
              "outlinewidth": 0,
              "ticks": ""
             }
            },
            "type": "scattergeo"
           }
          ],
          "scattergl": [
           {
            "marker": {
             "colorbar": {
              "outlinewidth": 0,
              "ticks": ""
             }
            },
            "type": "scattergl"
           }
          ],
          "scattermap": [
           {
            "marker": {
             "colorbar": {
              "outlinewidth": 0,
              "ticks": ""
             }
            },
            "type": "scattermap"
           }
          ],
          "scattermapbox": [
           {
            "marker": {
             "colorbar": {
              "outlinewidth": 0,
              "ticks": ""
             }
            },
            "type": "scattermapbox"
           }
          ],
          "scatterpolar": [
           {
            "marker": {
             "colorbar": {
              "outlinewidth": 0,
              "ticks": ""
             }
            },
            "type": "scatterpolar"
           }
          ],
          "scatterpolargl": [
           {
            "marker": {
             "colorbar": {
              "outlinewidth": 0,
              "ticks": ""
             }
            },
            "type": "scatterpolargl"
           }
          ],
          "scatterternary": [
           {
            "marker": {
             "colorbar": {
              "outlinewidth": 0,
              "ticks": ""
             }
            },
            "type": "scatterternary"
           }
          ],
          "surface": [
           {
            "colorbar": {
             "outlinewidth": 0,
             "ticks": ""
            },
            "colorscale": [
             [
              0,
              "#0d0887"
             ],
             [
              0.1111111111111111,
              "#46039f"
             ],
             [
              0.2222222222222222,
              "#7201a8"
             ],
             [
              0.3333333333333333,
              "#9c179e"
             ],
             [
              0.4444444444444444,
              "#bd3786"
             ],
             [
              0.5555555555555556,
              "#d8576b"
             ],
             [
              0.6666666666666666,
              "#ed7953"
             ],
             [
              0.7777777777777778,
              "#fb9f3a"
             ],
             [
              0.8888888888888888,
              "#fdca26"
             ],
             [
              1,
              "#f0f921"
             ]
            ],
            "type": "surface"
           }
          ],
          "table": [
           {
            "cells": {
             "fill": {
              "color": "#EBF0F8"
             },
             "line": {
              "color": "white"
             }
            },
            "header": {
             "fill": {
              "color": "#C8D4E3"
             },
             "line": {
              "color": "white"
             }
            },
            "type": "table"
           }
          ]
         },
         "layout": {
          "annotationdefaults": {
           "arrowcolor": "#2a3f5f",
           "arrowhead": 0,
           "arrowwidth": 1
          },
          "autotypenumbers": "strict",
          "coloraxis": {
           "colorbar": {
            "outlinewidth": 0,
            "ticks": ""
           }
          },
          "colorscale": {
           "diverging": [
            [
             0,
             "#8e0152"
            ],
            [
             0.1,
             "#c51b7d"
            ],
            [
             0.2,
             "#de77ae"
            ],
            [
             0.3,
             "#f1b6da"
            ],
            [
             0.4,
             "#fde0ef"
            ],
            [
             0.5,
             "#f7f7f7"
            ],
            [
             0.6,
             "#e6f5d0"
            ],
            [
             0.7,
             "#b8e186"
            ],
            [
             0.8,
             "#7fbc41"
            ],
            [
             0.9,
             "#4d9221"
            ],
            [
             1,
             "#276419"
            ]
           ],
           "sequential": [
            [
             0,
             "#0d0887"
            ],
            [
             0.1111111111111111,
             "#46039f"
            ],
            [
             0.2222222222222222,
             "#7201a8"
            ],
            [
             0.3333333333333333,
             "#9c179e"
            ],
            [
             0.4444444444444444,
             "#bd3786"
            ],
            [
             0.5555555555555556,
             "#d8576b"
            ],
            [
             0.6666666666666666,
             "#ed7953"
            ],
            [
             0.7777777777777778,
             "#fb9f3a"
            ],
            [
             0.8888888888888888,
             "#fdca26"
            ],
            [
             1,
             "#f0f921"
            ]
           ],
           "sequentialminus": [
            [
             0,
             "#0d0887"
            ],
            [
             0.1111111111111111,
             "#46039f"
            ],
            [
             0.2222222222222222,
             "#7201a8"
            ],
            [
             0.3333333333333333,
             "#9c179e"
            ],
            [
             0.4444444444444444,
             "#bd3786"
            ],
            [
             0.5555555555555556,
             "#d8576b"
            ],
            [
             0.6666666666666666,
             "#ed7953"
            ],
            [
             0.7777777777777778,
             "#fb9f3a"
            ],
            [
             0.8888888888888888,
             "#fdca26"
            ],
            [
             1,
             "#f0f921"
            ]
           ]
          },
          "colorway": [
           "#636efa",
           "#EF553B",
           "#00cc96",
           "#ab63fa",
           "#FFA15A",
           "#19d3f3",
           "#FF6692",
           "#B6E880",
           "#FF97FF",
           "#FECB52"
          ],
          "font": {
           "color": "#2a3f5f"
          },
          "geo": {
           "bgcolor": "white",
           "lakecolor": "white",
           "landcolor": "#E5ECF6",
           "showlakes": true,
           "showland": true,
           "subunitcolor": "white"
          },
          "hoverlabel": {
           "align": "left"
          },
          "hovermode": "closest",
          "mapbox": {
           "style": "light"
          },
          "paper_bgcolor": "white",
          "plot_bgcolor": "#E5ECF6",
          "polar": {
           "angularaxis": {
            "gridcolor": "white",
            "linecolor": "white",
            "ticks": ""
           },
           "bgcolor": "#E5ECF6",
           "radialaxis": {
            "gridcolor": "white",
            "linecolor": "white",
            "ticks": ""
           }
          },
          "scene": {
           "xaxis": {
            "backgroundcolor": "#E5ECF6",
            "gridcolor": "white",
            "gridwidth": 2,
            "linecolor": "white",
            "showbackground": true,
            "ticks": "",
            "zerolinecolor": "white"
           },
           "yaxis": {
            "backgroundcolor": "#E5ECF6",
            "gridcolor": "white",
            "gridwidth": 2,
            "linecolor": "white",
            "showbackground": true,
            "ticks": "",
            "zerolinecolor": "white"
           },
           "zaxis": {
            "backgroundcolor": "#E5ECF6",
            "gridcolor": "white",
            "gridwidth": 2,
            "linecolor": "white",
            "showbackground": true,
            "ticks": "",
            "zerolinecolor": "white"
           }
          },
          "shapedefaults": {
           "line": {
            "color": "#2a3f5f"
           }
          },
          "ternary": {
           "aaxis": {
            "gridcolor": "white",
            "linecolor": "white",
            "ticks": ""
           },
           "baxis": {
            "gridcolor": "white",
            "linecolor": "white",
            "ticks": ""
           },
           "bgcolor": "#E5ECF6",
           "caxis": {
            "gridcolor": "white",
            "linecolor": "white",
            "ticks": ""
           }
          },
          "title": {
           "x": 0.05
          },
          "xaxis": {
           "automargin": true,
           "gridcolor": "white",
           "linecolor": "white",
           "ticks": "",
           "title": {
            "standoff": 15
           },
           "zerolinecolor": "white",
           "zerolinewidth": 2
          },
          "yaxis": {
           "automargin": true,
           "gridcolor": "white",
           "linecolor": "white",
           "ticks": "",
           "title": {
            "standoff": 15
           },
           "zerolinecolor": "white",
           "zerolinewidth": 2
          }
         }
        },
        "title": {
         "text": "NMC in USA and Canada"
        }
       }
      }
     },
     "metadata": {},
     "output_type": "display_data"
    }
   ],
   "source": [
    "plot_graph(mst)"
   ]
  },
  {
   "cell_type": "code",
   "execution_count": null,
   "id": "3e8f0584",
   "metadata": {},
   "outputs": [],
   "source": []
  }
 ],
 "metadata": {
  "colab": {
   "provenance": []
  },
  "kernelspec": {
   "display_name": ".venv",
   "language": "python",
   "name": "python3"
  },
  "language_info": {
   "codemirror_mode": {
    "name": "ipython",
    "version": 3
   },
   "file_extension": ".py",
   "mimetype": "text/x-python",
   "name": "python",
   "nbconvert_exporter": "python",
   "pygments_lexer": "ipython3",
   "version": "3.11.5"
  }
 },
 "nbformat": 4,
 "nbformat_minor": 5
}

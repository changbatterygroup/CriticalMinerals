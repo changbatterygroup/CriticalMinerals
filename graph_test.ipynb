{
 "cells": [
  {
   "cell_type": "code",
   "execution_count": 1,
   "metadata": {},
   "outputs": [],
   "source": [
    "import pandas as pd\n",
    "import matplotlib.pyplot as plt\n",
    "import numpy as np\n",
    "import plotly.graph_objects as go\n",
    "import plotly.express as px\n",
    "import os\n",
    "import xlwings as xw"
   ]
  },
  {
   "cell_type": "code",
   "execution_count": 2,
   "metadata": {},
   "outputs": [],
   "source": [
    "minerals = [\"Manganese\", \"Lithium\", \"Cobalt\", \"Nickel\", \"Lanthanides\"]\n",
    "data_directory = \"./data\" # Set this to your own directory"
   ]
  },
  {
   "cell_type": "code",
   "execution_count": 3,
   "metadata": {},
   "outputs": [
    {
     "name": "stdout",
     "output_type": "stream",
     "text": [
      "Read Manganese\n",
      "Read Lithium\n",
      "Read Cobalt\n",
      "Read Nickel\n",
      "Read Lanthanides\n"
     ]
    }
   ],
   "source": [
    "combined = None\n",
    "\n",
    "mining_path = os.path.join(data_directory, \"SPGlobal_MetalsAndMiningProperties-Combined-Dec-2024.xlsx\")\n",
    "for i, mineral in enumerate(minerals):\n",
    "    data = pd.read_excel(mining_path, sheet_name = mineral)\n",
    "    print(f\"Read {mineral}\")\n",
    "\n",
    "    # data.dropna(subset=\"Primary Reserves and Resources\", inplace = True)\n",
    "    data[\"Reserves & Resources As Of Date\"] = pd.to_datetime(data[\"Reserves & Resources As Of Date\"])\n",
    "    data[\"Primary Mineral\"] = mineral\n",
    "    data[\"Year\"] = data[\"Reserves & Resources As Of Date\"].dt.year\n",
    "\n",
    "\n",
    "    if i == 0:\n",
    "        combined = data\n",
    "        continue\n",
    "\n",
    "    combined = pd.concat([combined, data], ignore_index=True)\n",
    "\n",
    "combined = combined.sort_values(by = \"Year\").query(\"`Activity Status` == 'Active'\")\n",
    "combined[\"Property ID\"] = combined[\"Property ID\"].astype(int)"
   ]
  },
  {
   "cell_type": "code",
   "execution_count": 4,
   "metadata": {},
   "outputs": [
    {
     "data": {
      "application/vnd.microsoft.datawrangler.viewer.v0+json": {
       "columns": [
        {
         "name": "index",
         "rawType": "int64",
         "type": "integer"
        },
        {
         "name": "Property",
         "rawType": "object",
         "type": "string"
        },
        {
         "name": "Property ID",
         "rawType": "int64",
         "type": "integer"
        },
        {
         "name": "Owner(s)",
         "rawType": "object",
         "type": "unknown"
        },
        {
         "name": "Country/Region",
         "rawType": "object",
         "type": "string"
        },
        {
         "name": "Country/Region Risk Score & Outlook",
         "rawType": "object",
         "type": "unknown"
        },
        {
         "name": "Development Stage",
         "rawType": "object",
         "type": "string"
        },
        {
         "name": "Activity Status",
         "rawType": "object",
         "type": "string"
        },
        {
         "name": "Commodity(s)",
         "rawType": "object",
         "type": "string"
        },
        {
         "name": "Primary Reserves and Resources",
         "rawType": "int64",
         "type": "integer"
        },
        {
         "name": "Unit",
         "rawType": "object",
         "type": "string"
        },
        {
         "name": "Total In-Situ Value ($M)",
         "rawType": "float64",
         "type": "float"
        },
        {
         "name": "Reserves & Resources As Of Date",
         "rawType": "datetime64[ns]",
         "type": "datetime"
        },
        {
         "name": "Primary Mineral",
         "rawType": "object",
         "type": "string"
        },
        {
         "name": "Year",
         "rawType": "int32",
         "type": "integer"
        },
        {
         "name": "Latitude (degrees)",
         "rawType": "float64",
         "type": "float"
        },
        {
         "name": "Longitude (degrees)",
         "rawType": "float64",
         "type": "float"
        }
       ],
       "conversionMethod": "pd.DataFrame",
       "ref": "e0989300-9f9a-4de5-99c1-928bc7e54b1a",
       "rows": [
        [
         "0",
         "Lithium Two",
         "79958",
         " New Age Metals Inc., Mineral Resources Ltd.",
         "Canada",
         "1.4 Moderate - No Change",
         "Target Outline",
         "Active",
         "Lithium, Caesium, Rubidium, Tantalum",
         "7600",
         "tonnes",
         "123.1808",
         "1947-12-31 00:00:00",
         "Lithium",
         "1947",
         "50.61363",
         "-95.46443"
        ],
        [
         "1",
         "Falcon West",
         "90157",
         "Grid Metals Corp.",
         "Canada",
         "1.4 Moderate - No Change",
         "Target Outline",
         "Active",
         "Lithium, Caesium, Tantalum, Rubidium",
         "4000",
         "tonnes",
         "64.832",
         "1955-12-31 00:00:00",
         "Lithium",
         "1955",
         "49.56729",
         "-95.68944"
        ],
        [
         "2",
         "Irgon",
         "79892",
         "QMC Quantum Minerals Corp",
         "Canada",
         "1.4 Moderate - No Change",
         "Target Outline",
         "Active",
         "Lithium, Tantalum",
         "16420",
         "tonnes",
         "266.13536",
         "1956-12-31 00:00:00",
         "Lithium",
         "1956",
         "50.6072",
         "-95.39696"
        ],
        [
         "3",
         "Chrome-Puddy",
         "89842",
         " Green Bridge Metals Corp., Pavey Ark Minerals Inc.",
         "Canada",
         "1.4 Moderate - No Change",
         "Exploration",
         "Active",
         "Nickel, Chromium, Copper, Cobalt, Platinum, Iron Ore, Palladium, Gold, Chromite",
         "73482",
         "tonnes",
         "1384.35794235251",
         "1966-12-31 00:00:00",
         "Nickel",
         "1966",
         "49.96907",
         "-89.52303"
        ],
        [
         "4",
         "Chrome-Puddy",
         "89842",
         " Green Bridge Metals Corp., Pavey Ark Minerals Inc.",
         "Canada",
         "1.4 Moderate - No Change",
         "Exploration",
         "Active",
         "Nickel, Chromium, Copper, Cobalt, Platinum, Iron Ore, Palladium, Gold, Chromite",
         "4627",
         "tonnes",
         "1384.35794235251",
         "1966-12-31 00:00:00",
         "Cobalt",
         "1966",
         "49.96907",
         "-89.52303"
        ],
        [
         "5",
         "Canalask",
         "26215",
         " GT Resources Inc., Victoria Gold Corp.",
         "Canada",
         "1.4 Moderate - No Change",
         "Target Outline",
         "Active",
         "Nickel, Copper, Platinum, Gold, Palladium",
         "5300",
         "tonnes",
         "87.4000592205729",
         "1968-12-31 00:00:00",
         "Nickel",
         "1968",
         "61.96667",
         "-140.5"
        ],
        [
         "6",
         "McBride",
         "80756",
         "Hastings Highlands Rsrc Ltd",
         "Canada",
         "1.4 Moderate - No Change",
         "Target Outline",
         "Active",
         "Nickel, Cobalt, Copper, Gold, Silver, Platinum, Palladium",
         "35561",
         "tonnes",
         "775.079351533184",
         "1971-12-31 00:00:00",
         "Nickel",
         "1971",
         "44.8714",
         "-77.72421"
        ],
        [
         "7",
         "McBride",
         "80756",
         "Hastings Highlands Rsrc Ltd",
         "Canada",
         "1.4 Moderate - No Change",
         "Target Outline",
         "Active",
         "Nickel, Cobalt, Copper, Gold, Silver, Platinum, Palladium",
         "2450",
         "tonnes",
         "775.079351533184",
         "1971-12-31 00:00:00",
         "Cobalt",
         "1971",
         "44.8714",
         "-77.72421"
        ],
        [
         "8",
         "Cyclops",
         "84443",
         "Bolt Metals Corp.",
         "Indonesia",
         "2.1 Elevated - No Change",
         "Target Outline",
         "Active",
         "Nickel, Cobalt, Iron Ore",
         "41000",
         "tonnes",
         "9527.32075277192",
         "1979-12-31 00:00:00",
         "Cobalt",
         "1979",
         "-2.46688",
         "140.36829"
        ],
        [
         "9",
         "Cyclops",
         "84443",
         "Bolt Metals Corp.",
         "Indonesia",
         "2.1 Elevated - No Change",
         "Target Outline",
         "Active",
         "Nickel, Cobalt, Iron Ore",
         "485000",
         "tonnes",
         "9527.32075277192",
         "1979-12-31 00:00:00",
         "Nickel",
         "1979",
         "-2.46688",
         "140.36829"
        ],
        [
         "10",
         "Bouvier",
         "59623",
         "Mining Equities Pty Ltd",
         "Canada",
         "1.4 Moderate - No Change",
         "Target Outline",
         "Active",
         "Lithium",
         "11431",
         "tonnes",
         "185.273648",
         "1979-12-31 00:00:00",
         "Lithium",
         "1979",
         "48.45182",
         "-78.09764"
        ],
        [
         "11",
         "Crean Hill 3",
         "91456",
         " SPC Nickel Corp, Vale S.A.",
         "Canada",
         "1.4 Moderate - No Change",
         "Target Outline",
         "Active",
         "Nickel, Copper",
         "72150",
         "tonnes",
         "1618.18065855032",
         "1989-12-31 00:00:00",
         "Nickel",
         "1989",
         "46.43776",
         "-81.31067"
        ],
        [
         "12",
         "Gochager Lake",
         "80201",
         " Fathom Nickel Inc., BioELife Corp.",
         "Canada",
         "1.4 Moderate - No Change",
         "Target Outline",
         "Active",
         "Cobalt, Copper, Nickel, Platinum, Palladium, Gold",
         "13010",
         "tonnes",
         "214.542409520689",
         "1990-12-31 00:00:00",
         "Nickel",
         "1990",
         "55.76232",
         "-104.94067"
        ],
        [
         "13",
         "Pomalaa East",
         "28852",
         "PT Vale Indonesia Tbk",
         "Indonesia",
         "2.1 Elevated - No Change",
         "Construction Started",
         "Active",
         "Nickel, Cobalt",
         "2690000",
         "tonnes",
         "44359.6526987436",
         "1993-12-31 00:00:00",
         "Nickel",
         "1993",
         "-4.22492",
         "121.68711"
        ],
        [
         "14",
         "Miriam",
         "29806",
         " Future Battery Minerals Ltd., Corazon Mining Ltd.",
         "Australia",
         "1.4 Moderate - No Change",
         "Target Outline",
         "Active",
         "Lithium, Nickel, Spodumene, Gold, Caesium, Tantalum, Tin",
         "3900",
         "tonnes",
         "64.3132511245725",
         "1996-06-21 00:00:00",
         "Nickel",
         "1996",
         "-31.05194",
         "121.10314"
        ],
        [
         "15",
         "Punta Gorda",
         "28013",
         "Cubaniquel",
         "Cuba",
         "3.0 High - No Change",
         "Operating",
         "Active",
         "Nickel, Cobalt",
         "4093000",
         "tonnes",
         "80215.9877601116",
         "1999-12-31 00:00:00",
         "Nickel",
         "1999",
         "20.62977",
         "-74.86241"
        ],
        [
         "16",
         "Punta Gorda",
         "28013",
         "Cubaniquel",
         "Cuba",
         "3.0 High - No Change",
         "Operating",
         "Active",
         "Nickel, Cobalt",
         "341000",
         "tonnes",
         "80215.9877601116",
         "1999-12-31 00:00:00",
         "Cobalt",
         "1999",
         "20.62977",
         "-74.86241"
        ],
        [
         "17",
         "Nonoc",
         "27118",
         "Philnico Mining & Indl Corp",
         "Philippines",
         "2.2 Elevated - No Change",
         "Feasibility",
         "Active",
         "Nickel, Cobalt, Iron Ore",
         "1584000",
         "tonnes",
         "32014.8242352489",
         "2000-02-23 00:00:00",
         "Nickel",
         "2000",
         "9.83278",
         "125.61056"
        ],
        [
         "18",
         "Nonoc",
         "27118",
         "Philnico Mining & Indl Corp",
         "Philippines",
         "2.2 Elevated - No Change",
         "Feasibility",
         "Active",
         "Nickel, Cobalt, Iron Ore",
         "158000",
         "tonnes",
         "32014.8242352489",
         "2000-02-23 00:00:00",
         "Cobalt",
         "2000",
         "9.83278",
         "125.61056"
        ],
        [
         "19",
         "Loveland",
         "84460",
         "Intl Explorers & Prospectors I",
         "Canada",
         "1.4 Moderate - No Change",
         "Target Outline",
         "Active",
         "Nickel, Cobalt, Copper, Palladium",
         "5262",
         "tonnes",
         "124.852742343792",
         "2002-03-31 00:00:00",
         "Nickel",
         "2002",
         "48.66136",
         "-81.62469"
        ],
        [
         "20",
         "Nkana Slag",
         "29191",
         " Private Interest, ZCCM Investments Holdings Plc",
         "Zambia",
         "2.6 High - No Change",
         "Limited Production",
         "Active",
         "Cobalt, Copper, Gold",
         "152000",
         "tonnes",
         "7644.22029409357",
         "2003-06-30 00:00:00",
         "Cobalt",
         "2003",
         "-12.83944",
         "28.21028"
        ],
        [
         "21",
         "Biankouma-Sipilou",
         "27512",
         "Nickel de l'Ouest de la Cote d",
         "Côte d'Ivoire",
         "2.1 Elevated - No Change",
         "Reserves Development",
         "Active",
         "Nickel, Cobalt",
         "285000",
         "tonnes",
         "73460.2303826231",
         "2005-09-09 00:00:00",
         "Cobalt",
         "2005",
         "7.86926",
         "-7.91147"
        ],
        [
         "22",
         "Morowali",
         "35538",
         "PT Vale Indonesia Tbk",
         "Indonesia",
         "2.1 Elevated - No Change",
         "Construction Started",
         "Active",
         "Nickel",
         "451000",
         "tonnes",
         "7437.25032235441",
         "2005-12-31 00:00:00",
         "Nickel",
         "2005",
         "-2.71",
         "121.955"
        ],
        [
         "23",
         "Biankouma-Sipilou",
         "27512",
         "Nickel de l'Ouest de la Cote d",
         "Côte d'Ivoire",
         "2.1 Elevated - No Change",
         "Reserves Development",
         "Active",
         "Nickel, Cobalt",
         "3810000",
         "tonnes",
         "73460.2303826231",
         "2005-09-09 00:00:00",
         "Nickel",
         "2005",
         "7.86926",
         "-7.91147"
        ],
        [
         "24",
         "Larco",
         "28380",
         "Larco SA",
         "Greece",
         "1.8 Elevated - Decrease",
         "Operating",
         "Active",
         "Nickel, Cobalt",
         "2476380",
         "tonnes",
         "40836.9355948382",
         "2006-12-31 00:00:00",
         "Nickel",
         "2006",
         "38.65722",
         "23.57806"
        ],
        [
         "25",
         "Old Nick",
         "29375",
         " 1258713 B.C. Ltd., 1200059 B.C. Ltd.",
         "Canada",
         "1.4 Moderate - No Change",
         "Reserves Development",
         "Active",
         "Nickel, Cobalt",
         "33000",
         "tonnes",
         "603.872591595842",
         "2007-07-16 00:00:00",
         "Nickel",
         "2007",
         "49.04169",
         "-119.08467"
        ],
        [
         "26",
         "Gladstone",
         "30070",
         "Gladstone Pacific Nickel",
         "Australia",
         "1.4 Moderate - No Change",
         "Feasibility",
         "Active",
         "Nickel, Cobalt",
         "44000",
         "tonnes",
         "12310.7009053084",
         "2007-06-30 00:00:00",
         "Cobalt",
         "2007",
         "-22.94832",
         "149.83267"
        ],
        [
         "27",
         "Old Nick",
         "29375",
         " 1258713 B.C. Ltd., 1200059 B.C. Ltd.",
         "Canada",
         "1.4 Moderate - No Change",
         "Reserves Development",
         "Active",
         "Nickel, Cobalt",
         "1600",
         "tonnes",
         "603.872591595842",
         "2007-07-16 00:00:00",
         "Cobalt",
         "2007",
         "49.04169",
         "-119.08467"
        ],
        [
         "28",
         "Renzy",
         "33471",
         "Fjordland Exploration Inc.",
         "Canada",
         "1.4 Moderate - No Change",
         "Reserves Development",
         "Active",
         "Nickel, Copper, Cobalt",
         "2699",
         "tonnes",
         "68.8377099464878",
         "2007-11-01 00:00:00",
         "Nickel",
         "2007",
         "46.81383",
         "-76.70302"
        ],
        [
         "29",
         "Zambales",
         "35533",
         "DMCI Holdings Inc.",
         "Philippines",
         "2.2 Elevated - No Change",
         "Reserves Development",
         "Active",
         "Nickel, Cobalt, Chromite, Platinum",
         "270000",
         "tonnes",
         "4974.68685374933",
         "2007-12-21 00:00:00",
         "Nickel",
         "2007",
         "15.77065",
         "120.05396"
        ],
        [
         "30",
         "Gladstone",
         "30070",
         "Gladstone Pacific Nickel",
         "Australia",
         "1.4 Moderate - No Change",
         "Feasibility",
         "Active",
         "Nickel, Cobalt",
         "647000",
         "tonnes",
         "12310.7009053084",
         "2007-06-30 00:00:00",
         "Nickel",
         "2007",
         "-22.94832",
         "149.83267"
        ],
        [
         "31",
         "Zambales",
         "35533",
         "DMCI Holdings Inc.",
         "Philippines",
         "2.2 Elevated - No Change",
         "Reserves Development",
         "Active",
         "Nickel, Cobalt, Chromite, Platinum",
         "14000",
         "tonnes",
         "4974.68685374933",
         "2007-12-21 00:00:00",
         "Cobalt",
         "2007",
         "15.77065",
         "120.05396"
        ],
        [
         "32",
         "Mt Jewell",
         "34250",
         "Private Interest",
         "Australia",
         "1.4 Moderate - No Change",
         "Reserves Development",
         "Active",
         "Nickel",
         "1700",
         "tonnes",
         "28.033981259429",
         "2007-06-30 00:00:00",
         "Nickel",
         "2007",
         "-30.18028",
         "121.45611"
        ],
        [
         "33",
         "Irwin-Coglia",
         "29911",
         "Glencore plc",
         "Australia",
         "1.4 Moderate - No Change",
         "Reserves Development",
         "Active",
         "Nickel, Cobalt, Copper",
         "192000",
         "tonnes",
         "4024.14176411301",
         "2008-12-31 00:00:00",
         "Nickel",
         "2008",
         "-29.14276",
         "123.05745"
        ],
        [
         "34",
         "Kildanga",
         "34956",
         "Clara Resources Australia Ltd",
         "Australia",
         "1.4 Moderate - No Change",
         "Reserves Development",
         "Active",
         "Nickel, Cobalt, Gold, Copper, Platinum",
         "572",
         "tonnes",
         "136.457586356666",
         "2008-12-31 00:00:00",
         "Cobalt",
         "2008",
         "-26.19516",
         "152.27437"
        ],
        [
         "35",
         "Leinster",
         "35980",
         " Future Battery Minerals Ltd., PVW Resources Ltd., Dynamic Metals Ltd.",
         "Australia",
         "1.4 Moderate - No Change",
         "Reserves Development",
         "Active",
         "Nickel, Copper, Platinum, Palladium, Gold",
         "8300",
         "tonnes",
         "161.741508831465",
         "2008-04-13 00:00:00",
         "Nickel",
         "2008",
         "-28.1646",
         "120.91717"
        ],
        [
         "36",
         "Figesbal",
         "32792",
         " Figesbal, Establissement Ballande Groupe, Sumitomo Metal Mining Co.",
         "New Caledonia",
         null,
         "Operating",
         "Active",
         "Nickel, Cobalt",
         "1500000",
         "tonnes",
         "24735.8658171433",
         "2008-03-31 00:00:00",
         "Nickel",
         "2008",
         "-21.5295",
         "166.10385"
        ],
        [
         "37",
         "Irwin-Coglia",
         "29911",
         "Glencore plc",
         "Australia",
         "1.4 Moderate - No Change",
         "Reserves Development",
         "Active",
         "Nickel, Cobalt, Copper",
         "23000",
         "tonnes",
         "4024.14176411301",
         "2008-12-31 00:00:00",
         "Cobalt",
         "2008",
         "-29.14276",
         "123.05745"
        ],
        [
         "38",
         "Texmont",
         "36150",
         "Canada Nickel Co.",
         "Canada",
         "1.4 Moderate - No Change",
         "Target Outline",
         "Active",
         "Nickel, Cobalt, Palladium, Platinum",
         "29000",
         "tonnes",
         "478.226739131436",
         "2008-03-31 00:00:00",
         "Nickel",
         "2008",
         "48.16528",
         "-81.20417"
        ],
        [
         "39",
         "Diamond Creek",
         "37621",
         "Idaho Strategic Resources Inc.",
         "USA",
         "1.5 Moderate - No Change",
         "Reserves Development",
         "Active",
         "Lanthanides, Thorium, Niobium, Gold",
         "70760",
         "tonnes",
         "3538.0",
         "2008-09-30 00:00:00",
         "Lanthanides",
         "2008",
         "45.25064",
         "-113.91745"
        ],
        [
         "40",
         "Souker",
         "35520",
         "Hannan Metals Ltd.",
         "Russia",
         "4.0 Very High - Increase",
         "Feasibility",
         "Active",
         "Nickel, Copper",
         "894200",
         "tonnes",
         "16604.4239236211",
         "2008-06-11 00:00:00",
         "Nickel",
         "2008",
         "69.38",
         "30.7631"
        ],
        [
         "41",
         "Kildanga",
         "34956",
         "Clara Resources Australia Ltd",
         "Australia",
         "1.4 Moderate - No Change",
         "Reserves Development",
         "Active",
         "Nickel, Cobalt, Gold, Copper, Platinum",
         "6981",
         "tonnes",
         "136.457586356666",
         "2008-12-31 00:00:00",
         "Nickel",
         "2008",
         "-26.19516",
         "152.27437"
        ],
        [
         "42",
         "Kuhmo",
         "33747",
         " Boliden AB (publ), Sotkamo Silver AB",
         "Finland",
         "1.3 Moderate - No Change",
         "Reserves Development",
         "Active",
         "Nickel, Copper, Cobalt, Platinum, Palladium, Gold",
         "45732",
         "tonnes",
         "1015.09646447866",
         "2009-10-23 00:00:00",
         "Nickel",
         "2009",
         "65.14917",
         "29.07889"
        ],
        [
         "43",
         "Valozoro",
         "32849",
         "DFR Gold Inc.",
         "Madagascar",
         "2.8 High - No Change",
         "Reserves Development",
         "Active",
         "Nickel",
         "191000",
         "tonnes",
         "3149.70024738291",
         "2009-06-30 00:00:00",
         "Nickel",
         "2009",
         "-20.83",
         "47.24"
        ],
        [
         "44",
         "Bird River",
         "30985",
         " Grid Metals Corp., Gossan Resources Ltd.",
         "Canada",
         "1.4 Moderate - No Change",
         "Reserves Development",
         "Active",
         "Nickel, Copper, Zinc, Silver, Gold, Palladium, Platinum",
         "18019",
         "tonnes",
         "540.195582260935",
         "2009-01-15 00:00:00",
         "Nickel",
         "2009",
         "50.48077",
         "-95.50764"
        ],
        [
         "45",
         "Yuanjiang",
         "33499",
         "Yuanjiang Nickel",
         "China",
         "1.9 Elevated - No Change",
         "Operating",
         "Active",
         "Nickel, Cobalt",
         "14100",
         "tonnes",
         "7567.43769741982",
         "2009-12-21 00:00:00",
         "Cobalt",
         "2009",
         "23.48131",
         "101.78039"
        ],
        [
         "46",
         "Goodyear",
         "29766",
         "Lefroy Exploration Ltd.",
         "Australia",
         "1.4 Moderate - No Change",
         "Reserves Development",
         "Active",
         "Nickel, Lithium, Lanthanides, Gold, Copper",
         "14780",
         "tonnes",
         "243.730731184918",
         "2009-03-31 00:00:00",
         "Nickel",
         "2009",
         "-31.01241",
         "121.68447"
        ],
        [
         "47",
         "Red Flat",
         "91615",
         " Homeland Nickel Inc., Unnamed Owner",
         "USA",
         "1.5 Moderate - No Change",
         "Target Outline",
         "Active",
         "Nickel, Cobalt",
         "143612",
         "tonnes",
         "2368.24477448772",
         "2009-12-31 00:00:00",
         "Nickel",
         "2009",
         "42.35215",
         "-124.2983"
        ],
        [
         "48",
         "Yuanjiang",
         "33499",
         "Yuanjiang Nickel",
         "China",
         "1.9 Elevated - No Change",
         "Operating",
         "Active",
         "Nickel, Cobalt",
         "427000",
         "tonnes",
         "7567.43769741982",
         "2009-12-21 00:00:00",
         "Nickel",
         "2009",
         "23.48131",
         "101.78039"
        ],
        [
         "49",
         "Jinchuan",
         "27136",
         "JinChuan Group Co.Ltd",
         "China",
         "1.9 Elevated - No Change",
         "Operating",
         "Active",
         "Nickel, Copper, Cobalt, Platinum, Palladium, Gold, Rhodium, Silver",
         "5502000",
         "tonnes",
         "129177.575452705",
         "2009-12-21 00:00:00",
         "Nickel",
         "2009",
         "38.49053",
         "102.14801"
        ]
       ],
       "shape": {
        "columns": 16,
        "rows": 661
       }
      },
      "text/html": [
       "<div>\n",
       "<style scoped>\n",
       "    .dataframe tbody tr th:only-of-type {\n",
       "        vertical-align: middle;\n",
       "    }\n",
       "\n",
       "    .dataframe tbody tr th {\n",
       "        vertical-align: top;\n",
       "    }\n",
       "\n",
       "    .dataframe thead th {\n",
       "        text-align: right;\n",
       "    }\n",
       "</style>\n",
       "<table border=\"1\" class=\"dataframe\">\n",
       "  <thead>\n",
       "    <tr style=\"text-align: right;\">\n",
       "      <th></th>\n",
       "      <th>Property</th>\n",
       "      <th>Property ID</th>\n",
       "      <th>Owner(s)</th>\n",
       "      <th>Country/Region</th>\n",
       "      <th>Country/Region Risk Score &amp; Outlook</th>\n",
       "      <th>Development Stage</th>\n",
       "      <th>Activity Status</th>\n",
       "      <th>Commodity(s)</th>\n",
       "      <th>Primary Reserves and Resources</th>\n",
       "      <th>Unit</th>\n",
       "      <th>Total In-Situ Value ($M)</th>\n",
       "      <th>Reserves &amp; Resources As Of Date</th>\n",
       "      <th>Primary Mineral</th>\n",
       "      <th>Year</th>\n",
       "      <th>Latitude (degrees)</th>\n",
       "      <th>Longitude (degrees)</th>\n",
       "    </tr>\n",
       "  </thead>\n",
       "  <tbody>\n",
       "    <tr>\n",
       "      <th>0</th>\n",
       "      <td>Lithium Two</td>\n",
       "      <td>79958</td>\n",
       "      <td>New Age Metals Inc., Mineral Resources Ltd.</td>\n",
       "      <td>Canada</td>\n",
       "      <td>1.4 Moderate - No Change</td>\n",
       "      <td>Target Outline</td>\n",
       "      <td>Active</td>\n",
       "      <td>Lithium, Caesium, Rubidium, Tantalum</td>\n",
       "      <td>7600</td>\n",
       "      <td>tonnes</td>\n",
       "      <td>123.180800</td>\n",
       "      <td>1947-12-31</td>\n",
       "      <td>Lithium</td>\n",
       "      <td>1947</td>\n",
       "      <td>50.61363</td>\n",
       "      <td>-95.46443</td>\n",
       "    </tr>\n",
       "    <tr>\n",
       "      <th>1</th>\n",
       "      <td>Falcon West</td>\n",
       "      <td>90157</td>\n",
       "      <td>Grid Metals Corp.</td>\n",
       "      <td>Canada</td>\n",
       "      <td>1.4 Moderate - No Change</td>\n",
       "      <td>Target Outline</td>\n",
       "      <td>Active</td>\n",
       "      <td>Lithium, Caesium, Tantalum, Rubidium</td>\n",
       "      <td>4000</td>\n",
       "      <td>tonnes</td>\n",
       "      <td>64.832000</td>\n",
       "      <td>1955-12-31</td>\n",
       "      <td>Lithium</td>\n",
       "      <td>1955</td>\n",
       "      <td>49.56729</td>\n",
       "      <td>-95.68944</td>\n",
       "    </tr>\n",
       "    <tr>\n",
       "      <th>2</th>\n",
       "      <td>Irgon</td>\n",
       "      <td>79892</td>\n",
       "      <td>QMC Quantum Minerals Corp</td>\n",
       "      <td>Canada</td>\n",
       "      <td>1.4 Moderate - No Change</td>\n",
       "      <td>Target Outline</td>\n",
       "      <td>Active</td>\n",
       "      <td>Lithium, Tantalum</td>\n",
       "      <td>16420</td>\n",
       "      <td>tonnes</td>\n",
       "      <td>266.135360</td>\n",
       "      <td>1956-12-31</td>\n",
       "      <td>Lithium</td>\n",
       "      <td>1956</td>\n",
       "      <td>50.60720</td>\n",
       "      <td>-95.39696</td>\n",
       "    </tr>\n",
       "    <tr>\n",
       "      <th>3</th>\n",
       "      <td>Chrome-Puddy</td>\n",
       "      <td>89842</td>\n",
       "      <td>Green Bridge Metals Corp., Pavey Ark Minerals...</td>\n",
       "      <td>Canada</td>\n",
       "      <td>1.4 Moderate - No Change</td>\n",
       "      <td>Exploration</td>\n",
       "      <td>Active</td>\n",
       "      <td>Nickel, Chromium, Copper, Cobalt, Platinum, Ir...</td>\n",
       "      <td>73482</td>\n",
       "      <td>tonnes</td>\n",
       "      <td>1384.357942</td>\n",
       "      <td>1966-12-31</td>\n",
       "      <td>Nickel</td>\n",
       "      <td>1966</td>\n",
       "      <td>49.96907</td>\n",
       "      <td>-89.52303</td>\n",
       "    </tr>\n",
       "    <tr>\n",
       "      <th>4</th>\n",
       "      <td>Chrome-Puddy</td>\n",
       "      <td>89842</td>\n",
       "      <td>Green Bridge Metals Corp., Pavey Ark Minerals...</td>\n",
       "      <td>Canada</td>\n",
       "      <td>1.4 Moderate - No Change</td>\n",
       "      <td>Exploration</td>\n",
       "      <td>Active</td>\n",
       "      <td>Nickel, Chromium, Copper, Cobalt, Platinum, Ir...</td>\n",
       "      <td>4627</td>\n",
       "      <td>tonnes</td>\n",
       "      <td>1384.357942</td>\n",
       "      <td>1966-12-31</td>\n",
       "      <td>Cobalt</td>\n",
       "      <td>1966</td>\n",
       "      <td>49.96907</td>\n",
       "      <td>-89.52303</td>\n",
       "    </tr>\n",
       "    <tr>\n",
       "      <th>...</th>\n",
       "      <td>...</td>\n",
       "      <td>...</td>\n",
       "      <td>...</td>\n",
       "      <td>...</td>\n",
       "      <td>...</td>\n",
       "      <td>...</td>\n",
       "      <td>...</td>\n",
       "      <td>...</td>\n",
       "      <td>...</td>\n",
       "      <td>...</td>\n",
       "      <td>...</td>\n",
       "      <td>...</td>\n",
       "      <td>...</td>\n",
       "      <td>...</td>\n",
       "      <td>...</td>\n",
       "      <td>...</td>\n",
       "    </tr>\n",
       "    <tr>\n",
       "      <th>656</th>\n",
       "      <td>Brothers</td>\n",
       "      <td>90684</td>\n",
       "      <td>Critica Ltd.</td>\n",
       "      <td>Australia</td>\n",
       "      <td>1.4 Moderate - No Change</td>\n",
       "      <td>Reserves Development</td>\n",
       "      <td>Active</td>\n",
       "      <td>Lanthanides, Dysprosium, Terbium, Thorium, U3O...</td>\n",
       "      <td>2900000</td>\n",
       "      <td>tonnes</td>\n",
       "      <td>357712.977515</td>\n",
       "      <td>2025-02-11</td>\n",
       "      <td>Lanthanides</td>\n",
       "      <td>2025</td>\n",
       "      <td>-28.43831</td>\n",
       "      <td>117.30562</td>\n",
       "    </tr>\n",
       "    <tr>\n",
       "      <th>657</th>\n",
       "      <td>Caldeira</td>\n",
       "      <td>90102</td>\n",
       "      <td>Meteoric Resources NL</td>\n",
       "      <td>Brazil</td>\n",
       "      <td>2.3 Elevated - No Change</td>\n",
       "      <td>Prefeas/Scoping</td>\n",
       "      <td>Active</td>\n",
       "      <td>Lanthanides, Neodymium, Praseodymium, Terbium,...</td>\n",
       "      <td>2673400</td>\n",
       "      <td>tonnes</td>\n",
       "      <td>133670.000000</td>\n",
       "      <td>2025-03-12</td>\n",
       "      <td>Lanthanides</td>\n",
       "      <td>2025</td>\n",
       "      <td>-21.98932</td>\n",
       "      <td>-46.49532</td>\n",
       "    </tr>\n",
       "    <tr>\n",
       "      <th>658</th>\n",
       "      <td>Colossus</td>\n",
       "      <td>90981</td>\n",
       "      <td>Viridis Mining &amp; Minerals Ltd.</td>\n",
       "      <td>Brazil</td>\n",
       "      <td>2.3 Elevated - No Change</td>\n",
       "      <td>Prefeas/Scoping</td>\n",
       "      <td>Active</td>\n",
       "      <td>Lanthanides, Yttrium, U3O8, Thorium, Praseodym...</td>\n",
       "      <td>1236700</td>\n",
       "      <td>tonnes</td>\n",
       "      <td>61835.000000</td>\n",
       "      <td>2025-01-22</td>\n",
       "      <td>Lanthanides</td>\n",
       "      <td>2025</td>\n",
       "      <td>-21.86427</td>\n",
       "      <td>-46.54833</td>\n",
       "    </tr>\n",
       "    <tr>\n",
       "      <th>659</th>\n",
       "      <td>Browns Range</td>\n",
       "      <td>37953</td>\n",
       "      <td>Northern Minerals Ltd.</td>\n",
       "      <td>Australia</td>\n",
       "      <td>1.4 Moderate - No Change</td>\n",
       "      <td>Preproduction</td>\n",
       "      <td>Active</td>\n",
       "      <td>Lanthanides, Dysprosium, Yttrium, Terbium, Lut...</td>\n",
       "      <td>90458</td>\n",
       "      <td>tonnes</td>\n",
       "      <td>4590.922240</td>\n",
       "      <td>2025-01-15</td>\n",
       "      <td>Lanthanides</td>\n",
       "      <td>2025</td>\n",
       "      <td>-18.96977</td>\n",
       "      <td>128.94522</td>\n",
       "    </tr>\n",
       "    <tr>\n",
       "      <th>660</th>\n",
       "      <td>Wicheeda</td>\n",
       "      <td>37945</td>\n",
       "      <td>Defense Metals Corp.</td>\n",
       "      <td>Canada</td>\n",
       "      <td>1.4 Moderate - No Change</td>\n",
       "      <td>Prefeas/Scoping</td>\n",
       "      <td>Active</td>\n",
       "      <td>Lanthanides, Cerium, Lanthanum, Praseodymium, ...</td>\n",
       "      <td>741000</td>\n",
       "      <td>tonnes</td>\n",
       "      <td>37050.000000</td>\n",
       "      <td>2025-02-07</td>\n",
       "      <td>Lanthanides</td>\n",
       "      <td>2025</td>\n",
       "      <td>54.53141</td>\n",
       "      <td>-122.09912</td>\n",
       "    </tr>\n",
       "  </tbody>\n",
       "</table>\n",
       "<p>661 rows × 16 columns</p>\n",
       "</div>"
      ],
      "text/plain": [
       "         Property  Property ID  \\\n",
       "0     Lithium Two        79958   \n",
       "1     Falcon West        90157   \n",
       "2           Irgon        79892   \n",
       "3    Chrome-Puddy        89842   \n",
       "4    Chrome-Puddy        89842   \n",
       "..            ...          ...   \n",
       "656      Brothers        90684   \n",
       "657      Caldeira        90102   \n",
       "658      Colossus        90981   \n",
       "659  Browns Range        37953   \n",
       "660      Wicheeda        37945   \n",
       "\n",
       "                                              Owner(s) Country/Region  \\\n",
       "0          New Age Metals Inc., Mineral Resources Ltd.         Canada   \n",
       "1                                    Grid Metals Corp.         Canada   \n",
       "2                            QMC Quantum Minerals Corp         Canada   \n",
       "3     Green Bridge Metals Corp., Pavey Ark Minerals...         Canada   \n",
       "4     Green Bridge Metals Corp., Pavey Ark Minerals...         Canada   \n",
       "..                                                 ...            ...   \n",
       "656                                       Critica Ltd.      Australia   \n",
       "657                              Meteoric Resources NL         Brazil   \n",
       "658                     Viridis Mining & Minerals Ltd.         Brazil   \n",
       "659                             Northern Minerals Ltd.      Australia   \n",
       "660                               Defense Metals Corp.         Canada   \n",
       "\n",
       "    Country/Region Risk Score & Outlook     Development Stage Activity Status  \\\n",
       "0              1.4 Moderate - No Change        Target Outline          Active   \n",
       "1              1.4 Moderate - No Change        Target Outline          Active   \n",
       "2              1.4 Moderate - No Change        Target Outline          Active   \n",
       "3              1.4 Moderate - No Change           Exploration          Active   \n",
       "4              1.4 Moderate - No Change           Exploration          Active   \n",
       "..                                  ...                   ...             ...   \n",
       "656            1.4 Moderate - No Change  Reserves Development          Active   \n",
       "657            2.3 Elevated - No Change       Prefeas/Scoping          Active   \n",
       "658            2.3 Elevated - No Change       Prefeas/Scoping          Active   \n",
       "659            1.4 Moderate - No Change         Preproduction          Active   \n",
       "660            1.4 Moderate - No Change       Prefeas/Scoping          Active   \n",
       "\n",
       "                                          Commodity(s)  \\\n",
       "0                 Lithium, Caesium, Rubidium, Tantalum   \n",
       "1                 Lithium, Caesium, Tantalum, Rubidium   \n",
       "2                                    Lithium, Tantalum   \n",
       "3    Nickel, Chromium, Copper, Cobalt, Platinum, Ir...   \n",
       "4    Nickel, Chromium, Copper, Cobalt, Platinum, Ir...   \n",
       "..                                                 ...   \n",
       "656  Lanthanides, Dysprosium, Terbium, Thorium, U3O...   \n",
       "657  Lanthanides, Neodymium, Praseodymium, Terbium,...   \n",
       "658  Lanthanides, Yttrium, U3O8, Thorium, Praseodym...   \n",
       "659  Lanthanides, Dysprosium, Yttrium, Terbium, Lut...   \n",
       "660  Lanthanides, Cerium, Lanthanum, Praseodymium, ...   \n",
       "\n",
       "     Primary Reserves and Resources    Unit  Total In-Situ Value ($M)  \\\n",
       "0                              7600  tonnes                123.180800   \n",
       "1                              4000  tonnes                 64.832000   \n",
       "2                             16420  tonnes                266.135360   \n",
       "3                             73482  tonnes               1384.357942   \n",
       "4                              4627  tonnes               1384.357942   \n",
       "..                              ...     ...                       ...   \n",
       "656                         2900000  tonnes             357712.977515   \n",
       "657                         2673400  tonnes             133670.000000   \n",
       "658                         1236700  tonnes              61835.000000   \n",
       "659                           90458  tonnes               4590.922240   \n",
       "660                          741000  tonnes              37050.000000   \n",
       "\n",
       "    Reserves & Resources As Of Date Primary Mineral  Year  Latitude (degrees)  \\\n",
       "0                        1947-12-31         Lithium  1947            50.61363   \n",
       "1                        1955-12-31         Lithium  1955            49.56729   \n",
       "2                        1956-12-31         Lithium  1956            50.60720   \n",
       "3                        1966-12-31          Nickel  1966            49.96907   \n",
       "4                        1966-12-31          Cobalt  1966            49.96907   \n",
       "..                              ...             ...   ...                 ...   \n",
       "656                      2025-02-11     Lanthanides  2025           -28.43831   \n",
       "657                      2025-03-12     Lanthanides  2025           -21.98932   \n",
       "658                      2025-01-22     Lanthanides  2025           -21.86427   \n",
       "659                      2025-01-15     Lanthanides  2025           -18.96977   \n",
       "660                      2025-02-07     Lanthanides  2025            54.53141   \n",
       "\n",
       "     Longitude (degrees)  \n",
       "0              -95.46443  \n",
       "1              -95.68944  \n",
       "2              -95.39696  \n",
       "3              -89.52303  \n",
       "4              -89.52303  \n",
       "..                   ...  \n",
       "656            117.30562  \n",
       "657            -46.49532  \n",
       "658            -46.54833  \n",
       "659            128.94522  \n",
       "660           -122.09912  \n",
       "\n",
       "[661 rows x 16 columns]"
      ]
     },
     "execution_count": 4,
     "metadata": {},
     "output_type": "execute_result"
    }
   ],
   "source": [
    "locations = pd.read_excel(\"data/MiningPropertyLocations.xlsx\")\n",
    "coords = locations[[\"KeyMineProject\",\"Latitude (degrees)\", \"Longitude (degrees)\"]]\n",
    "\n",
    "combined = combined.merge(coords, left_on = \"Property ID\", right_on=\"KeyMineProject\" ,how = \"inner\")\n",
    "combined.drop(\"KeyMineProject\", axis=1, inplace=True, errors=\"ignore\")\n",
    "combined"
   ]
  },
  {
   "cell_type": "code",
   "execution_count": 22,
   "metadata": {},
   "outputs": [
    {
     "data": {
      "application/vnd.microsoft.datawrangler.viewer.v0+json": {
       "columns": [
        {
         "name": "index",
         "rawType": "int64",
         "type": "integer"
        },
        {
         "name": "Property",
         "rawType": "object",
         "type": "string"
        },
        {
         "name": "Property ID",
         "rawType": "int64",
         "type": "integer"
        },
        {
         "name": "Owner(s)",
         "rawType": "object",
         "type": "string"
        },
        {
         "name": "Country/Region",
         "rawType": "object",
         "type": "string"
        },
        {
         "name": "Country/Region Risk Score & Outlook",
         "rawType": "object",
         "type": "string"
        },
        {
         "name": "Development Stage",
         "rawType": "object",
         "type": "string"
        },
        {
         "name": "Activity Status",
         "rawType": "object",
         "type": "string"
        },
        {
         "name": "Commodity(s)",
         "rawType": "object",
         "type": "string"
        },
        {
         "name": "Primary Reserves and Resources",
         "rawType": "int64",
         "type": "integer"
        },
        {
         "name": "Unit",
         "rawType": "object",
         "type": "string"
        },
        {
         "name": "Total In-Situ Value ($M)",
         "rawType": "float64",
         "type": "float"
        },
        {
         "name": "Reserves & Resources As Of Date",
         "rawType": "datetime64[ns]",
         "type": "datetime"
        },
        {
         "name": "Primary Mineral",
         "rawType": "object",
         "type": "string"
        },
        {
         "name": "Year",
         "rawType": "int32",
         "type": "integer"
        },
        {
         "name": "Latitude (degrees)",
         "rawType": "float64",
         "type": "float"
        },
        {
         "name": "Longitude (degrees)",
         "rawType": "float64",
         "type": "float"
        }
       ],
       "conversionMethod": "pd.DataFrame",
       "ref": "b1903015-4e4a-4a61-b78a-a4b091c12aa2",
       "rows": [
        [
         "10",
         "Bouvier",
         "59623",
         "Mining Equities Pty Ltd",
         "Canada",
         "1.4 Moderate - No Change",
         "Target Outline",
         "Active",
         "Lithium",
         "11431",
         "tonnes",
         "185.273648",
         "1979-12-31 00:00:00",
         "Lithium",
         "1979",
         "48.45182",
         "-78.09764"
        ],
        [
         "11",
         "Crean Hill 3",
         "91456",
         " SPC Nickel Corp, Vale S.A.",
         "Canada",
         "1.4 Moderate - No Change",
         "Target Outline",
         "Active",
         "Nickel, Copper",
         "72150",
         "tonnes",
         "1618.18065855032",
         "1989-12-31 00:00:00",
         "Nickel",
         "1989",
         "46.43776",
         "-81.31067"
        ],
        [
         "12",
         "Gochager Lake",
         "80201",
         " Fathom Nickel Inc., BioELife Corp.",
         "Canada",
         "1.4 Moderate - No Change",
         "Target Outline",
         "Active",
         "Cobalt, Copper, Nickel, Platinum, Palladium, Gold",
         "13010",
         "tonnes",
         "214.542409520689",
         "1990-12-31 00:00:00",
         "Nickel",
         "1990",
         "55.76232",
         "-104.94067"
        ],
        [
         "13",
         "Pomalaa East",
         "28852",
         "PT Vale Indonesia Tbk",
         "Indonesia",
         "2.1 Elevated - No Change",
         "Construction Started",
         "Active",
         "Nickel, Cobalt",
         "2690000",
         "tonnes",
         "44359.6526987436",
         "1993-12-31 00:00:00",
         "Nickel",
         "1993",
         "-4.22492",
         "121.68711"
        ],
        [
         "14",
         "Miriam",
         "29806",
         " Future Battery Minerals Ltd., Corazon Mining Ltd.",
         "Australia",
         "1.4 Moderate - No Change",
         "Target Outline",
         "Active",
         "Lithium, Nickel, Spodumene, Gold, Caesium, Tantalum, Tin",
         "3900",
         "tonnes",
         "64.3132511245725",
         "1996-06-21 00:00:00",
         "Nickel",
         "1996",
         "-31.05194",
         "121.10314"
        ],
        [
         "15",
         "Punta Gorda",
         "28013",
         "Cubaniquel",
         "Cuba",
         "3.0 High - No Change",
         "Operating",
         "Active",
         "Nickel, Cobalt",
         "4093000",
         "tonnes",
         "80215.9877601116",
         "1999-12-31 00:00:00",
         "Nickel",
         "1999",
         "20.62977",
         "-74.86241"
        ],
        [
         "16",
         "Punta Gorda",
         "28013",
         "Cubaniquel",
         "Cuba",
         "3.0 High - No Change",
         "Operating",
         "Active",
         "Nickel, Cobalt",
         "341000",
         "tonnes",
         "80215.9877601116",
         "1999-12-31 00:00:00",
         "Cobalt",
         "1999",
         "20.62977",
         "-74.86241"
        ],
        [
         "17",
         "Nonoc",
         "27118",
         "Philnico Mining & Indl Corp",
         "Philippines",
         "2.2 Elevated - No Change",
         "Feasibility",
         "Active",
         "Nickel, Cobalt, Iron Ore",
         "1584000",
         "tonnes",
         "32014.8242352489",
         "2000-02-23 00:00:00",
         "Nickel",
         "2000",
         "9.83278",
         "125.61056"
        ],
        [
         "18",
         "Nonoc",
         "27118",
         "Philnico Mining & Indl Corp",
         "Philippines",
         "2.2 Elevated - No Change",
         "Feasibility",
         "Active",
         "Nickel, Cobalt, Iron Ore",
         "158000",
         "tonnes",
         "32014.8242352489",
         "2000-02-23 00:00:00",
         "Cobalt",
         "2000",
         "9.83278",
         "125.61056"
        ],
        [
         "19",
         "Loveland",
         "84460",
         "Intl Explorers & Prospectors I",
         "Canada",
         "1.4 Moderate - No Change",
         "Target Outline",
         "Active",
         "Nickel, Cobalt, Copper, Palladium",
         "5262",
         "tonnes",
         "124.852742343792",
         "2002-03-31 00:00:00",
         "Nickel",
         "2002",
         "48.66136",
         "-81.62469"
        ],
        [
         "20",
         "Nkana Slag",
         "29191",
         " Private Interest, ZCCM Investments Holdings Plc",
         "Zambia",
         "2.6 High - No Change",
         "Limited Production",
         "Active",
         "Cobalt, Copper, Gold",
         "152000",
         "tonnes",
         "7644.22029409357",
         "2003-06-30 00:00:00",
         "Cobalt",
         "2003",
         "-12.83944",
         "28.21028"
        ],
        [
         "21",
         "Biankouma-Sipilou",
         "27512",
         "Nickel de l'Ouest de la Cote d",
         "Côte d'Ivoire",
         "2.1 Elevated - No Change",
         "Reserves Development",
         "Active",
         "Nickel, Cobalt",
         "285000",
         "tonnes",
         "73460.2303826231",
         "2005-09-09 00:00:00",
         "Cobalt",
         "2005",
         "7.86926",
         "-7.91147"
        ],
        [
         "22",
         "Morowali",
         "35538",
         "PT Vale Indonesia Tbk",
         "Indonesia",
         "2.1 Elevated - No Change",
         "Construction Started",
         "Active",
         "Nickel",
         "451000",
         "tonnes",
         "7437.25032235441",
         "2005-12-31 00:00:00",
         "Nickel",
         "2005",
         "-2.71",
         "121.955"
        ],
        [
         "23",
         "Biankouma-Sipilou",
         "27512",
         "Nickel de l'Ouest de la Cote d",
         "Côte d'Ivoire",
         "2.1 Elevated - No Change",
         "Reserves Development",
         "Active",
         "Nickel, Cobalt",
         "3810000",
         "tonnes",
         "73460.2303826231",
         "2005-09-09 00:00:00",
         "Nickel",
         "2005",
         "7.86926",
         "-7.91147"
        ],
        [
         "24",
         "Larco",
         "28380",
         "Larco SA",
         "Greece",
         "1.8 Elevated - Decrease",
         "Operating",
         "Active",
         "Nickel, Cobalt",
         "2476380",
         "tonnes",
         "40836.9355948382",
         "2006-12-31 00:00:00",
         "Nickel",
         "2006",
         "38.65722",
         "23.57806"
        ],
        [
         "25",
         "Old Nick",
         "29375",
         " 1258713 B.C. Ltd., 1200059 B.C. Ltd.",
         "Canada",
         "1.4 Moderate - No Change",
         "Reserves Development",
         "Active",
         "Nickel, Cobalt",
         "33000",
         "tonnes",
         "603.872591595842",
         "2007-07-16 00:00:00",
         "Nickel",
         "2007",
         "49.04169",
         "-119.08467"
        ],
        [
         "26",
         "Gladstone",
         "30070",
         "Gladstone Pacific Nickel",
         "Australia",
         "1.4 Moderate - No Change",
         "Feasibility",
         "Active",
         "Nickel, Cobalt",
         "44000",
         "tonnes",
         "12310.7009053084",
         "2007-06-30 00:00:00",
         "Cobalt",
         "2007",
         "-22.94832",
         "149.83267"
        ],
        [
         "27",
         "Old Nick",
         "29375",
         " 1258713 B.C. Ltd., 1200059 B.C. Ltd.",
         "Canada",
         "1.4 Moderate - No Change",
         "Reserves Development",
         "Active",
         "Nickel, Cobalt",
         "1600",
         "tonnes",
         "603.872591595842",
         "2007-07-16 00:00:00",
         "Cobalt",
         "2007",
         "49.04169",
         "-119.08467"
        ],
        [
         "28",
         "Renzy",
         "33471",
         "Fjordland Exploration Inc.",
         "Canada",
         "1.4 Moderate - No Change",
         "Reserves Development",
         "Active",
         "Nickel, Copper, Cobalt",
         "2699",
         "tonnes",
         "68.8377099464878",
         "2007-11-01 00:00:00",
         "Nickel",
         "2007",
         "46.81383",
         "-76.70302"
        ],
        [
         "29",
         "Zambales",
         "35533",
         "DMCI Holdings Inc.",
         "Philippines",
         "2.2 Elevated - No Change",
         "Reserves Development",
         "Active",
         "Nickel, Cobalt, Chromite, Platinum",
         "270000",
         "tonnes",
         "4974.68685374933",
         "2007-12-21 00:00:00",
         "Nickel",
         "2007",
         "15.77065",
         "120.05396"
        ]
       ],
       "shape": {
        "columns": 16,
        "rows": 20
       }
      },
      "text/html": [
       "<div>\n",
       "<style scoped>\n",
       "    .dataframe tbody tr th:only-of-type {\n",
       "        vertical-align: middle;\n",
       "    }\n",
       "\n",
       "    .dataframe tbody tr th {\n",
       "        vertical-align: top;\n",
       "    }\n",
       "\n",
       "    .dataframe thead th {\n",
       "        text-align: right;\n",
       "    }\n",
       "</style>\n",
       "<table border=\"1\" class=\"dataframe\">\n",
       "  <thead>\n",
       "    <tr style=\"text-align: right;\">\n",
       "      <th></th>\n",
       "      <th>Property</th>\n",
       "      <th>Property ID</th>\n",
       "      <th>Owner(s)</th>\n",
       "      <th>Country/Region</th>\n",
       "      <th>Country/Region Risk Score &amp; Outlook</th>\n",
       "      <th>Development Stage</th>\n",
       "      <th>Activity Status</th>\n",
       "      <th>Commodity(s)</th>\n",
       "      <th>Primary Reserves and Resources</th>\n",
       "      <th>Unit</th>\n",
       "      <th>Total In-Situ Value ($M)</th>\n",
       "      <th>Reserves &amp; Resources As Of Date</th>\n",
       "      <th>Primary Mineral</th>\n",
       "      <th>Year</th>\n",
       "      <th>Latitude (degrees)</th>\n",
       "      <th>Longitude (degrees)</th>\n",
       "    </tr>\n",
       "  </thead>\n",
       "  <tbody>\n",
       "    <tr>\n",
       "      <th>10</th>\n",
       "      <td>Bouvier</td>\n",
       "      <td>59623</td>\n",
       "      <td>Mining Equities Pty Ltd</td>\n",
       "      <td>Canada</td>\n",
       "      <td>1.4 Moderate - No Change</td>\n",
       "      <td>Target Outline</td>\n",
       "      <td>Active</td>\n",
       "      <td>Lithium</td>\n",
       "      <td>11431</td>\n",
       "      <td>tonnes</td>\n",
       "      <td>185.273648</td>\n",
       "      <td>1979-12-31</td>\n",
       "      <td>Lithium</td>\n",
       "      <td>1979</td>\n",
       "      <td>48.45182</td>\n",
       "      <td>-78.09764</td>\n",
       "    </tr>\n",
       "    <tr>\n",
       "      <th>11</th>\n",
       "      <td>Crean Hill 3</td>\n",
       "      <td>91456</td>\n",
       "      <td>SPC Nickel Corp, Vale S.A.</td>\n",
       "      <td>Canada</td>\n",
       "      <td>1.4 Moderate - No Change</td>\n",
       "      <td>Target Outline</td>\n",
       "      <td>Active</td>\n",
       "      <td>Nickel, Copper</td>\n",
       "      <td>72150</td>\n",
       "      <td>tonnes</td>\n",
       "      <td>1618.180659</td>\n",
       "      <td>1989-12-31</td>\n",
       "      <td>Nickel</td>\n",
       "      <td>1989</td>\n",
       "      <td>46.43776</td>\n",
       "      <td>-81.31067</td>\n",
       "    </tr>\n",
       "    <tr>\n",
       "      <th>12</th>\n",
       "      <td>Gochager Lake</td>\n",
       "      <td>80201</td>\n",
       "      <td>Fathom Nickel Inc., BioELife Corp.</td>\n",
       "      <td>Canada</td>\n",
       "      <td>1.4 Moderate - No Change</td>\n",
       "      <td>Target Outline</td>\n",
       "      <td>Active</td>\n",
       "      <td>Cobalt, Copper, Nickel, Platinum, Palladium, Gold</td>\n",
       "      <td>13010</td>\n",
       "      <td>tonnes</td>\n",
       "      <td>214.542410</td>\n",
       "      <td>1990-12-31</td>\n",
       "      <td>Nickel</td>\n",
       "      <td>1990</td>\n",
       "      <td>55.76232</td>\n",
       "      <td>-104.94067</td>\n",
       "    </tr>\n",
       "    <tr>\n",
       "      <th>13</th>\n",
       "      <td>Pomalaa East</td>\n",
       "      <td>28852</td>\n",
       "      <td>PT Vale Indonesia Tbk</td>\n",
       "      <td>Indonesia</td>\n",
       "      <td>2.1 Elevated - No Change</td>\n",
       "      <td>Construction Started</td>\n",
       "      <td>Active</td>\n",
       "      <td>Nickel, Cobalt</td>\n",
       "      <td>2690000</td>\n",
       "      <td>tonnes</td>\n",
       "      <td>44359.652699</td>\n",
       "      <td>1993-12-31</td>\n",
       "      <td>Nickel</td>\n",
       "      <td>1993</td>\n",
       "      <td>-4.22492</td>\n",
       "      <td>121.68711</td>\n",
       "    </tr>\n",
       "    <tr>\n",
       "      <th>14</th>\n",
       "      <td>Miriam</td>\n",
       "      <td>29806</td>\n",
       "      <td>Future Battery Minerals Ltd., Corazon Mining ...</td>\n",
       "      <td>Australia</td>\n",
       "      <td>1.4 Moderate - No Change</td>\n",
       "      <td>Target Outline</td>\n",
       "      <td>Active</td>\n",
       "      <td>Lithium, Nickel, Spodumene, Gold, Caesium, Tan...</td>\n",
       "      <td>3900</td>\n",
       "      <td>tonnes</td>\n",
       "      <td>64.313251</td>\n",
       "      <td>1996-06-21</td>\n",
       "      <td>Nickel</td>\n",
       "      <td>1996</td>\n",
       "      <td>-31.05194</td>\n",
       "      <td>121.10314</td>\n",
       "    </tr>\n",
       "    <tr>\n",
       "      <th>15</th>\n",
       "      <td>Punta Gorda</td>\n",
       "      <td>28013</td>\n",
       "      <td>Cubaniquel</td>\n",
       "      <td>Cuba</td>\n",
       "      <td>3.0 High - No Change</td>\n",
       "      <td>Operating</td>\n",
       "      <td>Active</td>\n",
       "      <td>Nickel, Cobalt</td>\n",
       "      <td>4093000</td>\n",
       "      <td>tonnes</td>\n",
       "      <td>80215.987760</td>\n",
       "      <td>1999-12-31</td>\n",
       "      <td>Nickel</td>\n",
       "      <td>1999</td>\n",
       "      <td>20.62977</td>\n",
       "      <td>-74.86241</td>\n",
       "    </tr>\n",
       "    <tr>\n",
       "      <th>16</th>\n",
       "      <td>Punta Gorda</td>\n",
       "      <td>28013</td>\n",
       "      <td>Cubaniquel</td>\n",
       "      <td>Cuba</td>\n",
       "      <td>3.0 High - No Change</td>\n",
       "      <td>Operating</td>\n",
       "      <td>Active</td>\n",
       "      <td>Nickel, Cobalt</td>\n",
       "      <td>341000</td>\n",
       "      <td>tonnes</td>\n",
       "      <td>80215.987760</td>\n",
       "      <td>1999-12-31</td>\n",
       "      <td>Cobalt</td>\n",
       "      <td>1999</td>\n",
       "      <td>20.62977</td>\n",
       "      <td>-74.86241</td>\n",
       "    </tr>\n",
       "    <tr>\n",
       "      <th>17</th>\n",
       "      <td>Nonoc</td>\n",
       "      <td>27118</td>\n",
       "      <td>Philnico Mining &amp; Indl Corp</td>\n",
       "      <td>Philippines</td>\n",
       "      <td>2.2 Elevated - No Change</td>\n",
       "      <td>Feasibility</td>\n",
       "      <td>Active</td>\n",
       "      <td>Nickel, Cobalt, Iron Ore</td>\n",
       "      <td>1584000</td>\n",
       "      <td>tonnes</td>\n",
       "      <td>32014.824235</td>\n",
       "      <td>2000-02-23</td>\n",
       "      <td>Nickel</td>\n",
       "      <td>2000</td>\n",
       "      <td>9.83278</td>\n",
       "      <td>125.61056</td>\n",
       "    </tr>\n",
       "    <tr>\n",
       "      <th>18</th>\n",
       "      <td>Nonoc</td>\n",
       "      <td>27118</td>\n",
       "      <td>Philnico Mining &amp; Indl Corp</td>\n",
       "      <td>Philippines</td>\n",
       "      <td>2.2 Elevated - No Change</td>\n",
       "      <td>Feasibility</td>\n",
       "      <td>Active</td>\n",
       "      <td>Nickel, Cobalt, Iron Ore</td>\n",
       "      <td>158000</td>\n",
       "      <td>tonnes</td>\n",
       "      <td>32014.824235</td>\n",
       "      <td>2000-02-23</td>\n",
       "      <td>Cobalt</td>\n",
       "      <td>2000</td>\n",
       "      <td>9.83278</td>\n",
       "      <td>125.61056</td>\n",
       "    </tr>\n",
       "    <tr>\n",
       "      <th>19</th>\n",
       "      <td>Loveland</td>\n",
       "      <td>84460</td>\n",
       "      <td>Intl Explorers &amp; Prospectors I</td>\n",
       "      <td>Canada</td>\n",
       "      <td>1.4 Moderate - No Change</td>\n",
       "      <td>Target Outline</td>\n",
       "      <td>Active</td>\n",
       "      <td>Nickel, Cobalt, Copper, Palladium</td>\n",
       "      <td>5262</td>\n",
       "      <td>tonnes</td>\n",
       "      <td>124.852742</td>\n",
       "      <td>2002-03-31</td>\n",
       "      <td>Nickel</td>\n",
       "      <td>2002</td>\n",
       "      <td>48.66136</td>\n",
       "      <td>-81.62469</td>\n",
       "    </tr>\n",
       "    <tr>\n",
       "      <th>20</th>\n",
       "      <td>Nkana Slag</td>\n",
       "      <td>29191</td>\n",
       "      <td>Private Interest, ZCCM Investments Holdings Plc</td>\n",
       "      <td>Zambia</td>\n",
       "      <td>2.6 High - No Change</td>\n",
       "      <td>Limited Production</td>\n",
       "      <td>Active</td>\n",
       "      <td>Cobalt, Copper, Gold</td>\n",
       "      <td>152000</td>\n",
       "      <td>tonnes</td>\n",
       "      <td>7644.220294</td>\n",
       "      <td>2003-06-30</td>\n",
       "      <td>Cobalt</td>\n",
       "      <td>2003</td>\n",
       "      <td>-12.83944</td>\n",
       "      <td>28.21028</td>\n",
       "    </tr>\n",
       "    <tr>\n",
       "      <th>21</th>\n",
       "      <td>Biankouma-Sipilou</td>\n",
       "      <td>27512</td>\n",
       "      <td>Nickel de l'Ouest de la Cote d</td>\n",
       "      <td>Côte d'Ivoire</td>\n",
       "      <td>2.1 Elevated - No Change</td>\n",
       "      <td>Reserves Development</td>\n",
       "      <td>Active</td>\n",
       "      <td>Nickel, Cobalt</td>\n",
       "      <td>285000</td>\n",
       "      <td>tonnes</td>\n",
       "      <td>73460.230383</td>\n",
       "      <td>2005-09-09</td>\n",
       "      <td>Cobalt</td>\n",
       "      <td>2005</td>\n",
       "      <td>7.86926</td>\n",
       "      <td>-7.91147</td>\n",
       "    </tr>\n",
       "    <tr>\n",
       "      <th>22</th>\n",
       "      <td>Morowali</td>\n",
       "      <td>35538</td>\n",
       "      <td>PT Vale Indonesia Tbk</td>\n",
       "      <td>Indonesia</td>\n",
       "      <td>2.1 Elevated - No Change</td>\n",
       "      <td>Construction Started</td>\n",
       "      <td>Active</td>\n",
       "      <td>Nickel</td>\n",
       "      <td>451000</td>\n",
       "      <td>tonnes</td>\n",
       "      <td>7437.250322</td>\n",
       "      <td>2005-12-31</td>\n",
       "      <td>Nickel</td>\n",
       "      <td>2005</td>\n",
       "      <td>-2.71000</td>\n",
       "      <td>121.95500</td>\n",
       "    </tr>\n",
       "    <tr>\n",
       "      <th>23</th>\n",
       "      <td>Biankouma-Sipilou</td>\n",
       "      <td>27512</td>\n",
       "      <td>Nickel de l'Ouest de la Cote d</td>\n",
       "      <td>Côte d'Ivoire</td>\n",
       "      <td>2.1 Elevated - No Change</td>\n",
       "      <td>Reserves Development</td>\n",
       "      <td>Active</td>\n",
       "      <td>Nickel, Cobalt</td>\n",
       "      <td>3810000</td>\n",
       "      <td>tonnes</td>\n",
       "      <td>73460.230383</td>\n",
       "      <td>2005-09-09</td>\n",
       "      <td>Nickel</td>\n",
       "      <td>2005</td>\n",
       "      <td>7.86926</td>\n",
       "      <td>-7.91147</td>\n",
       "    </tr>\n",
       "    <tr>\n",
       "      <th>24</th>\n",
       "      <td>Larco</td>\n",
       "      <td>28380</td>\n",
       "      <td>Larco SA</td>\n",
       "      <td>Greece</td>\n",
       "      <td>1.8 Elevated - Decrease</td>\n",
       "      <td>Operating</td>\n",
       "      <td>Active</td>\n",
       "      <td>Nickel, Cobalt</td>\n",
       "      <td>2476380</td>\n",
       "      <td>tonnes</td>\n",
       "      <td>40836.935595</td>\n",
       "      <td>2006-12-31</td>\n",
       "      <td>Nickel</td>\n",
       "      <td>2006</td>\n",
       "      <td>38.65722</td>\n",
       "      <td>23.57806</td>\n",
       "    </tr>\n",
       "    <tr>\n",
       "      <th>25</th>\n",
       "      <td>Old Nick</td>\n",
       "      <td>29375</td>\n",
       "      <td>1258713 B.C. Ltd., 1200059 B.C. Ltd.</td>\n",
       "      <td>Canada</td>\n",
       "      <td>1.4 Moderate - No Change</td>\n",
       "      <td>Reserves Development</td>\n",
       "      <td>Active</td>\n",
       "      <td>Nickel, Cobalt</td>\n",
       "      <td>33000</td>\n",
       "      <td>tonnes</td>\n",
       "      <td>603.872592</td>\n",
       "      <td>2007-07-16</td>\n",
       "      <td>Nickel</td>\n",
       "      <td>2007</td>\n",
       "      <td>49.04169</td>\n",
       "      <td>-119.08467</td>\n",
       "    </tr>\n",
       "    <tr>\n",
       "      <th>26</th>\n",
       "      <td>Gladstone</td>\n",
       "      <td>30070</td>\n",
       "      <td>Gladstone Pacific Nickel</td>\n",
       "      <td>Australia</td>\n",
       "      <td>1.4 Moderate - No Change</td>\n",
       "      <td>Feasibility</td>\n",
       "      <td>Active</td>\n",
       "      <td>Nickel, Cobalt</td>\n",
       "      <td>44000</td>\n",
       "      <td>tonnes</td>\n",
       "      <td>12310.700905</td>\n",
       "      <td>2007-06-30</td>\n",
       "      <td>Cobalt</td>\n",
       "      <td>2007</td>\n",
       "      <td>-22.94832</td>\n",
       "      <td>149.83267</td>\n",
       "    </tr>\n",
       "    <tr>\n",
       "      <th>27</th>\n",
       "      <td>Old Nick</td>\n",
       "      <td>29375</td>\n",
       "      <td>1258713 B.C. Ltd., 1200059 B.C. Ltd.</td>\n",
       "      <td>Canada</td>\n",
       "      <td>1.4 Moderate - No Change</td>\n",
       "      <td>Reserves Development</td>\n",
       "      <td>Active</td>\n",
       "      <td>Nickel, Cobalt</td>\n",
       "      <td>1600</td>\n",
       "      <td>tonnes</td>\n",
       "      <td>603.872592</td>\n",
       "      <td>2007-07-16</td>\n",
       "      <td>Cobalt</td>\n",
       "      <td>2007</td>\n",
       "      <td>49.04169</td>\n",
       "      <td>-119.08467</td>\n",
       "    </tr>\n",
       "    <tr>\n",
       "      <th>28</th>\n",
       "      <td>Renzy</td>\n",
       "      <td>33471</td>\n",
       "      <td>Fjordland Exploration Inc.</td>\n",
       "      <td>Canada</td>\n",
       "      <td>1.4 Moderate - No Change</td>\n",
       "      <td>Reserves Development</td>\n",
       "      <td>Active</td>\n",
       "      <td>Nickel, Copper, Cobalt</td>\n",
       "      <td>2699</td>\n",
       "      <td>tonnes</td>\n",
       "      <td>68.837710</td>\n",
       "      <td>2007-11-01</td>\n",
       "      <td>Nickel</td>\n",
       "      <td>2007</td>\n",
       "      <td>46.81383</td>\n",
       "      <td>-76.70302</td>\n",
       "    </tr>\n",
       "    <tr>\n",
       "      <th>29</th>\n",
       "      <td>Zambales</td>\n",
       "      <td>35533</td>\n",
       "      <td>DMCI Holdings Inc.</td>\n",
       "      <td>Philippines</td>\n",
       "      <td>2.2 Elevated - No Change</td>\n",
       "      <td>Reserves Development</td>\n",
       "      <td>Active</td>\n",
       "      <td>Nickel, Cobalt, Chromite, Platinum</td>\n",
       "      <td>270000</td>\n",
       "      <td>tonnes</td>\n",
       "      <td>4974.686854</td>\n",
       "      <td>2007-12-21</td>\n",
       "      <td>Nickel</td>\n",
       "      <td>2007</td>\n",
       "      <td>15.77065</td>\n",
       "      <td>120.05396</td>\n",
       "    </tr>\n",
       "  </tbody>\n",
       "</table>\n",
       "</div>"
      ],
      "text/plain": [
       "             Property  Property ID  \\\n",
       "10            Bouvier        59623   \n",
       "11       Crean Hill 3        91456   \n",
       "12      Gochager Lake        80201   \n",
       "13       Pomalaa East        28852   \n",
       "14             Miriam        29806   \n",
       "15        Punta Gorda        28013   \n",
       "16        Punta Gorda        28013   \n",
       "17              Nonoc        27118   \n",
       "18              Nonoc        27118   \n",
       "19           Loveland        84460   \n",
       "20         Nkana Slag        29191   \n",
       "21  Biankouma-Sipilou        27512   \n",
       "22           Morowali        35538   \n",
       "23  Biankouma-Sipilou        27512   \n",
       "24              Larco        28380   \n",
       "25           Old Nick        29375   \n",
       "26          Gladstone        30070   \n",
       "27           Old Nick        29375   \n",
       "28              Renzy        33471   \n",
       "29           Zambales        35533   \n",
       "\n",
       "                                             Owner(s) Country/Region  \\\n",
       "10                            Mining Equities Pty Ltd         Canada   \n",
       "11                         SPC Nickel Corp, Vale S.A.         Canada   \n",
       "12                 Fathom Nickel Inc., BioELife Corp.         Canada   \n",
       "13                              PT Vale Indonesia Tbk      Indonesia   \n",
       "14   Future Battery Minerals Ltd., Corazon Mining ...      Australia   \n",
       "15                                         Cubaniquel           Cuba   \n",
       "16                                         Cubaniquel           Cuba   \n",
       "17                        Philnico Mining & Indl Corp    Philippines   \n",
       "18                        Philnico Mining & Indl Corp    Philippines   \n",
       "19                     Intl Explorers & Prospectors I         Canada   \n",
       "20    Private Interest, ZCCM Investments Holdings Plc         Zambia   \n",
       "21                     Nickel de l'Ouest de la Cote d  Côte d'Ivoire   \n",
       "22                              PT Vale Indonesia Tbk      Indonesia   \n",
       "23                     Nickel de l'Ouest de la Cote d  Côte d'Ivoire   \n",
       "24                                           Larco SA         Greece   \n",
       "25               1258713 B.C. Ltd., 1200059 B.C. Ltd.         Canada   \n",
       "26                           Gladstone Pacific Nickel      Australia   \n",
       "27               1258713 B.C. Ltd., 1200059 B.C. Ltd.         Canada   \n",
       "28                         Fjordland Exploration Inc.         Canada   \n",
       "29                                 DMCI Holdings Inc.    Philippines   \n",
       "\n",
       "   Country/Region Risk Score & Outlook     Development Stage Activity Status  \\\n",
       "10            1.4 Moderate - No Change        Target Outline          Active   \n",
       "11            1.4 Moderate - No Change        Target Outline          Active   \n",
       "12            1.4 Moderate - No Change        Target Outline          Active   \n",
       "13            2.1 Elevated - No Change  Construction Started          Active   \n",
       "14            1.4 Moderate - No Change        Target Outline          Active   \n",
       "15                3.0 High - No Change             Operating          Active   \n",
       "16                3.0 High - No Change             Operating          Active   \n",
       "17            2.2 Elevated - No Change           Feasibility          Active   \n",
       "18            2.2 Elevated - No Change           Feasibility          Active   \n",
       "19            1.4 Moderate - No Change        Target Outline          Active   \n",
       "20                2.6 High - No Change    Limited Production          Active   \n",
       "21            2.1 Elevated - No Change  Reserves Development          Active   \n",
       "22            2.1 Elevated - No Change  Construction Started          Active   \n",
       "23            2.1 Elevated - No Change  Reserves Development          Active   \n",
       "24             1.8 Elevated - Decrease             Operating          Active   \n",
       "25            1.4 Moderate - No Change  Reserves Development          Active   \n",
       "26            1.4 Moderate - No Change           Feasibility          Active   \n",
       "27            1.4 Moderate - No Change  Reserves Development          Active   \n",
       "28            1.4 Moderate - No Change  Reserves Development          Active   \n",
       "29            2.2 Elevated - No Change  Reserves Development          Active   \n",
       "\n",
       "                                         Commodity(s)  \\\n",
       "10                                            Lithium   \n",
       "11                                     Nickel, Copper   \n",
       "12  Cobalt, Copper, Nickel, Platinum, Palladium, Gold   \n",
       "13                                     Nickel, Cobalt   \n",
       "14  Lithium, Nickel, Spodumene, Gold, Caesium, Tan...   \n",
       "15                                     Nickel, Cobalt   \n",
       "16                                     Nickel, Cobalt   \n",
       "17                           Nickel, Cobalt, Iron Ore   \n",
       "18                           Nickel, Cobalt, Iron Ore   \n",
       "19                  Nickel, Cobalt, Copper, Palladium   \n",
       "20                               Cobalt, Copper, Gold   \n",
       "21                                     Nickel, Cobalt   \n",
       "22                                             Nickel   \n",
       "23                                     Nickel, Cobalt   \n",
       "24                                     Nickel, Cobalt   \n",
       "25                                     Nickel, Cobalt   \n",
       "26                                     Nickel, Cobalt   \n",
       "27                                     Nickel, Cobalt   \n",
       "28                             Nickel, Copper, Cobalt   \n",
       "29                 Nickel, Cobalt, Chromite, Platinum   \n",
       "\n",
       "    Primary Reserves and Resources    Unit  Total In-Situ Value ($M)  \\\n",
       "10                           11431  tonnes                185.273648   \n",
       "11                           72150  tonnes               1618.180659   \n",
       "12                           13010  tonnes                214.542410   \n",
       "13                         2690000  tonnes              44359.652699   \n",
       "14                            3900  tonnes                 64.313251   \n",
       "15                         4093000  tonnes              80215.987760   \n",
       "16                          341000  tonnes              80215.987760   \n",
       "17                         1584000  tonnes              32014.824235   \n",
       "18                          158000  tonnes              32014.824235   \n",
       "19                            5262  tonnes                124.852742   \n",
       "20                          152000  tonnes               7644.220294   \n",
       "21                          285000  tonnes              73460.230383   \n",
       "22                          451000  tonnes               7437.250322   \n",
       "23                         3810000  tonnes              73460.230383   \n",
       "24                         2476380  tonnes              40836.935595   \n",
       "25                           33000  tonnes                603.872592   \n",
       "26                           44000  tonnes              12310.700905   \n",
       "27                            1600  tonnes                603.872592   \n",
       "28                            2699  tonnes                 68.837710   \n",
       "29                          270000  tonnes               4974.686854   \n",
       "\n",
       "   Reserves & Resources As Of Date Primary Mineral  Year  Latitude (degrees)  \\\n",
       "10                      1979-12-31         Lithium  1979            48.45182   \n",
       "11                      1989-12-31          Nickel  1989            46.43776   \n",
       "12                      1990-12-31          Nickel  1990            55.76232   \n",
       "13                      1993-12-31          Nickel  1993            -4.22492   \n",
       "14                      1996-06-21          Nickel  1996           -31.05194   \n",
       "15                      1999-12-31          Nickel  1999            20.62977   \n",
       "16                      1999-12-31          Cobalt  1999            20.62977   \n",
       "17                      2000-02-23          Nickel  2000             9.83278   \n",
       "18                      2000-02-23          Cobalt  2000             9.83278   \n",
       "19                      2002-03-31          Nickel  2002            48.66136   \n",
       "20                      2003-06-30          Cobalt  2003           -12.83944   \n",
       "21                      2005-09-09          Cobalt  2005             7.86926   \n",
       "22                      2005-12-31          Nickel  2005            -2.71000   \n",
       "23                      2005-09-09          Nickel  2005             7.86926   \n",
       "24                      2006-12-31          Nickel  2006            38.65722   \n",
       "25                      2007-07-16          Nickel  2007            49.04169   \n",
       "26                      2007-06-30          Cobalt  2007           -22.94832   \n",
       "27                      2007-07-16          Cobalt  2007            49.04169   \n",
       "28                      2007-11-01          Nickel  2007            46.81383   \n",
       "29                      2007-12-21          Nickel  2007            15.77065   \n",
       "\n",
       "    Longitude (degrees)  \n",
       "10            -78.09764  \n",
       "11            -81.31067  \n",
       "12           -104.94067  \n",
       "13            121.68711  \n",
       "14            121.10314  \n",
       "15            -74.86241  \n",
       "16            -74.86241  \n",
       "17            125.61056  \n",
       "18            125.61056  \n",
       "19            -81.62469  \n",
       "20             28.21028  \n",
       "21             -7.91147  \n",
       "22            121.95500  \n",
       "23             -7.91147  \n",
       "24             23.57806  \n",
       "25           -119.08467  \n",
       "26            149.83267  \n",
       "27           -119.08467  \n",
       "28            -76.70302  \n",
       "29            120.05396  "
      ]
     },
     "execution_count": 22,
     "metadata": {},
     "output_type": "execute_result"
    }
   ],
   "source": [
    "C = combined.copy()\n",
    "usca = C[C[\"Primary Mineral\"].isin([\"Cobalt\", \"Nickel\", \"Manganese\"]) & \n",
    "         C[\"Country/Region\"].isin([\"USA\", \"Canada\"])]\n",
    "C[10:30]"
   ]
  },
  {
   "cell_type": "code",
   "execution_count": 6,
   "metadata": {},
   "outputs": [],
   "source": [
    "C = combined.copy()\n",
    "usca = C[C[\"Primary Mineral\"].isin([\"Cobalt\", \"Nickel\", \"Manganese\"]) & \n",
    "         C[\"Country/Region\"].isin([\"USA\", \"Canada\"])]"
   ]
  },
  {
   "cell_type": "code",
   "execution_count": 27,
   "metadata": {},
   "outputs": [],
   "source": [
    "import networkx as nx\n",
    "from geopy.distance import geodesic\n",
    "import numpy as np\n",
    "import pandas as pd\n",
    "import plotly.graph_objects as go\n",
    "from sklearn.cluster import DBSCAN\n",
    "from sklearn.preprocessing import LabelEncoder\n",
    "\n",
    "def build(df, required_metals = {\"Cobalt\", \"Nickel\", \"Manganese\"} ,max_distance_per_cluster=7000):  # km\n",
    "    \n",
    "    simplified_df = df.rename(columns={'Latitude (degrees)': 'Lat', \n",
    "                       'Longitude (degrees)': 'Lon',\n",
    "                        'Primary Reserves and Resources': 'Reserves',\n",
    "                        'Property ID': 'ID',\n",
    "                        'Property': 'Name'})\n",
    "\n",
    "    \n",
    "    simplified_df['Normalized_Reserves'] = simplified_df['Reserves'] / simplified_df['Reserves'].max()\n",
    "\n",
    "    coords = simplified_df[['Lat', 'Lon']]\n",
    "    clustering = DBSCAN(eps=max_distance_per_cluster/1000).fit(coords)\n",
    "    simplified_df['Cluster'] = clustering.labels_\n",
    "\n",
    "    fig = go.Figure()\n",
    "\n",
    "\n",
    "\n",
    "    def check_coverage(sites):\n",
    "        found = set()\n",
    "        for s in sites:\n",
    "            for metal in required_metals:\n",
    "                if metal.lower() in s['Commodity(s)'].lower():\n",
    "                    found.add(metal)\n",
    "        return required_metals.issubset(found)\n",
    "\n",
    "    for cluster in simplified_df['Cluster'].unique():\n",
    "        if cluster == -1:\n",
    "            continue\n",
    "        \n",
    "        cluster_data = simplified_df[simplified_df['Cluster'] == cluster].copy()\n",
    "        if cluster_data.empty:\n",
    "            continue\n",
    "\n",
    "        fig.add_trace(go.Scattergeo(\n",
    "            lon=cluster_data['Lon'],\n",
    "            lat=cluster_data['Lat'],\n",
    "            customdata=cluster_data[['Reserves', 'Name', 'Commodity(s)', \"Primary Mineral\"]],\n",
    "            mode='markers+text',\n",
    "            hovertemplate=\"<b>%{customdata[1]}</b><br>\" +\n",
    "                          \"Latitude: %{lat}<br>\" +\n",
    "                          \"Longitude: %{lon}<br>\" +\n",
    "                          \"Commodities: %{customdata[2]}<br>\" +\n",
    "                          \"Primary Commodity: %{customdata[3]}<br>\" +\n",
    "                          \"Reserves: %{customdata[0]:,.0f} tonnes\",\n",
    "            textposition=\"bottom center\",\n",
    "            marker=dict(size=8, symbol='circle'),\n",
    "            name=f'Cluster {cluster}'\n",
    "        ))\n",
    "\n",
    "        # Greedy selection algorithm with metal constraint\n",
    "        mines = cluster_data.to_dict(orient='records')\n",
    "        start = max(mines, key=lambda x: x['Reserves'])\n",
    "\n",
    "        visited = [start]\n",
    "        unvisited = [m for m in mines if m['ID'] != start['ID']]\n",
    "        total_distance = 0\n",
    "\n",
    "        while unvisited:\n",
    "            best_mine = None\n",
    "            best_score = float('-inf')\n",
    "            best_distance = None\n",
    "\n",
    "            for candidate in unvisited:\n",
    "                dist = geodesic(\n",
    "                    (visited[-1]['Lat'], visited[-1]['Lon']),\n",
    "                    (candidate['Lat'], candidate['Lon'])\n",
    "                ).km\n",
    "                if dist == 0:\n",
    "                    continue\n",
    "                score = candidate['Reserves'] / dist\n",
    "                if score > best_score:\n",
    "                    best_score = score\n",
    "                    best_mine = candidate\n",
    "                    best_distance = dist\n",
    "\n",
    "            if best_distance and total_distance + best_distance <= max_distance_per_cluster:\n",
    "                total_distance += best_distance\n",
    "                visited.append(best_mine)\n",
    "                unvisited = [u for u in unvisited if u['ID'] != best_mine['ID']]\n",
    "            else:\n",
    "                break\n",
    "\n",
    "            # If constraint satisfied, we can optionally stop early\n",
    "            if check_coverage(visited):\n",
    "                break\n",
    "\n",
    "        # Try adding backup mines just to fulfill constraints\n",
    "        if not check_coverage(visited):\n",
    "            for backup in sorted(unvisited, key=lambda x: -x['Reserves']):\n",
    "                dist = geodesic(\n",
    "                    (visited[-1]['Lat'], visited[-1]['Lon']),\n",
    "                    (backup['Lat'], backup['Lon'])\n",
    "                ).km\n",
    "                if total_distance + dist > max_distance_per_cluster:\n",
    "                    continue\n",
    "                visited.append(backup)\n",
    "                total_distance += dist\n",
    "                if check_coverage(visited):\n",
    "                    break\n",
    "\n",
    "        # Draw path\n",
    "        for i in range(len(visited) - 1):\n",
    "            node1 = visited[i]\n",
    "            node2 = visited[i + 1]\n",
    "            fig.add_trace(go.Scattergeo(\n",
    "                lon=[node1['Lon'], node2['Lon']],\n",
    "                lat=[node1['Lat'], node2['Lat']],\n",
    "                mode='lines',\n",
    "                line=dict(width=2, color='gray'),\n",
    "                showlegend=False\n",
    "            ))\n",
    "\n",
    "    fig.update_layout(\n",
    "        title=\"Constraint-Aware Resource Route: Covering Key Metals\",\n",
    "        margin=dict(l=5, r=5, t=30, b=30),\n",
    "        geo=dict(\n",
    "            scope='world',\n",
    "            showland=True,\n",
    "            landcolor='lightgray',\n",
    "            countrycolor='white',\n",
    "            lonaxis=dict(range=[simplified_df[\"Lon\"].min() - 10, simplified_df[\"Lon\"].max() + 10]),\n",
    "            lataxis=dict(range=[simplified_df[\"Lat\"].min() - 10, simplified_df[\"Lat\"].max() + 10])\n",
    "        ),\n",
    "        template=\"plotly_white\"\n",
    "    )\n",
    "\n",
    "    fig.show()\n"
   ]
  },
  {
   "cell_type": "code",
   "execution_count": 28,
   "metadata": {},
   "outputs": [
    {
     "data": {
      "application/vnd.plotly.v1+json": {
       "config": {
        "plotlyServerURL": "https://plot.ly"
       },
       "data": [
        {
         "customdata": [
          [
           7600,
           "Lithium Two",
           "Lithium, Caesium, Rubidium, Tantalum",
           "Lithium"
          ],
          [
           4000,
           "Falcon West",
           "Lithium, Caesium, Tantalum, Rubidium",
           "Lithium"
          ],
          [
           16420,
           "Irgon",
           "Lithium, Tantalum",
           "Lithium"
          ],
          [
           73482,
           "Chrome-Puddy",
           "Nickel, Chromium, Copper, Cobalt, Platinum, Iron Ore, Palladium, Gold, Chromite",
           "Nickel"
          ],
          [
           4627,
           "Chrome-Puddy",
           "Nickel, Chromium, Copper, Cobalt, Platinum, Iron Ore, Palladium, Gold, Chromite",
           "Cobalt"
          ],
          [
           35561,
           "McBride",
           "Nickel, Cobalt, Copper, Gold, Silver, Platinum, Palladium",
           "Nickel"
          ],
          [
           2450,
           "McBride",
           "Nickel, Cobalt, Copper, Gold, Silver, Platinum, Palladium",
           "Cobalt"
          ],
          [
           11431,
           "Bouvier",
           "Lithium",
           "Lithium"
          ],
          [
           72150,
           "Crean Hill 3",
           "Nickel, Copper",
           "Nickel"
          ],
          [
           13010,
           "Gochager Lake",
           "Cobalt, Copper, Nickel, Platinum, Palladium, Gold",
           "Nickel"
          ],
          [
           5262,
           "Loveland",
           "Nickel, Cobalt, Copper, Palladium",
           "Nickel"
          ],
          [
           33000,
           "Old Nick",
           "Nickel, Cobalt",
           "Nickel"
          ],
          [
           1600,
           "Old Nick",
           "Nickel, Cobalt",
           "Cobalt"
          ],
          [
           2699,
           "Renzy",
           "Nickel, Copper, Cobalt",
           "Nickel"
          ],
          [
           29000,
           "Texmont",
           "Nickel, Cobalt, Palladium, Platinum",
           "Nickel"
          ],
          [
           70760,
           "Diamond Creek",
           "Lanthanides, Thorium, Niobium, Gold",
           "Lanthanides"
          ],
          [
           18019,
           "Bird River",
           "Nickel, Copper, Zinc, Silver, Gold, Palladium, Platinum",
           "Nickel"
          ],
          [
           143612,
           "Red Flat",
           "Nickel, Cobalt",
           "Nickel"
          ],
          [
           7575,
           "Nickel King",
           "Nickel, Copper, Cobalt",
           "Cobalt"
          ],
          [
           332483,
           "Cleopatra",
           "Nickel, Cobalt",
           "Nickel"
          ],
          [
           163338,
           "Nickel King",
           "Nickel, Copper, Cobalt",
           "Nickel"
          ],
          [
           1357,
           "Gallinas Mountains",
           "Lanthanides",
           "Lanthanides"
          ],
          [
           350200,
           "Nunavik",
           "Nickel, Copper, Cobalt, Platinum, Palladium, Gold",
           "Nickel"
          ],
          [
           44000,
           "Raglan",
           "Nickel, Copper, Platinum, Palladium, Cobalt, Gold",
           "Nickel"
          ],
          [
           2233,
           "Raglan",
           "Nickel, Copper, Platinum, Palladium, Cobalt, Gold",
           "Cobalt"
          ],
          [
           18670,
           "Nunavik",
           "Nickel, Copper, Cobalt, Platinum, Palladium, Gold",
           "Cobalt"
          ],
          [
           651,
           "Shining Tree",
           "Nickel, Copper, Cobalt, Platinum, Palladium",
           "Cobalt"
          ],
          [
           62000,
           "Clay-Howells",
           "Lanthanides, Niobium, Iron Ore",
           "Lanthanides"
          ],
          [
           300000,
           "Eagle's Nest",
           "Nickel, Copper, Gold, Platinum, Palladium, Silver",
           "Nickel"
          ],
          [
           17200,
           "Shining Tree",
           "Nickel, Copper, Cobalt, Platinum, Palladium",
           "Nickel"
          ],
          [
           11231,
           "Green Energy",
           "Lithium, Potash",
           "Lithium"
          ],
          [
           479493,
           "Red Wine",
           "Lanthanides, Niobium",
           "Lanthanides"
          ],
          [
           46000,
           "Lockerby East",
           "Nickel, Copper, Cobalt, Gold, Platinum, Palladium, Silver",
           "Nickel"
          ],
          [
           1060,
           "Lockerby East",
           "Nickel, Copper, Cobalt, Gold, Platinum, Palladium, Silver",
           "Cobalt"
          ],
          [
           779000,
           "Fox Creek",
           "Lithium, Potash, Gold, Silver",
           "Lithium"
          ],
          [
           50194,
           "Bowden Lake",
           "Nickel, Copper, Platinum",
           "Nickel"
          ],
          [
           197000,
           "Lavergne-Springer",
           "Lanthanides",
           "Lanthanides"
          ],
          [
           297442,
           "Round Top",
           "Lanthanides, Yttrium, Niobium, Hafnium, Tantalum, U3O8, Thorium, Lanthanum, Cerium, Praseodymium, Neodymium, Samarium, Europium, Gadolinium, Terbium, Dysprosium, Holmium, Erbium, Thulium, Ytterbium, Lutetium, Scandium, Lithium, Potash, Aluminum, Zircon",
           "Lanthanides"
          ],
          [
           18352000,
           "St-Honore",
           "Lanthanides",
           "Lanthanides"
          ],
          [
           107000,
           "Zeus",
           "Lanthanides, Yttrium, Niobium, Tantalum, Zircon",
           "Lanthanides"
          ],
          [
           74249,
           "Nico",
           "Cobalt, Gold, Bismuth, Copper",
           "Cobalt"
          ],
          [
           135488474,
           "Woodstock",
           "Manganese, Iron Ore",
           "Manganese"
          ],
          [
           42000,
           "Aurora",
           "Nickel",
           "Nickel"
          ],
          [
           3877020,
           "Montviel",
           "Lanthanides, Niobium, Phosphate",
           "Lanthanides"
          ],
          [
           3562000,
           "Sonora",
           "Lithium, Potash",
           "Lithium"
          ],
          [
           4406200,
           "Strange Lake",
           "Lanthanides, Niobium, Beryllium, Yttrium, Dysprosium, Promethium, Terbium, Molybdenum",
           "Lanthanides"
          ],
          [
           236140,
           "Kwyjibo",
           "Lanthanides, Copper, Phosphate, Iron Ore",
           "Lanthanides"
          ],
          [
           88000,
           "Clayton Valley",
           "Lithium, Potash, Magnesium, Calcium Carbonate",
           "Lithium"
          ],
          [
           9800,
           "Zoro 1",
           "Lithium, Tantalum, Niobium, Beryllium, Caesium, Rubidium, Gallium, Spodumene",
           "Lithium"
          ],
          [
           340,
           "Werner Lake",
           "Cobalt, Copper, Gold, Silver, Nickel",
           "Cobalt"
          ],
          [
           75000,
           "Burro Creek",
           "Lithium, Potash",
           "Lithium"
          ],
          [
           229518,
           "Dumont",
           "Nickel, Cobalt, Platinum, Palladium, Iron Ore",
           "Cobalt"
          ],
          [
           130000,
           "Big Sandy",
           "Lithium",
           "Lithium"
          ],
          [
           5720702,
           "Dumont",
           "Nickel, Cobalt, Platinum, Palladium, Iron Ore",
           "Nickel"
          ],
          [
           1817000,
           "Nechalacho",
           "Lanthanides, Niobium, Tantalum, Gallium, Yttrium, Neodymium, Praseodymium, Dysprosium, Lithium, Rhenium, Beryllium, Cerium, Zircon, Erbium, Lanthanum, Ytterbium, Thulium, Samarium, Terbium, Gadolinium, Holmium, Lutetium, Europium",
           "Lanthanides"
          ],
          [
           35154,
           "Bokan Mountain",
           "Lanthanides, Niobium, Tantalum, Beryllium, U3O8, Dysprosium, Terbium, Yttrium, Thorium, Vanadium, Zircon, Hafnium, Titanium",
           "Lanthanides"
          ],
          [
           241200,
           "Clayton Valley",
           "Lithium",
           "Lithium"
          ],
          [
           8358700,
           "Bonnie Claire",
           "Lithium",
           "Lithium"
          ],
          [
           93630,
           "Eco Ridge",
           "Lanthanides, U3O8",
           "Lanthanides"
          ],
          [
           66647,
           "La Paz",
           "Lanthanides, Thorium, U3O8, Scandium, Praseodymium, Terbium, Samarium, Neodymium",
           "Lanthanides"
          ],
          [
           68900,
           "Grasset",
           "Nickel, Copper, Cobalt, Platinum, Palladium, Gold, Zinc, Lead",
           "Nickel"
          ],
          [
           50439,
           "Rice Island",
           "Nickel, Copper, Cobalt, Platinum, Palladium, Gold",
           "Nickel"
          ],
          [
           75750,
           "Shakespeare",
           "Nickel, Copper, Palladium, Platinum, Gold, Cobalt, Silver",
           "Nickel"
          ],
          [
           1463,
           "Grasset",
           "Nickel, Copper, Cobalt, Platinum, Palladium, Gold, Zinc, Lead",
           "Cobalt"
          ],
          [
           597,
           "McAra",
           "Cobalt, Copper, Silver, Zinc, Gold",
           "Cobalt"
          ],
          [
           116800,
           "Lynn Lake",
           "Nickel, Copper, Cobalt, Platinum, Zinc, Lead, Silver, Gold",
           "Nickel"
          ],
          [
           5300,
           "Lynn Lake",
           "Nickel, Copper, Cobalt, Platinum, Zinc, Lead, Silver, Gold",
           "Cobalt"
          ],
          [
           4536,
           "Shakespeare",
           "Nickel, Copper, Palladium, Platinum, Gold, Cobalt, Silver",
           "Cobalt"
          ],
          [
           2646,
           "Rice Island",
           "Nickel, Copper, Cobalt, Platinum, Palladium, Gold",
           "Cobalt"
          ],
          [
           7700000,
           "Lithium Nevada",
           "Lithium, Potash",
           "Lithium"
          ],
          [
           7328560,
           "Drumheller",
           "Lithium",
           "Lithium"
          ],
          [
           4300000,
           "TLC",
           "Lithium, Magnesium",
           "Lithium"
          ],
          [
           846000,
           "Clayton Valley",
           "Lithium",
           "Lithium"
          ],
          [
           48398,
           "Kenbridge",
           "Nickel, Copper, Cobalt, Silver, Gold, Platinum",
           "Nickel"
          ],
          [
           736000,
           "Nemaska",
           "Lithium, Beryllium, Ruthenium, Beryl, Tin, Rubidium, Spodumene",
           "Lithium"
          ],
          [
           217724,
           "Tamarack",
           "Nickel, Copper, Cobalt, Platinum, Palladium, Gold",
           "Nickel"
          ],
          [
           76611,
           "Hawk Ridge",
           "Nickel, Copper, Cobalt, Platinum, Palladium, Gold, Iron Ore",
           "Nickel"
          ],
          [
           135300,
           "Georgia Lake",
           "Lithium, Spodumene",
           "Lithium"
          ],
          [
           4417,
           "Hawk Ridge",
           "Nickel, Copper, Cobalt, Platinum, Palladium, Gold, Iron Ore",
           "Cobalt"
          ],
          [
           5974,
           "Tamarack",
           "Nickel, Copper, Cobalt, Platinum, Palladium, Gold",
           "Cobalt"
          ],
          [
           70000,
           "Nickel Island",
           "Nickel, Copper, Cobalt, Platinum, Palladium",
           "Nickel"
          ],
          [
           907,
           "Maude Lake",
           "Nickel, Copper, Cobalt, Platinum, Palladium, Gold, Silver",
           "Nickel"
          ],
          [
           544,
           "Kenbridge",
           "Nickel, Copper, Cobalt, Silver, Gold, Platinum",
           "Cobalt"
          ],
          [
           62860000,
           "Battery Hill",
           "Manganese, Iron Ore",
           "Manganese"
          ],
          [
           70000,
           "Eagle",
           "Nickel, Copper, Gold, Platinum, Palladium, Cobalt, Silver",
           "Nickel"
          ],
          [
           6000,
           "Eagle Claims",
           "Lithium, Copper, Nickel",
           "Nickel"
          ],
          [
           314000,
           "Bear Lodge",
           "Lanthanides, Gold, Cerium, Neodymium, Praseodymium, Lanthanum, Samarium, Europium, Gadolinium, Terbium, Lutetium, Yttrium, Dysprosium, Ytterbium, Thulium, Erbium, Holmium",
           "Lanthanides"
          ],
          [
           783,
           "Norton",
           "Nickel, Copper, Cobalt, Platinum, Palladium",
           "Cobalt"
          ],
          [
           125161,
           "Makwa Mayville",
           "Nickel, Copper, Gold, Platinum, Palladium, Cobalt, Chromite, Lithium, Caesium, Tantalum, Rubidium",
           "Nickel"
          ],
          [
           510000,
           "Manitoba Division",
           "Nickel, Copper, Cobalt, Gold, Silver, Palladium",
           "Nickel"
          ],
          [
           8686000,
           "McDermitt",
           "Lithium, U3O8",
           "Lithium"
          ],
          [
           4164337,
           "Kindersley",
           "Lithium",
           "Lithium"
          ],
          [
           9268,
           "Iron Creek",
           "Cobalt, Copper, Gold",
           "Cobalt"
          ],
          [
           8000,
           "Manitoba Division",
           "Nickel, Copper, Cobalt, Gold, Silver, Palladium",
           "Cobalt"
          ],
          [
           48500,
           "Ontario Division",
           "Nickel, Copper, Rhodium, Cobalt, Platinum, Palladium, Gold, Silver",
           "Cobalt"
          ],
          [
           45000,
           "Sudbury Operations",
           "Nickel, Copper, Cobalt, Platinum, Palladium, Rhodium, Gold, Silver",
           "Cobalt"
          ],
          [
           44390,
           "Voisey's Bay",
           "Nickel, Copper, Cobalt",
           "Cobalt"
          ],
          [
           1773000,
           "Ontario Division",
           "Nickel, Copper, Rhodium, Cobalt, Platinum, Palladium, Gold, Silver",
           "Nickel"
          ],
          [
           1430000,
           "Galaxy",
           "Lithium, Spodumene",
           "Lithium"
          ],
          [
           59100,
           "Nisk",
           "Nickel, Cobalt, Copper, Palladium, Platinum, Gold, Silver, Lithium, Caesium, Tantalum",
           "Nickel"
          ],
          [
           2545000,
           "Prairie Lithium",
           "Lithium",
           "Lithium"
          ],
          [
           933909,
           "Clayton Ridge",
           "Lithium",
           "Lithium"
          ],
          [
           881052,
           "Pakeagama Lake",
           "Lithium, Tantalum, Niobium, Tin, Rubidium, Caesium, Spodumene",
           "Lithium"
          ],
          [
           108239,
           "Shaw Dome",
           "Nickel, Copper, Platinum, Palladium, Cobalt, Gold, Iron Ore",
           "Cobalt"
          ],
          [
           16577,
           "Norton",
           "Nickel, Copper, Cobalt, Platinum, Palladium",
           "Nickel"
          ],
          [
           552200,
           "Crawford",
           "Nickel, Cobalt, Palladium, Platinum, Iron Ore, Chromium, Gold, Chromite",
           "Cobalt"
          ],
          [
           345000,
           "Turnagain",
           "Nickel, Cobalt, Copper, Palladium, Platinum, Gold",
           "Cobalt"
          ],
          [
           6224,
           "Makwa Mayville",
           "Nickel, Copper, Gold, Platinum, Palladium, Cobalt, Chromite, Lithium, Caesium, Tantalum, Rubidium",
           "Cobalt"
          ],
          [
           62250,
           "Tanco",
           "Lithium, Spodumene, Caesium, Tantalum",
           "Lithium"
          ],
          [
           37294,
           "Raleigh Lake",
           "Lithium, Tantalum, Rubidium, Caesium, Spodumene, Iron Ore",
           "Lithium"
          ],
          [
           4280,
           "Sirmac",
           "Lithium, Tantalum, Caesium, Rubidium",
           "Lithium"
          ],
          [
           3700,
           "Nisk",
           "Nickel, Cobalt, Copper, Palladium, Platinum, Gold, Silver, Lithium, Caesium, Tantalum",
           "Cobalt"
          ],
          [
           718800,
           "Voisey's Bay",
           "Nickel, Copper, Cobalt",
           "Nickel"
          ],
          [
           1730000,
           "Rainbow Lake",
           "Lithium",
           "Lithium"
          ],
          [
           94500,
           "Makwa Mayville",
           "Nickel, Copper, Gold, Platinum, Palladium, Cobalt, Chromite, Lithium, Caesium, Tantalum, Rubidium",
           "Lithium"
          ],
          [
           93482,
           "Fox Creek West",
           "Lithium",
           "Lithium"
          ],
          [
           90896,
           "Thompson Bros",
           "Lithium, Spodumene",
           "Lithium"
          ],
          [
           86000,
           "Mavis Lake",
           "Lithium, Spodumene, Tantalum, Caesium, Rubidium, Potash, Tin",
           "Lithium"
          ],
          [
           316000,
           "Mansur",
           "Lithium",
           "Lithium"
          ],
          [
           5702000,
           "Turnagain",
           "Nickel, Cobalt, Copper, Palladium, Platinum, Gold",
           "Nickel"
          ],
          [
           2011000,
           "Sudbury Operations",
           "Nickel, Copper, Cobalt, Platinum, Palladium, Rhodium, Gold, Silver",
           "Nickel"
          ],
          [
           299000,
           "Rose",
           "Lithium, Tantalum, Niobium, Lanthanides, Beryllium, Gallium, Spodumene, Caesium, Rubidium",
           "Lithium"
          ],
          [
           2435240,
           "Shaw Dome",
           "Nickel, Copper, Platinum, Palladium, Cobalt, Gold, Iron Ore",
           "Nickel"
          ],
          [
           124000,
           "Fort Cady",
           "Lithium, Borates, Potash, Gypsum",
           "Lithium"
          ],
          [
           119000,
           "Brazil Lake",
           "Lithium, Spodumene, Tantalum, Lanthanides",
           "Lithium"
          ],
          [
           105006,
           "Seymour Lake",
           "Lithium, Beryllium, Niobium, Tantalum, Spodumene, Caesium, Rubidium",
           "Lithium"
          ],
          [
           607600,
           "Paradox",
           "Lithium, Magnesium, Borates, Potash",
           "Lithium"
          ],
          [
           279684,
           "Viewfield",
           "Lithium",
           "Lithium"
          ],
          [
           266935,
           "West Tonopah",
           "Lithium",
           "Lithium"
          ],
          [
           447000,
           "Silver Peak",
           "Lithium",
           "Lithium"
          ],
          [
           175000,
           "Separation Rapids",
           "Lithium, Tantalum, Rubidium, Caesium",
           "Lithium"
          ],
          [
           173000,
           "Root Lake",
           "Lithium, Caesium, Tantalum, Spodumene, Gold",
           "Lithium"
          ],
          [
           172600,
           "Authier",
           "Lithium, Spodumene",
           "Lithium"
          ],
          [
           9761600,
           "Crawford",
           "Nickel, Cobalt, Palladium, Platinum, Iron Ore, Chromium, Gold, Chromite",
           "Nickel"
          ],
          [
           4548000,
           "Decar",
           "Nickel, Iron Ore, Chromite, Cobalt, Copper",
           "Nickel"
          ],
          [
           11149000,
           "Emily",
           "Manganese, Iron Ore, Silica, Aluminum, Cobalt, Magnesium, Tin, Strontium, Titanium",
           "Manganese"
          ],
          [
           283800,
           "Crean Hill",
           "Nickel, Copper, Platinum, Palladium, Cobalt, Gold",
           "Nickel"
          ],
          [
           1087200,
           "Deloro",
           "Nickel, Palladium, Platinum, Cobalt, Chromium, Iron Ore, Chromite",
           "Nickel"
          ],
          [
           506000,
           "Yellowknife",
           "Lithium",
           "Lithium"
          ],
          [
           122368,
           "Clayton Valley",
           "Lithium",
           "Lithium"
          ],
          [
           54504,
           "Alexo-Dundonald",
           "Nickel, Copper, Cobalt, Gold, Platinum, Palladium",
           "Nickel"
          ],
          [
           75700,
           "Jackpot",
           "Lithium",
           "Lithium"
          ],
          [
           84000,
           "Pontax",
           "Lithium, Tantalum, Beryllium, Caesium",
           "Lithium"
          ],
          [
           1131300,
           "Moblan",
           "Lithium, Iron Ore, Spodumene",
           "Lithium"
          ],
          [
           2332372,
           "Mountain Pass",
           "Lanthanides",
           "Lanthanides"
          ],
          [
           2697332,
           "Angel Island",
           "Lithium",
           "Lithium"
          ],
          [
           892840,
           "Adina",
           "Lithium, Caesium, Tantalum, Spodumene",
           "Lithium"
          ],
          [
           988000,
           "North American Lithium",
           "Lithium, Spodumene",
           "Lithium"
          ],
          [
           1028180,
           "Estevan",
           "Lithium",
           "Lithium"
          ],
          [
           2477800,
           "Boardwalk",
           "Lithium",
           "Lithium"
          ],
          [
           2514000,
           "Nevada",
           "Lithium",
           "Lithium"
          ],
          [
           1313600,
           "Rhyolite Ridge",
           "Lithium, Borates, Potash",
           "Lithium"
          ],
          [
           1337000,
           "Utah Lithium",
           "Lithium, U3O8, Vanadium",
           "Lithium"
          ],
          [
           391885,
           "Minago",
           "Nickel, Copper, Cobalt, Palladium, Frac Sand, Gold, Platinum, Silver, Rhodium",
           "Nickel"
          ],
          [
           46600,
           "Deloro",
           "Nickel, Palladium, Platinum, Cobalt, Chromium, Iron Ore, Chromite",
           "Cobalt"
          ],
          [
           9890,
           "Crean Hill",
           "Nickel, Copper, Platinum, Palladium, Cobalt, Gold",
           "Cobalt"
          ],
          [
           3880000,
           "Ashram",
           "Lanthanides, Tantalum, Niobium, Yttrium, Dysprosium, Neodymium, Praseodymium, Europium, Terbium, Phosphate, Samarium, Gadolinium, Caesium, Holmium, Erbium, Thulium, Ytterbium, Lutetium",
           "Lanthanides"
          ],
          [
           4500000,
           "Nevada North",
           "Lithium",
           "Lithium"
          ],
          [
           2882457,
           "Gemini",
           "Lithium",
           "Lithium"
          ],
          [
           1762248,
           "Clayton Valley",
           "Lithium",
           "Lithium"
          ],
          [
           1970000,
           "Shaakichiuwaanaan",
           "Lithium, Gold, Copper, Silver, Tantalum, Platinum, Palladium, Nickel, Cobalt, Spodumene, Caesium",
           "Lithium"
          ],
          [
           2531561,
           "Nechalacho",
           "Lanthanides, Neodymium, Niobium, Praseodymium, Cerium, Lanthanum, Yttrium, Samarium, Europium, Gadolinium, Terbium, Dysprosium, Holmium, Erbium, Thulium, Ytterbium, Lutetium",
           "Lanthanides"
          ],
          [
           8774405,
           "Park Place",
           "Lithium",
           "Lithium"
          ],
          [
           6936846,
           "Alberta",
           "Lithium",
           "Lithium"
          ],
          [
           1449,
           "Alexo-Dundonald",
           "Nickel, Copper, Cobalt, Gold, Platinum, Palladium",
           "Cobalt"
          ],
          [
           8647066,
           "Halleck Creek",
           "Lanthanides, Caesium, Neodymium, Yttrium, Praseodymium, Dysprosium, Thorium, U3O8, Lanthanum, Cerium, Erbium, Holmium, Gadolinium, Europium, Lutetium, Terbium, Samarium, Ytterbium, Thulium",
           "Lanthanides"
          ],
          [
           741000,
           "Wicheeda",
           "Lanthanides, Cerium, Lanthanum, Praseodymium, Neodymium, Samarium, Gadolinium, Europium, Dysprosium, Terbium, Holmium, Niobium",
           "Lanthanides"
          ]
         ],
         "hovertemplate": "<b>%{customdata[1]}</b><br>Latitude: %{lat}<br>Longitude: %{lon}<br>Commodities: %{customdata[2]}<br>Primary Commodity: %{customdata[3]}<br>Reserves: %{customdata[0]:,.0f} tonnes",
         "lat": {
          "bdata": "GOyGbYtOSUCGrG71nMhIQMsQx7q4TUlAcsRafAr8SEByxFp8CvxIQAHeAgmKb0ZAAd4CCYpvRkDg1t081TlIQJy/CYUIOEdAGoums5PhS0D4cMlxp1RIQP5IERlWhUhA/kgRGVaFSEB5QNmUK2hHQGlXIeUnFUhA44i1+BSgRkDvchHfiT1JQKmkTkATLUVAsvShC+ofTkCq1OyBVgRFQLL0oQvqH05A1PGYgcoYQUCmKQKc3rVOQO3YCMTrsk5A7dgIxOuyTkCmKQKc3rVOQEaU9gZfyEdAoUrNHmjpSEAsfeiC+l5KQEaU9gZfyEdA6Nms+lxFQ0DRItv5fhpLQMgkI2dhN0dAyCQjZ2E3R0AUs14M5QxLQBNhw9MrdUtAG2SSkbM4R0AC8bp+wUY/QP2fw3x5RUhABrth26JoR0BmZmZmZsZPQNejcD0KF0dAnBa86CssSEBo6J/gYulIQMo329yYtj1AzczMzMwsTEDufD81XoZJQCodrP9z3EJAi2zn+6ltS0CrCaLuAzxJQNRgGoaPSEFANdJSeTtSSECm1ZC4x1pBQDXSUnk7UkhAYqHWNO8MT0DQDyOER3NLQN9PjZdu4kJAHSCYo8ebQkCLMhtkkjFHQPKwUGuaD0FAOpLLf0gHSUAE54wo7WlLQBh9BWnGKkdAOpLLf0gHSUBegH106rJHQCKOdXEbaUxAIo51cRtpTEAYfQVpxipHQATnjCjtaUtAOzYC8braREAziuWWVsdJQGvUQzS6E0NAHooCfSLbQkDSqSuf5b1IQKyL22gA10lAEsKjjSNWR0AAAAAAAIBNQOIeSx+6uEhAAAAAAACATUASwqONI1ZHQFafq63Y90pAJjYf14ZySEDSqSuf5b1IQBu7RPXWHEdAcjPcgM9fR0AS91j60E1JQJBmLJrOPkZAOkAwR4/zSUCqglFJnVBJQLSOqiaI2ktABW7dzVMFRUA7AU2EDdtJQEj5SbVPe0ZAtI6qJojaS0D0N6EQAT9HQH3LnC6LUUdAYOrnTUUqTED0N6EQAT9HQC9uowG8HUpAfJv+7EfaSUCF61G4HoVIQGXkLOxp40JAhslUwahOSkDLoUW28yVIQDpAMEeP80lAtRX7y+5pSEA+lj50QT1NQKqCUUmdUElAlE25wrs4SUAj2/l+arRIQM/3U+OlT0lAfJv+7EfaSUBg6udNRSpMQDdsW5TZQE1AqoJRSZ1QSUBvEoPAyj1LQMUbmUf+bEtAKqkT0EToSEB0B7EzhdpIQD6WPnRBPU1AfcucLotRR0DCEg8omwJKQMuhRbbzJUhAxooaTMNgQUCYo8fvbf5FQBMn9zsULUlAVOOlm8RIQ0DGv8+4cNRIQGLzcW2oDENAUAEwnkHjQkA1XrpJDCJJQMed0sH6d0lAbm5MT1guSEC1FfvL7mlIQC0hH/RsdktAo68gzVhgR0AQzNHj9zZHQI+NQLyuM0hACtejcD1KT0Blx0YgXudCQHLcKR2sU0hA7lpCPuilSEDDgZAsYPZJQIW2nEtxXUlAaVch5Se9QUBX7C+7J99CQPzjvWplpkpAMXxETIk0SECpnzcVqZhIQNNNYhBYfUtApKXydoQPQ0B4l4v4TuhCQIY97fDXEENAJvxSP28OS0CPjUC8rjNIQBDM0eP3NkdAamrZWl94TEAdd0oH69dEQM9r7BLVt0JAHqfoSC7jQkDJcad0sMJKQHMR34lZD09AdavnpPcRS0BsJt9sc+NJQHLcKR2sU0hA11HVBFHvREA5Yi0+BURLQA==",
          "dtype": "f8"
         },
         "lon": {
          "bdata": "AFKbOLndV8B5I/PIH+xXwH506spn2VfA7DTSUnlhVsDsNNJSeWFWwOpb5nRZblPA6lvmdFluU8ADste7P4ZTwEt2bATiU1TAA5Xx7zM8WsDZCMTr+mdUwPM8uDtrxV3A8zy4O2vFXcDFG5lH/ixTwMI0DB8RTVTAxm00gLd6XMANiXssfeBXwGUZ4lgXE1/AzemymNggWsDfiVkvhvpewM3pspjYIFrAybCKNzJvWsDNzMzMzIhSwPg2/dmPvlLA+Db92Y++UsDNzMzMzIhSwDoGZK93S1TAmus00lKDVMCWIY51cZNVwDoGZK93S1TAAmVTrvBwW8C2+BQA4xFPwKFKzR5oU1TAoUrNHmhTVMDk9zb92SddwP/nMF9eqljAu37Bbtj8U8CjryDNWF5awIC3QILiyVHA7nw/NV6eU8ALmMCtuy9dwClcj8L16FDAJNbiUwBAVMCOAdnr3SFTwNydtdsuSlvAzczMzMwMUMCbIOo+AFFQwMGLvoI0ZV3APrMkQE3pWMAGu2Hbor5XwK9fsBu2VVzAYygn2lWcU8Bmg0wycmRcwGMoJ9pVnFPAqB3+mqwlXMBtHLEWn4RgwGJnCp3XYF3AWKg1zTtCXcC9xi5RvaFUwHReY5eodFzAS1mGONanU8DEX5M16vtYwExPWOIBd1TAS1mGONanU8CdS3FV2T1UwLyuX7AbQlnAvK5fsBtCWcBMT1jiAXdUwMRfkzXq+1jAjXqIRneEXcDRlnMprhBcwPM8uDtrUV3Aou4DkNpiXcBbsb/snmhXwBsqxvmb9lLAb7vQXKdHV8DCNAwfEWlRwG/1nPS+/1XAwjQMHxFpUcBvu9Bcp0dXwGGJB5RNsVfAKNU+HY/TVcBbsb/snmhXwESoUrMH6FDANUbrqGr4VcD+1HjpJt9XwObLC7CPHFrAXoB9dOraVcCU+x2KAudXwH41BwjmeFjAXaeRlsqDXcBhTzv8NUtbwEiKyLCKh1zAfjUHCOZ4WMD1Zz9SRERUwMvW+iKhV1TAgJ9x4UAMT8D1Zz9SRERUwO7rwDkjRFPAyatzDMjmUsBGmQ0yyeZZwBzw+WGEXl3AFXR7SWNXV8BslWBxOEFUwF6AfXTq2lXASKeufJZVVMC2SrA4nBtgwJT7HYoC51fAHZQw0/bbV8CvlGWIY/1WwANDVrd63lLAyatzDMjmUsCAn3HhQAxPwEj5SbVP013AlPsdigLnV8Dhl/p5U1ldwBaHM7+a7VjAH4DUJk4qV8CbyTfb3OpZwLZKsDicG2DAy9b6IqFXVMCuKvuuCApTwGyVYHE4QVTAahg+IqYaXcBsCfmgZ39QwMFWCRaHG1bAgpAsYAJvW8CVDtb/OcZZwJ0Rpb3BU13Auw9AahNlXcBv05/9SKVXwFmGONbF61bACoUIOISMU8BIp658llVUwH/7OnDOVl/ADWyVYHF+V8CRYRVvZFZUwI2XbhKDUFTA46WbxCBgXMD68gLso2VdwJKumXyzM1TAJjYf14b8VcCafLPNjT9TwMSUSKKXuVLA65Cb4QbiXMBhjh6/t2FdwIzWUdUEH1LAdTxmoDJ0U8AOZ341B8hZwIofY+5aTl3ATP28qUhbXcD4Nv3Zj3ZdwMpPqn06UFvAH2gFhqzKWMCNl24Sg1BUwJFhFW9kVlTAp5GWytsXUcCoABjPoKNcwONTAIxnWl3A26LMBplgXcCrCaLuA3xSwO22C811JlzABARz9PhDXcBnRGlv8HtcwJKumXyzM1TAvmplwi9TWsBKmGn7V4ZewA==",
          "dtype": "f8"
         },
         "marker": {
          "size": 8,
          "symbol": "circle"
         },
         "mode": "markers+text",
         "name": "Cluster 0",
         "textposition": "bottom center",
         "type": "scattergeo"
        },
        {
         "lat": [
          46.18,
          46.22531
         ],
         "line": {
          "color": "gray",
          "width": 2
         },
         "lon": [
          -67.64,
          -67.62547
         ],
         "mode": "lines",
         "showlegend": false,
         "type": "scattergeo"
        },
        {
         "lat": [
          46.22531,
          48.54277
         ],
         "line": {
          "color": "gray",
          "width": 2
         },
         "lon": [
          -67.62547,
          -71.15445
         ],
         "mode": "lines",
         "showlegend": false,
         "type": "scattergeo"
        },
        {
         "lat": [
          48.54277,
          48.8276
         ],
         "line": {
          "color": "gray",
          "width": 2
         },
         "lon": [
          -71.15445,
          -81.33731
         ],
         "mode": "lines",
         "showlegend": false,
         "type": "scattergeo"
        },
        {
         "customdata": [
          [
           5300,
           "Canalask",
           "Nickel, Copper, Platinum, Gold, Palladium",
           "Nickel"
          ],
          [
           79469,
           "Nickel Shaw",
           "Nickel, Copper, Platinum, Palladium, Gold, Cobalt, Rhodium, Iridium, Ruthenium, Osmium, Magnesium",
           "Cobalt"
          ],
          [
           1435029,
           "Nickel Shaw",
           "Nickel, Copper, Platinum, Palladium, Gold, Cobalt, Rhodium, Iridium, Ruthenium, Osmium, Magnesium",
           "Nickel"
          ],
          [
           285763,
           "Nikolai",
           "Nickel, Copper, Cobalt, Platinum, Palladium, Gold, Iron Ore, Chromite, Silver",
           "Cobalt"
          ],
          [
           3675002,
           "Nikolai",
           "Nickel, Copper, Cobalt, Platinum, Palladium, Gold, Iron Ore, Chromite, Silver",
           "Nickel"
          ]
         ],
         "hovertemplate": "<b>%{customdata[1]}</b><br>Latitude: %{lat}<br>Longitude: %{lon}<br>Commodities: %{customdata[2]}<br>Primary Commodity: %{customdata[3]}<br>Reserves: %{customdata[0]:,.0f} tonnes",
         "lat": {
          "bdata": "HQOy17v7TkAdA7LXu7tOQB0Dste7u05AyCQjZ2GjT0DIJCNnYaNPQA==",
          "dtype": "f8"
         },
         "lon": {
          "bdata": "AAAAAACQYcA5fxMKEXFhwDl/EwoRcWHA5ZttbkxJYsDlm21uTEliwA==",
          "dtype": "f8"
         },
         "marker": {
          "size": 8,
          "symbol": "circle"
         },
         "mode": "markers+text",
         "name": "Cluster 1",
         "textposition": "bottom center",
         "type": "scattergeo"
        },
        {
         "lat": [
          63.27641,
          61.46667
         ],
         "line": {
          "color": "gray",
          "width": 2
         },
         "lon": [
          -146.29058,
          -139.53333
         ],
         "mode": "lines",
         "showlegend": false,
         "type": "scattergeo"
        },
        {
         "lat": [
          61.46667,
          61.96667
         ],
         "line": {
          "color": "gray",
          "width": 2
         },
         "lon": [
          -139.53333,
          -140.5
         ],
         "mode": "lines",
         "showlegend": false,
         "type": "scattergeo"
        },
        {
         "customdata": [
          [
           41000,
           "Cyclops",
           "Nickel, Cobalt, Iron Ore",
           "Cobalt"
          ],
          [
           485000,
           "Cyclops",
           "Nickel, Cobalt, Iron Ore",
           "Nickel"
          ],
          [
           145300,
           "Mambare",
           "Nickel, Iron Ore, Cobalt",
           "Cobalt"
          ],
          [
           1530000,
           "Mambare",
           "Nickel, Iron Ore, Cobalt",
           "Nickel"
          ],
          [
           891000,
           "Wowo Gap",
           "Nickel, Cobalt, Gold, Platinum, Palladium, Chromite, Manganese",
           "Nickel"
          ],
          [
           66000,
           "Wowo Gap",
           "Nickel, Cobalt, Gold, Platinum, Palladium, Chromite, Manganese",
           "Cobalt"
          ],
          [
           161000,
           "Ramu",
           "Nickel, Cobalt, Chromite",
           "Cobalt"
          ],
          [
           1402000,
           "Ramu",
           "Nickel, Cobalt, Chromite",
           "Nickel"
          ],
          [
           561000,
           "Siduarsi",
           "Nickel, Cobalt, Iron Ore",
           "Nickel"
          ],
          [
           52000,
           "Siduarsi",
           "Nickel, Cobalt, Iron Ore",
           "Cobalt"
          ]
         ],
         "hovertemplate": "<b>%{customdata[1]}</b><br>Latitude: %{lat}<br>Longitude: %{lon}<br>Commodities: %{customdata[2]}<br>Primary Commodity: %{customdata[3]}<br>Reserves: %{customdata[0]:,.0f} tonnes",
         "lat": {
          "bdata": "eUDZlCu8A8B5QNmUK7wDwFWH3Aw3kCHAVYfcDDeQIcDymIHK+BcjwPKYgcr4FyPASOF6FK5HFsBI4XoUrkcWwKDDfHkBNgLAoMN8eQE2AsA=",
          "dtype": "f8"
         },
         "lon": {
          "bdata": "NC4cCMmLYUA0LhwIyYthQJYmpaDbd2JAlialoNt3YkBjYvNxbZ1iQGNi83FtnWJACtejcD0mYkAK16NwPSZiQKabxCCwYmFAppvEILBiYUA=",
          "dtype": "f8"
         },
         "marker": {
          "size": 8,
          "symbol": "circle"
         },
         "mode": "markers+text",
         "name": "Cluster 2",
         "textposition": "bottom center",
         "type": "scattergeo"
        },
        {
         "lat": [
          -8.78167,
          -9.54682
         ],
         "line": {
          "color": "gray",
          "width": 2
         },
         "lon": [
          147.74556,
          148.91961
         ],
         "mode": "lines",
         "showlegend": false,
         "type": "scattergeo"
        },
        {
         "customdata": [
          [
           2690000,
           "Pomalaa East",
           "Nickel, Cobalt",
           "Nickel"
          ],
          [
           451000,
           "Morowali",
           "Nickel",
           "Nickel"
          ],
          [
           1938000,
           "Maba",
           "Nickel",
           "Nickel"
          ],
          [
           2624400,
           "La Sampala",
           "Nickel, Cobalt",
           "Nickel"
          ],
          [
           4801890,
           "Hanking Group",
           "Nickel, Iron Ore",
           "Nickel"
          ],
          [
           173000,
           "Jikodolong",
           "Nickel, Cobalt, Iron Ore, Magnesium",
           "Nickel"
          ],
          [
           1790000,
           "Kawasi",
           "Nickel, Copper, Iron Ore, Magnesium, Chromium, Aluminum, Manganese, Chromite",
           "Nickel"
          ],
          [
           3700000,
           "Hengjaya",
           "Nickel, Cobalt",
           "Nickel"
          ],
          [
           270000,
           "Hengjaya",
           "Nickel, Cobalt",
           "Cobalt"
          ],
          [
           13600,
           "Jikodolong",
           "Nickel, Cobalt, Iron Ore, Magnesium",
           "Cobalt"
          ],
          [
           74300,
           "Loji",
           "Nickel, Cobalt, Iron Ore, Magnesium, Chromium, Aluminum, Manganese, Chromite",
           "Cobalt"
          ],
          [
           763000,
           "Loji",
           "Nickel, Cobalt, Iron Ore, Magnesium, Chromium, Aluminum, Manganese, Chromite",
           "Nickel"
          ],
          [
           3790000,
           "Gag Island",
           "Nickel, Iron Ore, Cobalt, Magnesium",
           "Nickel"
          ],
          [
           344200,
           "Pomalaa",
           "Nickel, Iron Ore, Cobalt, Magnesium",
           "Cobalt"
          ],
          [
           815756,
           "Sorowako",
           "Nickel, Cobalt",
           "Cobalt"
          ],
          [
           121180,
           "Tapunopaka",
           "Nickel, Iron Ore, Cobalt, Magnesium",
           "Cobalt"
          ],
          [
           9043560,
           "Pomalaa",
           "Nickel, Iron Ore, Cobalt, Magnesium",
           "Nickel"
          ],
          [
           193000,
           "Sulawesi Cahaya Mineral",
           "Nickel, Cobalt",
           "Cobalt"
          ],
          [
           187000,
           "Gag Island",
           "Nickel, Iron Ore, Cobalt, Magnesium",
           "Cobalt"
          ],
          [
           19480722,
           "Sorowako",
           "Nickel, Cobalt",
           "Nickel"
          ],
          [
           2444000,
           "Sulawesi Cahaya Mineral",
           "Nickel, Cobalt",
           "Nickel"
          ],
          [
           2505400,
           "Tapunopaka",
           "Nickel, Iron Ore, Cobalt, Magnesium",
           "Nickel"
          ],
          [
           2321000,
           "Sampala",
           "Nickel, Cobalt, Iron Ore",
           "Nickel"
          ],
          [
           18480000,
           "Weda Bay",
           "Nickel, Cobalt",
           "Nickel"
          ],
          [
           174000,
           "Sampala",
           "Nickel, Cobalt, Iron Ore",
           "Cobalt"
          ]
         ],
         "hovertemplate": "<b>%{customdata[1]}</b><br>Latitude: %{lat}<br>Longitude: %{lon}<br>Commodities: %{customdata[2]}<br>Primary Commodity: %{customdata[3]}<br>Reserves: %{customdata[0]:,.0f} tonnes",
         "lat": {
          "bdata": "g92wbVHmEMCuR+F6FK4FwKpgVFInoOY//dmPFJGhBcDUQzS6g5gMwJM6AU2EDfe/dEF9y5wu+b+FX+rnTYUHwIVf6udNhQfAkzoBTYQN978iwyreyDz5vyLDKt7IPPm/lWWIY13c3L/JsIo3Mu8QwLNBJhk5iwTApN++DpyzC8DJsIo3Mu8QwMb5m1CIAAjAlWWIY13c3L+zQSYZOYsEwMb5m1CIAAjApN++DpyzC8CfjscMVAYHwDihEAGHUOA/n47HDFQGB8A=",
          "dtype": "f8"
         },
         "lon": {
          "bdata": "S7A4nPlrXkCF61G4Hn1eQAWjkjoBA2BAgXhdv2B7XkBdM/lmm39eQGVwlLw64V9Aqpog6j7cX0Di6ZWyDI9eQOLplbIMj15AZXCUvDrhX0CLcf4mFNxfQItx/iYU3F9AtLCnHf47YEC05VyKq2ZeQGuCqPsAWF5AkWEVb2SSXkC05VyKq2ZeQFg5tMh2dF5AtLCnHf47YEBrgqj7AFheQFg5tMh2dF5AkWEVb2SSXkB8fhghPHJeQGt9kdCW/V9AfH4YITxyXkA=",
          "dtype": "f8"
         },
         "marker": {
          "size": 8,
          "symbol": "circle"
         },
         "mode": "markers+text",
         "name": "Cluster 3",
         "textposition": "bottom center",
         "type": "scattergeo"
        },
        {
         "lat": [
          -2.56798,
          -4.23359
         ],
         "line": {
          "color": "gray",
          "width": 2
         },
         "lon": [
          121.37506,
          121.60422
         ],
         "mode": "lines",
         "showlegend": false,
         "type": "scattergeo"
        },
        {
         "lat": [
          -4.23359,
          -4.22492
         ],
         "line": {
          "color": "gray",
          "width": 2
         },
         "lon": [
          121.60422,
          121.68711
         ],
         "mode": "lines",
         "showlegend": false,
         "type": "scattergeo"
        },
        {
         "lat": [
          -4.22492,
          -3.57447
         ],
         "line": {
          "color": "gray",
          "width": 2
         },
         "lon": [
          121.68711,
          121.99386
         ],
         "mode": "lines",
         "showlegend": false,
         "type": "scattergeo"
        },
        {
         "lat": [
          -3.57447,
          -3.4627
         ],
         "line": {
          "color": "gray",
          "width": 2
         },
         "lon": [
          121.99386,
          122.28738
         ],
         "mode": "lines",
         "showlegend": false,
         "type": "scattergeo"
        },
        {
         "lat": [
          -3.4627,
          -2.94009
         ],
         "line": {
          "color": "gray",
          "width": 2
         },
         "lon": [
          122.28738,
          122.23515
         ],
         "mode": "lines",
         "showlegend": false,
         "type": "scattergeo"
        },
        {
         "lat": [
          -2.94009,
          -2.70389
         ],
         "line": {
          "color": "gray",
          "width": 2
         },
         "lon": [
          122.23515,
          121.92778
         ],
         "mode": "lines",
         "showlegend": false,
         "type": "scattergeo"
        },
        {
         "lat": [
          -2.70389,
          -2.71
         ],
         "line": {
          "color": "gray",
          "width": 2
         },
         "lon": [
          121.92778,
          121.955
         ],
         "mode": "lines",
         "showlegend": false,
         "type": "scattergeo"
        },
        {
         "lat": [
          -2.71,
          -2.87809
         ],
         "line": {
          "color": "gray",
          "width": 2
         },
         "lon": [
          121.955,
          121.78492
         ],
         "mode": "lines",
         "showlegend": false,
         "type": "scattergeo"
        },
        {
         "lat": [
          -2.87809,
          -3.00026
         ],
         "line": {
          "color": "gray",
          "width": 2
         },
         "lon": [
          121.78492,
          121.81975
         ],
         "mode": "lines",
         "showlegend": false,
         "type": "scattergeo"
        },
        {
         "lat": [
          -3.00026,
          0.50983
         ],
         "line": {
          "color": "gray",
          "width": 2
         },
         "lon": [
          121.81975,
          127.96233
         ],
         "mode": "lines",
         "showlegend": false,
         "type": "scattergeo"
        },
        {
         "lat": [
          0.50983,
          0.70705
         ],
         "line": {
          "color": "gray",
          "width": 2
         },
         "lon": [
          127.96233,
          128.0939
         ],
         "mode": "lines",
         "showlegend": false,
         "type": "scattergeo"
        },
        {
         "lat": [
          0.70705,
          -0.45095
         ],
         "line": {
          "color": "gray",
          "width": 2
         },
         "lon": [
          128.0939,
          129.87477
         ],
         "mode": "lines",
         "showlegend": false,
         "type": "scattergeo"
        },
        {
         "lat": [
          -0.45095,
          -1.57388
         ],
         "line": {
          "color": "gray",
          "width": 2
         },
         "lon": [
          129.87477,
          127.44134
         ],
         "mode": "lines",
         "showlegend": false,
         "type": "scattergeo"
        },
        {
         "customdata": [
          [
           3900,
           "Miriam",
           "Lithium, Nickel, Spodumene, Gold, Caesium, Tantalum, Tin",
           "Nickel"
          ],
          [
           1700,
           "Mt Jewell",
           "Nickel",
           "Nickel"
          ],
          [
           192000,
           "Irwin-Coglia",
           "Nickel, Cobalt, Copper",
           "Nickel"
          ],
          [
           8300,
           "Leinster",
           "Nickel, Copper, Platinum, Palladium, Gold",
           "Nickel"
          ],
          [
           23000,
           "Irwin-Coglia",
           "Nickel, Cobalt, Copper",
           "Cobalt"
          ],
          [
           14780,
           "Goodyear",
           "Nickel, Lithium, Lanthanides, Gold, Copper",
           "Nickel"
          ],
          [
           132200,
           "Leinster Tailings",
           "Nickel",
           "Nickel"
          ],
          [
           14200000,
           "Hendeka",
           "Manganese",
           "Manganese"
          ],
          [
           20000000,
           "Nicholas Downs",
           "Manganese",
           "Manganese"
          ],
          [
           235150,
           "Charley Creek",
           "Lanthanides, U3O8, Scandium, Aluminum, Ilmenite, Rutile, Zircon",
           "Lanthanides"
          ],
          [
           1403000,
           "Avalon",
           "Nickel, Cobalt",
           "Nickel"
          ],
          [
           1800,
           "Lake Johnston",
           "Nickel, Cobalt, Copper, Lithium, Tantalum, Gold, Caesium, Spodumene, Magnesium, Platinum, Palladium, Niobium, Tin",
           "Cobalt"
          ],
          [
           52000,
           "Lake Johnston",
           "Nickel, Cobalt, Copper, Lithium, Tantalum, Gold, Caesium, Spodumene, Magnesium, Platinum, Palladium, Niobium, Tin",
           "Nickel"
          ],
          [
           19900,
           "Bluebush Line",
           "Nickel",
           "Nickel"
          ],
          [
           3000,
           "Carnilya Hill",
           "Nickel, Gold",
           "Nickel"
          ],
          [
           9314,
           "Collurabbie Hills",
           "Nickel, Copper, Platinum, Palladium, Gold, Cobalt",
           "Nickel"
          ],
          [
           1031200,
           "Yerilla",
           "Nickel, Cobalt",
           "Nickel"
          ],
          [
           74200,
           "Yerilla",
           "Nickel, Cobalt",
           "Cobalt"
          ],
          [
           1200,
           "Windarra",
           "Nickel, Gold, Cobalt, Copper",
           "Cobalt"
          ],
          [
           470,
           "Collurabbie Hills",
           "Nickel, Copper, Platinum, Palladium, Gold, Cobalt",
           "Cobalt"
          ],
          [
           148000,
           "Windarra",
           "Nickel, Gold, Cobalt, Copper",
           "Nickel"
          ],
          [
           16200,
           "Sinclair",
           "Nickel, Copper, Cobalt, Gold",
           "Nickel"
          ],
          [
           99200,
           "Sherlock Bay",
           "Nickel, Copper, Cobalt, Lead, Platinum, Palladium, Gold, Lithium, Caesium, Tantalum, Rubidium, Gallium",
           "Nickel"
          ],
          [
           5400,
           "Sherlock Bay",
           "Nickel, Copper, Cobalt, Lead, Platinum, Palladium, Gold, Lithium, Caesium, Tantalum, Rubidium, Gallium",
           "Cobalt"
          ],
          [
           11300,
           "Quicksilver",
           "Nickel, Cobalt, Copper, Scandium, Cerium, Lanthanum, Lanthanides, Chromite, Iron Ore, Yttrium, Neodymium, Praseodymium, Samarium, Gadolinium, Dysprosium, Erbium, Gold, Chromium, Manganese, Alumina",
           "Cobalt"
          ],
          [
           168500,
           "Quicksilver",
           "Nickel, Cobalt, Copper, Scandium, Cerium, Lanthanum, Lanthanides, Chromite, Iron Ore, Yttrium, Neodymium, Praseodymium, Samarium, Gadolinium, Dysprosium, Erbium, Gold, Chromium, Manganese, Alumina",
           "Nickel"
          ],
          [
           1376,
           "Ruth Well",
           "Nickel, Copper, Lithium, Tantalum, Niobium",
           "Nickel"
          ],
          [
           4300,
           "Coronation Dam",
           "Cobalt, Nickel",
           "Cobalt"
          ],
          [
           7200,
           "Grey Dam",
           "Nickel, Cobalt, Copper, Gold",
           "Cobalt"
          ],
          [
           900,
           "Ghan Well",
           "Nickel, Cobalt",
           "Cobalt"
          ],
          [
           11900,
           "Ghan Well",
           "Nickel, Cobalt",
           "Nickel"
          ],
          [
           110000,
           "Grey Dam",
           "Nickel, Cobalt, Copper, Gold",
           "Nickel"
          ],
          [
           145000,
           "Buldania",
           "Lithium, Tantalum, Caesium",
           "Lithium"
          ],
          [
           483000,
           "Altura",
           "Lithium, Tantalum, Iron Ore, Spodumene, Gold, Silver, Copper",
           "Lithium"
          ],
          [
           7800000,
           "Mesa",
           "Manganese, Iron Ore",
           "Manganese"
          ],
          [
           56700,
           "Coronation Dam",
           "Cobalt, Nickel",
           "Nickel"
          ],
          [
           83200,
           "Brockman",
           "Lanthanides, Niobium, Tantalum, Yttrium, Dysprosium, Zircon, Ferrochrome, Gadolinium, Terbium, Holmium, Erbium, Thulium, Ytterbium, Lutetium, Chromite",
           "Lanthanides"
          ],
          [
           1463000,
           "Nolans Bore",
           "Lanthanides, Phosphate, U3O8, Neodymium, Praseodymium, Cerium",
           "Lanthanides"
          ],
          [
           57500000,
           "Hill 616",
           "Manganese, Gold, Zinc, U3O8, Lead, Iron Ore",
           "Manganese"
          ],
          [
           85000,
           "Mt Clere",
           "Lanthanides, Rutile, Zircon, Ilmenite, Leucoxene, Gold, Nickel, Copper, Cobalt, Platinum, Palladium, U3O8, Thorium, Cerium, Lithium, Caesium, Tellurium, Niobium, Yttrium",
           "Lanthanides"
          ],
          [
           5700,
           "Carr Boyd",
           "Nickel, Copper, Platinum, Palladium, Cobalt, Silver, Gold, Lithium",
           "Nickel"
          ],
          [
           101200,
           "South Kambalda",
           "Nickel, Cobalt, Copper, Gold, Platinum, Palladium, Silver",
           "Nickel"
          ],
          [
           180000,
           "Marble Bar",
           "Lithium, Spodumene, Gold, Tin, Tantalum, Iron Ore",
           "Lithium"
          ],
          [
           129000,
           "Pioneer Dome",
           "Lithium, Caesium, Tantalum, Copper, Nickel, Tin, Rubidium, Potash, Spodumene, Beryllium, Zinc",
           "Lithium"
          ],
          [
           300,
           "Carr Boyd",
           "Nickel, Copper, Platinum, Palladium, Cobalt, Silver, Gold, Lithium",
           "Cobalt"
          ],
          [
           82,
           "Nepean",
           "Nickel, Copper, Lithium, Caesium, Tantalum, Cobalt, Spodumene, Platinum, Palladium, Tin",
           "Cobalt"
          ],
          [
           20995,
           "Saints",
           "Nickel, Gold, Copper, Cobalt, Platinum, Palladium",
           "Nickel"
          ],
          [
           3115,
           "Duketon",
           "Nickel, Copper, Platinum, Palladium, Cobalt, Gold, Lanthanides, Lithium, U3O8, Thorium, Silver, Zinc, Lead, Iron Ore",
           "Cobalt"
          ],
          [
           56000,
           "North Kambalda",
           "Nickel, Cobalt, Copper, Gold, Platinum, Palladium, Silver",
           "Nickel"
          ],
          [
           3625,
           "Nepean",
           "Nickel, Copper, Lithium, Caesium, Tantalum, Cobalt, Spodumene, Platinum, Palladium, Tin",
           "Nickel"
          ],
          [
           8300,
           "Gabanintha",
           "Nickel, Copper, Cobalt, Silver, Gold",
           "Cobalt"
          ],
          [
           631,
           "Saints",
           "Nickel, Gold, Copper, Cobalt, Platinum, Palladium",
           "Cobalt"
          ],
          [
           134100,
           "Fisher East",
           "Nickel, Copper, Palladium, Platinum, Gold, Cobalt",
           "Nickel"
          ],
          [
           28000,
           "Gabanintha",
           "Nickel, Copper, Cobalt, Silver, Gold",
           "Nickel"
          ],
          [
           102527,
           "Duketon",
           "Nickel, Copper, Platinum, Palladium, Cobalt, Gold, Lanthanides, Lithium, U3O8, Thorium, Silver, Zinc, Lead, Iron Ore",
           "Nickel"
          ],
          [
           2936,
           "Gascoyne",
           "Lanthanides, Neodymium, Praseodymium, Niobium, Thorium",
           "Lanthanides"
          ],
          [
           176650000,
           "Oakover",
           "Manganese, Iron Ore, Alumina, Barite, Silica",
           "Manganese"
          ],
          [
           1200000,
           "Woodie Woodie North",
           "Manganese, Iron Ore",
           "Manganese"
          ],
          [
           84240,
           "Mt Sholl",
           "Nickel, Copper, Cobalt, Platinum, Palladium, Gold, Silver, Lithium, Caesium, Tantalum",
           "Nickel"
          ],
          [
           6600000,
           "Greenbushes",
           "Lithium, Tantalum, Spodumene, Tin",
           "Lithium"
          ],
          [
           2060000,
           "Wodgina",
           "Lithium, Spodumene, Iron Ore, Tantalum",
           "Lithium"
          ],
          [
           283000,
           "Mt Thirsty",
           "Cobalt, Nickel, Manganese, Magnesium, Lithium, Aluminum, Zinc, Iron Ore, Palladium, Platinum, Gold, Copper, Rhodium, Caesium, Tantalum, Scandium",
           "Nickel"
          ],
          [
           29500,
           "Wiluna",
           "Nickel, Cobalt, Magnesium, Gold",
           "Cobalt"
          ],
          [
           26600,
           "Norseman",
           "Cobalt, Palladium, Platinum, Gold, Rhodium, Lithium, Nickel, Manganese, Copper, Silver, Zinc, Lead, Iron Ore",
           "Cobalt"
          ],
          [
           14000,
           "Savannah",
           "Nickel, Copper, Cobalt, Vanadium, Titanium, Iron Ore, Graphite",
           "Cobalt"
          ],
          [
           40500,
           "Mt Thirsty",
           "Cobalt, Nickel, Manganese, Magnesium, Lithium, Aluminum, Zinc, Iron Ore, Palladium, Platinum, Gold, Copper, Rhodium, Caesium, Tantalum, Scandium",
           "Cobalt"
          ],
          [
           2560000,
           "Murrin Murrin",
           "Nickel, Cobalt",
           "Nickel"
          ],
          [
           65200,
           "Niwest",
           "Nickel, Cobalt",
           "Cobalt"
          ],
          [
           311000,
           "Kalgoorlie",
           "Nickel, Cobalt, Copper, Platinum, Palladium, Gold, Scandium, Chromium, Manganese, Vanadium, Aluminum, Silver, Lanthanides, Chromite, Lithium, Caesium, Tantalum, Yttrium, Cerium, Lanthanum, Neodymium, Praseodymium",
           "Cobalt"
          ],
          [
           570000,
           "Wiluna",
           "Nickel, Cobalt, Magnesium, Gold",
           "Nickel"
          ],
          [
           2737000,
           "Mt Holland - Lithium",
           "Lithium, Tantalum, Spodumene, Iron Ore",
           "Lithium"
          ],
          [
           971000,
           "Niwest",
           "Nickel, Cobalt",
           "Nickel"
          ],
          [
           157500,
           "Norseman",
           "Cobalt, Palladium, Platinum, Gold, Rhodium, Lithium, Nickel, Manganese, Copper, Silver, Zinc, Lead, Iron Ore",
           "Nickel"
          ],
          [
           105900,
           "Nova-Bollinger",
           "Nickel, Copper, Cobalt, Platinum, Silver",
           "Nickel"
          ],
          [
           222191,
           "Black Swan",
           "Nickel, Copper, Cobalt, Arsenic, Gold, Iron Ore",
           "Nickel"
          ],
          [
           154900,
           "Carlingup",
           "Nickel, Copper, Cobalt, Platinum, Palladium, Chromium, Lead, Zinc, Gold, Silver, Lithium, Caesium, Tantalum, Niobium, Chromite, Tin, Gallium, Rubidium",
           "Nickel"
          ],
          [
           135000,
           "Murrin Murrin",
           "Nickel, Cobalt",
           "Cobalt"
          ],
          [
           3500,
           "Nova-Bollinger",
           "Nickel, Copper, Cobalt, Platinum, Silver",
           "Cobalt"
          ],
          [
           3100,
           "Andover",
           "Nickel, Copper, Cobalt, Platinum, Palladium, Lithium, Caesium, Tantalum, Rubidium, Iron Ore, Potash, Silver, Spodumene",
           "Cobalt"
          ],
          [
           5960,
           "Carlingup",
           "Nickel, Copper, Cobalt, Platinum, Palladium, Chromium, Lead, Zinc, Gold, Silver, Lithium, Caesium, Tantalum, Niobium, Chromite, Tin, Gallium, Rubidium",
           "Cobalt"
          ],
          [
           2700,
           "King Tamba",
           "Lithium, Tantalum, Niobium, Rubidium, Caesium, Tin, Beryllium, Tungsten, Nickel, Cobalt, Zinc, Molybdenum, Arsenic",
           "Lithium"
          ],
          [
           58000,
           "Bynoe",
           "Lithium",
           "Lithium"
          ],
          [
           27400,
           "Rockford",
           "Nickel, Copper, Gold, Cobalt, Silver, Zinc, Lead",
           "Nickel"
          ],
          [
           4844,
           "Black Swan",
           "Nickel, Copper, Cobalt, Arsenic, Gold, Iron Ore",
           "Cobalt"
          ],
          [
           216900,
           "Savannah",
           "Nickel, Copper, Cobalt, Vanadium, Titanium, Iron Ore, Graphite",
           "Nickel"
          ],
          [
           1640,
           "Rockford",
           "Nickel, Copper, Gold, Cobalt, Silver, Zinc, Lead",
           "Cobalt"
          ],
          [
           5079000,
           "Kalgoorlie",
           "Nickel, Cobalt, Copper, Platinum, Palladium, Gold, Scandium, Chromium, Manganese, Vanadium, Aluminum, Silver, Lanthanides, Chromite, Lithium, Caesium, Tantalum, Yttrium, Cerium, Lanthanum, Neodymium, Praseodymium",
           "Nickel"
          ],
          [
           50,
           "Spargoville",
           "Nickel, Gold, Lithium, Cobalt, Copper, Lead, Platinum, Palladium, Arsenic, Iron Ore",
           "Cobalt"
          ],
          [
           66400,
           "Andover",
           "Nickel, Copper, Cobalt, Platinum, Palladium, Lithium, Caesium, Tantalum, Rubidium, Iron Ore, Potash, Silver, Spodumene",
           "Nickel"
          ],
          [
           2337,
           "Mt Sholl",
           "Nickel, Copper, Cobalt, Platinum, Palladium, Gold, Silver, Lithium, Caesium, Tantalum",
           "Cobalt"
          ],
          [
           246000,
           "Yinnetharra",
           "Lithium, Tantalum, Caesium, Iron Ore",
           "Lithium"
          ],
          [
           2370,
           "Spargoville",
           "Nickel, Gold, Lithium, Cobalt, Copper, Lead, Platinum, Palladium, Arsenic, Iron Ore",
           "Nickel"
          ],
          [
           153000,
           "Mt Cattlin",
           "Lithium, Tantalum, Copper, Gold, Niobium, Spodumene, Silica, Zinc, Lead, Manganese",
           "Lithium"
          ],
          [
           312000000,
           "Oakover",
           "Manganese, Copper, Cobalt, Iron Ore, Gold, Silver, Palladium, Platinum",
           "Manganese"
          ],
          [
           20000,
           "Burraccopin",
           "Lanthanides, Kaolin",
           "Lanthanides"
          ],
          [
           4659000,
           "Pilgangoora",
           "Lithium, Spodumene, Tantalum",
           "Lithium"
          ],
          [
           965000,
           "Julimar",
           "Nickel, Copper, Palladium, Platinum, Gold, Cobalt, Rhodium, Iridium, Silver",
           "Nickel"
          ],
          [
           510000,
           "Jericho",
           "Nickel",
           "Nickel"
          ],
          [
           606900,
           "Finniss",
           "Lithium, Spodumene, Tin, Tantalum, Niobium",
           "Lithium"
          ],
          [
           514000,
           "Manna",
           "Lithium, Caesium, Tantalum, Spodumene, Lanthanides, Neodymium, Praseodymium",
           "Lithium"
          ],
          [
           2913,
           "Mt Edwards",
           "Nickel, Copper, Iron Ore, Cobalt, Palladium, Platinum, Gold, Lithium, Magnesium, Caesium, Tantalum, Arsenic",
           "Cobalt"
          ],
          [
           1224000,
           "Honeymoon Well",
           "Nickel, Cobalt",
           "Nickel"
          ],
          [
           85680,
           "Split Rocks",
           "Lithium, Gold, Cobalt, Nickel, Scandium, Iron Ore, Niobium, Tin, Tantalum, Caesium",
           "Lithium"
          ],
          [
           740200,
           "Tabba Tabba",
           "Lithium, Tantalum, Iron Ore",
           "Lithium"
          ],
          [
           5268,
           "Pardoo-Highway",
           "Nickel, Copper, Cobalt, Palladium",
           "Cobalt"
          ],
          [
           13400,
           "Mt Edwards",
           "Nickel, Copper, Iron Ore, Cobalt, Palladium, Platinum, Gold, Lithium, Magnesium, Caesium, Tantalum, Arsenic",
           "Lithium"
          ],
          [
           2500,
           "Mt Edon",
           "Lithium, Tantalum, Caesium, Rubidium, Beryl, Niobium, Lanthanides, Potash",
           "Lithium"
          ],
          [
           67005,
           "Pardoo-Highway",
           "Nickel, Copper, Cobalt, Palladium",
           "Nickel"
          ],
          [
           95900,
           "Julimar",
           "Nickel, Copper, Palladium, Platinum, Gold, Cobalt, Rhodium, Iridium, Silver",
           "Cobalt"
          ],
          [
           105753,
           "Central Musgrave",
           "Nickel, Cobalt, Iron Ore, Platinum, Palladium, Scandium, Magnesium, Aluminum, Manganese",
           "Cobalt"
          ],
          [
           880000,
           "Mount Marion",
           "Lithium, Iron Ore, Spodumene, Magnesium",
           "Lithium"
          ],
          [
           2340000,
           "Yakabindie",
           "Nickel, Cobalt",
           "Nickel"
          ],
          [
           202000,
           "Mt Ridley",
           "Lanthanides, Nickel, Copper, Zinc, Platinum, Gold, Silver, Palladium, Rhodium, Cobalt, Lead, U3O8, Thorium, Praseodymium, Neodymium, Terbium, Dysprosium",
           "Lanthanides"
          ],
          [
           263380,
           "Salazar",
           "Lanthanides, Alumina, Neodymium, Praseodymium, Scandium, Dysprosium, Terbium, Cerium, Samarium, Europium, Gadolinium, Holmium, Erbium, Thulium, Ytterbium, Yttrium, Lutetium, Gallium, Potash, Titanium, Iron Ore, Copper, Gold, Silica",
           "Lanthanides"
          ],
          [
           4962181,
           "Mt Weld",
           "Lanthanides, Tantalum, Niobium, Iron Ore, Phosphate, Yttrium, Titanium, Zircon, Cerium, Praseodymium, Neodymium, Alumina, Dysprosium, Terbium, Lanthanum, Samarium, Europium, Gadolinium, Holmium, Erbium, Thulium, Ytterbium, Lutetium",
           "Lanthanides"
          ],
          [
           909000,
           "Splinter Rock",
           "Lanthanides, Rare Earth Elements, Praseodymium, Neodymium, Scandium, Terbium, Dysprosium",
           "Lanthanides"
          ],
          [
           1640000,
           "Cummins Range",
           "Lanthanides, Phosphate, U3O8, Terbium, Rare Earth Elements, Praseodymium, Yttrium, Niobium, Scandium, Aluminum, Neodymium",
           "Lanthanides"
          ],
          [
           37700,
           "Coglia",
           "Nickel, Cobalt, Copper, Gold, Platinum, Palladium, Zinc, Iron Ore, Manganese, Magnesium, Tellurium",
           "Cobalt"
          ],
          [
           2077000,
           "Kathleen Valley",
           "Lithium, Tantalum, Spodumene",
           "Lithium"
          ],
          [
           276955,
           "Yangibana",
           "Lanthanides, Neodymium, Praseodymium, Dysprosium, Europium, Samarium, Gadolinium, Terbium, Holmium, Erbium, Thulium, Ytterbium, Lutetium, Yttrium, Cerium, Lanthanum, Niobium",
           "Lanthanides"
          ],
          [
           113600,
           "Foster",
           "Nickel, Cobalt, Copper, Gold, Palladium, Platinum, Magnesium, Iron Ore, Arsenic",
           "Nickel"
          ],
          [
           190335,
           "Mt Edwards",
           "Nickel, Copper, Iron Ore, Cobalt, Palladium, Platinum, Gold, Lithium, Magnesium, Caesium, Tantalum, Arsenic",
           "Nickel"
          ],
          [
           614200,
           "Coglia",
           "Nickel, Cobalt, Copper, Gold, Platinum, Palladium, Zinc, Iron Ore, Manganese, Magnesium, Tellurium",
           "Nickel"
          ],
          [
           1468,
           "Foster",
           "Nickel, Cobalt, Copper, Gold, Palladium, Platinum, Magnesium, Iron Ore, Arsenic",
           "Cobalt"
          ],
          [
           1697505,
           "Central Musgrave",
           "Nickel, Cobalt, Iron Ore, Platinum, Palladium, Scandium, Magnesium, Aluminum, Manganese",
           "Nickel"
          ],
          [
           12430,
           "Redlings",
           "Lanthanides",
           "Lanthanides"
          ],
          [
           2900000,
           "Brothers",
           "Lanthanides, Dysprosium, Terbium, Thorium, U3O8, Neodymium, Praseodymium, Samarium, Cerium, Europium, Gadolinium, Holmium, Erbium, Thulium, Ytterbium, Yttrium, Lutetium, Lanthanum, Scandium, Phosphate, Barite, Strontium, Potash, Titanium, Zircon, Bauxite, Iron Ore, Magnesium",
           "Lanthanides"
          ],
          [
           90458,
           "Browns Range",
           "Lanthanides, Dysprosium, Yttrium, Terbium, Lutetium, Lanthanum, Praseodymium, Neodymium, Cerium, Europium, Thulium, Holmium, Samarium, Ytterbium, Erbium, Gadolinium, U3O8, Thorium",
           "Lanthanides"
          ]
         ],
         "hovertemplate": "<b>%{customdata[1]}</b><br>Latitude: %{lat}<br>Longitude: %{lon}<br>Commodities: %{customdata[2]}<br>Primary Commodity: %{customdata[3]}<br>Reserves: %{customdata[0]:,.0f} tonnes",
         "lat": {
          "bdata": "r1qZ8EsNP8B1H4DUJi4+wE0tW+uLJD3A7uvAOSMqPMBNLVvriyQ9wLMkQE0tAz/A4e6s3XbRO8CU+x2KAh02wJzEILByyDbAZ/LNNjd2N8CNKO0NvrA+wJ8fRgiPGkDAnx9GCI8aQMAIrBxaZJs/wDz3Hi45Dj/AC0YldQLSOsD8/s2LE7c9wPz+zYsTtz3Asb/snjycPMALRiV1AtI6wLG/7J48nDzASBtHrMVfPMCcilQYW9A0wJyKVBhb0DTAgez17o9jQMCB7PXuj2NAwCAMPPce3jTAy74rgv+FPcDh0cYRa3k+wC1gArfu3jzALWACt+7ePMDh0cYRa3k+wA74/DBCBEDA+ie4WFEDNcBKDAIrhxY2wMu+K4L/hT3AS80eaAVWMsADCYofY5Y2wGO0jqomgDfAR3cQO1OgOcADQ1a3eg4+wM9m1edqsz/AiC6ob5kTNcCeXinLEN8/wANDVrd6Dj7AqDXNO04ZP8DKw0KtaQ4+wGVwlLw6nzvAr84xIHstP8CoNc07Thk/wGWqYFRS7zrAysNCrWkOPsADste7P846wGWqYFRS7zrAZXCUvDqfO8DNzMzMzPw3wAStwJDVTTfAbf/KSpMSNcDEd2LWi+k0wBPVWwNb7UDAG9gqweIwNcCTGARWDg1AwAAAAAAAgDrAKld4l4sMQMBvL2mM1lkxwJMYBFYODUDAW18ktOXEPMB2MjhKXq08wPXWwFYJJj7AAAAAAACAOsCfk943vgpAwHYyOEperTzAKld4l4sMQMDjNhrAW9A/wNrhr8kaZT7A0zB8REzNQMBbXyS05cQ8wOM2GsBb0D/A+64I/rfaNMDTMHxETM1AwMx6MZQTtTvAelORCmNbKcA+syRATbU+wNrhr8kaZT7Aby9pjNZZMcA+syRATbU+wPXWwFYJJj7AFt7lIr5LP8D7rgj+t9o0wMR3YtaL6TTAMuauJeSDOMAW3uUivks/wMfXnlkSyEDAyJi7lpBPNsDRItv5frI/wE2+2ebGDDXAaD9SRIaFP8BtVn2utg47wN3SakjcYynAuDtrt13gPsCy2vy/6nA/wOo+AKlN7DrA+dozSwLEP8CmYfiImKo0wGN6whIPMDTAstr8v+pwP8B5dY4B2VM9wGN6whIPMDTAaD9SRIaFP8DJjo1AvA46wE3zjlN0FD/A+FPjpZt0O8CSy39Iv5lAwE60q5Dyl0DAsoUgByXcPMAkfzDw3KdAwG8NbJVgSTPAn47HDFTWPMBHIF7XL3g7wCy3tBoS5zfAuFhRg2lYP8Cy2vy/6nA/wJ+OxwxU1jzAuFhRg2lYP8DJjo1AvA46wILn3sMl/zzAgIKLFTVwPMBVpMLYQvgywA==",
          "dtype": "f8"
         },
         "lon": {
          "bdata": "NLqD2JlGXkA6WP/nMF1eQO/Jw0Ktw15A1LfM6bI6XkDvycNCrcNeQPZFQlvOa15AhUIEHEItXkDMKJZbWkdeQJqZmZmZOV5A5QrvchGeYED4U+Olm3ReQFOWIY51H15AU5YhjnUfXkCmm8QgsHJeQNpVSPlJd15ARIts5/uLXkAjMUEN34NeQCMxQQ3fg15AK9mxEYiPXkBEi2zn+4teQCvZsRGIj15AvsEXJlM3XkB4YtaLoWJdQHhi1ouhYl1AsHJoke2qXUCwcmiR7apdQH1cGyrGN11AE7h1N0+RXkCZ02UxsYleQG6LMhtkiF5AbosyG2SIXkCZ02UxsYleQIzWUdUEg15AA8+9h0u6XUA8vVKWISZeQBO4dTdPkV5ACW05l+LxX0BrmnecoqdgQFD8GHPXLF5AQDBHj99JXUCKH2PuWmheQD1JumbyZ15AFVeVfVf2XUDa5sb0hGleQIofY+5aaF5A2SWqtwZGXkCCxeHMr05eQEljtI6qgF5Abm5MT1hsXkDZJaq3BkZeQEUSvYxiqV1AgsXhzK9OXkDMC7CPTmNeQEUSvYxiqV1ASWO0jqqAXkDN5JttbhZdQM9OBkfJK15AoImw4ek9XkBlGeJYFzldQCvB4nDmA11AEEBqEyerXUDI6lbPSWleQJqZmZmZCV5A0qkrn+VpXkAWGLK61QBgQMjqVs9JaV5Avmplwi95XkCrlQm/1G1eQJ2FPe3wS15AmpmZmZkJXkDgufdwye9dQKuVCb/UbV5A0qkrn+VpXkCBeF2/YMteQPZ698d7aV5A6J/gYkUTXkC+amXCL3leQIF4Xb9gy15Aq+ek941HXUDon+BiRRNeQGPRdHYyTl1AVKnZA61XYEA98gcDzwNfQPZ698d7aV5AFhiyutUAYEA98gcDzwNfQJ2FPe3wS15Aba0vEtpcXkCr56T3jUddQGUZ4lgXOV1ANs07TtERXUBtrS8S2lxeQCdr1EM0Al5AYMjqVs8zXkAPRYE+ka1dQANbJVgcul1AqKlla30NXUAyVTAqqRxeQN8Vwf9WWWBAXKyowTSiXkBAvoQKDmNeQAOy17s/GF5Az72HS47lXUAU7Sqk/LpdQJm7lpAP6l1AQL6ECg5jXkBqMA3DR2pdQJm7lpAP6l1AqKlla30NXUDt0/GYgR5gQBqojH+fW15AKVyPwvUkXkBSLLe0GoZeQD0s1JrmtV5A91j60AWjXkBB1H0AUsVeQHS1FfvLyl9AOwFNhA23XkDkoISZtiNeQHB31m67El1AfeiC+pZvXkBAvoQKDmNeQDsBTYQNt15AfeiC+pZvXkDt0/GYgR5gQF6dY0D2Ol5AOkAwR49TXUDOcAM+Px5gQA==",
          "dtype": "f8"
         },
         "marker": {
          "size": 8,
          "symbol": "circle"
         },
         "mode": "markers+text",
         "name": "Cluster 4",
         "textposition": "bottom center",
         "type": "scattergeo"
        },
        {
         "lat": [
          -22.3108,
          -23.30404
         ],
         "line": {
          "color": "gray",
          "width": 2
         },
         "lon": [
          120.80953,
          120.68416
         ],
         "mode": "lines",
         "showlegend": false,
         "type": "scattergeo"
        },
        {
         "lat": [
          -23.30404,
          -23.50059
         ],
         "line": {
          "color": "gray",
          "width": 2
         },
         "lon": [
          120.68416,
          120.70065
         ],
         "mode": "lines",
         "showlegend": false,
         "type": "scattergeo"
        },
        {
         "lat": [
          -23.50059,
          -22.783
         ],
         "line": {
          "color": "gray",
          "width": 2
         },
         "lon": [
          120.70065,
          120.9
         ],
         "mode": "lines",
         "showlegend": false,
         "type": "scattergeo"
        },
        {
         "lat": [
          -22.783,
          -22.11332
         ],
         "line": {
          "color": "gray",
          "width": 2
         },
         "lon": [
          120.9,
          121.11489
         ],
         "mode": "lines",
         "showlegend": false,
         "type": "scattergeo"
        },
        {
         "lat": [
          -22.11332,
          -22.088
         ],
         "line": {
          "color": "gray",
          "width": 2
         },
         "lon": [
          121.11489,
          120.5958
         ],
         "mode": "lines",
         "showlegend": false,
         "type": "scattergeo"
        },
        {
         "lat": [
          -22.088,
          -21.04991
         ],
         "line": {
          "color": "gray",
          "width": 2
         },
         "lon": [
          120.5958,
          118.90798
         ],
         "mode": "lines",
         "showlegend": false,
         "type": "scattergeo"
        },
        {
         "lat": [
          -21.04991,
          -21.01296
         ],
         "line": {
          "color": "gray",
          "width": 2
         },
         "lon": [
          118.90798,
          118.91086
         ],
         "mode": "lines",
         "showlegend": false,
         "type": "scattergeo"
        },
        {
         "lat": [
          -21.01296,
          -21.19096
         ],
         "line": {
          "color": "gray",
          "width": 2
         },
         "lon": [
          118.91086,
          118.67426
         ],
         "mode": "lines",
         "showlegend": false,
         "type": "scattergeo"
        },
        {
         "lat": [
          -21.19096,
          -20.66639
         ],
         "line": {
          "color": "gray",
          "width": 2
         },
         "lon": [
          118.67426,
          118.92167
         ],
         "mode": "lines",
         "showlegend": false,
         "type": "scattergeo"
        },
        {
         "lat": [
          -20.66639,
          -21.07256
         ],
         "line": {
          "color": "gray",
          "width": 2
         },
         "lon": [
          118.92167,
          120.9674
         ],
         "mode": "lines",
         "showlegend": false,
         "type": "scattergeo"
        },
        {
         "lat": [
          -21.07256,
          -28.85994
         ],
         "line": {
          "color": "gray",
          "width": 2
         },
         "lon": [
          120.9674,
          122.54723
         ],
         "mode": "lines",
         "showlegend": false,
         "type": "scattergeo"
        },
        {
         "lat": [
          -28.85994,
          -28.76913
         ],
         "line": {
          "color": "gray",
          "width": 2
         },
         "lon": [
          122.54723,
          121.89354
         ],
         "mode": "lines",
         "showlegend": false,
         "type": "scattergeo"
        },
        {
         "customdata": [
          [
           4093000,
           "Punta Gorda",
           "Nickel, Cobalt",
           "Nickel"
          ],
          [
           341000,
           "Punta Gorda",
           "Nickel, Cobalt",
           "Cobalt"
          ],
          [
           92700,
           "Cumpie Hill",
           "Nickel, Cobalt",
           "Nickel"
          ],
          [
           2020900,
           "Moa Bay",
           "Nickel, Cobalt, Iron Ore",
           "Nickel"
          ],
          [
           232100,
           "Moa Bay",
           "Nickel, Cobalt, Iron Ore",
           "Cobalt"
          ]
         ],
         "hovertemplate": "<b>%{customdata[1]}</b><br>Latitude: %{lat}<br>Longitude: %{lon}<br>Commodities: %{customdata[2]}<br>Primary Commodity: %{customdata[3]}<br>Reserves: %{customdata[0]:,.0f} tonnes",
         "lat": {
          "bdata": "fgBSmzihNEB+AFKbOKE0QN6Th4Va4zJAh22LMhucNECHbYsyG5w0QA==",
          "dtype": "f8"
         },
         "lon": {
          "bdata": "k2+2uTG3UsCTb7a5MbdSwJ/Ik6RrklHAaFw4EJK7UsBoXDgQkrtSwA==",
          "dtype": "f8"
         },
         "marker": {
          "size": 8,
          "symbol": "circle"
         },
         "mode": "markers+text",
         "name": "Cluster 5",
         "textposition": "bottom center",
         "type": "scattergeo"
        },
        {
         "lat": [
          20.62977,
          20.60979
         ],
         "line": {
          "color": "gray",
          "width": 2
         },
         "lon": [
          -74.86241,
          -74.93079
         ],
         "mode": "lines",
         "showlegend": false,
         "type": "scattergeo"
        },
        {
         "lat": [
          20.60979,
          18.8881
         ],
         "line": {
          "color": "gray",
          "width": 2
         },
         "lon": [
          -74.93079,
          -70.28782
         ],
         "mode": "lines",
         "showlegend": false,
         "type": "scattergeo"
        },
        {
         "customdata": [
          [
           1584000,
           "Nonoc",
           "Nickel, Cobalt, Iron Ore",
           "Nickel"
          ],
          [
           158000,
           "Nonoc",
           "Nickel, Cobalt, Iron Ore",
           "Cobalt"
          ],
          [
           270000,
           "Zambales",
           "Nickel, Cobalt, Chromite, Platinum",
           "Nickel"
          ],
          [
           14000,
           "Zambales",
           "Nickel, Cobalt, Chromite, Platinum",
           "Cobalt"
          ],
          [
           100000,
           "Casiguran",
           "Nickel, Chromite",
           "Nickel"
          ],
          [
           37850,
           "Acoje",
           "Nickel, Cobalt, Palladium, Platinum, Chromite, Chromium, Copper",
           "Cobalt"
          ],
          [
           720120,
           "Acoje",
           "Nickel, Cobalt, Palladium, Platinum, Chromite, Chromium, Copper",
           "Nickel"
          ],
          [
           2926000,
           "Mindoro",
           "Nickel, Cobalt, Chromite, Iron Ore",
           "Nickel"
          ],
          [
           383540,
           "Mindoro",
           "Nickel, Cobalt, Chromite, Iron Ore",
           "Cobalt"
          ],
          [
           37700,
           "Agata",
           "Nickel, Cobalt, Gold, Copper, Iron Ore",
           "Cobalt"
          ],
          [
           796083,
           "Agata",
           "Nickel, Cobalt, Gold, Copper, Iron Ore",
           "Nickel"
          ],
          [
           472000,
           "Manicani",
           "Nickel",
           "Nickel"
          ],
          [
           34700,
           "Boa",
           "Nickel",
           "Nickel"
          ],
          [
           775200,
           "Bulanjao",
           "Nickel, Iron Ore",
           "Nickel"
          ],
          [
           616000,
           "Celestial",
           "Nickel, Cobalt, Iron Ore",
           "Nickel"
          ],
          [
           161000,
           "Cagdianao",
           "Nickel, Iron Ore",
           "Nickel"
          ],
          [
           1080000,
           "Cagdianao",
           "Nickel, Iron Ore, Cobalt",
           "Nickel"
          ],
          [
           812000,
           "Carrascal-Cantilan",
           "Nickel, Iron Ore",
           "Nickel"
          ],
          [
           680000,
           "Rio Tuba",
           "Nickel, Cobalt, Iron Ore, Limestone",
           "Nickel"
          ],
          [
           113000,
           "Hinatuan",
           "Nickel, Cobalt, Iron Ore",
           "Nickel"
          ],
          [
           1402000,
           "Taganito",
           "Nickel, Cobalt, Iron Ore",
           "Nickel"
          ],
          [
           855000,
           "Dinapigue",
           "Nickel, Chromite, Iron Ore, Cobalt",
           "Nickel"
          ]
         ],
         "hovertemplate": "<b>%{customdata[1]}</b><br>Latitude: %{lat}<br>Longitude: %{lon}<br>Commodities: %{customdata[2]}<br>Primary Commodity: %{customdata[3]}<br>Reserves: %{customdata[0]:,.0f} tonnes",
         "lat": {
          "bdata": "mIbhI2KqI0CYhuEjYqojQCZTBaOSii9AJlMFo5KKL0Bcj8L1KNwkQAcI5ujxay9ABwjm6PFrL0CXytsRThsqQJfK2xFOGypAjPM3oRCRIkCM8zehEJEiQCPb+X5q/CVAYOXQIts5JEDDtkWZDSIhQJ/Ik6Rr1iFAweJw5ldTJEC45LhTOvgiQB1aZDvfjyJAUI2XbhIzIUBcd/NUh4wjQI/C9ShcDyNAFsH/VrKbMEA=",
          "dtype": "f8"
         },
         "lon": {
          "bdata": "uw9AahNnX0C7D0BqE2dfQLPSpBR0A15As9KkFHQDXkBI4XoUrmdfQDmX4qqyA15AOZfiqrIDXkCQgxJm2kheQJCDEmbaSF5AbkxPWOJhX0BuTE9Y4mFfQClcj8L1aF9AYOXQIttpX0B7a2CrBFtdQPdY+tAFeV1AOxkcJa9qX0A8a7ddaHZfQKrx0k1ieF9AMqzijcxdXUBrDhDM0W1fQIfhI2JKdF9AnZ0MjpKTXkA=",
          "dtype": "f8"
         },
         "marker": {
          "size": 8,
          "symbol": "circle"
         },
         "mode": "markers+text",
         "name": "Cluster 6",
         "textposition": "bottom center",
         "type": "scattergeo"
        },
        {
         "lat": [
          13.05333,
          9.83278
         ],
         "line": {
          "color": "gray",
          "width": 2
         },
         "lon": [
          121.13833,
          125.61056
         ],
         "mode": "lines",
         "showlegend": false,
         "type": "scattergeo"
        },
        {
         "lat": [
          9.83278,
          9.53
         ],
         "line": {
          "color": "gray",
          "width": 2
         },
         "lon": [
          125.61056,
          125.81704
         ],
         "mode": "lines",
         "showlegend": false,
         "type": "scattergeo"
        },
        {
         "lat": [
          9.53,
          9.48482
         ],
         "line": {
          "color": "gray",
          "width": 2
         },
         "lon": [
          125.81704,
          125.85012
         ],
         "mode": "lines",
         "showlegend": false,
         "type": "scattergeo"
        },
        {
         "lat": [
          9.48482,
          9.281
         ],
         "line": {
          "color": "gray",
          "width": 2
         },
         "lon": [
          125.85012,
          125.881
         ],
         "mode": "lines",
         "showlegend": false,
         "type": "scattergeo"
        },
        {
         "lat": [
          9.281,
          9.28333
         ],
         "line": {
          "color": "gray",
          "width": 2
         },
         "lon": [
          125.881,
          125.52944
         ],
         "mode": "lines",
         "showlegend": false,
         "type": "scattergeo"
        },
        {
         "lat": [
          9.28333,
          10.993
         ],
         "line": {
          "color": "gray",
          "width": 2
         },
         "lon": [
          125.52944,
          125.64
         ],
         "mode": "lines",
         "showlegend": false,
         "type": "scattergeo"
        },
        {
         "lat": [
          10.993,
          10.16278
         ],
         "line": {
          "color": "gray",
          "width": 2
         },
         "lon": [
          125.64,
          125.66694
         ],
         "mode": "lines",
         "showlegend": false,
         "type": "scattergeo"
        },
        {
         "lat": [
          10.16278,
          10.113
         ],
         "line": {
          "color": "gray",
          "width": 2
         },
         "lon": [
          125.66694,
          125.654
         ],
         "mode": "lines",
         "showlegend": false,
         "type": "scattergeo"
        },
        {
         "lat": [
          10.113,
          9.77447
         ],
         "line": {
          "color": "gray",
          "width": 2
         },
         "lon": [
          125.654,
          125.71593
         ],
         "mode": "lines",
         "showlegend": false,
         "type": "scattergeo"
        },
        {
         "lat": [
          9.77447,
          10.43
         ],
         "line": {
          "color": "gray",
          "width": 2
         },
         "lon": [
          125.71593,
          125.62
         ],
         "mode": "lines",
         "showlegend": false,
         "type": "scattergeo"
        },
        {
         "lat": [
          10.43,
          16.60819
         ],
         "line": {
          "color": "gray",
          "width": 2
         },
         "lon": [
          125.62,
          122.30582
         ],
         "mode": "lines",
         "showlegend": false,
         "type": "scattergeo"
        },
        {
         "lat": [
          16.60819,
          15.71083
         ],
         "line": {
          "color": "gray",
          "width": 2
         },
         "lon": [
          122.30582,
          120.05778
         ],
         "mode": "lines",
         "showlegend": false,
         "type": "scattergeo"
        },
        {
         "lat": [
          15.71083,
          15.77065
         ],
         "line": {
          "color": "gray",
          "width": 2
         },
         "lon": [
          120.05778,
          120.05396
         ],
         "mode": "lines",
         "showlegend": false,
         "type": "scattergeo"
        },
        {
         "lat": [
          15.77065,
          8.56651
         ],
         "line": {
          "color": "gray",
          "width": 2
         },
         "lon": [
          120.05396,
          117.42216
         ],
         "mode": "lines",
         "showlegend": false,
         "type": "scattergeo"
        },
        {
         "lat": [
          8.56651,
          8.59975
         ],
         "line": {
          "color": "gray",
          "width": 2
         },
         "lon": [
          117.42216,
          117.46561
         ],
         "mode": "lines",
         "showlegend": false,
         "type": "scattergeo"
        },
        {
         "lat": [
          8.59975,
          8.91879
         ],
         "line": {
          "color": "gray",
          "width": 2
         },
         "lon": [
          117.46561,
          117.89098
         ],
         "mode": "lines",
         "showlegend": false,
         "type": "scattergeo"
        },
        {
         "customdata": [
          [
           152000,
           "Nkana Slag",
           "Cobalt, Copper, Gold",
           "Cobalt"
          ],
          [
           23000,
           "Xiluvo",
           "Lanthanides, Phosphate",
           "Lanthanides"
          ],
          [
           15000000,
           "Otjozondu",
           "Manganese, Iron Ore",
           "Manganese"
          ],
          [
           29243,
           "Dutwa",
           "Nickel, Cobalt, Copper, Iron Ore, Magnesium",
           "Cobalt"
          ],
          [
           59825,
           "Munali",
           "Nickel, Copper, Cobalt, Platinum, Palladium",
           "Nickel"
          ],
          [
           17100000,
           "Otjozondu",
           "Manganese",
           "Manganese"
          ],
          [
           983000,
           "Dutwa",
           "Nickel, Cobalt, Copper, Iron Ore, Magnesium",
           "Nickel"
          ],
          [
           4010000,
           "Zebediela",
           "Nickel, Copper, Cobalt, Platinum, Palladium, Rhodium, Gold, Chromite, Iron Ore",
           "Nickel"
          ],
          [
           51183000,
           "Lomoteng",
           "Manganese",
           "Manganese"
          ],
          [
           241500,
           "Phoenix",
           "Nickel, Copper, Palladium, Platinum, Gold, Silver, Cobalt",
           "Nickel"
          ],
          [
           89800,
           "Steenkampskraal",
           "Lanthanides, Yttrium, Thorium, U3O8",
           "Lanthanides"
          ],
          [
           17136,
           "Magogaphate",
           "Nickel, Copper, Cobalt, Gold, Platinum, Palladium, Rhodium, Ruthenium, Silver, Lithium, Tantalum, Tin, Caesium",
           "Nickel"
          ],
          [
           4620000,
           "Ngualla",
           "Lanthanides, Niobium, Lanthanum, Cerium, Praseodymium, Neodymium, Samarium, Europium, Gadolinium, Terbium, Dysprosium, Holmium, Erbium, Thulium, Ytterbium, Lutetium, Yttrium, Barite, Thorium, U3O8, Phosphate, Vermiculite",
           "Lanthanides"
          ],
          [
           1800,
           "Jacomynspan",
           "Nickel, Copper, Platinum, Zinc, Palladium, Gold, Cobalt",
           "Cobalt"
          ],
          [
           53280,
           "Uis Tailings",
           "Lithium, Tin, Tantalum",
           "Lithium"
          ],
          [
           39480,
           "Jacomynspan",
           "Nickel, Copper, Platinum, Zinc, Palladium, Gold, Cobalt",
           "Nickel"
          ],
          [
           920000,
           "Lubalisi",
           "Nickel, Cobalt, Platinum, Palladium, Copper, Iron Ore",
           "Nickel"
          ],
          [
           10369,
           "Kipushi Tailings",
           "Cobalt, Copper, Zinc",
           "Cobalt"
          ],
          [
           9400,
           "Kambove",
           "Cobalt, Copper",
           "Cobalt"
          ],
          [
           60000,
           "Lubalisi",
           "Nickel, Cobalt, Platinum, Palladium, Copper, Iron Ore",
           "Cobalt"
          ],
          [
           59460000,
           "Bishop",
           "Manganese",
           "Manganese"
          ],
          [
           100000000,
           "Paling",
           "Manganese",
           "Manganese"
          ],
          [
           775200,
           "Arcadia",
           "Lithium, Spodumene, Tantalum, Caesium",
           "Lithium"
          ],
          [
           257000,
           "Opuwo",
           "Cobalt, Copper, Zinc, Manganese, Lead, Vanadium, Gold, Silver, Chromium, Chromite",
           "Cobalt"
          ],
          [
           14880,
           "Eureka",
           "Lanthanides",
           "Lanthanides"
          ],
          [
           768000,
           "Ozango",
           "Lanthanides, Gold, Rhodium, Copper, Iron Ore, Neodymium, Praseodymium, Cerium, Samarium, Europium, Gadolinium, Terbium, Dysprosium, Holmium, Erbium, Thulium, Ytterbium, Lutetium, Yttrium, Lanthanum, Manganese, Niobium, U3O8, Zircon",
           "Lanthanides"
          ],
          [
           663552,
           "Songwe Hill",
           "Lanthanides, Lanthanum, Cerium, Praseodymium, Neodymium, Samarium, Europium, Gadolinium, Terbium, Dysprosium, Yttrium, Holmium, Erbium, Ytterbium, Thulium, Lutetium",
           "Lanthanides"
          ],
          [
           227800,
           "Kamativi",
           "Lithium, Spodumene",
           "Lithium"
          ],
          [
           120000,
           "Kruisrivier",
           "Cobalt",
           "Cobalt"
          ],
          [
           329000,
           "Monte Muambe",
           "Lanthanides, Cerium, Praseodymium, Neodymium, Terbium, Dysprosium, Niobium",
           "Lanthanides"
          ],
          [
           1167000,
           "Bikita",
           "Lithium, Spodumene, Tantalum, Caesium",
           "Lithium"
          ],
          [
           137733,
           "Kabanga",
           "Nickel, Cobalt, Copper, Platinum, Palladium",
           "Cobalt"
          ],
          [
           71700,
           "Manono",
           "Lithium, Tin, Tantalum, Caesium, Spodumene",
           "Lithium"
          ],
          [
           127000,
           "Trojan",
           "Nickel, Cobalt, Copper",
           "Nickel"
          ],
          [
           132328,
           "Bitterwasser",
           "Lithium, Potash, Magnesium",
           "Lithium"
          ],
          [
           1824964,
           "Kabanga",
           "Nickel, Cobalt, Copper, Platinum, Palladium",
           "Nickel"
          ],
          [
           14700000,
           "K.Hill",
           "Manganese",
           "Manganese"
          ],
          [
           19530,
           "Luiswishi",
           "Cobalt, Copper",
           "Cobalt"
          ],
          [
           48100000,
           "Mokala",
           "Manganese",
           "Manganese"
          ],
          [
           752840000,
           "Nchwaning/Gloria",
           "Manganese",
           "Manganese"
          ],
          [
           427901624,
           "Tshipi Borwa",
           "Manganese, Iron Ore",
           "Manganese"
          ],
          [
           108000,
           "Selkirk",
           "Nickel, Copper, Cobalt, Platinum, Palladium, Gold",
           "Nickel"
          ],
          [
           131627,
           "Zulu",
           "Lithium, Tantalum, Spodumene, Rubidium",
           "Lithium"
          ],
          [
           5582300,
           "Kangankunde",
           "Lanthanides, Lanthanum, Cerium, Praseodymium, Neodymium, Samarium, Europium, Gadolinium, Terbium, Dysprosium, Holmium, Erbium, Thulium, Ytterbium, Lutetium, Yttrium, U3O8, Thorium",
           "Lanthanides"
          ],
          [
           13490000,
           "Manono",
           "Lithium, Tin, Tantalum, Caesium, Niobium, Spodumene, Iron Ore, Phosphate",
           "Lithium"
          ],
          [
           153000,
           "Phalaborwa",
           "Lanthanides, Neodymium, Thorium, U3O8, Praseodymium, Dysprosium, Terbium, Europium, Samarium, Gadolinium, Lanthanum, Cerium, Gallium, Gypsum",
           "Lanthanides"
          ],
          [
           200000000,
           "Hotazel",
           "Manganese, Iron Ore",
           "Manganese"
          ]
         ],
         "hovertemplate": "<b>%{customdata[1]}</b><br>Latitude: %{lat}<br>Longitude: %{lon}<br>Commodities: %{customdata[2]}<br>Primary Commodity: %{customdata[3]}<br>Reserves: %{customdata[0]:,.0f} tonnes",
         "lat": {
          "bdata": "kuhlFMutKcDImLuWkD8zwKmHaHQHKTXAIJijx+/tA8DU1LK1vtgvwOxRuB6FKzXAIJijx+/tA8Aep+hILh84wLivA+eMCDzAZmZmZmY2NcCYTBWMSvo+wHB87ZklwTXAsI9OXfnMHsC2Z5YEqGk9wCzxgLIpNzXAtmeWBKhpPcCZ02UxsZkXwDyInSl0jifA9gt2w7bFJcCZ02UxsZkXwJdWQ+Ie+zvAba0vEtoqPMB1PGagMsYxwB09fm/T1zHACf63kh0LNsAK9Ik8SdopwKpla32RYC/As7W+SGhTMsDzcW2oGF85wAwfEVMiUTDAvHmqQ272M8B47j1cchwHwLr3cMlxRx3A9x4uOe5UMcAe/pqsUe83wHjuPVxyHAfAEEBqEyf/OMDXaaSl8gYnwIsyG2SSMTvAe2ZJgJoiO8AbL90kBmE7wE2EDU+vTDXAp5GWytsJNMBWn6ut2D8uwFjiAWVTTh3AQ+IeSx/6N8AxthDkoDQ7wA==",
          "dtype": "f8"
         },
         "lon": {
          "bdata": "vQD76NQ1PEAIjzaOWAdBQOONzCN/8DFAdonqrYHtQEA1RuuoaiI8QKJFtvP9FDJAdonqrYHtQEAFo5I6AQU9QIP6ljldBjdAIXam0HnFO0BTIoleRqEyQPVnP1JEVjxALzTXaaRtQEDdXtIYrdM1QIYgByXMxC1A3V7SGK3TNUDysFBrmhc+QOT3Nv3ZRztAKAr0iTyZOkDysFBrmhc+QKnZA63ACDdAWoEhq1sFN0C4BrZKsGg/QNwuNNdpdCtAUtUEUfeBLkDl1TkGZG8uQH/2I0Vk6EFAr+sX7IYNO0CbyTfb3Ig9QHwPlxx3CkFAaXQHsTNtP0AG9S1zuow+QGOcvwmFaDtAnKIjufxHP0CNf59x4eAxQAb1LXO6jD5An82qz9VOOUDjx5i7lnA7QJfiqrLv6jZAPWGJB5TdNkBkO99Pjfc2QPlJtU/HuztAOZz51RxoPUANbJVgcXRBQO3YCMTrYjtAVfZdEfwXP0BxPQrXo/g2QA==",
          "dtype": "f8"
         },
         "marker": {
          "size": 8,
          "symbol": "circle"
         },
         "mode": "markers+text",
         "name": "Cluster 7",
         "textposition": "bottom center",
         "type": "scattergeo"
        },
        {
         "lat": [
          -27.13517,
          -27.20558
         ],
         "line": {
          "color": "gray",
          "width": 2
         },
         "lon": [
          22.86554,
          22.97125
         ],
         "mode": "lines",
         "showlegend": false,
         "type": "scattergeo"
        },
        {
         "lat": [
          -27.20558,
          -27.379
         ],
         "line": {
          "color": "gray",
          "width": 2
         },
         "lon": [
          22.97125,
          22.967
         ],
         "mode": "lines",
         "showlegend": false,
         "type": "scattergeo"
        },
        {
         "lat": [
          -27.379,
          -27.19364
         ],
         "line": {
          "color": "gray",
          "width": 2
         },
         "lon": [
          22.967,
          22.91772
         ],
         "mode": "lines",
         "showlegend": false,
         "type": "scattergeo"
        },
        {
         "lat": [
          -27.19364,
          -28.16739
         ],
         "line": {
          "color": "gray",
          "width": 2
         },
         "lon": [
          22.91772,
          23.02093
         ],
         "mode": "lines",
         "showlegend": false,
         "type": "scattergeo"
        },
        {
         "lat": [
          -28.16739,
          -28.0334
         ],
         "line": {
          "color": "gray",
          "width": 2
         },
         "lon": [
          23.02093,
          23.02486
         ],
         "mode": "lines",
         "showlegend": false,
         "type": "scattergeo"
        },
        {
         "lat": [
          -28.0334,
          -27.98094
         ],
         "line": {
          "color": "gray",
          "width": 2
         },
         "lon": [
          23.02486,
          23.03419
         ],
         "mode": "lines",
         "showlegend": false,
         "type": "scattergeo"
        },
        {
         "lat": [
          -27.98094,
          -24.99669
         ],
         "line": {
          "color": "gray",
          "width": 2
         },
         "lon": [
          23.03419,
          25.30795
         ],
         "mode": "lines",
         "showlegend": false,
         "type": "scattergeo"
        },
        {
         "lat": [
          -24.99669,
          -21.17
         ],
         "line": {
          "color": "gray",
          "width": 2
         },
         "lon": [
          25.30795,
          18.082
         ],
         "mode": "lines",
         "showlegend": false,
         "type": "scattergeo"
        },
        {
         "lat": [
          -21.17,
          -21.16027
         ],
         "line": {
          "color": "gray",
          "width": 2
         },
         "lon": [
          18.082,
          17.93944
         ],
         "mode": "lines",
         "showlegend": false,
         "type": "scattergeo"
        },
        {
         "lat": [
          -21.16027,
          -7.32649
         ],
         "line": {
          "color": "gray",
          "width": 2
         },
         "lon": [
          17.93944,
          27.38641
         ],
         "mode": "lines",
         "showlegend": false,
         "type": "scattergeo"
        },
        {
         "lat": [
          -7.32649,
          -7.31977
         ],
         "line": {
          "color": "gray",
          "width": 2
         },
         "lon": [
          27.38641,
          27.40828
         ],
         "mode": "lines",
         "showlegend": false,
         "type": "scattergeo"
        },
        {
         "lat": [
          -7.31977,
          -7.70017
         ],
         "line": {
          "color": "gray",
          "width": 2
         },
         "lon": [
          27.40828,
          32.85658
         ],
         "mode": "lines",
         "showlegend": false,
         "type": "scattergeo"
        },
        {
         "lat": [
          -7.70017,
          -15.1247
         ],
         "line": {
          "color": "gray",
          "width": 2
         },
         "lon": [
          32.85658,
          34.90971
         ],
         "mode": "lines",
         "showlegend": false,
         "type": "scattergeo"
        },
        {
         "lat": [
          -15.1247,
          -15.68861
         ],
         "line": {
          "color": "gray",
          "width": 2
         },
         "lon": [
          34.90971,
          35.81556
         ],
         "mode": "lines",
         "showlegend": false,
         "type": "scattergeo"
        },
        {
         "lat": [
          -15.68861,
          -24.1218
         ],
         "line": {
          "color": "gray",
          "width": 2
         },
         "lon": [
          35.81556,
          29.01955
         ],
         "mode": "lines",
         "showlegend": false,
         "type": "scattergeo"
        },
        {
         "customdata": [
          [
           285000,
           "Biankouma-Sipilou",
           "Nickel, Cobalt",
           "Cobalt"
          ],
          [
           3810000,
           "Biankouma-Sipilou",
           "Nickel, Cobalt",
           "Nickel"
          ],
          [
           573040,
           "Gogota",
           "Nickel, Cobalt, Scandium, Iron Ore, Magnesium",
           "Nickel"
          ],
          [
           59560,
           "Gogota",
           "Nickel, Cobalt, Scandium, Iron Ore, Magnesium",
           "Cobalt"
          ],
          [
           337300,
           "Bougouni",
           "Lithium, Gold, Spodumene",
           "Lithium"
          ],
          [
           19051,
           "Samapleu",
           "Nickel, Copper, Platinum, Palladium, Gold, Iron Ore, Cobalt, Rhodium, Thorium",
           "Cobalt"
          ],
          [
           334751,
           "Samapleu",
           "Nickel, Copper, Platinum, Palladium, Gold, Iron Ore, Cobalt, Rhodium, Thorium",
           "Nickel"
          ],
          [
           3690000,
           "Goulamina",
           "Lithium, Spodumene, Iron Ore",
           "Lithium"
          ]
         ],
         "hovertemplate": "<b>%{customdata[1]}</b><br>Latitude: %{lat}<br>Longitude: %{lon}<br>Commodities: %{customdata[2]}<br>Primary Commodity: %{customdata[3]}<br>Reserves: %{customdata[0]:,.0f} tonnes",
         "lat": {
          "bdata": "Q+IeSx96H0BD4h5LH3ofQL8rgv+tBB9AvyuC/60EH0BbttYXCa0mQFbUYBqGDx9AVtRgGoYPH0BvKlJhbLEmQA==",
          "dtype": "f8"
         },
         "lon": {
          "bdata": "9iNFZFilH8D2I0VkWKUfwKs+V1ux/yDAqz5XW7H/IMCOrz2zJGAewDiEKjV7gB/AOIQqNXuAH8CCHJQw09YfwA==",
          "dtype": "f8"
         },
         "marker": {
          "size": 8,
          "symbol": "circle"
         },
         "mode": "markers+text",
         "name": "Cluster 8",
         "textposition": "bottom center",
         "type": "scattergeo"
        },
        {
         "lat": [
          7.86926,
          7.76516
         ],
         "line": {
          "color": "gray",
          "width": 2
         },
         "lon": [
          -7.91147,
          -7.87547
         ],
         "mode": "lines",
         "showlegend": false,
         "type": "scattergeo"
        },
        {
         "lat": [
          7.76516,
          11.34653
         ],
         "line": {
          "color": "gray",
          "width": 2
         },
         "lon": [
          -7.87547,
          -7.95979
         ],
         "mode": "lines",
         "showlegend": false,
         "type": "scattergeo"
        },
        {
         "lat": [
          11.34653,
          11.33796
         ],
         "line": {
          "color": "gray",
          "width": 2
         },
         "lon": [
          -7.95979,
          -7.59389
         ],
         "mode": "lines",
         "showlegend": false,
         "type": "scattergeo"
        },
        {
         "lat": [
          11.33796,
          7.75457
         ],
         "line": {
          "color": "gray",
          "width": 2
         },
         "lon": [
          -7.59389,
          -8.4994
         ],
         "mode": "lines",
         "showlegend": false,
         "type": "scattergeo"
        },
        {
         "customdata": [
          [
           44000,
           "Gladstone",
           "Nickel, Cobalt",
           "Cobalt"
          ],
          [
           647000,
           "Gladstone",
           "Nickel, Cobalt",
           "Nickel"
          ],
          [
           572,
           "Kildanga",
           "Nickel, Cobalt, Gold, Copper, Platinum",
           "Cobalt"
          ],
          [
           6981,
           "Kildanga",
           "Nickel, Cobalt, Gold, Copper, Platinum",
           "Nickel"
          ],
          [
           546,
           "Lucky Break",
           "Nickel, Cobalt",
           "Cobalt"
          ],
          [
           8595,
           "Lucky Break",
           "Nickel, Cobalt",
           "Nickel"
          ],
          [
           11700,
           "Mt Isa",
           "Lanthanides, Copper, U3O8, Cobalt, Phosphate, Molybdenum, Silver, Gold, Graphite, Zinc, Lead",
           "Cobalt"
          ],
          [
           108000,
           "Mt Isa",
           "Lanthanides, Copper, U3O8, Cobalt, Phosphate, Molybdenum, Silver, Gold, Graphite, Zinc, Lead, Nickel",
           "Lanthanides"
          ],
          [
           560,
           "Wollogorang",
           "Cobalt, Nickel, Copper, Lead, Zinc, Silver, Manganese, U3O8, Lanthanides",
           "Nickel"
          ],
          [
           1210,
           "Wollogorang",
           "Cobalt, Nickel, Copper, Lead, Zinc, Silver, Manganese, U3O8, Lanthanides",
           "Cobalt"
          ],
          [
           8000,
           "Mt Slopeaway",
           "Nickel, Cobalt, Manganese",
           "Cobalt"
          ],
          [
           40000,
           "Mt Slopeaway",
           "Nickel, Cobalt, Manganese",
           "Nickel"
          ],
          [
           72157,
           "SCONI",
           "Cobalt, Nickel, Scandium, Iron Ore",
           "Cobalt"
          ],
          [
           735979,
           "SCONI",
           "Cobalt, Nickel, Scandium, Iron Ore",
           "Nickel"
          ],
          [
           14000,
           "Kennedy",
           "Lanthanides, Praseodymium, Neodymium, Dysprosium, Terbium, Cerium, Lithium, Samarium, Europium, Gadolinium, Holmium, Erbium, Ytterbium, Lutetium, Yttrium, Thulium",
           "Lanthanides"
          ]
         ],
         "hovertemplate": "<b>%{customdata[1]}</b><br>Latitude: %{lat}<br>Longitude: %{lon}<br>Commodities: %{customdata[2]}<br>Primary Commodity: %{customdata[3]}<br>Reserves: %{customdata[0]:,.0f} tonnes",
         "lat": {
          "bdata": "iSR6GcXyNsCJJHoZxfI2wMR8eQH2MTrAxHx5AfYxOsCpTZzc73gzwKlNnNzveDPAIchBCTNlNMAhyEEJM2U0wP1qDhDMuTDA/WoOEMy5MMAuHAjJAsY2wC4cCMkCxjbAs+pztRUDM8Cz6nO1FQMzwK7TSEvlzTHA",
          "dtype": "f8"
         },
         "lon": {
          "bdata": "iEuOO6W6YkCIS447pbpiQB0gmKPHCGNAHSCYo8cIY0B6pSxDHDZiQHqlLEMcNmJA0sYRa/GQYUDSxhFr8ZBhQBnFckurOGFAGcVyS6s4YUA9fm/Tn7tiQD1+b9Ofu2JA+3lTkQoeYkD7eVORCh5iQCVATS1bI2JA",
          "dtype": "f8"
         },
         "marker": {
          "size": 8,
          "symbol": "circle"
         },
         "mode": "markers+text",
         "name": "Cluster 9",
         "textposition": "bottom center",
         "type": "scattergeo"
        },
        {
         "lat": [
          -19.01205,
          -22.94832
         ],
         "line": {
          "color": "gray",
          "width": 2
         },
         "lon": [
          144.93879,
          149.83267
         ],
         "mode": "lines",
         "showlegend": false,
         "type": "scattergeo"
        },
        {
         "lat": [
          -22.94832,
          -22.77348
         ],
         "line": {
          "color": "gray",
          "width": 2
         },
         "lon": [
          149.83267,
          149.86326
         ],
         "mode": "lines",
         "showlegend": false,
         "type": "scattergeo"
        },
        {
         "customdata": [
          [
           894200,
           "Souker",
           "Nickel, Copper",
           "Nickel"
          ],
          [
           45732,
           "Kuhmo",
           "Nickel, Copper, Cobalt, Platinum, Palladium, Gold",
           "Nickel"
          ],
          [
           1616,
           "Kuhmo",
           "Nickel, Copper, Cobalt, Platinum, Palladium, Gold",
           "Cobalt"
          ],
          [
           920,
           "Rana",
           "Nickel, Copper, Cobalt",
           "Cobalt"
          ],
          [
           33000,
           "Rana",
           "Nickel, Copper, Cobalt",
           "Nickel"
          ],
          [
           2264,
           "Espedalen",
           "Nickel, Copper, Cobalt",
           "Cobalt"
          ],
          [
           47790,
           "Olserum",
           "Lanthanides",
           "Lanthanides"
          ],
          [
           33500,
           "Espedalen",
           "Nickel, Copper, Cobalt",
           "Nickel"
          ],
          [
           680,
           "Lainejaur",
           "Nickel, Copper, Cobalt, Gold, Platinum, Palladium",
           "Cobalt"
          ],
          [
           10100,
           "Lainejaur",
           "Nickel, Copper, Cobalt, Gold, Platinum, Palladium",
           "Nickel"
          ],
          [
           3879920,
           "Terrafame",
           "Nickel, Zinc, Copper, Cobalt, U3O8",
           "Nickel"
          ],
          [
           300000,
           "Terrafame",
           "Nickel, Zinc, Copper, Cobalt, U3O8",
           "Cobalt"
          ],
          [
           3506,
           "Lappvattnet",
           "Nickel, Copper, Cobalt, Platinum, Palladium, Gold",
           "Cobalt"
          ],
          [
           80331,
           "Lappvattnet",
           "Nickel, Copper, Cobalt, Platinum, Palladium, Gold",
           "Nickel"
          ],
          [
           550000,
           "Norra Karr",
           "Lanthanides, Zircon, Hafnium, Dysprosium, Terbium, Neodymium, Praseodymium, Niobium",
           "Lanthanides"
          ],
          [
           1093000,
           "Ronnbacken",
           "Nickel, Cobalt, Iron Ore",
           "Nickel"
          ],
          [
           19800,
           "Ronnbacken",
           "Nickel, Cobalt, Iron Ore",
           "Cobalt"
          ],
          [
           2200,
           "Mjovattnet",
           "Nickel, Copper, Cobalt, Platinum",
           "Nickel"
          ],
          [
           27032,
           "Kevitsa",
           "Nickel, Copper, Gold, Platinum, Palladium, Cobalt",
           "Cobalt"
          ],
          [
           1200000,
           "Fen",
           "Lanthanides",
           "Lanthanides"
          ],
          [
           5658,
           "Hautalampi",
           "Nickel, Copper, Cobalt, Zinc",
           "Cobalt"
          ],
          [
           6700,
           "Roussakero",
           "Nickel, Copper, Cobalt",
           "Cobalt"
          ],
          [
           168400,
           "Roussakero",
           "Nickel, Copper, Cobalt",
           "Nickel"
          ],
          [
           24031,
           "Hautalampi",
           "Nickel, Copper, Cobalt, Zinc",
           "Nickel"
          ],
          [
           572380,
           "Kevitsa",
           "Nickel, Copper, Gold, Platinum, Palladium, Cobalt",
           "Nickel"
          ],
          [
           30,
           "Mjovattnet",
           "Nickel, Copper, Cobalt, Platinum",
           "Cobalt"
          ],
          [
           224255,
           "Keliber",
           "Lithium, Spodumene, Niobium, Tantalum",
           "Lithium"
          ],
          [
           2941000,
           "Kola Division",
           "Nickel, Copper, Palladium, Platinum, Gold, Cobalt, Rhodium, Silver, Selenium, Tellurium",
           "Nickel"
          ],
          [
           70500,
           "Ringerike",
           "Nickel, Copper, Cobalt, Platinum, Palladium, Rhodium, Gold",
           "Nickel"
          ],
          [
           862800,
           "Pulju",
           "Nickel, Cobalt, Copper",
           "Nickel"
          ],
          [
           8800000,
           "Fen",
           "Lanthanides, Niobium",
           "Lanthanides"
          ],
          [
           5600,
           "Ringerike",
           "Nickel, Copper, Cobalt, Platinum, Palladium, Rhodium, Gold",
           "Cobalt"
          ],
          [
           40000,
           "Pulju",
           "Nickel, Cobalt, Copper",
           "Cobalt"
          ],
          [
           76988,
           "Korsnas South",
           "Lanthanides, Lead, Neodymium, Praseodymium, Dysprosium, Terbium",
           "Lanthanides"
          ]
         ],
         "hovertemplate": "<b>%{customdata[1]}</b><br>Latitude: %{lat}<br>Longitude: %{lon}<br>Commodities: %{customdata[2]}<br>Primary Commodity: %{customdata[3]}<br>Reserves: %{customdata[0]:,.0f} tonnes",
         "lat": {
          "bdata": "uB6F61FYUUDW4lMAjElQQNbiUwCMSVBAT1jiAWUVUUBPWOIBZRVRQJKzsKcdtk5A4Nv0Zz/6TECSs7CnHbZOQJp8s82NT1BAmnyzzY1PUEAj2/l+avxPQCPb+X5q/E9AmEwVjEogUECYTBWMSiBQQD7o2az6DE1AX9IYraNgUEBf0hito2BQQFioNc07IlBAvR3htODrUEBYHM78aqJNQBefAmA8W09AKbNBJhknUUAps0EmGSdRQBefAmA8W09AvR3htODrUEBYqDXNOyJQQBYwgVt3z09AQYLix5hZUUBTkQpjCwlOQDawVYLFBVFAw/UoXI+iTUBTkQpjCwlOQDawVYLFBVFAf/YjRWRoT0A=",
          "dtype": "f8"
         },
         "lon": {
          "bdata": "3pOHhVrDPkBA+5EiMhQ9QED7kSIyFD1AX9IYraPyMEBf0hito/IwQHJQwkzbHyNAba0vEtpSMEByUMJM2x8jQN6OcFrw+jJA3o5wWvD6MkBOYhBYORQ8QE5iEFg5FDxAL6hvmdPVNEAvqG+Z09U0QDaTb7a5IS1ASwLU1LLFLkBLAtTUssUuQFPL1voiATVARN0HILX5OkB0JJf/kJ4iQPAzLhwI+TxADHbDtkUZNkAMdsO2RRk2QPAzLhwI+TxARN0HILX5OkBTy9b6IgE1QBSuR+F6JDhA7fXuj/e6PkCDhv4JLhYkQKT8pNqnazhABFYOLbKdIkCDhv4JLhYkQKT8pNqnazhAPQrXo3A9NUA=",
          "dtype": "f8"
         },
         "marker": {
          "size": 8,
          "symbol": "circle"
         },
         "mode": "markers+text",
         "name": "Cluster 10",
         "textposition": "bottom center",
         "type": "scattergeo"
        },
        {
         "lat": [
          59.27,
          59.26889
         ],
         "line": {
          "color": "gray",
          "width": 2
         },
         "lon": [
          9.308,
          9.3097
         ],
         "mode": "lines",
         "showlegend": false,
         "type": "scattergeo"
        },
        {
         "lat": [
          59.26889,
          63.972
         ],
         "line": {
          "color": "gray",
          "width": 2
         },
         "lon": [
          9.3097,
          28.079
         ],
         "mode": "lines",
         "showlegend": false,
         "type": "scattergeo"
        },
        {
         "lat": [
          63.972,
          69.39995
         ],
         "line": {
          "color": "gray",
          "width": 2
         },
         "lon": [
          28.079,
          30.73034
         ],
         "mode": "lines",
         "showlegend": false,
         "type": "scattergeo"
        },
        {
         "lat": [
          69.39995,
          69.38
         ],
         "line": {
          "color": "gray",
          "width": 2
         },
         "lon": [
          30.73034,
          30.7631
         ],
         "mode": "lines",
         "showlegend": false,
         "type": "scattergeo"
        },
        {
         "lat": [
          69.38,
          68.09018
         ],
         "line": {
          "color": "gray",
          "width": 2
         },
         "lon": [
          30.7631,
          24.42053
         ],
         "mode": "lines",
         "showlegend": false,
         "type": "scattergeo"
        },
        {
         "lat": [
          68.09018,
          67.68559
         ],
         "line": {
          "color": "gray",
          "width": 2
         },
         "lon": [
          24.42053,
          26.97542
         ],
         "mode": "lines",
         "showlegend": false,
         "type": "scattergeo"
        },
        {
         "lat": [
          67.68559,
          65.50999
         ],
         "line": {
          "color": "gray",
          "width": 2
         },
         "lon": [
          26.97542,
          15.38613
         ],
         "mode": "lines",
         "showlegend": false,
         "type": "scattergeo"
        },
        {
         "lat": [
          65.50999,
          58.1014
         ],
         "line": {
          "color": "gray",
          "width": 2
         },
         "lon": [
          15.38613,
          14.56587
         ],
         "mode": "lines",
         "showlegend": false,
         "type": "scattergeo"
        },
        {
         "lat": [
          58.1014,
          57.95506
         ],
         "line": {
          "color": "gray",
          "width": 2
         },
         "lon": [
          14.56587,
          16.32364
         ],
         "mode": "lines",
         "showlegend": false,
         "type": "scattergeo"
        },
        {
         "lat": [
          57.95506,
          63.62083
         ],
         "line": {
          "color": "gray",
          "width": 2
         },
         "lon": [
          16.32364,
          24.1425
         ],
         "mode": "lines",
         "showlegend": false,
         "type": "scattergeo"
        },
        {
         "lat": [
          63.62083,
          62.81556
         ],
         "line": {
          "color": "gray",
          "width": 2
         },
         "lon": [
          24.1425,
          21.24
         ],
         "mode": "lines",
         "showlegend": false,
         "type": "scattergeo"
        },
        {
         "lat": [
          62.81556,
          64.50455
         ],
         "line": {
          "color": "gray",
          "width": 2
         },
         "lon": [
          21.24,
          20.83526
         ],
         "mode": "lines",
         "showlegend": false,
         "type": "scattergeo"
        },
        {
         "lat": [
          64.50455,
          68.61091
         ],
         "line": {
          "color": "gray",
          "width": 2
         },
         "lon": [
          20.83526,
          22.09872
         ],
         "mode": "lines",
         "showlegend": false,
         "type": "scattergeo"
        },
        {
         "lat": [
          68.61091,
          68.33429
         ],
         "line": {
          "color": "gray",
          "width": 2
         },
         "lon": [
          22.09872,
          16.94781
         ],
         "mode": "lines",
         "showlegend": false,
         "type": "scattergeo"
        },
        {
         "lat": [
          68.33429,
          60.07066
         ],
         "line": {
          "color": "gray",
          "width": 2
         },
         "lon": [
          16.94781,
          10.04332
         ],
         "mode": "lines",
         "showlegend": false,
         "type": "scattergeo"
        },
        {
         "lat": [
          60.07066,
          61.42278
         ],
         "line": {
          "color": "gray",
          "width": 2
         },
         "lon": [
          10.04332,
          9.56222
         ],
         "mode": "lines",
         "showlegend": false,
         "type": "scattergeo"
        },
        {
         "customdata": [
          [
           14100,
           "Yuanjiang",
           "Nickel, Cobalt",
           "Cobalt"
          ],
          [
           427000,
           "Yuanjiang",
           "Nickel, Cobalt",
           "Nickel"
          ],
          [
           800000,
           "Tagaung Taung",
           "Nickel, Chromium, Chromite",
           "Nickel"
          ],
          [
           40400,
           "Ningdu Taiyu",
           "Lithium",
           "Lithium"
          ],
          [
           1258,
           "Changting",
           "Lanthanides",
           "Lanthanides"
          ],
          [
           50,
           "Jiazhuang",
           "Lanthanides",
           "Lanthanides"
          ],
          [
           30,
           "Huangfang",
           "Lanthanides",
           "Lanthanides"
          ],
          [
           485800,
           "Ta Khoa",
           "Nickel, Copper, Cobalt, Gold, Platinum, Palladium, Manganese",
           "Nickel"
          ],
          [
           111500,
           "Yelonggou",
           "Lithium",
           "Lithium"
          ],
          [
           13400,
           "Ta Khoa",
           "Nickel, Copper, Cobalt, Gold, Platinum, Palladium, Manganese",
           "Cobalt"
          ],
          [
           260,
           "Yangmei",
           "Lanthanides",
           "Lanthanides"
          ],
          [
           220,
           "Wenfang",
           "Lanthanides",
           "Lanthanides"
          ],
          [
           6190000,
           "Tiandeng",
           "Manganese",
           "Manganese"
          ],
          [
           335713,
           "Xiangyuan",
           "Lithium, Caesium, Rubidium, Tin, Tungsten, Silver",
           "Lithium"
          ],
          [
           20950000,
           "Changgou",
           "Manganese",
           "Manganese"
          ],
          [
           58760000,
           "Daxin",
           "Manganese",
           "Manganese"
          ]
         ],
         "hovertemplate": "<b>%{customdata[1]}</b><br>Latitude: %{lat}<br>Longitude: %{lon}<br>Commodities: %{customdata[2]}<br>Primary Commodity: %{customdata[3]}<br>Reserves: %{customdata[0]:,.0f} tonnes",
         "lat": {
          "bdata": "3jzVITd7N0DePNUhN3s3QLJLVG8NlDdAmyDqPgDBOkD/PuPCgdA5QOc1donqfThA7ginBS/COUD/snvysDA1QPTg7qzdvj9A/7J78rAwNUDGhQMhWaA5QKTk1TkGBDpAC5jArbtJN0Bi83FtqDg5QCNnYU87pDtAZmZmZmbmNkA=",
          "dtype": "f8"
         },
         "lon": {
          "bdata": "Bwjm6PFxWUAHCObo8XFZQPYoXI/CCVhAdeWzPA8MXUCGyVTBqBhdQLyReeQPfl1ALZW3I5wyXUCpMLYQ5BRaQOtWz0nvc1lAqTC2EOQUWkCoHf6arKlbQI3ROqqaJl1Af7xXrUzKWkCB7PXuj/lbQMyXF2AfvVpAW86luKqqWkA=",
          "dtype": "f8"
         },
         "marker": {
          "size": 8,
          "symbol": "circle"
         },
         "mode": "markers+text",
         "name": "Cluster 11",
         "textposition": "bottom center",
         "type": "scattergeo"
        },
        {
         "lat": [
          22.9,
          23.28802
         ],
         "line": {
          "color": "gray",
          "width": 2
         },
         "lon": [
          106.66667,
          107.16093
         ],
         "mode": "lines",
         "showlegend": false,
         "type": "scattergeo"
        },
        {
         "lat": [
          23.28802,
          27.64153
         ],
         "line": {
          "color": "gray",
          "width": 2
         },
         "lon": [
          107.16093,
          106.95504
         ],
         "mode": "lines",
         "showlegend": false,
         "type": "scattergeo"
        },
        {
         "lat": [
          27.64153,
          23.57833
         ],
         "line": {
          "color": "gray",
          "width": 2
         },
         "lon": [
          106.95504,
          96.1525
         ],
         "mode": "lines",
         "showlegend": false,
         "type": "scattergeo"
        },
        {
         "lat": [
          23.57833,
          23.48131
         ],
         "line": {
          "color": "gray",
          "width": 2
         },
         "lon": [
          96.1525,
          101.78039
         ],
         "mode": "lines",
         "showlegend": false,
         "type": "scattergeo"
        },
        {
         "customdata": [
          [
           39000000,
           "Uyuni Salt Flat",
           "Lithium, Magnesium",
           "Lithium"
          ],
          [
           212380,
           "Laguna Verde Salar",
           "Lithium, Potash",
           "Lithium"
          ],
          [
           96800,
           "Salar de Salinas Grandes",
           "Lithium, Potash",
           "Lithium"
          ],
          [
           3371100,
           "Salar del Rincon",
           "Lithium, Potash",
           "Lithium"
          ],
          [
           828563,
           "Sal de los Angeles",
           "Lithium, Potash",
           "Lithium"
          ],
          [
           9938000,
           "Cauchari-Olaroz",
           "Lithium, Potash",
           "Lithium"
          ],
          [
           276900,
           "Candelas",
           "Lithium, Potash",
           "Lithium"
          ],
          [
           1167000,
           "Maricunga",
           "Lithium, Potash",
           "Lithium"
          ],
          [
           3282000,
           "Mariana",
           "Lithium, Potash, Borates",
           "Lithium"
          ],
          [
           228000,
           "Sal de la Puna",
           "Lithium, Potash",
           "Lithium"
          ],
          [
           24280000,
           "Salar de Atacama",
           "Lithium, Potash, Potassium Sulfate, Magnesium",
           "Lithium"
          ],
          [
           583000,
           "Kuska",
           "Lithium",
           "Lithium"
          ],
          [
           3521000,
           "Salar de Atacama",
           "Lithium, Potash",
           "Lithium"
          ],
          [
           3449462,
           "Tres Quebradas",
           "Lithium, Potash",
           "Lithium"
          ],
          [
           2901000,
           "Sal de Vida",
           "Lithium, Potash",
           "Lithium"
          ],
          [
           9149000,
           "Salar de Olaroz",
           "Lithium, Potash",
           "Lithium"
          ],
          [
           4300580,
           "Kachi",
           "Lithium, Potash",
           "Lithium"
          ],
          [
           2411000,
           "Salar de Cauchari",
           "Lithium, Potash",
           "Lithium"
          ],
          [
           2127000,
           "Pastos Grandes",
           "Lithium, Potash",
           "Lithium"
          ],
          [
           2127000,
           "PPG",
           "Lithium",
           "Lithium"
          ],
          [
           2028000,
           "Salar de Tolillar",
           "Lithium, Potash",
           "Lithium"
          ],
          [
           1320036,
           "Solaroz",
           "Lithium",
           "Lithium"
          ],
          [
           99670,
           "Rio Grande",
           "Lithium",
           "Lithium"
          ],
          [
           288960,
           "Salta Lithium",
           "Lithium, Potash, Magnesium",
           "Lithium"
          ],
          [
           185000,
           "Incahuasi Salar",
           "Lithium, Magnesium, Borates",
           "Lithium"
          ],
          [
           308000,
           "Pocitos 1",
           "Lithium, Magnesium, Borates",
           "Lithium"
          ],
          [
           714746,
           "Laguna Verde",
           "Lithium",
           "Lithium"
          ],
          [
           640000,
           "Hombre Muerto North",
           "Lithium, Potash, Borates",
           "Lithium"
          ],
          [
           4768230,
           "Salar del Hombre Muerto",
           "Lithium, Potash",
           "Lithium"
          ],
          [
           30264753,
           "Los Pumas",
           "Manganese, Potash",
           "Manganese"
          ],
          [
           432280,
           "San Jorge",
           "Lithium",
           "Lithium"
          ],
          [
           295700,
           "Rincon",
           "Lithium, Potash",
           "Lithium"
          ],
          [
           1665288,
           "Salar De Arizaro",
           "Lithium, Borates",
           "Lithium"
          ],
          [
           1900000,
           "Rio Grande",
           "Lithium",
           "Lithium"
          ],
          [
           6108480,
           "Cuenca Centenario-Ratones",
           "Lithium",
           "Lithium"
          ],
          [
           3180000,
           "Hombre Muerto West",
           "Lithium, Potash",
           "Lithium"
          ]
         ],
         "hovertemplate": "<b>%{customdata[1]}</b><br>Latitude: %{lat}<br>Longitude: %{lon}<br>Commodities: %{customdata[2]}<br>Primary Commodity: %{customdata[3]}<br>Reserves: %{customdata[0]:,.0f} tonnes",
         "lat": {
          "bdata": "NKK0N/iKNMCL4H8r2eE6wB7htOBFrzfAH4XrUbgOOMBYrUz4pT45wDBMpgpGbTfAY9F0djKQOcAnMQisHOo6wCrG+ZtQ0DjASZ2AJsKWOMDNzMzMzIw3wODzwwjhOTXAMevFUE6kN8ATfqmfN107wJynOuRmWDnA845TdCR3N8CBQ6hSs386wP2k2qfjwTfANZiG4SOSOMCX4qqy77I4wO8bX3tmCTnA+kSeJF2LN8BZaVIKuv04wFtCPujZHDjAGHjuPVxSOMDt0/GYgXo4wGZmZmZm5jrAKEnXTL45OcCjI7n8h2Q5wArXo3A9CjLAxoUDIVnwOsAV4/xNKDQ4wGlXIeUnxTjAwvo/h/kCOcA6deWzPBc5wLbbLjTXeTnA",
          "dtype": "f8"
         },
         "lon": {
          "bdata": "Crq9pDHYUMANiXssfR5RwPZdEfxvf1DASOF6FK7HUMBnJ4Oj5K9QwJMANbVsqVDAPNo4Yi24UMDDR8SUSERRwE8GR8mrE1HAOxkcJa+mUMBxPQrXoxhRwO58PzVeFFHAHy457pQUUcCqZWt9kSpRwAKaCBuevFDAG4F4Xb+wUMDoE3mSdNtQwGr7V1aaslDArMWnABitUMDfFcH/VrRQwNLGEWvxx1DALq2GxD2oUMC8XMR3YgxRwOLplbIMy1DAHhZqTfPmUMA6r7FLVMFQwAETuHU3G1HAG7tE9da+UMC6LCY2H8NQwLgehetRaFHAOdGuQsoHUcAvhnKiXb9QwExUbw1s7VDAw/UoXI8UUcBAGHjuPbRQwLdFmQ0yyVDA",
          "dtype": "f8"
         },
         "marker": {
          "size": 8,
          "symbol": "circle"
         },
         "mode": "markers+text",
         "name": "Cluster 12",
         "textposition": "bottom center",
         "type": "scattergeo"
        },
        {
         "lat": [
          -20.54285,
          -18.04
         ],
         "line": {
          "color": "gray",
          "width": 2
         },
         "lon": [
          -67.37803,
          -69.63
         ],
         "mode": "lines",
         "showlegend": false,
         "type": "scattergeo"
        },
        {
         "lat": [
          -18.04,
          -23.55
         ],
         "line": {
          "color": "gray",
          "width": 2
         },
         "lon": [
          -69.63,
          -68.385
         ],
         "mode": "lines",
         "showlegend": false,
         "type": "scattergeo"
        },
        {
         "lat": [
          -23.55,
          -23.64182
         ],
         "line": {
          "color": "gray",
          "width": 2
         },
         "lon": [
          -68.385,
          -68.32159
         ],
         "mode": "lines",
         "showlegend": false,
         "type": "scattergeo"
        },
        {
         "lat": [
          -23.64182,
          -23.42685
         ],
         "line": {
          "color": "gray",
          "width": 2
         },
         "lon": [
          -68.32159,
          -66.64726
         ],
         "mode": "lines",
         "showlegend": false,
         "type": "scattergeo"
        },
        {
         "lat": [
          -23.42685,
          -23.4654
         ],
         "line": {
          "color": "gray",
          "width": 2
         },
         "lon": [
          -66.64726,
          -66.76168
         ],
         "mode": "lines",
         "showlegend": false,
         "type": "scattergeo"
        },
        {
         "lat": [
          -23.4654,
          -23.54439
         ],
         "line": {
          "color": "gray",
          "width": 2
         },
         "lon": [
          -66.76168,
          -66.62877
         ],
         "mode": "lines",
         "showlegend": false,
         "type": "scattergeo"
        },
        {
         "lat": [
          -23.54439,
          -23.75738
         ],
         "line": {
          "color": "gray",
          "width": 2
         },
         "lon": [
          -66.62877,
          -66.79067
         ],
         "mode": "lines",
         "showlegend": false,
         "type": "scattergeo"
        },
        {
         "lat": [
          -23.75738,
          -24.0575
         ],
         "line": {
          "color": "gray",
          "width": 2
         },
         "lon": [
          -66.79067,
          -67.12
         ],
         "mode": "lines",
         "showlegend": false,
         "type": "scattergeo"
        },
        {
         "lat": [
          -24.0575,
          -25.09077
         ],
         "line": {
          "color": "gray",
          "width": 2
         },
         "lon": [
          -67.12,
          -66.81628
         ],
         "mode": "lines",
         "showlegend": false,
         "type": "scattergeo"
        },
        {
         "lat": [
          -25.09077,
          -25.3927
         ],
         "line": {
          "color": "gray",
          "width": 2
         },
         "lon": [
          -66.81628,
          -67.04878
         ],
         "mode": "lines",
         "showlegend": false,
         "type": "scattergeo"
        },
        {
         "lat": [
          -25.3927,
          -25.34532
         ],
         "line": {
          "color": "gray",
          "width": 2
         },
         "lon": [
          -67.04878,
          -66.94715
         ],
         "mode": "lines",
         "showlegend": false,
         "type": "scattergeo"
        },
        {
         "lat": [
          -25.34532,
          -25.47594
         ],
         "line": {
          "color": "gray",
          "width": 2
         },
         "lon": [
          -66.94715,
          -67.14368
         ],
         "mode": "lines",
         "showlegend": false,
         "type": "scattergeo"
        },
        {
         "lat": [
          -25.47594,
          -25.03672
         ],
         "line": {
          "color": "gray",
          "width": 2
         },
         "lon": [
          -67.14368,
          -67.12411
         ],
         "mode": "lines",
         "showlegend": false,
         "type": "scattergeo"
        },
        {
         "lat": [
          -25.03672,
          -24.69897
         ],
         "line": {
          "color": "gray",
          "width": 2
         },
         "lon": [
          -67.12411,
          -66.81781
         ],
         "mode": "lines",
         "showlegend": false,
         "type": "scattergeo"
        },
        {
         "lat": [
          -24.69897,
          -24.57086
         ],
         "line": {
          "color": "gray",
          "width": 2
         },
         "lon": [
          -66.81781,
          -66.70459
         ],
         "mode": "lines",
         "showlegend": false,
         "type": "scattergeo"
        },
        {
         "lat": [
          -24.57086,
          -24.5889
         ],
         "line": {
          "color": "gray",
          "width": 2
         },
         "lon": [
          -66.70459,
          -66.60444
         ],
         "mode": "lines",
         "showlegend": false,
         "type": "scattergeo"
        },
        {
         "lat": [
          -24.5889,
          -26.49883
         ],
         "line": {
          "color": "gray",
          "width": 2
         },
         "lon": [
          -66.60444,
          -67.42899
         ],
         "mode": "lines",
         "showlegend": false,
         "type": "scattergeo"
        },
        {
         "lat": [
          -26.49883,
          -27.36413
         ],
         "line": {
          "color": "gray",
          "width": 2
         },
         "lon": [
          -67.42899,
          -68.66513
         ],
         "mode": "lines",
         "showlegend": false,
         "type": "scattergeo"
        },
        {
         "lat": [
          -27.36413,
          -26.9145
         ],
         "line": {
          "color": "gray",
          "width": 2
         },
         "lon": [
          -68.66513,
          -69.06693
         ],
         "mode": "lines",
         "showlegend": false,
         "type": "scattergeo"
        },
        {
         "lat": [
          -26.9145,
          -24.81373
         ],
         "line": {
          "color": "gray",
          "width": 2
         },
         "lon": [
          -69.06693,
          -68.30736
         ],
         "mode": "lines",
         "showlegend": false,
         "type": "scattergeo"
        },
        {
         "lat": [
          -24.81373,
          -25.01162
         ],
         "line": {
          "color": "gray",
          "width": 2
         },
         "lon": [
          -68.30736,
          -68.32125
         ],
         "mode": "lines",
         "showlegend": false,
         "type": "scattergeo"
        },
        {
         "lat": [
          -25.01162,
          -24.77014
         ],
         "line": {
          "color": "gray",
          "width": 2
         },
         "lon": [
          -68.32125,
          -67.70972
         ],
         "mode": "lines",
         "showlegend": false,
         "type": "scattergeo"
        },
        {
         "lat": [
          -24.77014,
          -25.24472
         ],
         "line": {
          "color": "gray",
          "width": 2
         },
         "lon": [
          -67.70972,
          -66.74833
         ],
         "mode": "lines",
         "showlegend": false,
         "type": "scattergeo"
        },
        {
         "lat": [
          -25.24472,
          -25.22556
         ],
         "line": {
          "color": "gray",
          "width": 2
         },
         "lon": [
          -66.74833,
          -66.98187
         ],
         "mode": "lines",
         "showlegend": false,
         "type": "scattergeo"
        },
        {
         "lat": [
          -25.22556,
          -25.56327
         ],
         "line": {
          "color": "gray",
          "width": 2
         },
         "lon": [
          -66.98187,
          -66.87777
         ],
         "mode": "lines",
         "showlegend": false,
         "type": "scattergeo"
        },
        {
         "lat": [
          -25.56327,
          -26.9
         ],
         "line": {
          "color": "gray",
          "width": 2
         },
         "lon": [
          -66.87777,
          -68.42526
         ],
         "mode": "lines",
         "showlegend": false,
         "type": "scattergeo"
        },
        {
         "lat": [
          -26.9,
          -26.88222
         ],
         "line": {
          "color": "gray",
          "width": 2
         },
         "lon": [
          -68.42526,
          -68.47639
         ],
         "mode": "lines",
         "showlegend": false,
         "type": "scattergeo"
        },
        {
         "lat": [
          -26.88222,
          -26.93886
         ],
         "line": {
          "color": "gray",
          "width": 2
         },
         "lon": [
          -68.47639,
          -68.12172
         ],
         "mode": "lines",
         "showlegend": false,
         "type": "scattergeo"
        },
        {
         "lat": [
          -26.93886,
          -24.47854
         ],
         "line": {
          "color": "gray",
          "width": 2
         },
         "lon": [
          -68.12172,
          -67.02077
         ],
         "mode": "lines",
         "showlegend": false,
         "type": "scattergeo"
        },
        {
         "lat": [
          -24.47854,
          -24.20374
         ],
         "line": {
          "color": "gray",
          "width": 2
         },
         "lon": [
          -67.02077,
          -66.99009
         ],
         "mode": "lines",
         "showlegend": false,
         "type": "scattergeo"
        },
        {
         "lat": [
          -24.20374,
          -24.1127
         ],
         "line": {
          "color": "gray",
          "width": 2
         },
         "lon": [
          -66.99009,
          -67.17265
         ],
         "mode": "lines",
         "showlegend": false,
         "type": "scattergeo"
        },
        {
         "lat": [
          -24.1127,
          -24.32172
         ],
         "line": {
          "color": "gray",
          "width": 2
         },
         "lon": [
          -67.17265,
          -67.6086
         ],
         "mode": "lines",
         "showlegend": false,
         "type": "scattergeo"
        },
        {
         "lat": [
          -24.32172,
          -21.22609
         ],
         "line": {
          "color": "gray",
          "width": 2
         },
         "lon": [
          -67.6086,
          -68.31825
         ],
         "mode": "lines",
         "showlegend": false,
         "type": "scattergeo"
        },
        {
         "lat": [
          -21.22609,
          -23.68466
         ],
         "line": {
          "color": "gray",
          "width": 2
         },
         "lon": [
          -68.31825,
          -65.99121
         ],
         "mode": "lines",
         "showlegend": false,
         "type": "scattergeo"
        },
        {
         "lat": [
          -23.68466,
          -24.99112
         ],
         "line": {
          "color": "gray",
          "width": 2
         },
         "lon": [
          -65.99121,
          -68.19351
         ],
         "mode": "lines",
         "showlegend": false,
         "type": "scattergeo"
        },
        {
         "customdata": [
          [
           195760,
           "East Taijinair",
           "Lithium",
           "Lithium"
          ],
          [
           18000,
           "Xiari Hamu",
           "Nickel, Cobalt, Copper",
           "Cobalt"
          ],
          [
           440000,
           "Xiari Hamu",
           "Nickel, Cobalt, Copper",
           "Nickel"
          ],
          [
           1020010,
           "Qinghai Yiliping",
           "Lithium, Potash",
           "Lithium"
          ],
          [
           218000,
           "Huangshan Nan",
           "Nickel, Copper, Cobalt, Gold, Silver",
           "Nickel"
          ],
          [
           155382,
           "Kalatongke",
           "Nickel, Copper, Cobalt, Platinum, Palladium, Gold, Silver",
           "Nickel"
          ],
          [
           40700,
           "Baishiquan",
           "Nickel, Copper",
           "Nickel"
          ],
          [
           292163,
           "East Yellow Mountain",
           "Nickel, Copper, Cobalt",
           "Nickel"
          ]
         ],
         "hovertemplate": "<b>%{customdata[1]}</b><br>Latitude: %{lat}<br>Longitude: %{lon}<br>Commodities: %{customdata[2]}<br>Primary Commodity: %{customdata[3]}<br>Reserves: %{customdata[0]:,.0f} tonnes",
         "lat": {
          "bdata": "9DKK5ZayQkCeew+XHD9CQJ57D5ccP0JAu0T11sD+QkA5Yi0+BXRFQCMtlbcjYEdA/cHAc+8RRUA26iEa3SFFQA==",
          "dtype": "f8"
         },
         "lon": {
          "bdata": "I/jfSnaEV0CMEB5tHFdXQIwQHm0cV1dALCtNSkFrV0CNtFTejmBXQN1B7Eyha1ZAmdNlMbHXV0BJnYAmwqZXQA==",
          "dtype": "f8"
         },
         "marker": {
          "size": 8,
          "symbol": "circle"
         },
         "mode": "markers+text",
         "name": "Cluster 13",
         "textposition": "bottom center",
         "type": "scattergeo"
        },
        {
         "lat": [
          37.99026,
          37.39523
         ],
         "line": {
          "color": "gray",
          "width": 2
         },
         "lon": [
          93.67586,
          94.06972
         ],
         "mode": "lines",
         "showlegend": false,
         "type": "scattergeo"
        },
        {
         "lat": [
          37.39523,
          36.49306
         ],
         "line": {
          "color": "gray",
          "width": 2
         },
         "lon": [
          94.06972,
          93.36111
         ],
         "mode": "lines",
         "showlegend": false,
         "type": "scattergeo"
        },
        {
         "lat": [
          36.49306,
          42.26456
         ],
         "line": {
          "color": "gray",
          "width": 2
         },
         "lon": [
          93.36111,
          94.6056
         ],
         "mode": "lines",
         "showlegend": false,
         "type": "scattergeo"
        },
        {
         "lat": [
          42.26456,
          42.90641
         ],
         "line": {
          "color": "gray",
          "width": 2
         },
         "lon": [
          94.6056,
          93.50872
         ],
         "mode": "lines",
         "showlegend": false,
         "type": "scattergeo"
        },
        {
         "lat": [
          42.90641,
          46.75109
         ],
         "line": {
          "color": "gray",
          "width": 2
         },
         "lon": [
          93.50872,
          89.68172
         ],
         "mode": "lines",
         "showlegend": false,
         "type": "scattergeo"
        },
        {
         "lat": [
          46.75109,
          42.14012
         ],
         "line": {
          "color": "gray",
          "width": 2
         },
         "lon": [
          89.68172,
          95.37019
         ],
         "mode": "lines",
         "showlegend": false,
         "type": "scattergeo"
        },
        {
         "customdata": [
          [
           141000,
           "Vila Oito",
           "Nickel",
           "Nickel"
          ],
          [
           31000,
           "Americano do Brasil",
           "Nickel, Cobalt, Copper",
           "Nickel"
          ],
          [
           3913000,
           "Jacare",
           "Nickel, Cobalt",
           "Nickel"
          ],
          [
           1193040,
           "Araxa",
           "Lanthanides, Niobium, Phosphate",
           "Lanthanides"
          ],
          [
           1100000,
           "Serra Verde",
           "Lanthanides",
           "Lanthanides"
          ],
          [
           723000,
           "Piaui",
           "Nickel, Cobalt",
           "Nickel"
          ],
          [
           34700,
           "Piaui",
           "Nickel, Cobalt",
           "Cobalt"
          ],
          [
           78700,
           "Vermelho",
           "Nickel, Cobalt, Copper",
           "Cobalt"
          ],
          [
           113600,
           "Araguaia",
           "Nickel, Cobalt, Iron Ore",
           "Cobalt"
          ],
          [
           2566926,
           "Araguaia",
           "Nickel, Cobalt, Iron Ore",
           "Nickel"
          ],
          [
           1555000,
           "Vermelho",
           "Nickel, Cobalt, Copper",
           "Nickel"
          ],
          [
           8200000,
           "Morro da Mina",
           "Manganese",
           "Manganese"
          ],
          [
           145000,
           "Codemin",
           "Nickel",
           "Nickel"
          ],
          [
           914300,
           "Santa Rita",
           "Nickel, Copper, Cobalt, Platinum, Palladium, Gold",
           "Nickel"
          ],
          [
           35900,
           "Santa Rita",
           "Nickel, Copper, Cobalt, Platinum, Palladium, Gold",
           "Cobalt"
          ],
          [
           2299800,
           "Onca Puma",
           "Nickel, Iron Ore",
           "Nickel"
          ],
          [
           1172000,
           "Barro Alto",
           "Nickel",
           "Nickel"
          ],
          [
           1204400,
           "Jaguar",
           "Nickel, Copper, Cobalt, Platinum, Palladium, Zinc",
           "Nickel"
          ],
          [
           150800,
           "Salinas",
           "Lithium, Spodumene, Caesium, Tantalum",
           "Lithium"
          ],
          [
           766310,
           "Itinga",
           "Lithium, Niobium, Tin, Tantalum, Spodumene, Caesium",
           "Lithium"
          ],
          [
           5299,
           "PCH",
           "Lanthanides, Niobium, Terbium, Dysprosium, Neodymium, Praseodymium, Scandium, Cobalt, Samarium, Europium, Gadolinium, Holmium, Erbium, Thulium, Ytterbium, Lutetium, Lanthanum, Cerium, Yttrium",
           "Cobalt"
          ],
          [
           948900,
           "Salinas",
           "Lithium, Spodumene",
           "Lithium"
          ],
          [
           1069000,
           "Grota do Cirilo",
           "Lithium, Spodumene",
           "Lithium"
          ],
          [
           6602000,
           "Tiros",
           "Lanthanides, Titanium",
           "Lanthanides"
          ],
          [
           36600,
           "Jaguar",
           "Nickel, Copper, Cobalt, Platinum, Palladium, Zinc",
           "Cobalt"
          ],
          [
           98983760,
           "Dom Silverio",
           "Manganese",
           "Manganese"
          ],
          [
           150200,
           "PCH",
           "Lanthanides, Niobium, Terbium, Dysprosium, Neodymium, Praseodymium, Scandium, Cobalt, Samarium, Europium, Gadolinium, Holmium, Erbium, Thulium, Ytterbium, Lutetium, Lanthanum, Cerium, Yttrium",
           "Lanthanides"
          ],
          [
           2673400,
           "Caldeira",
           "Lanthanides, Neodymium, Praseodymium, Terbium, Dysprosium, Lanthanum, Cerium, Samarium, Erbium, Gadolinium, Holmium, Europium, Thulium, Ytterbium, Lutetium",
           "Lanthanides"
          ],
          [
           1236700,
           "Colossus",
           "Lanthanides, Yttrium, U3O8, Thorium, Praseodymium, Neodymium, Terbium, Dysprosium",
           "Lanthanides"
          ]
         ],
         "hovertemplate": "<b>%{customdata[1]}</b><br>Latitude: %{lat}<br>Longitude: %{lon}<br>Commodities: %{customdata[2]}<br>Primary Commodity: %{customdata[3]}<br>Reserves: %{customdata[0]:,.0f} tonnes",
         "lat": {
          "bdata": "kWEVb2R+H8BeY5eo3jowwLTlXIqrqhjABW7dzVOlM8BaZDvfTw0rwEATYcPT6yDAQBNhw9PrIMAxX16AffQZwCUjZ2FP+x/AJSNnYU/7H8AxX16AffQZwMP1KFyPojTAcVXZd0VQLMBwlLw6x2AswHCUvDrHYCzAluzYCMRLGsAm4q3zbzcuwCxlGeJY9xnA43DmV3MgMMD+JhQi4MgwwMSUSKKXWTDAYKsEi8MhMMAS2nIuxb0wwGr7V1aaDDPALGUZ4lj3GcCa6zTSUhk0wMSUSKKXWTDAWkdVE0T9NcD36XjMQN01wA==",
          "dtype": "f8"
         },
         "lon": {
          "bdata": "AOMZNPSrSMAKSzygbAZJwFA25Qrv7knA3Esao3V4R8BYObTIdv5HwPMC7KNT+0TA8wLso1P7RMDeq1Ym/PJIwHfzVIfctEjAd/NUh9y0SMDeq1Ym/PJIwN9PjZdu4kXA8x/Sb18rSMB7iEZ3ENtDwHuIRncQ20PAFsH/VrKLScDkEHFzKoVIwGkAb4EEmUnAURToE3kORcArE36pn/NEwLBVgsXhmEnAiNf1C3YPRcArweJw5vNEwL9gN2xb9EbAaQBvgQSZScDiOzHrxXBFwLBVgsXhmEnAAYdQpWY/R8A1tWytL0ZHwA==",
          "dtype": "f8"
         },
         "marker": {
          "size": 8,
          "symbol": "circle"
         },
         "mode": "markers+text",
         "name": "Cluster 14",
         "textposition": "bottom center",
         "type": "scattergeo"
        },
        {
         "lat": [
          -20.09892,
          -20.635
         ],
         "line": {
          "color": "gray",
          "width": 2
         },
         "lon": [
          -42.88104,
          -43.769
         ],
         "mode": "lines",
         "showlegend": false,
         "type": "scattergeo"
        },
        {
         "lat": [
          -20.635,
          -19.04923
         ],
         "line": {
          "color": "gray",
          "width": 2
         },
         "lon": [
          -43.769,
          -45.90904
         ],
         "mode": "lines",
         "showlegend": false,
         "type": "scattergeo"
        },
        {
         "lat": [
          -19.04923,
          -19.64581
         ],
         "line": {
          "color": "gray",
          "width": 2
         },
         "lon": [
          -45.90904,
          -46.94109
         ],
         "mode": "lines",
         "showlegend": false,
         "type": "scattergeo"
        },
        {
         "lat": [
          -19.64581,
          -21.98932
         ],
         "line": {
          "color": "gray",
          "width": 2
         },
         "lon": [
          -46.94109,
          -46.49532
         ],
         "mode": "lines",
         "showlegend": false,
         "type": "scattergeo"
        },
        {
         "lat": [
          -21.98932,
          -21.86427
         ],
         "line": {
          "color": "gray",
          "width": 2
         },
         "lon": [
          -46.49532,
          -46.54833
         ],
         "mode": "lines",
         "showlegend": false,
         "type": "scattergeo"
        },
        {
         "lat": [
          -21.86427,
          -6.16667
         ],
         "line": {
          "color": "gray",
          "width": 2
         },
         "lon": [
          -46.54833,
          -51.86667
         ],
         "mode": "lines",
         "showlegend": false,
         "type": "scattergeo"
        },
        {
         "customdata": [
          [
           54149,
           "Alberta II",
           "Lithium, Tin, Tantalum",
           "Lithium"
          ],
          [
           51000,
           "Alvarroes",
           "Lithium",
           "Lithium"
          ],
          [
           680000,
           "San Jose",
           "Lithium, Tin, Tungsten, Caesium",
           "Lithium"
          ],
          [
           293400,
           "Mina do Barroso",
           "Lithium, Tantalum, Iron Ore, Spodumene",
           "Lithium"
          ],
          [
           34876,
           "Aguablanca",
           "Nickel, Copper, Cobalt, Platinum, Palladium, Gold, Silver",
           "Nickel"
          ],
          [
           897,
           "Aguablanca",
           "Nickel, Copper, Cobalt, Platinum, Palladium, Gold, Silver",
           "Cobalt"
          ]
         ],
         "hovertemplate": "<b>%{customdata[1]}</b><br>Latitude: %{lat}<br>Longitude: %{lon}<br>Commodities: %{customdata[2]}<br>Primary Commodity: %{customdata[3]}<br>Reserves: %{customdata[0]:,.0f} tonnes",
         "lat": {
          "bdata": "mnecoiM1RUBzgGCOHjdEQEKVmj3QukNAvfvjvWrNREDl7QinBftCQOXtCKcF+0JA",
          "dtype": "f8"
         },
         "lon": {
          "bdata": "SPlJtU+XIMB4eqUsQ1wdwCkF3V7SWBnAr5l8s80NH8BZaVIKur0YwFlpUgq6vRjA",
          "dtype": "f8"
         },
         "marker": {
          "size": 8,
          "symbol": "circle"
         },
         "mode": "markers+text",
         "name": "Cluster 15",
         "textposition": "bottom center",
         "type": "scattergeo"
        },
        {
         "lat": [
          39.45948,
          41.60482
         ],
         "line": {
          "color": "gray",
          "width": 2
         },
         "lon": [
          -6.33674,
          -7.76348
         ],
         "mode": "lines",
         "showlegend": false,
         "type": "scattergeo"
        },
        {
         "lat": [
          41.60482,
          42.41515
         ],
         "line": {
          "color": "gray",
          "width": 2
         },
         "lon": [
          -7.76348,
          -8.29553
         ],
         "mode": "lines",
         "showlegend": false,
         "type": "scattergeo"
        },
        {
         "lat": [
          42.41515,
          40.43062
         ],
         "line": {
          "color": "gray",
          "width": 2
         },
         "lon": [
          -8.29553,
          -7.3401
         ],
         "mode": "lines",
         "showlegend": false,
         "type": "scattergeo"
        },
        {
         "lat": [
          40.43062,
          37.96111
         ],
         "line": {
          "color": "gray",
          "width": 2
         },
         "lon": [
          -7.3401,
          -6.18528
         ],
         "mode": "lines",
         "showlegend": false,
         "type": "scattergeo"
        },
        {
         "customdata": [
          [
           37093,
           "Baiyin Huzuo",
           "Nickel, Cobalt",
           "Nickel"
          ],
          [
           21226,
           "Juruogou",
           "Nickel, Cobalt",
           "Nickel"
          ],
          [
           3692,
           "Juruogou",
           "Nickel, Cobalt",
           "Cobalt"
          ],
          [
           6005,
           "Baiyin Huzuo",
           "Nickel, Cobalt",
           "Cobalt"
          ],
          [
           574000,
           "Vilasto",
           "Lithium",
           "Lithium"
          ]
         ],
         "hovertemplate": "<b>%{customdata[1]}</b><br>Latitude: %{lat}<br>Longitude: %{lon}<br>Commodities: %{customdata[2]}<br>Primary Commodity: %{customdata[3]}<br>Reserves: %{customdata[0]:,.0f} tonnes",
         "lat": {
          "bdata": "e0563/g+RkCw/s9hvkRGQLD+z2G+REZAe0563/g+RkB1sP7PYQpGQA==",
          "dtype": "f8"
         },
         "lon": {
          "bdata": "/RNcrKhlXUAgJAuYwGFdQCAkC5jAYV1A/RNcrKhlXUAxQni0cVxdQA==",
          "dtype": "f8"
         },
         "marker": {
          "size": 8,
          "symbol": "circle"
         },
         "mode": "markers+text",
         "name": "Cluster 16",
         "textposition": "bottom center",
         "type": "scattergeo"
        },
        {
         "lat": [
          44.08111,
          44.49197
         ],
         "line": {
          "color": "gray",
          "width": 2
         },
         "lon": [
          117.44444,
          117.58842
         ],
         "mode": "lines",
         "showlegend": false,
         "type": "scattergeo"
        },
        {
         "lat": [
          44.49197,
          44.53706
         ],
         "line": {
          "color": "gray",
          "width": 2
         },
         "lon": [
          117.58842,
          117.52738
         ],
         "mode": "lines",
         "showlegend": false,
         "type": "scattergeo"
        },
        {
         "customdata": [
          [
           2744,
           "Flemington",
           "Cobalt, Scandium, Nickel, Gold, Copper",
           "Cobalt"
          ],
          [
           162000,
           "Homeville",
           "Nickel, Cobalt, Magnesium, Alumina, Scandium, Iron Ore",
           "Nickel"
          ],
          [
           9900,
           "Homeville",
           "Nickel, Cobalt, Magnesium, Alumina, Scandium, Iron Ore",
           "Cobalt"
          ],
          [
           46000,
           "Young",
           "Nickel, Cobalt, Scandium, Magnesium, Iron Ore, Aluminum",
           "Cobalt"
          ],
          [
           589000,
           "Young",
           "Nickel, Cobalt, Scandium, Magnesium, Iron Ore, Aluminum",
           "Nickel"
          ],
          [
           935000,
           "Clean TeQ Sunrise",
           "Nickel, Cobalt, Scandium, Platinum, Palladium",
           "Nickel"
          ],
          [
           144378,
           "Barnes Hill",
           "Nickel, Cobalt, Iron Ore",
           "Nickel"
          ],
          [
           168000,
           "Clean TeQ Sunrise",
           "Nickel, Cobalt, Scandium, Platinum, Palladium",
           "Cobalt"
          ],
          [
           11803,
           "Barnes Hill",
           "Nickel, Cobalt, Iron Ore",
           "Cobalt"
          ],
          [
           254000,
           "Avebury",
           "Nickel, Cobalt, Arsenic",
           "Nickel"
          ],
          [
           6759,
           "Avebury",
           "Nickel, Cobalt, Arsenic",
           "Cobalt"
          ],
          [
           21556,
           "Broken Hill",
           "Cobalt, Zinc, Copper, Lead, Silver, Lithium, Platinum, Gold, Lanthanides",
           "Cobalt"
          ],
          [
           70200,
           "Narraburra",
           "Lanthanides, Yttrium, Niobium, Tantalum, Lithium, Zircon, Gallium, Hafnium, Rubidium, Cerium, Dysprosium, Erbium, Europium, Gadolinium, Holmium, Lanthanum, Lutetium, Neodymium, Praseodymium, Samarium, Terbium, Thulium, Ytterbium, Tin, Tungsten",
           "Lanthanides"
          ],
          [
           87300,
           "Broken Hill",
           "Cobalt, Lead, Zinc, Silver, Copper, Iron Ore, Gold, Nickel",
           "Cobalt"
          ],
          [
           17000,
           "Broken Hill",
           "Cobalt, Lead, Zinc, Silver, Copper, Iron Ore, Gold, Nickel",
           "Nickel"
          ],
          [
           16000,
           "Mitre Hill",
           "Lanthanides, U3O8, Thorium, Praseodymium, Neodymium, Dysprosium, Terbium",
           "Lanthanides"
          ],
          [
           177000,
           "Koppamurra",
           "Lanthanides, U3O8, Neodymium, Praseodymium, Terbium, Dysprosium",
           "Lanthanides"
          ]
         ],
         "hovertemplate": "<b>%{customdata[1]}</b><br>Latitude: %{lat}<br>Longitude: %{lon}<br>Commodities: %{customdata[2]}<br>Primary Commodity: %{customdata[3]}<br>Reserves: %{customdata[0]:,.0f} tonnes",
         "lat": {
          "bdata": "JV0z+WZfQMAZVvFG5gFAwBlW8UbmAUDAH6LRHcQWQcAfotEdxBZBwL1SliGOYUDAOUVHcvmbRMC9UpYhjmFAwDlFR3L5m0TA/TBCeLT1RMD9MEJ4tPVEwGJnCp3XAEDAmpmZmZkpQcDyzTY3pgtAwPLNNjemC0DAFJZ4QNmcQsDH155ZEpxCwA==",
          "dtype": "f8"
         },
         "lon": {
          "bdata": "xcn9DkVsYkBK7xtfe2FiQErvG197YWJADf0TXKyBYkAN/RNcrIFiQDj4wmSqbWJAVOOlm8RYYkA4+MJkqm1iQFTjpZvEWGJAQxzr4jYoYkBDHOviNihiQMmwijcypWFA+rMfKSJyYkAVOq+xS6ZhQBU6r7FLpmFAC+9yEd+fYUCjryDNWJ5hQA==",
          "dtype": "f8"
         },
         "marker": {
          "size": 8,
          "symbol": "circle"
         },
         "mode": "markers+text",
         "name": "Cluster 17",
         "textposition": "bottom center",
         "type": "scattergeo"
        },
        {
         "lat": [
          -32.76215,
          -34.17786
         ],
         "line": {
          "color": "gray",
          "width": 2
         },
         "lon": [
          147.42705,
          148.05229
         ],
         "mode": "lines",
         "showlegend": false,
         "type": "scattergeo"
        },
        {
         "lat": [
          -34.17786,
          -34.325
         ],
         "line": {
          "color": "gray",
          "width": 2
         },
         "lon": [
          148.05229,
          147.56667
         ],
         "mode": "lines",
         "showlegend": false,
         "type": "scattergeo"
        },
        {
         "lat": [
          -34.325,
          -32.01484
         ],
         "line": {
          "color": "gray",
          "width": 2
         },
         "lon": [
          147.56667,
          147.04631
         ],
         "mode": "lines",
         "showlegend": false,
         "type": "scattergeo"
        },
        {
         "lat": [
          -32.01484,
          -41.91957
         ],
         "line": {
          "color": "gray",
          "width": 2
         },
         "lon": [
          147.04631,
          145.2567
         ],
         "mode": "lines",
         "showlegend": false,
         "type": "scattergeo"
        },
        {
         "lat": [
          -41.91957,
          -41.21855
         ],
         "line": {
          "color": "gray",
          "width": 2
         },
         "lon": [
          145.2567,
          146.774
         ],
         "mode": "lines",
         "showlegend": false,
         "type": "scattergeo"
        },
        {
         "lat": [
          -41.21855,
          -37.21931
         ],
         "line": {
          "color": "gray",
          "width": 2
         },
         "lon": [
          146.774,
          140.94834
         ],
         "mode": "lines",
         "showlegend": false,
         "type": "scattergeo"
        },
        {
         "lat": [
          -37.21931,
          -37.22538
         ],
         "line": {
          "color": "gray",
          "width": 2
         },
         "lon": [
          140.94834,
          140.99598
         ],
         "mode": "lines",
         "showlegend": false,
         "type": "scattergeo"
        },
        {
         "lat": [
          -37.22538,
          -32.09101
         ],
         "line": {
          "color": "gray",
          "width": 2
         },
         "lon": [
          140.99598,
          141.19674
         ],
         "mode": "lines",
         "showlegend": false,
         "type": "scattergeo"
        },
        {
         "lat": [
          -32.09101,
          -32.00658
         ],
         "line": {
          "color": "gray",
          "width": 2
         },
         "lon": [
          141.19674,
          141.16238
         ],
         "mode": "lines",
         "showlegend": false,
         "type": "scattergeo"
        },
        {
         "lat": [
          -32.00658,
          -32.74533
         ],
         "line": {
          "color": "gray",
          "width": 2
         },
         "lon": [
          141.16238,
          147.38343
         ],
         "mode": "lines",
         "showlegend": false,
         "type": "scattergeo"
        },
        {
         "customdata": [
          [
           201177,
           "Skroska",
           "Nickel, Iron Ore, Cobalt",
           "Nickel"
          ],
          [
           13209,
           "Skroska",
           "Nickel, Iron Ore, Cobalt",
           "Cobalt"
          ],
          [
           2990000,
           "Cinovec",
           "Lithium, Tin, Tungsten, Potash, Niobium, Tantalum",
           "Lithium"
          ],
          [
           2581000,
           "Jadar",
           "Lithium, Borates",
           "Lithium"
          ],
          [
           129000,
           "Wolfsberg",
           "Lithium, Spodumene",
           "Lithium"
          ],
          [
           26960000,
           "Chvaletice",
           "Manganese",
           "Manganese"
          ],
          [
           11217188,
           "Vulcan",
           "Lithium",
           "Lithium"
          ],
          [
           1100000,
           "EMILI",
           "Lithium",
           "Lithium"
          ],
          [
           1076200,
           "Zinnwald",
           "Lithium, Tin, Tungsten, Potash",
           "Lithium"
          ],
          [
           843000,
           "Lazio",
           "Lithium, Borates, Potash",
           "Lithium"
          ]
         ],
         "hovertemplate": "<b>%{customdata[1]}</b><br>Latitude: %{lat}<br>Longitude: %{lon}<br>Commodities: %{customdata[2]}<br>Primary Commodity: %{customdata[3]}<br>Reserves: %{customdata[0]:,.0f} tonnes",
         "lat": {
          "bdata": "24XmOo2MREDbheY6jYxEQFQAjGfQXElA1NSytb5ERkBJnYAmwmpHQMYzaOifBElACRaHM7++SEBB8WPMXRdHQMpUwaikXklAW0I+6NkMRUA=",
          "dtype": "f8"
         },
         "lon": {
          "bdata": "8YCyKVeANEDxgLIpV4A0QPFL/bypiCtA5nlwd9ZWM0DNBplk5PwtQG9HOC144S5AP1JEhlUsIUDUK2UZ4pgHQIWZtn9llStAF0hQ/BizKEA=",
          "dtype": "f8"
         },
         "marker": {
          "size": 8,
          "symbol": "circle"
         },
         "mode": "markers+text",
         "name": "Cluster 18",
         "textposition": "bottom center",
         "type": "scattergeo"
        },
        {
         "lat": [
          50.03613,
          49.49021
         ],
         "line": {
          "color": "gray",
          "width": 2
         },
         "lon": [
          15.44037,
          8.58659
         ],
         "mode": "lines",
         "showlegend": false,
         "type": "scattergeo"
        },
        {
         "lat": [
          49.49021,
          50.72511
         ],
         "line": {
          "color": "gray",
          "width": 2
         },
         "lon": [
          8.58659,
          13.76692
         ],
         "mode": "lines",
         "showlegend": false,
         "type": "scattergeo"
        },
        {
         "lat": [
          50.72511,
          50.7394
         ],
         "line": {
          "color": "gray",
          "width": 2
         },
         "lon": [
          13.76692,
          13.79179
         ],
         "mode": "lines",
         "showlegend": false,
         "type": "scattergeo"
        },
        {
         "lat": [
          50.7394,
          44.53707
         ],
         "line": {
          "color": "gray",
          "width": 2
         },
         "lon": [
          13.79179,
          19.33921
         ],
         "mode": "lines",
         "showlegend": false,
         "type": "scattergeo"
        },
        {
         "lat": [
          44.53707,
          42.1004
         ],
         "line": {
          "color": "gray",
          "width": 2
         },
         "lon": [
          19.33921,
          12.3498
         ],
         "mode": "lines",
         "showlegend": false,
         "type": "scattergeo"
        },
        {
         "lat": [
          42.1004,
          46.18255
         ],
         "line": {
          "color": "gray",
          "width": 2
         },
         "lon": [
          12.3498,
          2.94965
         ],
         "mode": "lines",
         "showlegend": false,
         "type": "scattergeo"
        },
        {
         "lat": [
          46.18255,
          46.83405
         ],
         "line": {
          "color": "gray",
          "width": 2
         },
         "lon": [
          2.94965,
          14.99393
         ],
         "mode": "lines",
         "showlegend": false,
         "type": "scattergeo"
        },
        {
         "lat": [
          46.83405,
          41.09806
         ],
         "line": {
          "color": "gray",
          "width": 2
         },
         "lon": [
          14.99393,
          20.50133
         ],
         "mode": "lines",
         "showlegend": false,
         "type": "scattergeo"
        }
       ],
       "layout": {
        "geo": {
         "countrycolor": "white",
         "landcolor": "lightgray",
         "lataxis": {
          "range": [
           -51.91957,
           81.04355
          ]
         },
         "lonaxis": {
          "range": [
           -156.29058,
           176.10385
          ]
         },
         "scope": "world",
         "showland": true
        },
        "margin": {
         "b": 30,
         "l": 5,
         "r": 5,
         "t": 30
        },
        "template": {
         "data": {
          "bar": [
           {
            "error_x": {
             "color": "#2a3f5f"
            },
            "error_y": {
             "color": "#2a3f5f"
            },
            "marker": {
             "line": {
              "color": "white",
              "width": 0.5
             },
             "pattern": {
              "fillmode": "overlay",
              "size": 10,
              "solidity": 0.2
             }
            },
            "type": "bar"
           }
          ],
          "barpolar": [
           {
            "marker": {
             "line": {
              "color": "white",
              "width": 0.5
             },
             "pattern": {
              "fillmode": "overlay",
              "size": 10,
              "solidity": 0.2
             }
            },
            "type": "barpolar"
           }
          ],
          "carpet": [
           {
            "aaxis": {
             "endlinecolor": "#2a3f5f",
             "gridcolor": "#C8D4E3",
             "linecolor": "#C8D4E3",
             "minorgridcolor": "#C8D4E3",
             "startlinecolor": "#2a3f5f"
            },
            "baxis": {
             "endlinecolor": "#2a3f5f",
             "gridcolor": "#C8D4E3",
             "linecolor": "#C8D4E3",
             "minorgridcolor": "#C8D4E3",
             "startlinecolor": "#2a3f5f"
            },
            "type": "carpet"
           }
          ],
          "choropleth": [
           {
            "colorbar": {
             "outlinewidth": 0,
             "ticks": ""
            },
            "type": "choropleth"
           }
          ],
          "contour": [
           {
            "colorbar": {
             "outlinewidth": 0,
             "ticks": ""
            },
            "colorscale": [
             [
              0,
              "#0d0887"
             ],
             [
              0.1111111111111111,
              "#46039f"
             ],
             [
              0.2222222222222222,
              "#7201a8"
             ],
             [
              0.3333333333333333,
              "#9c179e"
             ],
             [
              0.4444444444444444,
              "#bd3786"
             ],
             [
              0.5555555555555556,
              "#d8576b"
             ],
             [
              0.6666666666666666,
              "#ed7953"
             ],
             [
              0.7777777777777778,
              "#fb9f3a"
             ],
             [
              0.8888888888888888,
              "#fdca26"
             ],
             [
              1,
              "#f0f921"
             ]
            ],
            "type": "contour"
           }
          ],
          "contourcarpet": [
           {
            "colorbar": {
             "outlinewidth": 0,
             "ticks": ""
            },
            "type": "contourcarpet"
           }
          ],
          "heatmap": [
           {
            "colorbar": {
             "outlinewidth": 0,
             "ticks": ""
            },
            "colorscale": [
             [
              0,
              "#0d0887"
             ],
             [
              0.1111111111111111,
              "#46039f"
             ],
             [
              0.2222222222222222,
              "#7201a8"
             ],
             [
              0.3333333333333333,
              "#9c179e"
             ],
             [
              0.4444444444444444,
              "#bd3786"
             ],
             [
              0.5555555555555556,
              "#d8576b"
             ],
             [
              0.6666666666666666,
              "#ed7953"
             ],
             [
              0.7777777777777778,
              "#fb9f3a"
             ],
             [
              0.8888888888888888,
              "#fdca26"
             ],
             [
              1,
              "#f0f921"
             ]
            ],
            "type": "heatmap"
           }
          ],
          "histogram": [
           {
            "marker": {
             "pattern": {
              "fillmode": "overlay",
              "size": 10,
              "solidity": 0.2
             }
            },
            "type": "histogram"
           }
          ],
          "histogram2d": [
           {
            "colorbar": {
             "outlinewidth": 0,
             "ticks": ""
            },
            "colorscale": [
             [
              0,
              "#0d0887"
             ],
             [
              0.1111111111111111,
              "#46039f"
             ],
             [
              0.2222222222222222,
              "#7201a8"
             ],
             [
              0.3333333333333333,
              "#9c179e"
             ],
             [
              0.4444444444444444,
              "#bd3786"
             ],
             [
              0.5555555555555556,
              "#d8576b"
             ],
             [
              0.6666666666666666,
              "#ed7953"
             ],
             [
              0.7777777777777778,
              "#fb9f3a"
             ],
             [
              0.8888888888888888,
              "#fdca26"
             ],
             [
              1,
              "#f0f921"
             ]
            ],
            "type": "histogram2d"
           }
          ],
          "histogram2dcontour": [
           {
            "colorbar": {
             "outlinewidth": 0,
             "ticks": ""
            },
            "colorscale": [
             [
              0,
              "#0d0887"
             ],
             [
              0.1111111111111111,
              "#46039f"
             ],
             [
              0.2222222222222222,
              "#7201a8"
             ],
             [
              0.3333333333333333,
              "#9c179e"
             ],
             [
              0.4444444444444444,
              "#bd3786"
             ],
             [
              0.5555555555555556,
              "#d8576b"
             ],
             [
              0.6666666666666666,
              "#ed7953"
             ],
             [
              0.7777777777777778,
              "#fb9f3a"
             ],
             [
              0.8888888888888888,
              "#fdca26"
             ],
             [
              1,
              "#f0f921"
             ]
            ],
            "type": "histogram2dcontour"
           }
          ],
          "mesh3d": [
           {
            "colorbar": {
             "outlinewidth": 0,
             "ticks": ""
            },
            "type": "mesh3d"
           }
          ],
          "parcoords": [
           {
            "line": {
             "colorbar": {
              "outlinewidth": 0,
              "ticks": ""
             }
            },
            "type": "parcoords"
           }
          ],
          "pie": [
           {
            "automargin": true,
            "type": "pie"
           }
          ],
          "scatter": [
           {
            "fillpattern": {
             "fillmode": "overlay",
             "size": 10,
             "solidity": 0.2
            },
            "type": "scatter"
           }
          ],
          "scatter3d": [
           {
            "line": {
             "colorbar": {
              "outlinewidth": 0,
              "ticks": ""
             }
            },
            "marker": {
             "colorbar": {
              "outlinewidth": 0,
              "ticks": ""
             }
            },
            "type": "scatter3d"
           }
          ],
          "scattercarpet": [
           {
            "marker": {
             "colorbar": {
              "outlinewidth": 0,
              "ticks": ""
             }
            },
            "type": "scattercarpet"
           }
          ],
          "scattergeo": [
           {
            "marker": {
             "colorbar": {
              "outlinewidth": 0,
              "ticks": ""
             }
            },
            "type": "scattergeo"
           }
          ],
          "scattergl": [
           {
            "marker": {
             "colorbar": {
              "outlinewidth": 0,
              "ticks": ""
             }
            },
            "type": "scattergl"
           }
          ],
          "scattermap": [
           {
            "marker": {
             "colorbar": {
              "outlinewidth": 0,
              "ticks": ""
             }
            },
            "type": "scattermap"
           }
          ],
          "scattermapbox": [
           {
            "marker": {
             "colorbar": {
              "outlinewidth": 0,
              "ticks": ""
             }
            },
            "type": "scattermapbox"
           }
          ],
          "scatterpolar": [
           {
            "marker": {
             "colorbar": {
              "outlinewidth": 0,
              "ticks": ""
             }
            },
            "type": "scatterpolar"
           }
          ],
          "scatterpolargl": [
           {
            "marker": {
             "colorbar": {
              "outlinewidth": 0,
              "ticks": ""
             }
            },
            "type": "scatterpolargl"
           }
          ],
          "scatterternary": [
           {
            "marker": {
             "colorbar": {
              "outlinewidth": 0,
              "ticks": ""
             }
            },
            "type": "scatterternary"
           }
          ],
          "surface": [
           {
            "colorbar": {
             "outlinewidth": 0,
             "ticks": ""
            },
            "colorscale": [
             [
              0,
              "#0d0887"
             ],
             [
              0.1111111111111111,
              "#46039f"
             ],
             [
              0.2222222222222222,
              "#7201a8"
             ],
             [
              0.3333333333333333,
              "#9c179e"
             ],
             [
              0.4444444444444444,
              "#bd3786"
             ],
             [
              0.5555555555555556,
              "#d8576b"
             ],
             [
              0.6666666666666666,
              "#ed7953"
             ],
             [
              0.7777777777777778,
              "#fb9f3a"
             ],
             [
              0.8888888888888888,
              "#fdca26"
             ],
             [
              1,
              "#f0f921"
             ]
            ],
            "type": "surface"
           }
          ],
          "table": [
           {
            "cells": {
             "fill": {
              "color": "#EBF0F8"
             },
             "line": {
              "color": "white"
             }
            },
            "header": {
             "fill": {
              "color": "#C8D4E3"
             },
             "line": {
              "color": "white"
             }
            },
            "type": "table"
           }
          ]
         },
         "layout": {
          "annotationdefaults": {
           "arrowcolor": "#2a3f5f",
           "arrowhead": 0,
           "arrowwidth": 1
          },
          "autotypenumbers": "strict",
          "coloraxis": {
           "colorbar": {
            "outlinewidth": 0,
            "ticks": ""
           }
          },
          "colorscale": {
           "diverging": [
            [
             0,
             "#8e0152"
            ],
            [
             0.1,
             "#c51b7d"
            ],
            [
             0.2,
             "#de77ae"
            ],
            [
             0.3,
             "#f1b6da"
            ],
            [
             0.4,
             "#fde0ef"
            ],
            [
             0.5,
             "#f7f7f7"
            ],
            [
             0.6,
             "#e6f5d0"
            ],
            [
             0.7,
             "#b8e186"
            ],
            [
             0.8,
             "#7fbc41"
            ],
            [
             0.9,
             "#4d9221"
            ],
            [
             1,
             "#276419"
            ]
           ],
           "sequential": [
            [
             0,
             "#0d0887"
            ],
            [
             0.1111111111111111,
             "#46039f"
            ],
            [
             0.2222222222222222,
             "#7201a8"
            ],
            [
             0.3333333333333333,
             "#9c179e"
            ],
            [
             0.4444444444444444,
             "#bd3786"
            ],
            [
             0.5555555555555556,
             "#d8576b"
            ],
            [
             0.6666666666666666,
             "#ed7953"
            ],
            [
             0.7777777777777778,
             "#fb9f3a"
            ],
            [
             0.8888888888888888,
             "#fdca26"
            ],
            [
             1,
             "#f0f921"
            ]
           ],
           "sequentialminus": [
            [
             0,
             "#0d0887"
            ],
            [
             0.1111111111111111,
             "#46039f"
            ],
            [
             0.2222222222222222,
             "#7201a8"
            ],
            [
             0.3333333333333333,
             "#9c179e"
            ],
            [
             0.4444444444444444,
             "#bd3786"
            ],
            [
             0.5555555555555556,
             "#d8576b"
            ],
            [
             0.6666666666666666,
             "#ed7953"
            ],
            [
             0.7777777777777778,
             "#fb9f3a"
            ],
            [
             0.8888888888888888,
             "#fdca26"
            ],
            [
             1,
             "#f0f921"
            ]
           ]
          },
          "colorway": [
           "#636efa",
           "#EF553B",
           "#00cc96",
           "#ab63fa",
           "#FFA15A",
           "#19d3f3",
           "#FF6692",
           "#B6E880",
           "#FF97FF",
           "#FECB52"
          ],
          "font": {
           "color": "#2a3f5f"
          },
          "geo": {
           "bgcolor": "white",
           "lakecolor": "white",
           "landcolor": "white",
           "showlakes": true,
           "showland": true,
           "subunitcolor": "#C8D4E3"
          },
          "hoverlabel": {
           "align": "left"
          },
          "hovermode": "closest",
          "mapbox": {
           "style": "light"
          },
          "paper_bgcolor": "white",
          "plot_bgcolor": "white",
          "polar": {
           "angularaxis": {
            "gridcolor": "#EBF0F8",
            "linecolor": "#EBF0F8",
            "ticks": ""
           },
           "bgcolor": "white",
           "radialaxis": {
            "gridcolor": "#EBF0F8",
            "linecolor": "#EBF0F8",
            "ticks": ""
           }
          },
          "scene": {
           "xaxis": {
            "backgroundcolor": "white",
            "gridcolor": "#DFE8F3",
            "gridwidth": 2,
            "linecolor": "#EBF0F8",
            "showbackground": true,
            "ticks": "",
            "zerolinecolor": "#EBF0F8"
           },
           "yaxis": {
            "backgroundcolor": "white",
            "gridcolor": "#DFE8F3",
            "gridwidth": 2,
            "linecolor": "#EBF0F8",
            "showbackground": true,
            "ticks": "",
            "zerolinecolor": "#EBF0F8"
           },
           "zaxis": {
            "backgroundcolor": "white",
            "gridcolor": "#DFE8F3",
            "gridwidth": 2,
            "linecolor": "#EBF0F8",
            "showbackground": true,
            "ticks": "",
            "zerolinecolor": "#EBF0F8"
           }
          },
          "shapedefaults": {
           "line": {
            "color": "#2a3f5f"
           }
          },
          "ternary": {
           "aaxis": {
            "gridcolor": "#DFE8F3",
            "linecolor": "#A2B1C6",
            "ticks": ""
           },
           "baxis": {
            "gridcolor": "#DFE8F3",
            "linecolor": "#A2B1C6",
            "ticks": ""
           },
           "bgcolor": "white",
           "caxis": {
            "gridcolor": "#DFE8F3",
            "linecolor": "#A2B1C6",
            "ticks": ""
           }
          },
          "title": {
           "x": 0.05
          },
          "xaxis": {
           "automargin": true,
           "gridcolor": "#EBF0F8",
           "linecolor": "#EBF0F8",
           "ticks": "",
           "title": {
            "standoff": 15
           },
           "zerolinecolor": "#EBF0F8",
           "zerolinewidth": 2
          },
          "yaxis": {
           "automargin": true,
           "gridcolor": "#EBF0F8",
           "linecolor": "#EBF0F8",
           "ticks": "",
           "title": {
            "standoff": 15
           },
           "zerolinecolor": "#EBF0F8",
           "zerolinewidth": 2
          }
         }
        },
        "title": {
         "text": "Constraint-Aware Resource Route: Covering Key Metals"
        }
       }
      }
     },
     "metadata": {},
     "output_type": "display_data"
    }
   ],
   "source": [
    "build(C, required_metals={\"Cobalt\", \"Nickel\" ,\"Manganese\"})"
   ]
  }
 ],
 "metadata": {
  "kernelspec": {
   "display_name": "venv",
   "language": "python",
   "name": "python3"
  },
  "language_info": {
   "codemirror_mode": {
    "name": "ipython",
    "version": 3
   },
   "file_extension": ".py",
   "mimetype": "text/x-python",
   "name": "python",
   "nbconvert_exporter": "python",
   "pygments_lexer": "ipython3",
   "version": "3.12.4"
  }
 },
 "nbformat": 4,
 "nbformat_minor": 2
}

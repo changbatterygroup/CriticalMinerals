{
 "cells": [
  {
   "cell_type": "code",
   "execution_count": 1,
   "metadata": {},
   "outputs": [],
   "source": [
    "import pandas as pd\n",
    "import matplotlib.pyplot as plt\n",
    "import numpy as np\n",
    "import plotly.graph_objects as go\n",
    "import plotly.express as px\n",
    "import os\n",
    "import xlwings as xw"
   ]
  },
  {
   "cell_type": "code",
   "execution_count": 2,
   "metadata": {},
   "outputs": [],
   "source": [
    "minerals = [\"Manganese\", \"Lithium\", \"Cobalt\", \"Nickel\", \"Lanthanides\"]\n",
    "data_directory = \"./data\" # Set this to your own directory"
   ]
  },
  {
   "cell_type": "code",
   "execution_count": 3,
   "metadata": {},
   "outputs": [
    {
     "name": "stdout",
     "output_type": "stream",
     "text": [
      "Read Manganese\n",
      "Read Lithium\n",
      "Read Cobalt\n",
      "Read Nickel\n",
      "Read Lanthanides\n"
     ]
    }
   ],
   "source": [
    "combined = None\n",
    "\n",
    "mining_path = os.path.join(data_directory, \"SPGlobal_MetalsAndMiningProperties-Combined-Dec-2024.xlsx\")\n",
    "for i, mineral in enumerate(minerals):\n",
    "    data = pd.read_excel(mining_path, sheet_name = mineral)\n",
    "    print(f\"Read {mineral}\")\n",
    "\n",
    "    # data.dropna(subset=\"Primary Reserves and Resources\", inplace = True)\n",
    "    data[\"Reserves & Resources As Of Date\"] = pd.to_datetime(data[\"Reserves & Resources As Of Date\"])\n",
    "    data[\"Primary Mineral\"] = mineral\n",
    "    data[\"Year\"] = data[\"Reserves & Resources As Of Date\"].dt.year\n",
    "\n",
    "\n",
    "    if i == 0:\n",
    "        combined = data\n",
    "        continue\n",
    "\n",
    "    combined = pd.concat([combined, data], ignore_index=True)\n",
    "\n",
    "combined = combined.sort_values(by = \"Year\").query(\"`Activity Status` == 'Active'\")\n",
    "combined[\"Property ID\"] = combined[\"Property ID\"].astype(int)"
   ]
  },
  {
   "cell_type": "code",
   "execution_count": 4,
   "metadata": {},
   "outputs": [
    {
     "data": {
      "application/vnd.microsoft.datawrangler.viewer.v0+json": {
       "columns": [
        {
         "name": "index",
         "rawType": "int64",
         "type": "integer"
        },
        {
         "name": "Property",
         "rawType": "object",
         "type": "string"
        },
        {
         "name": "Property ID",
         "rawType": "int64",
         "type": "integer"
        },
        {
         "name": "Owner(s)",
         "rawType": "object",
         "type": "unknown"
        },
        {
         "name": "Country/Region",
         "rawType": "object",
         "type": "string"
        },
        {
         "name": "Country/Region Risk Score & Outlook",
         "rawType": "object",
         "type": "unknown"
        },
        {
         "name": "Development Stage",
         "rawType": "object",
         "type": "string"
        },
        {
         "name": "Activity Status",
         "rawType": "object",
         "type": "string"
        },
        {
         "name": "Commodity(s)",
         "rawType": "object",
         "type": "string"
        },
        {
         "name": "Primary Reserves and Resources",
         "rawType": "int64",
         "type": "integer"
        },
        {
         "name": "Unit",
         "rawType": "object",
         "type": "string"
        },
        {
         "name": "Total In-Situ Value ($M)",
         "rawType": "float64",
         "type": "float"
        },
        {
         "name": "Reserves & Resources As Of Date",
         "rawType": "datetime64[ns]",
         "type": "datetime"
        },
        {
         "name": "Primary Mineral",
         "rawType": "object",
         "type": "string"
        },
        {
         "name": "Year",
         "rawType": "int32",
         "type": "integer"
        },
        {
         "name": "Latitude (degrees)",
         "rawType": "float64",
         "type": "float"
        },
        {
         "name": "Longitude (degrees)",
         "rawType": "float64",
         "type": "float"
        }
       ],
       "conversionMethod": "pd.DataFrame",
       "ref": "3b5e2369-7092-40ef-9ea0-0154cebc1a72",
       "rows": [
        [
         "0",
         "Lithium Two",
         "79958",
         " New Age Metals Inc., Mineral Resources Ltd.",
         "Canada",
         "1.4 Moderate - No Change",
         "Target Outline",
         "Active",
         "Lithium, Caesium, Rubidium, Tantalum",
         "7600",
         "tonnes",
         "123.1808",
         "1947-12-31 00:00:00",
         "Lithium",
         "1947",
         "50.61363",
         "-95.46443"
        ],
        [
         "1",
         "Falcon West",
         "90157",
         "Grid Metals Corp.",
         "Canada",
         "1.4 Moderate - No Change",
         "Target Outline",
         "Active",
         "Lithium, Caesium, Tantalum, Rubidium",
         "4000",
         "tonnes",
         "64.832",
         "1955-12-31 00:00:00",
         "Lithium",
         "1955",
         "49.56729",
         "-95.68944"
        ],
        [
         "2",
         "Irgon",
         "79892",
         "QMC Quantum Minerals Corp",
         "Canada",
         "1.4 Moderate - No Change",
         "Target Outline",
         "Active",
         "Lithium, Tantalum",
         "16420",
         "tonnes",
         "266.13536",
         "1956-12-31 00:00:00",
         "Lithium",
         "1956",
         "50.6072",
         "-95.39696"
        ],
        [
         "3",
         "Chrome-Puddy",
         "89842",
         " Green Bridge Metals Corp., Pavey Ark Minerals Inc.",
         "Canada",
         "1.4 Moderate - No Change",
         "Exploration",
         "Active",
         "Nickel, Chromium, Copper, Cobalt, Platinum, Iron Ore, Palladium, Gold, Chromite",
         "73482",
         "tonnes",
         "1384.35794235251",
         "1966-12-31 00:00:00",
         "Nickel",
         "1966",
         "49.96907",
         "-89.52303"
        ],
        [
         "4",
         "Chrome-Puddy",
         "89842",
         " Green Bridge Metals Corp., Pavey Ark Minerals Inc.",
         "Canada",
         "1.4 Moderate - No Change",
         "Exploration",
         "Active",
         "Nickel, Chromium, Copper, Cobalt, Platinum, Iron Ore, Palladium, Gold, Chromite",
         "4627",
         "tonnes",
         "1384.35794235251",
         "1966-12-31 00:00:00",
         "Cobalt",
         "1966",
         "49.96907",
         "-89.52303"
        ],
        [
         "5",
         "Canalask",
         "26215",
         " GT Resources Inc., Victoria Gold Corp.",
         "Canada",
         "1.4 Moderate - No Change",
         "Target Outline",
         "Active",
         "Nickel, Copper, Platinum, Gold, Palladium",
         "5300",
         "tonnes",
         "87.4000592205729",
         "1968-12-31 00:00:00",
         "Nickel",
         "1968",
         "61.96667",
         "-140.5"
        ],
        [
         "6",
         "McBride",
         "80756",
         "Hastings Highlands Rsrc Ltd",
         "Canada",
         "1.4 Moderate - No Change",
         "Target Outline",
         "Active",
         "Nickel, Cobalt, Copper, Gold, Silver, Platinum, Palladium",
         "35561",
         "tonnes",
         "775.079351533184",
         "1971-12-31 00:00:00",
         "Nickel",
         "1971",
         "44.8714",
         "-77.72421"
        ],
        [
         "7",
         "McBride",
         "80756",
         "Hastings Highlands Rsrc Ltd",
         "Canada",
         "1.4 Moderate - No Change",
         "Target Outline",
         "Active",
         "Nickel, Cobalt, Copper, Gold, Silver, Platinum, Palladium",
         "2450",
         "tonnes",
         "775.079351533184",
         "1971-12-31 00:00:00",
         "Cobalt",
         "1971",
         "44.8714",
         "-77.72421"
        ],
        [
         "8",
         "Cyclops",
         "84443",
         "Bolt Metals Corp.",
         "Indonesia",
         "2.1 Elevated - No Change",
         "Target Outline",
         "Active",
         "Nickel, Cobalt, Iron Ore",
         "41000",
         "tonnes",
         "9527.32075277192",
         "1979-12-31 00:00:00",
         "Cobalt",
         "1979",
         "-2.46688",
         "140.36829"
        ],
        [
         "9",
         "Cyclops",
         "84443",
         "Bolt Metals Corp.",
         "Indonesia",
         "2.1 Elevated - No Change",
         "Target Outline",
         "Active",
         "Nickel, Cobalt, Iron Ore",
         "485000",
         "tonnes",
         "9527.32075277192",
         "1979-12-31 00:00:00",
         "Nickel",
         "1979",
         "-2.46688",
         "140.36829"
        ],
        [
         "10",
         "Bouvier",
         "59623",
         "Mining Equities Pty Ltd",
         "Canada",
         "1.4 Moderate - No Change",
         "Target Outline",
         "Active",
         "Lithium",
         "11431",
         "tonnes",
         "185.273648",
         "1979-12-31 00:00:00",
         "Lithium",
         "1979",
         "48.45182",
         "-78.09764"
        ],
        [
         "11",
         "Crean Hill 3",
         "91456",
         " SPC Nickel Corp, Vale S.A.",
         "Canada",
         "1.4 Moderate - No Change",
         "Target Outline",
         "Active",
         "Nickel, Copper",
         "72150",
         "tonnes",
         "1618.18065855032",
         "1989-12-31 00:00:00",
         "Nickel",
         "1989",
         "46.43776",
         "-81.31067"
        ],
        [
         "12",
         "Gochager Lake",
         "80201",
         " Fathom Nickel Inc., BioELife Corp.",
         "Canada",
         "1.4 Moderate - No Change",
         "Target Outline",
         "Active",
         "Cobalt, Copper, Nickel, Platinum, Palladium, Gold",
         "13010",
         "tonnes",
         "214.542409520689",
         "1990-12-31 00:00:00",
         "Nickel",
         "1990",
         "55.76232",
         "-104.94067"
        ],
        [
         "13",
         "Pomalaa East",
         "28852",
         "PT Vale Indonesia Tbk",
         "Indonesia",
         "2.1 Elevated - No Change",
         "Construction Started",
         "Active",
         "Nickel, Cobalt",
         "2690000",
         "tonnes",
         "44359.6526987436",
         "1993-12-31 00:00:00",
         "Nickel",
         "1993",
         "-4.22492",
         "121.68711"
        ],
        [
         "14",
         "Miriam",
         "29806",
         " Future Battery Minerals Ltd., Corazon Mining Ltd.",
         "Australia",
         "1.4 Moderate - No Change",
         "Target Outline",
         "Active",
         "Lithium, Nickel, Spodumene, Gold, Caesium, Tantalum, Tin",
         "3900",
         "tonnes",
         "64.3132511245725",
         "1996-06-21 00:00:00",
         "Nickel",
         "1996",
         "-31.05194",
         "121.10314"
        ],
        [
         "15",
         "Punta Gorda",
         "28013",
         "Cubaniquel",
         "Cuba",
         "3.0 High - No Change",
         "Operating",
         "Active",
         "Nickel, Cobalt",
         "4093000",
         "tonnes",
         "80215.9877601116",
         "1999-12-31 00:00:00",
         "Nickel",
         "1999",
         "20.62977",
         "-74.86241"
        ],
        [
         "16",
         "Punta Gorda",
         "28013",
         "Cubaniquel",
         "Cuba",
         "3.0 High - No Change",
         "Operating",
         "Active",
         "Nickel, Cobalt",
         "341000",
         "tonnes",
         "80215.9877601116",
         "1999-12-31 00:00:00",
         "Cobalt",
         "1999",
         "20.62977",
         "-74.86241"
        ],
        [
         "17",
         "Nonoc",
         "27118",
         "Philnico Mining & Indl Corp",
         "Philippines",
         "2.2 Elevated - No Change",
         "Feasibility",
         "Active",
         "Nickel, Cobalt, Iron Ore",
         "1584000",
         "tonnes",
         "32014.8242352489",
         "2000-02-23 00:00:00",
         "Nickel",
         "2000",
         "9.83278",
         "125.61056"
        ],
        [
         "18",
         "Nonoc",
         "27118",
         "Philnico Mining & Indl Corp",
         "Philippines",
         "2.2 Elevated - No Change",
         "Feasibility",
         "Active",
         "Nickel, Cobalt, Iron Ore",
         "158000",
         "tonnes",
         "32014.8242352489",
         "2000-02-23 00:00:00",
         "Cobalt",
         "2000",
         "9.83278",
         "125.61056"
        ],
        [
         "19",
         "Loveland",
         "84460",
         "Intl Explorers & Prospectors I",
         "Canada",
         "1.4 Moderate - No Change",
         "Target Outline",
         "Active",
         "Nickel, Cobalt, Copper, Palladium",
         "5262",
         "tonnes",
         "124.852742343792",
         "2002-03-31 00:00:00",
         "Nickel",
         "2002",
         "48.66136",
         "-81.62469"
        ],
        [
         "20",
         "Nkana Slag",
         "29191",
         " Private Interest, ZCCM Investments Holdings Plc",
         "Zambia",
         "2.6 High - No Change",
         "Limited Production",
         "Active",
         "Cobalt, Copper, Gold",
         "152000",
         "tonnes",
         "7644.22029409357",
         "2003-06-30 00:00:00",
         "Cobalt",
         "2003",
         "-12.83944",
         "28.21028"
        ],
        [
         "21",
         "Biankouma-Sipilou",
         "27512",
         "Nickel de l'Ouest de la Cote d",
         "Côte d'Ivoire",
         "2.1 Elevated - No Change",
         "Reserves Development",
         "Active",
         "Nickel, Cobalt",
         "285000",
         "tonnes",
         "73460.2303826231",
         "2005-09-09 00:00:00",
         "Cobalt",
         "2005",
         "7.86926",
         "-7.91147"
        ],
        [
         "22",
         "Morowali",
         "35538",
         "PT Vale Indonesia Tbk",
         "Indonesia",
         "2.1 Elevated - No Change",
         "Construction Started",
         "Active",
         "Nickel",
         "451000",
         "tonnes",
         "7437.25032235441",
         "2005-12-31 00:00:00",
         "Nickel",
         "2005",
         "-2.71",
         "121.955"
        ],
        [
         "23",
         "Biankouma-Sipilou",
         "27512",
         "Nickel de l'Ouest de la Cote d",
         "Côte d'Ivoire",
         "2.1 Elevated - No Change",
         "Reserves Development",
         "Active",
         "Nickel, Cobalt",
         "3810000",
         "tonnes",
         "73460.2303826231",
         "2005-09-09 00:00:00",
         "Nickel",
         "2005",
         "7.86926",
         "-7.91147"
        ],
        [
         "24",
         "Larco",
         "28380",
         "Larco SA",
         "Greece",
         "1.8 Elevated - Decrease",
         "Operating",
         "Active",
         "Nickel, Cobalt",
         "2476380",
         "tonnes",
         "40836.9355948382",
         "2006-12-31 00:00:00",
         "Nickel",
         "2006",
         "38.65722",
         "23.57806"
        ],
        [
         "25",
         "Old Nick",
         "29375",
         " 1258713 B.C. Ltd., 1200059 B.C. Ltd.",
         "Canada",
         "1.4 Moderate - No Change",
         "Reserves Development",
         "Active",
         "Nickel, Cobalt",
         "33000",
         "tonnes",
         "603.872591595842",
         "2007-07-16 00:00:00",
         "Nickel",
         "2007",
         "49.04169",
         "-119.08467"
        ],
        [
         "26",
         "Gladstone",
         "30070",
         "Gladstone Pacific Nickel",
         "Australia",
         "1.4 Moderate - No Change",
         "Feasibility",
         "Active",
         "Nickel, Cobalt",
         "44000",
         "tonnes",
         "12310.7009053084",
         "2007-06-30 00:00:00",
         "Cobalt",
         "2007",
         "-22.94832",
         "149.83267"
        ],
        [
         "27",
         "Old Nick",
         "29375",
         " 1258713 B.C. Ltd., 1200059 B.C. Ltd.",
         "Canada",
         "1.4 Moderate - No Change",
         "Reserves Development",
         "Active",
         "Nickel, Cobalt",
         "1600",
         "tonnes",
         "603.872591595842",
         "2007-07-16 00:00:00",
         "Cobalt",
         "2007",
         "49.04169",
         "-119.08467"
        ],
        [
         "28",
         "Renzy",
         "33471",
         "Fjordland Exploration Inc.",
         "Canada",
         "1.4 Moderate - No Change",
         "Reserves Development",
         "Active",
         "Nickel, Copper, Cobalt",
         "2699",
         "tonnes",
         "68.8377099464878",
         "2007-11-01 00:00:00",
         "Nickel",
         "2007",
         "46.81383",
         "-76.70302"
        ],
        [
         "29",
         "Zambales",
         "35533",
         "DMCI Holdings Inc.",
         "Philippines",
         "2.2 Elevated - No Change",
         "Reserves Development",
         "Active",
         "Nickel, Cobalt, Chromite, Platinum",
         "270000",
         "tonnes",
         "4974.68685374933",
         "2007-12-21 00:00:00",
         "Nickel",
         "2007",
         "15.77065",
         "120.05396"
        ],
        [
         "30",
         "Gladstone",
         "30070",
         "Gladstone Pacific Nickel",
         "Australia",
         "1.4 Moderate - No Change",
         "Feasibility",
         "Active",
         "Nickel, Cobalt",
         "647000",
         "tonnes",
         "12310.7009053084",
         "2007-06-30 00:00:00",
         "Nickel",
         "2007",
         "-22.94832",
         "149.83267"
        ],
        [
         "31",
         "Zambales",
         "35533",
         "DMCI Holdings Inc.",
         "Philippines",
         "2.2 Elevated - No Change",
         "Reserves Development",
         "Active",
         "Nickel, Cobalt, Chromite, Platinum",
         "14000",
         "tonnes",
         "4974.68685374933",
         "2007-12-21 00:00:00",
         "Cobalt",
         "2007",
         "15.77065",
         "120.05396"
        ],
        [
         "32",
         "Mt Jewell",
         "34250",
         "Private Interest",
         "Australia",
         "1.4 Moderate - No Change",
         "Reserves Development",
         "Active",
         "Nickel",
         "1700",
         "tonnes",
         "28.033981259429",
         "2007-06-30 00:00:00",
         "Nickel",
         "2007",
         "-30.18028",
         "121.45611"
        ],
        [
         "33",
         "Irwin-Coglia",
         "29911",
         "Glencore plc",
         "Australia",
         "1.4 Moderate - No Change",
         "Reserves Development",
         "Active",
         "Nickel, Cobalt, Copper",
         "192000",
         "tonnes",
         "4024.14176411301",
         "2008-12-31 00:00:00",
         "Nickel",
         "2008",
         "-29.14276",
         "123.05745"
        ],
        [
         "34",
         "Kildanga",
         "34956",
         "Clara Resources Australia Ltd",
         "Australia",
         "1.4 Moderate - No Change",
         "Reserves Development",
         "Active",
         "Nickel, Cobalt, Gold, Copper, Platinum",
         "572",
         "tonnes",
         "136.457586356666",
         "2008-12-31 00:00:00",
         "Cobalt",
         "2008",
         "-26.19516",
         "152.27437"
        ],
        [
         "35",
         "Leinster",
         "35980",
         " Future Battery Minerals Ltd., PVW Resources Ltd., Dynamic Metals Ltd.",
         "Australia",
         "1.4 Moderate - No Change",
         "Reserves Development",
         "Active",
         "Nickel, Copper, Platinum, Palladium, Gold",
         "8300",
         "tonnes",
         "161.741508831465",
         "2008-04-13 00:00:00",
         "Nickel",
         "2008",
         "-28.1646",
         "120.91717"
        ],
        [
         "36",
         "Figesbal",
         "32792",
         " Figesbal, Establissement Ballande Groupe, Sumitomo Metal Mining Co.",
         "New Caledonia",
         null,
         "Operating",
         "Active",
         "Nickel, Cobalt",
         "1500000",
         "tonnes",
         "24735.8658171433",
         "2008-03-31 00:00:00",
         "Nickel",
         "2008",
         "-21.5295",
         "166.10385"
        ],
        [
         "37",
         "Irwin-Coglia",
         "29911",
         "Glencore plc",
         "Australia",
         "1.4 Moderate - No Change",
         "Reserves Development",
         "Active",
         "Nickel, Cobalt, Copper",
         "23000",
         "tonnes",
         "4024.14176411301",
         "2008-12-31 00:00:00",
         "Cobalt",
         "2008",
         "-29.14276",
         "123.05745"
        ],
        [
         "38",
         "Texmont",
         "36150",
         "Canada Nickel Co.",
         "Canada",
         "1.4 Moderate - No Change",
         "Target Outline",
         "Active",
         "Nickel, Cobalt, Palladium, Platinum",
         "29000",
         "tonnes",
         "478.226739131436",
         "2008-03-31 00:00:00",
         "Nickel",
         "2008",
         "48.16528",
         "-81.20417"
        ],
        [
         "39",
         "Diamond Creek",
         "37621",
         "Idaho Strategic Resources Inc.",
         "USA",
         "1.5 Moderate - No Change",
         "Reserves Development",
         "Active",
         "Lanthanides, Thorium, Niobium, Gold",
         "70760",
         "tonnes",
         "3538.0",
         "2008-09-30 00:00:00",
         "Lanthanides",
         "2008",
         "45.25064",
         "-113.91745"
        ],
        [
         "40",
         "Souker",
         "35520",
         "Hannan Metals Ltd.",
         "Russia",
         "4.0 Very High - Increase",
         "Feasibility",
         "Active",
         "Nickel, Copper",
         "894200",
         "tonnes",
         "16604.4239236211",
         "2008-06-11 00:00:00",
         "Nickel",
         "2008",
         "69.38",
         "30.7631"
        ],
        [
         "41",
         "Kildanga",
         "34956",
         "Clara Resources Australia Ltd",
         "Australia",
         "1.4 Moderate - No Change",
         "Reserves Development",
         "Active",
         "Nickel, Cobalt, Gold, Copper, Platinum",
         "6981",
         "tonnes",
         "136.457586356666",
         "2008-12-31 00:00:00",
         "Nickel",
         "2008",
         "-26.19516",
         "152.27437"
        ],
        [
         "42",
         "Kuhmo",
         "33747",
         " Boliden AB (publ), Sotkamo Silver AB",
         "Finland",
         "1.3 Moderate - No Change",
         "Reserves Development",
         "Active",
         "Nickel, Copper, Cobalt, Platinum, Palladium, Gold",
         "45732",
         "tonnes",
         "1015.09646447866",
         "2009-10-23 00:00:00",
         "Nickel",
         "2009",
         "65.14917",
         "29.07889"
        ],
        [
         "43",
         "Valozoro",
         "32849",
         "DFR Gold Inc.",
         "Madagascar",
         "2.8 High - No Change",
         "Reserves Development",
         "Active",
         "Nickel",
         "191000",
         "tonnes",
         "3149.70024738291",
         "2009-06-30 00:00:00",
         "Nickel",
         "2009",
         "-20.83",
         "47.24"
        ],
        [
         "44",
         "Bird River",
         "30985",
         " Grid Metals Corp., Gossan Resources Ltd.",
         "Canada",
         "1.4 Moderate - No Change",
         "Reserves Development",
         "Active",
         "Nickel, Copper, Zinc, Silver, Gold, Palladium, Platinum",
         "18019",
         "tonnes",
         "540.195582260935",
         "2009-01-15 00:00:00",
         "Nickel",
         "2009",
         "50.48077",
         "-95.50764"
        ],
        [
         "45",
         "Yuanjiang",
         "33499",
         "Yuanjiang Nickel",
         "China",
         "1.9 Elevated - No Change",
         "Operating",
         "Active",
         "Nickel, Cobalt",
         "14100",
         "tonnes",
         "7567.43769741982",
         "2009-12-21 00:00:00",
         "Cobalt",
         "2009",
         "23.48131",
         "101.78039"
        ],
        [
         "46",
         "Goodyear",
         "29766",
         "Lefroy Exploration Ltd.",
         "Australia",
         "1.4 Moderate - No Change",
         "Reserves Development",
         "Active",
         "Nickel, Lithium, Lanthanides, Gold, Copper",
         "14780",
         "tonnes",
         "243.730731184918",
         "2009-03-31 00:00:00",
         "Nickel",
         "2009",
         "-31.01241",
         "121.68447"
        ],
        [
         "47",
         "Red Flat",
         "91615",
         " Homeland Nickel Inc., Unnamed Owner",
         "USA",
         "1.5 Moderate - No Change",
         "Target Outline",
         "Active",
         "Nickel, Cobalt",
         "143612",
         "tonnes",
         "2368.24477448772",
         "2009-12-31 00:00:00",
         "Nickel",
         "2009",
         "42.35215",
         "-124.2983"
        ],
        [
         "48",
         "Yuanjiang",
         "33499",
         "Yuanjiang Nickel",
         "China",
         "1.9 Elevated - No Change",
         "Operating",
         "Active",
         "Nickel, Cobalt",
         "427000",
         "tonnes",
         "7567.43769741982",
         "2009-12-21 00:00:00",
         "Nickel",
         "2009",
         "23.48131",
         "101.78039"
        ],
        [
         "49",
         "Jinchuan",
         "27136",
         "JinChuan Group Co.Ltd",
         "China",
         "1.9 Elevated - No Change",
         "Operating",
         "Active",
         "Nickel, Copper, Cobalt, Platinum, Palladium, Gold, Rhodium, Silver",
         "5502000",
         "tonnes",
         "129177.575452705",
         "2009-12-21 00:00:00",
         "Nickel",
         "2009",
         "38.49053",
         "102.14801"
        ]
       ],
       "shape": {
        "columns": 16,
        "rows": 661
       }
      },
      "text/html": [
       "<div>\n",
       "<style scoped>\n",
       "    .dataframe tbody tr th:only-of-type {\n",
       "        vertical-align: middle;\n",
       "    }\n",
       "\n",
       "    .dataframe tbody tr th {\n",
       "        vertical-align: top;\n",
       "    }\n",
       "\n",
       "    .dataframe thead th {\n",
       "        text-align: right;\n",
       "    }\n",
       "</style>\n",
       "<table border=\"1\" class=\"dataframe\">\n",
       "  <thead>\n",
       "    <tr style=\"text-align: right;\">\n",
       "      <th></th>\n",
       "      <th>Property</th>\n",
       "      <th>Property ID</th>\n",
       "      <th>Owner(s)</th>\n",
       "      <th>Country/Region</th>\n",
       "      <th>Country/Region Risk Score &amp; Outlook</th>\n",
       "      <th>Development Stage</th>\n",
       "      <th>Activity Status</th>\n",
       "      <th>Commodity(s)</th>\n",
       "      <th>Primary Reserves and Resources</th>\n",
       "      <th>Unit</th>\n",
       "      <th>Total In-Situ Value ($M)</th>\n",
       "      <th>Reserves &amp; Resources As Of Date</th>\n",
       "      <th>Primary Mineral</th>\n",
       "      <th>Year</th>\n",
       "      <th>Latitude (degrees)</th>\n",
       "      <th>Longitude (degrees)</th>\n",
       "    </tr>\n",
       "  </thead>\n",
       "  <tbody>\n",
       "    <tr>\n",
       "      <th>0</th>\n",
       "      <td>Lithium Two</td>\n",
       "      <td>79958</td>\n",
       "      <td>New Age Metals Inc., Mineral Resources Ltd.</td>\n",
       "      <td>Canada</td>\n",
       "      <td>1.4 Moderate - No Change</td>\n",
       "      <td>Target Outline</td>\n",
       "      <td>Active</td>\n",
       "      <td>Lithium, Caesium, Rubidium, Tantalum</td>\n",
       "      <td>7600</td>\n",
       "      <td>tonnes</td>\n",
       "      <td>123.180800</td>\n",
       "      <td>1947-12-31</td>\n",
       "      <td>Lithium</td>\n",
       "      <td>1947</td>\n",
       "      <td>50.61363</td>\n",
       "      <td>-95.46443</td>\n",
       "    </tr>\n",
       "    <tr>\n",
       "      <th>1</th>\n",
       "      <td>Falcon West</td>\n",
       "      <td>90157</td>\n",
       "      <td>Grid Metals Corp.</td>\n",
       "      <td>Canada</td>\n",
       "      <td>1.4 Moderate - No Change</td>\n",
       "      <td>Target Outline</td>\n",
       "      <td>Active</td>\n",
       "      <td>Lithium, Caesium, Tantalum, Rubidium</td>\n",
       "      <td>4000</td>\n",
       "      <td>tonnes</td>\n",
       "      <td>64.832000</td>\n",
       "      <td>1955-12-31</td>\n",
       "      <td>Lithium</td>\n",
       "      <td>1955</td>\n",
       "      <td>49.56729</td>\n",
       "      <td>-95.68944</td>\n",
       "    </tr>\n",
       "    <tr>\n",
       "      <th>2</th>\n",
       "      <td>Irgon</td>\n",
       "      <td>79892</td>\n",
       "      <td>QMC Quantum Minerals Corp</td>\n",
       "      <td>Canada</td>\n",
       "      <td>1.4 Moderate - No Change</td>\n",
       "      <td>Target Outline</td>\n",
       "      <td>Active</td>\n",
       "      <td>Lithium, Tantalum</td>\n",
       "      <td>16420</td>\n",
       "      <td>tonnes</td>\n",
       "      <td>266.135360</td>\n",
       "      <td>1956-12-31</td>\n",
       "      <td>Lithium</td>\n",
       "      <td>1956</td>\n",
       "      <td>50.60720</td>\n",
       "      <td>-95.39696</td>\n",
       "    </tr>\n",
       "    <tr>\n",
       "      <th>3</th>\n",
       "      <td>Chrome-Puddy</td>\n",
       "      <td>89842</td>\n",
       "      <td>Green Bridge Metals Corp., Pavey Ark Minerals...</td>\n",
       "      <td>Canada</td>\n",
       "      <td>1.4 Moderate - No Change</td>\n",
       "      <td>Exploration</td>\n",
       "      <td>Active</td>\n",
       "      <td>Nickel, Chromium, Copper, Cobalt, Platinum, Ir...</td>\n",
       "      <td>73482</td>\n",
       "      <td>tonnes</td>\n",
       "      <td>1384.357942</td>\n",
       "      <td>1966-12-31</td>\n",
       "      <td>Nickel</td>\n",
       "      <td>1966</td>\n",
       "      <td>49.96907</td>\n",
       "      <td>-89.52303</td>\n",
       "    </tr>\n",
       "    <tr>\n",
       "      <th>4</th>\n",
       "      <td>Chrome-Puddy</td>\n",
       "      <td>89842</td>\n",
       "      <td>Green Bridge Metals Corp., Pavey Ark Minerals...</td>\n",
       "      <td>Canada</td>\n",
       "      <td>1.4 Moderate - No Change</td>\n",
       "      <td>Exploration</td>\n",
       "      <td>Active</td>\n",
       "      <td>Nickel, Chromium, Copper, Cobalt, Platinum, Ir...</td>\n",
       "      <td>4627</td>\n",
       "      <td>tonnes</td>\n",
       "      <td>1384.357942</td>\n",
       "      <td>1966-12-31</td>\n",
       "      <td>Cobalt</td>\n",
       "      <td>1966</td>\n",
       "      <td>49.96907</td>\n",
       "      <td>-89.52303</td>\n",
       "    </tr>\n",
       "    <tr>\n",
       "      <th>...</th>\n",
       "      <td>...</td>\n",
       "      <td>...</td>\n",
       "      <td>...</td>\n",
       "      <td>...</td>\n",
       "      <td>...</td>\n",
       "      <td>...</td>\n",
       "      <td>...</td>\n",
       "      <td>...</td>\n",
       "      <td>...</td>\n",
       "      <td>...</td>\n",
       "      <td>...</td>\n",
       "      <td>...</td>\n",
       "      <td>...</td>\n",
       "      <td>...</td>\n",
       "      <td>...</td>\n",
       "      <td>...</td>\n",
       "    </tr>\n",
       "    <tr>\n",
       "      <th>656</th>\n",
       "      <td>Brothers</td>\n",
       "      <td>90684</td>\n",
       "      <td>Critica Ltd.</td>\n",
       "      <td>Australia</td>\n",
       "      <td>1.4 Moderate - No Change</td>\n",
       "      <td>Reserves Development</td>\n",
       "      <td>Active</td>\n",
       "      <td>Lanthanides, Dysprosium, Terbium, Thorium, U3O...</td>\n",
       "      <td>2900000</td>\n",
       "      <td>tonnes</td>\n",
       "      <td>357712.977515</td>\n",
       "      <td>2025-02-11</td>\n",
       "      <td>Lanthanides</td>\n",
       "      <td>2025</td>\n",
       "      <td>-28.43831</td>\n",
       "      <td>117.30562</td>\n",
       "    </tr>\n",
       "    <tr>\n",
       "      <th>657</th>\n",
       "      <td>Caldeira</td>\n",
       "      <td>90102</td>\n",
       "      <td>Meteoric Resources NL</td>\n",
       "      <td>Brazil</td>\n",
       "      <td>2.3 Elevated - No Change</td>\n",
       "      <td>Prefeas/Scoping</td>\n",
       "      <td>Active</td>\n",
       "      <td>Lanthanides, Neodymium, Praseodymium, Terbium,...</td>\n",
       "      <td>2673400</td>\n",
       "      <td>tonnes</td>\n",
       "      <td>133670.000000</td>\n",
       "      <td>2025-03-12</td>\n",
       "      <td>Lanthanides</td>\n",
       "      <td>2025</td>\n",
       "      <td>-21.98932</td>\n",
       "      <td>-46.49532</td>\n",
       "    </tr>\n",
       "    <tr>\n",
       "      <th>658</th>\n",
       "      <td>Colossus</td>\n",
       "      <td>90981</td>\n",
       "      <td>Viridis Mining &amp; Minerals Ltd.</td>\n",
       "      <td>Brazil</td>\n",
       "      <td>2.3 Elevated - No Change</td>\n",
       "      <td>Prefeas/Scoping</td>\n",
       "      <td>Active</td>\n",
       "      <td>Lanthanides, Yttrium, U3O8, Thorium, Praseodym...</td>\n",
       "      <td>1236700</td>\n",
       "      <td>tonnes</td>\n",
       "      <td>61835.000000</td>\n",
       "      <td>2025-01-22</td>\n",
       "      <td>Lanthanides</td>\n",
       "      <td>2025</td>\n",
       "      <td>-21.86427</td>\n",
       "      <td>-46.54833</td>\n",
       "    </tr>\n",
       "    <tr>\n",
       "      <th>659</th>\n",
       "      <td>Browns Range</td>\n",
       "      <td>37953</td>\n",
       "      <td>Northern Minerals Ltd.</td>\n",
       "      <td>Australia</td>\n",
       "      <td>1.4 Moderate - No Change</td>\n",
       "      <td>Preproduction</td>\n",
       "      <td>Active</td>\n",
       "      <td>Lanthanides, Dysprosium, Yttrium, Terbium, Lut...</td>\n",
       "      <td>90458</td>\n",
       "      <td>tonnes</td>\n",
       "      <td>4590.922240</td>\n",
       "      <td>2025-01-15</td>\n",
       "      <td>Lanthanides</td>\n",
       "      <td>2025</td>\n",
       "      <td>-18.96977</td>\n",
       "      <td>128.94522</td>\n",
       "    </tr>\n",
       "    <tr>\n",
       "      <th>660</th>\n",
       "      <td>Wicheeda</td>\n",
       "      <td>37945</td>\n",
       "      <td>Defense Metals Corp.</td>\n",
       "      <td>Canada</td>\n",
       "      <td>1.4 Moderate - No Change</td>\n",
       "      <td>Prefeas/Scoping</td>\n",
       "      <td>Active</td>\n",
       "      <td>Lanthanides, Cerium, Lanthanum, Praseodymium, ...</td>\n",
       "      <td>741000</td>\n",
       "      <td>tonnes</td>\n",
       "      <td>37050.000000</td>\n",
       "      <td>2025-02-07</td>\n",
       "      <td>Lanthanides</td>\n",
       "      <td>2025</td>\n",
       "      <td>54.53141</td>\n",
       "      <td>-122.09912</td>\n",
       "    </tr>\n",
       "  </tbody>\n",
       "</table>\n",
       "<p>661 rows × 16 columns</p>\n",
       "</div>"
      ],
      "text/plain": [
       "         Property  Property ID  \\\n",
       "0     Lithium Two        79958   \n",
       "1     Falcon West        90157   \n",
       "2           Irgon        79892   \n",
       "3    Chrome-Puddy        89842   \n",
       "4    Chrome-Puddy        89842   \n",
       "..            ...          ...   \n",
       "656      Brothers        90684   \n",
       "657      Caldeira        90102   \n",
       "658      Colossus        90981   \n",
       "659  Browns Range        37953   \n",
       "660      Wicheeda        37945   \n",
       "\n",
       "                                              Owner(s) Country/Region  \\\n",
       "0          New Age Metals Inc., Mineral Resources Ltd.         Canada   \n",
       "1                                    Grid Metals Corp.         Canada   \n",
       "2                            QMC Quantum Minerals Corp         Canada   \n",
       "3     Green Bridge Metals Corp., Pavey Ark Minerals...         Canada   \n",
       "4     Green Bridge Metals Corp., Pavey Ark Minerals...         Canada   \n",
       "..                                                 ...            ...   \n",
       "656                                       Critica Ltd.      Australia   \n",
       "657                              Meteoric Resources NL         Brazil   \n",
       "658                     Viridis Mining & Minerals Ltd.         Brazil   \n",
       "659                             Northern Minerals Ltd.      Australia   \n",
       "660                               Defense Metals Corp.         Canada   \n",
       "\n",
       "    Country/Region Risk Score & Outlook     Development Stage Activity Status  \\\n",
       "0              1.4 Moderate - No Change        Target Outline          Active   \n",
       "1              1.4 Moderate - No Change        Target Outline          Active   \n",
       "2              1.4 Moderate - No Change        Target Outline          Active   \n",
       "3              1.4 Moderate - No Change           Exploration          Active   \n",
       "4              1.4 Moderate - No Change           Exploration          Active   \n",
       "..                                  ...                   ...             ...   \n",
       "656            1.4 Moderate - No Change  Reserves Development          Active   \n",
       "657            2.3 Elevated - No Change       Prefeas/Scoping          Active   \n",
       "658            2.3 Elevated - No Change       Prefeas/Scoping          Active   \n",
       "659            1.4 Moderate - No Change         Preproduction          Active   \n",
       "660            1.4 Moderate - No Change       Prefeas/Scoping          Active   \n",
       "\n",
       "                                          Commodity(s)  \\\n",
       "0                 Lithium, Caesium, Rubidium, Tantalum   \n",
       "1                 Lithium, Caesium, Tantalum, Rubidium   \n",
       "2                                    Lithium, Tantalum   \n",
       "3    Nickel, Chromium, Copper, Cobalt, Platinum, Ir...   \n",
       "4    Nickel, Chromium, Copper, Cobalt, Platinum, Ir...   \n",
       "..                                                 ...   \n",
       "656  Lanthanides, Dysprosium, Terbium, Thorium, U3O...   \n",
       "657  Lanthanides, Neodymium, Praseodymium, Terbium,...   \n",
       "658  Lanthanides, Yttrium, U3O8, Thorium, Praseodym...   \n",
       "659  Lanthanides, Dysprosium, Yttrium, Terbium, Lut...   \n",
       "660  Lanthanides, Cerium, Lanthanum, Praseodymium, ...   \n",
       "\n",
       "     Primary Reserves and Resources    Unit  Total In-Situ Value ($M)  \\\n",
       "0                              7600  tonnes                123.180800   \n",
       "1                              4000  tonnes                 64.832000   \n",
       "2                             16420  tonnes                266.135360   \n",
       "3                             73482  tonnes               1384.357942   \n",
       "4                              4627  tonnes               1384.357942   \n",
       "..                              ...     ...                       ...   \n",
       "656                         2900000  tonnes             357712.977515   \n",
       "657                         2673400  tonnes             133670.000000   \n",
       "658                         1236700  tonnes              61835.000000   \n",
       "659                           90458  tonnes               4590.922240   \n",
       "660                          741000  tonnes              37050.000000   \n",
       "\n",
       "    Reserves & Resources As Of Date Primary Mineral  Year  Latitude (degrees)  \\\n",
       "0                        1947-12-31         Lithium  1947            50.61363   \n",
       "1                        1955-12-31         Lithium  1955            49.56729   \n",
       "2                        1956-12-31         Lithium  1956            50.60720   \n",
       "3                        1966-12-31          Nickel  1966            49.96907   \n",
       "4                        1966-12-31          Cobalt  1966            49.96907   \n",
       "..                              ...             ...   ...                 ...   \n",
       "656                      2025-02-11     Lanthanides  2025           -28.43831   \n",
       "657                      2025-03-12     Lanthanides  2025           -21.98932   \n",
       "658                      2025-01-22     Lanthanides  2025           -21.86427   \n",
       "659                      2025-01-15     Lanthanides  2025           -18.96977   \n",
       "660                      2025-02-07     Lanthanides  2025            54.53141   \n",
       "\n",
       "     Longitude (degrees)  \n",
       "0              -95.46443  \n",
       "1              -95.68944  \n",
       "2              -95.39696  \n",
       "3              -89.52303  \n",
       "4              -89.52303  \n",
       "..                   ...  \n",
       "656            117.30562  \n",
       "657            -46.49532  \n",
       "658            -46.54833  \n",
       "659            128.94522  \n",
       "660           -122.09912  \n",
       "\n",
       "[661 rows x 16 columns]"
      ]
     },
     "execution_count": 4,
     "metadata": {},
     "output_type": "execute_result"
    }
   ],
   "source": [
    "locations = pd.read_excel(\"data/MiningPropertyLocations.xlsx\")\n",
    "coords = locations[[\"KeyMineProject\",\"Latitude (degrees)\", \"Longitude (degrees)\"]]\n",
    "\n",
    "combined = combined.merge(coords, left_on = \"Property ID\", right_on=\"KeyMineProject\" ,how = \"inner\")\n",
    "combined.drop(\"KeyMineProject\", axis=1, inplace=True, errors=\"ignore\")\n",
    "combined"
   ]
  },
  {
   "cell_type": "code",
   "execution_count": 5,
   "metadata": {},
   "outputs": [
    {
     "data": {
      "application/vnd.microsoft.datawrangler.viewer.v0+json": {
       "columns": [
        {
         "name": "index",
         "rawType": "int64",
         "type": "integer"
        },
        {
         "name": "Property",
         "rawType": "object",
         "type": "string"
        },
        {
         "name": "Property ID",
         "rawType": "int64",
         "type": "integer"
        },
        {
         "name": "Owner(s)",
         "rawType": "object",
         "type": "string"
        },
        {
         "name": "Country/Region",
         "rawType": "object",
         "type": "string"
        },
        {
         "name": "Country/Region Risk Score & Outlook",
         "rawType": "object",
         "type": "string"
        },
        {
         "name": "Development Stage",
         "rawType": "object",
         "type": "string"
        },
        {
         "name": "Activity Status",
         "rawType": "object",
         "type": "string"
        },
        {
         "name": "Commodity(s)",
         "rawType": "object",
         "type": "string"
        },
        {
         "name": "Primary Reserves and Resources",
         "rawType": "int64",
         "type": "integer"
        },
        {
         "name": "Unit",
         "rawType": "object",
         "type": "string"
        },
        {
         "name": "Total In-Situ Value ($M)",
         "rawType": "float64",
         "type": "float"
        },
        {
         "name": "Reserves & Resources As Of Date",
         "rawType": "datetime64[ns]",
         "type": "datetime"
        },
        {
         "name": "Primary Mineral",
         "rawType": "object",
         "type": "string"
        },
        {
         "name": "Year",
         "rawType": "int32",
         "type": "integer"
        },
        {
         "name": "Latitude (degrees)",
         "rawType": "float64",
         "type": "float"
        },
        {
         "name": "Longitude (degrees)",
         "rawType": "float64",
         "type": "float"
        }
       ],
       "conversionMethod": "pd.DataFrame",
       "ref": "1d69d9ab-6797-4e1e-aec7-23a81fca8bd2",
       "rows": [
        [
         "3",
         "Chrome-Puddy",
         "89842",
         " Green Bridge Metals Corp., Pavey Ark Minerals Inc.",
         "Canada",
         "1.4 Moderate - No Change",
         "Exploration",
         "Active",
         "Nickel, Chromium, Copper, Cobalt, Platinum, Iron Ore, Palladium, Gold, Chromite",
         "73482",
         "tonnes",
         "1384.35794235251",
         "1966-12-31 00:00:00",
         "Nickel",
         "1966",
         "49.96907",
         "-89.52303"
        ],
        [
         "4",
         "Chrome-Puddy",
         "89842",
         " Green Bridge Metals Corp., Pavey Ark Minerals Inc.",
         "Canada",
         "1.4 Moderate - No Change",
         "Exploration",
         "Active",
         "Nickel, Chromium, Copper, Cobalt, Platinum, Iron Ore, Palladium, Gold, Chromite",
         "4627",
         "tonnes",
         "1384.35794235251",
         "1966-12-31 00:00:00",
         "Cobalt",
         "1966",
         "49.96907",
         "-89.52303"
        ],
        [
         "5",
         "Canalask",
         "26215",
         " GT Resources Inc., Victoria Gold Corp.",
         "Canada",
         "1.4 Moderate - No Change",
         "Target Outline",
         "Active",
         "Nickel, Copper, Platinum, Gold, Palladium",
         "5300",
         "tonnes",
         "87.4000592205729",
         "1968-12-31 00:00:00",
         "Nickel",
         "1968",
         "61.96667",
         "-140.5"
        ],
        [
         "6",
         "McBride",
         "80756",
         "Hastings Highlands Rsrc Ltd",
         "Canada",
         "1.4 Moderate - No Change",
         "Target Outline",
         "Active",
         "Nickel, Cobalt, Copper, Gold, Silver, Platinum, Palladium",
         "35561",
         "tonnes",
         "775.079351533184",
         "1971-12-31 00:00:00",
         "Nickel",
         "1971",
         "44.8714",
         "-77.72421"
        ],
        [
         "7",
         "McBride",
         "80756",
         "Hastings Highlands Rsrc Ltd",
         "Canada",
         "1.4 Moderate - No Change",
         "Target Outline",
         "Active",
         "Nickel, Cobalt, Copper, Gold, Silver, Platinum, Palladium",
         "2450",
         "tonnes",
         "775.079351533184",
         "1971-12-31 00:00:00",
         "Cobalt",
         "1971",
         "44.8714",
         "-77.72421"
        ],
        [
         "11",
         "Crean Hill 3",
         "91456",
         " SPC Nickel Corp, Vale S.A.",
         "Canada",
         "1.4 Moderate - No Change",
         "Target Outline",
         "Active",
         "Nickel, Copper",
         "72150",
         "tonnes",
         "1618.18065855032",
         "1989-12-31 00:00:00",
         "Nickel",
         "1989",
         "46.43776",
         "-81.31067"
        ],
        [
         "12",
         "Gochager Lake",
         "80201",
         " Fathom Nickel Inc., BioELife Corp.",
         "Canada",
         "1.4 Moderate - No Change",
         "Target Outline",
         "Active",
         "Cobalt, Copper, Nickel, Platinum, Palladium, Gold",
         "13010",
         "tonnes",
         "214.542409520689",
         "1990-12-31 00:00:00",
         "Nickel",
         "1990",
         "55.76232",
         "-104.94067"
        ],
        [
         "19",
         "Loveland",
         "84460",
         "Intl Explorers & Prospectors I",
         "Canada",
         "1.4 Moderate - No Change",
         "Target Outline",
         "Active",
         "Nickel, Cobalt, Copper, Palladium",
         "5262",
         "tonnes",
         "124.852742343792",
         "2002-03-31 00:00:00",
         "Nickel",
         "2002",
         "48.66136",
         "-81.62469"
        ],
        [
         "25",
         "Old Nick",
         "29375",
         " 1258713 B.C. Ltd., 1200059 B.C. Ltd.",
         "Canada",
         "1.4 Moderate - No Change",
         "Reserves Development",
         "Active",
         "Nickel, Cobalt",
         "33000",
         "tonnes",
         "603.872591595842",
         "2007-07-16 00:00:00",
         "Nickel",
         "2007",
         "49.04169",
         "-119.08467"
        ],
        [
         "27",
         "Old Nick",
         "29375",
         " 1258713 B.C. Ltd., 1200059 B.C. Ltd.",
         "Canada",
         "1.4 Moderate - No Change",
         "Reserves Development",
         "Active",
         "Nickel, Cobalt",
         "1600",
         "tonnes",
         "603.872591595842",
         "2007-07-16 00:00:00",
         "Cobalt",
         "2007",
         "49.04169",
         "-119.08467"
        ],
        [
         "28",
         "Renzy",
         "33471",
         "Fjordland Exploration Inc.",
         "Canada",
         "1.4 Moderate - No Change",
         "Reserves Development",
         "Active",
         "Nickel, Copper, Cobalt",
         "2699",
         "tonnes",
         "68.8377099464878",
         "2007-11-01 00:00:00",
         "Nickel",
         "2007",
         "46.81383",
         "-76.70302"
        ],
        [
         "38",
         "Texmont",
         "36150",
         "Canada Nickel Co.",
         "Canada",
         "1.4 Moderate - No Change",
         "Target Outline",
         "Active",
         "Nickel, Cobalt, Palladium, Platinum",
         "29000",
         "tonnes",
         "478.226739131436",
         "2008-03-31 00:00:00",
         "Nickel",
         "2008",
         "48.16528",
         "-81.20417"
        ],
        [
         "44",
         "Bird River",
         "30985",
         " Grid Metals Corp., Gossan Resources Ltd.",
         "Canada",
         "1.4 Moderate - No Change",
         "Reserves Development",
         "Active",
         "Nickel, Copper, Zinc, Silver, Gold, Palladium, Platinum",
         "18019",
         "tonnes",
         "540.195582260935",
         "2009-01-15 00:00:00",
         "Nickel",
         "2009",
         "50.48077",
         "-95.50764"
        ],
        [
         "47",
         "Red Flat",
         "91615",
         " Homeland Nickel Inc., Unnamed Owner",
         "USA",
         "1.5 Moderate - No Change",
         "Target Outline",
         "Active",
         "Nickel, Cobalt",
         "143612",
         "tonnes",
         "2368.24477448772",
         "2009-12-31 00:00:00",
         "Nickel",
         "2009",
         "42.35215",
         "-124.2983"
        ],
        [
         "51",
         "Nickel King",
         "27947",
         " Cornish Metals Inc., North Arrow Minerals Inc.",
         "Canada",
         "1.4 Moderate - No Change",
         "Reserves Development",
         "Active",
         "Nickel, Copper, Cobalt",
         "7575",
         "tonnes",
         "3313.46640597151",
         "2009-02-25 00:00:00",
         "Cobalt",
         "2009",
         "60.24933",
         "-104.51322"
        ],
        [
         "54",
         "Cleopatra",
         "91613",
         " Homeland Nickel Inc., Unnamed Owner",
         "USA",
         "1.5 Moderate - No Change",
         "Target Outline",
         "Active",
         "Nickel, Cobalt",
         "332483",
         "tonnes",
         "5482.8365829875",
         "2009-12-31 00:00:00",
         "Nickel",
         "2009",
         "42.03389",
         "-123.91444"
        ],
        [
         "57",
         "Nickel King",
         "27947",
         " Cornish Metals Inc., North Arrow Minerals Inc.",
         "Canada",
         "1.4 Moderate - No Change",
         "Reserves Development",
         "Active",
         "Nickel, Copper, Cobalt",
         "163338",
         "tonnes",
         "3313.46640597151",
         "2009-02-25 00:00:00",
         "Nickel",
         "2009",
         "60.24933",
         "-104.51322"
        ],
        [
         "59",
         "Nunavik",
         "31715",
         " Ji Lin Ji En Nickel Industry C, Nearctic Nickel Mines Inc.",
         "Canada",
         "1.4 Moderate - No Change",
         "Limited Production",
         "Active",
         "Nickel, Copper, Cobalt, Platinum, Palladium, Gold",
         "350200",
         "tonnes",
         "13878.6487121703",
         "2010-04-14 00:00:00",
         "Nickel",
         "2010",
         "61.420856",
         "-74.1375"
        ],
        [
         "63",
         "Raglan",
         "35769",
         "Ji Lin Ji En Nickel Industry C",
         "Canada",
         "1.4 Moderate - No Change",
         "Reserves Development",
         "Active",
         "Nickel, Copper, Platinum, Palladium, Cobalt, Gold",
         "44000",
         "tonnes",
         "1207.14191025744",
         "2010-11-04 00:00:00",
         "Nickel",
         "2010",
         "61.39782",
         "-74.97753"
        ],
        [
         "71",
         "Raglan",
         "35769",
         "Ji Lin Ji En Nickel Industry C",
         "Canada",
         "1.4 Moderate - No Change",
         "Reserves Development",
         "Active",
         "Nickel, Copper, Platinum, Palladium, Cobalt, Gold",
         "2233",
         "tonnes",
         "1207.14191025744",
         "2010-11-04 00:00:00",
         "Cobalt",
         "2010",
         "61.39782",
         "-74.97753"
        ],
        [
         "73",
         "Nunavik",
         "31715",
         " Ji Lin Ji En Nickel Industry C, Nearctic Nickel Mines Inc.",
         "Canada",
         "1.4 Moderate - No Change",
         "Limited Production",
         "Active",
         "Nickel, Copper, Cobalt, Platinum, Palladium, Gold",
         "18670",
         "tonnes",
         "13878.6487121703",
         "2010-04-14 00:00:00",
         "Cobalt",
         "2010",
         "61.420856",
         "-74.1375"
        ],
        [
         "75",
         "Shining Tree",
         "34245",
         "Private Interest",
         "Canada",
         "1.4 Moderate - No Change",
         "Reserves Development",
         "Active",
         "Nickel, Copper, Cobalt, Platinum, Palladium",
         "651",
         "tonnes",
         "385.361244061491",
         "2011-05-18 00:00:00",
         "Cobalt",
         "2011",
         "47.5654",
         "-81.17918"
        ],
        [
         "77",
         "Eagle's Nest",
         "35686",
         "Wyloo Pty Ltd",
         "Canada",
         "1.4 Moderate - No Change",
         "Feasibility Complete",
         "Active",
         "Nickel, Copper, Gold, Platinum, Palladium, Silver",
         "300000",
         "tonnes",
         "10217.8946823594",
         "2011-08-23 00:00:00",
         "Nickel",
         "2011",
         "52.74202",
         "-86.3038"
        ],
        [
         "79",
         "Shining Tree",
         "34245",
         "Private Interest",
         "Canada",
         "1.4 Moderate - No Change",
         "Reserves Development",
         "Active",
         "Nickel, Copper, Cobalt, Platinum, Palladium",
         "17200",
         "tonnes",
         "385.361244061491",
         "2011-05-18 00:00:00",
         "Nickel",
         "2011",
         "47.5654",
         "-81.17918"
        ],
        [
         "85",
         "Lockerby East",
         "27096",
         "SPC Nickel Corp",
         "Canada",
         "1.4 Moderate - No Change",
         "Reserves Development",
         "Active",
         "Nickel, Copper, Cobalt, Gold, Platinum, Palladium, Silver",
         "46000",
         "tonnes",
         "1078.93172894421",
         "2012-06-30 00:00:00",
         "Nickel",
         "2012",
         "46.43266",
         "-81.30323"
        ],
        [
         "92",
         "Lockerby East",
         "27096",
         "SPC Nickel Corp",
         "Canada",
         "1.4 Moderate - No Change",
         "Reserves Development",
         "Active",
         "Nickel, Copper, Cobalt, Gold, Platinum, Palladium, Silver",
         "1060",
         "tonnes",
         "1078.93172894421",
         "2012-06-30 00:00:00",
         "Cobalt",
         "2012",
         "46.43266",
         "-81.30323"
        ],
        [
         "107",
         "Bowden Lake",
         "29586",
         " CaNickel Mining Ltd., Glencore plc",
         "Canada",
         "1.4 Moderate - No Change",
         "Reserves Development",
         "Active",
         "Nickel, Copper, Platinum",
         "50194",
         "tonnes",
         "827.728032550459",
         "2012-04-01 00:00:00",
         "Nickel",
         "2012",
         "54.9154",
         "-98.66201"
        ],
        [
         "134",
         "Nico",
         "29668",
         "Fortune Minerals Ltd.",
         "Canada",
         "1.4 Moderate - No Change",
         "Construction Planned",
         "Active",
         "Cobalt, Gold, Bismuth, Copper",
         "74249",
         "tonnes",
         "7233.73373898628",
         "2014-04-02 00:00:00",
         "Cobalt",
         "2014",
         "63.55",
         "-116.74583"
        ],
        [
         "137",
         "Woodstock",
         "61015",
         "Canadian Manganese Co.",
         "Canada",
         "1.4 Moderate - No Change",
         "Prefeas/Scoping",
         "Active",
         "Manganese, Iron Ore",
         "135488474",
         "tonnes",
         "367.17376454",
         "2014-07-10 00:00:00",
         "Manganese",
         "2014",
         "46.18",
         "-67.64"
        ],
        [
         "148",
         "Aurora",
         "92718",
         "Clean Energy Transition Inc.",
         "Canada",
         "1.4 Moderate - No Change",
         "Target Outline",
         "Active",
         "Nickel",
         "42000",
         "tonnes",
         "692.604242880011",
         "2015-06-04 00:00:00",
         "Nickel",
         "2015",
         "48.34509",
         "-81.00002"
        ],
        [
         "185",
         "Madison",
         "80786",
         "U.S. Strategic Metals LLC",
         "USA",
         "1.5 Moderate - No Change",
         "Reserves Development",
         "Active",
         "Cobalt, Copper, Nickel",
         "15876",
         "tonnes",
         "1224.58219480191",
         "2018-04-11 00:00:00",
         "Cobalt",
         "2018",
         "37.54708",
         "-90.27653"
        ],
        [
         "190",
         "Madison",
         "80786",
         "U.S. Strategic Metals LLC",
         "USA",
         "1.5 Moderate - No Change",
         "Reserves Development",
         "Active",
         "Cobalt, Copper, Nickel",
         "23133",
         "tonnes",
         "1224.58219480191",
         "2018-04-11 00:00:00",
         "Nickel",
         "2018",
         "37.54708",
         "-90.27653"
        ],
        [
         "195",
         "Werner Lake",
         "29419",
         "High-Tech Metals Ltd.",
         "Canada",
         "1.4 Moderate - No Change",
         "Reserves Development",
         "Active",
         "Cobalt, Copper, Gold, Silver, Nickel",
         "340",
         "tonnes",
         "12.6827530189716",
         "2018-07-19 00:00:00",
         "Cobalt",
         "2018",
         "50.46887",
         "-94.97869"
        ],
        [
         "219",
         "Dumont",
         "25816",
         " Waterton Global Resource Mgmt, Investissement Québec",
         "Canada",
         "1.4 Moderate - No Change",
         "Feasibility Complete",
         "Active",
         "Nickel, Cobalt, Platinum, Palladium, Iron Ore",
         "229518",
         "tonnes",
         "104814.978762247",
         "2019-05-30 00:00:00",
         "Cobalt",
         "2019",
         "48.64244",
         "-78.44274"
        ],
        [
         "233",
         "Dumont",
         "25816",
         " Waterton Global Resource Mgmt, Investissement Québec",
         "Canada",
         "1.4 Moderate - No Change",
         "Feasibility Complete",
         "Active",
         "Nickel, Cobalt, Platinum, Palladium, Iron Ore",
         "5720702",
         "tonnes",
         "104814.978762247",
         "2019-05-30 00:00:00",
         "Nickel",
         "2019",
         "48.64244",
         "-78.44274"
        ],
        [
         "277",
         "Grasset",
         "76126",
         "NorthX Nickel Corp.",
         "Canada",
         "1.4 Moderate - No Change",
         "Reserves Development",
         "Active",
         "Nickel, Copper, Cobalt, Platinum, Palladium, Gold, Zinc, Lead",
         "68900",
         "tonnes",
         "1430.63531773155",
         "2021-11-09 00:00:00",
         "Nickel",
         "2021",
         "50.0569",
         "-78.62245"
        ],
        [
         "280",
         "Rice Island",
         "76615",
         " Wolfden Resources Corp., Private Interest",
         "Canada",
         "1.4 Moderate - No Change",
         "Reserves Development",
         "Active",
         "Nickel, Copper, Cobalt, Platinum, Palladium, Gold",
         "50439",
         "tonnes",
         "1266.29516010333",
         "2021-12-13 00:00:00",
         "Nickel",
         "2021",
         "54.82755",
         "-99.93617"
        ],
        [
         "284",
         "Shakespeare",
         "31518",
         "Magna Mining Inc.",
         "Canada",
         "1.4 Moderate - No Change",
         "Feasibility Complete",
         "Active",
         "Nickel, Copper, Palladium, Platinum, Gold, Cobalt, Silver",
         "75750",
         "tonnes",
         "2852.69167113391",
         "2021-12-31 00:00:00",
         "Nickel",
         "2021",
         "46.33418",
         "-81.85949"
        ],
        [
         "285",
         "Grasset",
         "76126",
         "NorthX Nickel Corp.",
         "Canada",
         "1.4 Moderate - No Change",
         "Reserves Development",
         "Active",
         "Nickel, Copper, Cobalt, Platinum, Palladium, Gold, Zinc, Lead",
         "1463",
         "tonnes",
         "1430.63531773155",
         "2021-11-09 00:00:00",
         "Cobalt",
         "2021",
         "50.0569",
         "-78.62245"
        ],
        [
         "286",
         "McAra",
         "34473",
         "Battery Mineral Rsrc Corp",
         "Canada",
         "1.4 Moderate - No Change",
         "Reserves Development",
         "Active",
         "Cobalt, Copper, Silver, Zinc, Gold",
         "597",
         "tonnes",
         "22.5786167127237",
         "2021-03-31 00:00:00",
         "Cobalt",
         "2021",
         "47.39778",
         "-80.96639"
        ],
        [
         "290",
         "Lynn Lake",
         "27307",
         "Corazon Mining Ltd.",
         "Canada",
         "1.4 Moderate - No Change",
         "Prefeas/Scoping",
         "Active",
         "Nickel, Copper, Cobalt, Platinum, Zinc, Lead, Silver, Gold",
         "116800",
         "tonnes",
         "2585.88564882606",
         "2021-09-30 00:00:00",
         "Nickel",
         "2021",
         "56.82115",
         "-101.03294"
        ],
        [
         "291",
         "Lynn Lake",
         "27307",
         "Corazon Mining Ltd.",
         "Canada",
         "1.4 Moderate - No Change",
         "Prefeas/Scoping",
         "Active",
         "Nickel, Copper, Cobalt, Platinum, Zinc, Lead, Silver, Gold",
         "5300",
         "tonnes",
         "2585.88564882606",
         "2021-09-30 00:00:00",
         "Cobalt",
         "2021",
         "56.82115",
         "-101.03294"
        ],
        [
         "292",
         "Shakespeare",
         "31518",
         "Magna Mining Inc.",
         "Canada",
         "1.4 Moderate - No Change",
         "Feasibility Complete",
         "Active",
         "Nickel, Copper, Palladium, Platinum, Gold, Cobalt, Silver",
         "4536",
         "tonnes",
         "2852.69167113391",
         "2021-12-31 00:00:00",
         "Cobalt",
         "2021",
         "46.33418",
         "-81.85949"
        ],
        [
         "293",
         "Rice Island",
         "76615",
         " Wolfden Resources Corp., Private Interest",
         "Canada",
         "1.4 Moderate - No Change",
         "Reserves Development",
         "Active",
         "Nickel, Copper, Cobalt, Platinum, Palladium, Gold",
         "2646",
         "tonnes",
         "1266.29516010333",
         "2021-12-13 00:00:00",
         "Cobalt",
         "2021",
         "54.82755",
         "-99.93617"
        ],
        [
         "312",
         "Kenbridge",
         "33075",
         "Tartisan Nickel Corp.",
         "Canada",
         "1.4 Moderate - No Change",
         "Prefeas/Scoping",
         "Active",
         "Nickel, Copper, Cobalt, Silver, Gold, Platinum",
         "48398",
         "tonnes",
         "1026.8434629974",
         "2022-07-06 00:00:00",
         "Nickel",
         "2022",
         "49.48357",
         "-93.6347"
        ],
        [
         "317",
         "Tamarack",
         "36221",
         " Talon Metals Corp., Rio Tinto Group",
         "USA",
         "1.5 Moderate - No Change",
         "Prefeas/Scoping",
         "Active",
         "Nickel, Copper, Cobalt, Platinum, Palladium, Gold",
         "217724",
         "tonnes",
         "5300.5119975752",
         "2022-10-10 00:00:00",
         "Nickel",
         "2022",
         "46.67296",
         "-93.11959"
        ],
        [
         "323",
         "Hawk Ridge",
         "29658",
         " 1844 Resources Inc., Nickel North Exploration Corp.",
         "Canada",
         "1.4 Moderate - No Change",
         "Reserves Development",
         "Active",
         "Nickel, Copper, Cobalt, Platinum, Palladium, Gold, Iron Ore",
         "76611",
         "tonnes",
         "3438.11751183291",
         "2022-05-31 00:00:00",
         "Nickel",
         "2022",
         "59.0",
         "-69.64167"
        ],
        [
         "328",
         "Hawk Ridge",
         "29658",
         " 1844 Resources Inc., Nickel North Exploration Corp.",
         "Canada",
         "1.4 Moderate - No Change",
         "Reserves Development",
         "Active",
         "Nickel, Copper, Cobalt, Platinum, Palladium, Gold, Iron Ore",
         "4417",
         "tonnes",
         "3438.11751183291",
         "2022-05-31 00:00:00",
         "Cobalt",
         "2022",
         "59.0",
         "-69.64167"
        ],
        [
         "334",
         "Tamarack",
         "36221",
         " Talon Metals Corp., Rio Tinto Group",
         "USA",
         "1.5 Moderate - No Change",
         "Prefeas/Scoping",
         "Active",
         "Nickel, Copper, Cobalt, Platinum, Palladium, Gold",
         "5974",
         "tonnes",
         "5300.5119975752",
         "2022-10-10 00:00:00",
         "Cobalt",
         "2022",
         "46.67296",
         "-93.11959"
        ],
        [
         "338",
         "Nickel Island",
         "88353",
         "Wolfden Resources Corp.",
         "Canada",
         "1.4 Moderate - No Change",
         "Reserves Development",
         "Active",
         "Nickel, Copper, Cobalt, Platinum, Palladium",
         "70000",
         "tonnes",
         "1213.90930804237",
         "2022-01-03 00:00:00",
         "Nickel",
         "2022",
         "53.9363",
         "-94.77036"
        ]
       ],
       "shape": {
        "columns": 16,
        "rows": 91
       }
      },
      "text/html": [
       "<div>\n",
       "<style scoped>\n",
       "    .dataframe tbody tr th:only-of-type {\n",
       "        vertical-align: middle;\n",
       "    }\n",
       "\n",
       "    .dataframe tbody tr th {\n",
       "        vertical-align: top;\n",
       "    }\n",
       "\n",
       "    .dataframe thead th {\n",
       "        text-align: right;\n",
       "    }\n",
       "</style>\n",
       "<table border=\"1\" class=\"dataframe\">\n",
       "  <thead>\n",
       "    <tr style=\"text-align: right;\">\n",
       "      <th></th>\n",
       "      <th>Property</th>\n",
       "      <th>Property ID</th>\n",
       "      <th>Owner(s)</th>\n",
       "      <th>Country/Region</th>\n",
       "      <th>Country/Region Risk Score &amp; Outlook</th>\n",
       "      <th>Development Stage</th>\n",
       "      <th>Activity Status</th>\n",
       "      <th>Commodity(s)</th>\n",
       "      <th>Primary Reserves and Resources</th>\n",
       "      <th>Unit</th>\n",
       "      <th>Total In-Situ Value ($M)</th>\n",
       "      <th>Reserves &amp; Resources As Of Date</th>\n",
       "      <th>Primary Mineral</th>\n",
       "      <th>Year</th>\n",
       "      <th>Latitude (degrees)</th>\n",
       "      <th>Longitude (degrees)</th>\n",
       "    </tr>\n",
       "  </thead>\n",
       "  <tbody>\n",
       "    <tr>\n",
       "      <th>3</th>\n",
       "      <td>Chrome-Puddy</td>\n",
       "      <td>89842</td>\n",
       "      <td>Green Bridge Metals Corp., Pavey Ark Minerals...</td>\n",
       "      <td>Canada</td>\n",
       "      <td>1.4 Moderate - No Change</td>\n",
       "      <td>Exploration</td>\n",
       "      <td>Active</td>\n",
       "      <td>Nickel, Chromium, Copper, Cobalt, Platinum, Ir...</td>\n",
       "      <td>73482</td>\n",
       "      <td>tonnes</td>\n",
       "      <td>1384.357942</td>\n",
       "      <td>1966-12-31</td>\n",
       "      <td>Nickel</td>\n",
       "      <td>1966</td>\n",
       "      <td>49.96907</td>\n",
       "      <td>-89.52303</td>\n",
       "    </tr>\n",
       "    <tr>\n",
       "      <th>4</th>\n",
       "      <td>Chrome-Puddy</td>\n",
       "      <td>89842</td>\n",
       "      <td>Green Bridge Metals Corp., Pavey Ark Minerals...</td>\n",
       "      <td>Canada</td>\n",
       "      <td>1.4 Moderate - No Change</td>\n",
       "      <td>Exploration</td>\n",
       "      <td>Active</td>\n",
       "      <td>Nickel, Chromium, Copper, Cobalt, Platinum, Ir...</td>\n",
       "      <td>4627</td>\n",
       "      <td>tonnes</td>\n",
       "      <td>1384.357942</td>\n",
       "      <td>1966-12-31</td>\n",
       "      <td>Cobalt</td>\n",
       "      <td>1966</td>\n",
       "      <td>49.96907</td>\n",
       "      <td>-89.52303</td>\n",
       "    </tr>\n",
       "    <tr>\n",
       "      <th>5</th>\n",
       "      <td>Canalask</td>\n",
       "      <td>26215</td>\n",
       "      <td>GT Resources Inc., Victoria Gold Corp.</td>\n",
       "      <td>Canada</td>\n",
       "      <td>1.4 Moderate - No Change</td>\n",
       "      <td>Target Outline</td>\n",
       "      <td>Active</td>\n",
       "      <td>Nickel, Copper, Platinum, Gold, Palladium</td>\n",
       "      <td>5300</td>\n",
       "      <td>tonnes</td>\n",
       "      <td>87.400059</td>\n",
       "      <td>1968-12-31</td>\n",
       "      <td>Nickel</td>\n",
       "      <td>1968</td>\n",
       "      <td>61.96667</td>\n",
       "      <td>-140.50000</td>\n",
       "    </tr>\n",
       "    <tr>\n",
       "      <th>6</th>\n",
       "      <td>McBride</td>\n",
       "      <td>80756</td>\n",
       "      <td>Hastings Highlands Rsrc Ltd</td>\n",
       "      <td>Canada</td>\n",
       "      <td>1.4 Moderate - No Change</td>\n",
       "      <td>Target Outline</td>\n",
       "      <td>Active</td>\n",
       "      <td>Nickel, Cobalt, Copper, Gold, Silver, Platinum...</td>\n",
       "      <td>35561</td>\n",
       "      <td>tonnes</td>\n",
       "      <td>775.079352</td>\n",
       "      <td>1971-12-31</td>\n",
       "      <td>Nickel</td>\n",
       "      <td>1971</td>\n",
       "      <td>44.87140</td>\n",
       "      <td>-77.72421</td>\n",
       "    </tr>\n",
       "    <tr>\n",
       "      <th>7</th>\n",
       "      <td>McBride</td>\n",
       "      <td>80756</td>\n",
       "      <td>Hastings Highlands Rsrc Ltd</td>\n",
       "      <td>Canada</td>\n",
       "      <td>1.4 Moderate - No Change</td>\n",
       "      <td>Target Outline</td>\n",
       "      <td>Active</td>\n",
       "      <td>Nickel, Cobalt, Copper, Gold, Silver, Platinum...</td>\n",
       "      <td>2450</td>\n",
       "      <td>tonnes</td>\n",
       "      <td>775.079352</td>\n",
       "      <td>1971-12-31</td>\n",
       "      <td>Cobalt</td>\n",
       "      <td>1971</td>\n",
       "      <td>44.87140</td>\n",
       "      <td>-77.72421</td>\n",
       "    </tr>\n",
       "    <tr>\n",
       "      <th>...</th>\n",
       "      <td>...</td>\n",
       "      <td>...</td>\n",
       "      <td>...</td>\n",
       "      <td>...</td>\n",
       "      <td>...</td>\n",
       "      <td>...</td>\n",
       "      <td>...</td>\n",
       "      <td>...</td>\n",
       "      <td>...</td>\n",
       "      <td>...</td>\n",
       "      <td>...</td>\n",
       "      <td>...</td>\n",
       "      <td>...</td>\n",
       "      <td>...</td>\n",
       "      <td>...</td>\n",
       "      <td>...</td>\n",
       "    </tr>\n",
       "    <tr>\n",
       "      <th>605</th>\n",
       "      <td>Nikolai</td>\n",
       "      <td>32184</td>\n",
       "      <td>Alaska Energy Metals Corp.</td>\n",
       "      <td>USA</td>\n",
       "      <td>1.5 Moderate - No Change</td>\n",
       "      <td>Reserves Development</td>\n",
       "      <td>Active</td>\n",
       "      <td>Nickel, Copper, Cobalt, Platinum, Palladium, G...</td>\n",
       "      <td>3675002</td>\n",
       "      <td>tonnes</td>\n",
       "      <td>88655.366125</td>\n",
       "      <td>2024-02-12</td>\n",
       "      <td>Nickel</td>\n",
       "      <td>2024</td>\n",
       "      <td>63.27641</td>\n",
       "      <td>-146.29058</td>\n",
       "    </tr>\n",
       "    <tr>\n",
       "      <th>616</th>\n",
       "      <td>Minago</td>\n",
       "      <td>27222</td>\n",
       "      <td>Norway House Cree Nation</td>\n",
       "      <td>Canada</td>\n",
       "      <td>1.4 Moderate - No Change</td>\n",
       "      <td>Feasibility Started</td>\n",
       "      <td>Active</td>\n",
       "      <td>Nickel, Copper, Cobalt, Palladium, Frac Sand, ...</td>\n",
       "      <td>391885</td>\n",
       "      <td>tonnes</td>\n",
       "      <td>6971.333721</td>\n",
       "      <td>2024-03-18</td>\n",
       "      <td>Nickel</td>\n",
       "      <td>2024</td>\n",
       "      <td>54.11277</td>\n",
       "      <td>-99.16678</td>\n",
       "    </tr>\n",
       "    <tr>\n",
       "      <th>617</th>\n",
       "      <td>Deloro</td>\n",
       "      <td>88428</td>\n",
       "      <td>Canada Nickel Co.</td>\n",
       "      <td>Canada</td>\n",
       "      <td>1.4 Moderate - No Change</td>\n",
       "      <td>Reserves Development</td>\n",
       "      <td>Active</td>\n",
       "      <td>Nickel, Palladium, Platinum, Cobalt, Chromium,...</td>\n",
       "      <td>46600</td>\n",
       "      <td>tonnes</td>\n",
       "      <td>19798.257552</td>\n",
       "      <td>2024-07-17</td>\n",
       "      <td>Cobalt</td>\n",
       "      <td>2024</td>\n",
       "      <td>48.40377</td>\n",
       "      <td>-81.25800</td>\n",
       "    </tr>\n",
       "    <tr>\n",
       "      <th>618</th>\n",
       "      <td>Crean Hill</td>\n",
       "      <td>38359</td>\n",
       "      <td>Magna Mining Inc.</td>\n",
       "      <td>Canada</td>\n",
       "      <td>1.4 Moderate - No Change</td>\n",
       "      <td>Prefeas/Scoping</td>\n",
       "      <td>Active</td>\n",
       "      <td>Nickel, Copper, Platinum, Palladium, Cobalt, Gold</td>\n",
       "      <td>9890</td>\n",
       "      <td>tonnes</td>\n",
       "      <td>9769.824656</td>\n",
       "      <td>2024-04-15</td>\n",
       "      <td>Cobalt</td>\n",
       "      <td>2024</td>\n",
       "      <td>46.42944</td>\n",
       "      <td>-81.34988</td>\n",
       "    </tr>\n",
       "    <tr>\n",
       "      <th>642</th>\n",
       "      <td>Alexo-Dundonald</td>\n",
       "      <td>33464</td>\n",
       "      <td>Class 1 Nickel &amp; Technologies</td>\n",
       "      <td>Canada</td>\n",
       "      <td>1.4 Moderate - No Change</td>\n",
       "      <td>Reserves Development</td>\n",
       "      <td>Active</td>\n",
       "      <td>Nickel, Copper, Cobalt, Gold, Platinum, Palladium</td>\n",
       "      <td>1449</td>\n",
       "      <td>tonnes</td>\n",
       "      <td>970.740384</td>\n",
       "      <td>2024-10-01</td>\n",
       "      <td>Cobalt</td>\n",
       "      <td>2024</td>\n",
       "      <td>48.65369</td>\n",
       "      <td>-80.80783</td>\n",
       "    </tr>\n",
       "  </tbody>\n",
       "</table>\n",
       "<p>91 rows × 16 columns</p>\n",
       "</div>"
      ],
      "text/plain": [
       "            Property  Property ID  \\\n",
       "3       Chrome-Puddy        89842   \n",
       "4       Chrome-Puddy        89842   \n",
       "5           Canalask        26215   \n",
       "6            McBride        80756   \n",
       "7            McBride        80756   \n",
       "..               ...          ...   \n",
       "605          Nikolai        32184   \n",
       "616           Minago        27222   \n",
       "617           Deloro        88428   \n",
       "618       Crean Hill        38359   \n",
       "642  Alexo-Dundonald        33464   \n",
       "\n",
       "                                              Owner(s) Country/Region  \\\n",
       "3     Green Bridge Metals Corp., Pavey Ark Minerals...         Canada   \n",
       "4     Green Bridge Metals Corp., Pavey Ark Minerals...         Canada   \n",
       "5               GT Resources Inc., Victoria Gold Corp.         Canada   \n",
       "6                          Hastings Highlands Rsrc Ltd         Canada   \n",
       "7                          Hastings Highlands Rsrc Ltd         Canada   \n",
       "..                                                 ...            ...   \n",
       "605                         Alaska Energy Metals Corp.            USA   \n",
       "616                           Norway House Cree Nation         Canada   \n",
       "617                                  Canada Nickel Co.         Canada   \n",
       "618                                  Magna Mining Inc.         Canada   \n",
       "642                      Class 1 Nickel & Technologies         Canada   \n",
       "\n",
       "    Country/Region Risk Score & Outlook     Development Stage Activity Status  \\\n",
       "3              1.4 Moderate - No Change           Exploration          Active   \n",
       "4              1.4 Moderate - No Change           Exploration          Active   \n",
       "5              1.4 Moderate - No Change        Target Outline          Active   \n",
       "6              1.4 Moderate - No Change        Target Outline          Active   \n",
       "7              1.4 Moderate - No Change        Target Outline          Active   \n",
       "..                                  ...                   ...             ...   \n",
       "605            1.5 Moderate - No Change  Reserves Development          Active   \n",
       "616            1.4 Moderate - No Change   Feasibility Started          Active   \n",
       "617            1.4 Moderate - No Change  Reserves Development          Active   \n",
       "618            1.4 Moderate - No Change       Prefeas/Scoping          Active   \n",
       "642            1.4 Moderate - No Change  Reserves Development          Active   \n",
       "\n",
       "                                          Commodity(s)  \\\n",
       "3    Nickel, Chromium, Copper, Cobalt, Platinum, Ir...   \n",
       "4    Nickel, Chromium, Copper, Cobalt, Platinum, Ir...   \n",
       "5            Nickel, Copper, Platinum, Gold, Palladium   \n",
       "6    Nickel, Cobalt, Copper, Gold, Silver, Platinum...   \n",
       "7    Nickel, Cobalt, Copper, Gold, Silver, Platinum...   \n",
       "..                                                 ...   \n",
       "605  Nickel, Copper, Cobalt, Platinum, Palladium, G...   \n",
       "616  Nickel, Copper, Cobalt, Palladium, Frac Sand, ...   \n",
       "617  Nickel, Palladium, Platinum, Cobalt, Chromium,...   \n",
       "618  Nickel, Copper, Platinum, Palladium, Cobalt, Gold   \n",
       "642  Nickel, Copper, Cobalt, Gold, Platinum, Palladium   \n",
       "\n",
       "     Primary Reserves and Resources    Unit  Total In-Situ Value ($M)  \\\n",
       "3                             73482  tonnes               1384.357942   \n",
       "4                              4627  tonnes               1384.357942   \n",
       "5                              5300  tonnes                 87.400059   \n",
       "6                             35561  tonnes                775.079352   \n",
       "7                              2450  tonnes                775.079352   \n",
       "..                              ...     ...                       ...   \n",
       "605                         3675002  tonnes              88655.366125   \n",
       "616                          391885  tonnes               6971.333721   \n",
       "617                           46600  tonnes              19798.257552   \n",
       "618                            9890  tonnes               9769.824656   \n",
       "642                            1449  tonnes                970.740384   \n",
       "\n",
       "    Reserves & Resources As Of Date Primary Mineral  Year  Latitude (degrees)  \\\n",
       "3                        1966-12-31          Nickel  1966            49.96907   \n",
       "4                        1966-12-31          Cobalt  1966            49.96907   \n",
       "5                        1968-12-31          Nickel  1968            61.96667   \n",
       "6                        1971-12-31          Nickel  1971            44.87140   \n",
       "7                        1971-12-31          Cobalt  1971            44.87140   \n",
       "..                              ...             ...   ...                 ...   \n",
       "605                      2024-02-12          Nickel  2024            63.27641   \n",
       "616                      2024-03-18          Nickel  2024            54.11277   \n",
       "617                      2024-07-17          Cobalt  2024            48.40377   \n",
       "618                      2024-04-15          Cobalt  2024            46.42944   \n",
       "642                      2024-10-01          Cobalt  2024            48.65369   \n",
       "\n",
       "     Longitude (degrees)  \n",
       "3              -89.52303  \n",
       "4              -89.52303  \n",
       "5             -140.50000  \n",
       "6              -77.72421  \n",
       "7              -77.72421  \n",
       "..                   ...  \n",
       "605           -146.29058  \n",
       "616            -99.16678  \n",
       "617            -81.25800  \n",
       "618            -81.34988  \n",
       "642            -80.80783  \n",
       "\n",
       "[91 rows x 16 columns]"
      ]
     },
     "execution_count": 5,
     "metadata": {},
     "output_type": "execute_result"
    }
   ],
   "source": [
    "C = combined.copy()\n",
    "usca = C[C[\"Primary Mineral\"].isin([\"Cobalt\", \"Nickel\", \"Manganese\"]) & \n",
    "         C[\"Country/Region\"].isin([\"USA\", \"Canada\"])]\n",
    "usca"
   ]
  },
  {
   "cell_type": "code",
   "execution_count": 6,
   "metadata": {},
   "outputs": [],
   "source": [
    "C = combined.copy()\n",
    "usca = C[C[\"Primary Mineral\"].isin([\"Cobalt\", \"Nickel\", \"Manganese\"]) & \n",
    "         C[\"Country/Region\"].isin([\"USA\", \"Canada\"])]"
   ]
  },
  {
   "cell_type": "code",
   "execution_count": 7,
   "metadata": {},
   "outputs": [
    {
     "data": {
      "application/vnd.plotly.v1+json": {
       "config": {
        "plotlyServerURL": "https://plot.ly"
       },
       "data": [
        {
         "customdata": [
          [
           89842,
           73482,
           "Canada",
           "Nickel, Chromium, Copper, Cobalt, Platinum, Iron Ore, Palladium, Gold, Chromite"
          ],
          [
           26215,
           5300,
           "Canada",
           "Nickel, Copper, Platinum, Gold, Palladium"
          ],
          [
           80756,
           35561,
           "Canada",
           "Nickel, Cobalt, Copper, Gold, Silver, Platinum, Palladium"
          ],
          [
           91456,
           72150,
           "Canada",
           "Nickel, Copper"
          ],
          [
           80201,
           13010,
           "Canada",
           "Cobalt, Copper, Nickel, Platinum, Palladium, Gold"
          ],
          [
           84460,
           5262,
           "Canada",
           "Nickel, Cobalt, Copper, Palladium"
          ],
          [
           29375,
           33000,
           "Canada",
           "Nickel, Cobalt"
          ],
          [
           33471,
           2699,
           "Canada",
           "Nickel, Copper, Cobalt"
          ],
          [
           36150,
           29000,
           "Canada",
           "Nickel, Cobalt, Palladium, Platinum"
          ],
          [
           30985,
           18019,
           "Canada",
           "Nickel, Copper, Zinc, Silver, Gold, Palladium, Platinum"
          ],
          [
           91615,
           143612,
           "USA",
           "Nickel, Cobalt"
          ],
          [
           91613,
           332483,
           "USA",
           "Nickel, Cobalt"
          ],
          [
           27947,
           163338,
           "Canada",
           "Nickel, Copper, Cobalt"
          ],
          [
           31715,
           350200,
           "Canada",
           "Nickel, Copper, Cobalt, Platinum, Palladium, Gold"
          ],
          [
           35769,
           44000,
           "Canada",
           "Nickel, Copper, Platinum, Palladium, Cobalt, Gold"
          ],
          [
           35686,
           300000,
           "Canada",
           "Nickel, Copper, Gold, Platinum, Palladium, Silver"
          ],
          [
           34245,
           17200,
           "Canada",
           "Nickel, Copper, Cobalt, Platinum, Palladium"
          ],
          [
           27096,
           46000,
           "Canada",
           "Nickel, Copper, Cobalt, Gold, Platinum, Palladium, Silver"
          ],
          [
           29586,
           50194,
           "Canada",
           "Nickel, Copper, Platinum"
          ],
          [
           92718,
           42000,
           "Canada",
           "Nickel"
          ],
          [
           80786,
           23133,
           "USA",
           "Cobalt, Copper, Nickel"
          ],
          [
           25816,
           5720702,
           "Canada",
           "Nickel, Cobalt, Platinum, Palladium, Iron Ore"
          ],
          [
           76126,
           68900,
           "Canada",
           "Nickel, Copper, Cobalt, Platinum, Palladium, Gold, Zinc, Lead"
          ],
          [
           76615,
           50439,
           "Canada",
           "Nickel, Copper, Cobalt, Platinum, Palladium, Gold"
          ],
          [
           31518,
           75750,
           "Canada",
           "Nickel, Copper, Palladium, Platinum, Gold, Cobalt, Silver"
          ],
          [
           27307,
           116800,
           "Canada",
           "Nickel, Copper, Cobalt, Platinum, Zinc, Lead, Silver, Gold"
          ],
          [
           33075,
           48398,
           "Canada",
           "Nickel, Copper, Cobalt, Silver, Gold, Platinum"
          ],
          [
           36221,
           217724,
           "USA",
           "Nickel, Copper, Cobalt, Platinum, Palladium, Gold"
          ],
          [
           29658,
           76611,
           "Canada",
           "Nickel, Copper, Cobalt, Platinum, Palladium, Gold, Iron Ore"
          ],
          [
           88353,
           70000,
           "Canada",
           "Nickel, Copper, Cobalt, Platinum, Palladium"
          ],
          [
           84130,
           907,
           "Canada",
           "Nickel, Copper, Cobalt, Platinum, Palladium, Gold, Silver"
          ],
          [
           30900,
           394300,
           "Canada",
           "Nickel, Copper, Palladium, Platinum, Cobalt, Diamonds, Iron Ore"
          ],
          [
           33795,
           70000,
           "USA",
           "Nickel, Copper, Gold, Platinum, Palladium, Cobalt, Silver"
          ],
          [
           90553,
           6000,
           "Canada",
           "Lithium, Copper, Nickel"
          ],
          [
           33382,
           125161,
           "Canada",
           "Nickel, Copper, Gold, Platinum, Palladium, Cobalt, Chromite, Lithium, Caesium, Tantalum, Rubidium"
          ],
          [
           26560,
           510000,
           "Canada",
           "Nickel, Copper, Cobalt, Gold, Silver, Palladium"
          ],
          [
           27672,
           1773000,
           "Canada",
           "Nickel, Copper, Rhodium, Cobalt, Platinum, Palladium, Gold, Silver"
          ],
          [
           26275,
           1435029,
           "Canada",
           "Nickel, Copper, Platinum, Palladium, Gold, Cobalt, Rhodium, Iridium, Ruthenium, Osmium, Magnesium"
          ],
          [
           35359,
           59100,
           "Canada",
           "Nickel, Cobalt, Copper, Palladium, Platinum, Gold, Silver, Lithium, Caesium, Tantalum"
          ],
          [
           32133,
           16577,
           "Canada",
           "Nickel, Copper, Cobalt, Platinum, Palladium"
          ],
          [
           28992,
           718800,
           "Canada",
           "Nickel, Copper, Cobalt"
          ],
          [
           30825,
           5702000,
           "Canada",
           "Nickel, Cobalt, Copper, Palladium, Platinum, Gold"
          ],
          [
           27146,
           2011000,
           "Canada",
           "Nickel, Copper, Cobalt, Platinum, Palladium, Rhodium, Gold, Silver"
          ],
          [
           35448,
           2435240,
           "Canada",
           "Nickel, Copper, Platinum, Palladium, Cobalt, Gold, Iron Ore"
          ],
          [
           86139,
           9761600,
           "Canada",
           "Nickel, Cobalt, Palladium, Platinum, Iron Ore, Chromium, Gold, Chromite"
          ],
          [
           37943,
           4548000,
           "Canada",
           "Nickel, Iron Ore, Chromite, Cobalt, Copper"
          ],
          [
           38359,
           283800,
           "Canada",
           "Nickel, Copper, Platinum, Palladium, Cobalt, Gold"
          ],
          [
           88428,
           1087200,
           "Canada",
           "Nickel, Palladium, Platinum, Cobalt, Chromium, Iron Ore, Chromite"
          ],
          [
           33464,
           54504,
           "Canada",
           "Nickel, Copper, Cobalt, Gold, Platinum, Palladium"
          ],
          [
           32184,
           3675002,
           "USA",
           "Nickel, Copper, Cobalt, Platinum, Palladium, Gold, Iron Ore, Chromite, Silver"
          ],
          [
           27222,
           391885,
           "Canada",
           "Nickel, Copper, Cobalt, Palladium, Frac Sand, Gold, Platinum, Silver, Rhodium"
          ]
         ],
         "geo": "geo",
         "hovertemplate": "Primary Mineral=Nickel<br>Latitude (degrees)=%{lat}<br>Longitude (degrees)=%{lon}<br>Property ID=%{customdata[0]}<br>Primary Reserves and Resources=%{customdata[1]}<br>Country/Region=%{customdata[2]}<br>Commodity(s)=%{customdata[3]}<extra></extra>",
         "lat": {
          "bdata": "csRafAr8SEAdA7LXu/tOQAHeAgmKb0ZAnL8JhQg4R0Aai6azk+FLQPhwyXGnVEhA/kgRGVaFSEB5QNmUK2hHQGlXIeUnFUhA73IR34k9SUCppE5AEy1FQKrU7IFWBEVAsvShC+ofTkCmKQKc3rVOQO3YCMTrsk5ALH3ogvpeSkBGlPYGX8hHQMgkI2dhN0dAE2HD0yt1S0CcFrzoKyxIQNklqrcGxkJANdJSeTtSSEA6kst/SAdJQATnjCjtaUtAGH0FacYqR0AijnVxG2lMQNKpK5/lvUhAEsKjjSNWR0AAAAAAAIBNQFafq63Y90pAJjYf14ZySED0MorllnJPQHIz3IDPX0dAEvdY+tBNSUCqglFJnVBJQLSOqiaI2ktA9DehEAE/R0AdA7LXu7tOQHyb/uxH2klAOkAwR4/zSUBg6udNRSpMQD6WPnRBPU1AfcucLotRR0DLoUW28yVIQLUV+8vuaUhALSEf9Gx2S0AQzNHj9zZHQI+NQLyuM0hActwpHaxTSEDIJCNnYaNPQCb8Uj9vDktA",
          "dtype": "f8"
         },
         "legendgroup": "Nickel",
         "lon": {
          "bdata": "7DTSUnlhVsAAAAAAAJBhwOpb5nRZblPAS3ZsBOJTVMADlfHvMzxawNkIxOv6Z1TA8zy4O2vFXcDFG5lH/ixTwMI0DB8RTVTADYl7LH3gV8BlGeJYFxNfwN+JWS+G+l7AzemymNggWsDNzMzMzIhSwPg2/dmPvlLAliGOdXGTVcA6BmSvd0tUwKFKzR5oU1TA/+cwX16qWMAk1uJTAEBUwDmX4qqykVbAYygn2lWcU8BLWYY41qdTwMRfkzXq+1jATE9Y4gF3VMC8rl+wG0JZwFuxv+yeaFfAb7vQXKdHV8DCNAwfEWlRwGGJB5RNsVfAKNU+HY/TVcA4hCo1ey5YwDVG66hq+FXA/tR46SbfV8CU+x2KAudXwH41BwjmeFjA9Wc/UkREVMA5fxMKEXFhwMmrcwzI5lLAXoB9dOraVcCAn3HhQAxPwLZKsDicG2DAy9b6IqFXVMBslWBxOEFUwEinrnyWVVTAf/s6cM5WX8CRYRVvZFZUwI2XbhKDUFTAkq6ZfLMzVMDlm21uTEliwB9oBYasyljA",
          "dtype": "f8"
         },
         "marker": {
          "color": "#636efa",
          "symbol": "circle"
         },
         "mode": "markers",
         "name": "Nickel",
         "showlegend": true,
         "type": "scattergeo"
        },
        {
         "customdata": [
          [
           89842,
           4627,
           "Canada",
           "Nickel, Chromium, Copper, Cobalt, Platinum, Iron Ore, Palladium, Gold, Chromite"
          ],
          [
           80756,
           2450,
           "Canada",
           "Nickel, Cobalt, Copper, Gold, Silver, Platinum, Palladium"
          ],
          [
           29375,
           1600,
           "Canada",
           "Nickel, Cobalt"
          ],
          [
           27947,
           7575,
           "Canada",
           "Nickel, Copper, Cobalt"
          ],
          [
           35769,
           2233,
           "Canada",
           "Nickel, Copper, Platinum, Palladium, Cobalt, Gold"
          ],
          [
           31715,
           18670,
           "Canada",
           "Nickel, Copper, Cobalt, Platinum, Palladium, Gold"
          ],
          [
           34245,
           651,
           "Canada",
           "Nickel, Copper, Cobalt, Platinum, Palladium"
          ],
          [
           27096,
           1060,
           "Canada",
           "Nickel, Copper, Cobalt, Gold, Platinum, Palladium, Silver"
          ],
          [
           29668,
           74249,
           "Canada",
           "Cobalt, Gold, Bismuth, Copper"
          ],
          [
           80786,
           15876,
           "USA",
           "Cobalt, Copper, Nickel"
          ],
          [
           29419,
           340,
           "Canada",
           "Cobalt, Copper, Gold, Silver, Nickel"
          ],
          [
           25816,
           229518,
           "Canada",
           "Nickel, Cobalt, Platinum, Palladium, Iron Ore"
          ],
          [
           76126,
           1463,
           "Canada",
           "Nickel, Copper, Cobalt, Platinum, Palladium, Gold, Zinc, Lead"
          ],
          [
           34473,
           597,
           "Canada",
           "Cobalt, Copper, Silver, Zinc, Gold"
          ],
          [
           27307,
           5300,
           "Canada",
           "Nickel, Copper, Cobalt, Platinum, Zinc, Lead, Silver, Gold"
          ],
          [
           31518,
           4536,
           "Canada",
           "Nickel, Copper, Palladium, Platinum, Gold, Cobalt, Silver"
          ],
          [
           76615,
           2646,
           "Canada",
           "Nickel, Copper, Cobalt, Platinum, Palladium, Gold"
          ],
          [
           29658,
           4417,
           "Canada",
           "Nickel, Copper, Cobalt, Platinum, Palladium, Gold, Iron Ore"
          ],
          [
           36221,
           5974,
           "USA",
           "Nickel, Copper, Cobalt, Platinum, Palladium, Gold"
          ],
          [
           30900,
           46400,
           "Canada",
           "Nickel, Copper, Palladium, Platinum, Cobalt, Diamonds, Iron Ore"
          ],
          [
           33075,
           544,
           "Canada",
           "Nickel, Copper, Cobalt, Silver, Gold, Platinum"
          ],
          [
           32133,
           783,
           "Canada",
           "Nickel, Copper, Cobalt, Platinum, Palladium"
          ],
          [
           26275,
           79469,
           "Canada",
           "Nickel, Copper, Platinum, Palladium, Gold, Cobalt, Rhodium, Iridium, Ruthenium, Osmium, Magnesium"
          ],
          [
           27870,
           9268,
           "USA",
           "Cobalt, Copper, Gold"
          ],
          [
           26560,
           8000,
           "Canada",
           "Nickel, Copper, Cobalt, Gold, Silver, Palladium"
          ],
          [
           27672,
           48500,
           "Canada",
           "Nickel, Copper, Rhodium, Cobalt, Platinum, Palladium, Gold, Silver"
          ],
          [
           27146,
           45000,
           "Canada",
           "Nickel, Copper, Cobalt, Platinum, Palladium, Rhodium, Gold, Silver"
          ],
          [
           28992,
           44390,
           "Canada",
           "Nickel, Copper, Cobalt"
          ],
          [
           35448,
           108239,
           "Canada",
           "Nickel, Copper, Platinum, Palladium, Cobalt, Gold, Iron Ore"
          ],
          [
           86139,
           552200,
           "Canada",
           "Nickel, Cobalt, Palladium, Platinum, Iron Ore, Chromium, Gold, Chromite"
          ],
          [
           30825,
           345000,
           "Canada",
           "Nickel, Cobalt, Copper, Palladium, Platinum, Gold"
          ],
          [
           33382,
           6224,
           "Canada",
           "Nickel, Copper, Gold, Platinum, Palladium, Cobalt, Chromite, Lithium, Caesium, Tantalum, Rubidium"
          ],
          [
           35359,
           3700,
           "Canada",
           "Nickel, Cobalt, Copper, Palladium, Platinum, Gold, Silver, Lithium, Caesium, Tantalum"
          ],
          [
           32184,
           285763,
           "USA",
           "Nickel, Copper, Cobalt, Platinum, Palladium, Gold, Iron Ore, Chromite, Silver"
          ],
          [
           88428,
           46600,
           "Canada",
           "Nickel, Palladium, Platinum, Cobalt, Chromium, Iron Ore, Chromite"
          ],
          [
           38359,
           9890,
           "Canada",
           "Nickel, Copper, Platinum, Palladium, Cobalt, Gold"
          ],
          [
           33464,
           1449,
           "Canada",
           "Nickel, Copper, Cobalt, Gold, Platinum, Palladium"
          ]
         ],
         "geo": "geo",
         "hovertemplate": "Primary Mineral=Cobalt<br>Latitude (degrees)=%{lat}<br>Longitude (degrees)=%{lon}<br>Property ID=%{customdata[0]}<br>Primary Reserves and Resources=%{customdata[1]}<br>Country/Region=%{customdata[2]}<br>Commodity(s)=%{customdata[3]}<extra></extra>",
         "lat": {
          "bdata": "csRafAr8SEAB3gIJim9GQP5IERlWhUhAsvShC+ofTkDt2AjE67JOQKYpApzetU5ARpT2Bl/IR0DIJCNnYTdHQGZmZmZmxk9A2SWqtwbGQkCrCaLuAzxJQDXSUnk7UkhAOpLLf0gHSUBegH106rJHQCKOdXEbaUxAGH0FacYqR0AE54wo7WlLQAAAAAAAgE1AEsKjjSNWR0D0MorllnJPQNKpK5/lvUhAOkAwR4/zSUAdA7LXu7tOQEj5SbVPe0ZAtI6qJojaS0D0N6EQAT9HQH3LnC6LUUdAYOrnTUUqTEDLoUW28yVIQLUV+8vuaUhAPpY+dEE9TUCqglFJnVBJQHyb/uxH2klAyCQjZ2GjT0CPjUC8rjNIQBDM0eP3NkdActwpHaxTSEA=",
          "dtype": "f8"
         },
         "legendgroup": "Cobalt",
         "lon": {
          "bdata": "7DTSUnlhVsDqW+Z0WW5TwPM8uDtrxV3AzemymNggWsD4Nv3Zj75SwM3MzMzMiFLAOgZkr3dLVMChSs0eaFNUwAuYwK27L13AOZfiqrKRVsAGu2Hbor5XwGMoJ9pVnFPAS1mGONanU8CdS3FV2T1UwLyuX7AbQlnATE9Y4gF3VMDEX5M16vtYwMI0DB8RaVHAb7vQXKdHV8A4hCo1ey5YwFuxv+yeaFfAXoB9dOraVcA5fxMKEXFhwEiKyLCKh1zAfjUHCOZ4WMD1Zz9SRERUwMvW+iKhV1TAgJ9x4UAMT8BslWBxOEFUwEinrnyWVVTAtkqwOJwbYMCU+x2KAudXwMmrcwzI5lLA5ZttbkxJYsCNl24Sg1BUwJFhFW9kVlTAkq6ZfLMzVMA=",
          "dtype": "f8"
         },
         "marker": {
          "color": "#EF553B",
          "symbol": "circle"
         },
         "mode": "markers",
         "name": "Cobalt",
         "showlegend": true,
         "type": "scattergeo"
        },
        {
         "customdata": [
          [
           61015,
           135488474,
           "Canada",
           "Manganese, Iron Ore"
          ],
          [
           61022,
           62860000,
           "Canada",
           "Manganese, Iron Ore"
          ],
          [
           68328,
           11149000,
           "USA",
           "Manganese, Iron Ore, Silica, Aluminum, Cobalt, Magnesium, Tin, Strontium, Titanium"
          ]
         ],
         "geo": "geo",
         "hovertemplate": "Primary Mineral=Manganese<br>Latitude (degrees)=%{lat}<br>Longitude (degrees)=%{lon}<br>Property ID=%{customdata[0]}<br>Primary Reserves and Resources=%{customdata[1]}<br>Country/Region=%{customdata[2]}<br>Commodity(s)=%{customdata[3]}<extra></extra>",
         "lat": {
          "bdata": "16NwPQoXR0Abu0T11hxHQKOvIM1YYEdA",
          "dtype": "f8"
         },
         "legendgroup": "Manganese",
         "lon": {
          "bdata": "KVyPwvXoUMBEqFKzB+hQwA1slWBxflfA",
          "dtype": "f8"
         },
         "marker": {
          "color": "#00cc96",
          "symbol": "circle"
         },
         "mode": "markers",
         "name": "Manganese",
         "showlegend": true,
         "type": "scattergeo"
        }
       ],
       "layout": {
        "geo": {
         "center": {},
         "domain": {
          "x": [
           0,
           1
          ],
          "y": [
           0,
           1
          ]
         },
         "landcolor": "rgb(217, 217, 217)",
         "lataxis": {
          "range": [
           27.54708,
           73.55
          ]
         },
         "lonaxis": {
          "range": [
           -156.29058,
           -52.09573
          ]
         },
         "showland": true
        },
        "legend": {
         "title": {
          "text": "Primary Mineral"
         },
         "tracegroupgap": 0
        },
        "margin": {
         "t": 60
        },
        "template": {
         "data": {
          "bar": [
           {
            "error_x": {
             "color": "#2a3f5f"
            },
            "error_y": {
             "color": "#2a3f5f"
            },
            "marker": {
             "line": {
              "color": "#E5ECF6",
              "width": 0.5
             },
             "pattern": {
              "fillmode": "overlay",
              "size": 10,
              "solidity": 0.2
             }
            },
            "type": "bar"
           }
          ],
          "barpolar": [
           {
            "marker": {
             "line": {
              "color": "#E5ECF6",
              "width": 0.5
             },
             "pattern": {
              "fillmode": "overlay",
              "size": 10,
              "solidity": 0.2
             }
            },
            "type": "barpolar"
           }
          ],
          "carpet": [
           {
            "aaxis": {
             "endlinecolor": "#2a3f5f",
             "gridcolor": "white",
             "linecolor": "white",
             "minorgridcolor": "white",
             "startlinecolor": "#2a3f5f"
            },
            "baxis": {
             "endlinecolor": "#2a3f5f",
             "gridcolor": "white",
             "linecolor": "white",
             "minorgridcolor": "white",
             "startlinecolor": "#2a3f5f"
            },
            "type": "carpet"
           }
          ],
          "choropleth": [
           {
            "colorbar": {
             "outlinewidth": 0,
             "ticks": ""
            },
            "type": "choropleth"
           }
          ],
          "contour": [
           {
            "colorbar": {
             "outlinewidth": 0,
             "ticks": ""
            },
            "colorscale": [
             [
              0,
              "#0d0887"
             ],
             [
              0.1111111111111111,
              "#46039f"
             ],
             [
              0.2222222222222222,
              "#7201a8"
             ],
             [
              0.3333333333333333,
              "#9c179e"
             ],
             [
              0.4444444444444444,
              "#bd3786"
             ],
             [
              0.5555555555555556,
              "#d8576b"
             ],
             [
              0.6666666666666666,
              "#ed7953"
             ],
             [
              0.7777777777777778,
              "#fb9f3a"
             ],
             [
              0.8888888888888888,
              "#fdca26"
             ],
             [
              1,
              "#f0f921"
             ]
            ],
            "type": "contour"
           }
          ],
          "contourcarpet": [
           {
            "colorbar": {
             "outlinewidth": 0,
             "ticks": ""
            },
            "type": "contourcarpet"
           }
          ],
          "heatmap": [
           {
            "colorbar": {
             "outlinewidth": 0,
             "ticks": ""
            },
            "colorscale": [
             [
              0,
              "#0d0887"
             ],
             [
              0.1111111111111111,
              "#46039f"
             ],
             [
              0.2222222222222222,
              "#7201a8"
             ],
             [
              0.3333333333333333,
              "#9c179e"
             ],
             [
              0.4444444444444444,
              "#bd3786"
             ],
             [
              0.5555555555555556,
              "#d8576b"
             ],
             [
              0.6666666666666666,
              "#ed7953"
             ],
             [
              0.7777777777777778,
              "#fb9f3a"
             ],
             [
              0.8888888888888888,
              "#fdca26"
             ],
             [
              1,
              "#f0f921"
             ]
            ],
            "type": "heatmap"
           }
          ],
          "histogram": [
           {
            "marker": {
             "pattern": {
              "fillmode": "overlay",
              "size": 10,
              "solidity": 0.2
             }
            },
            "type": "histogram"
           }
          ],
          "histogram2d": [
           {
            "colorbar": {
             "outlinewidth": 0,
             "ticks": ""
            },
            "colorscale": [
             [
              0,
              "#0d0887"
             ],
             [
              0.1111111111111111,
              "#46039f"
             ],
             [
              0.2222222222222222,
              "#7201a8"
             ],
             [
              0.3333333333333333,
              "#9c179e"
             ],
             [
              0.4444444444444444,
              "#bd3786"
             ],
             [
              0.5555555555555556,
              "#d8576b"
             ],
             [
              0.6666666666666666,
              "#ed7953"
             ],
             [
              0.7777777777777778,
              "#fb9f3a"
             ],
             [
              0.8888888888888888,
              "#fdca26"
             ],
             [
              1,
              "#f0f921"
             ]
            ],
            "type": "histogram2d"
           }
          ],
          "histogram2dcontour": [
           {
            "colorbar": {
             "outlinewidth": 0,
             "ticks": ""
            },
            "colorscale": [
             [
              0,
              "#0d0887"
             ],
             [
              0.1111111111111111,
              "#46039f"
             ],
             [
              0.2222222222222222,
              "#7201a8"
             ],
             [
              0.3333333333333333,
              "#9c179e"
             ],
             [
              0.4444444444444444,
              "#bd3786"
             ],
             [
              0.5555555555555556,
              "#d8576b"
             ],
             [
              0.6666666666666666,
              "#ed7953"
             ],
             [
              0.7777777777777778,
              "#fb9f3a"
             ],
             [
              0.8888888888888888,
              "#fdca26"
             ],
             [
              1,
              "#f0f921"
             ]
            ],
            "type": "histogram2dcontour"
           }
          ],
          "mesh3d": [
           {
            "colorbar": {
             "outlinewidth": 0,
             "ticks": ""
            },
            "type": "mesh3d"
           }
          ],
          "parcoords": [
           {
            "line": {
             "colorbar": {
              "outlinewidth": 0,
              "ticks": ""
             }
            },
            "type": "parcoords"
           }
          ],
          "pie": [
           {
            "automargin": true,
            "type": "pie"
           }
          ],
          "scatter": [
           {
            "fillpattern": {
             "fillmode": "overlay",
             "size": 10,
             "solidity": 0.2
            },
            "type": "scatter"
           }
          ],
          "scatter3d": [
           {
            "line": {
             "colorbar": {
              "outlinewidth": 0,
              "ticks": ""
             }
            },
            "marker": {
             "colorbar": {
              "outlinewidth": 0,
              "ticks": ""
             }
            },
            "type": "scatter3d"
           }
          ],
          "scattercarpet": [
           {
            "marker": {
             "colorbar": {
              "outlinewidth": 0,
              "ticks": ""
             }
            },
            "type": "scattercarpet"
           }
          ],
          "scattergeo": [
           {
            "marker": {
             "colorbar": {
              "outlinewidth": 0,
              "ticks": ""
             }
            },
            "type": "scattergeo"
           }
          ],
          "scattergl": [
           {
            "marker": {
             "colorbar": {
              "outlinewidth": 0,
              "ticks": ""
             }
            },
            "type": "scattergl"
           }
          ],
          "scattermap": [
           {
            "marker": {
             "colorbar": {
              "outlinewidth": 0,
              "ticks": ""
             }
            },
            "type": "scattermap"
           }
          ],
          "scattermapbox": [
           {
            "marker": {
             "colorbar": {
              "outlinewidth": 0,
              "ticks": ""
             }
            },
            "type": "scattermapbox"
           }
          ],
          "scatterpolar": [
           {
            "marker": {
             "colorbar": {
              "outlinewidth": 0,
              "ticks": ""
             }
            },
            "type": "scatterpolar"
           }
          ],
          "scatterpolargl": [
           {
            "marker": {
             "colorbar": {
              "outlinewidth": 0,
              "ticks": ""
             }
            },
            "type": "scatterpolargl"
           }
          ],
          "scatterternary": [
           {
            "marker": {
             "colorbar": {
              "outlinewidth": 0,
              "ticks": ""
             }
            },
            "type": "scatterternary"
           }
          ],
          "surface": [
           {
            "colorbar": {
             "outlinewidth": 0,
             "ticks": ""
            },
            "colorscale": [
             [
              0,
              "#0d0887"
             ],
             [
              0.1111111111111111,
              "#46039f"
             ],
             [
              0.2222222222222222,
              "#7201a8"
             ],
             [
              0.3333333333333333,
              "#9c179e"
             ],
             [
              0.4444444444444444,
              "#bd3786"
             ],
             [
              0.5555555555555556,
              "#d8576b"
             ],
             [
              0.6666666666666666,
              "#ed7953"
             ],
             [
              0.7777777777777778,
              "#fb9f3a"
             ],
             [
              0.8888888888888888,
              "#fdca26"
             ],
             [
              1,
              "#f0f921"
             ]
            ],
            "type": "surface"
           }
          ],
          "table": [
           {
            "cells": {
             "fill": {
              "color": "#EBF0F8"
             },
             "line": {
              "color": "white"
             }
            },
            "header": {
             "fill": {
              "color": "#C8D4E3"
             },
             "line": {
              "color": "white"
             }
            },
            "type": "table"
           }
          ]
         },
         "layout": {
          "annotationdefaults": {
           "arrowcolor": "#2a3f5f",
           "arrowhead": 0,
           "arrowwidth": 1
          },
          "autotypenumbers": "strict",
          "coloraxis": {
           "colorbar": {
            "outlinewidth": 0,
            "ticks": ""
           }
          },
          "colorscale": {
           "diverging": [
            [
             0,
             "#8e0152"
            ],
            [
             0.1,
             "#c51b7d"
            ],
            [
             0.2,
             "#de77ae"
            ],
            [
             0.3,
             "#f1b6da"
            ],
            [
             0.4,
             "#fde0ef"
            ],
            [
             0.5,
             "#f7f7f7"
            ],
            [
             0.6,
             "#e6f5d0"
            ],
            [
             0.7,
             "#b8e186"
            ],
            [
             0.8,
             "#7fbc41"
            ],
            [
             0.9,
             "#4d9221"
            ],
            [
             1,
             "#276419"
            ]
           ],
           "sequential": [
            [
             0,
             "#0d0887"
            ],
            [
             0.1111111111111111,
             "#46039f"
            ],
            [
             0.2222222222222222,
             "#7201a8"
            ],
            [
             0.3333333333333333,
             "#9c179e"
            ],
            [
             0.4444444444444444,
             "#bd3786"
            ],
            [
             0.5555555555555556,
             "#d8576b"
            ],
            [
             0.6666666666666666,
             "#ed7953"
            ],
            [
             0.7777777777777778,
             "#fb9f3a"
            ],
            [
             0.8888888888888888,
             "#fdca26"
            ],
            [
             1,
             "#f0f921"
            ]
           ],
           "sequentialminus": [
            [
             0,
             "#0d0887"
            ],
            [
             0.1111111111111111,
             "#46039f"
            ],
            [
             0.2222222222222222,
             "#7201a8"
            ],
            [
             0.3333333333333333,
             "#9c179e"
            ],
            [
             0.4444444444444444,
             "#bd3786"
            ],
            [
             0.5555555555555556,
             "#d8576b"
            ],
            [
             0.6666666666666666,
             "#ed7953"
            ],
            [
             0.7777777777777778,
             "#fb9f3a"
            ],
            [
             0.8888888888888888,
             "#fdca26"
            ],
            [
             1,
             "#f0f921"
            ]
           ]
          },
          "colorway": [
           "#636efa",
           "#EF553B",
           "#00cc96",
           "#ab63fa",
           "#FFA15A",
           "#19d3f3",
           "#FF6692",
           "#B6E880",
           "#FF97FF",
           "#FECB52"
          ],
          "font": {
           "color": "#2a3f5f"
          },
          "geo": {
           "bgcolor": "white",
           "lakecolor": "white",
           "landcolor": "#E5ECF6",
           "showlakes": true,
           "showland": true,
           "subunitcolor": "white"
          },
          "hoverlabel": {
           "align": "left"
          },
          "hovermode": "closest",
          "mapbox": {
           "style": "light"
          },
          "paper_bgcolor": "white",
          "plot_bgcolor": "#E5ECF6",
          "polar": {
           "angularaxis": {
            "gridcolor": "white",
            "linecolor": "white",
            "ticks": ""
           },
           "bgcolor": "#E5ECF6",
           "radialaxis": {
            "gridcolor": "white",
            "linecolor": "white",
            "ticks": ""
           }
          },
          "scene": {
           "xaxis": {
            "backgroundcolor": "#E5ECF6",
            "gridcolor": "white",
            "gridwidth": 2,
            "linecolor": "white",
            "showbackground": true,
            "ticks": "",
            "zerolinecolor": "white"
           },
           "yaxis": {
            "backgroundcolor": "#E5ECF6",
            "gridcolor": "white",
            "gridwidth": 2,
            "linecolor": "white",
            "showbackground": true,
            "ticks": "",
            "zerolinecolor": "white"
           },
           "zaxis": {
            "backgroundcolor": "#E5ECF6",
            "gridcolor": "white",
            "gridwidth": 2,
            "linecolor": "white",
            "showbackground": true,
            "ticks": "",
            "zerolinecolor": "white"
           }
          },
          "shapedefaults": {
           "line": {
            "color": "#2a3f5f"
           }
          },
          "ternary": {
           "aaxis": {
            "gridcolor": "white",
            "linecolor": "white",
            "ticks": ""
           },
           "baxis": {
            "gridcolor": "white",
            "linecolor": "white",
            "ticks": ""
           },
           "bgcolor": "#E5ECF6",
           "caxis": {
            "gridcolor": "white",
            "linecolor": "white",
            "ticks": ""
           }
          },
          "title": {
           "x": 0.05
          },
          "xaxis": {
           "automargin": true,
           "gridcolor": "white",
           "linecolor": "white",
           "ticks": "",
           "title": {
            "standoff": 15
           },
           "zerolinecolor": "white",
           "zerolinewidth": 2
          },
          "yaxis": {
           "automargin": true,
           "gridcolor": "white",
           "linecolor": "white",
           "ticks": "",
           "title": {
            "standoff": 15
           },
           "zerolinecolor": "white",
           "zerolinewidth": 2
          }
         }
        }
       }
      }
     },
     "metadata": {},
     "output_type": "display_data"
    }
   ],
   "source": [
    "usca_map = px.scatter_geo(usca, lat=\"Latitude (degrees)\", lon=\"Longitude (degrees)\", color=\"Primary Mineral\", \n",
    "                    size_max=20, hover_data=[\"Property ID\",\"Primary Reserves and Resources\", \"Country/Region\", \n",
    "                                             \"Commodity(s)\"],\n",
    "                    )\n",
    "\n",
    "usca_map.update_layout(\n",
    "    geo=dict(\n",
    "        \n",
    "        showland=True,\n",
    "        landcolor=\"rgb(217, 217, 217)\",\n",
    "        lonaxis=dict(range=[usca[\"Longitude (degrees)\"].min() - 10, usca[\"Longitude (degrees)\"].max() + 10]),  # Adjust padding\n",
    "        lataxis=dict(range=[usca[\"Latitude (degrees)\"].min() - 10, usca[\"Latitude (degrees)\"].max() + 10]),  # Adjust padding\n",
    "    )\n",
    ")"
   ]
  },
  {
   "cell_type": "code",
   "execution_count": 19,
   "metadata": {},
   "outputs": [],
   "source": [
    "import networkx as nx\n",
    "from geopy.distance import geodesic\n",
    "import numpy as np\n",
    "import pandas as pd\n",
    "import plotly.graph_objects as go\n",
    "from sklearn.cluster import DBSCAN\n",
    "from sklearn.preprocessing import LabelEncoder\n",
    "\n",
    "def build(df, max_distance_per_cluster=2000):  # km\n",
    "    \n",
    "    simplified_df = df.rename(columns={'Latitude (degrees)': 'Lat', \n",
    "                       'Longitude (degrees)': 'Lon',\n",
    "                        'Primary Reserves and Resources': 'Reserves',\n",
    "                        'Property ID': 'ID',\n",
    "                        'Property': 'Name'})\n",
    "\n",
    "    \n",
    "    simplified_df['Normalized_Reserves'] = simplified_df['Reserves'] / simplified_df['Reserves'].max()\n",
    "\n",
    "    coords = simplified_df[['Lat', 'Lon']]\n",
    "    clustering = DBSCAN(eps=4).fit(coords)\n",
    "    simplified_df['Cluster'] = clustering.labels_\n",
    "\n",
    "    fig = go.Figure()\n",
    "\n",
    "    required_metals = {\"Cobalt\", \"Nickel\", \"Manganese\"}\n",
    "\n",
    "    def check_coverage(sites):\n",
    "        found = set()\n",
    "        for s in sites:\n",
    "            for metal in required_metals:\n",
    "                if metal.lower() in s['Commodity(s)'].lower():\n",
    "                    found.add(metal)\n",
    "        return required_metals.issubset(found)\n",
    "\n",
    "    for cluster in simplified_df['Cluster'].unique():\n",
    "        cluster_data = simplified_df[simplified_df['Cluster'] == cluster].copy()\n",
    "        if cluster_data.empty:\n",
    "            continue\n",
    "\n",
    "        fig.add_trace(go.Scattergeo(\n",
    "            lon=cluster_data['Lon'],\n",
    "            lat=cluster_data['Lat'],\n",
    "            customdata=cluster_data[['Reserves', 'Name', 'Commodity(s)', \"Primary Mineral\"]],\n",
    "            mode='markers+text',\n",
    "            hovertemplate=\"<b>%{customdata[1]}</b><br>\" +\n",
    "                          \"Latitude: %{lat}<br>\" +\n",
    "                          \"Longitude: %{lon}<br>\" +\n",
    "                          \"Commodities: %{customdata[2]}<br>\" +\n",
    "                          \"Primary Commodity: %{customdata[3]}<br>\" +\n",
    "                          \"Reserves: %{customdata[0]:,.0f} tonnes\",\n",
    "            textposition=\"bottom center\",\n",
    "            marker=dict(size=8, symbol='circle'),\n",
    "            name=f'Cluster {cluster}'\n",
    "        ))\n",
    "\n",
    "        # Greedy selection algorithm with metal constraint\n",
    "        mines = cluster_data.to_dict(orient='records')\n",
    "        start = max(mines, key=lambda x: x['Reserves'])\n",
    "\n",
    "        visited = [start]\n",
    "        unvisited = [m for m in mines if m['ID'] != start['ID']]\n",
    "        total_distance = 0\n",
    "\n",
    "        while unvisited:\n",
    "            best_mine = None\n",
    "            best_score = float('-inf')\n",
    "            best_distance = None\n",
    "\n",
    "            for candidate in unvisited:\n",
    "                dist = geodesic(\n",
    "                    (visited[-1]['Lat'], visited[-1]['Lon']),\n",
    "                    (candidate['Lat'], candidate['Lon'])\n",
    "                ).km\n",
    "                if dist == 0:\n",
    "                    continue\n",
    "                score = candidate['Reserves'] / dist\n",
    "                if score > best_score:\n",
    "                    best_score = score\n",
    "                    best_mine = candidate\n",
    "                    best_distance = dist\n",
    "\n",
    "            if best_distance and total_distance + best_distance <= max_distance_per_cluster:\n",
    "                total_distance += best_distance\n",
    "                visited.append(best_mine)\n",
    "                unvisited = [u for u in unvisited if u['ID'] != best_mine['ID']]\n",
    "            else:\n",
    "                break\n",
    "\n",
    "            # If constraint satisfied, we can optionally stop early\n",
    "            if check_coverage(visited):\n",
    "                break\n",
    "\n",
    "        # Try adding backup mines just to fulfill constraints\n",
    "        if not check_coverage(visited):\n",
    "            for backup in sorted(unvisited, key=lambda x: -x['Reserves']):\n",
    "                dist = geodesic(\n",
    "                    (visited[-1]['Lat'], visited[-1]['Lon']),\n",
    "                    (backup['Lat'], backup['Lon'])\n",
    "                ).km\n",
    "                if total_distance + dist > max_distance_per_cluster:\n",
    "                    continue\n",
    "                visited.append(backup)\n",
    "                total_distance += dist\n",
    "                if check_coverage(visited):\n",
    "                    break\n",
    "\n",
    "        # Draw path\n",
    "        for i in range(len(visited) - 1):\n",
    "            node1 = visited[i]\n",
    "            node2 = visited[i + 1]\n",
    "            fig.add_trace(go.Scattergeo(\n",
    "                lon=[node1['Lon'], node2['Lon']],\n",
    "                lat=[node1['Lat'], node2['Lat']],\n",
    "                mode='lines',\n",
    "                line=dict(width=2, color='gray'),\n",
    "                showlegend=False\n",
    "            ))\n",
    "\n",
    "    fig.update_layout(\n",
    "        title=\"Constraint-Aware Resource Route: Covering Key Metals\",\n",
    "        margin=dict(l=5, r=5, t=30, b=30),\n",
    "        geo=dict(\n",
    "            scope='world',\n",
    "            showland=True,\n",
    "            landcolor='lightgray',\n",
    "            countrycolor='white',\n",
    "            lonaxis=dict(range=[simplified_df[\"Lon\"].min() - 10, simplified_df[\"Lon\"].max() + 10]),\n",
    "            lataxis=dict(range=[simplified_df[\"Lat\"].min() - 10, simplified_df[\"Lat\"].max() + 10])\n",
    "        ),\n",
    "        template=\"plotly_white\"\n",
    "    )\n",
    "\n",
    "    fig.show()\n"
   ]
  },
  {
   "cell_type": "code",
   "execution_count": 20,
   "metadata": {},
   "outputs": [
    {
     "data": {
      "application/vnd.plotly.v1+json": {
       "config": {
        "plotlyServerURL": "https://plot.ly"
       },
       "data": [
        {
         "customdata": [
          [
           73482,
           "Chrome-Puddy",
           "Nickel, Chromium, Copper, Cobalt, Platinum, Iron Ore, Palladium, Gold, Chromite",
           "Nickel"
          ],
          [
           4627,
           "Chrome-Puddy",
           "Nickel, Chromium, Copper, Cobalt, Platinum, Iron Ore, Palladium, Gold, Chromite",
           "Cobalt"
          ],
          [
           300000,
           "Eagle's Nest",
           "Nickel, Copper, Gold, Platinum, Palladium, Silver",
           "Nickel"
          ],
          [
           907,
           "Maude Lake",
           "Nickel, Copper, Cobalt, Platinum, Palladium, Gold, Silver",
           "Nickel"
          ],
          [
           70000,
           "Eagle",
           "Nickel, Copper, Gold, Platinum, Palladium, Cobalt, Silver",
           "Nickel"
          ],
          [
           783,
           "Norton",
           "Nickel, Copper, Cobalt, Platinum, Palladium",
           "Cobalt"
          ],
          [
           16577,
           "Norton",
           "Nickel, Copper, Cobalt, Platinum, Palladium",
           "Nickel"
          ]
         ],
         "hovertemplate": "<b>%{customdata[1]}</b><br>Latitude: %{lat}<br>Longitude: %{lon}<br>Commodities: %{customdata[2]}<br>Primary Commodity: %{customdata[3]}<br>Reserves: %{customdata[0]:,.0f} tonnes",
         "lat": {
          "bdata": "csRafAr8SEByxFp8CvxIQCx96IL6XkpAJjYf14ZySEByM9yAz19HQDpAMEeP80lAOkAwR4/zSUA=",
          "dtype": "f8"
         },
         "lon": {
          "bdata": "7DTSUnlhVsDsNNJSeWFWwJYhjnVxk1XAKNU+HY/TVcA1RuuoavhVwF6AfXTq2lXAXoB9dOraVcA=",
          "dtype": "f8"
         },
         "marker": {
          "size": 8,
          "symbol": "circle"
         },
         "mode": "markers+text",
         "name": "Cluster 0",
         "textposition": "bottom center",
         "type": "scattergeo"
        },
        {
         "lat": [
          52.74202,
          49.96907
         ],
         "line": {
          "color": "gray",
          "width": 2
         },
         "lon": [
          -86.3038,
          -89.52303
         ],
         "mode": "lines",
         "showlegend": false,
         "type": "scattergeo"
        },
        {
         "lat": [
          49.96907,
          46.74852
         ],
         "line": {
          "color": "gray",
          "width": 2
         },
         "lon": [
          -89.52303,
          -87.88151
         ],
         "mode": "lines",
         "showlegend": false,
         "type": "scattergeo"
        },
        {
         "lat": [
          46.74852,
          51.90281
         ],
         "line": {
          "color": "gray",
          "width": 2
         },
         "lon": [
          -87.88151,
          -87.42056
         ],
         "mode": "lines",
         "showlegend": false,
         "type": "scattergeo"
        },
        {
         "lat": [
          51.90281,
          48.89474
         ],
         "line": {
          "color": "gray",
          "width": 2
         },
         "lon": [
          -87.42056,
          -87.30561
         ],
         "mode": "lines",
         "showlegend": false,
         "type": "scattergeo"
        },
        {
         "customdata": [
          [
           5300,
           "Canalask",
           "Nickel, Copper, Platinum, Gold, Palladium",
           "Nickel"
          ],
          [
           13010,
           "Gochager Lake",
           "Cobalt, Copper, Nickel, Platinum, Palladium, Gold",
           "Nickel"
          ],
          [
           33000,
           "Old Nick",
           "Nickel, Cobalt",
           "Nickel"
          ],
          [
           1600,
           "Old Nick",
           "Nickel, Cobalt",
           "Cobalt"
          ],
          [
           143612,
           "Red Flat",
           "Nickel, Cobalt",
           "Nickel"
          ],
          [
           7575,
           "Nickel King",
           "Nickel, Copper, Cobalt",
           "Cobalt"
          ],
          [
           332483,
           "Cleopatra",
           "Nickel, Cobalt",
           "Nickel"
          ],
          [
           163338,
           "Nickel King",
           "Nickel, Copper, Cobalt",
           "Nickel"
          ],
          [
           350200,
           "Nunavik",
           "Nickel, Copper, Cobalt, Platinum, Palladium, Gold",
           "Nickel"
          ],
          [
           44000,
           "Raglan",
           "Nickel, Copper, Platinum, Palladium, Cobalt, Gold",
           "Nickel"
          ],
          [
           2233,
           "Raglan",
           "Nickel, Copper, Platinum, Palladium, Cobalt, Gold",
           "Cobalt"
          ],
          [
           18670,
           "Nunavik",
           "Nickel, Copper, Cobalt, Platinum, Palladium, Gold",
           "Cobalt"
          ],
          [
           74249,
           "Nico",
           "Cobalt, Gold, Bismuth, Copper",
           "Cobalt"
          ],
          [
           135488474,
           "Woodstock",
           "Manganese, Iron Ore",
           "Manganese"
          ],
          [
           15876,
           "Madison",
           "Cobalt, Copper, Nickel",
           "Cobalt"
          ],
          [
           23133,
           "Madison",
           "Cobalt, Copper, Nickel",
           "Nickel"
          ],
          [
           76611,
           "Hawk Ridge",
           "Nickel, Copper, Cobalt, Platinum, Palladium, Gold, Iron Ore",
           "Nickel"
          ],
          [
           4417,
           "Hawk Ridge",
           "Nickel, Copper, Cobalt, Platinum, Palladium, Gold, Iron Ore",
           "Cobalt"
          ],
          [
           46400,
           "Ferguson Lake",
           "Nickel, Copper, Palladium, Platinum, Cobalt, Diamonds, Iron Ore",
           "Cobalt"
          ],
          [
           394300,
           "Ferguson Lake",
           "Nickel, Copper, Palladium, Platinum, Cobalt, Diamonds, Iron Ore",
           "Nickel"
          ],
          [
           62860000,
           "Battery Hill",
           "Manganese, Iron Ore",
           "Manganese"
          ],
          [
           79469,
           "Nickel Shaw",
           "Nickel, Copper, Platinum, Palladium, Gold, Cobalt, Rhodium, Iridium, Ruthenium, Osmium, Magnesium",
           "Cobalt"
          ],
          [
           9268,
           "Iron Creek",
           "Cobalt, Copper, Gold",
           "Cobalt"
          ],
          [
           44390,
           "Voisey's Bay",
           "Nickel, Copper, Cobalt",
           "Cobalt"
          ],
          [
           1435029,
           "Nickel Shaw",
           "Nickel, Copper, Platinum, Palladium, Gold, Cobalt, Rhodium, Iridium, Ruthenium, Osmium, Magnesium",
           "Nickel"
          ],
          [
           345000,
           "Turnagain",
           "Nickel, Cobalt, Copper, Palladium, Platinum, Gold",
           "Cobalt"
          ],
          [
           718800,
           "Voisey's Bay",
           "Nickel, Copper, Cobalt",
           "Nickel"
          ],
          [
           5702000,
           "Turnagain",
           "Nickel, Cobalt, Copper, Palladium, Platinum, Gold",
           "Nickel"
          ],
          [
           4548000,
           "Decar",
           "Nickel, Iron Ore, Chromite, Cobalt, Copper",
           "Nickel"
          ],
          [
           285763,
           "Nikolai",
           "Nickel, Copper, Cobalt, Platinum, Palladium, Gold, Iron Ore, Chromite, Silver",
           "Cobalt"
          ],
          [
           3675002,
           "Nikolai",
           "Nickel, Copper, Cobalt, Platinum, Palladium, Gold, Iron Ore, Chromite, Silver",
           "Nickel"
          ]
         ],
         "hovertemplate": "<b>%{customdata[1]}</b><br>Latitude: %{lat}<br>Longitude: %{lon}<br>Commodities: %{customdata[2]}<br>Primary Commodity: %{customdata[3]}<br>Reserves: %{customdata[0]:,.0f} tonnes",
         "lat": {
          "bdata": "HQOy17v7TkAai6azk+FLQP5IERlWhUhA/kgRGVaFSECppE5AEy1FQLL0oQvqH05AqtTsgVYERUCy9KEL6h9OQKYpApzetU5A7dgIxOuyTkDt2AjE67JOQKYpApzetU5AZmZmZmbGT0DXo3A9ChdHQNklqrcGxkJA2SWqtwbGQkAAAAAAAIBNQAAAAAAAgE1A9DKK5ZZyT0D0MorllnJPQBu7RPXWHEdAHQOy17u7TkBI+Um1T3tGQGDq501FKkxAHQOy17u7TkA+lj50QT1NQGDq501FKkxAPpY+dEE9TUAtIR/0bHZLQMgkI2dho09AyCQjZ2GjT0A=",
          "dtype": "f8"
         },
         "lon": {
          "bdata": "AAAAAACQYcADlfHvMzxawPM8uDtrxV3A8zy4O2vFXcBlGeJYFxNfwM3pspjYIFrA34lZL4b6XsDN6bKY2CBawM3MzMzMiFLA+Db92Y++UsD4Nv3Zj75SwM3MzMzMiFLAC5jArbsvXcApXI/C9ehQwDmX4qqykVbAOZfiqrKRVsDCNAwfEWlRwMI0DB8RaVHAOIQqNXsuWMA4hCo1ey5YwESoUrMH6FDAOX8TChFxYcBIisiwiodcwICfceFADE/AOX8TChFxYcC2SrA4nBtgwICfceFADE/AtkqwOJwbYMB/+zpwzlZfwOWbbW5MSWLA5ZttbkxJYsA=",
          "dtype": "f8"
         },
         "marker": {
          "size": 8,
          "symbol": "circle"
         },
         "mode": "markers+text",
         "name": "Cluster -1",
         "textposition": "bottom center",
         "type": "scattergeo"
        },
        {
         "lat": [
          46.18,
          46.22531
         ],
         "line": {
          "color": "gray",
          "width": 2
         },
         "lon": [
          -67.64,
          -67.62547
         ],
         "mode": "lines",
         "showlegend": false,
         "type": "scattergeo"
        },
        {
         "lat": [
          46.22531,
          56.33024
         ],
         "line": {
          "color": "gray",
          "width": 2
         },
         "lon": [
          -67.62547,
          -62.09573
         ],
         "mode": "lines",
         "showlegend": false,
         "type": "scattergeo"
        },
        {
         "customdata": [
          [
           35561,
           "McBride",
           "Nickel, Cobalt, Copper, Gold, Silver, Platinum, Palladium",
           "Nickel"
          ],
          [
           2450,
           "McBride",
           "Nickel, Cobalt, Copper, Gold, Silver, Platinum, Palladium",
           "Cobalt"
          ],
          [
           72150,
           "Crean Hill 3",
           "Nickel, Copper",
           "Nickel"
          ],
          [
           5262,
           "Loveland",
           "Nickel, Cobalt, Copper, Palladium",
           "Nickel"
          ],
          [
           2699,
           "Renzy",
           "Nickel, Copper, Cobalt",
           "Nickel"
          ],
          [
           29000,
           "Texmont",
           "Nickel, Cobalt, Palladium, Platinum",
           "Nickel"
          ],
          [
           651,
           "Shining Tree",
           "Nickel, Copper, Cobalt, Platinum, Palladium",
           "Cobalt"
          ],
          [
           17200,
           "Shining Tree",
           "Nickel, Copper, Cobalt, Platinum, Palladium",
           "Nickel"
          ],
          [
           46000,
           "Lockerby East",
           "Nickel, Copper, Cobalt, Gold, Platinum, Palladium, Silver",
           "Nickel"
          ],
          [
           1060,
           "Lockerby East",
           "Nickel, Copper, Cobalt, Gold, Platinum, Palladium, Silver",
           "Cobalt"
          ],
          [
           42000,
           "Aurora",
           "Nickel",
           "Nickel"
          ],
          [
           229518,
           "Dumont",
           "Nickel, Cobalt, Platinum, Palladium, Iron Ore",
           "Cobalt"
          ],
          [
           5720702,
           "Dumont",
           "Nickel, Cobalt, Platinum, Palladium, Iron Ore",
           "Nickel"
          ],
          [
           68900,
           "Grasset",
           "Nickel, Copper, Cobalt, Platinum, Palladium, Gold, Zinc, Lead",
           "Nickel"
          ],
          [
           75750,
           "Shakespeare",
           "Nickel, Copper, Palladium, Platinum, Gold, Cobalt, Silver",
           "Nickel"
          ],
          [
           1463,
           "Grasset",
           "Nickel, Copper, Cobalt, Platinum, Palladium, Gold, Zinc, Lead",
           "Cobalt"
          ],
          [
           597,
           "McAra",
           "Cobalt, Copper, Silver, Zinc, Gold",
           "Cobalt"
          ],
          [
           4536,
           "Shakespeare",
           "Nickel, Copper, Palladium, Platinum, Gold, Cobalt, Silver",
           "Cobalt"
          ],
          [
           48500,
           "Ontario Division",
           "Nickel, Copper, Rhodium, Cobalt, Platinum, Palladium, Gold, Silver",
           "Cobalt"
          ],
          [
           45000,
           "Sudbury Operations",
           "Nickel, Copper, Cobalt, Platinum, Palladium, Rhodium, Gold, Silver",
           "Cobalt"
          ],
          [
           1773000,
           "Ontario Division",
           "Nickel, Copper, Rhodium, Cobalt, Platinum, Palladium, Gold, Silver",
           "Nickel"
          ],
          [
           59100,
           "Nisk",
           "Nickel, Cobalt, Copper, Palladium, Platinum, Gold, Silver, Lithium, Caesium, Tantalum",
           "Nickel"
          ],
          [
           108239,
           "Shaw Dome",
           "Nickel, Copper, Platinum, Palladium, Cobalt, Gold, Iron Ore",
           "Cobalt"
          ],
          [
           552200,
           "Crawford",
           "Nickel, Cobalt, Palladium, Platinum, Iron Ore, Chromium, Gold, Chromite",
           "Cobalt"
          ],
          [
           3700,
           "Nisk",
           "Nickel, Cobalt, Copper, Palladium, Platinum, Gold, Silver, Lithium, Caesium, Tantalum",
           "Cobalt"
          ],
          [
           2011000,
           "Sudbury Operations",
           "Nickel, Copper, Cobalt, Platinum, Palladium, Rhodium, Gold, Silver",
           "Nickel"
          ],
          [
           2435240,
           "Shaw Dome",
           "Nickel, Copper, Platinum, Palladium, Cobalt, Gold, Iron Ore",
           "Nickel"
          ],
          [
           9761600,
           "Crawford",
           "Nickel, Cobalt, Palladium, Platinum, Iron Ore, Chromium, Gold, Chromite",
           "Nickel"
          ],
          [
           283800,
           "Crean Hill",
           "Nickel, Copper, Platinum, Palladium, Cobalt, Gold",
           "Nickel"
          ],
          [
           1087200,
           "Deloro",
           "Nickel, Palladium, Platinum, Cobalt, Chromium, Iron Ore, Chromite",
           "Nickel"
          ],
          [
           54504,
           "Alexo-Dundonald",
           "Nickel, Copper, Cobalt, Gold, Platinum, Palladium",
           "Nickel"
          ],
          [
           46600,
           "Deloro",
           "Nickel, Palladium, Platinum, Cobalt, Chromium, Iron Ore, Chromite",
           "Cobalt"
          ],
          [
           9890,
           "Crean Hill",
           "Nickel, Copper, Platinum, Palladium, Cobalt, Gold",
           "Cobalt"
          ],
          [
           1449,
           "Alexo-Dundonald",
           "Nickel, Copper, Cobalt, Gold, Platinum, Palladium",
           "Cobalt"
          ]
         ],
         "hovertemplate": "<b>%{customdata[1]}</b><br>Latitude: %{lat}<br>Longitude: %{lon}<br>Commodities: %{customdata[2]}<br>Primary Commodity: %{customdata[3]}<br>Reserves: %{customdata[0]:,.0f} tonnes",
         "lat": {
          "bdata": "Ad4CCYpvRkAB3gIJim9GQJy/CYUIOEdA+HDJcadUSEB5QNmUK2hHQGlXIeUnFUhARpT2Bl/IR0BGlPYGX8hHQMgkI2dhN0dAyCQjZ2E3R0CcFrzoKyxIQDXSUnk7UkhANdJSeTtSSEA6kst/SAdJQBh9BWnGKkdAOpLLf0gHSUBegH106rJHQBh9BWnGKkdA9DehEAE/R0B9y5wui1FHQPQ3oRABP0dAfJv+7EfaSUDLoUW28yVIQLUV+8vuaUhAfJv+7EfaSUB9y5wui1FHQMuhRbbzJUhAtRX7y+5pSEAQzNHj9zZHQI+NQLyuM0hActwpHaxTSECPjUC8rjNIQBDM0eP3NkdActwpHaxTSEA=",
          "dtype": "f8"
         },
         "lon": {
          "bdata": "6lvmdFluU8DqW+Z0WW5TwEt2bATiU1TA2QjE6/pnVMDFG5lH/ixTwMI0DB8RTVTAOgZkr3dLVMA6BmSvd0tUwKFKzR5oU1TAoUrNHmhTVMAk1uJTAEBUwGMoJ9pVnFPAYygn2lWcU8BLWYY41qdTwExPWOIBd1TAS1mGONanU8CdS3FV2T1UwExPWOIBd1TA9Wc/UkREVMDL1voioVdUwPVnP1JERFTAyatzDMjmUsBslWBxOEFUwEinrnyWVVTAyatzDMjmUsDL1voioVdUwGyVYHE4QVTASKeufJZVVMCRYRVvZFZUwI2XbhKDUFTAkq6ZfLMzVMCNl24Sg1BUwJFhFW9kVlTAkq6ZfLMzVMA=",
          "dtype": "f8"
         },
         "marker": {
          "size": 8,
          "symbol": "circle"
         },
         "mode": "markers+text",
         "name": "Cluster 1",
         "textposition": "bottom center",
         "type": "scattergeo"
        },
        {
         "lat": [
          48.8276,
          48.2965
         ],
         "line": {
          "color": "gray",
          "width": 2
         },
         "lon": [
          -81.33731,
          -81.01907
         ],
         "mode": "lines",
         "showlegend": false,
         "type": "scattergeo"
        },
        {
         "lat": [
          48.2965,
          48.40377
         ],
         "line": {
          "color": "gray",
          "width": 2
         },
         "lon": [
          -81.01907,
          -81.258
         ],
         "mode": "lines",
         "showlegend": false,
         "type": "scattergeo"
        },
        {
         "lat": [
          48.40377,
          48.64244
         ],
         "line": {
          "color": "gray",
          "width": 2
         },
         "lon": [
          -81.258,
          -78.44274
         ],
         "mode": "lines",
         "showlegend": false,
         "type": "scattergeo"
        },
        {
         "lat": [
          48.64244,
          46.63706
         ],
         "line": {
          "color": "gray",
          "width": 2
         },
         "lon": [
          -78.44274,
          -81.36921
         ],
         "mode": "lines",
         "showlegend": false,
         "type": "scattergeo"
        },
        {
         "lat": [
          46.63706,
          46.49222
         ],
         "line": {
          "color": "gray",
          "width": 2
         },
         "lon": [
          -81.36921,
          -81.06667
         ],
         "mode": "lines",
         "showlegend": false,
         "type": "scattergeo"
        },
        {
         "lat": [
          46.49222,
          46.42944
         ],
         "line": {
          "color": "gray",
          "width": 2
         },
         "lon": [
          -81.06667,
          -81.34988
         ],
         "mode": "lines",
         "showlegend": false,
         "type": "scattergeo"
        },
        {
         "lat": [
          46.42944,
          46.43776
         ],
         "line": {
          "color": "gray",
          "width": 2
         },
         "lon": [
          -81.34988,
          -81.31067
         ],
         "mode": "lines",
         "showlegend": false,
         "type": "scattergeo"
        },
        {
         "lat": [
          46.43776,
          46.43266
         ],
         "line": {
          "color": "gray",
          "width": 2
         },
         "lon": [
          -81.31067,
          -81.30323
         ],
         "mode": "lines",
         "showlegend": false,
         "type": "scattergeo"
        },
        {
         "lat": [
          46.43266,
          46.33418
         ],
         "line": {
          "color": "gray",
          "width": 2
         },
         "lon": [
          -81.30323,
          -81.85949
         ],
         "mode": "lines",
         "showlegend": false,
         "type": "scattergeo"
        },
        {
         "lat": [
          46.33418,
          48.65369
         ],
         "line": {
          "color": "gray",
          "width": 2
         },
         "lon": [
          -81.85949,
          -80.80783
         ],
         "mode": "lines",
         "showlegend": false,
         "type": "scattergeo"
        },
        {
         "lat": [
          48.65369,
          48.34509
         ],
         "line": {
          "color": "gray",
          "width": 2
         },
         "lon": [
          -80.80783,
          -81.00002
         ],
         "mode": "lines",
         "showlegend": false,
         "type": "scattergeo"
        },
        {
         "lat": [
          48.34509,
          48.16528
         ],
         "line": {
          "color": "gray",
          "width": 2
         },
         "lon": [
          -81.00002,
          -81.20417
         ],
         "mode": "lines",
         "showlegend": false,
         "type": "scattergeo"
        },
        {
         "lat": [
          48.16528,
          47.5654
         ],
         "line": {
          "color": "gray",
          "width": 2
         },
         "lon": [
          -81.20417,
          -81.17918
         ],
         "mode": "lines",
         "showlegend": false,
         "type": "scattergeo"
        },
        {
         "lat": [
          47.5654,
          50.0569
         ],
         "line": {
          "color": "gray",
          "width": 2
         },
         "lon": [
          -81.17918,
          -78.62245
         ],
         "mode": "lines",
         "showlegend": false,
         "type": "scattergeo"
        },
        {
         "lat": [
          50.0569,
          51.70532
         ],
         "line": {
          "color": "gray",
          "width": 2
         },
         "lon": [
          -78.62245,
          -75.60596
         ],
         "mode": "lines",
         "showlegend": false,
         "type": "scattergeo"
        },
        {
         "customdata": [
          [
           18019,
           "Bird River",
           "Nickel, Copper, Zinc, Silver, Gold, Palladium, Platinum",
           "Nickel"
          ],
          [
           50194,
           "Bowden Lake",
           "Nickel, Copper, Platinum",
           "Nickel"
          ],
          [
           340,
           "Werner Lake",
           "Cobalt, Copper, Gold, Silver, Nickel",
           "Cobalt"
          ],
          [
           50439,
           "Rice Island",
           "Nickel, Copper, Cobalt, Platinum, Palladium, Gold",
           "Nickel"
          ],
          [
           116800,
           "Lynn Lake",
           "Nickel, Copper, Cobalt, Platinum, Zinc, Lead, Silver, Gold",
           "Nickel"
          ],
          [
           5300,
           "Lynn Lake",
           "Nickel, Copper, Cobalt, Platinum, Zinc, Lead, Silver, Gold",
           "Cobalt"
          ],
          [
           2646,
           "Rice Island",
           "Nickel, Copper, Cobalt, Platinum, Palladium, Gold",
           "Cobalt"
          ],
          [
           48398,
           "Kenbridge",
           "Nickel, Copper, Cobalt, Silver, Gold, Platinum",
           "Nickel"
          ],
          [
           217724,
           "Tamarack",
           "Nickel, Copper, Cobalt, Platinum, Palladium, Gold",
           "Nickel"
          ],
          [
           5974,
           "Tamarack",
           "Nickel, Copper, Cobalt, Platinum, Palladium, Gold",
           "Cobalt"
          ],
          [
           70000,
           "Nickel Island",
           "Nickel, Copper, Cobalt, Platinum, Palladium",
           "Nickel"
          ],
          [
           544,
           "Kenbridge",
           "Nickel, Copper, Cobalt, Silver, Gold, Platinum",
           "Cobalt"
          ],
          [
           6000,
           "Eagle Claims",
           "Lithium, Copper, Nickel",
           "Nickel"
          ],
          [
           125161,
           "Makwa Mayville",
           "Nickel, Copper, Gold, Platinum, Palladium, Cobalt, Chromite, Lithium, Caesium, Tantalum, Rubidium",
           "Nickel"
          ],
          [
           510000,
           "Manitoba Division",
           "Nickel, Copper, Cobalt, Gold, Silver, Palladium",
           "Nickel"
          ],
          [
           8000,
           "Manitoba Division",
           "Nickel, Copper, Cobalt, Gold, Silver, Palladium",
           "Cobalt"
          ],
          [
           6224,
           "Makwa Mayville",
           "Nickel, Copper, Gold, Platinum, Palladium, Cobalt, Chromite, Lithium, Caesium, Tantalum, Rubidium",
           "Cobalt"
          ],
          [
           11149000,
           "Emily",
           "Manganese, Iron Ore, Silica, Aluminum, Cobalt, Magnesium, Tin, Strontium, Titanium",
           "Manganese"
          ],
          [
           391885,
           "Minago",
           "Nickel, Copper, Cobalt, Palladium, Frac Sand, Gold, Platinum, Silver, Rhodium",
           "Nickel"
          ]
         ],
         "hovertemplate": "<b>%{customdata[1]}</b><br>Latitude: %{lat}<br>Longitude: %{lon}<br>Commodities: %{customdata[2]}<br>Primary Commodity: %{customdata[3]}<br>Reserves: %{customdata[0]:,.0f} tonnes",
         "lat": {
          "bdata": "73IR34k9SUATYcPTK3VLQKsJou4DPElABOeMKO1pS0AijnVxG2lMQCKOdXEbaUxABOeMKO1pS0DSqSuf5b1IQBLCo40jVkdAEsKjjSNWR0BWn6ut2PdKQNKpK5/lvUhAEvdY+tBNSUCqglFJnVBJQLSOqiaI2ktAtI6qJojaS0CqglFJnVBJQKOvIM1YYEdAJvxSP28OS0A=",
          "dtype": "f8"
         },
         "lon": {
          "bdata": "DYl7LH3gV8D/5zBfXqpYwAa7YduivlfAxF+TNer7WMC8rl+wG0JZwLyuX7AbQlnAxF+TNer7WMBbsb/snmhXwG+70FynR1fAb7vQXKdHV8BhiQeUTbFXwFuxv+yeaFfA/tR46SbfV8CU+x2KAudXwH41BwjmeFjAfjUHCOZ4WMCU+x2KAudXwA1slWBxflfAH2gFhqzKWMA=",
          "dtype": "f8"
         },
         "marker": {
          "size": 8,
          "symbol": "circle"
         },
         "mode": "markers+text",
         "name": "Cluster 2",
         "textposition": "bottom center",
         "type": "scattergeo"
        },
        {
         "lat": [
          46.75271,
          46.67296
         ],
         "line": {
          "color": "gray",
          "width": 2
         },
         "lon": [
          -93.97567,
          -93.11959
         ],
         "mode": "lines",
         "showlegend": false,
         "type": "scattergeo"
        }
       ],
       "layout": {
        "geo": {
         "countrycolor": "white",
         "landcolor": "lightgray",
         "lataxis": {
          "range": [
           27.54708,
           73.55
          ]
         },
         "lonaxis": {
          "range": [
           -156.29058,
           -52.09573
          ]
         },
         "scope": "world",
         "showland": true
        },
        "margin": {
         "b": 30,
         "l": 5,
         "r": 5,
         "t": 30
        },
        "template": {
         "data": {
          "bar": [
           {
            "error_x": {
             "color": "#2a3f5f"
            },
            "error_y": {
             "color": "#2a3f5f"
            },
            "marker": {
             "line": {
              "color": "white",
              "width": 0.5
             },
             "pattern": {
              "fillmode": "overlay",
              "size": 10,
              "solidity": 0.2
             }
            },
            "type": "bar"
           }
          ],
          "barpolar": [
           {
            "marker": {
             "line": {
              "color": "white",
              "width": 0.5
             },
             "pattern": {
              "fillmode": "overlay",
              "size": 10,
              "solidity": 0.2
             }
            },
            "type": "barpolar"
           }
          ],
          "carpet": [
           {
            "aaxis": {
             "endlinecolor": "#2a3f5f",
             "gridcolor": "#C8D4E3",
             "linecolor": "#C8D4E3",
             "minorgridcolor": "#C8D4E3",
             "startlinecolor": "#2a3f5f"
            },
            "baxis": {
             "endlinecolor": "#2a3f5f",
             "gridcolor": "#C8D4E3",
             "linecolor": "#C8D4E3",
             "minorgridcolor": "#C8D4E3",
             "startlinecolor": "#2a3f5f"
            },
            "type": "carpet"
           }
          ],
          "choropleth": [
           {
            "colorbar": {
             "outlinewidth": 0,
             "ticks": ""
            },
            "type": "choropleth"
           }
          ],
          "contour": [
           {
            "colorbar": {
             "outlinewidth": 0,
             "ticks": ""
            },
            "colorscale": [
             [
              0,
              "#0d0887"
             ],
             [
              0.1111111111111111,
              "#46039f"
             ],
             [
              0.2222222222222222,
              "#7201a8"
             ],
             [
              0.3333333333333333,
              "#9c179e"
             ],
             [
              0.4444444444444444,
              "#bd3786"
             ],
             [
              0.5555555555555556,
              "#d8576b"
             ],
             [
              0.6666666666666666,
              "#ed7953"
             ],
             [
              0.7777777777777778,
              "#fb9f3a"
             ],
             [
              0.8888888888888888,
              "#fdca26"
             ],
             [
              1,
              "#f0f921"
             ]
            ],
            "type": "contour"
           }
          ],
          "contourcarpet": [
           {
            "colorbar": {
             "outlinewidth": 0,
             "ticks": ""
            },
            "type": "contourcarpet"
           }
          ],
          "heatmap": [
           {
            "colorbar": {
             "outlinewidth": 0,
             "ticks": ""
            },
            "colorscale": [
             [
              0,
              "#0d0887"
             ],
             [
              0.1111111111111111,
              "#46039f"
             ],
             [
              0.2222222222222222,
              "#7201a8"
             ],
             [
              0.3333333333333333,
              "#9c179e"
             ],
             [
              0.4444444444444444,
              "#bd3786"
             ],
             [
              0.5555555555555556,
              "#d8576b"
             ],
             [
              0.6666666666666666,
              "#ed7953"
             ],
             [
              0.7777777777777778,
              "#fb9f3a"
             ],
             [
              0.8888888888888888,
              "#fdca26"
             ],
             [
              1,
              "#f0f921"
             ]
            ],
            "type": "heatmap"
           }
          ],
          "histogram": [
           {
            "marker": {
             "pattern": {
              "fillmode": "overlay",
              "size": 10,
              "solidity": 0.2
             }
            },
            "type": "histogram"
           }
          ],
          "histogram2d": [
           {
            "colorbar": {
             "outlinewidth": 0,
             "ticks": ""
            },
            "colorscale": [
             [
              0,
              "#0d0887"
             ],
             [
              0.1111111111111111,
              "#46039f"
             ],
             [
              0.2222222222222222,
              "#7201a8"
             ],
             [
              0.3333333333333333,
              "#9c179e"
             ],
             [
              0.4444444444444444,
              "#bd3786"
             ],
             [
              0.5555555555555556,
              "#d8576b"
             ],
             [
              0.6666666666666666,
              "#ed7953"
             ],
             [
              0.7777777777777778,
              "#fb9f3a"
             ],
             [
              0.8888888888888888,
              "#fdca26"
             ],
             [
              1,
              "#f0f921"
             ]
            ],
            "type": "histogram2d"
           }
          ],
          "histogram2dcontour": [
           {
            "colorbar": {
             "outlinewidth": 0,
             "ticks": ""
            },
            "colorscale": [
             [
              0,
              "#0d0887"
             ],
             [
              0.1111111111111111,
              "#46039f"
             ],
             [
              0.2222222222222222,
              "#7201a8"
             ],
             [
              0.3333333333333333,
              "#9c179e"
             ],
             [
              0.4444444444444444,
              "#bd3786"
             ],
             [
              0.5555555555555556,
              "#d8576b"
             ],
             [
              0.6666666666666666,
              "#ed7953"
             ],
             [
              0.7777777777777778,
              "#fb9f3a"
             ],
             [
              0.8888888888888888,
              "#fdca26"
             ],
             [
              1,
              "#f0f921"
             ]
            ],
            "type": "histogram2dcontour"
           }
          ],
          "mesh3d": [
           {
            "colorbar": {
             "outlinewidth": 0,
             "ticks": ""
            },
            "type": "mesh3d"
           }
          ],
          "parcoords": [
           {
            "line": {
             "colorbar": {
              "outlinewidth": 0,
              "ticks": ""
             }
            },
            "type": "parcoords"
           }
          ],
          "pie": [
           {
            "automargin": true,
            "type": "pie"
           }
          ],
          "scatter": [
           {
            "fillpattern": {
             "fillmode": "overlay",
             "size": 10,
             "solidity": 0.2
            },
            "type": "scatter"
           }
          ],
          "scatter3d": [
           {
            "line": {
             "colorbar": {
              "outlinewidth": 0,
              "ticks": ""
             }
            },
            "marker": {
             "colorbar": {
              "outlinewidth": 0,
              "ticks": ""
             }
            },
            "type": "scatter3d"
           }
          ],
          "scattercarpet": [
           {
            "marker": {
             "colorbar": {
              "outlinewidth": 0,
              "ticks": ""
             }
            },
            "type": "scattercarpet"
           }
          ],
          "scattergeo": [
           {
            "marker": {
             "colorbar": {
              "outlinewidth": 0,
              "ticks": ""
             }
            },
            "type": "scattergeo"
           }
          ],
          "scattergl": [
           {
            "marker": {
             "colorbar": {
              "outlinewidth": 0,
              "ticks": ""
             }
            },
            "type": "scattergl"
           }
          ],
          "scattermap": [
           {
            "marker": {
             "colorbar": {
              "outlinewidth": 0,
              "ticks": ""
             }
            },
            "type": "scattermap"
           }
          ],
          "scattermapbox": [
           {
            "marker": {
             "colorbar": {
              "outlinewidth": 0,
              "ticks": ""
             }
            },
            "type": "scattermapbox"
           }
          ],
          "scatterpolar": [
           {
            "marker": {
             "colorbar": {
              "outlinewidth": 0,
              "ticks": ""
             }
            },
            "type": "scatterpolar"
           }
          ],
          "scatterpolargl": [
           {
            "marker": {
             "colorbar": {
              "outlinewidth": 0,
              "ticks": ""
             }
            },
            "type": "scatterpolargl"
           }
          ],
          "scatterternary": [
           {
            "marker": {
             "colorbar": {
              "outlinewidth": 0,
              "ticks": ""
             }
            },
            "type": "scatterternary"
           }
          ],
          "surface": [
           {
            "colorbar": {
             "outlinewidth": 0,
             "ticks": ""
            },
            "colorscale": [
             [
              0,
              "#0d0887"
             ],
             [
              0.1111111111111111,
              "#46039f"
             ],
             [
              0.2222222222222222,
              "#7201a8"
             ],
             [
              0.3333333333333333,
              "#9c179e"
             ],
             [
              0.4444444444444444,
              "#bd3786"
             ],
             [
              0.5555555555555556,
              "#d8576b"
             ],
             [
              0.6666666666666666,
              "#ed7953"
             ],
             [
              0.7777777777777778,
              "#fb9f3a"
             ],
             [
              0.8888888888888888,
              "#fdca26"
             ],
             [
              1,
              "#f0f921"
             ]
            ],
            "type": "surface"
           }
          ],
          "table": [
           {
            "cells": {
             "fill": {
              "color": "#EBF0F8"
             },
             "line": {
              "color": "white"
             }
            },
            "header": {
             "fill": {
              "color": "#C8D4E3"
             },
             "line": {
              "color": "white"
             }
            },
            "type": "table"
           }
          ]
         },
         "layout": {
          "annotationdefaults": {
           "arrowcolor": "#2a3f5f",
           "arrowhead": 0,
           "arrowwidth": 1
          },
          "autotypenumbers": "strict",
          "coloraxis": {
           "colorbar": {
            "outlinewidth": 0,
            "ticks": ""
           }
          },
          "colorscale": {
           "diverging": [
            [
             0,
             "#8e0152"
            ],
            [
             0.1,
             "#c51b7d"
            ],
            [
             0.2,
             "#de77ae"
            ],
            [
             0.3,
             "#f1b6da"
            ],
            [
             0.4,
             "#fde0ef"
            ],
            [
             0.5,
             "#f7f7f7"
            ],
            [
             0.6,
             "#e6f5d0"
            ],
            [
             0.7,
             "#b8e186"
            ],
            [
             0.8,
             "#7fbc41"
            ],
            [
             0.9,
             "#4d9221"
            ],
            [
             1,
             "#276419"
            ]
           ],
           "sequential": [
            [
             0,
             "#0d0887"
            ],
            [
             0.1111111111111111,
             "#46039f"
            ],
            [
             0.2222222222222222,
             "#7201a8"
            ],
            [
             0.3333333333333333,
             "#9c179e"
            ],
            [
             0.4444444444444444,
             "#bd3786"
            ],
            [
             0.5555555555555556,
             "#d8576b"
            ],
            [
             0.6666666666666666,
             "#ed7953"
            ],
            [
             0.7777777777777778,
             "#fb9f3a"
            ],
            [
             0.8888888888888888,
             "#fdca26"
            ],
            [
             1,
             "#f0f921"
            ]
           ],
           "sequentialminus": [
            [
             0,
             "#0d0887"
            ],
            [
             0.1111111111111111,
             "#46039f"
            ],
            [
             0.2222222222222222,
             "#7201a8"
            ],
            [
             0.3333333333333333,
             "#9c179e"
            ],
            [
             0.4444444444444444,
             "#bd3786"
            ],
            [
             0.5555555555555556,
             "#d8576b"
            ],
            [
             0.6666666666666666,
             "#ed7953"
            ],
            [
             0.7777777777777778,
             "#fb9f3a"
            ],
            [
             0.8888888888888888,
             "#fdca26"
            ],
            [
             1,
             "#f0f921"
            ]
           ]
          },
          "colorway": [
           "#636efa",
           "#EF553B",
           "#00cc96",
           "#ab63fa",
           "#FFA15A",
           "#19d3f3",
           "#FF6692",
           "#B6E880",
           "#FF97FF",
           "#FECB52"
          ],
          "font": {
           "color": "#2a3f5f"
          },
          "geo": {
           "bgcolor": "white",
           "lakecolor": "white",
           "landcolor": "white",
           "showlakes": true,
           "showland": true,
           "subunitcolor": "#C8D4E3"
          },
          "hoverlabel": {
           "align": "left"
          },
          "hovermode": "closest",
          "mapbox": {
           "style": "light"
          },
          "paper_bgcolor": "white",
          "plot_bgcolor": "white",
          "polar": {
           "angularaxis": {
            "gridcolor": "#EBF0F8",
            "linecolor": "#EBF0F8",
            "ticks": ""
           },
           "bgcolor": "white",
           "radialaxis": {
            "gridcolor": "#EBF0F8",
            "linecolor": "#EBF0F8",
            "ticks": ""
           }
          },
          "scene": {
           "xaxis": {
            "backgroundcolor": "white",
            "gridcolor": "#DFE8F3",
            "gridwidth": 2,
            "linecolor": "#EBF0F8",
            "showbackground": true,
            "ticks": "",
            "zerolinecolor": "#EBF0F8"
           },
           "yaxis": {
            "backgroundcolor": "white",
            "gridcolor": "#DFE8F3",
            "gridwidth": 2,
            "linecolor": "#EBF0F8",
            "showbackground": true,
            "ticks": "",
            "zerolinecolor": "#EBF0F8"
           },
           "zaxis": {
            "backgroundcolor": "white",
            "gridcolor": "#DFE8F3",
            "gridwidth": 2,
            "linecolor": "#EBF0F8",
            "showbackground": true,
            "ticks": "",
            "zerolinecolor": "#EBF0F8"
           }
          },
          "shapedefaults": {
           "line": {
            "color": "#2a3f5f"
           }
          },
          "ternary": {
           "aaxis": {
            "gridcolor": "#DFE8F3",
            "linecolor": "#A2B1C6",
            "ticks": ""
           },
           "baxis": {
            "gridcolor": "#DFE8F3",
            "linecolor": "#A2B1C6",
            "ticks": ""
           },
           "bgcolor": "white",
           "caxis": {
            "gridcolor": "#DFE8F3",
            "linecolor": "#A2B1C6",
            "ticks": ""
           }
          },
          "title": {
           "x": 0.05
          },
          "xaxis": {
           "automargin": true,
           "gridcolor": "#EBF0F8",
           "linecolor": "#EBF0F8",
           "ticks": "",
           "title": {
            "standoff": 15
           },
           "zerolinecolor": "#EBF0F8",
           "zerolinewidth": 2
          },
          "yaxis": {
           "automargin": true,
           "gridcolor": "#EBF0F8",
           "linecolor": "#EBF0F8",
           "ticks": "",
           "title": {
            "standoff": 15
           },
           "zerolinecolor": "#EBF0F8",
           "zerolinewidth": 2
          }
         }
        },
        "title": {
         "text": "Constraint-Aware Resource Route: Covering Key Metals"
        }
       }
      }
     },
     "metadata": {},
     "output_type": "display_data"
    }
   ],
   "source": [
    "build(usca)"
   ]
  }
 ],
 "metadata": {
  "kernelspec": {
   "display_name": "venv",
   "language": "python",
   "name": "python3"
  },
  "language_info": {
   "codemirror_mode": {
    "name": "ipython",
    "version": 3
   },
   "file_extension": ".py",
   "mimetype": "text/x-python",
   "name": "python",
   "nbconvert_exporter": "python",
   "pygments_lexer": "ipython3",
   "version": "3.12.4"
  }
 },
 "nbformat": 4,
 "nbformat_minor": 2
}
